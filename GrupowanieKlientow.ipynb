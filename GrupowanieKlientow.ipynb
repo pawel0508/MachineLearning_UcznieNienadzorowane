{
  "nbformat": 4,
  "nbformat_minor": 0,
  "metadata": {
    "colab": {
      "name": "Untitled44.ipynb",
      "provenance": [],
      "authorship_tag": "ABX9TyPBIMUlbqJHovkONPcQOX50",
      "include_colab_link": true
    },
    "kernelspec": {
      "name": "python3",
      "display_name": "Python 3"
    }
  },
  "cells": [
    {
      "cell_type": "markdown",
      "metadata": {
        "id": "view-in-github",
        "colab_type": "text"
      },
      "source": [
        "<a href=\"https://colab.research.google.com/github/pawel0508/MachineLearning_UcznieNienadzorowane/blob/main/GrupowanieKlientow.ipynb\" target=\"_parent\"><img src=\"https://colab.research.google.com/assets/colab-badge.svg\" alt=\"Open In Colab\"/></a>"
      ]
    },
    {
      "cell_type": "markdown",
      "metadata": {
        "id": "jF-9NyR-kl6t"
      },
      "source": [
        "Case Study - Segmentacja klientów"
      ]
    },
    {
      "cell_type": "code",
      "metadata": {
        "id": "4ST45EeakWwF"
      },
      "source": [
        "import numpy as np\n",
        "import pandas as pd\n",
        "import plotly.express as px\n",
        "import plotly.graph_objects as go\n",
        "\n"
      ],
      "execution_count": 1,
      "outputs": []
    },
    {
      "cell_type": "markdown",
      "metadata": {
        "id": "NfpacHUakWe-"
      },
      "source": [
        ""
      ]
    },
    {
      "cell_type": "code",
      "metadata": {
        "id": "Is9x-sLSkV16"
      },
      "source": [
        "url = 'https://storage.googleapis.com/esmartdata-courses-files/ml-course/OnlineRetail.csv'\n",
        "raw_data = pd.read_csv(url, encoding='latin', parse_dates=['InvoiceDate'])"
      ],
      "execution_count": 67,
      "outputs": []
    },
    {
      "cell_type": "code",
      "metadata": {
        "id": "NolyLWGLmRVF"
      },
      "source": [
        "data = raw_data.copy()"
      ],
      "execution_count": 68,
      "outputs": []
    },
    {
      "cell_type": "code",
      "metadata": {
        "id": "QCqcfoTpnUMs",
        "outputId": "8f0a1a40-0c97-48b3-ef4c-7a1ca9b949be",
        "colab": {
          "base_uri": "https://localhost:8080/",
          "height": 195
        }
      },
      "source": [
        "data.head()"
      ],
      "execution_count": 69,
      "outputs": [
        {
          "output_type": "execute_result",
          "data": {
            "text/html": [
              "<div>\n",
              "<style scoped>\n",
              "    .dataframe tbody tr th:only-of-type {\n",
              "        vertical-align: middle;\n",
              "    }\n",
              "\n",
              "    .dataframe tbody tr th {\n",
              "        vertical-align: top;\n",
              "    }\n",
              "\n",
              "    .dataframe thead th {\n",
              "        text-align: right;\n",
              "    }\n",
              "</style>\n",
              "<table border=\"1\" class=\"dataframe\">\n",
              "  <thead>\n",
              "    <tr style=\"text-align: right;\">\n",
              "      <th></th>\n",
              "      <th>InvoiceNo</th>\n",
              "      <th>StockCode</th>\n",
              "      <th>Description</th>\n",
              "      <th>Quantity</th>\n",
              "      <th>InvoiceDate</th>\n",
              "      <th>UnitPrice</th>\n",
              "      <th>CustomerID</th>\n",
              "      <th>Country</th>\n",
              "    </tr>\n",
              "  </thead>\n",
              "  <tbody>\n",
              "    <tr>\n",
              "      <th>0</th>\n",
              "      <td>536365</td>\n",
              "      <td>85123A</td>\n",
              "      <td>WHITE HANGING HEART T-LIGHT HOLDER</td>\n",
              "      <td>6</td>\n",
              "      <td>2010-12-01 08:26:00</td>\n",
              "      <td>2.55</td>\n",
              "      <td>17850.0</td>\n",
              "      <td>United Kingdom</td>\n",
              "    </tr>\n",
              "    <tr>\n",
              "      <th>1</th>\n",
              "      <td>536365</td>\n",
              "      <td>71053</td>\n",
              "      <td>WHITE METAL LANTERN</td>\n",
              "      <td>6</td>\n",
              "      <td>2010-12-01 08:26:00</td>\n",
              "      <td>3.39</td>\n",
              "      <td>17850.0</td>\n",
              "      <td>United Kingdom</td>\n",
              "    </tr>\n",
              "    <tr>\n",
              "      <th>2</th>\n",
              "      <td>536365</td>\n",
              "      <td>84406B</td>\n",
              "      <td>CREAM CUPID HEARTS COAT HANGER</td>\n",
              "      <td>8</td>\n",
              "      <td>2010-12-01 08:26:00</td>\n",
              "      <td>2.75</td>\n",
              "      <td>17850.0</td>\n",
              "      <td>United Kingdom</td>\n",
              "    </tr>\n",
              "    <tr>\n",
              "      <th>3</th>\n",
              "      <td>536365</td>\n",
              "      <td>84029G</td>\n",
              "      <td>KNITTED UNION FLAG HOT WATER BOTTLE</td>\n",
              "      <td>6</td>\n",
              "      <td>2010-12-01 08:26:00</td>\n",
              "      <td>3.39</td>\n",
              "      <td>17850.0</td>\n",
              "      <td>United Kingdom</td>\n",
              "    </tr>\n",
              "    <tr>\n",
              "      <th>4</th>\n",
              "      <td>536365</td>\n",
              "      <td>84029E</td>\n",
              "      <td>RED WOOLLY HOTTIE WHITE HEART.</td>\n",
              "      <td>6</td>\n",
              "      <td>2010-12-01 08:26:00</td>\n",
              "      <td>3.39</td>\n",
              "      <td>17850.0</td>\n",
              "      <td>United Kingdom</td>\n",
              "    </tr>\n",
              "  </tbody>\n",
              "</table>\n",
              "</div>"
            ],
            "text/plain": [
              "  InvoiceNo StockCode  ... CustomerID         Country\n",
              "0    536365    85123A  ...    17850.0  United Kingdom\n",
              "1    536365     71053  ...    17850.0  United Kingdom\n",
              "2    536365    84406B  ...    17850.0  United Kingdom\n",
              "3    536365    84029G  ...    17850.0  United Kingdom\n",
              "4    536365    84029E  ...    17850.0  United Kingdom\n",
              "\n",
              "[5 rows x 8 columns]"
            ]
          },
          "metadata": {
            "tags": []
          },
          "execution_count": 69
        }
      ]
    },
    {
      "cell_type": "code",
      "metadata": {
        "id": "clTfOeT0nVTM",
        "outputId": "9e83d42e-6c11-49e0-91f0-5a3bdcbd266a",
        "colab": {
          "base_uri": "https://localhost:8080/",
          "height": 269
        }
      },
      "source": [
        "data.info()\n"
      ],
      "execution_count": 70,
      "outputs": [
        {
          "output_type": "stream",
          "text": [
            "<class 'pandas.core.frame.DataFrame'>\n",
            "RangeIndex: 541909 entries, 0 to 541908\n",
            "Data columns (total 8 columns):\n",
            " #   Column       Non-Null Count   Dtype         \n",
            "---  ------       --------------   -----         \n",
            " 0   InvoiceNo    541909 non-null  object        \n",
            " 1   StockCode    541909 non-null  object        \n",
            " 2   Description  540455 non-null  object        \n",
            " 3   Quantity     541909 non-null  int64         \n",
            " 4   InvoiceDate  541909 non-null  datetime64[ns]\n",
            " 5   UnitPrice    541909 non-null  float64       \n",
            " 6   CustomerID   406829 non-null  float64       \n",
            " 7   Country      541909 non-null  object        \n",
            "dtypes: datetime64[ns](1), float64(2), int64(1), object(4)\n",
            "memory usage: 33.1+ MB\n"
          ],
          "name": "stdout"
        }
      ]
    },
    {
      "cell_type": "code",
      "metadata": {
        "id": "FKx1fmkenYdk",
        "outputId": "0bb37a03-711e-48a2-8f9b-516f99241216",
        "colab": {
          "base_uri": "https://localhost:8080/",
          "height": 284
        }
      },
      "source": [
        "data.describe()"
      ],
      "execution_count": 71,
      "outputs": [
        {
          "output_type": "execute_result",
          "data": {
            "text/html": [
              "<div>\n",
              "<style scoped>\n",
              "    .dataframe tbody tr th:only-of-type {\n",
              "        vertical-align: middle;\n",
              "    }\n",
              "\n",
              "    .dataframe tbody tr th {\n",
              "        vertical-align: top;\n",
              "    }\n",
              "\n",
              "    .dataframe thead th {\n",
              "        text-align: right;\n",
              "    }\n",
              "</style>\n",
              "<table border=\"1\" class=\"dataframe\">\n",
              "  <thead>\n",
              "    <tr style=\"text-align: right;\">\n",
              "      <th></th>\n",
              "      <th>Quantity</th>\n",
              "      <th>UnitPrice</th>\n",
              "      <th>CustomerID</th>\n",
              "    </tr>\n",
              "  </thead>\n",
              "  <tbody>\n",
              "    <tr>\n",
              "      <th>count</th>\n",
              "      <td>541909.000000</td>\n",
              "      <td>541909.000000</td>\n",
              "      <td>406829.000000</td>\n",
              "    </tr>\n",
              "    <tr>\n",
              "      <th>mean</th>\n",
              "      <td>9.552250</td>\n",
              "      <td>4.611114</td>\n",
              "      <td>15287.690570</td>\n",
              "    </tr>\n",
              "    <tr>\n",
              "      <th>std</th>\n",
              "      <td>218.081158</td>\n",
              "      <td>96.759853</td>\n",
              "      <td>1713.600303</td>\n",
              "    </tr>\n",
              "    <tr>\n",
              "      <th>min</th>\n",
              "      <td>-80995.000000</td>\n",
              "      <td>-11062.060000</td>\n",
              "      <td>12346.000000</td>\n",
              "    </tr>\n",
              "    <tr>\n",
              "      <th>25%</th>\n",
              "      <td>1.000000</td>\n",
              "      <td>1.250000</td>\n",
              "      <td>13953.000000</td>\n",
              "    </tr>\n",
              "    <tr>\n",
              "      <th>50%</th>\n",
              "      <td>3.000000</td>\n",
              "      <td>2.080000</td>\n",
              "      <td>15152.000000</td>\n",
              "    </tr>\n",
              "    <tr>\n",
              "      <th>75%</th>\n",
              "      <td>10.000000</td>\n",
              "      <td>4.130000</td>\n",
              "      <td>16791.000000</td>\n",
              "    </tr>\n",
              "    <tr>\n",
              "      <th>max</th>\n",
              "      <td>80995.000000</td>\n",
              "      <td>38970.000000</td>\n",
              "      <td>18287.000000</td>\n",
              "    </tr>\n",
              "  </tbody>\n",
              "</table>\n",
              "</div>"
            ],
            "text/plain": [
              "            Quantity      UnitPrice     CustomerID\n",
              "count  541909.000000  541909.000000  406829.000000\n",
              "mean        9.552250       4.611114   15287.690570\n",
              "std       218.081158      96.759853    1713.600303\n",
              "min    -80995.000000  -11062.060000   12346.000000\n",
              "25%         1.000000       1.250000   13953.000000\n",
              "50%         3.000000       2.080000   15152.000000\n",
              "75%        10.000000       4.130000   16791.000000\n",
              "max     80995.000000   38970.000000   18287.000000"
            ]
          },
          "metadata": {
            "tags": []
          },
          "execution_count": 71
        }
      ]
    },
    {
      "cell_type": "code",
      "metadata": {
        "id": "63T0cUJEna3b",
        "outputId": "42517b16-8c84-4fed-baeb-0a9433d19c7c",
        "colab": {
          "base_uri": "https://localhost:8080/",
          "height": 166
        }
      },
      "source": [
        "data.describe( include = ['object'])"
      ],
      "execution_count": 72,
      "outputs": [
        {
          "output_type": "execute_result",
          "data": {
            "text/html": [
              "<div>\n",
              "<style scoped>\n",
              "    .dataframe tbody tr th:only-of-type {\n",
              "        vertical-align: middle;\n",
              "    }\n",
              "\n",
              "    .dataframe tbody tr th {\n",
              "        vertical-align: top;\n",
              "    }\n",
              "\n",
              "    .dataframe thead th {\n",
              "        text-align: right;\n",
              "    }\n",
              "</style>\n",
              "<table border=\"1\" class=\"dataframe\">\n",
              "  <thead>\n",
              "    <tr style=\"text-align: right;\">\n",
              "      <th></th>\n",
              "      <th>InvoiceNo</th>\n",
              "      <th>StockCode</th>\n",
              "      <th>Description</th>\n",
              "      <th>Country</th>\n",
              "    </tr>\n",
              "  </thead>\n",
              "  <tbody>\n",
              "    <tr>\n",
              "      <th>count</th>\n",
              "      <td>541909</td>\n",
              "      <td>541909</td>\n",
              "      <td>540455</td>\n",
              "      <td>541909</td>\n",
              "    </tr>\n",
              "    <tr>\n",
              "      <th>unique</th>\n",
              "      <td>25900</td>\n",
              "      <td>4070</td>\n",
              "      <td>4223</td>\n",
              "      <td>38</td>\n",
              "    </tr>\n",
              "    <tr>\n",
              "      <th>top</th>\n",
              "      <td>573585</td>\n",
              "      <td>85123A</td>\n",
              "      <td>WHITE HANGING HEART T-LIGHT HOLDER</td>\n",
              "      <td>United Kingdom</td>\n",
              "    </tr>\n",
              "    <tr>\n",
              "      <th>freq</th>\n",
              "      <td>1114</td>\n",
              "      <td>2313</td>\n",
              "      <td>2369</td>\n",
              "      <td>495478</td>\n",
              "    </tr>\n",
              "  </tbody>\n",
              "</table>\n",
              "</div>"
            ],
            "text/plain": [
              "       InvoiceNo StockCode                         Description         Country\n",
              "count     541909    541909                              540455          541909\n",
              "unique     25900      4070                                4223              38\n",
              "top       573585    85123A  WHITE HANGING HEART T-LIGHT HOLDER  United Kingdom\n",
              "freq        1114      2313                                2369          495478"
            ]
          },
          "metadata": {
            "tags": []
          },
          "execution_count": 72
        }
      ]
    },
    {
      "cell_type": "code",
      "metadata": {
        "id": "XbJjg76pnh5P",
        "outputId": "acac74bb-75d1-49f5-a811-d64e1584e4ca",
        "colab": {
          "base_uri": "https://localhost:8080/",
          "height": 312
        }
      },
      "source": [
        "data.describe(include = ['datetime'])"
      ],
      "execution_count": 73,
      "outputs": [
        {
          "output_type": "stream",
          "text": [
            "/usr/local/lib/python3.6/dist-packages/ipykernel_launcher.py:1: FutureWarning:\n",
            "\n",
            "Treating datetime data as categorical rather than numeric in `.describe` is deprecated and will be removed in a future version of pandas. Specify `datetime_is_numeric=True` to silence this warning and adopt the future behavior now.\n",
            "\n"
          ],
          "name": "stderr"
        },
        {
          "output_type": "execute_result",
          "data": {
            "text/html": [
              "<div>\n",
              "<style scoped>\n",
              "    .dataframe tbody tr th:only-of-type {\n",
              "        vertical-align: middle;\n",
              "    }\n",
              "\n",
              "    .dataframe tbody tr th {\n",
              "        vertical-align: top;\n",
              "    }\n",
              "\n",
              "    .dataframe thead th {\n",
              "        text-align: right;\n",
              "    }\n",
              "</style>\n",
              "<table border=\"1\" class=\"dataframe\">\n",
              "  <thead>\n",
              "    <tr style=\"text-align: right;\">\n",
              "      <th></th>\n",
              "      <th>InvoiceDate</th>\n",
              "    </tr>\n",
              "  </thead>\n",
              "  <tbody>\n",
              "    <tr>\n",
              "      <th>count</th>\n",
              "      <td>541909</td>\n",
              "    </tr>\n",
              "    <tr>\n",
              "      <th>unique</th>\n",
              "      <td>23260</td>\n",
              "    </tr>\n",
              "    <tr>\n",
              "      <th>top</th>\n",
              "      <td>2011-10-31 14:41:00</td>\n",
              "    </tr>\n",
              "    <tr>\n",
              "      <th>freq</th>\n",
              "      <td>1114</td>\n",
              "    </tr>\n",
              "    <tr>\n",
              "      <th>first</th>\n",
              "      <td>2010-12-01 08:26:00</td>\n",
              "    </tr>\n",
              "    <tr>\n",
              "      <th>last</th>\n",
              "      <td>2011-12-09 12:50:00</td>\n",
              "    </tr>\n",
              "  </tbody>\n",
              "</table>\n",
              "</div>"
            ],
            "text/plain": [
              "                InvoiceDate\n",
              "count                541909\n",
              "unique                23260\n",
              "top     2011-10-31 14:41:00\n",
              "freq                   1114\n",
              "first   2010-12-01 08:26:00\n",
              "last    2011-12-09 12:50:00"
            ]
          },
          "metadata": {
            "tags": []
          },
          "execution_count": 73
        }
      ]
    },
    {
      "cell_type": "code",
      "metadata": {
        "id": "YDprHdfino-e",
        "outputId": "5c9149b0-7bd1-43d3-efb2-0b37202d19ec",
        "colab": {
          "base_uri": "https://localhost:8080/",
          "height": 168
        }
      },
      "source": [
        "data.isnull().sum()"
      ],
      "execution_count": 74,
      "outputs": [
        {
          "output_type": "execute_result",
          "data": {
            "text/plain": [
              "InvoiceNo           0\n",
              "StockCode           0\n",
              "Description      1454\n",
              "Quantity            0\n",
              "InvoiceDate         0\n",
              "UnitPrice           0\n",
              "CustomerID     135080\n",
              "Country             0\n",
              "dtype: int64"
            ]
          },
          "metadata": {
            "tags": []
          },
          "execution_count": 74
        }
      ]
    },
    {
      "cell_type": "code",
      "metadata": {
        "id": "FI30TfYtnuNK"
      },
      "source": [
        "data = data.dropna()"
      ],
      "execution_count": 75,
      "outputs": []
    },
    {
      "cell_type": "code",
      "metadata": {
        "id": "ydDxzal3nwTo",
        "outputId": "ec5cbc5a-69df-43d9-805c-8b3fc39566d9",
        "colab": {
          "base_uri": "https://localhost:8080/",
          "height": 168
        }
      },
      "source": [
        "data.isnull().sum()"
      ],
      "execution_count": 76,
      "outputs": [
        {
          "output_type": "execute_result",
          "data": {
            "text/plain": [
              "InvoiceNo      0\n",
              "StockCode      0\n",
              "Description    0\n",
              "Quantity       0\n",
              "InvoiceDate    0\n",
              "UnitPrice      0\n",
              "CustomerID     0\n",
              "Country        0\n",
              "dtype: int64"
            ]
          },
          "metadata": {
            "tags": []
          },
          "execution_count": 76
        }
      ]
    },
    {
      "cell_type": "code",
      "metadata": {
        "id": "M--e0w2Wny8g",
        "outputId": "21eb871b-13af-4251-e19d-9e96f0b48d3e",
        "colab": {
          "base_uri": "https://localhost:8080/",
          "height": 655
        }
      },
      "source": [
        "data['Country'].value_counts()"
      ],
      "execution_count": 77,
      "outputs": [
        {
          "output_type": "execute_result",
          "data": {
            "text/plain": [
              "United Kingdom          361878\n",
              "Germany                   9495\n",
              "France                    8491\n",
              "EIRE                      7485\n",
              "Spain                     2533\n",
              "Netherlands               2371\n",
              "Belgium                   2069\n",
              "Switzerland               1877\n",
              "Portugal                  1480\n",
              "Australia                 1259\n",
              "Norway                    1086\n",
              "Italy                      803\n",
              "Channel Islands            758\n",
              "Finland                    695\n",
              "Cyprus                     622\n",
              "Sweden                     462\n",
              "Austria                    401\n",
              "Denmark                    389\n",
              "Japan                      358\n",
              "Poland                     341\n",
              "USA                        291\n",
              "Israel                     250\n",
              "Unspecified                244\n",
              "Singapore                  229\n",
              "Iceland                    182\n",
              "Canada                     151\n",
              "Greece                     146\n",
              "Malta                      127\n",
              "United Arab Emirates        68\n",
              "European Community          61\n",
              "RSA                         58\n",
              "Lebanon                     45\n",
              "Lithuania                   35\n",
              "Brazil                      32\n",
              "Czech Republic              30\n",
              "Bahrain                     17\n",
              "Saudi Arabia                10\n",
              "Name: Country, dtype: int64"
            ]
          },
          "metadata": {
            "tags": []
          },
          "execution_count": 77
        }
      ]
    },
    {
      "cell_type": "code",
      "metadata": {
        "id": "TXu2MAOsn4Kb"
      },
      "source": [
        "tmp = data['Country'].value_counts().reset_index()"
      ],
      "execution_count": 78,
      "outputs": []
    },
    {
      "cell_type": "code",
      "metadata": {
        "id": "kamuTj3hoAzP",
        "outputId": "c123d8c2-67eb-4d17-8933-14c067fb9f4b",
        "colab": {
          "base_uri": "https://localhost:8080/",
          "height": 1000
        }
      },
      "source": [
        "tmp"
      ],
      "execution_count": 79,
      "outputs": [
        {
          "output_type": "execute_result",
          "data": {
            "text/html": [
              "<div>\n",
              "<style scoped>\n",
              "    .dataframe tbody tr th:only-of-type {\n",
              "        vertical-align: middle;\n",
              "    }\n",
              "\n",
              "    .dataframe tbody tr th {\n",
              "        vertical-align: top;\n",
              "    }\n",
              "\n",
              "    .dataframe thead th {\n",
              "        text-align: right;\n",
              "    }\n",
              "</style>\n",
              "<table border=\"1\" class=\"dataframe\">\n",
              "  <thead>\n",
              "    <tr style=\"text-align: right;\">\n",
              "      <th></th>\n",
              "      <th>index</th>\n",
              "      <th>Country</th>\n",
              "    </tr>\n",
              "  </thead>\n",
              "  <tbody>\n",
              "    <tr>\n",
              "      <th>0</th>\n",
              "      <td>United Kingdom</td>\n",
              "      <td>361878</td>\n",
              "    </tr>\n",
              "    <tr>\n",
              "      <th>1</th>\n",
              "      <td>Germany</td>\n",
              "      <td>9495</td>\n",
              "    </tr>\n",
              "    <tr>\n",
              "      <th>2</th>\n",
              "      <td>France</td>\n",
              "      <td>8491</td>\n",
              "    </tr>\n",
              "    <tr>\n",
              "      <th>3</th>\n",
              "      <td>EIRE</td>\n",
              "      <td>7485</td>\n",
              "    </tr>\n",
              "    <tr>\n",
              "      <th>4</th>\n",
              "      <td>Spain</td>\n",
              "      <td>2533</td>\n",
              "    </tr>\n",
              "    <tr>\n",
              "      <th>5</th>\n",
              "      <td>Netherlands</td>\n",
              "      <td>2371</td>\n",
              "    </tr>\n",
              "    <tr>\n",
              "      <th>6</th>\n",
              "      <td>Belgium</td>\n",
              "      <td>2069</td>\n",
              "    </tr>\n",
              "    <tr>\n",
              "      <th>7</th>\n",
              "      <td>Switzerland</td>\n",
              "      <td>1877</td>\n",
              "    </tr>\n",
              "    <tr>\n",
              "      <th>8</th>\n",
              "      <td>Portugal</td>\n",
              "      <td>1480</td>\n",
              "    </tr>\n",
              "    <tr>\n",
              "      <th>9</th>\n",
              "      <td>Australia</td>\n",
              "      <td>1259</td>\n",
              "    </tr>\n",
              "    <tr>\n",
              "      <th>10</th>\n",
              "      <td>Norway</td>\n",
              "      <td>1086</td>\n",
              "    </tr>\n",
              "    <tr>\n",
              "      <th>11</th>\n",
              "      <td>Italy</td>\n",
              "      <td>803</td>\n",
              "    </tr>\n",
              "    <tr>\n",
              "      <th>12</th>\n",
              "      <td>Channel Islands</td>\n",
              "      <td>758</td>\n",
              "    </tr>\n",
              "    <tr>\n",
              "      <th>13</th>\n",
              "      <td>Finland</td>\n",
              "      <td>695</td>\n",
              "    </tr>\n",
              "    <tr>\n",
              "      <th>14</th>\n",
              "      <td>Cyprus</td>\n",
              "      <td>622</td>\n",
              "    </tr>\n",
              "    <tr>\n",
              "      <th>15</th>\n",
              "      <td>Sweden</td>\n",
              "      <td>462</td>\n",
              "    </tr>\n",
              "    <tr>\n",
              "      <th>16</th>\n",
              "      <td>Austria</td>\n",
              "      <td>401</td>\n",
              "    </tr>\n",
              "    <tr>\n",
              "      <th>17</th>\n",
              "      <td>Denmark</td>\n",
              "      <td>389</td>\n",
              "    </tr>\n",
              "    <tr>\n",
              "      <th>18</th>\n",
              "      <td>Japan</td>\n",
              "      <td>358</td>\n",
              "    </tr>\n",
              "    <tr>\n",
              "      <th>19</th>\n",
              "      <td>Poland</td>\n",
              "      <td>341</td>\n",
              "    </tr>\n",
              "    <tr>\n",
              "      <th>20</th>\n",
              "      <td>USA</td>\n",
              "      <td>291</td>\n",
              "    </tr>\n",
              "    <tr>\n",
              "      <th>21</th>\n",
              "      <td>Israel</td>\n",
              "      <td>250</td>\n",
              "    </tr>\n",
              "    <tr>\n",
              "      <th>22</th>\n",
              "      <td>Unspecified</td>\n",
              "      <td>244</td>\n",
              "    </tr>\n",
              "    <tr>\n",
              "      <th>23</th>\n",
              "      <td>Singapore</td>\n",
              "      <td>229</td>\n",
              "    </tr>\n",
              "    <tr>\n",
              "      <th>24</th>\n",
              "      <td>Iceland</td>\n",
              "      <td>182</td>\n",
              "    </tr>\n",
              "    <tr>\n",
              "      <th>25</th>\n",
              "      <td>Canada</td>\n",
              "      <td>151</td>\n",
              "    </tr>\n",
              "    <tr>\n",
              "      <th>26</th>\n",
              "      <td>Greece</td>\n",
              "      <td>146</td>\n",
              "    </tr>\n",
              "    <tr>\n",
              "      <th>27</th>\n",
              "      <td>Malta</td>\n",
              "      <td>127</td>\n",
              "    </tr>\n",
              "    <tr>\n",
              "      <th>28</th>\n",
              "      <td>United Arab Emirates</td>\n",
              "      <td>68</td>\n",
              "    </tr>\n",
              "    <tr>\n",
              "      <th>29</th>\n",
              "      <td>European Community</td>\n",
              "      <td>61</td>\n",
              "    </tr>\n",
              "    <tr>\n",
              "      <th>30</th>\n",
              "      <td>RSA</td>\n",
              "      <td>58</td>\n",
              "    </tr>\n",
              "    <tr>\n",
              "      <th>31</th>\n",
              "      <td>Lebanon</td>\n",
              "      <td>45</td>\n",
              "    </tr>\n",
              "    <tr>\n",
              "      <th>32</th>\n",
              "      <td>Lithuania</td>\n",
              "      <td>35</td>\n",
              "    </tr>\n",
              "    <tr>\n",
              "      <th>33</th>\n",
              "      <td>Brazil</td>\n",
              "      <td>32</td>\n",
              "    </tr>\n",
              "    <tr>\n",
              "      <th>34</th>\n",
              "      <td>Czech Republic</td>\n",
              "      <td>30</td>\n",
              "    </tr>\n",
              "    <tr>\n",
              "      <th>35</th>\n",
              "      <td>Bahrain</td>\n",
              "      <td>17</td>\n",
              "    </tr>\n",
              "    <tr>\n",
              "      <th>36</th>\n",
              "      <td>Saudi Arabia</td>\n",
              "      <td>10</td>\n",
              "    </tr>\n",
              "  </tbody>\n",
              "</table>\n",
              "</div>"
            ],
            "text/plain": [
              "                   index  Country\n",
              "0         United Kingdom   361878\n",
              "1                Germany     9495\n",
              "2                 France     8491\n",
              "3                   EIRE     7485\n",
              "4                  Spain     2533\n",
              "5            Netherlands     2371\n",
              "6                Belgium     2069\n",
              "7            Switzerland     1877\n",
              "8               Portugal     1480\n",
              "9              Australia     1259\n",
              "10                Norway     1086\n",
              "11                 Italy      803\n",
              "12       Channel Islands      758\n",
              "13               Finland      695\n",
              "14                Cyprus      622\n",
              "15                Sweden      462\n",
              "16               Austria      401\n",
              "17               Denmark      389\n",
              "18                 Japan      358\n",
              "19                Poland      341\n",
              "20                   USA      291\n",
              "21                Israel      250\n",
              "22           Unspecified      244\n",
              "23             Singapore      229\n",
              "24               Iceland      182\n",
              "25                Canada      151\n",
              "26                Greece      146\n",
              "27                 Malta      127\n",
              "28  United Arab Emirates       68\n",
              "29    European Community       61\n",
              "30                   RSA       58\n",
              "31               Lebanon       45\n",
              "32             Lithuania       35\n",
              "33                Brazil       32\n",
              "34        Czech Republic       30\n",
              "35               Bahrain       17\n",
              "36          Saudi Arabia       10"
            ]
          },
          "metadata": {
            "tags": []
          },
          "execution_count": 79
        }
      ]
    },
    {
      "cell_type": "code",
      "metadata": {
        "id": "e5WF28jQoBYY",
        "outputId": "b0248c69-5799-4b64-f446-f2820d8a57f3",
        "colab": {
          "base_uri": "https://localhost:8080/",
          "height": 542
        }
      },
      "source": [
        "tmp.columns = ['Country', 'Count']\n",
        "tmp.query('Count > 200', inplace = True)\n",
        "px.bar(tmp, x='Country', y='Count', template='simple_white', color_discrete_sequence=['darkblue'],\n",
        "       title='Częstotliwość zakupów ze względu na kraj')"
      ],
      "execution_count": 82,
      "outputs": [
        {
          "output_type": "display_data",
          "data": {
            "text/html": [
              "<html>\n",
              "<head><meta charset=\"utf-8\" /></head>\n",
              "<body>\n",
              "    <div>\n",
              "            <script src=\"https://cdnjs.cloudflare.com/ajax/libs/mathjax/2.7.5/MathJax.js?config=TeX-AMS-MML_SVG\"></script><script type=\"text/javascript\">if (window.MathJax) {MathJax.Hub.Config({SVG: {font: \"STIX-Web\"}});}</script>\n",
              "                <script type=\"text/javascript\">window.PlotlyConfig = {MathJaxConfig: 'local'};</script>\n",
              "        <script src=\"https://cdn.plot.ly/plotly-latest.min.js\"></script>    \n",
              "            <div id=\"95963319-5221-4b21-9b53-74644e69ce3a\" class=\"plotly-graph-div\" style=\"height:525px; width:100%;\"></div>\n",
              "            <script type=\"text/javascript\">\n",
              "                \n",
              "                    window.PLOTLYENV=window.PLOTLYENV || {};\n",
              "                    \n",
              "                if (document.getElementById(\"95963319-5221-4b21-9b53-74644e69ce3a\")) {\n",
              "                    Plotly.newPlot(\n",
              "                        '95963319-5221-4b21-9b53-74644e69ce3a',\n",
              "                        [{\"alignmentgroup\": \"True\", \"hoverlabel\": {\"namelength\": 0}, \"hovertemplate\": \"Country=%{x}<br>Count=%{y}\", \"legendgroup\": \"\", \"marker\": {\"color\": \"darkblue\"}, \"name\": \"\", \"offsetgroup\": \"\", \"orientation\": \"v\", \"showlegend\": false, \"textposition\": \"auto\", \"type\": \"bar\", \"x\": [\"United Kingdom\", \"Germany\", \"France\", \"EIRE\", \"Spain\", \"Netherlands\", \"Belgium\", \"Switzerland\", \"Portugal\", \"Australia\", \"Norway\", \"Italy\", \"Channel Islands\", \"Finland\", \"Cyprus\", \"Sweden\", \"Austria\", \"Denmark\", \"Japan\", \"Poland\", \"USA\", \"Israel\", \"Unspecified\", \"Singapore\"], \"xaxis\": \"x\", \"y\": [361878, 9495, 8491, 7485, 2533, 2371, 2069, 1877, 1480, 1259, 1086, 803, 758, 695, 622, 462, 401, 389, 358, 341, 291, 250, 244, 229], \"yaxis\": \"y\"}],\n",
              "                        {\"barmode\": \"relative\", \"legend\": {\"tracegroupgap\": 0}, \"template\": {\"data\": {\"bar\": [{\"error_x\": {\"color\": \"rgb(36,36,36)\"}, \"error_y\": {\"color\": \"rgb(36,36,36)\"}, \"marker\": {\"line\": {\"color\": \"white\", \"width\": 0.5}}, \"type\": \"bar\"}], \"barpolar\": [{\"marker\": {\"line\": {\"color\": \"white\", \"width\": 0.5}}, \"type\": \"barpolar\"}], \"carpet\": [{\"aaxis\": {\"endlinecolor\": \"rgb(36,36,36)\", \"gridcolor\": \"white\", \"linecolor\": \"white\", \"minorgridcolor\": \"white\", \"startlinecolor\": \"rgb(36,36,36)\"}, \"baxis\": {\"endlinecolor\": \"rgb(36,36,36)\", \"gridcolor\": \"white\", \"linecolor\": \"white\", \"minorgridcolor\": \"white\", \"startlinecolor\": \"rgb(36,36,36)\"}, \"type\": \"carpet\"}], \"choropleth\": [{\"colorbar\": {\"outlinewidth\": 10, \"tickcolor\": \"rgb(36,36,36)\", \"ticklen\": 8, \"ticks\": \"outside\", \"tickwidth\": 2}, \"type\": \"choropleth\"}], \"contour\": [{\"colorbar\": {\"outlinewidth\": 10, \"tickcolor\": \"rgb(36,36,36)\", \"ticklen\": 8, \"ticks\": \"outside\", \"tickwidth\": 2}, \"colorscale\": [[0.0, \"#440154\"], [0.1111111111111111, \"#482878\"], [0.2222222222222222, \"#3e4989\"], [0.3333333333333333, \"#31688e\"], [0.4444444444444444, \"#26828e\"], [0.5555555555555556, \"#1f9e89\"], [0.6666666666666666, \"#35b779\"], [0.7777777777777778, \"#6ece58\"], [0.8888888888888888, \"#b5de2b\"], [1.0, \"#fde725\"]], \"type\": \"contour\"}], \"contourcarpet\": [{\"colorbar\": {\"outlinewidth\": 10, \"tickcolor\": \"rgb(36,36,36)\", \"ticklen\": 8, \"ticks\": \"outside\", \"tickwidth\": 2}, \"type\": \"contourcarpet\"}], \"heatmap\": [{\"colorbar\": {\"outlinewidth\": 10, \"tickcolor\": \"rgb(36,36,36)\", \"ticklen\": 8, \"ticks\": \"outside\", \"tickwidth\": 2}, \"colorscale\": [[0.0, \"#440154\"], [0.1111111111111111, \"#482878\"], [0.2222222222222222, \"#3e4989\"], [0.3333333333333333, \"#31688e\"], [0.4444444444444444, \"#26828e\"], [0.5555555555555556, \"#1f9e89\"], [0.6666666666666666, \"#35b779\"], [0.7777777777777778, \"#6ece58\"], [0.8888888888888888, \"#b5de2b\"], [1.0, \"#fde725\"]], \"type\": \"heatmap\"}], \"heatmapgl\": [{\"colorbar\": {\"outlinewidth\": 10, \"tickcolor\": \"rgb(36,36,36)\", \"ticklen\": 8, \"ticks\": \"outside\", \"tickwidth\": 2}, \"colorscale\": [[0.0, \"#440154\"], [0.1111111111111111, \"#482878\"], [0.2222222222222222, \"#3e4989\"], [0.3333333333333333, \"#31688e\"], [0.4444444444444444, \"#26828e\"], [0.5555555555555556, \"#1f9e89\"], [0.6666666666666666, \"#35b779\"], [0.7777777777777778, \"#6ece58\"], [0.8888888888888888, \"#b5de2b\"], [1.0, \"#fde725\"]], \"type\": \"heatmapgl\"}], \"histogram\": [{\"marker\": {\"line\": {\"color\": \"white\", \"width\": 0.6}}, \"type\": \"histogram\"}], \"histogram2d\": [{\"colorbar\": {\"outlinewidth\": 10, \"tickcolor\": \"rgb(36,36,36)\", \"ticklen\": 8, \"ticks\": \"outside\", \"tickwidth\": 2}, \"colorscale\": [[0.0, \"#440154\"], [0.1111111111111111, \"#482878\"], [0.2222222222222222, \"#3e4989\"], [0.3333333333333333, \"#31688e\"], [0.4444444444444444, \"#26828e\"], [0.5555555555555556, \"#1f9e89\"], [0.6666666666666666, \"#35b779\"], [0.7777777777777778, \"#6ece58\"], [0.8888888888888888, \"#b5de2b\"], [1.0, \"#fde725\"]], \"type\": \"histogram2d\"}], \"histogram2dcontour\": [{\"colorbar\": {\"outlinewidth\": 10, \"tickcolor\": \"rgb(36,36,36)\", \"ticklen\": 8, \"ticks\": \"outside\", \"tickwidth\": 2}, \"colorscale\": [[0.0, \"#440154\"], [0.1111111111111111, \"#482878\"], [0.2222222222222222, \"#3e4989\"], [0.3333333333333333, \"#31688e\"], [0.4444444444444444, \"#26828e\"], [0.5555555555555556, \"#1f9e89\"], [0.6666666666666666, \"#35b779\"], [0.7777777777777778, \"#6ece58\"], [0.8888888888888888, \"#b5de2b\"], [1.0, \"#fde725\"]], \"type\": \"histogram2dcontour\"}], \"mesh3d\": [{\"colorbar\": {\"outlinewidth\": 10, \"tickcolor\": \"rgb(36,36,36)\", \"ticklen\": 8, \"ticks\": \"outside\", \"tickwidth\": 2}, \"type\": \"mesh3d\"}], \"parcoords\": [{\"line\": {\"colorbar\": {\"outlinewidth\": 10, \"tickcolor\": \"rgb(36,36,36)\", \"ticklen\": 8, \"ticks\": \"outside\", \"tickwidth\": 2}}, \"type\": \"parcoords\"}], \"pie\": [{\"automargin\": true, \"type\": \"pie\"}], \"scatter\": [{\"marker\": {\"colorbar\": {\"outlinewidth\": 10, \"tickcolor\": \"rgb(36,36,36)\", \"ticklen\": 8, \"ticks\": \"outside\", \"tickwidth\": 2}}, \"type\": \"scatter\"}], \"scatter3d\": [{\"line\": {\"colorbar\": {\"outlinewidth\": 10, \"tickcolor\": \"rgb(36,36,36)\", \"ticklen\": 8, \"ticks\": \"outside\", \"tickwidth\": 2}}, \"marker\": {\"colorbar\": {\"outlinewidth\": 10, \"tickcolor\": \"rgb(36,36,36)\", \"ticklen\": 8, \"ticks\": \"outside\", \"tickwidth\": 2}}, \"type\": \"scatter3d\"}], \"scattercarpet\": [{\"marker\": {\"colorbar\": {\"outlinewidth\": 10, \"tickcolor\": \"rgb(36,36,36)\", \"ticklen\": 8, \"ticks\": \"outside\", \"tickwidth\": 2}}, \"type\": \"scattercarpet\"}], \"scattergeo\": [{\"marker\": {\"colorbar\": {\"outlinewidth\": 10, \"tickcolor\": \"rgb(36,36,36)\", \"ticklen\": 8, \"ticks\": \"outside\", \"tickwidth\": 2}}, \"type\": \"scattergeo\"}], \"scattergl\": [{\"marker\": {\"colorbar\": {\"outlinewidth\": 10, \"tickcolor\": \"rgb(36,36,36)\", \"ticklen\": 8, \"ticks\": \"outside\", \"tickwidth\": 2}}, \"type\": \"scattergl\"}], \"scattermapbox\": [{\"marker\": {\"colorbar\": {\"outlinewidth\": 10, \"tickcolor\": \"rgb(36,36,36)\", \"ticklen\": 8, \"ticks\": \"outside\", \"tickwidth\": 2}}, \"type\": \"scattermapbox\"}], \"scatterpolar\": [{\"marker\": {\"colorbar\": {\"outlinewidth\": 10, \"tickcolor\": \"rgb(36,36,36)\", \"ticklen\": 8, \"ticks\": \"outside\", \"tickwidth\": 2}}, \"type\": \"scatterpolar\"}], \"scatterpolargl\": [{\"marker\": {\"colorbar\": {\"outlinewidth\": 10, \"tickcolor\": \"rgb(36,36,36)\", \"ticklen\": 8, \"ticks\": \"outside\", \"tickwidth\": 2}}, \"type\": \"scatterpolargl\"}], \"scatterternary\": [{\"marker\": {\"colorbar\": {\"outlinewidth\": 10, \"tickcolor\": \"rgb(36,36,36)\", \"ticklen\": 8, \"ticks\": \"outside\", \"tickwidth\": 2}}, \"type\": \"scatterternary\"}], \"surface\": [{\"colorbar\": {\"outlinewidth\": 10, \"tickcolor\": \"rgb(36,36,36)\", \"ticklen\": 8, \"ticks\": \"outside\", \"tickwidth\": 2}, \"colorscale\": [[0.0, \"#440154\"], [0.1111111111111111, \"#482878\"], [0.2222222222222222, \"#3e4989\"], [0.3333333333333333, \"#31688e\"], [0.4444444444444444, \"#26828e\"], [0.5555555555555556, \"#1f9e89\"], [0.6666666666666666, \"#35b779\"], [0.7777777777777778, \"#6ece58\"], [0.8888888888888888, \"#b5de2b\"], [1.0, \"#fde725\"]], \"type\": \"surface\"}], \"table\": [{\"cells\": {\"fill\": {\"color\": \"rgb(237,237,237)\"}, \"line\": {\"color\": \"white\"}}, \"header\": {\"fill\": {\"color\": \"rgb(217,217,217)\"}, \"line\": {\"color\": \"white\"}}, \"type\": \"table\"}]}, \"layout\": {\"annotationdefaults\": {\"arrowhead\": 0, \"arrowwidth\": 1}, \"coloraxis\": {\"colorbar\": {\"outlinewidth\": 10, \"tickcolor\": \"rgb(36,36,36)\", \"ticklen\": 8, \"ticks\": \"outside\", \"tickwidth\": 2}}, \"colorscale\": {\"diverging\": [[0.0, \"rgb(103,0,31)\"], [0.1, \"rgb(178,24,43)\"], [0.2, \"rgb(214,96,77)\"], [0.3, \"rgb(244,165,130)\"], [0.4, \"rgb(253,219,199)\"], [0.5, \"rgb(247,247,247)\"], [0.6, \"rgb(209,229,240)\"], [0.7, \"rgb(146,197,222)\"], [0.8, \"rgb(67,147,195)\"], [0.9, \"rgb(33,102,172)\"], [1.0, \"rgb(5,48,97)\"]], \"sequential\": [[0.0, \"#440154\"], [0.1111111111111111, \"#482878\"], [0.2222222222222222, \"#3e4989\"], [0.3333333333333333, \"#31688e\"], [0.4444444444444444, \"#26828e\"], [0.5555555555555556, \"#1f9e89\"], [0.6666666666666666, \"#35b779\"], [0.7777777777777778, \"#6ece58\"], [0.8888888888888888, \"#b5de2b\"], [1.0, \"#fde725\"]], \"sequentialminus\": [[0.0, \"#440154\"], [0.1111111111111111, \"#482878\"], [0.2222222222222222, \"#3e4989\"], [0.3333333333333333, \"#31688e\"], [0.4444444444444444, \"#26828e\"], [0.5555555555555556, \"#1f9e89\"], [0.6666666666666666, \"#35b779\"], [0.7777777777777778, \"#6ece58\"], [0.8888888888888888, \"#b5de2b\"], [1.0, \"#fde725\"]]}, \"colorway\": [\"#1F77B4\", \"#FF7F0E\", \"#2CA02C\", \"#D62728\", \"#9467BD\", \"#8C564B\", \"#E377C2\", \"#7F7F7F\", \"#BCBD22\", \"#17BECF\"], \"font\": {\"color\": \"rgb(36,36,36)\"}, \"geo\": {\"bgcolor\": \"white\", \"lakecolor\": \"white\", \"landcolor\": \"white\", \"showlakes\": true, \"showland\": true, \"subunitcolor\": \"white\"}, \"hoverlabel\": {\"align\": \"left\"}, \"hovermode\": \"closest\", \"mapbox\": {\"style\": \"light\"}, \"paper_bgcolor\": \"white\", \"plot_bgcolor\": \"white\", \"polar\": {\"angularaxis\": {\"gridcolor\": \"rgb(232,232,232)\", \"linecolor\": \"rgb(36,36,36)\", \"showgrid\": false, \"showline\": true, \"ticks\": \"outside\"}, \"bgcolor\": \"white\", \"radialaxis\": {\"gridcolor\": \"rgb(232,232,232)\", \"linecolor\": \"rgb(36,36,36)\", \"showgrid\": false, \"showline\": true, \"ticks\": \"outside\"}}, \"scene\": {\"xaxis\": {\"backgroundcolor\": \"white\", \"gridcolor\": \"rgb(232,232,232)\", \"gridwidth\": 2, \"linecolor\": \"rgb(36,36,36)\", \"showbackground\": true, \"showgrid\": false, \"showline\": true, \"ticks\": \"outside\", \"zeroline\": false, \"zerolinecolor\": \"rgb(36,36,36)\"}, \"yaxis\": {\"backgroundcolor\": \"white\", \"gridcolor\": \"rgb(232,232,232)\", \"gridwidth\": 2, \"linecolor\": \"rgb(36,36,36)\", \"showbackground\": true, \"showgrid\": false, \"showline\": true, \"ticks\": \"outside\", \"zeroline\": false, \"zerolinecolor\": \"rgb(36,36,36)\"}, \"zaxis\": {\"backgroundcolor\": \"white\", \"gridcolor\": \"rgb(232,232,232)\", \"gridwidth\": 2, \"linecolor\": \"rgb(36,36,36)\", \"showbackground\": true, \"showgrid\": false, \"showline\": true, \"ticks\": \"outside\", \"zeroline\": false, \"zerolinecolor\": \"rgb(36,36,36)\"}}, \"shapedefaults\": {\"fillcolor\": \"black\", \"line\": {\"width\": 0}, \"opacity\": 0.3}, \"ternary\": {\"aaxis\": {\"gridcolor\": \"rgb(232,232,232)\", \"linecolor\": \"rgb(36,36,36)\", \"showgrid\": false, \"showline\": true, \"ticks\": \"outside\"}, \"baxis\": {\"gridcolor\": \"rgb(232,232,232)\", \"linecolor\": \"rgb(36,36,36)\", \"showgrid\": false, \"showline\": true, \"ticks\": \"outside\"}, \"bgcolor\": \"white\", \"caxis\": {\"gridcolor\": \"rgb(232,232,232)\", \"linecolor\": \"rgb(36,36,36)\", \"showgrid\": false, \"showline\": true, \"ticks\": \"outside\"}}, \"title\": {\"x\": 0.05}, \"xaxis\": {\"automargin\": true, \"gridcolor\": \"rgb(232,232,232)\", \"linecolor\": \"rgb(36,36,36)\", \"showgrid\": false, \"showline\": true, \"ticks\": \"outside\", \"title\": {\"standoff\": 15}, \"zeroline\": false, \"zerolinecolor\": \"rgb(36,36,36)\"}, \"yaxis\": {\"automargin\": true, \"gridcolor\": \"rgb(232,232,232)\", \"linecolor\": \"rgb(36,36,36)\", \"showgrid\": false, \"showline\": true, \"ticks\": \"outside\", \"title\": {\"standoff\": 15}, \"zeroline\": false, \"zerolinecolor\": \"rgb(36,36,36)\"}}}, \"title\": {\"text\": \"Cz\\u0119stotliwo\\u015b\\u0107 zakup\\u00f3w ze wzgl\\u0119du na kraj\"}, \"xaxis\": {\"anchor\": \"y\", \"domain\": [0.0, 1.0], \"title\": {\"text\": \"Country\"}}, \"yaxis\": {\"anchor\": \"x\", \"domain\": [0.0, 1.0], \"title\": {\"text\": \"Count\"}}},\n",
              "                        {\"responsive\": true}\n",
              "                    ).then(function(){\n",
              "                            \n",
              "var gd = document.getElementById('95963319-5221-4b21-9b53-74644e69ce3a');\n",
              "var x = new MutationObserver(function (mutations, observer) {{\n",
              "        var display = window.getComputedStyle(gd).display;\n",
              "        if (!display || display === 'none') {{\n",
              "            console.log([gd, 'removed!']);\n",
              "            Plotly.purge(gd);\n",
              "            observer.disconnect();\n",
              "        }}\n",
              "}});\n",
              "\n",
              "// Listen for the removal of the full notebook cells\n",
              "var notebookContainer = gd.closest('#notebook-container');\n",
              "if (notebookContainer) {{\n",
              "    x.observe(notebookContainer, {childList: true});\n",
              "}}\n",
              "\n",
              "// Listen for the clearing of the current output cell\n",
              "var outputEl = gd.closest('.output');\n",
              "if (outputEl) {{\n",
              "    x.observe(outputEl, {childList: true});\n",
              "}}\n",
              "\n",
              "                        })\n",
              "                };\n",
              "                \n",
              "            </script>\n",
              "        </div>\n",
              "</body>\n",
              "</html>"
            ]
          },
          "metadata": {
            "tags": []
          }
        }
      ]
    },
    {
      "cell_type": "code",
      "metadata": {
        "id": "5D9WgIMJvpI1"
      },
      "source": [
        "data_uk = data.query('Country == \"United Kingdom\"').copy()"
      ],
      "execution_count": 83,
      "outputs": []
    },
    {
      "cell_type": "code",
      "metadata": {
        "id": "y6K8eEaGw7tW",
        "outputId": "a23a0709-7428-4636-ebe5-fb06fccc36d7",
        "colab": {
          "base_uri": "https://localhost:8080/",
          "height": 195
        }
      },
      "source": [
        "data_uk.head()"
      ],
      "execution_count": 84,
      "outputs": [
        {
          "output_type": "execute_result",
          "data": {
            "text/html": [
              "<div>\n",
              "<style scoped>\n",
              "    .dataframe tbody tr th:only-of-type {\n",
              "        vertical-align: middle;\n",
              "    }\n",
              "\n",
              "    .dataframe tbody tr th {\n",
              "        vertical-align: top;\n",
              "    }\n",
              "\n",
              "    .dataframe thead th {\n",
              "        text-align: right;\n",
              "    }\n",
              "</style>\n",
              "<table border=\"1\" class=\"dataframe\">\n",
              "  <thead>\n",
              "    <tr style=\"text-align: right;\">\n",
              "      <th></th>\n",
              "      <th>InvoiceNo</th>\n",
              "      <th>StockCode</th>\n",
              "      <th>Description</th>\n",
              "      <th>Quantity</th>\n",
              "      <th>InvoiceDate</th>\n",
              "      <th>UnitPrice</th>\n",
              "      <th>CustomerID</th>\n",
              "      <th>Country</th>\n",
              "    </tr>\n",
              "  </thead>\n",
              "  <tbody>\n",
              "    <tr>\n",
              "      <th>0</th>\n",
              "      <td>536365</td>\n",
              "      <td>85123A</td>\n",
              "      <td>WHITE HANGING HEART T-LIGHT HOLDER</td>\n",
              "      <td>6</td>\n",
              "      <td>2010-12-01 08:26:00</td>\n",
              "      <td>2.55</td>\n",
              "      <td>17850.0</td>\n",
              "      <td>United Kingdom</td>\n",
              "    </tr>\n",
              "    <tr>\n",
              "      <th>1</th>\n",
              "      <td>536365</td>\n",
              "      <td>71053</td>\n",
              "      <td>WHITE METAL LANTERN</td>\n",
              "      <td>6</td>\n",
              "      <td>2010-12-01 08:26:00</td>\n",
              "      <td>3.39</td>\n",
              "      <td>17850.0</td>\n",
              "      <td>United Kingdom</td>\n",
              "    </tr>\n",
              "    <tr>\n",
              "      <th>2</th>\n",
              "      <td>536365</td>\n",
              "      <td>84406B</td>\n",
              "      <td>CREAM CUPID HEARTS COAT HANGER</td>\n",
              "      <td>8</td>\n",
              "      <td>2010-12-01 08:26:00</td>\n",
              "      <td>2.75</td>\n",
              "      <td>17850.0</td>\n",
              "      <td>United Kingdom</td>\n",
              "    </tr>\n",
              "    <tr>\n",
              "      <th>3</th>\n",
              "      <td>536365</td>\n",
              "      <td>84029G</td>\n",
              "      <td>KNITTED UNION FLAG HOT WATER BOTTLE</td>\n",
              "      <td>6</td>\n",
              "      <td>2010-12-01 08:26:00</td>\n",
              "      <td>3.39</td>\n",
              "      <td>17850.0</td>\n",
              "      <td>United Kingdom</td>\n",
              "    </tr>\n",
              "    <tr>\n",
              "      <th>4</th>\n",
              "      <td>536365</td>\n",
              "      <td>84029E</td>\n",
              "      <td>RED WOOLLY HOTTIE WHITE HEART.</td>\n",
              "      <td>6</td>\n",
              "      <td>2010-12-01 08:26:00</td>\n",
              "      <td>3.39</td>\n",
              "      <td>17850.0</td>\n",
              "      <td>United Kingdom</td>\n",
              "    </tr>\n",
              "  </tbody>\n",
              "</table>\n",
              "</div>"
            ],
            "text/plain": [
              "  InvoiceNo StockCode  ... CustomerID         Country\n",
              "0    536365    85123A  ...    17850.0  United Kingdom\n",
              "1    536365     71053  ...    17850.0  United Kingdom\n",
              "2    536365    84406B  ...    17850.0  United Kingdom\n",
              "3    536365    84029G  ...    17850.0  United Kingdom\n",
              "4    536365    84029E  ...    17850.0  United Kingdom\n",
              "\n",
              "[5 rows x 8 columns]"
            ]
          },
          "metadata": {
            "tags": []
          },
          "execution_count": 84
        }
      ]
    },
    {
      "cell_type": "code",
      "metadata": {
        "id": "zkdBDEAaw-XO",
        "outputId": "7a6ff76c-9958-4517-86a9-c2b6b22680b6",
        "colab": {
          "base_uri": "https://localhost:8080/",
          "height": 402
        }
      },
      "source": [
        "data_uk['Sales'] = data_uk['Quantity'] * data_uk['UnitPrice'] \n",
        "data_uk"
      ],
      "execution_count": 85,
      "outputs": [
        {
          "output_type": "execute_result",
          "data": {
            "text/html": [
              "<div>\n",
              "<style scoped>\n",
              "    .dataframe tbody tr th:only-of-type {\n",
              "        vertical-align: middle;\n",
              "    }\n",
              "\n",
              "    .dataframe tbody tr th {\n",
              "        vertical-align: top;\n",
              "    }\n",
              "\n",
              "    .dataframe thead th {\n",
              "        text-align: right;\n",
              "    }\n",
              "</style>\n",
              "<table border=\"1\" class=\"dataframe\">\n",
              "  <thead>\n",
              "    <tr style=\"text-align: right;\">\n",
              "      <th></th>\n",
              "      <th>InvoiceNo</th>\n",
              "      <th>StockCode</th>\n",
              "      <th>Description</th>\n",
              "      <th>Quantity</th>\n",
              "      <th>InvoiceDate</th>\n",
              "      <th>UnitPrice</th>\n",
              "      <th>CustomerID</th>\n",
              "      <th>Country</th>\n",
              "      <th>Sales</th>\n",
              "    </tr>\n",
              "  </thead>\n",
              "  <tbody>\n",
              "    <tr>\n",
              "      <th>0</th>\n",
              "      <td>536365</td>\n",
              "      <td>85123A</td>\n",
              "      <td>WHITE HANGING HEART T-LIGHT HOLDER</td>\n",
              "      <td>6</td>\n",
              "      <td>2010-12-01 08:26:00</td>\n",
              "      <td>2.55</td>\n",
              "      <td>17850.0</td>\n",
              "      <td>United Kingdom</td>\n",
              "      <td>15.30</td>\n",
              "    </tr>\n",
              "    <tr>\n",
              "      <th>1</th>\n",
              "      <td>536365</td>\n",
              "      <td>71053</td>\n",
              "      <td>WHITE METAL LANTERN</td>\n",
              "      <td>6</td>\n",
              "      <td>2010-12-01 08:26:00</td>\n",
              "      <td>3.39</td>\n",
              "      <td>17850.0</td>\n",
              "      <td>United Kingdom</td>\n",
              "      <td>20.34</td>\n",
              "    </tr>\n",
              "    <tr>\n",
              "      <th>2</th>\n",
              "      <td>536365</td>\n",
              "      <td>84406B</td>\n",
              "      <td>CREAM CUPID HEARTS COAT HANGER</td>\n",
              "      <td>8</td>\n",
              "      <td>2010-12-01 08:26:00</td>\n",
              "      <td>2.75</td>\n",
              "      <td>17850.0</td>\n",
              "      <td>United Kingdom</td>\n",
              "      <td>22.00</td>\n",
              "    </tr>\n",
              "    <tr>\n",
              "      <th>3</th>\n",
              "      <td>536365</td>\n",
              "      <td>84029G</td>\n",
              "      <td>KNITTED UNION FLAG HOT WATER BOTTLE</td>\n",
              "      <td>6</td>\n",
              "      <td>2010-12-01 08:26:00</td>\n",
              "      <td>3.39</td>\n",
              "      <td>17850.0</td>\n",
              "      <td>United Kingdom</td>\n",
              "      <td>20.34</td>\n",
              "    </tr>\n",
              "    <tr>\n",
              "      <th>4</th>\n",
              "      <td>536365</td>\n",
              "      <td>84029E</td>\n",
              "      <td>RED WOOLLY HOTTIE WHITE HEART.</td>\n",
              "      <td>6</td>\n",
              "      <td>2010-12-01 08:26:00</td>\n",
              "      <td>3.39</td>\n",
              "      <td>17850.0</td>\n",
              "      <td>United Kingdom</td>\n",
              "      <td>20.34</td>\n",
              "    </tr>\n",
              "    <tr>\n",
              "      <th>...</th>\n",
              "      <td>...</td>\n",
              "      <td>...</td>\n",
              "      <td>...</td>\n",
              "      <td>...</td>\n",
              "      <td>...</td>\n",
              "      <td>...</td>\n",
              "      <td>...</td>\n",
              "      <td>...</td>\n",
              "      <td>...</td>\n",
              "    </tr>\n",
              "    <tr>\n",
              "      <th>541889</th>\n",
              "      <td>581585</td>\n",
              "      <td>22466</td>\n",
              "      <td>FAIRY TALE COTTAGE NIGHT LIGHT</td>\n",
              "      <td>12</td>\n",
              "      <td>2011-12-09 12:31:00</td>\n",
              "      <td>1.95</td>\n",
              "      <td>15804.0</td>\n",
              "      <td>United Kingdom</td>\n",
              "      <td>23.40</td>\n",
              "    </tr>\n",
              "    <tr>\n",
              "      <th>541890</th>\n",
              "      <td>581586</td>\n",
              "      <td>22061</td>\n",
              "      <td>LARGE CAKE STAND  HANGING STRAWBERY</td>\n",
              "      <td>8</td>\n",
              "      <td>2011-12-09 12:49:00</td>\n",
              "      <td>2.95</td>\n",
              "      <td>13113.0</td>\n",
              "      <td>United Kingdom</td>\n",
              "      <td>23.60</td>\n",
              "    </tr>\n",
              "    <tr>\n",
              "      <th>541891</th>\n",
              "      <td>581586</td>\n",
              "      <td>23275</td>\n",
              "      <td>SET OF 3 HANGING OWLS OLLIE BEAK</td>\n",
              "      <td>24</td>\n",
              "      <td>2011-12-09 12:49:00</td>\n",
              "      <td>1.25</td>\n",
              "      <td>13113.0</td>\n",
              "      <td>United Kingdom</td>\n",
              "      <td>30.00</td>\n",
              "    </tr>\n",
              "    <tr>\n",
              "      <th>541892</th>\n",
              "      <td>581586</td>\n",
              "      <td>21217</td>\n",
              "      <td>RED RETROSPOT ROUND CAKE TINS</td>\n",
              "      <td>24</td>\n",
              "      <td>2011-12-09 12:49:00</td>\n",
              "      <td>8.95</td>\n",
              "      <td>13113.0</td>\n",
              "      <td>United Kingdom</td>\n",
              "      <td>214.80</td>\n",
              "    </tr>\n",
              "    <tr>\n",
              "      <th>541893</th>\n",
              "      <td>581586</td>\n",
              "      <td>20685</td>\n",
              "      <td>DOORMAT RED RETROSPOT</td>\n",
              "      <td>10</td>\n",
              "      <td>2011-12-09 12:49:00</td>\n",
              "      <td>7.08</td>\n",
              "      <td>13113.0</td>\n",
              "      <td>United Kingdom</td>\n",
              "      <td>70.80</td>\n",
              "    </tr>\n",
              "  </tbody>\n",
              "</table>\n",
              "<p>361878 rows × 9 columns</p>\n",
              "</div>"
            ],
            "text/plain": [
              "       InvoiceNo StockCode  ...         Country   Sales\n",
              "0         536365    85123A  ...  United Kingdom   15.30\n",
              "1         536365     71053  ...  United Kingdom   20.34\n",
              "2         536365    84406B  ...  United Kingdom   22.00\n",
              "3         536365    84029G  ...  United Kingdom   20.34\n",
              "4         536365    84029E  ...  United Kingdom   20.34\n",
              "...          ...       ...  ...             ...     ...\n",
              "541889    581585     22466  ...  United Kingdom   23.40\n",
              "541890    581586     22061  ...  United Kingdom   23.60\n",
              "541891    581586     23275  ...  United Kingdom   30.00\n",
              "541892    581586     21217  ...  United Kingdom  214.80\n",
              "541893    581586     20685  ...  United Kingdom   70.80\n",
              "\n",
              "[361878 rows x 9 columns]"
            ]
          },
          "metadata": {
            "tags": []
          },
          "execution_count": 85
        }
      ]
    },
    {
      "cell_type": "code",
      "metadata": {
        "id": "9AmxNHHbxJ7I"
      },
      "source": [
        "tmp = data_uk.groupby(data_uk['InvoiceDate'].dt.date)['CustomerID'].count().reset_index()"
      ],
      "execution_count": 86,
      "outputs": []
    },
    {
      "cell_type": "code",
      "metadata": {
        "id": "EmpJK9FBxbVQ",
        "outputId": "e22893b5-56cb-479f-c14e-89f6e165f5d5",
        "colab": {
          "base_uri": "https://localhost:8080/",
          "height": 195
        }
      },
      "source": [
        "tmp.columns = ['InvoiceDate', 'Count']\n",
        "tmp.head()"
      ],
      "execution_count": 87,
      "outputs": [
        {
          "output_type": "execute_result",
          "data": {
            "text/html": [
              "<div>\n",
              "<style scoped>\n",
              "    .dataframe tbody tr th:only-of-type {\n",
              "        vertical-align: middle;\n",
              "    }\n",
              "\n",
              "    .dataframe tbody tr th {\n",
              "        vertical-align: top;\n",
              "    }\n",
              "\n",
              "    .dataframe thead th {\n",
              "        text-align: right;\n",
              "    }\n",
              "</style>\n",
              "<table border=\"1\" class=\"dataframe\">\n",
              "  <thead>\n",
              "    <tr style=\"text-align: right;\">\n",
              "      <th></th>\n",
              "      <th>InvoiceDate</th>\n",
              "      <th>Count</th>\n",
              "    </tr>\n",
              "  </thead>\n",
              "  <tbody>\n",
              "    <tr>\n",
              "      <th>0</th>\n",
              "      <td>2010-12-01</td>\n",
              "      <td>1809</td>\n",
              "    </tr>\n",
              "    <tr>\n",
              "      <th>1</th>\n",
              "      <td>2010-12-02</td>\n",
              "      <td>2029</td>\n",
              "    </tr>\n",
              "    <tr>\n",
              "      <th>2</th>\n",
              "      <td>2010-12-03</td>\n",
              "      <td>937</td>\n",
              "    </tr>\n",
              "    <tr>\n",
              "      <th>3</th>\n",
              "      <td>2010-12-05</td>\n",
              "      <td>2492</td>\n",
              "    </tr>\n",
              "    <tr>\n",
              "      <th>4</th>\n",
              "      <td>2010-12-06</td>\n",
              "      <td>1915</td>\n",
              "    </tr>\n",
              "  </tbody>\n",
              "</table>\n",
              "</div>"
            ],
            "text/plain": [
              "  InvoiceDate  Count\n",
              "0  2010-12-01   1809\n",
              "1  2010-12-02   2029\n",
              "2  2010-12-03    937\n",
              "3  2010-12-05   2492\n",
              "4  2010-12-06   1915"
            ]
          },
          "metadata": {
            "tags": []
          },
          "execution_count": 87
        }
      ]
    },
    {
      "cell_type": "code",
      "metadata": {
        "id": "JQQSV5CUxh0v",
        "outputId": "1abdc0c8-396e-4df8-fd33-1db6267c5fde",
        "colab": {
          "base_uri": "https://localhost:8080/",
          "height": 542
        }
      },
      "source": [
        "from plotly.subplots import make_subplots\n",
        "\n",
        "fig = make_subplots(rows=2, cols=1, shared_xaxes=True, vertical_spacing=0.02)\n",
        "\n",
        "trace1 = px.line(tmp, x='InvoiceDate', y='Count', template='plotly_dark', color_discrete_sequence=['black'])['data'][0]\n",
        "trace2 = px.scatter(tmp, x='InvoiceDate', y='Count', template='plotly_dark', color_discrete_sequence=['black'])['data'][0]\n",
        "\n",
        "fig.add_trace(trace1, row=1, col=1)\n",
        "fig.add_trace(trace2, row=2, col=1)\n",
        "fig.update_layout(template='simple_white', title='Częstotliwość zakupów ze względu na datę', width=950)\n",
        "fig.show()"
      ],
      "execution_count": 88,
      "outputs": [
        {
          "output_type": "display_data",
          "data": {
            "text/html": [
              "<html>\n",
              "<head><meta charset=\"utf-8\" /></head>\n",
              "<body>\n",
              "    <div>\n",
              "            <script src=\"https://cdnjs.cloudflare.com/ajax/libs/mathjax/2.7.5/MathJax.js?config=TeX-AMS-MML_SVG\"></script><script type=\"text/javascript\">if (window.MathJax) {MathJax.Hub.Config({SVG: {font: \"STIX-Web\"}});}</script>\n",
              "                <script type=\"text/javascript\">window.PlotlyConfig = {MathJaxConfig: 'local'};</script>\n",
              "        <script src=\"https://cdn.plot.ly/plotly-latest.min.js\"></script>    \n",
              "            <div id=\"b58583d1-341f-4150-b907-35a7491667da\" class=\"plotly-graph-div\" style=\"height:525px; width:950px;\"></div>\n",
              "            <script type=\"text/javascript\">\n",
              "                \n",
              "                    window.PLOTLYENV=window.PLOTLYENV || {};\n",
              "                    \n",
              "                if (document.getElementById(\"b58583d1-341f-4150-b907-35a7491667da\")) {\n",
              "                    Plotly.newPlot(\n",
              "                        'b58583d1-341f-4150-b907-35a7491667da',\n",
              "                        [{\"hoverlabel\": {\"namelength\": 0}, \"hovertemplate\": \"InvoiceDate=%{x}<br>Count=%{y}\", \"legendgroup\": \"\", \"line\": {\"color\": \"black\", \"dash\": \"solid\"}, \"mode\": \"lines\", \"name\": \"\", \"showlegend\": false, \"type\": \"scatter\", \"x\": [\"2010-12-01\", \"2010-12-02\", \"2010-12-03\", \"2010-12-05\", \"2010-12-06\", \"2010-12-07\", \"2010-12-08\", \"2010-12-09\", \"2010-12-10\", \"2010-12-12\", \"2010-12-13\", \"2010-12-14\", \"2010-12-15\", \"2010-12-16\", \"2010-12-17\", \"2010-12-19\", \"2010-12-20\", \"2010-12-21\", \"2010-12-22\", \"2010-12-23\", \"2011-01-04\", \"2011-01-05\", \"2011-01-06\", \"2011-01-07\", \"2011-01-09\", \"2011-01-10\", \"2011-01-11\", \"2011-01-12\", \"2011-01-13\", \"2011-01-14\", \"2011-01-16\", \"2011-01-17\", \"2011-01-18\", \"2011-01-19\", \"2011-01-20\", \"2011-01-21\", \"2011-01-23\", \"2011-01-24\", \"2011-01-25\", \"2011-01-26\", \"2011-01-27\", \"2011-01-28\", \"2011-01-30\", \"2011-01-31\", \"2011-02-01\", \"2011-02-02\", \"2011-02-03\", \"2011-02-04\", \"2011-02-06\", \"2011-02-07\", \"2011-02-08\", \"2011-02-09\", \"2011-02-10\", \"2011-02-11\", \"2011-02-13\", \"2011-02-14\", \"2011-02-15\", \"2011-02-16\", \"2011-02-17\", \"2011-02-18\", \"2011-02-20\", \"2011-02-21\", \"2011-02-22\", \"2011-02-23\", \"2011-02-24\", \"2011-02-25\", \"2011-02-27\", \"2011-02-28\", \"2011-03-01\", \"2011-03-02\", \"2011-03-03\", \"2011-03-04\", \"2011-03-06\", \"2011-03-07\", \"2011-03-08\", \"2011-03-09\", \"2011-03-10\", \"2011-03-11\", \"2011-03-13\", \"2011-03-14\", \"2011-03-15\", \"2011-03-16\", \"2011-03-17\", \"2011-03-18\", \"2011-03-20\", \"2011-03-21\", \"2011-03-22\", \"2011-03-23\", \"2011-03-24\", \"2011-03-25\", \"2011-03-27\", \"2011-03-28\", \"2011-03-29\", \"2011-03-30\", \"2011-03-31\", \"2011-04-01\", \"2011-04-03\", \"2011-04-04\", \"2011-04-05\", \"2011-04-06\", \"2011-04-07\", \"2011-04-08\", \"2011-04-10\", \"2011-04-11\", \"2011-04-12\", \"2011-04-13\", \"2011-04-14\", \"2011-04-15\", \"2011-04-17\", \"2011-04-18\", \"2011-04-19\", \"2011-04-20\", \"2011-04-21\", \"2011-04-26\", \"2011-04-27\", \"2011-04-28\", \"2011-05-01\", \"2011-05-03\", \"2011-05-04\", \"2011-05-05\", \"2011-05-06\", \"2011-05-08\", \"2011-05-09\", \"2011-05-10\", \"2011-05-11\", \"2011-05-12\", \"2011-05-13\", \"2011-05-15\", \"2011-05-16\", \"2011-05-17\", \"2011-05-18\", \"2011-05-19\", \"2011-05-20\", \"2011-05-22\", \"2011-05-23\", \"2011-05-24\", \"2011-05-25\", \"2011-05-26\", \"2011-05-27\", \"2011-05-29\", \"2011-05-31\", \"2011-06-01\", \"2011-06-02\", \"2011-06-03\", \"2011-06-05\", \"2011-06-06\", \"2011-06-07\", \"2011-06-08\", \"2011-06-09\", \"2011-06-10\", \"2011-06-12\", \"2011-06-13\", \"2011-06-14\", \"2011-06-15\", \"2011-06-16\", \"2011-06-17\", \"2011-06-19\", \"2011-06-20\", \"2011-06-21\", \"2011-06-22\", \"2011-06-23\", \"2011-06-24\", \"2011-06-26\", \"2011-06-27\", \"2011-06-28\", \"2011-06-29\", \"2011-06-30\", \"2011-07-01\", \"2011-07-03\", \"2011-07-04\", \"2011-07-05\", \"2011-07-06\", \"2011-07-07\", \"2011-07-08\", \"2011-07-10\", \"2011-07-11\", \"2011-07-12\", \"2011-07-13\", \"2011-07-14\", \"2011-07-15\", \"2011-07-17\", \"2011-07-18\", \"2011-07-19\", \"2011-07-20\", \"2011-07-21\", \"2011-07-22\", \"2011-07-24\", \"2011-07-25\", \"2011-07-26\", \"2011-07-27\", \"2011-07-28\", \"2011-07-29\", \"2011-07-31\", \"2011-08-01\", \"2011-08-02\", \"2011-08-03\", \"2011-08-04\", \"2011-08-05\", \"2011-08-07\", \"2011-08-08\", \"2011-08-09\", \"2011-08-10\", \"2011-08-11\", \"2011-08-12\", \"2011-08-14\", \"2011-08-15\", \"2011-08-16\", \"2011-08-17\", \"2011-08-18\", \"2011-08-19\", \"2011-08-21\", \"2011-08-22\", \"2011-08-23\", \"2011-08-24\", \"2011-08-25\", \"2011-08-26\", \"2011-08-28\", \"2011-08-30\", \"2011-08-31\", \"2011-09-01\", \"2011-09-02\", \"2011-09-04\", \"2011-09-05\", \"2011-09-06\", \"2011-09-07\", \"2011-09-08\", \"2011-09-09\", \"2011-09-11\", \"2011-09-12\", \"2011-09-13\", \"2011-09-14\", \"2011-09-15\", \"2011-09-16\", \"2011-09-18\", \"2011-09-19\", \"2011-09-20\", \"2011-09-21\", \"2011-09-22\", \"2011-09-23\", \"2011-09-25\", \"2011-09-26\", \"2011-09-27\", \"2011-09-28\", \"2011-09-29\", \"2011-09-30\", \"2011-10-02\", \"2011-10-03\", \"2011-10-04\", \"2011-10-05\", \"2011-10-06\", \"2011-10-07\", \"2011-10-09\", \"2011-10-10\", \"2011-10-11\", \"2011-10-12\", \"2011-10-13\", \"2011-10-14\", \"2011-10-16\", \"2011-10-17\", \"2011-10-18\", \"2011-10-19\", \"2011-10-20\", \"2011-10-21\", \"2011-10-23\", \"2011-10-24\", \"2011-10-25\", \"2011-10-26\", \"2011-10-27\", \"2011-10-28\", \"2011-10-30\", \"2011-10-31\", \"2011-11-01\", \"2011-11-02\", \"2011-11-03\", \"2011-11-04\", \"2011-11-06\", \"2011-11-07\", \"2011-11-08\", \"2011-11-09\", \"2011-11-10\", \"2011-11-11\", \"2011-11-13\", \"2011-11-14\", \"2011-11-15\", \"2011-11-16\", \"2011-11-17\", \"2011-11-18\", \"2011-11-20\", \"2011-11-21\", \"2011-11-22\", \"2011-11-23\", \"2011-11-24\", \"2011-11-25\", \"2011-11-27\", \"2011-11-28\", \"2011-11-29\", \"2011-11-30\", \"2011-12-01\", \"2011-12-02\", \"2011-12-04\", \"2011-12-05\", \"2011-12-06\", \"2011-12-07\", \"2011-12-08\", \"2011-12-09\"], \"xaxis\": \"x\", \"y\": [1809, 2029, 937, 2492, 1915, 1024, 1866, 1566, 1320, 1400, 1258, 1604, 1254, 1662, 461, 456, 744, 298, 180, 261, 746, 1003, 1221, 738, 1043, 633, 796, 803, 660, 571, 646, 825, 452, 728, 598, 616, 867, 624, 1086, 823, 1132, 566, 722, 839, 1133, 951, 732, 590, 279, 864, 576, 306, 689, 539, 624, 561, 832, 866, 953, 540, 864, 691, 1121, 921, 1056, 752, 797, 873, 793, 887, 788, 732, 843, 1095, 1086, 911, 769, 575, 519, 920, 720, 766, 929, 933, 1148, 933, 1062, 915, 1442, 794, 724, 1114, 965, 1215, 1009, 1048, 725, 1146, 849, 741, 1173, 901, 914, 1017, 1094, 980, 1373, 707, 912, 1459, 1080, 901, 1207, 1162, 1017, 952, 419, 896, 1075, 1085, 1249, 1394, 974, 1229, 1352, 1378, 1028, 735, 1023, 1163, 1079, 1337, 917, 1422, 1122, 1079, 897, 744, 782, 602, 757, 664, 884, 576, 1345, 953, 1405, 1250, 1165, 635, 1046, 937, 1026, 1062, 1129, 686, 1062, 863, 855, 882, 1475, 639, 675, 754, 701, 558, 1069, 772, 602, 850, 767, 1127, 1183, 659, 820, 892, 643, 1088, 1227, 675, 1181, 1052, 1112, 1123, 1244, 678, 988, 929, 832, 692, 1074, 876, 1084, 927, 586, 1335, 1271, 966, 534, 978, 798, 650, 1256, 509, 553, 759, 885, 1320, 1190, 592, 992, 1154, 1145, 1450, 1012, 654, 1078, 373, 656, 1319, 981, 1132, 1216, 942, 689, 1222, 1068, 1930, 1507, 1813, 1035, 1544, 1177, 1274, 982, 1282, 1543, 2180, 1549, 1893, 1432, 1335, 1810, 2129, 1349, 1423, 1690, 2017, 1698, 2362, 1757, 1272, 2539, 1303, 1152, 1565, 1264, 1254, 1973, 1781, 1615, 1904, 1185, 1726, 1879, 1950, 1625, 2087, 1264, 2705, 1631, 1595, 1643, 1818, 2307, 3145, 1668, 2255, 2116, 2847, 2037, 2626, 2746, 2008, 2557, 2466, 1852, 2957, 2162, 2597, 3145, 2095, 1597, 2449, 2573, 2589, 1841, 2116, 1828, 1810, 3267, 2436, 1745, 2431, 444], \"yaxis\": \"y\"}, {\"hoverlabel\": {\"namelength\": 0}, \"hovertemplate\": \"InvoiceDate=%{x}<br>Count=%{y}\", \"legendgroup\": \"\", \"marker\": {\"color\": \"black\", \"symbol\": \"circle\"}, \"mode\": \"markers\", \"name\": \"\", \"showlegend\": false, \"type\": \"scatter\", \"x\": [\"2010-12-01\", \"2010-12-02\", \"2010-12-03\", \"2010-12-05\", \"2010-12-06\", \"2010-12-07\", \"2010-12-08\", \"2010-12-09\", \"2010-12-10\", \"2010-12-12\", \"2010-12-13\", \"2010-12-14\", \"2010-12-15\", \"2010-12-16\", \"2010-12-17\", \"2010-12-19\", \"2010-12-20\", \"2010-12-21\", \"2010-12-22\", \"2010-12-23\", \"2011-01-04\", \"2011-01-05\", \"2011-01-06\", \"2011-01-07\", \"2011-01-09\", \"2011-01-10\", \"2011-01-11\", \"2011-01-12\", \"2011-01-13\", \"2011-01-14\", \"2011-01-16\", \"2011-01-17\", \"2011-01-18\", \"2011-01-19\", \"2011-01-20\", \"2011-01-21\", \"2011-01-23\", \"2011-01-24\", \"2011-01-25\", \"2011-01-26\", \"2011-01-27\", \"2011-01-28\", \"2011-01-30\", \"2011-01-31\", \"2011-02-01\", \"2011-02-02\", \"2011-02-03\", \"2011-02-04\", \"2011-02-06\", \"2011-02-07\", \"2011-02-08\", \"2011-02-09\", \"2011-02-10\", \"2011-02-11\", \"2011-02-13\", \"2011-02-14\", \"2011-02-15\", \"2011-02-16\", \"2011-02-17\", \"2011-02-18\", \"2011-02-20\", \"2011-02-21\", \"2011-02-22\", \"2011-02-23\", \"2011-02-24\", \"2011-02-25\", \"2011-02-27\", \"2011-02-28\", \"2011-03-01\", \"2011-03-02\", \"2011-03-03\", \"2011-03-04\", \"2011-03-06\", \"2011-03-07\", \"2011-03-08\", \"2011-03-09\", \"2011-03-10\", \"2011-03-11\", \"2011-03-13\", \"2011-03-14\", \"2011-03-15\", \"2011-03-16\", \"2011-03-17\", \"2011-03-18\", \"2011-03-20\", \"2011-03-21\", \"2011-03-22\", \"2011-03-23\", \"2011-03-24\", \"2011-03-25\", \"2011-03-27\", \"2011-03-28\", \"2011-03-29\", \"2011-03-30\", \"2011-03-31\", \"2011-04-01\", \"2011-04-03\", \"2011-04-04\", \"2011-04-05\", \"2011-04-06\", \"2011-04-07\", \"2011-04-08\", \"2011-04-10\", \"2011-04-11\", \"2011-04-12\", \"2011-04-13\", \"2011-04-14\", \"2011-04-15\", \"2011-04-17\", \"2011-04-18\", \"2011-04-19\", \"2011-04-20\", \"2011-04-21\", \"2011-04-26\", \"2011-04-27\", \"2011-04-28\", \"2011-05-01\", \"2011-05-03\", \"2011-05-04\", \"2011-05-05\", \"2011-05-06\", \"2011-05-08\", \"2011-05-09\", \"2011-05-10\", \"2011-05-11\", \"2011-05-12\", \"2011-05-13\", \"2011-05-15\", \"2011-05-16\", \"2011-05-17\", \"2011-05-18\", \"2011-05-19\", \"2011-05-20\", \"2011-05-22\", \"2011-05-23\", \"2011-05-24\", \"2011-05-25\", \"2011-05-26\", \"2011-05-27\", \"2011-05-29\", \"2011-05-31\", \"2011-06-01\", \"2011-06-02\", \"2011-06-03\", \"2011-06-05\", \"2011-06-06\", \"2011-06-07\", \"2011-06-08\", \"2011-06-09\", \"2011-06-10\", \"2011-06-12\", \"2011-06-13\", \"2011-06-14\", \"2011-06-15\", \"2011-06-16\", \"2011-06-17\", \"2011-06-19\", \"2011-06-20\", \"2011-06-21\", \"2011-06-22\", \"2011-06-23\", \"2011-06-24\", \"2011-06-26\", \"2011-06-27\", \"2011-06-28\", \"2011-06-29\", \"2011-06-30\", \"2011-07-01\", \"2011-07-03\", \"2011-07-04\", \"2011-07-05\", \"2011-07-06\", \"2011-07-07\", \"2011-07-08\", \"2011-07-10\", \"2011-07-11\", \"2011-07-12\", \"2011-07-13\", \"2011-07-14\", \"2011-07-15\", \"2011-07-17\", \"2011-07-18\", \"2011-07-19\", \"2011-07-20\", \"2011-07-21\", \"2011-07-22\", \"2011-07-24\", \"2011-07-25\", \"2011-07-26\", \"2011-07-27\", \"2011-07-28\", \"2011-07-29\", \"2011-07-31\", \"2011-08-01\", \"2011-08-02\", \"2011-08-03\", \"2011-08-04\", \"2011-08-05\", \"2011-08-07\", \"2011-08-08\", \"2011-08-09\", \"2011-08-10\", \"2011-08-11\", \"2011-08-12\", \"2011-08-14\", \"2011-08-15\", \"2011-08-16\", \"2011-08-17\", \"2011-08-18\", \"2011-08-19\", \"2011-08-21\", \"2011-08-22\", \"2011-08-23\", \"2011-08-24\", \"2011-08-25\", \"2011-08-26\", \"2011-08-28\", \"2011-08-30\", \"2011-08-31\", \"2011-09-01\", \"2011-09-02\", \"2011-09-04\", \"2011-09-05\", \"2011-09-06\", \"2011-09-07\", \"2011-09-08\", \"2011-09-09\", \"2011-09-11\", \"2011-09-12\", \"2011-09-13\", \"2011-09-14\", \"2011-09-15\", \"2011-09-16\", \"2011-09-18\", \"2011-09-19\", \"2011-09-20\", \"2011-09-21\", \"2011-09-22\", \"2011-09-23\", \"2011-09-25\", \"2011-09-26\", \"2011-09-27\", \"2011-09-28\", \"2011-09-29\", \"2011-09-30\", \"2011-10-02\", \"2011-10-03\", \"2011-10-04\", \"2011-10-05\", \"2011-10-06\", \"2011-10-07\", \"2011-10-09\", \"2011-10-10\", \"2011-10-11\", \"2011-10-12\", \"2011-10-13\", \"2011-10-14\", \"2011-10-16\", \"2011-10-17\", \"2011-10-18\", \"2011-10-19\", \"2011-10-20\", \"2011-10-21\", \"2011-10-23\", \"2011-10-24\", \"2011-10-25\", \"2011-10-26\", \"2011-10-27\", \"2011-10-28\", \"2011-10-30\", \"2011-10-31\", \"2011-11-01\", \"2011-11-02\", \"2011-11-03\", \"2011-11-04\", \"2011-11-06\", \"2011-11-07\", \"2011-11-08\", \"2011-11-09\", \"2011-11-10\", \"2011-11-11\", \"2011-11-13\", \"2011-11-14\", \"2011-11-15\", \"2011-11-16\", \"2011-11-17\", \"2011-11-18\", \"2011-11-20\", \"2011-11-21\", \"2011-11-22\", \"2011-11-23\", \"2011-11-24\", \"2011-11-25\", \"2011-11-27\", \"2011-11-28\", \"2011-11-29\", \"2011-11-30\", \"2011-12-01\", \"2011-12-02\", \"2011-12-04\", \"2011-12-05\", \"2011-12-06\", \"2011-12-07\", \"2011-12-08\", \"2011-12-09\"], \"xaxis\": \"x2\", \"y\": [1809, 2029, 937, 2492, 1915, 1024, 1866, 1566, 1320, 1400, 1258, 1604, 1254, 1662, 461, 456, 744, 298, 180, 261, 746, 1003, 1221, 738, 1043, 633, 796, 803, 660, 571, 646, 825, 452, 728, 598, 616, 867, 624, 1086, 823, 1132, 566, 722, 839, 1133, 951, 732, 590, 279, 864, 576, 306, 689, 539, 624, 561, 832, 866, 953, 540, 864, 691, 1121, 921, 1056, 752, 797, 873, 793, 887, 788, 732, 843, 1095, 1086, 911, 769, 575, 519, 920, 720, 766, 929, 933, 1148, 933, 1062, 915, 1442, 794, 724, 1114, 965, 1215, 1009, 1048, 725, 1146, 849, 741, 1173, 901, 914, 1017, 1094, 980, 1373, 707, 912, 1459, 1080, 901, 1207, 1162, 1017, 952, 419, 896, 1075, 1085, 1249, 1394, 974, 1229, 1352, 1378, 1028, 735, 1023, 1163, 1079, 1337, 917, 1422, 1122, 1079, 897, 744, 782, 602, 757, 664, 884, 576, 1345, 953, 1405, 1250, 1165, 635, 1046, 937, 1026, 1062, 1129, 686, 1062, 863, 855, 882, 1475, 639, 675, 754, 701, 558, 1069, 772, 602, 850, 767, 1127, 1183, 659, 820, 892, 643, 1088, 1227, 675, 1181, 1052, 1112, 1123, 1244, 678, 988, 929, 832, 692, 1074, 876, 1084, 927, 586, 1335, 1271, 966, 534, 978, 798, 650, 1256, 509, 553, 759, 885, 1320, 1190, 592, 992, 1154, 1145, 1450, 1012, 654, 1078, 373, 656, 1319, 981, 1132, 1216, 942, 689, 1222, 1068, 1930, 1507, 1813, 1035, 1544, 1177, 1274, 982, 1282, 1543, 2180, 1549, 1893, 1432, 1335, 1810, 2129, 1349, 1423, 1690, 2017, 1698, 2362, 1757, 1272, 2539, 1303, 1152, 1565, 1264, 1254, 1973, 1781, 1615, 1904, 1185, 1726, 1879, 1950, 1625, 2087, 1264, 2705, 1631, 1595, 1643, 1818, 2307, 3145, 1668, 2255, 2116, 2847, 2037, 2626, 2746, 2008, 2557, 2466, 1852, 2957, 2162, 2597, 3145, 2095, 1597, 2449, 2573, 2589, 1841, 2116, 1828, 1810, 3267, 2436, 1745, 2431, 444], \"yaxis\": \"y2\"}],\n",
              "                        {\"template\": {\"data\": {\"bar\": [{\"error_x\": {\"color\": \"rgb(36,36,36)\"}, \"error_y\": {\"color\": \"rgb(36,36,36)\"}, \"marker\": {\"line\": {\"color\": \"white\", \"width\": 0.5}}, \"type\": \"bar\"}], \"barpolar\": [{\"marker\": {\"line\": {\"color\": \"white\", \"width\": 0.5}}, \"type\": \"barpolar\"}], \"carpet\": [{\"aaxis\": {\"endlinecolor\": \"rgb(36,36,36)\", \"gridcolor\": \"white\", \"linecolor\": \"white\", \"minorgridcolor\": \"white\", \"startlinecolor\": \"rgb(36,36,36)\"}, \"baxis\": {\"endlinecolor\": \"rgb(36,36,36)\", \"gridcolor\": \"white\", \"linecolor\": \"white\", \"minorgridcolor\": \"white\", \"startlinecolor\": \"rgb(36,36,36)\"}, \"type\": \"carpet\"}], \"choropleth\": [{\"colorbar\": {\"outlinewidth\": 10, \"tickcolor\": \"rgb(36,36,36)\", \"ticklen\": 8, \"ticks\": \"outside\", \"tickwidth\": 2}, \"type\": \"choropleth\"}], \"contour\": [{\"colorbar\": {\"outlinewidth\": 10, \"tickcolor\": \"rgb(36,36,36)\", \"ticklen\": 8, \"ticks\": \"outside\", \"tickwidth\": 2}, \"colorscale\": [[0.0, \"#440154\"], [0.1111111111111111, \"#482878\"], [0.2222222222222222, \"#3e4989\"], [0.3333333333333333, \"#31688e\"], [0.4444444444444444, \"#26828e\"], [0.5555555555555556, \"#1f9e89\"], [0.6666666666666666, \"#35b779\"], [0.7777777777777778, \"#6ece58\"], [0.8888888888888888, \"#b5de2b\"], [1.0, \"#fde725\"]], \"type\": \"contour\"}], \"contourcarpet\": [{\"colorbar\": {\"outlinewidth\": 10, \"tickcolor\": \"rgb(36,36,36)\", \"ticklen\": 8, \"ticks\": \"outside\", \"tickwidth\": 2}, \"type\": \"contourcarpet\"}], \"heatmap\": [{\"colorbar\": {\"outlinewidth\": 10, \"tickcolor\": \"rgb(36,36,36)\", \"ticklen\": 8, \"ticks\": \"outside\", \"tickwidth\": 2}, \"colorscale\": [[0.0, \"#440154\"], [0.1111111111111111, \"#482878\"], [0.2222222222222222, \"#3e4989\"], [0.3333333333333333, \"#31688e\"], [0.4444444444444444, \"#26828e\"], [0.5555555555555556, \"#1f9e89\"], [0.6666666666666666, \"#35b779\"], [0.7777777777777778, \"#6ece58\"], [0.8888888888888888, \"#b5de2b\"], [1.0, \"#fde725\"]], \"type\": \"heatmap\"}], \"heatmapgl\": [{\"colorbar\": {\"outlinewidth\": 10, \"tickcolor\": \"rgb(36,36,36)\", \"ticklen\": 8, \"ticks\": \"outside\", \"tickwidth\": 2}, \"colorscale\": [[0.0, \"#440154\"], [0.1111111111111111, \"#482878\"], [0.2222222222222222, \"#3e4989\"], [0.3333333333333333, \"#31688e\"], [0.4444444444444444, \"#26828e\"], [0.5555555555555556, \"#1f9e89\"], [0.6666666666666666, \"#35b779\"], [0.7777777777777778, \"#6ece58\"], [0.8888888888888888, \"#b5de2b\"], [1.0, \"#fde725\"]], \"type\": \"heatmapgl\"}], \"histogram\": [{\"marker\": {\"line\": {\"color\": \"white\", \"width\": 0.6}}, \"type\": \"histogram\"}], \"histogram2d\": [{\"colorbar\": {\"outlinewidth\": 10, \"tickcolor\": \"rgb(36,36,36)\", \"ticklen\": 8, \"ticks\": \"outside\", \"tickwidth\": 2}, \"colorscale\": [[0.0, \"#440154\"], [0.1111111111111111, \"#482878\"], [0.2222222222222222, \"#3e4989\"], [0.3333333333333333, \"#31688e\"], [0.4444444444444444, \"#26828e\"], [0.5555555555555556, \"#1f9e89\"], [0.6666666666666666, \"#35b779\"], [0.7777777777777778, \"#6ece58\"], [0.8888888888888888, \"#b5de2b\"], [1.0, \"#fde725\"]], \"type\": \"histogram2d\"}], \"histogram2dcontour\": [{\"colorbar\": {\"outlinewidth\": 10, \"tickcolor\": \"rgb(36,36,36)\", \"ticklen\": 8, \"ticks\": \"outside\", \"tickwidth\": 2}, \"colorscale\": [[0.0, \"#440154\"], [0.1111111111111111, \"#482878\"], [0.2222222222222222, \"#3e4989\"], [0.3333333333333333, \"#31688e\"], [0.4444444444444444, \"#26828e\"], [0.5555555555555556, \"#1f9e89\"], [0.6666666666666666, \"#35b779\"], [0.7777777777777778, \"#6ece58\"], [0.8888888888888888, \"#b5de2b\"], [1.0, \"#fde725\"]], \"type\": \"histogram2dcontour\"}], \"mesh3d\": [{\"colorbar\": {\"outlinewidth\": 10, \"tickcolor\": \"rgb(36,36,36)\", \"ticklen\": 8, \"ticks\": \"outside\", \"tickwidth\": 2}, \"type\": \"mesh3d\"}], \"parcoords\": [{\"line\": {\"colorbar\": {\"outlinewidth\": 10, \"tickcolor\": \"rgb(36,36,36)\", \"ticklen\": 8, \"ticks\": \"outside\", \"tickwidth\": 2}}, \"type\": \"parcoords\"}], \"pie\": [{\"automargin\": true, \"type\": \"pie\"}], \"scatter\": [{\"marker\": {\"colorbar\": {\"outlinewidth\": 10, \"tickcolor\": \"rgb(36,36,36)\", \"ticklen\": 8, \"ticks\": \"outside\", \"tickwidth\": 2}}, \"type\": \"scatter\"}], \"scatter3d\": [{\"line\": {\"colorbar\": {\"outlinewidth\": 10, \"tickcolor\": \"rgb(36,36,36)\", \"ticklen\": 8, \"ticks\": \"outside\", \"tickwidth\": 2}}, \"marker\": {\"colorbar\": {\"outlinewidth\": 10, \"tickcolor\": \"rgb(36,36,36)\", \"ticklen\": 8, \"ticks\": \"outside\", \"tickwidth\": 2}}, \"type\": \"scatter3d\"}], \"scattercarpet\": [{\"marker\": {\"colorbar\": {\"outlinewidth\": 10, \"tickcolor\": \"rgb(36,36,36)\", \"ticklen\": 8, \"ticks\": \"outside\", \"tickwidth\": 2}}, \"type\": \"scattercarpet\"}], \"scattergeo\": [{\"marker\": {\"colorbar\": {\"outlinewidth\": 10, \"tickcolor\": \"rgb(36,36,36)\", \"ticklen\": 8, \"ticks\": \"outside\", \"tickwidth\": 2}}, \"type\": \"scattergeo\"}], \"scattergl\": [{\"marker\": {\"colorbar\": {\"outlinewidth\": 10, \"tickcolor\": \"rgb(36,36,36)\", \"ticklen\": 8, \"ticks\": \"outside\", \"tickwidth\": 2}}, \"type\": \"scattergl\"}], \"scattermapbox\": [{\"marker\": {\"colorbar\": {\"outlinewidth\": 10, \"tickcolor\": \"rgb(36,36,36)\", \"ticklen\": 8, \"ticks\": \"outside\", \"tickwidth\": 2}}, \"type\": \"scattermapbox\"}], \"scatterpolar\": [{\"marker\": {\"colorbar\": {\"outlinewidth\": 10, \"tickcolor\": \"rgb(36,36,36)\", \"ticklen\": 8, \"ticks\": \"outside\", \"tickwidth\": 2}}, \"type\": \"scatterpolar\"}], \"scatterpolargl\": [{\"marker\": {\"colorbar\": {\"outlinewidth\": 10, \"tickcolor\": \"rgb(36,36,36)\", \"ticklen\": 8, \"ticks\": \"outside\", \"tickwidth\": 2}}, \"type\": \"scatterpolargl\"}], \"scatterternary\": [{\"marker\": {\"colorbar\": {\"outlinewidth\": 10, \"tickcolor\": \"rgb(36,36,36)\", \"ticklen\": 8, \"ticks\": \"outside\", \"tickwidth\": 2}}, \"type\": \"scatterternary\"}], \"surface\": [{\"colorbar\": {\"outlinewidth\": 10, \"tickcolor\": \"rgb(36,36,36)\", \"ticklen\": 8, \"ticks\": \"outside\", \"tickwidth\": 2}, \"colorscale\": [[0.0, \"#440154\"], [0.1111111111111111, \"#482878\"], [0.2222222222222222, \"#3e4989\"], [0.3333333333333333, \"#31688e\"], [0.4444444444444444, \"#26828e\"], [0.5555555555555556, \"#1f9e89\"], [0.6666666666666666, \"#35b779\"], [0.7777777777777778, \"#6ece58\"], [0.8888888888888888, \"#b5de2b\"], [1.0, \"#fde725\"]], \"type\": \"surface\"}], \"table\": [{\"cells\": {\"fill\": {\"color\": \"rgb(237,237,237)\"}, \"line\": {\"color\": \"white\"}}, \"header\": {\"fill\": {\"color\": \"rgb(217,217,217)\"}, \"line\": {\"color\": \"white\"}}, \"type\": \"table\"}]}, \"layout\": {\"annotationdefaults\": {\"arrowhead\": 0, \"arrowwidth\": 1}, \"coloraxis\": {\"colorbar\": {\"outlinewidth\": 10, \"tickcolor\": \"rgb(36,36,36)\", \"ticklen\": 8, \"ticks\": \"outside\", \"tickwidth\": 2}}, \"colorscale\": {\"diverging\": [[0.0, \"rgb(103,0,31)\"], [0.1, \"rgb(178,24,43)\"], [0.2, \"rgb(214,96,77)\"], [0.3, \"rgb(244,165,130)\"], [0.4, \"rgb(253,219,199)\"], [0.5, \"rgb(247,247,247)\"], [0.6, \"rgb(209,229,240)\"], [0.7, \"rgb(146,197,222)\"], [0.8, \"rgb(67,147,195)\"], [0.9, \"rgb(33,102,172)\"], [1.0, \"rgb(5,48,97)\"]], \"sequential\": [[0.0, \"#440154\"], [0.1111111111111111, \"#482878\"], [0.2222222222222222, \"#3e4989\"], [0.3333333333333333, \"#31688e\"], [0.4444444444444444, \"#26828e\"], [0.5555555555555556, \"#1f9e89\"], [0.6666666666666666, \"#35b779\"], [0.7777777777777778, \"#6ece58\"], [0.8888888888888888, \"#b5de2b\"], [1.0, \"#fde725\"]], \"sequentialminus\": [[0.0, \"#440154\"], [0.1111111111111111, \"#482878\"], [0.2222222222222222, \"#3e4989\"], [0.3333333333333333, \"#31688e\"], [0.4444444444444444, \"#26828e\"], [0.5555555555555556, \"#1f9e89\"], [0.6666666666666666, \"#35b779\"], [0.7777777777777778, \"#6ece58\"], [0.8888888888888888, \"#b5de2b\"], [1.0, \"#fde725\"]]}, \"colorway\": [\"#1F77B4\", \"#FF7F0E\", \"#2CA02C\", \"#D62728\", \"#9467BD\", \"#8C564B\", \"#E377C2\", \"#7F7F7F\", \"#BCBD22\", \"#17BECF\"], \"font\": {\"color\": \"rgb(36,36,36)\"}, \"geo\": {\"bgcolor\": \"white\", \"lakecolor\": \"white\", \"landcolor\": \"white\", \"showlakes\": true, \"showland\": true, \"subunitcolor\": \"white\"}, \"hoverlabel\": {\"align\": \"left\"}, \"hovermode\": \"closest\", \"mapbox\": {\"style\": \"light\"}, \"paper_bgcolor\": \"white\", \"plot_bgcolor\": \"white\", \"polar\": {\"angularaxis\": {\"gridcolor\": \"rgb(232,232,232)\", \"linecolor\": \"rgb(36,36,36)\", \"showgrid\": false, \"showline\": true, \"ticks\": \"outside\"}, \"bgcolor\": \"white\", \"radialaxis\": {\"gridcolor\": \"rgb(232,232,232)\", \"linecolor\": \"rgb(36,36,36)\", \"showgrid\": false, \"showline\": true, \"ticks\": \"outside\"}}, \"scene\": {\"xaxis\": {\"backgroundcolor\": \"white\", \"gridcolor\": \"rgb(232,232,232)\", \"gridwidth\": 2, \"linecolor\": \"rgb(36,36,36)\", \"showbackground\": true, \"showgrid\": false, \"showline\": true, \"ticks\": \"outside\", \"zeroline\": false, \"zerolinecolor\": \"rgb(36,36,36)\"}, \"yaxis\": {\"backgroundcolor\": \"white\", \"gridcolor\": \"rgb(232,232,232)\", \"gridwidth\": 2, \"linecolor\": \"rgb(36,36,36)\", \"showbackground\": true, \"showgrid\": false, \"showline\": true, \"ticks\": \"outside\", \"zeroline\": false, \"zerolinecolor\": \"rgb(36,36,36)\"}, \"zaxis\": {\"backgroundcolor\": \"white\", \"gridcolor\": \"rgb(232,232,232)\", \"gridwidth\": 2, \"linecolor\": \"rgb(36,36,36)\", \"showbackground\": true, \"showgrid\": false, \"showline\": true, \"ticks\": \"outside\", \"zeroline\": false, \"zerolinecolor\": \"rgb(36,36,36)\"}}, \"shapedefaults\": {\"fillcolor\": \"black\", \"line\": {\"width\": 0}, \"opacity\": 0.3}, \"ternary\": {\"aaxis\": {\"gridcolor\": \"rgb(232,232,232)\", \"linecolor\": \"rgb(36,36,36)\", \"showgrid\": false, \"showline\": true, \"ticks\": \"outside\"}, \"baxis\": {\"gridcolor\": \"rgb(232,232,232)\", \"linecolor\": \"rgb(36,36,36)\", \"showgrid\": false, \"showline\": true, \"ticks\": \"outside\"}, \"bgcolor\": \"white\", \"caxis\": {\"gridcolor\": \"rgb(232,232,232)\", \"linecolor\": \"rgb(36,36,36)\", \"showgrid\": false, \"showline\": true, \"ticks\": \"outside\"}}, \"title\": {\"x\": 0.05}, \"xaxis\": {\"automargin\": true, \"gridcolor\": \"rgb(232,232,232)\", \"linecolor\": \"rgb(36,36,36)\", \"showgrid\": false, \"showline\": true, \"ticks\": \"outside\", \"title\": {\"standoff\": 15}, \"zeroline\": false, \"zerolinecolor\": \"rgb(36,36,36)\"}, \"yaxis\": {\"automargin\": true, \"gridcolor\": \"rgb(232,232,232)\", \"linecolor\": \"rgb(36,36,36)\", \"showgrid\": false, \"showline\": true, \"ticks\": \"outside\", \"title\": {\"standoff\": 15}, \"zeroline\": false, \"zerolinecolor\": \"rgb(36,36,36)\"}}}, \"title\": {\"text\": \"Cz\\u0119stotliwo\\u015b\\u0107 zakup\\u00f3w ze wzgl\\u0119du na dat\\u0119\"}, \"width\": 950, \"xaxis\": {\"anchor\": \"y\", \"domain\": [0.0, 1.0], \"matches\": \"x2\", \"showticklabels\": false}, \"xaxis2\": {\"anchor\": \"y2\", \"domain\": [0.0, 1.0]}, \"yaxis\": {\"anchor\": \"x\", \"domain\": [0.51, 1.0]}, \"yaxis2\": {\"anchor\": \"x2\", \"domain\": [0.0, 0.49]}},\n",
              "                        {\"responsive\": true}\n",
              "                    ).then(function(){\n",
              "                            \n",
              "var gd = document.getElementById('b58583d1-341f-4150-b907-35a7491667da');\n",
              "var x = new MutationObserver(function (mutations, observer) {{\n",
              "        var display = window.getComputedStyle(gd).display;\n",
              "        if (!display || display === 'none') {{\n",
              "            console.log([gd, 'removed!']);\n",
              "            Plotly.purge(gd);\n",
              "            observer.disconnect();\n",
              "        }}\n",
              "}});\n",
              "\n",
              "// Listen for the removal of the full notebook cells\n",
              "var notebookContainer = gd.closest('#notebook-container');\n",
              "if (notebookContainer) {{\n",
              "    x.observe(notebookContainer, {childList: true});\n",
              "}}\n",
              "\n",
              "// Listen for the clearing of the current output cell\n",
              "var outputEl = gd.closest('.output');\n",
              "if (outputEl) {{\n",
              "    x.observe(outputEl, {childList: true});\n",
              "}}\n",
              "\n",
              "                        })\n",
              "                };\n",
              "                \n",
              "            </script>\n",
              "        </div>\n",
              "</body>\n",
              "</html>"
            ]
          },
          "metadata": {
            "tags": []
          }
        }
      ]
    },
    {
      "cell_type": "code",
      "metadata": {
        "id": "sjrV4IXKxk_k",
        "outputId": "f12e289b-4d19-4548-fe0f-1e16992807fd",
        "colab": {
          "base_uri": "https://localhost:8080/",
          "height": 195
        }
      },
      "source": [
        "data_uk.head()"
      ],
      "execution_count": 89,
      "outputs": [
        {
          "output_type": "execute_result",
          "data": {
            "text/html": [
              "<div>\n",
              "<style scoped>\n",
              "    .dataframe tbody tr th:only-of-type {\n",
              "        vertical-align: middle;\n",
              "    }\n",
              "\n",
              "    .dataframe tbody tr th {\n",
              "        vertical-align: top;\n",
              "    }\n",
              "\n",
              "    .dataframe thead th {\n",
              "        text-align: right;\n",
              "    }\n",
              "</style>\n",
              "<table border=\"1\" class=\"dataframe\">\n",
              "  <thead>\n",
              "    <tr style=\"text-align: right;\">\n",
              "      <th></th>\n",
              "      <th>InvoiceNo</th>\n",
              "      <th>StockCode</th>\n",
              "      <th>Description</th>\n",
              "      <th>Quantity</th>\n",
              "      <th>InvoiceDate</th>\n",
              "      <th>UnitPrice</th>\n",
              "      <th>CustomerID</th>\n",
              "      <th>Country</th>\n",
              "      <th>Sales</th>\n",
              "    </tr>\n",
              "  </thead>\n",
              "  <tbody>\n",
              "    <tr>\n",
              "      <th>0</th>\n",
              "      <td>536365</td>\n",
              "      <td>85123A</td>\n",
              "      <td>WHITE HANGING HEART T-LIGHT HOLDER</td>\n",
              "      <td>6</td>\n",
              "      <td>2010-12-01 08:26:00</td>\n",
              "      <td>2.55</td>\n",
              "      <td>17850.0</td>\n",
              "      <td>United Kingdom</td>\n",
              "      <td>15.30</td>\n",
              "    </tr>\n",
              "    <tr>\n",
              "      <th>1</th>\n",
              "      <td>536365</td>\n",
              "      <td>71053</td>\n",
              "      <td>WHITE METAL LANTERN</td>\n",
              "      <td>6</td>\n",
              "      <td>2010-12-01 08:26:00</td>\n",
              "      <td>3.39</td>\n",
              "      <td>17850.0</td>\n",
              "      <td>United Kingdom</td>\n",
              "      <td>20.34</td>\n",
              "    </tr>\n",
              "    <tr>\n",
              "      <th>2</th>\n",
              "      <td>536365</td>\n",
              "      <td>84406B</td>\n",
              "      <td>CREAM CUPID HEARTS COAT HANGER</td>\n",
              "      <td>8</td>\n",
              "      <td>2010-12-01 08:26:00</td>\n",
              "      <td>2.75</td>\n",
              "      <td>17850.0</td>\n",
              "      <td>United Kingdom</td>\n",
              "      <td>22.00</td>\n",
              "    </tr>\n",
              "    <tr>\n",
              "      <th>3</th>\n",
              "      <td>536365</td>\n",
              "      <td>84029G</td>\n",
              "      <td>KNITTED UNION FLAG HOT WATER BOTTLE</td>\n",
              "      <td>6</td>\n",
              "      <td>2010-12-01 08:26:00</td>\n",
              "      <td>3.39</td>\n",
              "      <td>17850.0</td>\n",
              "      <td>United Kingdom</td>\n",
              "      <td>20.34</td>\n",
              "    </tr>\n",
              "    <tr>\n",
              "      <th>4</th>\n",
              "      <td>536365</td>\n",
              "      <td>84029E</td>\n",
              "      <td>RED WOOLLY HOTTIE WHITE HEART.</td>\n",
              "      <td>6</td>\n",
              "      <td>2010-12-01 08:26:00</td>\n",
              "      <td>3.39</td>\n",
              "      <td>17850.0</td>\n",
              "      <td>United Kingdom</td>\n",
              "      <td>20.34</td>\n",
              "    </tr>\n",
              "  </tbody>\n",
              "</table>\n",
              "</div>"
            ],
            "text/plain": [
              "  InvoiceNo StockCode  ...         Country  Sales\n",
              "0    536365    85123A  ...  United Kingdom  15.30\n",
              "1    536365     71053  ...  United Kingdom  20.34\n",
              "2    536365    84406B  ...  United Kingdom  22.00\n",
              "3    536365    84029G  ...  United Kingdom  20.34\n",
              "4    536365    84029E  ...  United Kingdom  20.34\n",
              "\n",
              "[5 rows x 9 columns]"
            ]
          },
          "metadata": {
            "tags": []
          },
          "execution_count": 89
        }
      ]
    },
    {
      "cell_type": "code",
      "metadata": {
        "id": "J1ecYsw5x3uV",
        "outputId": "21edad3d-2ca1-4d78-cee1-e45f66846caf",
        "colab": {
          "base_uri": "https://localhost:8080/",
          "height": 195
        }
      },
      "source": [
        "tmp = data_uk.groupby(data_uk['InvoiceDate'].dt.date)['Sales'].sum().reset_index()\n",
        "tmp.columns = ['InvoiceDate', 'Sales']\n",
        "tmp.head()"
      ],
      "execution_count": 90,
      "outputs": [
        {
          "output_type": "execute_result",
          "data": {
            "text/html": [
              "<div>\n",
              "<style scoped>\n",
              "    .dataframe tbody tr th:only-of-type {\n",
              "        vertical-align: middle;\n",
              "    }\n",
              "\n",
              "    .dataframe tbody tr th {\n",
              "        vertical-align: top;\n",
              "    }\n",
              "\n",
              "    .dataframe thead th {\n",
              "        text-align: right;\n",
              "    }\n",
              "</style>\n",
              "<table border=\"1\" class=\"dataframe\">\n",
              "  <thead>\n",
              "    <tr style=\"text-align: right;\">\n",
              "      <th></th>\n",
              "      <th>InvoiceDate</th>\n",
              "      <th>Sales</th>\n",
              "    </tr>\n",
              "  </thead>\n",
              "  <tbody>\n",
              "    <tr>\n",
              "      <th>0</th>\n",
              "      <td>2010-12-01</td>\n",
              "      <td>42030.85</td>\n",
              "    </tr>\n",
              "    <tr>\n",
              "      <th>1</th>\n",
              "      <td>2010-12-02</td>\n",
              "      <td>45622.08</td>\n",
              "    </tr>\n",
              "    <tr>\n",
              "      <th>2</th>\n",
              "      <td>2010-12-03</td>\n",
              "      <td>17512.44</td>\n",
              "    </tr>\n",
              "    <tr>\n",
              "      <th>3</th>\n",
              "      <td>2010-12-05</td>\n",
              "      <td>25458.85</td>\n",
              "    </tr>\n",
              "    <tr>\n",
              "      <th>4</th>\n",
              "      <td>2010-12-06</td>\n",
              "      <td>29007.74</td>\n",
              "    </tr>\n",
              "  </tbody>\n",
              "</table>\n",
              "</div>"
            ],
            "text/plain": [
              "  InvoiceDate     Sales\n",
              "0  2010-12-01  42030.85\n",
              "1  2010-12-02  45622.08\n",
              "2  2010-12-03  17512.44\n",
              "3  2010-12-05  25458.85\n",
              "4  2010-12-06  29007.74"
            ]
          },
          "metadata": {
            "tags": []
          },
          "execution_count": 90
        }
      ]
    },
    {
      "cell_type": "code",
      "metadata": {
        "id": "P_Em8efFx9VR",
        "outputId": "1a543255-13e0-4e9b-9d8e-94cc5a7f77b3",
        "colab": {
          "base_uri": "https://localhost:8080/",
          "height": 542
        }
      },
      "source": [
        "fig = make_subplots(rows=2, cols=1, shared_xaxes=True, vertical_spacing=0.02)\n",
        "\n",
        "trace1 = px.line(tmp, x='InvoiceDate', y='Sales', template='plotly_dark', color_discrete_sequence=['black'])['data'][0]\n",
        "trace2 = px.scatter(tmp, x='InvoiceDate', y='Sales', template='plotly_dark', color_discrete_sequence=['black'])['data'][0]\n",
        "\n",
        "fig.add_trace(trace1, row=1, col=1)\n",
        "fig.add_trace(trace2, row=2, col=1)\n",
        "fig.update_layout(template='simple_white', title='Łączna sprzedaż ze względu na datę', width=950)\n",
        "fig.show()"
      ],
      "execution_count": 91,
      "outputs": [
        {
          "output_type": "display_data",
          "data": {
            "text/html": [
              "<html>\n",
              "<head><meta charset=\"utf-8\" /></head>\n",
              "<body>\n",
              "    <div>\n",
              "            <script src=\"https://cdnjs.cloudflare.com/ajax/libs/mathjax/2.7.5/MathJax.js?config=TeX-AMS-MML_SVG\"></script><script type=\"text/javascript\">if (window.MathJax) {MathJax.Hub.Config({SVG: {font: \"STIX-Web\"}});}</script>\n",
              "                <script type=\"text/javascript\">window.PlotlyConfig = {MathJaxConfig: 'local'};</script>\n",
              "        <script src=\"https://cdn.plot.ly/plotly-latest.min.js\"></script>    \n",
              "            <div id=\"adb5ceff-ba49-436a-a40f-7c0eb54ee88c\" class=\"plotly-graph-div\" style=\"height:525px; width:950px;\"></div>\n",
              "            <script type=\"text/javascript\">\n",
              "                \n",
              "                    window.PLOTLYENV=window.PLOTLYENV || {};\n",
              "                    \n",
              "                if (document.getElementById(\"adb5ceff-ba49-436a-a40f-7c0eb54ee88c\")) {\n",
              "                    Plotly.newPlot(\n",
              "                        'adb5ceff-ba49-436a-a40f-7c0eb54ee88c',\n",
              "                        [{\"hoverlabel\": {\"namelength\": 0}, \"hovertemplate\": \"InvoiceDate=%{x}<br>Sales=%{y}\", \"legendgroup\": \"\", \"line\": {\"color\": \"black\", \"dash\": \"solid\"}, \"mode\": \"lines\", \"name\": \"\", \"showlegend\": false, \"type\": \"scatter\", \"x\": [\"2010-12-01\", \"2010-12-02\", \"2010-12-03\", \"2010-12-05\", \"2010-12-06\", \"2010-12-07\", \"2010-12-08\", \"2010-12-09\", \"2010-12-10\", \"2010-12-12\", \"2010-12-13\", \"2010-12-14\", \"2010-12-15\", \"2010-12-16\", \"2010-12-17\", \"2010-12-19\", \"2010-12-20\", \"2010-12-21\", \"2010-12-22\", \"2010-12-23\", \"2011-01-04\", \"2011-01-05\", \"2011-01-06\", \"2011-01-07\", \"2011-01-09\", \"2011-01-10\", \"2011-01-11\", \"2011-01-12\", \"2011-01-13\", \"2011-01-14\", \"2011-01-16\", \"2011-01-17\", \"2011-01-18\", \"2011-01-19\", \"2011-01-20\", \"2011-01-21\", \"2011-01-23\", \"2011-01-24\", \"2011-01-25\", \"2011-01-26\", \"2011-01-27\", \"2011-01-28\", \"2011-01-30\", \"2011-01-31\", \"2011-02-01\", \"2011-02-02\", \"2011-02-03\", \"2011-02-04\", \"2011-02-06\", \"2011-02-07\", \"2011-02-08\", \"2011-02-09\", \"2011-02-10\", \"2011-02-11\", \"2011-02-13\", \"2011-02-14\", \"2011-02-15\", \"2011-02-16\", \"2011-02-17\", \"2011-02-18\", \"2011-02-20\", \"2011-02-21\", \"2011-02-22\", \"2011-02-23\", \"2011-02-24\", \"2011-02-25\", \"2011-02-27\", \"2011-02-28\", \"2011-03-01\", \"2011-03-02\", \"2011-03-03\", \"2011-03-04\", \"2011-03-06\", \"2011-03-07\", \"2011-03-08\", \"2011-03-09\", \"2011-03-10\", \"2011-03-11\", \"2011-03-13\", \"2011-03-14\", \"2011-03-15\", \"2011-03-16\", \"2011-03-17\", \"2011-03-18\", \"2011-03-20\", \"2011-03-21\", \"2011-03-22\", \"2011-03-23\", \"2011-03-24\", \"2011-03-25\", \"2011-03-27\", \"2011-03-28\", \"2011-03-29\", \"2011-03-30\", \"2011-03-31\", \"2011-04-01\", \"2011-04-03\", \"2011-04-04\", \"2011-04-05\", \"2011-04-06\", \"2011-04-07\", \"2011-04-08\", \"2011-04-10\", \"2011-04-11\", \"2011-04-12\", \"2011-04-13\", \"2011-04-14\", \"2011-04-15\", \"2011-04-17\", \"2011-04-18\", \"2011-04-19\", \"2011-04-20\", \"2011-04-21\", \"2011-04-26\", \"2011-04-27\", \"2011-04-28\", \"2011-05-01\", \"2011-05-03\", \"2011-05-04\", \"2011-05-05\", \"2011-05-06\", \"2011-05-08\", \"2011-05-09\", \"2011-05-10\", \"2011-05-11\", \"2011-05-12\", \"2011-05-13\", \"2011-05-15\", \"2011-05-16\", \"2011-05-17\", \"2011-05-18\", \"2011-05-19\", \"2011-05-20\", \"2011-05-22\", \"2011-05-23\", \"2011-05-24\", \"2011-05-25\", \"2011-05-26\", \"2011-05-27\", \"2011-05-29\", \"2011-05-31\", \"2011-06-01\", \"2011-06-02\", \"2011-06-03\", \"2011-06-05\", \"2011-06-06\", \"2011-06-07\", \"2011-06-08\", \"2011-06-09\", \"2011-06-10\", \"2011-06-12\", \"2011-06-13\", \"2011-06-14\", \"2011-06-15\", \"2011-06-16\", \"2011-06-17\", \"2011-06-19\", \"2011-06-20\", \"2011-06-21\", \"2011-06-22\", \"2011-06-23\", \"2011-06-24\", \"2011-06-26\", \"2011-06-27\", \"2011-06-28\", \"2011-06-29\", \"2011-06-30\", \"2011-07-01\", \"2011-07-03\", \"2011-07-04\", \"2011-07-05\", \"2011-07-06\", \"2011-07-07\", \"2011-07-08\", \"2011-07-10\", \"2011-07-11\", \"2011-07-12\", \"2011-07-13\", \"2011-07-14\", \"2011-07-15\", \"2011-07-17\", \"2011-07-18\", \"2011-07-19\", \"2011-07-20\", \"2011-07-21\", \"2011-07-22\", \"2011-07-24\", \"2011-07-25\", \"2011-07-26\", \"2011-07-27\", \"2011-07-28\", \"2011-07-29\", \"2011-07-31\", \"2011-08-01\", \"2011-08-02\", \"2011-08-03\", \"2011-08-04\", \"2011-08-05\", \"2011-08-07\", \"2011-08-08\", \"2011-08-09\", \"2011-08-10\", \"2011-08-11\", \"2011-08-12\", \"2011-08-14\", \"2011-08-15\", \"2011-08-16\", \"2011-08-17\", \"2011-08-18\", \"2011-08-19\", \"2011-08-21\", \"2011-08-22\", \"2011-08-23\", \"2011-08-24\", \"2011-08-25\", \"2011-08-26\", \"2011-08-28\", \"2011-08-30\", \"2011-08-31\", \"2011-09-01\", \"2011-09-02\", \"2011-09-04\", \"2011-09-05\", \"2011-09-06\", \"2011-09-07\", \"2011-09-08\", \"2011-09-09\", \"2011-09-11\", \"2011-09-12\", \"2011-09-13\", \"2011-09-14\", \"2011-09-15\", \"2011-09-16\", \"2011-09-18\", \"2011-09-19\", \"2011-09-20\", \"2011-09-21\", \"2011-09-22\", \"2011-09-23\", \"2011-09-25\", \"2011-09-26\", \"2011-09-27\", \"2011-09-28\", \"2011-09-29\", \"2011-09-30\", \"2011-10-02\", \"2011-10-03\", \"2011-10-04\", \"2011-10-05\", \"2011-10-06\", \"2011-10-07\", \"2011-10-09\", \"2011-10-10\", \"2011-10-11\", \"2011-10-12\", \"2011-10-13\", \"2011-10-14\", \"2011-10-16\", \"2011-10-17\", \"2011-10-18\", \"2011-10-19\", \"2011-10-20\", \"2011-10-21\", \"2011-10-23\", \"2011-10-24\", \"2011-10-25\", \"2011-10-26\", \"2011-10-27\", \"2011-10-28\", \"2011-10-30\", \"2011-10-31\", \"2011-11-01\", \"2011-11-02\", \"2011-11-03\", \"2011-11-04\", \"2011-11-06\", \"2011-11-07\", \"2011-11-08\", \"2011-11-09\", \"2011-11-10\", \"2011-11-11\", \"2011-11-13\", \"2011-11-14\", \"2011-11-15\", \"2011-11-16\", \"2011-11-17\", \"2011-11-18\", \"2011-11-20\", \"2011-11-21\", \"2011-11-22\", \"2011-11-23\", \"2011-11-24\", \"2011-11-25\", \"2011-11-27\", \"2011-11-28\", \"2011-11-29\", \"2011-11-30\", \"2011-12-01\", \"2011-12-02\", \"2011-12-04\", \"2011-12-05\", \"2011-12-06\", \"2011-12-07\", \"2011-12-08\", \"2011-12-09\"], \"xaxis\": \"x\", \"y\": [42030.8500000002, 45622.079999999914, 17512.440000000053, 25458.850000000166, 29007.740000000176, 50368.42000000011, 34026.01000000017, 27639.750000000153, 27105.04000000011, 13627.030000000028, 26560.870000000046, 25410.19000000013, 29415.400000000107, 46652.569999999956, 7789.719999999994, 6518.819999999993, 15559.91000000004, 5624.330000000001, 4110.0, 3759.719999999997, 10542.299999999988, 27230.53000000011, 25238.41000000011, 16014.450000000015, 14238.640000000012, 11288.459999999994, 52746.62000000004, 13577.950000000004, 12718.100000000019, 9667.149999999998, 7116.609999999981, 13426.770000000028, 6771.790000000012, 8815.429999999995, 10089.349999999995, 14622.720000000001, 9771.44999999997, 11798.089999999997, 18033.810000000027, 13471.360000000015, 15959.440000000031, 10816.449999999993, 6456.439999999991, 11568.960000000017, 22829.88000000001, 15797.830000000044, 18821.800000000065, 15521.960000000017, 3457.1099999999965, 20902.910000000007, 12367.990000000014, 4715.209999999993, 12056.080000000007, 13667.730000000005, 5535.399999999994, 18399.100000000046, 17215.470000000045, 19220.55000000003, 15458.09, 12682.860000000015, 9578.890000000032, 10330.899999999992, 25789.500000000047, 16940.97000000003, 19632.380000000045, 16690.94000000002, 8967.899999999972, 12272.180000000031, 12626.020000000006, 17491.899999999998, 13886.000000000007, 14447.510000000015, 9588.279999999986, 18844.270000000048, 19748.89000000005, 17542.810000000016, 15780.850000000015, 15730.080000000002, 3794.329999999997, 18588.570000000043, 10428.809999999996, 19274.590000000033, 24122.970000000063, 19974.919999999987, 18452.050000000065, 15179.170000000024, 15655.400000000007, 17220.690000000013, 33702.300000000076, 20700.709999999985, 8827.519999999991, 15162.629999999994, 18762.570000000032, 25521.73000000005, 15862.299999999988, 20882.880000000023, 6853.449999999998, 18598.990000000023, 17949.620000000014, 11688.780000000019, 13880.760000000028, 17559.660000000007, 8887.389999999968, 17437.66000000004, 23233.340000000106, 22532.060000000027, 30170.700000000103, 15717.431000000017, 11627.34, 16740.209999999995, 14754.480000000021, 24374.97, 23915.89, 20212.520000000026, 21357.51999999999, 18368.760000000028, 5870.3299999999945, 10375.710000000015, 24721.560000000096, 21082.660000000058, 25384.680000000048, 16889.96000000002, 19474.010000000017, 24995.11000000008, 26704.43000000011, 25152.510000000013, 22646.79, 8924.869999999999, 30295.039999999997, 31723.89000000002, 29604.83000000006, 25155.31999999998, 22515.960000000046, 21590.850000000046, 22890.35999999998, 31170.460000000083, 17701.790000000005, 21303.689999999995, 19107.230000000032, 6625.569999999985, 13665.74000000001, 8926.29999999999, 25711.00000000006, 13018.390000000012, 19392.040000000026, 12643.71000000003, 32371.13000000009, 23508.410000000065, 36068.61000000001, 11245.359999999977, 11495.629999999981, 11878.200000000006, 33203.12000000013, 13605.859999999986, 28208.65000000002, 13786.220000000003, 15683.989999999996, 16639.34000000003, 15570.759999999997, 16470.850000000002, 19268.27000000002, 13754.149999999998, 5368.689999999985, 12202.740000000014, 16187.589999999993, 9370.300000000003, 36929.94000000007, 9041.939999999984, 5977.139999999991, 24837.970000000056, 24086.310000000016, 18021.240000000016, 24903.949999999993, 14507.21000000001, 5692.069999999985, 17391.680000000026, 15310.010000000011, 13553.51999999999, 23352.460000000036, 9265.64999999999, 16443.370000000054, 5023.879999999993, 28491.620000000035, 18962.980000000003, 25818.70999999996, 12866.049999999983, 24469.170000000024, 15894.850000000004, 15861.990999999978, 16515.670000000024, 46069.94000000007, 15221.769999999975, 13566.450000000004, 17941.00000000002, 13387.179999999988, 23912.110000000095, 53681.140000000094, 15169.240000000016, 7354.769999999993, 13900.929999999986, 12433.739999999969, 16178.359999999997, 32209.220000000027, 12478.939999999984, 5542.989999999998, 13072.029999999993, 15504.390000000016, 43352.67000000006, 25843.230000000072, 12783.879999999996, 11797.940000000017, 24936.230000000043, 17753.809999999987, 35217.030000000115, 17830.300000000036, 13208.599999999988, 9538.289999999979, 8226.53, 3753.8599999999974, 29027.47, 26160.520000000106, 12992.359999999977, 24411.939999999984, 19761.900000000027, 15374.490000000002, 17596.959999999985, 18782.420000000002, 33699.20000000018, 27290.380000000056, 34964.25, 19486.39000000007, 65610.96000000002, 21062.46, 15692.330000000029, 18745.719999999983, 100460.37999999989, 25031.81000000008, 44438.73000000005, 22709.36000000003, 28587.751000000084, 26194.171000000115, 27073.619999999995, 31851.56000000012, 38400.84000000018, 31121.8700000001, 11572.000000000013, 59782.21000000004, 37006.380000000114, 46656.92999999996, 45117.879999999896, 42067.20999999988, 11864.649999999994, 35085.14000000011, 22469.290000000008, 19957.580000000027, 22632.990000000078, 22033.769999999997, 21605.440000000053, 30565.130000000154, 30077.27000000014, 22555.67000000005, 28868.530000000126, 52357.030000000035, 12318.110000000013, 30499.80000000008, 32560.890000000054, 29668.700000000114, 32098.400000000067, 24675.880000000085, 30556.170000000096, 28124.83000000004, 24722.350000000133, 31343.480000000036, 56294.59999999996, 48555.26999999994, 33121.79000000022, 24382.060000000056, 35110.37999999995, 55634.32999999991, 54440.31000000021, 28114.550000000017, 23994.220000000092, 51462.64999999995, 38029.94000000013, 36746.610000000175, 35965.60000000015, 28127.450000000077, 26558.81000000006, 39837.63000000011, 43046.950000000004, 55013.450000000084, 27925.08000000012, 22652.550000000083, 16431.470000000045, 46195.85000000008, 41183.029999999955, 31219.250000000062, 40602.13999999987, 40467.06999999999, 17335.01000000006, 53598.45999999997, 39738.14000000016, 48943.63000000001, 46462.30999999999, 10773.709999999992], \"yaxis\": \"y\"}, {\"hoverlabel\": {\"namelength\": 0}, \"hovertemplate\": \"InvoiceDate=%{x}<br>Sales=%{y}\", \"legendgroup\": \"\", \"marker\": {\"color\": \"black\", \"symbol\": \"circle\"}, \"mode\": \"markers\", \"name\": \"\", \"showlegend\": false, \"type\": \"scatter\", \"x\": [\"2010-12-01\", \"2010-12-02\", \"2010-12-03\", \"2010-12-05\", \"2010-12-06\", \"2010-12-07\", \"2010-12-08\", \"2010-12-09\", \"2010-12-10\", \"2010-12-12\", \"2010-12-13\", \"2010-12-14\", \"2010-12-15\", \"2010-12-16\", \"2010-12-17\", \"2010-12-19\", \"2010-12-20\", \"2010-12-21\", \"2010-12-22\", \"2010-12-23\", \"2011-01-04\", \"2011-01-05\", \"2011-01-06\", \"2011-01-07\", \"2011-01-09\", \"2011-01-10\", \"2011-01-11\", \"2011-01-12\", \"2011-01-13\", \"2011-01-14\", \"2011-01-16\", \"2011-01-17\", \"2011-01-18\", \"2011-01-19\", \"2011-01-20\", \"2011-01-21\", \"2011-01-23\", \"2011-01-24\", \"2011-01-25\", \"2011-01-26\", \"2011-01-27\", \"2011-01-28\", \"2011-01-30\", \"2011-01-31\", \"2011-02-01\", \"2011-02-02\", \"2011-02-03\", \"2011-02-04\", \"2011-02-06\", \"2011-02-07\", \"2011-02-08\", \"2011-02-09\", \"2011-02-10\", \"2011-02-11\", \"2011-02-13\", \"2011-02-14\", \"2011-02-15\", \"2011-02-16\", \"2011-02-17\", \"2011-02-18\", \"2011-02-20\", \"2011-02-21\", \"2011-02-22\", \"2011-02-23\", \"2011-02-24\", \"2011-02-25\", \"2011-02-27\", \"2011-02-28\", \"2011-03-01\", \"2011-03-02\", \"2011-03-03\", \"2011-03-04\", \"2011-03-06\", \"2011-03-07\", \"2011-03-08\", \"2011-03-09\", \"2011-03-10\", \"2011-03-11\", \"2011-03-13\", \"2011-03-14\", \"2011-03-15\", \"2011-03-16\", \"2011-03-17\", \"2011-03-18\", \"2011-03-20\", \"2011-03-21\", \"2011-03-22\", \"2011-03-23\", \"2011-03-24\", \"2011-03-25\", \"2011-03-27\", \"2011-03-28\", \"2011-03-29\", \"2011-03-30\", \"2011-03-31\", \"2011-04-01\", \"2011-04-03\", \"2011-04-04\", \"2011-04-05\", \"2011-04-06\", \"2011-04-07\", \"2011-04-08\", \"2011-04-10\", \"2011-04-11\", \"2011-04-12\", \"2011-04-13\", \"2011-04-14\", \"2011-04-15\", \"2011-04-17\", \"2011-04-18\", \"2011-04-19\", \"2011-04-20\", \"2011-04-21\", \"2011-04-26\", \"2011-04-27\", \"2011-04-28\", \"2011-05-01\", \"2011-05-03\", \"2011-05-04\", \"2011-05-05\", \"2011-05-06\", \"2011-05-08\", \"2011-05-09\", \"2011-05-10\", \"2011-05-11\", \"2011-05-12\", \"2011-05-13\", \"2011-05-15\", \"2011-05-16\", \"2011-05-17\", \"2011-05-18\", \"2011-05-19\", \"2011-05-20\", \"2011-05-22\", \"2011-05-23\", \"2011-05-24\", \"2011-05-25\", \"2011-05-26\", \"2011-05-27\", \"2011-05-29\", \"2011-05-31\", \"2011-06-01\", \"2011-06-02\", \"2011-06-03\", \"2011-06-05\", \"2011-06-06\", \"2011-06-07\", \"2011-06-08\", \"2011-06-09\", \"2011-06-10\", \"2011-06-12\", \"2011-06-13\", \"2011-06-14\", \"2011-06-15\", \"2011-06-16\", \"2011-06-17\", \"2011-06-19\", \"2011-06-20\", \"2011-06-21\", \"2011-06-22\", \"2011-06-23\", \"2011-06-24\", \"2011-06-26\", \"2011-06-27\", \"2011-06-28\", \"2011-06-29\", \"2011-06-30\", \"2011-07-01\", \"2011-07-03\", \"2011-07-04\", \"2011-07-05\", \"2011-07-06\", \"2011-07-07\", \"2011-07-08\", \"2011-07-10\", \"2011-07-11\", \"2011-07-12\", \"2011-07-13\", \"2011-07-14\", \"2011-07-15\", \"2011-07-17\", \"2011-07-18\", \"2011-07-19\", \"2011-07-20\", \"2011-07-21\", \"2011-07-22\", \"2011-07-24\", \"2011-07-25\", \"2011-07-26\", \"2011-07-27\", \"2011-07-28\", \"2011-07-29\", \"2011-07-31\", \"2011-08-01\", \"2011-08-02\", \"2011-08-03\", \"2011-08-04\", \"2011-08-05\", \"2011-08-07\", \"2011-08-08\", \"2011-08-09\", \"2011-08-10\", \"2011-08-11\", \"2011-08-12\", \"2011-08-14\", \"2011-08-15\", \"2011-08-16\", \"2011-08-17\", \"2011-08-18\", \"2011-08-19\", \"2011-08-21\", \"2011-08-22\", \"2011-08-23\", \"2011-08-24\", \"2011-08-25\", \"2011-08-26\", \"2011-08-28\", \"2011-08-30\", \"2011-08-31\", \"2011-09-01\", \"2011-09-02\", \"2011-09-04\", \"2011-09-05\", \"2011-09-06\", \"2011-09-07\", \"2011-09-08\", \"2011-09-09\", \"2011-09-11\", \"2011-09-12\", \"2011-09-13\", \"2011-09-14\", \"2011-09-15\", \"2011-09-16\", \"2011-09-18\", \"2011-09-19\", \"2011-09-20\", \"2011-09-21\", \"2011-09-22\", \"2011-09-23\", \"2011-09-25\", \"2011-09-26\", \"2011-09-27\", \"2011-09-28\", \"2011-09-29\", \"2011-09-30\", \"2011-10-02\", \"2011-10-03\", \"2011-10-04\", \"2011-10-05\", \"2011-10-06\", \"2011-10-07\", \"2011-10-09\", \"2011-10-10\", \"2011-10-11\", \"2011-10-12\", \"2011-10-13\", \"2011-10-14\", \"2011-10-16\", \"2011-10-17\", \"2011-10-18\", \"2011-10-19\", \"2011-10-20\", \"2011-10-21\", \"2011-10-23\", \"2011-10-24\", \"2011-10-25\", \"2011-10-26\", \"2011-10-27\", \"2011-10-28\", \"2011-10-30\", \"2011-10-31\", \"2011-11-01\", \"2011-11-02\", \"2011-11-03\", \"2011-11-04\", \"2011-11-06\", \"2011-11-07\", \"2011-11-08\", \"2011-11-09\", \"2011-11-10\", \"2011-11-11\", \"2011-11-13\", \"2011-11-14\", \"2011-11-15\", \"2011-11-16\", \"2011-11-17\", \"2011-11-18\", \"2011-11-20\", \"2011-11-21\", \"2011-11-22\", \"2011-11-23\", \"2011-11-24\", \"2011-11-25\", \"2011-11-27\", \"2011-11-28\", \"2011-11-29\", \"2011-11-30\", \"2011-12-01\", \"2011-12-02\", \"2011-12-04\", \"2011-12-05\", \"2011-12-06\", \"2011-12-07\", \"2011-12-08\", \"2011-12-09\"], \"xaxis\": \"x2\", \"y\": [42030.8500000002, 45622.079999999914, 17512.440000000053, 25458.850000000166, 29007.740000000176, 50368.42000000011, 34026.01000000017, 27639.750000000153, 27105.04000000011, 13627.030000000028, 26560.870000000046, 25410.19000000013, 29415.400000000107, 46652.569999999956, 7789.719999999994, 6518.819999999993, 15559.91000000004, 5624.330000000001, 4110.0, 3759.719999999997, 10542.299999999988, 27230.53000000011, 25238.41000000011, 16014.450000000015, 14238.640000000012, 11288.459999999994, 52746.62000000004, 13577.950000000004, 12718.100000000019, 9667.149999999998, 7116.609999999981, 13426.770000000028, 6771.790000000012, 8815.429999999995, 10089.349999999995, 14622.720000000001, 9771.44999999997, 11798.089999999997, 18033.810000000027, 13471.360000000015, 15959.440000000031, 10816.449999999993, 6456.439999999991, 11568.960000000017, 22829.88000000001, 15797.830000000044, 18821.800000000065, 15521.960000000017, 3457.1099999999965, 20902.910000000007, 12367.990000000014, 4715.209999999993, 12056.080000000007, 13667.730000000005, 5535.399999999994, 18399.100000000046, 17215.470000000045, 19220.55000000003, 15458.09, 12682.860000000015, 9578.890000000032, 10330.899999999992, 25789.500000000047, 16940.97000000003, 19632.380000000045, 16690.94000000002, 8967.899999999972, 12272.180000000031, 12626.020000000006, 17491.899999999998, 13886.000000000007, 14447.510000000015, 9588.279999999986, 18844.270000000048, 19748.89000000005, 17542.810000000016, 15780.850000000015, 15730.080000000002, 3794.329999999997, 18588.570000000043, 10428.809999999996, 19274.590000000033, 24122.970000000063, 19974.919999999987, 18452.050000000065, 15179.170000000024, 15655.400000000007, 17220.690000000013, 33702.300000000076, 20700.709999999985, 8827.519999999991, 15162.629999999994, 18762.570000000032, 25521.73000000005, 15862.299999999988, 20882.880000000023, 6853.449999999998, 18598.990000000023, 17949.620000000014, 11688.780000000019, 13880.760000000028, 17559.660000000007, 8887.389999999968, 17437.66000000004, 23233.340000000106, 22532.060000000027, 30170.700000000103, 15717.431000000017, 11627.34, 16740.209999999995, 14754.480000000021, 24374.97, 23915.89, 20212.520000000026, 21357.51999999999, 18368.760000000028, 5870.3299999999945, 10375.710000000015, 24721.560000000096, 21082.660000000058, 25384.680000000048, 16889.96000000002, 19474.010000000017, 24995.11000000008, 26704.43000000011, 25152.510000000013, 22646.79, 8924.869999999999, 30295.039999999997, 31723.89000000002, 29604.83000000006, 25155.31999999998, 22515.960000000046, 21590.850000000046, 22890.35999999998, 31170.460000000083, 17701.790000000005, 21303.689999999995, 19107.230000000032, 6625.569999999985, 13665.74000000001, 8926.29999999999, 25711.00000000006, 13018.390000000012, 19392.040000000026, 12643.71000000003, 32371.13000000009, 23508.410000000065, 36068.61000000001, 11245.359999999977, 11495.629999999981, 11878.200000000006, 33203.12000000013, 13605.859999999986, 28208.65000000002, 13786.220000000003, 15683.989999999996, 16639.34000000003, 15570.759999999997, 16470.850000000002, 19268.27000000002, 13754.149999999998, 5368.689999999985, 12202.740000000014, 16187.589999999993, 9370.300000000003, 36929.94000000007, 9041.939999999984, 5977.139999999991, 24837.970000000056, 24086.310000000016, 18021.240000000016, 24903.949999999993, 14507.21000000001, 5692.069999999985, 17391.680000000026, 15310.010000000011, 13553.51999999999, 23352.460000000036, 9265.64999999999, 16443.370000000054, 5023.879999999993, 28491.620000000035, 18962.980000000003, 25818.70999999996, 12866.049999999983, 24469.170000000024, 15894.850000000004, 15861.990999999978, 16515.670000000024, 46069.94000000007, 15221.769999999975, 13566.450000000004, 17941.00000000002, 13387.179999999988, 23912.110000000095, 53681.140000000094, 15169.240000000016, 7354.769999999993, 13900.929999999986, 12433.739999999969, 16178.359999999997, 32209.220000000027, 12478.939999999984, 5542.989999999998, 13072.029999999993, 15504.390000000016, 43352.67000000006, 25843.230000000072, 12783.879999999996, 11797.940000000017, 24936.230000000043, 17753.809999999987, 35217.030000000115, 17830.300000000036, 13208.599999999988, 9538.289999999979, 8226.53, 3753.8599999999974, 29027.47, 26160.520000000106, 12992.359999999977, 24411.939999999984, 19761.900000000027, 15374.490000000002, 17596.959999999985, 18782.420000000002, 33699.20000000018, 27290.380000000056, 34964.25, 19486.39000000007, 65610.96000000002, 21062.46, 15692.330000000029, 18745.719999999983, 100460.37999999989, 25031.81000000008, 44438.73000000005, 22709.36000000003, 28587.751000000084, 26194.171000000115, 27073.619999999995, 31851.56000000012, 38400.84000000018, 31121.8700000001, 11572.000000000013, 59782.21000000004, 37006.380000000114, 46656.92999999996, 45117.879999999896, 42067.20999999988, 11864.649999999994, 35085.14000000011, 22469.290000000008, 19957.580000000027, 22632.990000000078, 22033.769999999997, 21605.440000000053, 30565.130000000154, 30077.27000000014, 22555.67000000005, 28868.530000000126, 52357.030000000035, 12318.110000000013, 30499.80000000008, 32560.890000000054, 29668.700000000114, 32098.400000000067, 24675.880000000085, 30556.170000000096, 28124.83000000004, 24722.350000000133, 31343.480000000036, 56294.59999999996, 48555.26999999994, 33121.79000000022, 24382.060000000056, 35110.37999999995, 55634.32999999991, 54440.31000000021, 28114.550000000017, 23994.220000000092, 51462.64999999995, 38029.94000000013, 36746.610000000175, 35965.60000000015, 28127.450000000077, 26558.81000000006, 39837.63000000011, 43046.950000000004, 55013.450000000084, 27925.08000000012, 22652.550000000083, 16431.470000000045, 46195.85000000008, 41183.029999999955, 31219.250000000062, 40602.13999999987, 40467.06999999999, 17335.01000000006, 53598.45999999997, 39738.14000000016, 48943.63000000001, 46462.30999999999, 10773.709999999992], \"yaxis\": \"y2\"}],\n",
              "                        {\"template\": {\"data\": {\"bar\": [{\"error_x\": {\"color\": \"rgb(36,36,36)\"}, \"error_y\": {\"color\": \"rgb(36,36,36)\"}, \"marker\": {\"line\": {\"color\": \"white\", \"width\": 0.5}}, \"type\": \"bar\"}], \"barpolar\": [{\"marker\": {\"line\": {\"color\": \"white\", \"width\": 0.5}}, \"type\": \"barpolar\"}], \"carpet\": [{\"aaxis\": {\"endlinecolor\": \"rgb(36,36,36)\", \"gridcolor\": \"white\", \"linecolor\": \"white\", \"minorgridcolor\": \"white\", \"startlinecolor\": \"rgb(36,36,36)\"}, \"baxis\": {\"endlinecolor\": \"rgb(36,36,36)\", \"gridcolor\": \"white\", \"linecolor\": \"white\", \"minorgridcolor\": \"white\", \"startlinecolor\": \"rgb(36,36,36)\"}, \"type\": \"carpet\"}], \"choropleth\": [{\"colorbar\": {\"outlinewidth\": 10, \"tickcolor\": \"rgb(36,36,36)\", \"ticklen\": 8, \"ticks\": \"outside\", \"tickwidth\": 2}, \"type\": \"choropleth\"}], \"contour\": [{\"colorbar\": {\"outlinewidth\": 10, \"tickcolor\": \"rgb(36,36,36)\", \"ticklen\": 8, \"ticks\": \"outside\", \"tickwidth\": 2}, \"colorscale\": [[0.0, \"#440154\"], [0.1111111111111111, \"#482878\"], [0.2222222222222222, \"#3e4989\"], [0.3333333333333333, \"#31688e\"], [0.4444444444444444, \"#26828e\"], [0.5555555555555556, \"#1f9e89\"], [0.6666666666666666, \"#35b779\"], [0.7777777777777778, \"#6ece58\"], [0.8888888888888888, \"#b5de2b\"], [1.0, \"#fde725\"]], \"type\": \"contour\"}], \"contourcarpet\": [{\"colorbar\": {\"outlinewidth\": 10, \"tickcolor\": \"rgb(36,36,36)\", \"ticklen\": 8, \"ticks\": \"outside\", \"tickwidth\": 2}, \"type\": \"contourcarpet\"}], \"heatmap\": [{\"colorbar\": {\"outlinewidth\": 10, \"tickcolor\": \"rgb(36,36,36)\", \"ticklen\": 8, \"ticks\": \"outside\", \"tickwidth\": 2}, \"colorscale\": [[0.0, \"#440154\"], [0.1111111111111111, \"#482878\"], [0.2222222222222222, \"#3e4989\"], [0.3333333333333333, \"#31688e\"], [0.4444444444444444, \"#26828e\"], [0.5555555555555556, \"#1f9e89\"], [0.6666666666666666, \"#35b779\"], [0.7777777777777778, \"#6ece58\"], [0.8888888888888888, \"#b5de2b\"], [1.0, \"#fde725\"]], \"type\": \"heatmap\"}], \"heatmapgl\": [{\"colorbar\": {\"outlinewidth\": 10, \"tickcolor\": \"rgb(36,36,36)\", \"ticklen\": 8, \"ticks\": \"outside\", \"tickwidth\": 2}, \"colorscale\": [[0.0, \"#440154\"], [0.1111111111111111, \"#482878\"], [0.2222222222222222, \"#3e4989\"], [0.3333333333333333, \"#31688e\"], [0.4444444444444444, \"#26828e\"], [0.5555555555555556, \"#1f9e89\"], [0.6666666666666666, \"#35b779\"], [0.7777777777777778, \"#6ece58\"], [0.8888888888888888, \"#b5de2b\"], [1.0, \"#fde725\"]], \"type\": \"heatmapgl\"}], \"histogram\": [{\"marker\": {\"line\": {\"color\": \"white\", \"width\": 0.6}}, \"type\": \"histogram\"}], \"histogram2d\": [{\"colorbar\": {\"outlinewidth\": 10, \"tickcolor\": \"rgb(36,36,36)\", \"ticklen\": 8, \"ticks\": \"outside\", \"tickwidth\": 2}, \"colorscale\": [[0.0, \"#440154\"], [0.1111111111111111, \"#482878\"], [0.2222222222222222, \"#3e4989\"], [0.3333333333333333, \"#31688e\"], [0.4444444444444444, \"#26828e\"], [0.5555555555555556, \"#1f9e89\"], [0.6666666666666666, \"#35b779\"], [0.7777777777777778, \"#6ece58\"], [0.8888888888888888, \"#b5de2b\"], [1.0, \"#fde725\"]], \"type\": \"histogram2d\"}], \"histogram2dcontour\": [{\"colorbar\": {\"outlinewidth\": 10, \"tickcolor\": \"rgb(36,36,36)\", \"ticklen\": 8, \"ticks\": \"outside\", \"tickwidth\": 2}, \"colorscale\": [[0.0, \"#440154\"], [0.1111111111111111, \"#482878\"], [0.2222222222222222, \"#3e4989\"], [0.3333333333333333, \"#31688e\"], [0.4444444444444444, \"#26828e\"], [0.5555555555555556, \"#1f9e89\"], [0.6666666666666666, \"#35b779\"], [0.7777777777777778, \"#6ece58\"], [0.8888888888888888, \"#b5de2b\"], [1.0, \"#fde725\"]], \"type\": \"histogram2dcontour\"}], \"mesh3d\": [{\"colorbar\": {\"outlinewidth\": 10, \"tickcolor\": \"rgb(36,36,36)\", \"ticklen\": 8, \"ticks\": \"outside\", \"tickwidth\": 2}, \"type\": \"mesh3d\"}], \"parcoords\": [{\"line\": {\"colorbar\": {\"outlinewidth\": 10, \"tickcolor\": \"rgb(36,36,36)\", \"ticklen\": 8, \"ticks\": \"outside\", \"tickwidth\": 2}}, \"type\": \"parcoords\"}], \"pie\": [{\"automargin\": true, \"type\": \"pie\"}], \"scatter\": [{\"marker\": {\"colorbar\": {\"outlinewidth\": 10, \"tickcolor\": \"rgb(36,36,36)\", \"ticklen\": 8, \"ticks\": \"outside\", \"tickwidth\": 2}}, \"type\": \"scatter\"}], \"scatter3d\": [{\"line\": {\"colorbar\": {\"outlinewidth\": 10, \"tickcolor\": \"rgb(36,36,36)\", \"ticklen\": 8, \"ticks\": \"outside\", \"tickwidth\": 2}}, \"marker\": {\"colorbar\": {\"outlinewidth\": 10, \"tickcolor\": \"rgb(36,36,36)\", \"ticklen\": 8, \"ticks\": \"outside\", \"tickwidth\": 2}}, \"type\": \"scatter3d\"}], \"scattercarpet\": [{\"marker\": {\"colorbar\": {\"outlinewidth\": 10, \"tickcolor\": \"rgb(36,36,36)\", \"ticklen\": 8, \"ticks\": \"outside\", \"tickwidth\": 2}}, \"type\": \"scattercarpet\"}], \"scattergeo\": [{\"marker\": {\"colorbar\": {\"outlinewidth\": 10, \"tickcolor\": \"rgb(36,36,36)\", \"ticklen\": 8, \"ticks\": \"outside\", \"tickwidth\": 2}}, \"type\": \"scattergeo\"}], \"scattergl\": [{\"marker\": {\"colorbar\": {\"outlinewidth\": 10, \"tickcolor\": \"rgb(36,36,36)\", \"ticklen\": 8, \"ticks\": \"outside\", \"tickwidth\": 2}}, \"type\": \"scattergl\"}], \"scattermapbox\": [{\"marker\": {\"colorbar\": {\"outlinewidth\": 10, \"tickcolor\": \"rgb(36,36,36)\", \"ticklen\": 8, \"ticks\": \"outside\", \"tickwidth\": 2}}, \"type\": \"scattermapbox\"}], \"scatterpolar\": [{\"marker\": {\"colorbar\": {\"outlinewidth\": 10, \"tickcolor\": \"rgb(36,36,36)\", \"ticklen\": 8, \"ticks\": \"outside\", \"tickwidth\": 2}}, \"type\": \"scatterpolar\"}], \"scatterpolargl\": [{\"marker\": {\"colorbar\": {\"outlinewidth\": 10, \"tickcolor\": \"rgb(36,36,36)\", \"ticklen\": 8, \"ticks\": \"outside\", \"tickwidth\": 2}}, \"type\": \"scatterpolargl\"}], \"scatterternary\": [{\"marker\": {\"colorbar\": {\"outlinewidth\": 10, \"tickcolor\": \"rgb(36,36,36)\", \"ticklen\": 8, \"ticks\": \"outside\", \"tickwidth\": 2}}, \"type\": \"scatterternary\"}], \"surface\": [{\"colorbar\": {\"outlinewidth\": 10, \"tickcolor\": \"rgb(36,36,36)\", \"ticklen\": 8, \"ticks\": \"outside\", \"tickwidth\": 2}, \"colorscale\": [[0.0, \"#440154\"], [0.1111111111111111, \"#482878\"], [0.2222222222222222, \"#3e4989\"], [0.3333333333333333, \"#31688e\"], [0.4444444444444444, \"#26828e\"], [0.5555555555555556, \"#1f9e89\"], [0.6666666666666666, \"#35b779\"], [0.7777777777777778, \"#6ece58\"], [0.8888888888888888, \"#b5de2b\"], [1.0, \"#fde725\"]], \"type\": \"surface\"}], \"table\": [{\"cells\": {\"fill\": {\"color\": \"rgb(237,237,237)\"}, \"line\": {\"color\": \"white\"}}, \"header\": {\"fill\": {\"color\": \"rgb(217,217,217)\"}, \"line\": {\"color\": \"white\"}}, \"type\": \"table\"}]}, \"layout\": {\"annotationdefaults\": {\"arrowhead\": 0, \"arrowwidth\": 1}, \"coloraxis\": {\"colorbar\": {\"outlinewidth\": 10, \"tickcolor\": \"rgb(36,36,36)\", \"ticklen\": 8, \"ticks\": \"outside\", \"tickwidth\": 2}}, \"colorscale\": {\"diverging\": [[0.0, \"rgb(103,0,31)\"], [0.1, \"rgb(178,24,43)\"], [0.2, \"rgb(214,96,77)\"], [0.3, \"rgb(244,165,130)\"], [0.4, \"rgb(253,219,199)\"], [0.5, \"rgb(247,247,247)\"], [0.6, \"rgb(209,229,240)\"], [0.7, \"rgb(146,197,222)\"], [0.8, \"rgb(67,147,195)\"], [0.9, \"rgb(33,102,172)\"], [1.0, \"rgb(5,48,97)\"]], \"sequential\": [[0.0, \"#440154\"], [0.1111111111111111, \"#482878\"], [0.2222222222222222, \"#3e4989\"], [0.3333333333333333, \"#31688e\"], [0.4444444444444444, \"#26828e\"], [0.5555555555555556, \"#1f9e89\"], [0.6666666666666666, \"#35b779\"], [0.7777777777777778, \"#6ece58\"], [0.8888888888888888, \"#b5de2b\"], [1.0, \"#fde725\"]], \"sequentialminus\": [[0.0, \"#440154\"], [0.1111111111111111, \"#482878\"], [0.2222222222222222, \"#3e4989\"], [0.3333333333333333, \"#31688e\"], [0.4444444444444444, \"#26828e\"], [0.5555555555555556, \"#1f9e89\"], [0.6666666666666666, \"#35b779\"], [0.7777777777777778, \"#6ece58\"], [0.8888888888888888, \"#b5de2b\"], [1.0, \"#fde725\"]]}, \"colorway\": [\"#1F77B4\", \"#FF7F0E\", \"#2CA02C\", \"#D62728\", \"#9467BD\", \"#8C564B\", \"#E377C2\", \"#7F7F7F\", \"#BCBD22\", \"#17BECF\"], \"font\": {\"color\": \"rgb(36,36,36)\"}, \"geo\": {\"bgcolor\": \"white\", \"lakecolor\": \"white\", \"landcolor\": \"white\", \"showlakes\": true, \"showland\": true, \"subunitcolor\": \"white\"}, \"hoverlabel\": {\"align\": \"left\"}, \"hovermode\": \"closest\", \"mapbox\": {\"style\": \"light\"}, \"paper_bgcolor\": \"white\", \"plot_bgcolor\": \"white\", \"polar\": {\"angularaxis\": {\"gridcolor\": \"rgb(232,232,232)\", \"linecolor\": \"rgb(36,36,36)\", \"showgrid\": false, \"showline\": true, \"ticks\": \"outside\"}, \"bgcolor\": \"white\", \"radialaxis\": {\"gridcolor\": \"rgb(232,232,232)\", \"linecolor\": \"rgb(36,36,36)\", \"showgrid\": false, \"showline\": true, \"ticks\": \"outside\"}}, \"scene\": {\"xaxis\": {\"backgroundcolor\": \"white\", \"gridcolor\": \"rgb(232,232,232)\", \"gridwidth\": 2, \"linecolor\": \"rgb(36,36,36)\", \"showbackground\": true, \"showgrid\": false, \"showline\": true, \"ticks\": \"outside\", \"zeroline\": false, \"zerolinecolor\": \"rgb(36,36,36)\"}, \"yaxis\": {\"backgroundcolor\": \"white\", \"gridcolor\": \"rgb(232,232,232)\", \"gridwidth\": 2, \"linecolor\": \"rgb(36,36,36)\", \"showbackground\": true, \"showgrid\": false, \"showline\": true, \"ticks\": \"outside\", \"zeroline\": false, \"zerolinecolor\": \"rgb(36,36,36)\"}, \"zaxis\": {\"backgroundcolor\": \"white\", \"gridcolor\": \"rgb(232,232,232)\", \"gridwidth\": 2, \"linecolor\": \"rgb(36,36,36)\", \"showbackground\": true, \"showgrid\": false, \"showline\": true, \"ticks\": \"outside\", \"zeroline\": false, \"zerolinecolor\": \"rgb(36,36,36)\"}}, \"shapedefaults\": {\"fillcolor\": \"black\", \"line\": {\"width\": 0}, \"opacity\": 0.3}, \"ternary\": {\"aaxis\": {\"gridcolor\": \"rgb(232,232,232)\", \"linecolor\": \"rgb(36,36,36)\", \"showgrid\": false, \"showline\": true, \"ticks\": \"outside\"}, \"baxis\": {\"gridcolor\": \"rgb(232,232,232)\", \"linecolor\": \"rgb(36,36,36)\", \"showgrid\": false, \"showline\": true, \"ticks\": \"outside\"}, \"bgcolor\": \"white\", \"caxis\": {\"gridcolor\": \"rgb(232,232,232)\", \"linecolor\": \"rgb(36,36,36)\", \"showgrid\": false, \"showline\": true, \"ticks\": \"outside\"}}, \"title\": {\"x\": 0.05}, \"xaxis\": {\"automargin\": true, \"gridcolor\": \"rgb(232,232,232)\", \"linecolor\": \"rgb(36,36,36)\", \"showgrid\": false, \"showline\": true, \"ticks\": \"outside\", \"title\": {\"standoff\": 15}, \"zeroline\": false, \"zerolinecolor\": \"rgb(36,36,36)\"}, \"yaxis\": {\"automargin\": true, \"gridcolor\": \"rgb(232,232,232)\", \"linecolor\": \"rgb(36,36,36)\", \"showgrid\": false, \"showline\": true, \"ticks\": \"outside\", \"title\": {\"standoff\": 15}, \"zeroline\": false, \"zerolinecolor\": \"rgb(36,36,36)\"}}}, \"title\": {\"text\": \"\\u0141\\u0105czna sprzeda\\u017c ze wzgl\\u0119du na dat\\u0119\"}, \"width\": 950, \"xaxis\": {\"anchor\": \"y\", \"domain\": [0.0, 1.0], \"matches\": \"x2\", \"showticklabels\": false}, \"xaxis2\": {\"anchor\": \"y2\", \"domain\": [0.0, 1.0]}, \"yaxis\": {\"anchor\": \"x\", \"domain\": [0.51, 1.0]}, \"yaxis2\": {\"anchor\": \"x2\", \"domain\": [0.0, 0.49]}},\n",
              "                        {\"responsive\": true}\n",
              "                    ).then(function(){\n",
              "                            \n",
              "var gd = document.getElementById('adb5ceff-ba49-436a-a40f-7c0eb54ee88c');\n",
              "var x = new MutationObserver(function (mutations, observer) {{\n",
              "        var display = window.getComputedStyle(gd).display;\n",
              "        if (!display || display === 'none') {{\n",
              "            console.log([gd, 'removed!']);\n",
              "            Plotly.purge(gd);\n",
              "            observer.disconnect();\n",
              "        }}\n",
              "}});\n",
              "\n",
              "// Listen for the removal of the full notebook cells\n",
              "var notebookContainer = gd.closest('#notebook-container');\n",
              "if (notebookContainer) {{\n",
              "    x.observe(notebookContainer, {childList: true});\n",
              "}}\n",
              "\n",
              "// Listen for the clearing of the current output cell\n",
              "var outputEl = gd.closest('.output');\n",
              "if (outputEl) {{\n",
              "    x.observe(outputEl, {childList: true});\n",
              "}}\n",
              "\n",
              "                        })\n",
              "                };\n",
              "                \n",
              "            </script>\n",
              "        </div>\n",
              "</body>\n",
              "</html>"
            ]
          },
          "metadata": {
            "tags": []
          }
        }
      ]
    },
    {
      "cell_type": "markdown",
      "metadata": {
        "id": "ve4tcKTdyMD6"
      },
      "source": [
        "#### Wyznaczenie retencji klienta"
      ]
    },
    {
      "cell_type": "code",
      "metadata": {
        "id": "N3voljm0yG59",
        "outputId": "6f2aaca9-9a63-4452-b057-e70ba8659ab4",
        "colab": {
          "base_uri": "https://localhost:8080/",
          "height": 195
        }
      },
      "source": [
        "data_user = pd.DataFrame(data['CustomerID'].unique(), columns = ['CustomerID'])\n",
        "data_user.head()"
      ],
      "execution_count": 92,
      "outputs": [
        {
          "output_type": "execute_result",
          "data": {
            "text/html": [
              "<div>\n",
              "<style scoped>\n",
              "    .dataframe tbody tr th:only-of-type {\n",
              "        vertical-align: middle;\n",
              "    }\n",
              "\n",
              "    .dataframe tbody tr th {\n",
              "        vertical-align: top;\n",
              "    }\n",
              "\n",
              "    .dataframe thead th {\n",
              "        text-align: right;\n",
              "    }\n",
              "</style>\n",
              "<table border=\"1\" class=\"dataframe\">\n",
              "  <thead>\n",
              "    <tr style=\"text-align: right;\">\n",
              "      <th></th>\n",
              "      <th>CustomerID</th>\n",
              "    </tr>\n",
              "  </thead>\n",
              "  <tbody>\n",
              "    <tr>\n",
              "      <th>0</th>\n",
              "      <td>17850.0</td>\n",
              "    </tr>\n",
              "    <tr>\n",
              "      <th>1</th>\n",
              "      <td>13047.0</td>\n",
              "    </tr>\n",
              "    <tr>\n",
              "      <th>2</th>\n",
              "      <td>12583.0</td>\n",
              "    </tr>\n",
              "    <tr>\n",
              "      <th>3</th>\n",
              "      <td>13748.0</td>\n",
              "    </tr>\n",
              "    <tr>\n",
              "      <th>4</th>\n",
              "      <td>15100.0</td>\n",
              "    </tr>\n",
              "  </tbody>\n",
              "</table>\n",
              "</div>"
            ],
            "text/plain": [
              "   CustomerID\n",
              "0     17850.0\n",
              "1     13047.0\n",
              "2     12583.0\n",
              "3     13748.0\n",
              "4     15100.0"
            ]
          },
          "metadata": {
            "tags": []
          },
          "execution_count": 92
        }
      ]
    },
    {
      "cell_type": "markdown",
      "metadata": {
        "id": "HxbZLVSuzj3u"
      },
      "source": [
        "Wydobycie wydobycie daty ostatniego zakupu dla każdego klienta"
      ]
    },
    {
      "cell_type": "code",
      "metadata": {
        "id": "nTxZkTSF0Xjr",
        "outputId": "4b14c990-2219-4934-f9b7-63b191a3c037",
        "colab": {
          "base_uri": "https://localhost:8080/",
          "height": 34
        }
      },
      "source": [
        "last_purchase['LastPurchaseDate'].max()"
      ],
      "execution_count": 93,
      "outputs": [
        {
          "output_type": "execute_result",
          "data": {
            "text/plain": [
              "Timestamp('2011-12-09 12:49:00')"
            ]
          },
          "metadata": {
            "tags": []
          },
          "execution_count": 93
        }
      ]
    },
    {
      "cell_type": "code",
      "metadata": {
        "id": "RW3L7oIl0ax2",
        "outputId": "acd3c398-3fdf-47b2-ab9c-c257708975f7",
        "colab": {
          "base_uri": "https://localhost:8080/",
          "height": 34
        }
      },
      "source": [
        "last_purchase['LastPurchaseDate'].min()"
      ],
      "execution_count": 94,
      "outputs": [
        {
          "output_type": "execute_result",
          "data": {
            "text/plain": [
              "Timestamp('2010-12-01 09:53:00')"
            ]
          },
          "metadata": {
            "tags": []
          },
          "execution_count": 94
        }
      ]
    },
    {
      "cell_type": "code",
      "metadata": {
        "id": "vFkI8XOozeyG",
        "outputId": "00d5f1a6-39e3-414f-f44a-c76cd275d34f",
        "colab": {
          "base_uri": "https://localhost:8080/",
          "height": 195
        }
      },
      "source": [
        "last_purchase = data_uk.groupby('CustomerID')['InvoiceDate'].max().reset_index()\n",
        "last_purchase.columns = ['CustomerID', 'LastPurchaseDate']\n",
        "last_purchase.head()"
      ],
      "execution_count": 95,
      "outputs": [
        {
          "output_type": "execute_result",
          "data": {
            "text/html": [
              "<div>\n",
              "<style scoped>\n",
              "    .dataframe tbody tr th:only-of-type {\n",
              "        vertical-align: middle;\n",
              "    }\n",
              "\n",
              "    .dataframe tbody tr th {\n",
              "        vertical-align: top;\n",
              "    }\n",
              "\n",
              "    .dataframe thead th {\n",
              "        text-align: right;\n",
              "    }\n",
              "</style>\n",
              "<table border=\"1\" class=\"dataframe\">\n",
              "  <thead>\n",
              "    <tr style=\"text-align: right;\">\n",
              "      <th></th>\n",
              "      <th>CustomerID</th>\n",
              "      <th>LastPurchaseDate</th>\n",
              "    </tr>\n",
              "  </thead>\n",
              "  <tbody>\n",
              "    <tr>\n",
              "      <th>0</th>\n",
              "      <td>12346.0</td>\n",
              "      <td>2011-01-18 10:17:00</td>\n",
              "    </tr>\n",
              "    <tr>\n",
              "      <th>1</th>\n",
              "      <td>12747.0</td>\n",
              "      <td>2011-12-07 14:34:00</td>\n",
              "    </tr>\n",
              "    <tr>\n",
              "      <th>2</th>\n",
              "      <td>12748.0</td>\n",
              "      <td>2011-12-09 12:20:00</td>\n",
              "    </tr>\n",
              "    <tr>\n",
              "      <th>3</th>\n",
              "      <td>12749.0</td>\n",
              "      <td>2011-12-06 09:56:00</td>\n",
              "    </tr>\n",
              "    <tr>\n",
              "      <th>4</th>\n",
              "      <td>12820.0</td>\n",
              "      <td>2011-12-06 15:12:00</td>\n",
              "    </tr>\n",
              "  </tbody>\n",
              "</table>\n",
              "</div>"
            ],
            "text/plain": [
              "   CustomerID    LastPurchaseDate\n",
              "0     12346.0 2011-01-18 10:17:00\n",
              "1     12747.0 2011-12-07 14:34:00\n",
              "2     12748.0 2011-12-09 12:20:00\n",
              "3     12749.0 2011-12-06 09:56:00\n",
              "4     12820.0 2011-12-06 15:12:00"
            ]
          },
          "metadata": {
            "tags": []
          },
          "execution_count": 95
        }
      ]
    },
    {
      "cell_type": "markdown",
      "metadata": {
        "id": "xlcOCTx70k7B"
      },
      "source": [
        "\n",
        "#### Wyznaczenie retencji jako liczby dni od daty ostatniego kupna klienta do maksymalnej (ostatniej) daty kupna w danych"
      ]
    },
    {
      "cell_type": "code",
      "metadata": {
        "id": "07k1Gt0e1xLr",
        "outputId": "9b9a20fc-1fd7-41e8-d6e6-d1e2301b3cd6",
        "colab": {
          "base_uri": "https://localhost:8080/",
          "height": 402
        }
      },
      "source": [
        "last_purchase"
      ],
      "execution_count": 96,
      "outputs": [
        {
          "output_type": "execute_result",
          "data": {
            "text/html": [
              "<div>\n",
              "<style scoped>\n",
              "    .dataframe tbody tr th:only-of-type {\n",
              "        vertical-align: middle;\n",
              "    }\n",
              "\n",
              "    .dataframe tbody tr th {\n",
              "        vertical-align: top;\n",
              "    }\n",
              "\n",
              "    .dataframe thead th {\n",
              "        text-align: right;\n",
              "    }\n",
              "</style>\n",
              "<table border=\"1\" class=\"dataframe\">\n",
              "  <thead>\n",
              "    <tr style=\"text-align: right;\">\n",
              "      <th></th>\n",
              "      <th>CustomerID</th>\n",
              "      <th>LastPurchaseDate</th>\n",
              "    </tr>\n",
              "  </thead>\n",
              "  <tbody>\n",
              "    <tr>\n",
              "      <th>0</th>\n",
              "      <td>12346.0</td>\n",
              "      <td>2011-01-18 10:17:00</td>\n",
              "    </tr>\n",
              "    <tr>\n",
              "      <th>1</th>\n",
              "      <td>12747.0</td>\n",
              "      <td>2011-12-07 14:34:00</td>\n",
              "    </tr>\n",
              "    <tr>\n",
              "      <th>2</th>\n",
              "      <td>12748.0</td>\n",
              "      <td>2011-12-09 12:20:00</td>\n",
              "    </tr>\n",
              "    <tr>\n",
              "      <th>3</th>\n",
              "      <td>12749.0</td>\n",
              "      <td>2011-12-06 09:56:00</td>\n",
              "    </tr>\n",
              "    <tr>\n",
              "      <th>4</th>\n",
              "      <td>12820.0</td>\n",
              "      <td>2011-12-06 15:12:00</td>\n",
              "    </tr>\n",
              "    <tr>\n",
              "      <th>...</th>\n",
              "      <td>...</td>\n",
              "      <td>...</td>\n",
              "    </tr>\n",
              "    <tr>\n",
              "      <th>3945</th>\n",
              "      <td>18280.0</td>\n",
              "      <td>2011-03-07 09:52:00</td>\n",
              "    </tr>\n",
              "    <tr>\n",
              "      <th>3946</th>\n",
              "      <td>18281.0</td>\n",
              "      <td>2011-06-12 10:53:00</td>\n",
              "    </tr>\n",
              "    <tr>\n",
              "      <th>3947</th>\n",
              "      <td>18282.0</td>\n",
              "      <td>2011-12-02 11:43:00</td>\n",
              "    </tr>\n",
              "    <tr>\n",
              "      <th>3948</th>\n",
              "      <td>18283.0</td>\n",
              "      <td>2011-12-06 12:02:00</td>\n",
              "    </tr>\n",
              "    <tr>\n",
              "      <th>3949</th>\n",
              "      <td>18287.0</td>\n",
              "      <td>2011-10-28 09:29:00</td>\n",
              "    </tr>\n",
              "  </tbody>\n",
              "</table>\n",
              "<p>3950 rows × 2 columns</p>\n",
              "</div>"
            ],
            "text/plain": [
              "      CustomerID    LastPurchaseDate\n",
              "0        12346.0 2011-01-18 10:17:00\n",
              "1        12747.0 2011-12-07 14:34:00\n",
              "2        12748.0 2011-12-09 12:20:00\n",
              "3        12749.0 2011-12-06 09:56:00\n",
              "4        12820.0 2011-12-06 15:12:00\n",
              "...          ...                 ...\n",
              "3945     18280.0 2011-03-07 09:52:00\n",
              "3946     18281.0 2011-06-12 10:53:00\n",
              "3947     18282.0 2011-12-02 11:43:00\n",
              "3948     18283.0 2011-12-06 12:02:00\n",
              "3949     18287.0 2011-10-28 09:29:00\n",
              "\n",
              "[3950 rows x 2 columns]"
            ]
          },
          "metadata": {
            "tags": []
          },
          "execution_count": 96
        }
      ]
    },
    {
      "cell_type": "code",
      "metadata": {
        "id": "NMnqvdtV0Ojr",
        "outputId": "b74636b3-c7b5-453a-ff95-b223111d6531",
        "colab": {
          "base_uri": "https://localhost:8080/",
          "height": 195
        }
      },
      "source": [
        "last_purchase['Retention'] = (last_purchase['LastPurchaseDate'].max() - last_purchase['LastPurchaseDate']).dt.days\n",
        "last_purchase.head()"
      ],
      "execution_count": 97,
      "outputs": [
        {
          "output_type": "execute_result",
          "data": {
            "text/html": [
              "<div>\n",
              "<style scoped>\n",
              "    .dataframe tbody tr th:only-of-type {\n",
              "        vertical-align: middle;\n",
              "    }\n",
              "\n",
              "    .dataframe tbody tr th {\n",
              "        vertical-align: top;\n",
              "    }\n",
              "\n",
              "    .dataframe thead th {\n",
              "        text-align: right;\n",
              "    }\n",
              "</style>\n",
              "<table border=\"1\" class=\"dataframe\">\n",
              "  <thead>\n",
              "    <tr style=\"text-align: right;\">\n",
              "      <th></th>\n",
              "      <th>CustomerID</th>\n",
              "      <th>LastPurchaseDate</th>\n",
              "      <th>Retention</th>\n",
              "    </tr>\n",
              "  </thead>\n",
              "  <tbody>\n",
              "    <tr>\n",
              "      <th>0</th>\n",
              "      <td>12346.0</td>\n",
              "      <td>2011-01-18 10:17:00</td>\n",
              "      <td>325</td>\n",
              "    </tr>\n",
              "    <tr>\n",
              "      <th>1</th>\n",
              "      <td>12747.0</td>\n",
              "      <td>2011-12-07 14:34:00</td>\n",
              "      <td>1</td>\n",
              "    </tr>\n",
              "    <tr>\n",
              "      <th>2</th>\n",
              "      <td>12748.0</td>\n",
              "      <td>2011-12-09 12:20:00</td>\n",
              "      <td>0</td>\n",
              "    </tr>\n",
              "    <tr>\n",
              "      <th>3</th>\n",
              "      <td>12749.0</td>\n",
              "      <td>2011-12-06 09:56:00</td>\n",
              "      <td>3</td>\n",
              "    </tr>\n",
              "    <tr>\n",
              "      <th>4</th>\n",
              "      <td>12820.0</td>\n",
              "      <td>2011-12-06 15:12:00</td>\n",
              "      <td>2</td>\n",
              "    </tr>\n",
              "  </tbody>\n",
              "</table>\n",
              "</div>"
            ],
            "text/plain": [
              "   CustomerID    LastPurchaseDate  Retention\n",
              "0     12346.0 2011-01-18 10:17:00        325\n",
              "1     12747.0 2011-12-07 14:34:00          1\n",
              "2     12748.0 2011-12-09 12:20:00          0\n",
              "3     12749.0 2011-12-06 09:56:00          3\n",
              "4     12820.0 2011-12-06 15:12:00          2"
            ]
          },
          "metadata": {
            "tags": []
          },
          "execution_count": 97
        }
      ]
    },
    {
      "cell_type": "code",
      "metadata": {
        "id": "2JggmK1y2U0g",
        "outputId": "72aab8f0-2ebc-46ba-9f2d-9525056f8de5",
        "colab": {
          "base_uri": "https://localhost:8080/",
          "height": 218
        }
      },
      "source": [
        "last_purchase['Retention'].value_counts()"
      ],
      "execution_count": 98,
      "outputs": [
        {
          "output_type": "execute_result",
          "data": {
            "text/plain": [
              "3      114\n",
              "8       97\n",
              "0       97\n",
              "2       92\n",
              "1       77\n",
              "      ... \n",
              "243      1\n",
              "370      1\n",
              "285      1\n",
              "295      1\n",
              "174      1\n",
              "Name: Retention, Length: 348, dtype: int64"
            ]
          },
          "metadata": {
            "tags": []
          },
          "execution_count": 98
        }
      ]
    },
    {
      "cell_type": "code",
      "metadata": {
        "id": "Xb9yaZI02YJl",
        "outputId": "14dd90f7-9b4f-48e1-b6eb-fadfe216567a",
        "colab": {
          "base_uri": "https://localhost:8080/",
          "height": 517
        }
      },
      "source": [
        "\n",
        "px.histogram(last_purchase, x='Retention', template='simple_white', \n",
        "             width=950, height=500, title='Retention', nbins=100, \n",
        "             color_discrete_sequence=['grey'])"
      ],
      "execution_count": 99,
      "outputs": [
        {
          "output_type": "display_data",
          "data": {
            "text/html": [
              "<html>\n",
              "<head><meta charset=\"utf-8\" /></head>\n",
              "<body>\n",
              "    <div>\n",
              "            <script src=\"https://cdnjs.cloudflare.com/ajax/libs/mathjax/2.7.5/MathJax.js?config=TeX-AMS-MML_SVG\"></script><script type=\"text/javascript\">if (window.MathJax) {MathJax.Hub.Config({SVG: {font: \"STIX-Web\"}});}</script>\n",
              "                <script type=\"text/javascript\">window.PlotlyConfig = {MathJaxConfig: 'local'};</script>\n",
              "        <script src=\"https://cdn.plot.ly/plotly-latest.min.js\"></script>    \n",
              "            <div id=\"32b9711f-10eb-4e87-b6ca-5dbeb10c77ba\" class=\"plotly-graph-div\" style=\"height:500px; width:950px;\"></div>\n",
              "            <script type=\"text/javascript\">\n",
              "                \n",
              "                    window.PLOTLYENV=window.PLOTLYENV || {};\n",
              "                    \n",
              "                if (document.getElementById(\"32b9711f-10eb-4e87-b6ca-5dbeb10c77ba\")) {\n",
              "                    Plotly.newPlot(\n",
              "                        '32b9711f-10eb-4e87-b6ca-5dbeb10c77ba',\n",
              "                        [{\"alignmentgroup\": \"True\", \"bingroup\": \"x\", \"hoverlabel\": {\"namelength\": 0}, \"hovertemplate\": \"Retention=%{x}<br>count=%{y}\", \"legendgroup\": \"\", \"marker\": {\"color\": \"grey\"}, \"name\": \"\", \"nbinsx\": 100, \"offsetgroup\": \"\", \"orientation\": \"v\", \"showlegend\": false, \"type\": \"histogram\", \"x\": [325, 1, 0, 3, 2, 213, 70, 74, 59, 2, 5, 2, 321, 37, 261, 31, 144, 282, 58, 172, 33, 2, 143, 4, 69, 65, 28, 266, 21, 30, 96, 289, 107, 78, 372, 7, 210, 51, 137, 25, 185, 365, 83, 326, 281, 142, 3, 17, 44, 275, 8, 24, 87, 62, 67, 213, 23, 185, 30, 41, 204, 8, 264, 17, 11, 58, 39, 22, 2, 4, 148, 138, 127, 7, 16, 3, 160, 63, 87, 4, 34, 121, 77, 21, 23, 1, 16, 14, 25, 63, 45, 130, 300, 35, 287, 143, 15, 30, 1, 8, 5, 9, 0, 305, 3, 6, 7, 88, 9, 2, 111, 6, 3, 197, 211, 155, 155, 29, 239, 18, 0, 73, 291, 2, 30, 22, 22, 3, 77, 21, 195, 106, 3, 317, 105, 11, 173, 55, 322, 371, 8, 0, 2, 52, 72, 6, 15, 3, 63, 0, 113, 22, 30, 10, 38, 356, 54, 57, 137, 79, 8, 253, 290, 98, 30, 31, 13, 63, 8, 211, 63, 24, 249, 253, 71, 190, 12, 372, 23, 81, 9, 0, 191, 266, 129, 0, 0, 3, 178, 0, 125, 3, 157, 2, 8, 20, 70, 266, 20, 70, 32, 0, 98, 233, 0, 39, 2, 128, 43, 372, 2, 30, 0, 8, 116, 21, 19, 238, 268, 93, 89, 4, 77, 93, 22, 261, 273, 72, 196, 49, 10, 21, 15, 107, 84, 18, 332, 39, 25, 9, 28, 13, 202, 5, 143, 32, 48, 94, 8, 21, 312, 121, 45, 281, 18, 35, 63, 26, 7, 3, 15, 45, 64, 25, 44, 7, 14, 267, 39, 336, 10, 18, 94, 60, 135, 10, 9, 3, 18, 9, 14, 58, 29, 93, 9, 8, 56, 267, 121, 126, 77, 239, 199, 59, 2, 272, 201, 80, 225, 3, 12, 73, 211, 23, 10, 261, 95, 111, 202, 92, 50, 17, 17, 124, 91, 156, 3, 13, 11, 61, 60, 268, 262, 0, 52, 10, 2, 17, 0, 365, 36, 30, 112, 63, 15, 40, 63, 121, 17, 59, 322, 22, 155, 38, 189, 359, 136, 7, 0, 267, 164, 103, 154, 350, 3, 119, 22, 6, 8, 3, 21, 1, 36, 63, 0, 4, 69, 71, 16, 2, 31, 81, 38, 315, 31, 92, 13, 81, 76, 153, 200, 44, 260, 172, 67, 276, 69, 63, 10, 15, 65, 7, 70, 121, 79, 256, 268, 58, 2, 17, 66, 8, 49, 256, 353, 365, 89, 60, 80, 98, 25, 20, 280, 30, 329, 120, 10, 74, 203, 1, 184, 21, 72, 191, 126, 17, 0, 73, 1, 8, 106, 133, 43, 4, 11, 63, 134, 39, 50, 107, 0, 18, 9, 10, 18, 66, 73, 4, 1, 13, 254, 91, 22, 16, 23, 26, 25, 258, 165, 24, 17, 6, 28, 38, 182, 57, 99, 10, 1, 98, 0, 60, 235, 190, 178, 37, 197, 45, 231, 65, 240, 232, 77, 57, 16, 104, 51, 311, 7, 10, 282, 17, 22, 16, 70, 63, 311, 2, 243, 8, 0, 260, 126, 73, 72, 20, 59, 85, 49, 0, 29, 32, 40, 14, 33, 78, 204, 33, 182, 1, 0, 42, 85, 39, 11, 95, 25, 318, 65, 73, 27, 5, 6, 215, 81, 83, 143, 18, 40, 172, 16, 242, 12, 205, 49, 22, 9, 24, 14, 308, 155, 306, 31, 15, 14, 10, 64, 35, 107, 52, 5, 46, 0, 311, 44, 64, 25, 28, 39, 11, 88, 23, 312, 39, 173, 116, 30, 252, 58, 22, 4, 99, 24, 32, 67, 36, 51, 15, 73, 215, 30, 8, 119, 9, 256, 16, 34, 45, 42, 113, 164, 10, 9, 196, 85, 178, 59, 148, 2, 50, 74, 300, 18, 150, 151, 0, 17, 186, 285, 2, 182, 62, 58, 24, 324, 3, 30, 38, 154, 25, 317, 4, 7, 302, 266, 270, 3, 31, 218, 246, 280, 268, 31, 245, 14, 116, 35, 119, 216, 49, 38, 28, 36, 135, 218, 27, 24, 4, 199, 17, 240, 71, 16, 2, 94, 150, 373, 95, 53, 287, 123, 287, 151, 3, 1, 11, 32, 53, 49, 203, 62, 70, 1, 1, 63, 33, 81, 0, 102, 6, 250, 12, 9, 366, 75, 3, 42, 65, 0, 116, 309, 66, 137, 254, 30, 51, 63, 366, 5, 301, 144, 5, 18, 32, 157, 57, 21, 358, 15, 17, 158, 24, 211, 5, 252, 58, 10, 64, 24, 91, 51, 87, 95, 8, 8, 168, 56, 325, 0, 17, 244, 57, 73, 30, 6, 122, 1, 22, 119, 357, 53, 63, 85, 54, 20, 2, 2, 0, 6, 188, 70, 203, 119, 92, 0, 26, 297, 21, 20, 49, 325, 15, 182, 71, 36, 79, 56, 3, 49, 49, 351, 53, 1, 35, 22, 74, 10, 168, 57, 85, 294, 108, 263, 170, 168, 34, 22, 16, 21, 78, 64, 360, 2, 10, 175, 210, 6, 0, 153, 4, 371, 78, 20, 21, 307, 145, 6, 8, 70, 286, 48, 30, 206, 14, 72, 59, 38, 29, 26, 3, 16, 19, 65, 212, 11, 29, 31, 3, 14, 9, 205, 45, 133, 42, 9, 115, 197, 277, 109, 76, 52, 46, 16, 154, 224, 6, 121, 60, 62, 17, 6, 1, 21, 28, 284, 175, 77, 32, 40, 265, 26, 108, 283, 8, 276, 16, 31, 0, 19, 123, 64, 105, 0, 23, 266, 4, 9, 28, 266, 63, 319, 3, 20, 4, 128, 40, 101, 124, 32, 266, 364, 3, 1, 2, 9, 56, 324, 7, 11, 3, 36, 15, 137, 73, 4, 153, 84, 51, 30, 22, 3, 13, 22, 3, 273, 19, 143, 353, 3, 83, 10, 7, 122, 60, 1, 318, 1, 129, 1, 1, 45, 3, 2, 372, 133, 46, 8, 48, 233, 212, 35, 74, 238, 265, 19, 39, 19, 215, 173, 86, 70, 275, 38, 97, 10, 32, 50, 296, 84, 8, 40, 10, 66, 330, 8, 1, 1, 67, 4, 201, 106, 3, 217, 59, 1, 10, 238, 94, 10, 90, 52, 89, 371, 30, 11, 2, 1, 42, 3, 246, 41, 176, 91, 109, 28, 25, 51, 178, 31, 43, 21, 9, 80, 372, 325, 42, 29, 183, 234, 8, 175, 110, 277, 317, 6, 1, 253, 50, 8, 141, 50, 7, 154, 150, 331, 225, 73, 50, 87, 196, 2, 30, 20, 23, 7, 211, 8, 10, 1, 7, 2, 39, 17, 2, 7, 18, 107, 222, 70, 50, 88, 7, 224, 46, 106, 20, 64, 206, 10, 114, 234, 162, 8, 123, 22, 63, 16, 16, 157, 234, 218, 44, 20, 126, 38, 120, 259, 9, 270, 164, 156, 214, 5, 365, 59, 42, 18, 31, 21, 108, 7, 319, 294, 357, 184, 190, 43, 51, 25, 37, 8, 296, 32, 8, 8, 9, 217, 1, 64, 0, 140, 3, 129, 33, 118, 106, 10, 70, 15, 310, 34, 361, 91, 0, 21, 3, 10, 84, 56, 0, 217, 17, 18, 49, 6, 298, 9, 21, 98, 142, 305, 7, 0, 53, 0, 18, 8, 18, 180, 59, 10, 189, 4, 310, 154, 109, 147, 63, 97, 246, 28, 17, 11, 103, 73, 42, 71, 256, 19, 253, 10, 164, 17, 149, 49, 38, 26, 50, 206, 174, 6, 25, 50, 311, 300, 42, 25, 87, 63, 19, 2, 46, 16, 16, 23, 21, 10, 187, 100, 60, 17, 32, 63, 1, 23, 107, 31, 8, 2, 36, 59, 25, 235, 24, 2, 58, 259, 57, 64, 15, 9, 58, 185, 3, 23, 3, 3, 150, 310, 10, 17, 151, 18, 9, 56, 63, 6, 75, 3, 95, 34, 0, 280, 2, 179, 371, 12, 2, 16, 40, 5, 168, 49, 226, 18, 371, 14, 34, 21, 6, 19, 10, 43, 305, 10, 274, 0, 15, 3, 71, 242, 8, 238, 203, 0, 184, 31, 56, 184, 8, 311, 90, 3, 50, 262, 265, 35, 50, 51, 15, 21, 58, 169, 8, 156, 200, 4, 66, 76, 0, 3, 168, 17, 4, 8, 86, 26, 28, 19, 60, 23, 10, 241, 279, 234, 2, 15, 30, 371, 24, 70, 187, 25, 106, 7, 208, 43, 30, 136, 263, 3, 217, 1, 213, 31, 10, 0, 14, 10, 198, 2, 14, 13, 9, 28, 8, 23, 24, 42, 1, 5, 146, 9, 24, 273, 373, 0, 46, 7, 8, 3, 3, 38, 1, 190, 11, 15, 112, 247, 28, 43, 86, 44, 9, 14, 74, 144, 4, 293, 58, 263, 43, 28, 7, 16, 2, 231, 111, 57, 50, 3, 126, 280, 54, 319, 25, 9, 6, 28, 16, 63, 3, 2, 165, 0, 52, 50, 47, 60, 161, 8, 14, 74, 39, 40, 369, 36, 196, 199, 73, 63, 20, 366, 179, 9, 3, 196, 28, 52, 17, 9, 89, 267, 52, 34, 63, 148, 21, 311, 22, 57, 8, 77, 118, 35, 59, 12, 8, 51, 25, 28, 6, 10, 185, 2, 3, 261, 2, 209, 8, 12, 76, 19, 26, 18, 131, 252, 78, 206, 335, 253, 147, 9, 84, 7, 204, 7, 22, 10, 20, 20, 1, 153, 2, 73, 2, 35, 85, 70, 115, 212, 29, 50, 245, 31, 29, 13, 71, 22, 8, 78, 45, 24, 11, 252, 146, 58, 7, 10, 270, 9, 246, 95, 14, 49, 29, 67, 34, 127, 106, 36, 56, 56, 71, 245, 18, 197, 15, 211, 38, 45, 169, 47, 115, 146, 15, 50, 158, 11, 35, 53, 42, 172, 33, 38, 266, 8, 11, 2, 9, 32, 79, 30, 7, 71, 3, 255, 4, 15, 89, 71, 42, 9, 169, 198, 30, 18, 151, 8, 269, 64, 273, 24, 22, 318, 4, 11, 274, 24, 40, 7, 3, 70, 212, 37, 31, 77, 45, 178, 372, 93, 9, 104, 77, 172, 6, 212, 21, 256, 281, 20, 9, 307, 53, 214, 17, 103, 42, 3, 181, 83, 329, 8, 30, 166, 17, 17, 310, 240, 23, 28, 9, 29, 17, 17, 14, 133, 245, 129, 49, 84, 6, 22, 24, 65, 59, 49, 169, 17, 127, 14, 232, 2, 239, 51, 45, 225, 7, 3, 164, 218, 10, 133, 16, 9, 30, 73, 0, 3, 44, 1, 356, 17, 68, 372, 320, 25, 324, 8, 322, 71, 259, 17, 366, 65, 153, 28, 69, 13, 1, 0, 119, 60, 2, 2, 8, 91, 58, 78, 25, 356, 84, 9, 0, 224, 59, 238, 318, 1, 44, 87, 10, 175, 51, 365, 318, 225, 357, 233, 310, 36, 65, 238, 112, 276, 217, 298, 1, 28, 9, 44, 66, 73, 64, 133, 237, 121, 31, 8, 35, 15, 126, 66, 148, 280, 168, 99, 134, 323, 106, 63, 150, 337, 21, 23, 15, 6, 56, 3, 30, 65, 46, 354, 171, 58, 49, 21, 42, 28, 4, 25, 200, 43, 9, 1, 66, 63, 50, 289, 60, 63, 95, 270, 0, 74, 109, 198, 63, 326, 3, 283, 43, 48, 63, 103, 333, 52, 34, 31, 207, 156, 52, 65, 80, 115, 86, 0, 34, 332, 365, 71, 157, 372, 11, 254, 28, 30, 4, 39, 361, 240, 95, 25, 74, 56, 20, 143, 40, 136, 7, 128, 39, 168, 8, 213, 14, 169, 39, 185, 171, 4, 15, 9, 325, 112, 289, 15, 0, 91, 148, 188, 17, 33, 263, 83, 25, 170, 9, 312, 64, 84, 24, 58, 322, 37, 253, 18, 32, 14, 26, 22, 78, 7, 21, 11, 261, 130, 54, 248, 1, 8, 263, 330, 312, 25, 29, 29, 1, 361, 282, 261, 24, 353, 93, 28, 337, 19, 84, 8, 34, 42, 1, 112, 13, 76, 39, 15, 160, 0, 29, 92, 22, 94, 27, 32, 20, 17, 0, 7, 15, 362, 80, 52, 22, 171, 188, 330, 11, 155, 30, 11, 44, 232, 63, 1, 35, 32, 83, 24, 1, 32, 18, 253, 22, 21, 7, 24, 18, 172, 162, 6, 10, 113, 287, 8, 53, 6, 76, 3, 36, 216, 59, 277, 11, 23, 28, 11, 351, 8, 49, 18, 2, 103, 6, 11, 4, 31, 177, 37, 150, 161, 68, 120, 24, 23, 176, 49, 252, 288, 46, 70, 15, 100, 29, 34, 26, 10, 7, 78, 51, 35, 56, 336, 27, 182, 51, 9, 35, 9, 32, 10, 49, 3, 2, 140, 116, 99, 74, 4, 44, 15, 16, 89, 52, 300, 133, 3, 104, 178, 165, 18, 157, 203, 335, 36, 90, 92, 8, 232, 44, 22, 189, 43, 24, 316, 105, 50, 167, 39, 217, 39, 296, 18, 87, 72, 80, 8, 48, 52, 23, 8, 17, 116, 8, 119, 3, 251, 27, 0, 266, 32, 17, 171, 1, 264, 139, 200, 59, 34, 40, 283, 8, 142, 11, 145, 233, 32, 23, 11, 35, 364, 200, 14, 16, 48, 197, 65, 211, 282, 114, 14, 18, 65, 48, 15, 77, 8, 133, 12, 39, 234, 2, 39, 304, 50, 0, 60, 65, 24, 217, 64, 31, 80, 63, 115, 6, 5, 68, 244, 132, 240, 183, 24, 9, 10, 29, 43, 25, 357, 9, 43, 8, 149, 0, 112, 75, 106, 45, 142, 50, 0, 22, 45, 49, 305, 35, 78, 16, 106, 207, 2, 63, 48, 319, 43, 2, 336, 171, 50, 72, 98, 28, 57, 253, 69, 43, 44, 64, 10, 24, 58, 63, 303, 45, 17, 37, 18, 186, 51, 3, 136, 3, 18, 15, 40, 11, 7, 25, 21, 40, 100, 4, 276, 32, 14, 62, 1, 368, 311, 198, 1, 92, 59, 79, 156, 226, 252, 149, 193, 0, 368, 23, 16, 9, 7, 19, 3, 173, 0, 177, 15, 247, 190, 19, 153, 172, 371, 372, 193, 66, 3, 20, 238, 63, 111, 89, 310, 133, 276, 364, 82, 7, 16, 1, 0, 33, 14, 23, 31, 73, 19, 16, 22, 2, 303, 16, 235, 38, 83, 164, 16, 76, 88, 24, 21, 2, 122, 29, 11, 18, 43, 3, 8, 54, 87, 36, 2, 29, 11, 210, 47, 23, 21, 245, 7, 34, 3, 35, 3, 2, 46, 38, 1, 16, 259, 45, 11, 29, 42, 91, 38, 309, 91, 5, 195, 86, 269, 7, 64, 30, 21, 36, 119, 85, 39, 173, 53, 32, 144, 220, 44, 3, 65, 268, 9, 259, 364, 16, 21, 44, 287, 291, 2, 283, 16, 81, 55, 100, 298, 22, 58, 154, 98, 106, 11, 263, 239, 87, 49, 8, 41, 6, 61, 248, 65, 17, 84, 218, 44, 142, 182, 170, 9, 205, 189, 7, 58, 56, 72, 51, 315, 366, 28, 38, 17, 51, 3, 21, 262, 59, 367, 18, 52, 87, 249, 2, 246, 8, 156, 133, 295, 4, 38, 268, 49, 8, 15, 281, 63, 1, 251, 224, 16, 10, 7, 50, 58, 94, 15, 125, 93, 49, 137, 60, 99, 72, 71, 66, 63, 16, 22, 31, 44, 15, 39, 2, 236, 74, 3, 2, 360, 58, 22, 30, 54, 24, 44, 88, 1, 80, 18, 78, 170, 80, 266, 234, 29, 36, 317, 56, 44, 202, 218, 86, 189, 32, 70, 40, 77, 56, 7, 9, 7, 33, 211, 23, 169, 61, 52, 260, 365, 31, 16, 257, 176, 44, 50, 16, 360, 8, 73, 70, 352, 2, 116, 372, 196, 176, 22, 20, 71, 339, 5, 30, 169, 116, 8, 9, 212, 22, 107, 25, 138, 213, 37, 91, 17, 2, 330, 63, 119, 34, 217, 0, 195, 127, 43, 5, 13, 17, 27, 7, 36, 156, 283, 106, 24, 74, 15, 157, 43, 10, 31, 290, 20, 332, 17, 3, 62, 197, 32, 0, 6, 4, 9, 31, 52, 11, 17, 18, 36, 1, 17, 81, 32, 65, 8, 266, 246, 3, 60, 74, 89, 59, 28, 322, 52, 269, 1, 49, 59, 144, 18, 94, 0, 264, 301, 69, 301, 18, 12, 35, 18, 53, 56, 21, 43, 25, 44, 112, 16, 24, 190, 301, 1, 262, 80, 105, 56, 212, 63, 27, 28, 5, 7, 66, 1, 45, 33, 0, 135, 197, 190, 149, 87, 44, 63, 98, 217, 2, 27, 177, 63, 20, 19, 33, 73, 23, 51, 274, 164, 6, 87, 63, 24, 9, 75, 15, 191, 173, 76, 32, 46, 72, 296, 2, 8, 49, 160, 359, 4, 106, 24, 31, 19, 296, 371, 21, 4, 51, 29, 276, 60, 24, 185, 1, 1, 171, 80, 3, 189, 21, 17, 18, 4, 106, 2, 53, 164, 290, 9, 108, 95, 242, 162, 2, 34, 66, 23, 0, 20, 5, 53, 363, 14, 193, 2, 8, 2, 126, 73, 70, 364, 154, 112, 373, 79, 248, 231, 70, 68, 3, 50, 74, 60, 15, 3, 276, 3, 40, 30, 74, 17, 14, 218, 185, 32, 69, 182, 14, 235, 30, 253, 3, 51, 245, 80, 273, 0, 78, 29, 73, 16, 222, 31, 22, 24, 105, 4, 245, 177, 169, 38, 71, 53, 15, 140, 17, 21, 9, 367, 188, 15, 361, 18, 67, 14, 23, 16, 27, 1, 54, 33, 2, 365, 42, 72, 4, 3, 60, 46, 0, 75, 43, 255, 68, 134, 240, 226, 8, 8, 0, 36, 45, 84, 18, 2, 8, 18, 218, 77, 266, 8, 368, 14, 25, 261, 16, 90, 301, 25, 363, 45, 35, 51, 31, 51, 78, 52, 297, 171, 46, 28, 10, 86, 4, 24, 17, 44, 30, 372, 57, 371, 113, 214, 318, 64, 7, 96, 19, 184, 3, 293, 272, 30, 47, 259, 57, 32, 56, 67, 9, 59, 79, 73, 1, 99, 364, 9, 19, 122, 7, 3, 28, 281, 56, 0, 364, 88, 10, 162, 64, 22, 173, 102, 142, 98, 22, 191, 4, 360, 7, 13, 102, 2, 10, 95, 226, 15, 38, 50, 92, 156, 38, 183, 0, 227, 127, 39, 30, 196, 8, 36, 63, 42, 49, 42, 52, 186, 333, 3, 9, 23, 14, 365, 105, 59, 28, 140, 22, 21, 76, 4, 63, 11, 24, 30, 66, 66, 186, 37, 14, 34, 194, 1, 0, 366, 64, 298, 25, 7, 11, 115, 28, 3, 4, 81, 28, 63, 3, 22, 289, 35, 8, 23, 276, 48, 155, 60, 11, 20, 370, 115, 79, 3, 25, 4, 52, 0, 54, 25, 8, 51, 12, 211, 21, 235, 138, 3, 56, 122, 108, 29, 0, 184, 8, 238, 86, 38, 115, 186, 226, 7, 188, 3, 38, 2, 266, 76, 3, 254, 60, 12, 77, 16, 29, 2, 4, 6, 218, 10, 371, 29, 287, 149, 22, 0, 72, 45, 4, 50, 16, 29, 7, 28, 2, 40, 10, 30, 44, 60, 184, 78, 110, 63, 11, 85, 15, 245, 77, 29, 137, 26, 2, 31, 8, 112, 156, 84, 114, 2, 95, 193, 27, 128, 27, 81, 29, 265, 73, 313, 8, 58, 142, 11, 27, 113, 8, 17, 17, 35, 35, 77, 21, 24, 32, 108, 34, 122, 6, 27, 3, 2, 49, 317, 21, 8, 17, 9, 261, 158, 32, 28, 164, 46, 5, 7, 287, 317, 2, 232, 118, 161, 184, 49, 151, 334, 4, 15, 106, 15, 275, 15, 246, 238, 0, 105, 22, 51, 194, 23, 74, 17, 7, 31, 21, 30, 28, 21, 32, 283, 38, 49, 288, 74, 4, 217, 43, 201, 177, 55, 56, 7, 46, 226, 10, 105, 58, 27, 35, 273, 29, 23, 53, 35, 168, 53, 52, 26, 252, 39, 59, 233, 3, 31, 23, 6, 64, 309, 308, 18, 15, 95, 263, 11, 2, 34, 182, 24, 12, 10, 2, 312, 107, 0, 52, 204, 14, 119, 3, 362, 116, 17, 4, 40, 106, 147, 51, 207, 138, 1, 126, 107, 41, 34, 227, 240, 57, 129, 59, 21, 25, 8, 31, 3, 307, 7, 28, 16, 100, 11, 20, 14, 360, 10, 364, 94, 77, 138, 17, 24, 0, 45, 99, 7, 14, 17, 279, 13, 22, 123, 85, 300, 150, 16, 93, 8, 156, 354, 45, 14, 3, 85, 14, 178, 7, 35, 128, 50, 311, 23, 302, 10, 16, 48, 238, 0, 12, 237, 22, 72, 16, 40, 39, 218, 189, 70, 23, 10, 8, 64, 3, 18, 14, 7, 19, 77, 0, 163, 306, 218, 38, 21, 114, 125, 4, 35, 0, 329, 162, 184, 15, 11, 2, 43, 78, 29, 41, 10, 49, 15, 44, 18, 3, 71, 0, 120, 32, 312, 17, 87, 1, 1, 246, 147, 28, 176, 39, 144, 1, 7, 0, 17, 191, 203, 364, 126, 14, 42, 78, 22, 50, 15, 157, 9, 9, 15, 44, 190, 78, 73, 3, 64, 260, 58, 0, 0, 247, 7, 358, 75, 289, 16, 220, 8, 2, 205, 160, 69, 261, 57, 24, 2, 28, 71, 127, 30, 14, 308, 16, 53, 23, 1, 10, 360, 359, 0, 53, 0, 0, 120, 53, 279, 176, 29, 25, 8, 269, 42, 371, 217, 23, 196, 358, 42, 129, 0, 19, 205, 13, 94, 18, 13, 23, 7, 6, 331, 49, 70, 28, 242, 7, 190, 4, 252, 0, 235, 6, 108, 99, 59, 1, 72, 3, 84, 11, 22, 213, 17, 238, 1, 49, 216, 32, 40, 3, 52, 22, 56, 129, 173, 5, 311, 59, 20, 32, 14, 17, 80, 5, 169, 1, 30, 35, 8, 30, 275, 86, 119, 372, 0, 218, 64, 60, 134, 20, 11, 24, 28, 276, 10, 72, 10, 3, 140, 25, 18, 3, 65, 0, 42, 227, 15, 43, 0, 73, 0, 3, 1, 263, 52, 23, 9, 43, 16, 6, 29, 357, 126, 135, 141, 131, 37, 235, 260, 16, 252, 29, 34, 168, 2, 3, 184, 187, 169, 10, 44, 320, 200, 22, 231, 37, 25, 95, 126, 57, 15, 8, 3, 2, 78, 372, 38, 53, 1, 8, 8, 18, 11, 112, 3, 234, 99, 177, 4, 358, 0, 0, 18, 16, 21, 32, 262, 50, 158, 14, 7, 12, 198, 56, 10, 96, 254, 24, 20, 158, 71, 52, 84, 152, 73, 280, 26, 29, 24, 179, 39, 21, 21, 36, 81, 73, 10, 15, 3, 12, 13, 36, 3, 71, 190, 50, 4, 1, 32, 49, 2, 46, 41, 26, 41, 1, 302, 84, 80, 217, 301, 11, 184, 372, 1, 2, 5, 304, 368, 2, 323, 58, 12, 30, 142, 29, 106, 1, 204, 79, 184, 169, 43, 173, 364, 303, 2, 3, 11, 31, 128, 18, 211, 322, 161, 55, 224, 71, 43, 22, 172, 84, 158, 164, 28, 20, 70, 246, 373, 8, 309, 58, 3, 44, 87, 3, 63, 281, 0, 372, 132, 44, 10, 35, 133, 28, 51, 137, 4, 8, 159, 48, 130, 7, 232, 36, 146, 0, 71, 39, 4, 198, 248, 65, 116, 170, 20, 141, 31, 37, 37, 371, 373, 165, 210, 241, 51, 24, 14, 371, 28, 364, 35, 165, 144, 21, 55, 184, 11, 236, 224, 121, 281, 73, 36, 11, 361, 3, 22, 69, 234, 256, 372, 154, 27, 3, 31, 80, 107, 51, 35, 152, 98, 3, 333, 64, 21, 35, 31, 153, 18, 11, 53, 24, 3, 44, 202, 358, 65, 6, 287, 9, 8, 21, 172, 132, 5, 74, 39, 288, 25, 257, 154, 113, 373, 22, 7, 216, 44, 18, 35, 25, 15, 329, 273, 97, 60, 1, 92, 81, 311, 11, 7, 126, 10, 0, 36, 37, 329, 248, 1, 18, 11, 368, 289, 67, 25, 10, 367, 213, 148, 7, 23, 29, 60, 18, 242, 8, 210, 28, 62, 294, 16, 360, 150, 116, 7, 12, 140, 45, 50, 31, 134, 2, 74, 12, 8, 300, 56, 9, 30, 176, 3, 175, 60, 32, 58, 14, 86, 6, 353, 30, 113, 8, 4, 23, 217, 14, 248, 14, 77, 191, 261, 71, 150, 63, 94, 3, 105, 199, 156, 70, 35, 28, 1, 25, 325, 236, 88, 30, 28, 205, 2, 219, 21, 92, 1, 263, 2, 38, 217, 49, 11, 8, 191, 81, 325, 71, 29, 2, 218, 45, 9, 71, 6, 23, 113, 16, 300, 86, 50, 88, 354, 38, 24, 172, 42, 139, 22, 71, 133, 357, 37, 2, 1, 17, 20, 57, 73, 277, 180, 7, 3, 42], \"xaxis\": \"x\", \"yaxis\": \"y\"}],\n",
              "                        {\"barmode\": \"relative\", \"height\": 500, \"legend\": {\"tracegroupgap\": 0}, \"template\": {\"data\": {\"bar\": [{\"error_x\": {\"color\": \"rgb(36,36,36)\"}, \"error_y\": {\"color\": \"rgb(36,36,36)\"}, \"marker\": {\"line\": {\"color\": \"white\", \"width\": 0.5}}, \"type\": \"bar\"}], \"barpolar\": [{\"marker\": {\"line\": {\"color\": \"white\", \"width\": 0.5}}, \"type\": \"barpolar\"}], \"carpet\": [{\"aaxis\": {\"endlinecolor\": \"rgb(36,36,36)\", \"gridcolor\": \"white\", \"linecolor\": \"white\", \"minorgridcolor\": \"white\", \"startlinecolor\": \"rgb(36,36,36)\"}, \"baxis\": {\"endlinecolor\": \"rgb(36,36,36)\", \"gridcolor\": \"white\", \"linecolor\": \"white\", \"minorgridcolor\": \"white\", \"startlinecolor\": \"rgb(36,36,36)\"}, \"type\": \"carpet\"}], \"choropleth\": [{\"colorbar\": {\"outlinewidth\": 10, \"tickcolor\": \"rgb(36,36,36)\", \"ticklen\": 8, \"ticks\": \"outside\", \"tickwidth\": 2}, \"type\": \"choropleth\"}], \"contour\": [{\"colorbar\": {\"outlinewidth\": 10, \"tickcolor\": \"rgb(36,36,36)\", \"ticklen\": 8, \"ticks\": \"outside\", \"tickwidth\": 2}, \"colorscale\": [[0.0, \"#440154\"], [0.1111111111111111, \"#482878\"], [0.2222222222222222, \"#3e4989\"], [0.3333333333333333, \"#31688e\"], [0.4444444444444444, \"#26828e\"], [0.5555555555555556, \"#1f9e89\"], [0.6666666666666666, \"#35b779\"], [0.7777777777777778, \"#6ece58\"], [0.8888888888888888, \"#b5de2b\"], [1.0, \"#fde725\"]], \"type\": \"contour\"}], \"contourcarpet\": [{\"colorbar\": {\"outlinewidth\": 10, \"tickcolor\": \"rgb(36,36,36)\", \"ticklen\": 8, \"ticks\": \"outside\", \"tickwidth\": 2}, \"type\": \"contourcarpet\"}], \"heatmap\": [{\"colorbar\": {\"outlinewidth\": 10, \"tickcolor\": \"rgb(36,36,36)\", \"ticklen\": 8, \"ticks\": \"outside\", \"tickwidth\": 2}, \"colorscale\": [[0.0, \"#440154\"], [0.1111111111111111, \"#482878\"], [0.2222222222222222, \"#3e4989\"], [0.3333333333333333, \"#31688e\"], [0.4444444444444444, \"#26828e\"], [0.5555555555555556, \"#1f9e89\"], [0.6666666666666666, \"#35b779\"], [0.7777777777777778, \"#6ece58\"], [0.8888888888888888, \"#b5de2b\"], [1.0, \"#fde725\"]], \"type\": \"heatmap\"}], \"heatmapgl\": [{\"colorbar\": {\"outlinewidth\": 10, \"tickcolor\": \"rgb(36,36,36)\", \"ticklen\": 8, \"ticks\": \"outside\", \"tickwidth\": 2}, \"colorscale\": [[0.0, \"#440154\"], [0.1111111111111111, \"#482878\"], [0.2222222222222222, \"#3e4989\"], [0.3333333333333333, \"#31688e\"], [0.4444444444444444, \"#26828e\"], [0.5555555555555556, \"#1f9e89\"], [0.6666666666666666, \"#35b779\"], [0.7777777777777778, \"#6ece58\"], [0.8888888888888888, \"#b5de2b\"], [1.0, \"#fde725\"]], \"type\": \"heatmapgl\"}], \"histogram\": [{\"marker\": {\"line\": {\"color\": \"white\", \"width\": 0.6}}, \"type\": \"histogram\"}], \"histogram2d\": [{\"colorbar\": {\"outlinewidth\": 10, \"tickcolor\": \"rgb(36,36,36)\", \"ticklen\": 8, \"ticks\": \"outside\", \"tickwidth\": 2}, \"colorscale\": [[0.0, \"#440154\"], [0.1111111111111111, \"#482878\"], [0.2222222222222222, \"#3e4989\"], [0.3333333333333333, \"#31688e\"], [0.4444444444444444, \"#26828e\"], [0.5555555555555556, \"#1f9e89\"], [0.6666666666666666, \"#35b779\"], [0.7777777777777778, \"#6ece58\"], [0.8888888888888888, \"#b5de2b\"], [1.0, \"#fde725\"]], \"type\": \"histogram2d\"}], \"histogram2dcontour\": [{\"colorbar\": {\"outlinewidth\": 10, \"tickcolor\": \"rgb(36,36,36)\", \"ticklen\": 8, \"ticks\": \"outside\", \"tickwidth\": 2}, \"colorscale\": [[0.0, \"#440154\"], [0.1111111111111111, \"#482878\"], [0.2222222222222222, \"#3e4989\"], [0.3333333333333333, \"#31688e\"], [0.4444444444444444, \"#26828e\"], [0.5555555555555556, \"#1f9e89\"], [0.6666666666666666, \"#35b779\"], [0.7777777777777778, \"#6ece58\"], [0.8888888888888888, \"#b5de2b\"], [1.0, \"#fde725\"]], \"type\": \"histogram2dcontour\"}], \"mesh3d\": [{\"colorbar\": {\"outlinewidth\": 10, \"tickcolor\": \"rgb(36,36,36)\", \"ticklen\": 8, \"ticks\": \"outside\", \"tickwidth\": 2}, \"type\": \"mesh3d\"}], \"parcoords\": [{\"line\": {\"colorbar\": {\"outlinewidth\": 10, \"tickcolor\": \"rgb(36,36,36)\", \"ticklen\": 8, \"ticks\": \"outside\", \"tickwidth\": 2}}, \"type\": \"parcoords\"}], \"pie\": [{\"automargin\": true, \"type\": \"pie\"}], \"scatter\": [{\"marker\": {\"colorbar\": {\"outlinewidth\": 10, \"tickcolor\": \"rgb(36,36,36)\", \"ticklen\": 8, \"ticks\": \"outside\", \"tickwidth\": 2}}, \"type\": \"scatter\"}], \"scatter3d\": [{\"line\": {\"colorbar\": {\"outlinewidth\": 10, \"tickcolor\": \"rgb(36,36,36)\", \"ticklen\": 8, \"ticks\": \"outside\", \"tickwidth\": 2}}, \"marker\": {\"colorbar\": {\"outlinewidth\": 10, \"tickcolor\": \"rgb(36,36,36)\", \"ticklen\": 8, \"ticks\": \"outside\", \"tickwidth\": 2}}, \"type\": \"scatter3d\"}], \"scattercarpet\": [{\"marker\": {\"colorbar\": {\"outlinewidth\": 10, \"tickcolor\": \"rgb(36,36,36)\", \"ticklen\": 8, \"ticks\": \"outside\", \"tickwidth\": 2}}, \"type\": \"scattercarpet\"}], \"scattergeo\": [{\"marker\": {\"colorbar\": {\"outlinewidth\": 10, \"tickcolor\": \"rgb(36,36,36)\", \"ticklen\": 8, \"ticks\": \"outside\", \"tickwidth\": 2}}, \"type\": \"scattergeo\"}], \"scattergl\": [{\"marker\": {\"colorbar\": {\"outlinewidth\": 10, \"tickcolor\": \"rgb(36,36,36)\", \"ticklen\": 8, \"ticks\": \"outside\", \"tickwidth\": 2}}, \"type\": \"scattergl\"}], \"scattermapbox\": [{\"marker\": {\"colorbar\": {\"outlinewidth\": 10, \"tickcolor\": \"rgb(36,36,36)\", \"ticklen\": 8, \"ticks\": \"outside\", \"tickwidth\": 2}}, \"type\": \"scattermapbox\"}], \"scatterpolar\": [{\"marker\": {\"colorbar\": {\"outlinewidth\": 10, \"tickcolor\": \"rgb(36,36,36)\", \"ticklen\": 8, \"ticks\": \"outside\", \"tickwidth\": 2}}, \"type\": \"scatterpolar\"}], \"scatterpolargl\": [{\"marker\": {\"colorbar\": {\"outlinewidth\": 10, \"tickcolor\": \"rgb(36,36,36)\", \"ticklen\": 8, \"ticks\": \"outside\", \"tickwidth\": 2}}, \"type\": \"scatterpolargl\"}], \"scatterternary\": [{\"marker\": {\"colorbar\": {\"outlinewidth\": 10, \"tickcolor\": \"rgb(36,36,36)\", \"ticklen\": 8, \"ticks\": \"outside\", \"tickwidth\": 2}}, \"type\": \"scatterternary\"}], \"surface\": [{\"colorbar\": {\"outlinewidth\": 10, \"tickcolor\": \"rgb(36,36,36)\", \"ticklen\": 8, \"ticks\": \"outside\", \"tickwidth\": 2}, \"colorscale\": [[0.0, \"#440154\"], [0.1111111111111111, \"#482878\"], [0.2222222222222222, \"#3e4989\"], [0.3333333333333333, \"#31688e\"], [0.4444444444444444, \"#26828e\"], [0.5555555555555556, \"#1f9e89\"], [0.6666666666666666, \"#35b779\"], [0.7777777777777778, \"#6ece58\"], [0.8888888888888888, \"#b5de2b\"], [1.0, \"#fde725\"]], \"type\": \"surface\"}], \"table\": [{\"cells\": {\"fill\": {\"color\": \"rgb(237,237,237)\"}, \"line\": {\"color\": \"white\"}}, \"header\": {\"fill\": {\"color\": \"rgb(217,217,217)\"}, \"line\": {\"color\": \"white\"}}, \"type\": \"table\"}]}, \"layout\": {\"annotationdefaults\": {\"arrowhead\": 0, \"arrowwidth\": 1}, \"coloraxis\": {\"colorbar\": {\"outlinewidth\": 10, \"tickcolor\": \"rgb(36,36,36)\", \"ticklen\": 8, \"ticks\": \"outside\", \"tickwidth\": 2}}, \"colorscale\": {\"diverging\": [[0.0, \"rgb(103,0,31)\"], [0.1, \"rgb(178,24,43)\"], [0.2, \"rgb(214,96,77)\"], [0.3, \"rgb(244,165,130)\"], [0.4, \"rgb(253,219,199)\"], [0.5, \"rgb(247,247,247)\"], [0.6, \"rgb(209,229,240)\"], [0.7, \"rgb(146,197,222)\"], [0.8, \"rgb(67,147,195)\"], [0.9, \"rgb(33,102,172)\"], [1.0, \"rgb(5,48,97)\"]], \"sequential\": [[0.0, \"#440154\"], [0.1111111111111111, \"#482878\"], [0.2222222222222222, \"#3e4989\"], [0.3333333333333333, \"#31688e\"], [0.4444444444444444, \"#26828e\"], [0.5555555555555556, \"#1f9e89\"], [0.6666666666666666, \"#35b779\"], [0.7777777777777778, \"#6ece58\"], [0.8888888888888888, \"#b5de2b\"], [1.0, \"#fde725\"]], \"sequentialminus\": [[0.0, \"#440154\"], [0.1111111111111111, \"#482878\"], [0.2222222222222222, \"#3e4989\"], [0.3333333333333333, \"#31688e\"], [0.4444444444444444, \"#26828e\"], [0.5555555555555556, \"#1f9e89\"], [0.6666666666666666, \"#35b779\"], [0.7777777777777778, \"#6ece58\"], [0.8888888888888888, \"#b5de2b\"], [1.0, \"#fde725\"]]}, \"colorway\": [\"#1F77B4\", \"#FF7F0E\", \"#2CA02C\", \"#D62728\", \"#9467BD\", \"#8C564B\", \"#E377C2\", \"#7F7F7F\", \"#BCBD22\", \"#17BECF\"], \"font\": {\"color\": \"rgb(36,36,36)\"}, \"geo\": {\"bgcolor\": \"white\", \"lakecolor\": \"white\", \"landcolor\": \"white\", \"showlakes\": true, \"showland\": true, \"subunitcolor\": \"white\"}, \"hoverlabel\": {\"align\": \"left\"}, \"hovermode\": \"closest\", \"mapbox\": {\"style\": \"light\"}, \"paper_bgcolor\": \"white\", \"plot_bgcolor\": \"white\", \"polar\": {\"angularaxis\": {\"gridcolor\": \"rgb(232,232,232)\", \"linecolor\": \"rgb(36,36,36)\", \"showgrid\": false, \"showline\": true, \"ticks\": \"outside\"}, \"bgcolor\": \"white\", \"radialaxis\": {\"gridcolor\": \"rgb(232,232,232)\", \"linecolor\": \"rgb(36,36,36)\", \"showgrid\": false, \"showline\": true, \"ticks\": \"outside\"}}, \"scene\": {\"xaxis\": {\"backgroundcolor\": \"white\", \"gridcolor\": \"rgb(232,232,232)\", \"gridwidth\": 2, \"linecolor\": \"rgb(36,36,36)\", \"showbackground\": true, \"showgrid\": false, \"showline\": true, \"ticks\": \"outside\", \"zeroline\": false, \"zerolinecolor\": \"rgb(36,36,36)\"}, \"yaxis\": {\"backgroundcolor\": \"white\", \"gridcolor\": \"rgb(232,232,232)\", \"gridwidth\": 2, \"linecolor\": \"rgb(36,36,36)\", \"showbackground\": true, \"showgrid\": false, \"showline\": true, \"ticks\": \"outside\", \"zeroline\": false, \"zerolinecolor\": \"rgb(36,36,36)\"}, \"zaxis\": {\"backgroundcolor\": \"white\", \"gridcolor\": \"rgb(232,232,232)\", \"gridwidth\": 2, \"linecolor\": \"rgb(36,36,36)\", \"showbackground\": true, \"showgrid\": false, \"showline\": true, \"ticks\": \"outside\", \"zeroline\": false, \"zerolinecolor\": \"rgb(36,36,36)\"}}, \"shapedefaults\": {\"fillcolor\": \"black\", \"line\": {\"width\": 0}, \"opacity\": 0.3}, \"ternary\": {\"aaxis\": {\"gridcolor\": \"rgb(232,232,232)\", \"linecolor\": \"rgb(36,36,36)\", \"showgrid\": false, \"showline\": true, \"ticks\": \"outside\"}, \"baxis\": {\"gridcolor\": \"rgb(232,232,232)\", \"linecolor\": \"rgb(36,36,36)\", \"showgrid\": false, \"showline\": true, \"ticks\": \"outside\"}, \"bgcolor\": \"white\", \"caxis\": {\"gridcolor\": \"rgb(232,232,232)\", \"linecolor\": \"rgb(36,36,36)\", \"showgrid\": false, \"showline\": true, \"ticks\": \"outside\"}}, \"title\": {\"x\": 0.05}, \"xaxis\": {\"automargin\": true, \"gridcolor\": \"rgb(232,232,232)\", \"linecolor\": \"rgb(36,36,36)\", \"showgrid\": false, \"showline\": true, \"ticks\": \"outside\", \"title\": {\"standoff\": 15}, \"zeroline\": false, \"zerolinecolor\": \"rgb(36,36,36)\"}, \"yaxis\": {\"automargin\": true, \"gridcolor\": \"rgb(232,232,232)\", \"linecolor\": \"rgb(36,36,36)\", \"showgrid\": false, \"showline\": true, \"ticks\": \"outside\", \"title\": {\"standoff\": 15}, \"zeroline\": false, \"zerolinecolor\": \"rgb(36,36,36)\"}}}, \"title\": {\"text\": \"Retention\"}, \"width\": 950, \"xaxis\": {\"anchor\": \"y\", \"domain\": [0.0, 1.0], \"title\": {\"text\": \"Retention\"}}, \"yaxis\": {\"anchor\": \"x\", \"domain\": [0.0, 1.0], \"title\": {\"text\": \"count\"}}},\n",
              "                        {\"responsive\": true}\n",
              "                    ).then(function(){\n",
              "                            \n",
              "var gd = document.getElementById('32b9711f-10eb-4e87-b6ca-5dbeb10c77ba');\n",
              "var x = new MutationObserver(function (mutations, observer) {{\n",
              "        var display = window.getComputedStyle(gd).display;\n",
              "        if (!display || display === 'none') {{\n",
              "            console.log([gd, 'removed!']);\n",
              "            Plotly.purge(gd);\n",
              "            observer.disconnect();\n",
              "        }}\n",
              "}});\n",
              "\n",
              "// Listen for the removal of the full notebook cells\n",
              "var notebookContainer = gd.closest('#notebook-container');\n",
              "if (notebookContainer) {{\n",
              "    x.observe(notebookContainer, {childList: true});\n",
              "}}\n",
              "\n",
              "// Listen for the clearing of the current output cell\n",
              "var outputEl = gd.closest('.output');\n",
              "if (outputEl) {{\n",
              "    x.observe(outputEl, {childList: true});\n",
              "}}\n",
              "\n",
              "                        })\n",
              "                };\n",
              "                \n",
              "            </script>\n",
              "        </div>\n",
              "</body>\n",
              "</html>"
            ]
          },
          "metadata": {
            "tags": []
          }
        }
      ]
    },
    {
      "cell_type": "code",
      "metadata": {
        "id": "lFUqUPJX2acu",
        "outputId": "db6975fc-0787-48bc-8918-08fa674e4ce1",
        "colab": {
          "base_uri": "https://localhost:8080/",
          "height": 195
        }
      },
      "source": [
        "data_user = pd.merge(data_user, last_purchase, on = 'CustomerID')\n",
        "data_user = data_user[['CustomerID', 'Retention']]\n",
        "data_user.head()"
      ],
      "execution_count": 100,
      "outputs": [
        {
          "output_type": "execute_result",
          "data": {
            "text/html": [
              "<div>\n",
              "<style scoped>\n",
              "    .dataframe tbody tr th:only-of-type {\n",
              "        vertical-align: middle;\n",
              "    }\n",
              "\n",
              "    .dataframe tbody tr th {\n",
              "        vertical-align: top;\n",
              "    }\n",
              "\n",
              "    .dataframe thead th {\n",
              "        text-align: right;\n",
              "    }\n",
              "</style>\n",
              "<table border=\"1\" class=\"dataframe\">\n",
              "  <thead>\n",
              "    <tr style=\"text-align: right;\">\n",
              "      <th></th>\n",
              "      <th>CustomerID</th>\n",
              "      <th>Retention</th>\n",
              "    </tr>\n",
              "  </thead>\n",
              "  <tbody>\n",
              "    <tr>\n",
              "      <th>0</th>\n",
              "      <td>17850.0</td>\n",
              "      <td>301</td>\n",
              "    </tr>\n",
              "    <tr>\n",
              "      <th>1</th>\n",
              "      <td>13047.0</td>\n",
              "      <td>31</td>\n",
              "    </tr>\n",
              "    <tr>\n",
              "      <th>2</th>\n",
              "      <td>13748.0</td>\n",
              "      <td>95</td>\n",
              "    </tr>\n",
              "    <tr>\n",
              "      <th>3</th>\n",
              "      <td>15100.0</td>\n",
              "      <td>329</td>\n",
              "    </tr>\n",
              "    <tr>\n",
              "      <th>4</th>\n",
              "      <td>15291.0</td>\n",
              "      <td>25</td>\n",
              "    </tr>\n",
              "  </tbody>\n",
              "</table>\n",
              "</div>"
            ],
            "text/plain": [
              "   CustomerID  Retention\n",
              "0     17850.0        301\n",
              "1     13047.0         31\n",
              "2     13748.0         95\n",
              "3     15100.0        329\n",
              "4     15291.0         25"
            ]
          },
          "metadata": {
            "tags": []
          },
          "execution_count": 100
        }
      ]
    },
    {
      "cell_type": "code",
      "metadata": {
        "id": "F1xCQE-O23na",
        "outputId": "b1e734a0-1e61-4e47-c24a-6fd3a2016dbe",
        "colab": {
          "base_uri": "https://localhost:8080/",
          "height": 542
        }
      },
      "source": [
        "px.scatter(data_user, x='CustomerID', y='Retention', template='simple_white', width=950,\n",
        "           color_discrete_sequence=['black'])"
      ],
      "execution_count": 101,
      "outputs": [
        {
          "output_type": "display_data",
          "data": {
            "text/html": [
              "<html>\n",
              "<head><meta charset=\"utf-8\" /></head>\n",
              "<body>\n",
              "    <div>\n",
              "            <script src=\"https://cdnjs.cloudflare.com/ajax/libs/mathjax/2.7.5/MathJax.js?config=TeX-AMS-MML_SVG\"></script><script type=\"text/javascript\">if (window.MathJax) {MathJax.Hub.Config({SVG: {font: \"STIX-Web\"}});}</script>\n",
              "                <script type=\"text/javascript\">window.PlotlyConfig = {MathJaxConfig: 'local'};</script>\n",
              "        <script src=\"https://cdn.plot.ly/plotly-latest.min.js\"></script>    \n",
              "            <div id=\"688d8cd3-3431-49cb-a5f5-263fab5ab8b6\" class=\"plotly-graph-div\" style=\"height:525px; width:950px;\"></div>\n",
              "            <script type=\"text/javascript\">\n",
              "                \n",
              "                    window.PLOTLYENV=window.PLOTLYENV || {};\n",
              "                    \n",
              "                if (document.getElementById(\"688d8cd3-3431-49cb-a5f5-263fab5ab8b6\")) {\n",
              "                    Plotly.newPlot(\n",
              "                        '688d8cd3-3431-49cb-a5f5-263fab5ab8b6',\n",
              "                        [{\"hoverlabel\": {\"namelength\": 0}, \"hovertemplate\": \"CustomerID=%{x}<br>Retention=%{y}\", \"legendgroup\": \"\", \"marker\": {\"color\": \"black\", \"symbol\": \"circle\"}, \"mode\": \"markers\", \"name\": \"\", \"showlegend\": false, \"type\": \"scattergl\", \"x\": [17850.0, 13047.0, 13748.0, 15100.0, 15291.0, 14688.0, 17809.0, 15311.0, 14527.0, 16098.0, 18074.0, 17420.0, 16029.0, 16250.0, 17511.0, 17548.0, 13705.0, 13747.0, 13408.0, 13767.0, 17924.0, 13448.0, 15862.0, 15513.0, 16218.0, 14045.0, 14307.0, 17908.0, 17920.0, 12838.0, 13255.0, 16583.0, 18085.0, 13758.0, 13694.0, 15983.0, 14849.0, 17968.0, 16210.0, 17897.0, 17377.0, 16552.0, 17181.0, 17951.0, 14729.0, 12748.0, 15012.0, 12868.0, 17572.0, 14078.0, 14001.0, 15525.0, 14237.0, 17905.0, 15485.0, 16955.0, 15350.0, 15605.0, 18144.0, 15922.0, 14594.0, 15165.0, 16456.0, 17841.0, 17346.0, 17643.0, 17873.0, 13093.0, 12921.0, 13468.0, 17760.0, 16928.0, 16048.0, 16274.0, 14496.0, 14696.0, 16539.0, 17025.0, 13777.0, 17690.0, 12947.0, 17460.0, 18229.0, 14142.0, 17069.0, 13065.0, 14606.0, 16835.0, 15235.0, 13576.0, 18011.0, 13090.0, 15694.0, 14741.0, 13715.0, 14092.0, 17732.0, 12855.0, 15752.0, 17855.0, 14047.0, 17925.0, 13941.0, 17017.0, 14135.0, 13108.0, 15601.0, 13418.0, 14766.0, 15658.0, 14388.0, 14901.0, 18041.0, 15955.0, 15070.0, 16244.0, 15111.0, 14390.0, 16546.0, 15260.0, 13305.0, 14491.0, 14060.0, 15923.0, 16752.0, 17287.0, 15363.0, 12915.0, 15544.0, 15738.0, 16042.0, 17381.0, 15827.0, 14180.0, 13117.0, 16916.0, 17964.0, 14466.0, 17235.0, 16510.0, 17802.0, 15107.0, 17976.0, 14449.0, 15838.0, 16781.0, 17547.0, 13491.0, 16186.0, 17685.0, 17581.0, 15732.0, 13138.0, 15823.0, 17567.0, 15061.0, 16203.0, 15640.0, 15574.0, 16770.0, 17838.0, 17228.0, 14829.0, 17412.0, 14031.0, 14775.0, 12971.0, 15834.0, 17659.0, 15299.0, 15646.0, 13958.0, 14443.0, 16995.0, 13402.0, 18168.0, 17757.0, 14625.0, 13011.0, 13798.0, 15384.0, 14264.0, 13295.0, 16754.0, 16634.0, 18239.0, 14576.0, 13145.0, 14395.0, 14865.0, 15093.0, 16150.0, 17552.0, 14236.0, 17961.0, 14573.0, 17135.0, 17396.0, 14213.0, 12967.0, 14679.0, 15240.0, 18225.0, 13370.0, 16883.0, 12841.0, 16905.0, 17967.0, 16891.0, 14589.0, 14680.0, 17884.0, 14083.0, 13013.0, 14210.0, 16477.0, 16013.0, 17949.0, 16926.0, 17787.0, 14723.0, 17954.0, 17819.0, 15373.0, 16140.0, 17198.0, 17238.0, 15769.0, 14396.0, 14898.0, 16725.0, 16455.0, 13081.0, 15545.0, 17243.0, 15465.0, 15708.0, 13089.0, 16033.0, 13838.0, 15351.0, 18055.0, 15038.0, 18109.0, 13069.0, 16241.0, 14800.0, 16839.0, 16168.0, 16931.0, 16814.0, 13269.0, 14813.0, 17062.0, 14810.0, 16353.0, 18118.0, 13831.0, 13506.0, 17796.0, 15716.0, 18156.0, 15221.0, 16983.0, 17059.0, 16327.0, 17211.0, 17026.0, 15570.0, 15880.0, 16718.0, 15808.0, 17858.0, 16393.0, 14161.0, 17863.0, 16411.0, 16402.0, 15023.0, 17402.0, 15426.0, 15894.0, 15867.0, 14506.0, 15555.0, 13034.0, 15889.0, 15953.0, 16143.0, 16422.0, 12747.0, 15502.0, 14081.0, 17965.0, 14404.0, 13579.0, 13174.0, 15987.0, 17677.0, 13652.0, 17428.0, 16161.0, 16858.0, 18219.0, 14293.0, 14748.0, 16638.0, 17674.0, 13094.0, 15899.0, 15898.0, 17691.0, 17227.0, 15039.0, 15919.0, 13497.0, 15860.0, 14189.0, 15304.0, 14867.0, 14344.0, 16719.0, 15048.0, 15301.0, 14708.0, 16898.0, 14825.0, 18113.0, 17596.0, 15078.0, 14085.0, 17860.0, 13155.0, 15028.0, 16919.0, 17259.0, 17019.0, 14487.0, 16722.0, 15882.0, 14667.0, 16710.0, 16550.0, 15984.0, 17682.0, 16658.0, 17068.0, 15356.0, 17223.0, 16817.0, 13030.0, 17191.0, 15194.0, 14409.0, 16654.0, 16861.0, 16138.0, 13481.0, 13495.0, 17519.0, 17218.0, 17812.0, 14215.0, 15602.0, 17320.0, 16782.0, 12913.0, 17869.0, 13564.0, 14850.0, 15021.0, 13963.0, 17450.0, 17091.0, 17470.0, 17616.0, 15649.0, 14907.0, 17735.0, 16059.0, 17720.0, 15018.0, 14733.0, 13756.0, 14176.0, 13319.0, 15353.0, 18119.0, 17491.0, 14282.0, 13569.0, 15498.0, 14673.0, 13488.0, 16221.0, 15002.0, 15965.0, 15024.0, 17675.0, 13769.0, 16904.0, 16086.0, 13786.0, 13880.0, 13173.0, 15858.0, 15180.0, 14739.0, 16293.0, 17419.0, 16775.0, 16306.0, 16950.0, 17591.0, 12839.0, 13807.0, 16125.0, 15081.0, 18102.0, 16365.0, 17870.0, 14821.0, 16863.0, 13078.0, 13267.0, 13050.0, 15628.0, 14796.0, 16779.0, 13599.0, 13329.0, 18077.0, 14744.0, 17406.0, 15750.0, 13983.0, 13842.0, 13199.0, 14032.0, 17706.0, 16081.0, 16525.0, 14952.0, 17975.0, 16122.0, 13126.0, 15973.0, 16558.0, 16713.0, 16893.0, 15529.0, 18043.0, 16016.0, 17722.0, 17324.0, 17341.0, 14051.0, 15916.0, 16233.0, 16385.0, 15032.0, 17213.0, 18061.0, 13113.0, 16553.0, 13455.0, 14217.0, 17262.0, 14299.0, 18259.0, 17676.0, 16679.0, 18269.0, 15298.0, 18193.0, 13523.0, 12870.0, 15005.0, 15581.0, 15680.0, 13649.0, 17894.0, 13270.0, 14618.0, 14866.0, 13077.0, 13115.0, 13531.0, 13848.0, 13140.0, 15713.0, 17999.0, 15347.0, 17340.0, 13984.0, 15996.0, 14030.0, 16252.0, 16596.0, 16700.0, 16011.0, 17655.0, 16717.0, 14243.0, 12963.0, 15079.0, 14437.0, 12942.0, 15660.0, 18092.0, 15358.0, 18071.0, 13854.0, 13369.0, 17857.0, 17411.0, 14987.0, 14355.0, 17526.0, 14896.0, 14440.0, 13240.0, 14479.0, 16065.0, 17430.0, 16520.0, 15945.0, 15181.0, 15856.0, 13102.0, 14205.0, 17702.0, 15271.0, 13982.0, 15288.0, 17978.0, 16795.0, 16519.0, 17816.0, 13021.0, 16255.0, 17671.0, 17646.0, 16350.0, 12872.0, 17339.0, 18230.0, 16499.0, 15192.0, 14441.0, 15279.0, 16579.0, 15380.0, 17442.0, 17950.0, 12826.0, 17456.0, 17307.0, 15811.0, 13327.0, 17700.0, 13136.0, 15535.0, 15329.0, 15211.0, 15596.0, 16163.0, 16907.0, 17576.0, 14713.0, 14702.0, 13230.0, 13969.0, 17530.0, 15805.0, 17696.0, 17076.0, 17827.0, 16265.0, 17880.0, 13000.0, 17790.0, 14419.0, 14082.0, 17912.0, 15723.0, 16656.0, 14037.0, 14256.0, 14543.0, 16062.0, 18116.0, 16019.0, 18178.0, 18065.0, 13148.0, 12989.0, 14107.0, 15881.0, 16727.0, 15514.0, 13787.0, 17865.0, 17220.0, 16565.0, 16873.0, 14062.0, 15179.0, 18016.0, 14448.0, 15503.0, 17251.0, 16923.0, 14159.0, 17126.0, 15224.0, 14577.0, 17236.0, 17372.0, 16367.0, 12875.0, 17917.0, 16010.0, 17085.0, 13668.0, 14684.0, 17188.0, 15547.0, 15998.0, 14413.0, 18004.0, 13959.0, 16665.0, 15454.0, 15044.0, 17937.0, 14608.0, 17618.0, 14505.0, 18037.0, 13198.0, 13225.0, 15361.0, 15689.0, 14290.0, 13209.0, 13999.0, 14498.0, 15854.0, 16701.0, 16927.0, 17990.0, 14544.0, 17338.0, 17231.0, 17799.0, 14565.0, 16726.0, 17303.0, 14639.0, 17611.0, 17179.0, 17524.0, 17293.0, 17890.0, 17375.0, 17371.0, 17969.0, 15159.0, 13211.0, 15777.0, 14525.0, 13324.0, 13802.0, 13948.0, 13008.0, 14206.0, 16202.0, 16442.0, 18075.0, 15468.0, 16570.0, 14524.0, 18141.0, 16810.0, 14961.0, 17041.0, 16458.0, 16083.0, 16262.0, 17194.0, 14057.0, 14871.0, 13178.0, 18044.0, 16812.0, 16191.0, 14298.0, 17158.0, 14415.0, 16899.0, 16531.0, 16556.0, 16805.0, 16503.0, 17739.0, 13238.0, 12829.0, 13097.0, 12867.0, 15392.0, 13846.0, 14401.0, 16145.0, 17629.0, 14150.0, 13496.0, 13611.0, 16954.0, 17454.0, 17449.0, 17230.0, 15950.0, 15512.0, 17525.0, 13458.0, 14426.0, 16003.0, 13092.0, 13426.0, 15101.0, 17033.0, 13221.0, 14201.0, 17692.0, 15822.0, 16134.0, 17551.0, 18050.0, 14913.0, 15641.0, 13124.0, 17214.0, 15456.0, 15062.0, 12928.0, 15727.0, 17980.0, 15290.0, 17752.0, 15615.0, 17044.0, 13829.0, 17633.0, 13266.0, 17820.0, 15664.0, 17189.0, 17496.0, 16607.0, 13317.0, 13890.0, 17001.0, 15246.0, 16996.0, 15482.0, 16037.0, 14841.0, 16670.0, 16985.0, 16705.0, 16470.0, 14414.0, 15563.0, 12980.0, 16746.0, 14878.0, 16743.0, 17146.0, 12877.0, 15394.0, 14621.0, 15379.0, 14309.0, 17288.0, 14709.0, 15157.0, 17744.0, 16316.0, 15620.0, 15789.0, 16560.0, 13534.0, 17580.0, 14777.0, 15759.0, 14373.0, 18176.0, 15366.0, 14735.0, 16271.0, 18223.0, 15532.0, 16816.0, 16684.0, 14334.0, 16945.0, 14643.0, 15197.0, 14220.0, 13874.0, 18260.0, 17848.0, 17392.0, 14985.0, 13004.0, 14560.0, 12931.0, 13627.0, 14769.0, 15780.0, 17315.0, 16711.0, 15204.0, 17888.0, 17007.0, 15160.0, 13033.0, 13869.0, 14146.0, 16885.0, 17913.0, 14472.0, 17358.0, 16686.0, 18245.0, 17343.0, 18256.0, 16153.0, 12944.0, 15312.0, 14099.0, 14113.0, 13104.0, 17204.0, 13027.0, 17621.0, 17090.0, 14119.0, 15527.0, 18097.0, 15460.0, 15034.0, 15208.0, 17306.0, 14737.0, 13029.0, 16270.0, 13487.0, 17400.0, 17593.0, 13953.0, 14533.0, 14944.0, 17239.0, 14532.0, 15562.0, 15587.0, 13922.0, 13165.0, 13304.0, 13313.0, 16875.0, 16282.0, 12957.0, 14462.0, 13397.0, 13680.0, 15164.0, 17457.0, 14732.0, 14221.0, 14553.0, 13253.0, 17389.0, 15841.0, 16112.0, 13629.0, 16600.0, 15661.0, 16532.0, 15266.0, 14653.0, 16771.0, 17585.0, 15046.0, 13082.0, 15464.0, 18226.0, 18062.0, 17368.0, 14258.0, 15719.0, 13368.0, 17634.0, 16676.0, 16424.0, 18283.0, 13764.0, 13656.0, 14312.0, 13280.0, 15845.0, 16094.0, 13187.0, 16567.0, 14828.0, 16551.0, 16889.0, 16473.0, 13750.0, 15607.0, 15139.0, 17707.0, 18198.0, 18179.0, 17284.0, 13233.0, 14889.0, 14672.0, 13593.0, 13162.0, 13183.0, 17095.0, 12939.0, 15611.0, 17114.0, 15059.0, 16326.0, 17128.0, 14761.0, 17555.0, 16735.0, 16833.0, 17800.0, 16748.0, 14755.0, 16549.0, 13565.0, 15799.0, 18032.0, 13451.0, 14794.0, 18171.0, 16279.0, 17811.0, 16850.0, 14321.0, 15326.0, 17849.0, 13672.0, 14229.0, 13107.0, 16497.0, 16303.0, 15281.0, 13473.0, 14320.0, 17742.0, 16351.0, 13144.0, 15346.0, 15370.0, 14295.0, 16034.0, 17365.0, 15189.0, 14669.0, 18095.0, 15518.0, 15749.0, 14209.0, 15569.0, 17569.0, 13784.0, 13862.0, 16791.0, 16235.0, 14270.0, 16655.0, 16359.0, 16554.0, 15939.0, 14587.0, 14715.0, 14185.0, 14040.0, 14514.0, 15171.0, 14167.0, 17048.0, 17364.0, 13284.0, 16500.0, 12951.0, 15835.0, 18190.0, 13993.0, 14114.0, 15447.0, 16315.0, 14978.0, 16395.0, 15510.0, 13614.0, 13246.0, 15687.0, 16493.0, 13385.0, 15626.0, 15213.0, 14175.0, 18106.0, 15033.0, 14329.0, 16401.0, 16206.0, 13782.0, 12924.0, 16593.0, 13700.0, 13064.0, 13048.0, 18069.0, 13634.0, 16843.0, 17064.0, 17609.0, 15673.0, 14976.0, 13527.0, 15696.0, 15316.0, 15296.0, 17988.0, 12820.0, 13001.0, 14101.0, 14238.0, 17730.0, 13929.0, 14657.0, 13859.0, 18212.0, 14292.0, 13883.0, 18233.0, 17018.0, 14242.0, 12346.0, 13898.0, 16948.0, 16997.0, 15395.0, 13693.0, 13263.0, 14428.0, 17708.0, 14090.0, 15606.0, 15831.0, 13310.0, 14916.0, 17602.0, 14572.0, 13502.0, 14784.0, 15938.0, 17418.0, 14779.0, 15262.0, 17862.0, 16892.0, 17771.0, 15422.0, 14770.0, 16912.0, 15174.0, 14895.0, 17504.0, 16387.0, 16618.0, 17277.0, 14088.0, 17094.0, 14692.0, 12970.0, 17889.0, 17644.0, 17714.0, 12916.0, 17769.0, 14450.0, 16085.0, 13659.0, 15167.0, 15443.0, 14224.0, 13742.0, 17673.0, 14068.0, 13068.0, 14368.0, 15497.0, 13819.0, 14501.0, 14782.0, 17861.0, 18161.0, 15820.0, 18136.0, 16660.0, 13396.0, 12935.0, 16730.0, 14541.0, 13551.0, 15797.0, 15052.0, 14130.0, 15222.0, 13615.0, 13901.0, 13158.0, 14257.0, 15218.0, 15110.0, 14534.0, 15967.0, 16757.0, 12854.0, 18008.0, 18277.0, 14389.0, 13703.0, 15339.0, 16222.0, 14341.0, 13168.0, 16943.0, 17515.0, 17082.0, 14248.0, 13002.0, 16133.0, 13049.0, 14548.0, 13405.0, 14049.0, 16043.0, 15812.0, 13837.0, 17118.0, 14616.0, 14233.0, 17075.0, 16714.0, 13098.0, 17027.0, 17786.0, 16124.0, 16409.0, 13754.0, 15227.0, 12997.0, 15215.0, 16918.0, 16882.0, 16496.0, 17311.0, 15910.0, 16949.0, 14970.0, 14701.0, 16767.0, 14738.0, 17540.0, 14239.0, 18125.0, 13328.0, 15549.0, 15864.0, 14662.0, 17180.0, 15057.0, 13330.0, 13552.0, 12853.0, 13538.0, 16755.0, 14133.0, 16523.0, 14659.0, 13141.0, 15365.0, 13707.0, 13709.0, 17329.0, 14805.0, 16897.0, 15579.0, 14595.0, 13161.0, 15415.0, 17431.0, 17463.0, 14502.0, 15448.0, 17314.0, 17373.0, 18145.0, 14467.0, 12908.0, 15144.0, 14776.0, 16403.0, 16407.0, 17619.0, 17256.0, 17604.0, 14006.0, 13600.0, 15058.0, 17147.0, 13881.0, 16612.0, 14627.0, 17356.0, 12836.0, 13939.0, 16745.0, 13606.0, 13494.0, 12929.0, 16419.0, 17035.0, 15203.0, 16515.0, 18202.0, 14549.0, 15981.0, 16110.0, 17376.0, 13110.0, 16716.0, 15940.0, 15971.0, 14665.0, 14457.0, 15589.0, 14411.0, 17560.0, 15226.0, 14460.0, 16156.0, 13728.0, 14127.0, 16378.0, 13894.0, 13824.0, 18250.0, 15270.0, 14188.0, 18017.0, 15421.0, 17446.0, 14798.0, 12990.0, 16992.0, 17337.0, 16405.0, 17071.0, 13873.0, 17362.0, 13394.0, 16333.0, 16030.0, 14044.0, 13800.0, 17672.0, 13581.0, 14540.0, 13539.0, 15885.0, 14497.0, 17507.0, 13208.0, 17334.0, 13871.0, 16938.0, 17929.0, 14778.0, 17517.0, 17226.0, 13137.0, 13725.0, 13309.0, 12842.0, 16109.0, 17291.0, 15090.0, 15199.0, 13911.0, 14194.0, 14842.0, 13584.0, 17105.0, 14438.0, 12956.0, 15781.0, 14410.0, 14600.0, 17302.0, 17613.0, 13334.0, 13955.0, 17162.0, 17774.0, 15407.0, 15577.0, 16332.0, 14048.0, 14475.0, 17859.0, 15753.0, 14562.0, 16951.0, 16998.0, 13133.0, 17881.0, 15843.0, 17083.0, 15970.0, 13590.0, 17537.0, 17843.0, 13706.0, 17940.0, 17686.0, 14431.0, 15809.0, 14465.0, 18093.0, 16027.0, 12857.0, 16425.0, 16842.0, 15796.0, 14555.0, 15114.0, 15133.0, 17705.0, 18087.0, 12897.0, 17512.0, 15550.0, 14676.0, 18159.0, 14304.0, 15638.0, 12943.0, 13875.0, 15406.0, 18084.0, 17282.0, 16434.0, 17050.0, 13171.0, 17472.0, 17255.0, 16084.0, 17667.0, 14631.0, 13381.0, 15236.0, 13475.0, 13717.0, 13157.0, 14644.0, 12993.0, 17571.0, 16979.0, 16738.0, 15122.0, 17612.0, 17348.0, 13893.0, 14035.0, 13623.0, 14346.0, 16431.0, 16317.0, 16073.0, 14477.0, 14760.0, 14897.0, 15810.0, 16509.0, 14386.0, 14530.0, 15670.0, 16126.0, 14609.0, 13414.0, 12823.0, 16494.0, 14959.0, 16148.0, 17422.0, 17175.0, 18257.0, 13018.0, 13718.0, 15382.0, 14754.0, 13151.0, 13085.0, 15903.0, 15785.0, 18138.0, 14379.0, 14211.0, 14371.0, 13425.0, 12852.0, 15228.0, 13012.0, 16182.0, 13489.0, 13904.0, 15755.0, 13932.0, 13799.0, 13951.0, 16765.0, 18172.0, 16566.0, 12891.0, 16466.0, 16115.0, 14162.0, 13301.0, 14803.0, 13744.0, 12988.0, 17323.0, 18094.0, 15129.0, 17361.0, 18155.0, 15321.0, 13477.0, 15065.0, 16980.0, 15146.0, 13410.0, 13044.0, 16441.0, 16014.0, 14520.0, 17994.0, 13038.0, 17002.0, 15722.0, 16349.0, 16913.0, 18114.0, 15303.0, 12845.0, 18188.0, 16045.0, 16573.0, 13421.0, 18196.0, 13285.0, 13184.0, 18151.0, 13804.0, 17499.0, 15397.0, 14276.0, 13453.0, 16394.0, 17711.0, 13865.0, 16940.0, 14289.0, 16208.0, 17063.0, 13149.0, 18068.0, 15932.0, 16692.0, 15590.0, 17171.0, 18231.0, 14004.0, 17139.0, 14513.0, 13118.0, 15974.0, 17830.0, 14231.0, 17867.0, 14880.0, 15121.0, 17117.0, 12945.0, 18056.0, 16072.0, 16838.0, 15543.0, 13751.0, 15847.0, 13851.0, 13345.0, 13870.0, 17034.0, 16592.0, 15712.0, 13362.0, 14470.0, 17388.0, 16841.0, 13753.0, 13666.0, 14481.0, 13792.0, 17663.0, 13973.0, 15990.0, 13684.0, 13261.0, 16598.0, 14147.0, 15951.0, 13971.0, 17516.0, 13630.0, 14157.0, 13636.0, 13610.0, 14745.0, 14036.0, 16057.0, 15724.0, 13675.0, 14227.0, 16668.0, 16667.0, 13509.0, 15874.0, 16187.0, 16339.0, 14046.0, 13292.0, 16427.0, 14056.0, 15656.0, 16518.0, 17165.0, 17462.0, 14620.0, 14740.0, 16462.0, 16078.0, 16915.0, 15676.0, 15709.0, 15241.0, 12933.0, 15092.0, 15319.0, 16212.0, 15257.0, 14656.0, 13884.0, 13166.0, 16389.0, 15416.0, 15733.0, 16678.0, 12834.0, 13722.0, 15067.0, 16128.0, 17770.0, 15622.0, 14473.0, 15104.0, 15643.0, 16792.0, 15031.0, 15636.0, 12873.0, 17923.0, 16217.0, 17738.0, 17426.0, 16957.0, 16571.0, 14483.0, 15087.0, 16709.0, 17856.0, 15053.0, 18218.0, 16159.0, 17995.0, 17374.0, 17789.0, 17416.0, 17652.0, 13476.0, 15393.0, 13014.0, 13931.0, 13382.0, 15220.0, 14570.0, 14447.0, 13557.0, 16449.0, 17325.0, 14995.0, 16414.0, 15681.0, 14670.0, 15675.0, 17535.0, 15400.0, 14903.0, 14499.0, 18211.0, 14504.0, 15572.0, 17107.0, 14247.0, 15554.0, 14915.0, 16136.0, 18280.0, 13344.0, 16621.0, 16225.0, 14214.0, 14012.0, 16356.0, 17654.0, 15026.0, 16517.0, 14817.0, 17092.0, 16242.0, 15869.0, 17817.0, 15234.0, 15764.0, 15806.0, 15819.0, 14586.0, 15944.0, 13340.0, 16917.0, 14407.0, 13908.0, 13975.0, 14730.0, 14367.0, 13373.0, 16712.0, 17639.0, 16426.0, 16495.0, 14336.0, 14507.0, 17049.0, 15206.0, 14013.0, 14645.0, 15071.0, 14112.0, 13026.0, 12881.0, 17864.0, 17138.0, 16572.0, 14165.0, 15367.0, 14291.0, 15632.0, 14297.0, 13899.0, 16471.0, 18183.0, 14603.0, 18173.0, 14854.0, 16625.0, 14064.0, 15308.0, 18086.0, 14350.0, 16080.0, 14727.0, 16778.0, 14077.0, 16808.0, 16475.0, 13265.0, 15049.0, 18149.0, 13654.0, 16652.0, 16766.0, 16801.0, 17164.0, 13226.0, 13043.0, 14352.0, 17351.0, 16768.0, 16693.0, 13956.0, 13708.0, 15918.0, 15671.0, 14962.0, 16807.0, 15125.0, 16871.0, 12901.0, 13452.0, 15493.0, 16005.0, 16804.0, 13499.0, 15047.0, 14193.0, 17542.0, 17080.0, 16392.0, 15106.0, 16214.0, 13716.0, 15150.0, 16061.0, 14226.0, 13121.0, 16297.0, 12994.0, 16152.0, 14636.0, 16040.0, 15793.0, 13358.0, 12849.0, 15182.0, 13299.0, 16383.0, 15381.0, 15030.0, 12955.0, 18189.0, 13946.0, 17716.0, 13185.0, 14840.0, 13216.0, 13650.0, 13533.0, 13268.0, 15433.0, 12937.0, 17603.0, 16216.0, 16377.0, 16976.0, 18210.0, 13631.0, 14422.0, 15648.0, 17725.0, 15861.0, 13072.0, 15695.0, 14110.0, 14059.0, 16672.0, 16511.0, 16256.0, 13591.0, 14066.0, 15483.0, 16626.0, 15019.0, 18270.0, 14315.0, 17921.0, 14041.0, 17060.0, 16023.0, 17133.0, 12878.0, 14155.0, 17043.0, 13046.0, 14633.0, 12948.0, 15703.0, 14071.0, 17134.0, 17795.0, 12902.0, 16444.0, 14232.0, 14693.0, 16728.0, 16096.0, 13985.0, 13592.0, 15140.0, 12843.0, 14408.0, 15408.0, 15445.0, 15452.0, 14223.0, 16619.0, 14762.0, 13934.0, 15669.0, 16384.0, 18224.0, 14245.0, 17678.0, 15855.0, 16036.0, 17763.0, 13262.0, 17152.0, 14632.0, 13900.0, 14875.0, 15132.0, 17272.0, 16135.0, 12831.0, 15437.0, 16809.0, 14711.0, 14377.0, 16374.0, 13196.0, 15457.0, 16721.0, 17733.0, 17102.0, 15410.0, 13239.0, 15449.0, 14870.0, 13821.0, 17096.0, 18191.0, 14461.0, 13132.0, 16859.0, 15245.0, 17486.0, 16308.0, 14607.0, 13249.0, 15644.0, 14075.0, 17250.0, 17966.0, 14129.0, 15651.0, 13035.0, 13341.0, 13512.0, 16620.0, 17698.0, 14267.0, 13736.0, 16022.0, 14235.0, 16769.0, 17754.0, 16063.0, 15178.0, 14348.0, 15815.0, 13695.0, 17979.0, 13139.0, 14758.0, 14536.0, 13662.0, 17946.0, 13743.0, 18078.0, 16780.0, 18273.0, 15045.0, 17625.0, 13357.0, 16777.0, 14476.0, 16245.0, 17765.0, 15083.0, 18010.0, 15249.0, 13760.0, 15624.0, 17749.0, 15068.0, 14538.0, 14851.0, 14021.0, 13037.0, 18177.0, 14128.0, 17874.0, 17719.0, 17931.0, 13803.0, 17398.0, 15906.0, 16253.0, 13439.0, 12888.0, 13588.0, 15521.0, 13720.0, 15674.0, 17594.0, 17775.0, 13988.0, 16657.0, 15424.0, 13316.0, 16788.0, 16584.0, 15364.0, 18108.0, 14272.0, 15980.0, 15832.0, 16092.0, 15528.0, 16398.0, 17088.0, 17438.0, 13060.0, 14790.0, 14890.0, 16386.0, 14818.0, 13571.0, 12909.0, 16698.0, 16681.0, 13573.0, 14957.0, 13918.0, 17212.0, 17781.0, 14886.0, 13626.0, 16609.0, 16180.0, 13462.0, 18263.0, 16960.0, 13841.0, 17701.0, 12949.0, 14852.0, 13169.0, 16162.0, 15691.0, 14195.0, 13781.0, 17758.0, 14023.0, 17669.0, 16142.0, 17648.0, 13059.0, 16224.0, 15223.0, 17886.0, 13294.0, 15289.0, 18185.0, 17956.0, 15756.0, 14747.0, 14719.0, 13015.0, 16586.0, 16105.0, 14546.0, 15442.0, 16906.0, 14535.0, 16170.0, 15244.0, 16696.0, 15145.0, 17492.0, 13525.0, 17409.0, 17783.0, 13863.0, 13515.0, 15917.0, 17440.0, 17045.0, 17140.0, 15201.0, 14964.0, 16031.0, 14403.0, 17042.0, 13771.0, 17906.0, 18272.0, 16144.0, 13731.0, 15530.0, 13950.0, 13752.0, 13892.0, 14446.0, 16209.0, 15754.0, 13712.0, 15800.0, 16469.0, 13005.0, 14981.0, 17928.0, 16261.0, 17883.0, 14619.0, 13995.0, 16643.0, 14246.0, 18040.0, 16837.0, 15119.0, 16325.0, 14924.0, 15109.0, 16623.0, 12999.0, 13962.0, 18036.0, 14958.0, 13562.0, 15775.0, 17054.0, 17268.0, 13548.0, 13508.0, 13570.0, 13232.0, 18129.0, 13632.0, 15665.0, 17550.0, 15655.0, 14286.0, 16188.0, 15214.0, 17574.0, 15737.0, 18080.0, 14311.0, 14339.0, 12982.0, 14273.0, 13549.0, 15414.0, 13203.0, 14628.0, 14326.0, 15935.0, 13655.0, 12910.0, 13577.0, 15251.0, 14111.0, 17160.0, 16172.0, 17972.0, 14844.0, 17278.0, 15212.0, 16729.0, 14998.0, 13484.0, 16697.0, 18236.0, 13740.0, 16454.0, 15230.0, 15134.0, 16309.0, 13544.0, 14262.0, 13134.0, 17589.0, 16097.0, 13122.0, 16966.0, 17746.0, 16175.0, 14834.0, 16348.0, 15147.0, 16131.0, 15813.0, 17058.0, 17704.0, 16933.0, 13772.0, 16249.0, 14198.0, 13989.0, 17930.0, 14154.0, 14482.0, 14163.0, 14105.0, 17601.0, 17142.0, 15135.0, 16806.0, 13952.0, 13120.0, 13516.0, 14323.0, 18079.0, 14700.0, 15027.0, 17367.0, 18213.0, 17029.0, 13220.0, 15985.0, 16193.0, 15172.0, 13692.0, 15745.0, 17582.0, 13474.0, 17697.0, 16639.0, 16947.0, 15491.0, 16617.0, 15265.0, 16226.0, 18009.0, 16399.0, 14623.0, 15625.0, 18064.0, 15508.0, 16628.0, 13647.0, 15594.0, 13479.0, 13735.0, 13376.0, 15717.0, 13719.0, 16633.0, 13101.0, 15225.0, 14152.0, 15436.0, 17217.0, 17734.0, 14905.0, 14148.0, 16103.0, 14626.0, 14868.0, 18246.0, 13485.0, 15517.0, 17115.0, 17120.0, 16611.0, 15912.0, 17588.0, 14759.0, 16185.0, 13389.0, 17631.0, 17061.0, 17718.0, 17630.0, 13223.0, 16146.0, 17109.0, 16587.0, 16750.0, 13482.0, 14512.0, 17670.0, 16834.0, 16942.0, 14640.0, 16823.0, 15237.0, 17854.0, 18220.0, 17436.0, 16965.0, 12840.0, 15891.0, 17187.0, 13637.0, 17991.0, 16418.0, 16099.0, 15768.0, 16637.0, 14240.0, 15143.0, 13229.0, 14973.0, 14271.0, 15952.0, 16227.0, 17893.0, 14022.0, 15210.0, 16370.0, 15376.0, 14655.0, 17615.0, 16055.0, 14149.0, 17501.0, 14191.0, 13282.0, 15582.0, 16230.0, 18146.0, 15976.0, 12886.0, 17974.0, 13524.0, 17955.0, 15128.0, 16610.0, 17394.0, 14173.0, 16258.0, 14948.0, 17384.0, 16990.0, 13762.0, 14340.0, 17429.0, 13711.0, 14515.0, 16457.0, 17527.0, 14199.0, 13888.0, 14423.0, 14697.0, 17522.0, 13867.0, 17624.0, 14393.0, 17578.0, 13450.0, 17423.0, 18241.0, 15668.0, 16319.0, 15757.0, 17174.0, 13365.0, 18227.0, 14145.0, 18235.0, 13741.0, 16832.0, 15258.0, 15552.0, 18170.0, 13723.0, 14005.0, 15561.0, 16121.0, 18142.0, 13642.0, 15117.0, 13561.0, 15704.0, 16007.0, 16232.0, 17410.0, 13835.0, 13427.0, 14353.0, 13003.0, 16756.0, 16440.0, 18120.0, 17723.0, 14699.0, 12821.0, 13055.0, 13320.0, 16357.0, 18242.0, 15865.0, 17597.0, 14397.0, 13242.0, 14288.0, 15063.0, 14591.0, 13990.0, 12749.0, 14691.0, 16229.0, 14920.0, 17489.0, 13404.0, 15729.0, 16644.0, 14731.0, 15187.0, 13052.0, 18133.0, 17664.0, 14649.0, 13235.0, 14883.0, 12976.0, 14681.0, 14421.0, 16116.0, 14988.0, 15489.0, 14364.0, 16006.0, 16184.0, 17932.0, 18221.0, 14853.0, 17658.0, 17764.0, 14651.0, 14000.0, 13601.0, 17970.0, 15826.0, 15907.0, 14342.0, 14873.0, 14689.0, 15440.0, 16076.0, 15333.0, 16283.0, 17263.0, 16877.0, 16642.0, 12871.0, 14038.0, 14489.0, 14888.0, 17190.0, 13456.0, 17898.0, 13976.0, 16139.0, 15730.0, 16266.0, 15123.0, 17505.0, 16446.0, 17556.0, 14583.0, 16818.0, 13572.0, 14009.0, 13258.0, 14463.0, 13192.0, 16987.0, 13417.0, 17047.0, 15116.0, 17469.0, 16647.0, 15630.0, 17245.0, 16008.0, 17871.0, 13529.0, 15599.0, 16813.0, 14859.0, 16463.0, 15791.0, 13658.0, 13887.0, 14551.0, 17166.0, 17926.0, 13391.0, 17455.0, 13308.0, 13856.0, 13243.0, 15095.0, 18048.0, 18287.0, 18150.0, 16690.0, 13555.0, 16038.0, 13972.0, 13227.0, 13657.0, 17176.0, 14837.0, 14682.0, 14921.0, 16341.0, 14647.0, 15292.0, 15705.0, 13339.0, 13885.0, 13546.0, 17715.0, 18160.0, 15434.0, 15734.0, 13737.0, 13213.0, 18018.0, 15314.0, 17521.0, 15042.0, 12863.0, 16091.0, 15804.0, 14593.0, 14287.0, 16763.0, 14705.0, 14522.0, 16448.0, 14584.0, 12974.0, 12987.0, 14816.0, 15852.0, 16624.0, 18232.0, 18073.0, 16369.0, 14280.0, 13135.0, 17345.0, 16275.0, 14338.0, 15402.0, 16323.0, 14451.0, 14823.0, 15897.0, 17051.0, 15925.0, 15863.0, 16483.0, 13398.0, 13070.0, 14819.0, 15163.0, 18204.0, 15124.0, 16969.0, 14597.0, 13917.0, 13062.0, 16484.0, 15184.0, 18135.0, 14453.0, 17900.0, 13437.0, 16529.0, 17531.0, 16239.0, 14500.0, 16117.0, 13248.0, 16967.0, 15405.0, 16659.0, 16880.0, 13435.0, 13131.0, 14891.0, 16682.0, 15453.0, 16963.0, 13682.0, 15152.0, 15462.0, 15349.0, 16849.0, 15073.0, 16298.0, 18248.0, 15386.0, 17252.0, 14542.0, 16825.0, 18072.0, 13643.0, 15969.0, 13283.0, 17015.0, 14375.0, 17124.0, 17987.0, 13395.0, 15743.0, 17414.0, 14622.0, 15609.0, 14561.0, 16872.0, 16358.0, 15238.0, 13466.0, 17360.0, 13510.0, 14241.0, 14132.0, 14963.0, 17169.0, 15252.0, 17731.0, 16113.0, 16107.0, 17483.0, 15679.0, 13686.0, 16581.0, 15267.0, 17234.0, 17797.0, 16614.0, 15411.0, 14178.0, 15098.0, 18281.0, 14984.0, 17265.0, 13617.0, 17242.0, 17289.0, 16018.0, 14704.0, 16794.0, 13761.0, 13517.0, 13936.0, 16342.0, 14177.0, 16205.0, 15036.0, 13589.0, 17579.0, 15069.0, 17349.0, 13080.0, 13663.0, 14503.0, 16774.0, 13384.0, 17101.0, 14997.0, 17155.0, 16461.0, 13343.0, 18165.0, 17536.0, 16324.0, 17651.0, 14222.0, 15585.0, 17490.0, 16739.0, 16276.0, 17193.0, 16257.0, 14285.0, 17642.0, 13826.0, 13575.0, 17157.0, 16852.0, 15219.0, 15014.0, 14765.0, 16869.0, 15909.0, 13618.0, 16050.0, 17879.0, 17562.0, 15334.0, 13568.0, 14820.0, 16744.0, 15700.0, 17299.0, 12837.0, 15076.0, 15921.0, 15747.0, 15840.0, 15016.0, 14808.0, 12904.0, 15825.0, 15389.0, 15280.0, 17159.0, 12830.0, 15507.0, 18252.0, 16526.0, 17695.0, 12930.0, 14960.0, 17960.0, 15412.0, 13763.0, 13849.0, 16114.0, 13420.0, 13780.0, 17877.0, 16247.0, 15041.0, 16287.0, 12919.0, 15130.0, 17370.0, 17709.0, 15253.0, 13300.0, 17759.0, 13937.0, 15850.0, 15186.0, 13791.0, 14795.0, 17768.0, 18112.0, 17386.0, 14104.0, 17110.0, 13895.0, 16545.0, 16671.0, 14351.0, 17391.0, 16824.0, 17750.0, 16200.0, 17997.0, 14383.0, 13461.0, 17408.0, 15537.0, 14327.0, 17837.0, 15578.0, 15584.0, 13745.0, 16498.0, 17891.0, 17123.0, 16866.0, 13730.0, 16589.0, 12922.0, 16009.0, 14053.0, 17939.0, 17312.0, 13833.0, 17899.0, 15007.0, 17464.0, 18265.0, 16344.0, 13338.0, 17024.0, 14034.0, 18203.0, 16616.0, 16338.0, 17046.0, 13109.0, 16829.0, 13217.0, 14002.0, 12977.0, 13291.0, 13583.0, 16929.0, 17892.0, 15505.0, 14459.0, 18013.0, 13681.0, 13699.0, 14493.0, 13486.0, 13302.0, 16012.0, 17031.0, 18121.0, 15901.0, 14918.0, 15920.0, 17353.0, 18024.0, 15467.0, 16174.0, 13678.0, 14690.0, 13058.0, 14552.0, 13224.0, 16989.0, 13207.0, 18122.0, 17405.0, 13311.0, 15051.0, 15895.0, 15795.0, 13669.0, 16450.0, 13667.0, 14400.0, 14847.0, 14862.0, 16488.0, 15256.0, 14716.0, 13933.0, 14857.0, 15306.0, 15839.0, 13994.0, 17554.0, 14332.0, 17266.0, 17948.0, 15004.0, 14722.0, 13507.0, 13967.0, 16054.0, 12833.0, 16474.0, 17984.0, 17448.0, 16762.0, 15369.0, 13154.0, 13940.0, 14029.0, 14117.0, 13167.0, 17779.0, 13991.0, 18101.0, 17065.0, 13827.0, 16764.0, 18180.0, 17866.0, 15802.0, 17229.0, 14456.0, 16464.0, 17962.0, 16149.0, 14259.0, 18143.0, 17935.0, 14517.0, 17694.0, 17660.0, 16041.0, 15623.0, 15829.0, 15232.0, 13079.0, 18262.0, 13563.0, 15506.0, 16305.0, 12864.0, 17724.0, 17703.0, 13116.0, 14019.0, 17649.0, 16178.0, 17040.0, 14100.0, 16557.0, 13296.0, 16364.0, 17693.0, 15372.0, 15618.0, 13930.0, 13379.0, 13194.0, 16447.0, 14305.0, 14331.0, 15261.0, 15105.0, 18268.0, 14855.0, 13925.0, 18237.0, 15639.0, 15118.0, 15746.0, 15942.0, 14143.0, 15120.0, 16147.0, 13277.0, 18127.0, 15149.0, 18081.0, 14511.0, 15776.0, 12981.0, 13106.0, 13928.0, 14885.0, 13388.0, 15438.0, 17173.0, 17941.0, 14947.0, 17053.0, 12844.0, 14567.0, 12828.0, 16984.0, 13023.0, 17553.0, 13075.0, 15342.0, 17788.0, 13850.0, 14076.0, 13805.0, 17887.0, 13186.0, 15374.0, 17656.0, 16102.0, 15089.0, 14972.0, 17514.0, 12917.0, 14768.0, 17584.0, 15254.0, 18099.0, 15205.0, 13218.0, 17267.0, 16302.0, 13513.0, 14720.0, 18282.0, 13200.0, 14079.0, 17298.0, 14024.0, 16066.0, 15198.0, 12885.0, 17331.0, 13016.0, 13500.0, 15247.0, 13355.0, 16053.0, 16292.0, 14116.0, 14495.0, 15494.0, 15608.0, 17248.0, 17653.0, 13645.0, 15469.0, 13307.0, 17122.0, 14406.0, 15683.0, 14301.0, 14658.0, 13621.0, 16272.0, 17958.0, 16836.0, 16961.0, 16902.0, 15706.0, 15315.0, 15653.0, 13159.0, 13189.0, 17637.0, 13470.0, 15786.0, 15541.0, 16734.0, 16706.0, 17070.0, 12962.0, 13273.0, 17736.0, 15472.0, 16582.0, 17747.0, 15396.0, 16828.0, 14712.0, 12991.0, 14772.0, 12968.0, 16330.0, 15701.0, 14529.0, 16536.0, 15313.0, 15801.0, 16201.0, 16555.0, 16952.0, 14387.0, 17073.0, 18147.0, 14523.0, 14418.0, 16968.0, 16723.0, 13411.0, 16340.0, 13236.0, 14196.0, 15263.0, 14314.0, 16093.0, 14687.0, 14050.0, 16429.0, 14055.0, 15663.0, 18200.0, 18167.0, 13644.0, 17451.0, 16641.0, 14141.0, 15074.0, 17183.0, 15325.0, 13778.0, 14869.0, 14096.0, 14108.0, 15866.0, 14660.0, 13726.0, 15690.0, 17777.0, 16278.0, 13276.0, 13147.0, 13045.0, 13099.0, 14420.0, 14436.0, 18027.0, 12832.0, 16674.0, 16173.0, 14171.0, 13434.0, 16761.0, 14067.0, 13808.0, 12851.0, 14965.0, 15136.0, 16629.0, 18261.0, 15307.0, 16820.0, 17309.0, 13949.0, 14360.0, 16400.0, 14208.0, 13130.0, 13210.0, 17481.0, 17573.0, 14452.0, 13889.0, 15488.0, 18222.0, 13244.0, 17004.0, 13441.0, 13823.0, 12879.0, 16603.0, 14824.0, 16910.0, 15652.0, 16362.0, 15035.0, 14508.0, 13272.0, 17317.0, 14212.0, 13372.0, 18255.0, 14250.0, 16796.0, 14432.0, 15782.0, 12883.0, 12965.0, 15533.0, 18215.0, 18158.0, 13375.0, 13431.0, 16211.0, 12884.0, 16141.0, 17919.0, 16360.0, 17433.0, 13704.0, 14020.0, 14359.0, 16451.0, 12940.0, 15216.0, 15522.0, 17037.0, 12822.0, 15343.0, 14753.0, 16959.0, 18251.0, 13032.0, 12895.0, 17640.0, 13860.0, 18001.0, 17728.0, 15933.0, 14284.0, 17347.0, 15103.0, 15707.0, 13430.0, 13321.0, 13877.0, 15272.0, 15322.0, 17333.0, 13518.0, 14306.0, 17679.0, 16160.0, 15573.0, 14894.0, 17434.0, 15466.0, 15511.0, 17846.0, 16189.0, 15417.0, 12995.0, 14557.0, 16108.0, 17144.0, 16924.0, 15099.0, 13323.0, 14124.0, 15975.0, 15523.0, 16878.0, 15947.0, 13247.0, 13566.0, 18194.0, 16689.0, 16438.0, 13067.0, 16460.0, 13325.0, 13774.0, 15504.0, 15500.0, 17557.0, 13228.0, 14356.0, 13416.0, 17628.0, 16527.0, 16428.0, 15341.0, 16215.0, 14164.0, 15888.0, 17564.0, 13356.0, 18228.0, 17415.0, 13350.0, 16627.0, 17475.0, 14951.0, 14780.0, 14887.0, 15399.0, 17466.0, 16379.0, 17172.0, 15239.0, 16213.0, 15603.0, 14261.0, 15571.0, 15484.0, 12936.0, 16236.0, 16669.0, 15398.0, 12906.0, 17079.0, 14125.0, 17163.0, 12952.0, 13279.0, 16715.0, 13519.0, 15744.0, 13127.0, 15714.0, 17480.0, 15763.0, 15075.0, 16978.0, 14014.0, 16240.0, 13336.0, 14652.0, 15807.0, 15762.0, 15475.0, 15978.0, 16485.0, 13083.0, 16169.0, 17506.0, 16480.0, 17006.0, 17498.0, 17131.0, 13536.0, 15429.0, 17154.0, 16594.0, 16049.0, 14757.0, 16198.0, 13670.0, 18066.0, 14806.0, 13429.0, 15154.0, 13390.0, 12925.0, 13927.0, 18205.0, 14908.0, 13639.0, 15958.0, 15492.0, 15243.0, 16468.0, 15344.0, 13866.0, 16999.0, 13514.0, 13314.0, 17805.0, 18278.0, 13979.0, 16181.0, 15568.0, 16354.0, 14412.0, 16119.0, 14109.0, 16157.0, 15348.0, 16281.0, 13924.0, 14434.0, 13061.0, 17513.0, 16909.0, 16650.0, 18192.0, 17447.0, 17427.0, 15175.0, 13960.0, 17528.0, 16361.0, 13886.0, 13354.0, 15050.0, 13503.0, 16653.0, 16574.0, 13759.0, 17813.0, 15949.0, 13364.0, 16268.0, 18053.0, 16101.0, 15565.0, 18217.0, 13954.0, 15593.0, 13095.0, 15287.0, 13347.0, 15185.0, 16404.0, 16613.0, 16591.0, 15774.0, 13558.0, 16930.0, 16533.0, 18059.0, 14488.0, 16747.0, 14333.0, 13635.0, 17330.0, 17321.0, 14815.0, 15091.0, 15088.0, 15930.0, 16183.0, 13297.0, 13801.0, 16881.0, 17014.0, 15255.0, 14184.0, 13351.0, 15739.0, 17957.0, 15276.0, 15127.0, 16106.0, 17666.0, 13483.0, 16478.0, 17382.0, 16020.0, 17222.0, 16803.0, 13947.0, 16758.0, 17647.0, 14054.0, 18033.0, 13845.0, 15837.0, 13177.0, 14317.0, 16295.0, 13602.0, 16895.0, 17295.0, 13504.0, 13422.0, 15264.0, 16432.0, 14518.0, 13882.0, 15937.0, 12923.0, 17453.0, 15766.0, 15300.0, 13348.0, 14592.0, 14792.0, 17030.0, 14427.0, 13359.0, 14138.0, 15297.0, 13876.0, 17086.0, 13806.0, 18096.0, 13587.0, 12856.0, 13419.0, 17509.0, 16900.0, 13689.0, 13755.0, 16104.0, 13259.0, 16248.0, 15612.0, 15787.0, 16595.0, 13260.0, 15821.0, 18088.0, 16685.0, 13193.0, 13212.0, 14801.0, 16380.0, 16921.0, 15193.0, 14027.0, 16179.0, 15473.0, 17425.0, 18169.0, 18126.0, 16688.0, 16982.0, 15330.0, 17186.0, 13685.0, 16776.0, 13980.0, 13352.0, 15553.0, 15886.0, 17203.0, 17459.0, 16561.0, 14121.0, 17119.0, 17620.0, 12824.0, 14710.0, 16120.0, 14624.0, 16171.0, 13690.0, 17934.0, 14642.0, 16753.0, 17737.0, 13464.0, 14537.0, 17279.0, 14251.0, 14234.0, 14975.0, 13853.0, 16773.0, 16430.0, 16793.0, 18130.0, 17614.0, 13858.0, 14856.0, 14089.0, 15478.0, 16413.0, 16416.0, 13006.0, 17986.0, 14910.0, 16243.0, 13878.0, 16934.0, 15994.0, 14547.0, 16052.0, 15113.0, 16542.0, 18042.0, 16563.0, 17201.0, 17520.0, 13923.0, 16412.0, 17205.0, 17534.0, 15335.0, 16737.0, 15066.0, 17206.0, 17785.0, 16932.0, 16363.0, 14830.0, 17244.0, 15355.0, 15598.0, 15637.0, 16848.0, 15678.0, 14015.0, 13594.0, 15327.0, 14861.0, 14554.0, 14179.0, 15604.0, 14381.0, 16123.0, 16851.0, 17148.0, 17549.0, 17973.0, 15610.0, 15853.0, 18019.0, 14698.0, 16826.0, 17824.0, 15803.0, 15006.0, 17350.0, 14799.0, 15814.0, 16260.0, 14638.0, 17354.0, 13245.0, 14923.0, 16177.0, 13366.0, 16284.0, 16846.0, 14484.0, 13897.0, 14585.0, 17125.0, 15836.0, 16313.0, 13460.0, 14967.0, 15286.0, 17832.0, 16015.0, 16311.0, 15728.0, 15740.0, 13974.0, 15677.0, 15000.0, 16017.0, 13471.0, 13598.0, 18005.0, 15427.0, 15022.0, 17111.0, 17836.0, 14629.0, 15592.0, 15277.0, 16491.0, 15516.0, 14764.0, 16742.0, 15142.0, 17344.0, 18240.0, 17081.0, 14474.0, 14139.0, 15844.0, 13176.0, 15345.0, 16708.0, 15963.0, 18045.0, 13182.0, 15158.0, 13028.0, 13978.0, 16056.0, 16071.0, 14539.0, 14550.0, 17712.0, 14102.0, 14598.0, 15320.0, 16415.0, 12827.0, 16345.0, 15993.0, 17895.0, 15948.0, 15659.0, 18154.0, 13363.0, 18276.0, 17684.0, 17878.0, 14752.0, 16847.0, 14971.0, 17545.0, 16026.0, 16513.0, 14357.0, 16855.0, 16680.0, 18035.0, 16648.0, 16164.0, 14218.0, 15096.0, 18030.0, 14416.0, 17839.0, 16601.0, 12912.0, 13278.0, 14582.0, 15748.0, 16079.0, 17590.0, 15054.0, 14158.0, 15385.0, 16506.0, 13822.0, 18067.0, 16190.0, 15444.0, 13607.0, 15360.0, 13103.0, 15667.0, 13651.0, 16127.0, 15977.0, 13697.0, 14345.0, 17503.0, 16830.0, 17495.0, 14485.0, 13868.0, 15423.0, 17668.0, 16971.0, 16352.0, 16884.0, 15830.0, 14216.0, 15275.0, 16790.0, 15576.0, 18105.0, 18164.0, 14974.0, 17947.0, 13318.0, 18104.0, 13271.0, 17595.0, 14528.0, 17432.0, 16337.0, 14098.0, 15551.0, 16347.0, 13721.0, 16322.0, 17403.0, 16914.0, 16602.0, 13914.0, 13467.0, 17221.0, 17078.0, 13447.0, 15010.0, 18022.0, 16318.0, 17274.0, 15597.0, 17233.0, 16887.0, 13938.0, 17084.0, 14882.0, 15017.0, 12882.0, 17387.0, 13727.0, 13532.0, 16445.0, 15156.0, 16372.0, 17608.0, 14174.0, 14039.0, 13040.0, 15883.0, 14664.0, 15526.0, 17831.0, 15025.0, 17761.0, 15870.0, 14080.0, 17623.0, 13673.0, 14073.0, 16070.0, 13066.0, 14929.0, 13710.0, 16732.0, 14140.0, 17219.0, 16505.0, 15957.0, 18123.0, 15043.0, 17313.0, 18216.0, 17022.0, 15153.0, 16759.0, 16751.0, 12893.0, 14836.0, 17011.0, 17038.0, 14968.0, 16516.0, 13522.0, 15986.0, 13992.0, 14354.0, 16986.0, 16953.0, 18274.0, 15450.0, 15531.0, 17500.0, 17197.0, 16025.0, 17461.0, 17791.0, 15463.0, 17977.0, 14863.0, 16903.0, 17502.0, 17901.0, 14789.0, 18209.0, 12985.0, 15557.0, 16433.0, 15692.0, 17052.0, 16368.0, 18014.0, 13732.0, 13091.0, 14661.0, 13170.0, 15654.0, 13146.0, 14788.0, 13603.0, 14382.0, 16720.0, 14904.0, 14494.0, 14902.0, 16936.0, 12938.0, 15168.0, 17538.0, 18082.0, 18117.0, 15458.0, 17566.0, 16207.0, 17793.0, 14953.0, 16504.0, 15009.0, 16423.0, 15419.0, 17510.0, 15758.0, 15524.0, 14725.0, 14666.0, 14714.0, 17153.0, 12950.0, 15720.0, 18181.0, 15556.0, 17357.0, 12890.0, 13449.0, 15269.0, 14385.0, 15900.0, 17680.0, 13926.0, 16204.0, 17896.0, 17835.0, 15432.0, 18006.0, 15657.0, 17237.0, 13160.0, 12847.0, 17397.0, 17985.0, 14362.0, 13828.0, 15435.0, 14641.0, 15621.0, 18034.0, 17286.0, 17904.0, 17301.0, 15368.0, 14793.0, 17650.0, 14881.0, 16784.0, 14052.0, 18110.0, 17561.0, 15988.0, 17523.0, 14950.0, 16666.0, 14860.0, 17636.0, 13832.0, 13142.0, 16366.0, 14300.0, 15567.0, 15645.0, 16406.0, 15857.0, 12984.0, 17253.0, 13739.0, 18139.0, 15274.0, 17010.0, 15115.0, 17100.0, 15699.0, 13403.0, 16956.0, 17600.0, 15877.0, 14424.0, 13322.0, 17297.0, 13986.0, 12920.0, 18249.0, 15634.0, 16376.0, 16811.0, 14581.0, 14675.0, 17290.0, 16343.0, 13638.0, 16482.0, 17458.0, 14785.0, 17254.0, 17767.0, 15725.0, 17247.0, 18184.0, 15428.0, 17727.0, 14756.0, 16856.0, 14703.0, 17385.0, 15872.0, 14966.0, 17232.0, 17468.0, 13332.0, 14946.0, 13256.0, 13596.0, 16024.0, 14954.0, 17885.0, 14093.0, 14893.0, 15721.0, 17852.0, 13844.0, 15540.0, 17379.0, 16800.0, 17806.0, 17359.0, 13188.0, 14480.0, 13349.0, 15619.0, 15148.0, 14601.0, 15783.0, 17772.0, 14126.0, 16479.0, 13428.0, 15790.0, 13521.0, 14349.0, 18058.0, 12953.0, 12966.0, 15060.0, 17911.0, 14804.0, 15904.0, 16789.0, 17942.0, 13560.0, 15539.0, 13017.0, 18174.0, 13153.0, 15773.0, 17936.0, 16535.0, 16988.0, 15097.0, 18015.0, 16597.0, 13790.0, 14219.0, 17383.0, 15992.0, 15318.0, 17914.0, 16528.0, 16569.0, 14578.0, 16000.0, 15195.0, 14087.0, 14204.0, 15471.0, 13436.0, 15520.0, 13298.0, 14569.0], \"xaxis\": \"x\", \"y\": [301, 31, 95, 329, 25, 7, 15, 0, 2, 87, 373, 49, 38, 260, 2, 217, 7, 373, 1, 1, 0, 16, 7, 30, 29, 108, 88, 373, 3, 33, 3, 373, 329, 11, 3, 21, 21, 373, 1, 172, 23, 242, 56, 39, 373, 0, 53, 185, 70, 101, 45, 1, 372, 70, 29, 184, 372, 35, 7, 371, 6, 372, 98, 1, 3, 372, 79, 266, 3, 1, 21, 79, 85, 372, 311, 3, 2, 60, 0, 29, 143, 78, 11, 372, 27, 372, 0, 127, 217, 9, 372, 8, 0, 11, 280, 7, 372, 372, 39, 372, 8, 372, 21, 2, 1, 372, 10, 11, 7, 189, 8, 10, 11, 23, 372, 211, 28, 9, 290, 99, 3, 174, 4, 372, 372, 25, 240, 148, 8, 18, 21, 8, 72, 10, 21, 23, 31, 28, 24, 371, 81, 310, 371, 18, 10, 364, 371, 51, 22, 16, 0, 211, 21, 336, 6, 3, 58, 3, 177, 57, 26, 15, 28, 2, 6, 57, 3, 69, 3, 66, 157, 371, 53, 371, 126, 175, 0, 184, 371, 0, 169, 154, 359, 371, 222, 218, 371, 39, 1, 6, 17, 38, 42, 80, 20, 179, 15, 38, 371, 2, 371, 44, 2, 365, 186, 4, 4, 371, 1, 371, 24, 3, 3, 0, 90, 63, 3, 0, 370, 152, 9, 4, 71, 7, 52, 23, 2, 6, 64, 22, 301, 63, 0, 53, 0, 19, 40, 2, 5, 5, 11, 6, 42, 1, 0, 9, 47, 8, 10, 4, 13, 0, 369, 313, 40, 3, 10, 15, 311, 39, 145, 12, 365, 12, 29, 13, 26, 184, 6, 368, 368, 305, 5, 1, 215, 58, 18, 264, 2, 4, 18, 252, 4, 16, 11, 54, 156, 14, 2, 16, 1, 15, 266, 37, 33, 14, 15, 11, 1, 45, 0, 1, 365, 2, 2, 28, 22, 73, 20, 368, 0, 357, 18, 9, 19, 282, 40, 1, 60, 185, 126, 14, 64, 50, 2, 25, 3, 368, 22, 6, 1, 368, 32, 7, 155, 147, 10, 26, 16, 198, 10, 18, 108, 2, 9, 367, 11, 30, 309, 2, 10, 27, 2, 70, 140, 59, 367, 45, 7, 16, 3, 12, 11, 7, 99, 9, 4, 106, 143, 311, 8, 307, 7, 2, 44, 173, 335, 2, 1, 65, 25, 38, 8, 1, 296, 4, 254, 367, 0, 2, 16, 0, 2, 16, 36, 115, 16, 9, 0, 1, 3, 58, 366, 20, 3, 15, 366, 1, 8, 10, 9, 213, 56, 72, 2, 366, 366, 21, 0, 17, 1, 366, 28, 0, 2, 8, 4, 0, 1, 0, 31, 7, 15, 329, 2, 29, 58, 3, 1, 3, 55, 1, 45, 14, 72, 4, 235, 0, 18, 366, 22, 24, 2, 95, 17, 156, 0, 15, 70, 59, 255, 39, 21, 0, 162, 24, 1, 51, 7, 24, 3, 365, 357, 1, 150, 32, 365, 15, 120, 8, 256, 71, 365, 8, 10, 0, 8, 204, 91, 107, 142, 36, 365, 8, 26, 87, 17, 365, 15, 8, 7, 10, 8, 8, 7, 212, 142, 130, 24, 1, 4, 257, 8, 353, 2, 11, 15, 365, 0, 204, 7, 95, 253, 364, 32, 185, 364, 65, 3, 0, 10, 29, 6, 38, 42, 364, 364, 24, 36, 3, 16, 15, 218, 20, 326, 93, 8, 359, 119, 0, 354, 364, 8, 28, 71, 2, 364, 364, 16, 38, 16, 49, 172, 34, 59, 100, 224, 28, 7, 8, 0, 3, 6, 0, 22, 37, 35, 4, 8, 364, 106, 26, 10, 364, 309, 364, 21, 175, 253, 3, 9, 67, 1, 113, 5, 28, 2, 51, 311, 363, 11, 75, 30, 23, 363, 4, 9, 17, 31, 8, 362, 362, 11, 19, 151, 357, 12, 12, 40, 36, 142, 44, 245, 122, 2, 25, 10, 6, 36, 361, 361, 78, 361, 361, 18, 8, 3, 5, 16, 153, 9, 2, 361, 119, 10, 29, 9, 42, 3, 8, 115, 236, 23, 16, 11, 21, 95, 25, 360, 51, 3, 177, 360, 7, 322, 189, 16, 165, 1, 9, 240, 8, 31, 137, 360, 322, 238, 360, 1, 22, 34, 8, 31, 360, 191, 10, 26, 2, 100, 360, 273, 23, 2, 25, 3, 360, 2, 2, 31, 0, 7, 21, 66, 173, 106, 11, 10, 321, 32, 25, 4, 24, 3, 8, 5, 35, 10, 88, 0, 191, 1, 263, 1, 155, 359, 6, 18, 29, 70, 0, 8, 85, 239, 59, 126, 2, 21, 358, 358, 35, 104, 89, 59, 282, 70, 34, 16, 165, 4, 358, 9, 8, 358, 30, 10, 190, 50, 105, 358, 17, 63, 0, 0, 237, 29, 15, 269, 52, 16, 16, 0, 51, 91, 8, 155, 4, 12, 28, 105, 3, 9, 0, 168, 7, 8, 14, 3, 3, 63, 49, 357, 20, 1, 252, 3, 217, 357, 353, 74, 3, 2, 1, 24, 102, 3, 16, 21, 169, 8, 246, 357, 172, 80, 306, 197, 11, 6, 21, 58, 2, 183, 0, 2, 356, 18, 50, 356, 356, 122, 8, 14, 58, 103, 302, 46, 6, 354, 354, 49, 35, 74, 15, 3, 2, 168, 113, 20, 3, 353, 18, 7, 353, 15, 0, 10, 3, 30, 352, 57, 125, 3, 6, 24, 29, 312, 235, 351, 49, 351, 45, 350, 21, 63, 339, 3, 63, 72, 0, 68, 126, 7, 41, 18, 156, 0, 63, 142, 22, 3, 316, 17, 337, 0, 32, 108, 8, 125, 337, 38, 172, 22, 8, 32, 256, 35, 33, 190, 3, 70, 164, 46, 121, 17, 11, 336, 193, 196, 95, 194, 164, 53, 336, 239, 184, 3, 8, 59, 73, 335, 234, 107, 121, 7, 21, 63, 9, 5, 40, 5, 334, 58, 19, 78, 0, 36, 17, 9, 9, 18, 75, 333, 25, 2, 58, 20, 3, 333, 10, 333, 217, 300, 51, 43, 49, 25, 58, 60, 206, 112, 332, 332, 332, 40, 39, 195, 12, 0, 241, 311, 63, 234, 10, 103, 331, 9, 17, 28, 40, 331, 17, 6, 2, 89, 18, 24, 330, 40, 60, 324, 38, 114, 0, 322, 4, 8, 43, 191, 31, 273, 330, 330, 71, 59, 330, 23, 17, 8, 72, 329, 74, 318, 50, 329, 4, 8, 0, 54, 12, 87, 50, 25, 12, 13, 25, 32, 42, 58, 40, 87, 56, 33, 32, 326, 43, 11, 2, 3, 73, 325, 2, 168, 17, 325, 325, 7, 0, 325, 40, 234, 325, 325, 138, 287, 325, 324, 0, 6, 187, 324, 56, 57, 8, 70, 1, 2, 16, 25, 111, 41, 280, 323, 323, 0, 56, 322, 231, 22, 322, 7, 205, 322, 30, 227, 9, 317, 136, 6, 211, 0, 320, 138, 12, 180, 22, 196, 320, 1, 109, 16, 0, 319, 9, 319, 17, 301, 63, 319, 2, 9, 319, 62, 15, 21, 1, 51, 58, 318, 112, 318, 318, 318, 312, 71, 94, 50, 10, 23, 2, 22, 318, 78, 69, 57, 8, 317, 65, 317, 44, 35, 211, 30, 32, 317, 317, 3, 63, 150, 73, 16, 36, 106, 211, 317, 242, 43, 17, 218, 0, 78, 84, 315, 35, 151, 36, 21, 44, 48, 66, 8, 77, 0, 3, 67, 10, 30, 38, 8, 42, 29, 315, 76, 21, 28, 55, 274, 92, 65, 107, 42, 113, 129, 1, 8, 84, 25, 266, 3, 13, 14, 298, 68, 19, 312, 312, 312, 15, 19, 312, 24, 39, 12, 17, 58, 7, 50, 301, 12, 311, 106, 216, 115, 311, 24, 22, 2, 32, 311, 311, 58, 22, 86, 28, 311, 121, 112, 245, 25, 51, 199, 310, 24, 44, 70, 30, 266, 310, 16, 60, 310, 252, 310, 94, 310, 109, 8, 36, 122, 246, 21, 32, 300, 15, 8, 80, 58, 176, 52, 30, 10, 150, 301, 8, 119, 238, 1, 7, 309, 26, 309, 43, 308, 9, 85, 92, 300, 261, 58, 300, 22, 8, 10, 126, 308, 308, 10, 49, 6, 69, 218, 307, 307, 58, 56, 4, 34, 306, 158, 305, 305, 24, 15, 305, 14, 22, 81, 153, 28, 96, 33, 150, 27, 276, 71, 304, 304, 3, 122, 149, 273, 303, 303, 108, 303, 10, 29, 302, 302, 48, 6, 298, 35, 246, 92, 91, 210, 301, 63, 0, 56, 29, 127, 2, 97, 204, 28, 3, 30, 300, 222, 300, 300, 53, 17, 15, 129, 28, 95, 7, 190, 40, 298, 65, 50, 20, 298, 190, 31, 48, 8, 22, 49, 3, 297, 84, 52, 14, 297, 28, 30, 120, 212, 119, 291, 19, 293, 7, 78, 296, 296, 25, 296, 28, 71, 133, 74, 296, 58, 295, 15, 43, 38, 15, 245, 14, 44, 202, 157, 9, 29, 294, 43, 52, 294, 107, 289, 65, 8, 71, 104, 36, 0, 294, 116, 175, 293, 14, 14, 185, 33, 9, 173, 103, 161, 94, 291, 14, 81, 49, 48, 74, 48, 37, 37, 254, 164, 8, 290, 66, 35, 1, 121, 79, 72, 35, 290, 289, 289, 289, 266, 14, 119, 73, 39, 94, 22, 14, 134, 30, 289, 289, 87, 165, 49, 10, 57, 51, 8, 44, 8, 13, 288, 3, 255, 288, 288, 191, 42, 15, 100, 19, 38, 1, 178, 29, 76, 49, 287, 287, 287, 287, 196, 287, 287, 37, 95, 276, 1, 15, 3, 8, 2, 11, 77, 36, 287, 59, 164, 65, 25, 286, 43, 285, 268, 276, 48, 0, 8, 14, 4, 19, 36, 11, 112, 284, 3, 200, 150, 25, 14, 67, 8, 62, 31, 283, 283, 38, 262, 0, 44, 60, 283, 50, 203, 190, 63, 283, 8, 8, 283, 66, 23, 214, 283, 18, 280, 168, 6, 281, 52, 64, 282, 2, 282, 119, 77, 17, 198, 2, 73, 166, 178, 281, 3, 89, 281, 281, 234, 18, 3, 238, 2, 149, 281, 84, 1, 4, 205, 281, 281, 218, 280, 29, 24, 178, 15, 2, 85, 280, 51, 280, 18, 27, 190, 279, 38, 21, 17, 279, 80, 279, 91, 20, 25, 25, 46, 4, 32, 277, 277, 85, 59, 277, 67, 51, 44, 30, 277, 197, 276, 79, 276, 199, 49, 7, 276, 3, 276, 80, 45, 48, 226, 276, 44, 276, 106, 79, 30, 0, 7, 60, 8, 275, 1, 2, 16, 23, 2, 9, 109, 156, 93, 22, 0, 275, 12, 275, 126, 275, 56, 1, 15, 17, 15, 274, 217, 274, 86, 77, 273, 28, 270, 273, 270, 81, 273, 73, 40, 98, 87, 52, 273, 50, 42, 53, 272, 162, 32, 272, 253, 156, 35, 47, 68, 4, 270, 190, 18, 270, 142, 24, 21, 8, 258, 32, 11, 22, 17, 269, 67, 269, 21, 269, 17, 170, 268, 16, 268, 28, 268, 212, 3, 268, 35, 64, 8, 268, 30, 153, 267, 74, 213, 71, 0, 77, 78, 22, 267, 267, 267, 16, 182, 17, 78, 14, 49, 266, 266, 266, 1, 99, 0, 203, 15, 11, 266, 266, 3, 266, 1, 21, 257, 64, 266, 160, 0, 266, 37, 20, 63, 265, 265, 45, 15, 17, 265, 31, 30, 265, 15, 264, 3, 106, 179, 264, 45, 31, 263, 45, 263, 3, 35, 51, 65, 10, 263, 263, 29, 91, 253, 263, 263, 39, 89, 263, 175, 263, 136, 86, 262, 262, 194, 262, 182, 8, 17, 41, 262, 261, 261, 22, 9, 190, 65, 10, 261, 261, 38, 261, 83, 261, 25, 261, 144, 8, 261, 147, 261, 105, 133, 260, 37, 15, 91, 165, 4, 3, 37, 1, 36, 57, 260, 260, 3, 260, 150, 4, 259, 9, 259, 0, 259, 259, 259, 63, 30, 35, 15, 144, 259, 85, 232, 2, 216, 99, 1, 151, 17, 256, 79, 256, 23, 158, 256, 256, 31, 53, 116, 177, 45, 64, 22, 154, 137, 30, 60, 184, 37, 133, 254, 114, 19, 31, 254, 213, 15, 35, 116, 72, 84, 254, 19, 9, 253, 36, 122, 79, 95, 248, 73, 88, 253, 98, 253, 144, 27, 246, 253, 16, 253, 28, 73, 12, 39, 226, 72, 49, 252, 49, 252, 158, 252, 252, 14, 99, 182, 22, 38, 252, 252, 30, 57, 63, 251, 251, 201, 250, 18, 6, 42, 249, 60, 249, 56, 225, 31, 189, 28, 248, 248, 60, 247, 1, 52, 248, 248, 3, 248, 81, 58, 50, 64, 134, 3, 247, 14, 184, 71, 244, 72, 247, 147, 112, 246, 78, 246, 91, 129, 2, 63, 246, 2, 246, 218, 21, 10, 123, 26, 0, 88, 50, 246, 106, 23, 173, 245, 44, 16, 2, 238, 14, 245, 110, 18, 30, 245, 43, 245, 240, 245, 195, 21, 31, 146, 81, 244, 27, 107, 95, 243, 242, 12, 242, 24, 167, 196, 232, 23, 44, 1, 242, 14, 18, 224, 234, 239, 50, 25, 9, 9, 90, 234, 238, 113, 22, 24, 8, 13, 30, 94, 241, 63, 240, 238, 35, 169, 240, 240, 29, 240, 44, 238, 14, 91, 39, 7, 72, 59, 239, 93, 7, 234, 93, 17, 31, 218, 51, 207, 81, 168, 0, 33, 52, 3, 65, 35, 238, 17, 86, 84, 238, 238, 232, 102, 210, 238, 20, 114, 44, 31, 30, 237, 236, 110, 77, 122, 236, 8, 24, 8, 235, 235, 235, 24, 235, 94, 235, 150, 202, 234, 18, 31, 99, 132, 188, 29, 9, 15, 197, 24, 98, 233, 14, 16, 233, 233, 74, 11, 233, 53, 153, 233, 6, 8, 2, 23, 232, 232, 7, 232, 185, 177, 99, 4, 16, 10, 1, 73, 231, 169, 199, 156, 28, 231, 44, 231, 187, 227, 227, 12, 15, 226, 1, 184, 219, 1, 226, 143, 226, 226, 51, 224, 44, 49, 115, 31, 29, 225, 225, 106, 225, 33, 218, 224, 224, 224, 81, 39, 3, 129, 220, 212, 220, 1, 17, 24, 189, 140, 164, 67, 24, 40, 198, 59, 218, 218, 10, 44, 22, 18, 218, 203, 218, 120, 218, 17, 217, 53, 217, 119, 217, 217, 1, 30, 14, 217, 190, 26, 44, 9, 217, 217, 65, 217, 8, 217, 46, 71, 71, 183, 168, 216, 32, 216, 9, 11, 56, 150, 215, 14, 215, 139, 47, 32, 15, 24, 18, 214, 105, 214, 7, 213, 126, 213, 213, 63, 69, 32, 71, 40, 213, 0, 111, 211, 212, 14, 212, 3, 30, 86, 212, 58, 0, 197, 177, 46, 1, 211, 210, 18, 4, 211, 18, 211, 70, 56, 205, 211, 22, 108, 210, 63, 28, 21, 8, 10, 50, 66, 205, 44, 210, 50, 3, 20, 209, 208, 54, 2, 207, 5, 207, 11, 4, 83, 77, 206, 206, 58, 17, 84, 206, 18, 65, 73, 6, 160, 0, 205, 5, 10, 205, 197, 11, 97, 94, 2, 4, 84, 17, 15, 169, 44, 204, 23, 204, 78, 26, 7, 12, 20, 43, 9, 203, 17, 38, 132, 203, 203, 22, 168, 202, 103, 202, 42, 31, 43, 73, 7, 70, 201, 10, 201, 89, 187, 29, 24, 200, 200, 200, 200, 188, 11, 200, 56, 7, 114, 199, 56, 107, 198, 23, 198, 51, 154, 0, 21, 7, 184, 198, 23, 197, 168, 197, 73, 196, 186, 80, 81, 113, 17, 196, 196, 14, 196, 157, 148, 195, 59, 179, 193, 193, 193, 25, 191, 191, 191, 63, 17, 70, 22, 38, 10, 49, 190, 173, 28, 28, 189, 164, 13, 189, 120, 56, 87, 189, 124, 188, 188, 188, 30, 4, 22, 147, 4, 1, 186, 186, 9, 93, 157, 186, 9, 22, 113, 185, 116, 185, 38, 154, 30, 2, 59, 28, 184, 184, 184, 184, 15, 43, 184, 182, 75, 76, 0, 28, 99, 16, 0, 183, 1, 9, 49, 35, 78, 182, 17, 64, 23, 182, 154, 21, 182, 21, 182, 25, 8, 181, 180, 18, 138, 39, 107, 31, 38, 10, 0, 49, 59, 170, 74, 84, 30, 71, 14, 4, 178, 178, 178, 178, 2, 67, 30, 9, 45, 17, 177, 172, 176, 176, 127, 11, 176, 176, 0, 171, 176, 35, 176, 20, 119, 157, 22, 7, 9, 175, 42, 28, 22, 173, 173, 173, 173, 13, 156, 172, 20, 10, 171, 11, 172, 172, 172, 12, 58, 172, 39, 17, 171, 171, 171, 21, 37, 171, 50, 171, 131, 77, 7, 170, 170, 62, 51, 170, 134, 6, 169, 169, 169, 169, 7, 169, 72, 169, 15, 164, 16, 168, 18, 13, 42, 165, 7, 11, 7, 153, 164, 20, 164, 27, 164, 163, 15, 4, 3, 73, 37, 38, 162, 162, 162, 41, 161, 23, 150, 160, 161, 161, 140, 135, 70, 160, 21, 123, 159, 138, 158, 158, 158, 157, 71, 157, 153, 44, 21, 156, 14, 156, 156, 2, 156, 121, 133, 155, 155, 155, 3, 55, 52, 154, 154, 17, 154, 6, 77, 154, 34, 11, 148, 16, 115, 153, 128, 152, 8, 125, 151, 43, 24, 151, 59, 6, 14, 7, 0, 3, 22, 149, 149, 50, 149, 148, 140, 148, 25, 32, 148, 42, 108, 59, 63, 24, 3, 0, 22, 1, 146, 146, 146, 2, 145, 144, 144, 6, 144, 144, 19, 143, 143, 16, 62, 143, 18, 20, 11, 10, 142, 57, 3, 4, 142, 142, 95, 4, 19, 141, 4, 141, 116, 137, 32, 141, 140, 30, 140, 98, 112, 3, 139, 83, 22, 138, 137, 57, 34, 116, 46, 134, 137, 137, 137, 23, 136, 11, 135, 136, 32, 57, 25, 135, 135, 70, 123, 134, 17, 133, 118, 35, 2, 133, 133, 133, 133, 133, 129, 133, 15, 18, 133, 35, 10, 132, 29, 128, 10, 131, 120, 130, 4, 130, 71, 128, 28, 34, 2, 77, 63, 129, 129, 115, 73, 87, 128, 51, 128, 39, 128, 72, 41, 9, 127, 127, 127, 16, 6, 126, 126, 84, 126, 126, 107, 126, 5, 7, 18, 124, 100, 121, 16, 91, 62, 123, 72, 22, 121, 121, 32, 116, 19, 50, 20, 27, 119, 28, 119, 42, 119, 118, 118, 116, 107, 4, 116, 116, 116, 39, 115, 115, 59, 63, 92, 8, 18, 30, 98, 43, 113, 51, 36, 113, 6, 112, 8, 112, 112, 99, 112, 92, 28, 22, 111, 111, 17, 1, 59, 106, 109, 45, 2, 34, 108, 32, 17, 45, 107, 3, 3, 90, 106, 106, 23, 106, 106, 106, 106, 106, 31, 105, 105, 105, 105, 3, 8, 0, 105, 2, 104, 7, 103, 102, 3, 3, 30, 100, 86, 38, 3, 24, 22, 63, 9, 98, 98, 84, 98, 98, 31, 54, 15, 97, 73, 96, 63, 5, 96, 95, 2, 73, 42, 95, 95, 94, 2, 31, 94, 94, 93, 93, 3, 28, 10, 92, 92, 92, 92, 45, 91, 18, 44, 74, 9, 3, 90, 31, 89, 21, 30, 45, 89, 89, 88, 6, 88, 9, 9, 24, 88, 18, 88, 8, 80, 66, 80, 87, 87, 87, 4, 87, 4, 16, 18, 87, 45, 87, 32, 77, 70, 86, 86, 86, 86, 38, 41, 86, 0, 11, 3, 20, 30, 85, 30, 34, 18, 71, 85, 56, 63, 85, 85, 50, 52, 63, 31, 84, 1, 84, 11, 84, 15, 84, 77, 63, 84, 0, 20, 83, 2, 83, 83, 83, 24, 82, 17, 40, 63, 75, 5, 81, 27, 81, 81, 80, 7, 13, 80, 59, 43, 80, 80, 80, 80, 80, 70, 79, 23, 79, 49, 78, 15, 78, 78, 78, 54, 78, 0, 9, 3, 74, 9, 78, 78, 50, 11, 0, 16, 77, 23, 15, 11, 77, 10, 21, 5, 63, 77, 49, 77, 77, 11, 73, 31, 77, 76, 76, 7, 76, 76, 49, 64, 76, 76, 76, 3, 7, 69, 75, 4, 75, 4, 0, 26, 74, 74, 39, 74, 74, 74, 74, 74, 10, 73, 74, 4, 74, 35, 73, 73, 73, 27, 73, 73, 0, 73, 22, 73, 1, 73, 73, 72, 72, 2, 62, 34, 7, 22, 15, 71, 71, 1, 21, 71, 71, 63, 71, 71, 39, 71, 71, 20, 0, 9, 70, 70, 24, 70, 15, 70, 32, 13, 16, 66, 70, 65, 8, 49, 28, 0, 70, 70, 21, 69, 69, 69, 69, 68, 68, 5, 25, 18, 8, 50, 24, 63, 67, 22, 7, 36, 53, 20, 66, 66, 7, 66, 66, 7, 66, 66, 65, 65, 65, 65, 65, 65, 3, 65, 24, 64, 16, 64, 64, 64, 64, 64, 64, 64, 64, 64, 64, 64, 9, 64, 64, 28, 63, 50, 63, 63, 63, 2, 63, 63, 17, 63, 63, 63, 34, 63, 63, 49, 58, 1, 9, 63, 6, 63, 11, 31, 7, 63, 57, 11, 62, 3, 61, 61, 61, 35, 25, 60, 60, 43, 60, 60, 60, 8, 60, 60, 60, 60, 60, 60, 13, 18, 60, 60, 0, 60, 31, 46, 2, 59, 59, 7, 59, 59, 35, 42, 5, 3, 2, 59, 59, 13, 58, 56, 58, 58, 51, 58, 57, 8, 57, 57, 57, 1, 21, 56, 8, 56, 56, 56, 8, 56, 56, 35, 56, 39, 56, 25, 55, 55, 2, 33, 54, 54, 54, 3, 53, 9, 53, 53, 53, 53, 53, 53, 53, 53, 53, 52, 52, 31, 52, 52, 52, 52, 52, 52, 28, 34, 52, 52, 52, 52, 52, 52, 51, 9, 40, 51, 51, 51, 3, 51, 23, 51, 51, 51, 51, 1, 50, 50, 50, 50, 7, 50, 2, 50, 50, 50, 50, 50, 49, 49, 30, 49, 49, 49, 49, 49, 44, 2, 28, 49, 49, 49, 3, 17, 48, 48, 48, 48, 47, 46, 0, 46, 3, 32, 11, 46, 46, 3, 46, 46, 46, 44, 43, 46, 45, 45, 45, 24, 42, 45, 45, 45, 34, 45, 19, 44, 44, 44, 22, 14, 44, 44, 15, 10, 44, 4, 43, 43, 43, 5, 43, 8, 43, 7, 43, 2, 17, 20, 43, 43, 43, 42, 34, 42, 42, 4, 42, 23, 42, 35, 38, 16, 42, 42, 3, 21, 41, 40, 2, 40, 40, 39, 16, 1, 11, 39, 39, 19, 5, 39, 39, 8, 39, 39, 39, 39, 34, 38, 16, 38, 38, 2, 38, 7, 38, 6, 37, 0, 2, 17, 37, 28, 2, 30, 3, 37, 37, 30, 36, 36, 0, 36, 36, 11, 36, 17, 36, 36, 36, 10, 35, 0, 35, 35, 30, 3, 10, 6, 35, 22, 35, 35, 34, 34, 29, 34, 34, 34, 34, 26, 33, 8, 19, 28, 33, 33, 0, 32, 32, 32, 32, 8, 1, 19, 32, 32, 32, 32, 32, 32, 32, 18, 20, 21, 23, 31, 31, 31, 3, 31, 31, 31, 23, 30, 17, 30, 30, 30, 7, 30, 30, 9, 29, 29, 29, 29, 29, 29, 29, 5, 29, 29, 17, 29, 7, 16, 29, 29, 22, 29, 28, 28, 28, 28, 8, 28, 28, 28, 0, 28, 27, 27, 27, 1, 27, 27, 20, 26, 26, 8, 25, 6, 25, 25, 25, 1, 25, 20, 25, 25, 25, 25, 25, 25, 24, 7, 24, 24, 24, 24, 11, 24, 24, 24, 24, 24, 24, 23, 23, 23, 1, 23, 23, 23, 23, 23, 23, 23, 8, 23, 23, 22, 22, 22, 2, 22, 22, 22, 10, 21, 21, 21, 21, 21, 21, 21, 21, 3, 21, 21, 20, 20, 20, 3, 20, 19, 19, 19, 18, 18, 18, 10, 8, 18, 8, 8, 17, 18, 18, 18, 18, 18, 18, 18, 18, 17, 17, 16, 3, 16, 17, 17, 17, 17, 8, 17, 1, 17, 16, 16, 16, 16, 16, 16, 8, 4, 16, 15, 3, 15, 15, 15, 14, 9, 4, 14, 14, 14, 14, 14, 8, 14, 14, 14, 14, 14, 14, 2, 9, 13, 13, 13, 5, 11, 11, 11, 11, 9, 11, 11, 10, 10, 10, 10, 10, 10, 10, 10, 10, 10, 10, 10, 10, 10, 7, 9, 9, 9, 0, 9, 9, 9, 9, 7, 8, 8, 7, 7, 7, 6, 6, 6, 6, 5, 5, 4, 4, 4, 3, 3, 3, 3, 3, 3, 3, 3, 3, 3, 2, 2, 2, 2, 2, 1, 1, 1, 1, 0, 0], \"yaxis\": \"y\"}],\n",
              "                        {\"legend\": {\"tracegroupgap\": 0}, \"margin\": {\"t\": 60}, \"template\": {\"data\": {\"bar\": [{\"error_x\": {\"color\": \"rgb(36,36,36)\"}, \"error_y\": {\"color\": \"rgb(36,36,36)\"}, \"marker\": {\"line\": {\"color\": \"white\", \"width\": 0.5}}, \"type\": \"bar\"}], \"barpolar\": [{\"marker\": {\"line\": {\"color\": \"white\", \"width\": 0.5}}, \"type\": \"barpolar\"}], \"carpet\": [{\"aaxis\": {\"endlinecolor\": \"rgb(36,36,36)\", \"gridcolor\": \"white\", \"linecolor\": \"white\", \"minorgridcolor\": \"white\", \"startlinecolor\": \"rgb(36,36,36)\"}, \"baxis\": {\"endlinecolor\": \"rgb(36,36,36)\", \"gridcolor\": \"white\", \"linecolor\": \"white\", \"minorgridcolor\": \"white\", \"startlinecolor\": \"rgb(36,36,36)\"}, \"type\": \"carpet\"}], \"choropleth\": [{\"colorbar\": {\"outlinewidth\": 10, \"tickcolor\": \"rgb(36,36,36)\", \"ticklen\": 8, \"ticks\": \"outside\", \"tickwidth\": 2}, \"type\": \"choropleth\"}], \"contour\": [{\"colorbar\": {\"outlinewidth\": 10, \"tickcolor\": \"rgb(36,36,36)\", \"ticklen\": 8, \"ticks\": \"outside\", \"tickwidth\": 2}, \"colorscale\": [[0.0, \"#440154\"], [0.1111111111111111, \"#482878\"], [0.2222222222222222, \"#3e4989\"], [0.3333333333333333, \"#31688e\"], [0.4444444444444444, \"#26828e\"], [0.5555555555555556, \"#1f9e89\"], [0.6666666666666666, \"#35b779\"], [0.7777777777777778, \"#6ece58\"], [0.8888888888888888, \"#b5de2b\"], [1.0, \"#fde725\"]], \"type\": \"contour\"}], \"contourcarpet\": [{\"colorbar\": {\"outlinewidth\": 10, \"tickcolor\": \"rgb(36,36,36)\", \"ticklen\": 8, \"ticks\": \"outside\", \"tickwidth\": 2}, \"type\": \"contourcarpet\"}], \"heatmap\": [{\"colorbar\": {\"outlinewidth\": 10, \"tickcolor\": \"rgb(36,36,36)\", \"ticklen\": 8, \"ticks\": \"outside\", \"tickwidth\": 2}, \"colorscale\": [[0.0, \"#440154\"], [0.1111111111111111, \"#482878\"], [0.2222222222222222, \"#3e4989\"], [0.3333333333333333, \"#31688e\"], [0.4444444444444444, \"#26828e\"], [0.5555555555555556, \"#1f9e89\"], [0.6666666666666666, \"#35b779\"], [0.7777777777777778, \"#6ece58\"], [0.8888888888888888, \"#b5de2b\"], [1.0, \"#fde725\"]], \"type\": \"heatmap\"}], \"heatmapgl\": [{\"colorbar\": {\"outlinewidth\": 10, \"tickcolor\": \"rgb(36,36,36)\", \"ticklen\": 8, \"ticks\": \"outside\", \"tickwidth\": 2}, \"colorscale\": [[0.0, \"#440154\"], [0.1111111111111111, \"#482878\"], [0.2222222222222222, \"#3e4989\"], [0.3333333333333333, \"#31688e\"], [0.4444444444444444, \"#26828e\"], [0.5555555555555556, \"#1f9e89\"], [0.6666666666666666, \"#35b779\"], [0.7777777777777778, \"#6ece58\"], [0.8888888888888888, \"#b5de2b\"], [1.0, \"#fde725\"]], \"type\": \"heatmapgl\"}], \"histogram\": [{\"marker\": {\"line\": {\"color\": \"white\", \"width\": 0.6}}, \"type\": \"histogram\"}], \"histogram2d\": [{\"colorbar\": {\"outlinewidth\": 10, \"tickcolor\": \"rgb(36,36,36)\", \"ticklen\": 8, \"ticks\": \"outside\", \"tickwidth\": 2}, \"colorscale\": [[0.0, \"#440154\"], [0.1111111111111111, \"#482878\"], [0.2222222222222222, \"#3e4989\"], [0.3333333333333333, \"#31688e\"], [0.4444444444444444, \"#26828e\"], [0.5555555555555556, \"#1f9e89\"], [0.6666666666666666, \"#35b779\"], [0.7777777777777778, \"#6ece58\"], [0.8888888888888888, \"#b5de2b\"], [1.0, \"#fde725\"]], \"type\": \"histogram2d\"}], \"histogram2dcontour\": [{\"colorbar\": {\"outlinewidth\": 10, \"tickcolor\": \"rgb(36,36,36)\", \"ticklen\": 8, \"ticks\": \"outside\", \"tickwidth\": 2}, \"colorscale\": [[0.0, \"#440154\"], [0.1111111111111111, \"#482878\"], [0.2222222222222222, \"#3e4989\"], [0.3333333333333333, \"#31688e\"], [0.4444444444444444, \"#26828e\"], [0.5555555555555556, \"#1f9e89\"], [0.6666666666666666, \"#35b779\"], [0.7777777777777778, \"#6ece58\"], [0.8888888888888888, \"#b5de2b\"], [1.0, \"#fde725\"]], \"type\": \"histogram2dcontour\"}], \"mesh3d\": [{\"colorbar\": {\"outlinewidth\": 10, \"tickcolor\": \"rgb(36,36,36)\", \"ticklen\": 8, \"ticks\": \"outside\", \"tickwidth\": 2}, \"type\": \"mesh3d\"}], \"parcoords\": [{\"line\": {\"colorbar\": {\"outlinewidth\": 10, \"tickcolor\": \"rgb(36,36,36)\", \"ticklen\": 8, \"ticks\": \"outside\", \"tickwidth\": 2}}, \"type\": \"parcoords\"}], \"pie\": [{\"automargin\": true, \"type\": \"pie\"}], \"scatter\": [{\"marker\": {\"colorbar\": {\"outlinewidth\": 10, \"tickcolor\": \"rgb(36,36,36)\", \"ticklen\": 8, \"ticks\": \"outside\", \"tickwidth\": 2}}, \"type\": \"scatter\"}], \"scatter3d\": [{\"line\": {\"colorbar\": {\"outlinewidth\": 10, \"tickcolor\": \"rgb(36,36,36)\", \"ticklen\": 8, \"ticks\": \"outside\", \"tickwidth\": 2}}, \"marker\": {\"colorbar\": {\"outlinewidth\": 10, \"tickcolor\": \"rgb(36,36,36)\", \"ticklen\": 8, \"ticks\": \"outside\", \"tickwidth\": 2}}, \"type\": \"scatter3d\"}], \"scattercarpet\": [{\"marker\": {\"colorbar\": {\"outlinewidth\": 10, \"tickcolor\": \"rgb(36,36,36)\", \"ticklen\": 8, \"ticks\": \"outside\", \"tickwidth\": 2}}, \"type\": \"scattercarpet\"}], \"scattergeo\": [{\"marker\": {\"colorbar\": {\"outlinewidth\": 10, \"tickcolor\": \"rgb(36,36,36)\", \"ticklen\": 8, \"ticks\": \"outside\", \"tickwidth\": 2}}, \"type\": \"scattergeo\"}], \"scattergl\": [{\"marker\": {\"colorbar\": {\"outlinewidth\": 10, \"tickcolor\": \"rgb(36,36,36)\", \"ticklen\": 8, \"ticks\": \"outside\", \"tickwidth\": 2}}, \"type\": \"scattergl\"}], \"scattermapbox\": [{\"marker\": {\"colorbar\": {\"outlinewidth\": 10, \"tickcolor\": \"rgb(36,36,36)\", \"ticklen\": 8, \"ticks\": \"outside\", \"tickwidth\": 2}}, \"type\": \"scattermapbox\"}], \"scatterpolar\": [{\"marker\": {\"colorbar\": {\"outlinewidth\": 10, \"tickcolor\": \"rgb(36,36,36)\", \"ticklen\": 8, \"ticks\": \"outside\", \"tickwidth\": 2}}, \"type\": \"scatterpolar\"}], \"scatterpolargl\": [{\"marker\": {\"colorbar\": {\"outlinewidth\": 10, \"tickcolor\": \"rgb(36,36,36)\", \"ticklen\": 8, \"ticks\": \"outside\", \"tickwidth\": 2}}, \"type\": \"scatterpolargl\"}], \"scatterternary\": [{\"marker\": {\"colorbar\": {\"outlinewidth\": 10, \"tickcolor\": \"rgb(36,36,36)\", \"ticklen\": 8, \"ticks\": \"outside\", \"tickwidth\": 2}}, \"type\": \"scatterternary\"}], \"surface\": [{\"colorbar\": {\"outlinewidth\": 10, \"tickcolor\": \"rgb(36,36,36)\", \"ticklen\": 8, \"ticks\": \"outside\", \"tickwidth\": 2}, \"colorscale\": [[0.0, \"#440154\"], [0.1111111111111111, \"#482878\"], [0.2222222222222222, \"#3e4989\"], [0.3333333333333333, \"#31688e\"], [0.4444444444444444, \"#26828e\"], [0.5555555555555556, \"#1f9e89\"], [0.6666666666666666, \"#35b779\"], [0.7777777777777778, \"#6ece58\"], [0.8888888888888888, \"#b5de2b\"], [1.0, \"#fde725\"]], \"type\": \"surface\"}], \"table\": [{\"cells\": {\"fill\": {\"color\": \"rgb(237,237,237)\"}, \"line\": {\"color\": \"white\"}}, \"header\": {\"fill\": {\"color\": \"rgb(217,217,217)\"}, \"line\": {\"color\": \"white\"}}, \"type\": \"table\"}]}, \"layout\": {\"annotationdefaults\": {\"arrowhead\": 0, \"arrowwidth\": 1}, \"coloraxis\": {\"colorbar\": {\"outlinewidth\": 10, \"tickcolor\": \"rgb(36,36,36)\", \"ticklen\": 8, \"ticks\": \"outside\", \"tickwidth\": 2}}, \"colorscale\": {\"diverging\": [[0.0, \"rgb(103,0,31)\"], [0.1, \"rgb(178,24,43)\"], [0.2, \"rgb(214,96,77)\"], [0.3, \"rgb(244,165,130)\"], [0.4, \"rgb(253,219,199)\"], [0.5, \"rgb(247,247,247)\"], [0.6, \"rgb(209,229,240)\"], [0.7, \"rgb(146,197,222)\"], [0.8, \"rgb(67,147,195)\"], [0.9, \"rgb(33,102,172)\"], [1.0, \"rgb(5,48,97)\"]], \"sequential\": [[0.0, \"#440154\"], [0.1111111111111111, \"#482878\"], [0.2222222222222222, \"#3e4989\"], [0.3333333333333333, \"#31688e\"], [0.4444444444444444, \"#26828e\"], [0.5555555555555556, \"#1f9e89\"], [0.6666666666666666, \"#35b779\"], [0.7777777777777778, \"#6ece58\"], [0.8888888888888888, \"#b5de2b\"], [1.0, \"#fde725\"]], \"sequentialminus\": [[0.0, \"#440154\"], [0.1111111111111111, \"#482878\"], [0.2222222222222222, \"#3e4989\"], [0.3333333333333333, \"#31688e\"], [0.4444444444444444, \"#26828e\"], [0.5555555555555556, \"#1f9e89\"], [0.6666666666666666, \"#35b779\"], [0.7777777777777778, \"#6ece58\"], [0.8888888888888888, \"#b5de2b\"], [1.0, \"#fde725\"]]}, \"colorway\": [\"#1F77B4\", \"#FF7F0E\", \"#2CA02C\", \"#D62728\", \"#9467BD\", \"#8C564B\", \"#E377C2\", \"#7F7F7F\", \"#BCBD22\", \"#17BECF\"], \"font\": {\"color\": \"rgb(36,36,36)\"}, \"geo\": {\"bgcolor\": \"white\", \"lakecolor\": \"white\", \"landcolor\": \"white\", \"showlakes\": true, \"showland\": true, \"subunitcolor\": \"white\"}, \"hoverlabel\": {\"align\": \"left\"}, \"hovermode\": \"closest\", \"mapbox\": {\"style\": \"light\"}, \"paper_bgcolor\": \"white\", \"plot_bgcolor\": \"white\", \"polar\": {\"angularaxis\": {\"gridcolor\": \"rgb(232,232,232)\", \"linecolor\": \"rgb(36,36,36)\", \"showgrid\": false, \"showline\": true, \"ticks\": \"outside\"}, \"bgcolor\": \"white\", \"radialaxis\": {\"gridcolor\": \"rgb(232,232,232)\", \"linecolor\": \"rgb(36,36,36)\", \"showgrid\": false, \"showline\": true, \"ticks\": \"outside\"}}, \"scene\": {\"xaxis\": {\"backgroundcolor\": \"white\", \"gridcolor\": \"rgb(232,232,232)\", \"gridwidth\": 2, \"linecolor\": \"rgb(36,36,36)\", \"showbackground\": true, \"showgrid\": false, \"showline\": true, \"ticks\": \"outside\", \"zeroline\": false, \"zerolinecolor\": \"rgb(36,36,36)\"}, \"yaxis\": {\"backgroundcolor\": \"white\", \"gridcolor\": \"rgb(232,232,232)\", \"gridwidth\": 2, \"linecolor\": \"rgb(36,36,36)\", \"showbackground\": true, \"showgrid\": false, \"showline\": true, \"ticks\": \"outside\", \"zeroline\": false, \"zerolinecolor\": \"rgb(36,36,36)\"}, \"zaxis\": {\"backgroundcolor\": \"white\", \"gridcolor\": \"rgb(232,232,232)\", \"gridwidth\": 2, \"linecolor\": \"rgb(36,36,36)\", \"showbackground\": true, \"showgrid\": false, \"showline\": true, \"ticks\": \"outside\", \"zeroline\": false, \"zerolinecolor\": \"rgb(36,36,36)\"}}, \"shapedefaults\": {\"fillcolor\": \"black\", \"line\": {\"width\": 0}, \"opacity\": 0.3}, \"ternary\": {\"aaxis\": {\"gridcolor\": \"rgb(232,232,232)\", \"linecolor\": \"rgb(36,36,36)\", \"showgrid\": false, \"showline\": true, \"ticks\": \"outside\"}, \"baxis\": {\"gridcolor\": \"rgb(232,232,232)\", \"linecolor\": \"rgb(36,36,36)\", \"showgrid\": false, \"showline\": true, \"ticks\": \"outside\"}, \"bgcolor\": \"white\", \"caxis\": {\"gridcolor\": \"rgb(232,232,232)\", \"linecolor\": \"rgb(36,36,36)\", \"showgrid\": false, \"showline\": true, \"ticks\": \"outside\"}}, \"title\": {\"x\": 0.05}, \"xaxis\": {\"automargin\": true, \"gridcolor\": \"rgb(232,232,232)\", \"linecolor\": \"rgb(36,36,36)\", \"showgrid\": false, \"showline\": true, \"ticks\": \"outside\", \"title\": {\"standoff\": 15}, \"zeroline\": false, \"zerolinecolor\": \"rgb(36,36,36)\"}, \"yaxis\": {\"automargin\": true, \"gridcolor\": \"rgb(232,232,232)\", \"linecolor\": \"rgb(36,36,36)\", \"showgrid\": false, \"showline\": true, \"ticks\": \"outside\", \"title\": {\"standoff\": 15}, \"zeroline\": false, \"zerolinecolor\": \"rgb(36,36,36)\"}}}, \"width\": 950, \"xaxis\": {\"anchor\": \"y\", \"domain\": [0.0, 1.0], \"title\": {\"text\": \"CustomerID\"}}, \"yaxis\": {\"anchor\": \"x\", \"domain\": [0.0, 1.0], \"title\": {\"text\": \"Retention\"}}},\n",
              "                        {\"responsive\": true}\n",
              "                    ).then(function(){\n",
              "                            \n",
              "var gd = document.getElementById('688d8cd3-3431-49cb-a5f5-263fab5ab8b6');\n",
              "var x = new MutationObserver(function (mutations, observer) {{\n",
              "        var display = window.getComputedStyle(gd).display;\n",
              "        if (!display || display === 'none') {{\n",
              "            console.log([gd, 'removed!']);\n",
              "            Plotly.purge(gd);\n",
              "            observer.disconnect();\n",
              "        }}\n",
              "}});\n",
              "\n",
              "// Listen for the removal of the full notebook cells\n",
              "var notebookContainer = gd.closest('#notebook-container');\n",
              "if (notebookContainer) {{\n",
              "    x.observe(notebookContainer, {childList: true});\n",
              "}}\n",
              "\n",
              "// Listen for the clearing of the current output cell\n",
              "var outputEl = gd.closest('.output');\n",
              "if (outputEl) {{\n",
              "    x.observe(outputEl, {childList: true});\n",
              "}}\n",
              "\n",
              "                        })\n",
              "                };\n",
              "                \n",
              "            </script>\n",
              "        </div>\n",
              "</body>\n",
              "</html>"
            ]
          },
          "metadata": {
            "tags": []
          }
        }
      ]
    },
    {
      "cell_type": "code",
      "metadata": {
        "id": "hgKY5zyU31t3",
        "outputId": "552a6962-5f3a-49b8-c10e-a30e94d75674",
        "colab": {
          "base_uri": "https://localhost:8080/",
          "height": 195
        }
      },
      "source": [
        "data_retention = data_user[['Retention']]\n",
        "data_retention.head()"
      ],
      "execution_count": 102,
      "outputs": [
        {
          "output_type": "execute_result",
          "data": {
            "text/html": [
              "<div>\n",
              "<style scoped>\n",
              "    .dataframe tbody tr th:only-of-type {\n",
              "        vertical-align: middle;\n",
              "    }\n",
              "\n",
              "    .dataframe tbody tr th {\n",
              "        vertical-align: top;\n",
              "    }\n",
              "\n",
              "    .dataframe thead th {\n",
              "        text-align: right;\n",
              "    }\n",
              "</style>\n",
              "<table border=\"1\" class=\"dataframe\">\n",
              "  <thead>\n",
              "    <tr style=\"text-align: right;\">\n",
              "      <th></th>\n",
              "      <th>Retention</th>\n",
              "    </tr>\n",
              "  </thead>\n",
              "  <tbody>\n",
              "    <tr>\n",
              "      <th>0</th>\n",
              "      <td>301</td>\n",
              "    </tr>\n",
              "    <tr>\n",
              "      <th>1</th>\n",
              "      <td>31</td>\n",
              "    </tr>\n",
              "    <tr>\n",
              "      <th>2</th>\n",
              "      <td>95</td>\n",
              "    </tr>\n",
              "    <tr>\n",
              "      <th>3</th>\n",
              "      <td>329</td>\n",
              "    </tr>\n",
              "    <tr>\n",
              "      <th>4</th>\n",
              "      <td>25</td>\n",
              "    </tr>\n",
              "  </tbody>\n",
              "</table>\n",
              "</div>"
            ],
            "text/plain": [
              "   Retention\n",
              "0        301\n",
              "1         31\n",
              "2         95\n",
              "3        329\n",
              "4         25"
            ]
          },
          "metadata": {
            "tags": []
          },
          "execution_count": 102
        }
      ]
    },
    {
      "cell_type": "code",
      "metadata": {
        "id": "gnBr6bnn4kj1",
        "outputId": "44af79a4-6ae0-4223-f05f-f2b71a556096",
        "colab": {
          "base_uri": "https://localhost:8080/",
          "height": 195
        }
      },
      "source": [
        "from sklearn.preprocessing import StandardScaler\n",
        "\n",
        "scaler = StandardScaler()\n",
        "data_user['RetentionScaled'] = scaler.fit_transform(data_retention)\n",
        "data_user.head()"
      ],
      "execution_count": 103,
      "outputs": [
        {
          "output_type": "execute_result",
          "data": {
            "text/html": [
              "<div>\n",
              "<style scoped>\n",
              "    .dataframe tbody tr th:only-of-type {\n",
              "        vertical-align: middle;\n",
              "    }\n",
              "\n",
              "    .dataframe tbody tr th {\n",
              "        vertical-align: top;\n",
              "    }\n",
              "\n",
              "    .dataframe thead th {\n",
              "        text-align: right;\n",
              "    }\n",
              "</style>\n",
              "<table border=\"1\" class=\"dataframe\">\n",
              "  <thead>\n",
              "    <tr style=\"text-align: right;\">\n",
              "      <th></th>\n",
              "      <th>CustomerID</th>\n",
              "      <th>Retention</th>\n",
              "      <th>RetentionScaled</th>\n",
              "    </tr>\n",
              "  </thead>\n",
              "  <tbody>\n",
              "    <tr>\n",
              "      <th>0</th>\n",
              "      <td>17850.0</td>\n",
              "      <td>301</td>\n",
              "      <td>2.097649</td>\n",
              "    </tr>\n",
              "    <tr>\n",
              "      <th>1</th>\n",
              "      <td>13047.0</td>\n",
              "      <td>31</td>\n",
              "      <td>-0.596486</td>\n",
              "    </tr>\n",
              "    <tr>\n",
              "      <th>2</th>\n",
              "      <td>13748.0</td>\n",
              "      <td>95</td>\n",
              "      <td>0.042124</td>\n",
              "    </tr>\n",
              "    <tr>\n",
              "      <th>3</th>\n",
              "      <td>15100.0</td>\n",
              "      <td>329</td>\n",
              "      <td>2.377041</td>\n",
              "    </tr>\n",
              "    <tr>\n",
              "      <th>4</th>\n",
              "      <td>15291.0</td>\n",
              "      <td>25</td>\n",
              "      <td>-0.656356</td>\n",
              "    </tr>\n",
              "  </tbody>\n",
              "</table>\n",
              "</div>"
            ],
            "text/plain": [
              "   CustomerID  Retention  RetentionScaled\n",
              "0     17850.0        301         2.097649\n",
              "1     13047.0         31        -0.596486\n",
              "2     13748.0         95         0.042124\n",
              "3     15100.0        329         2.377041\n",
              "4     15291.0         25        -0.656356"
            ]
          },
          "metadata": {
            "tags": []
          },
          "execution_count": 103
        }
      ]
    },
    {
      "cell_type": "code",
      "metadata": {
        "id": "x0VQwyUh4-zt",
        "outputId": "9c92099f-ccb5-47b3-a6e0-0c3fc0558593",
        "colab": {
          "base_uri": "https://localhost:8080/",
          "height": 542
        }
      },
      "source": [
        "px.scatter(data_user, x='CustomerID', y='RetentionScaled', template='simple_white', width=950,\n",
        "           color_discrete_sequence=['black'])"
      ],
      "execution_count": 104,
      "outputs": [
        {
          "output_type": "display_data",
          "data": {
            "text/html": [
              "<html>\n",
              "<head><meta charset=\"utf-8\" /></head>\n",
              "<body>\n",
              "    <div>\n",
              "            <script src=\"https://cdnjs.cloudflare.com/ajax/libs/mathjax/2.7.5/MathJax.js?config=TeX-AMS-MML_SVG\"></script><script type=\"text/javascript\">if (window.MathJax) {MathJax.Hub.Config({SVG: {font: \"STIX-Web\"}});}</script>\n",
              "                <script type=\"text/javascript\">window.PlotlyConfig = {MathJaxConfig: 'local'};</script>\n",
              "        <script src=\"https://cdn.plot.ly/plotly-latest.min.js\"></script>    \n",
              "            <div id=\"97f61b40-2895-4364-8374-2c5dfec35406\" class=\"plotly-graph-div\" style=\"height:525px; width:950px;\"></div>\n",
              "            <script type=\"text/javascript\">\n",
              "                \n",
              "                    window.PLOTLYENV=window.PLOTLYENV || {};\n",
              "                    \n",
              "                if (document.getElementById(\"97f61b40-2895-4364-8374-2c5dfec35406\")) {\n",
              "                    Plotly.newPlot(\n",
              "                        '97f61b40-2895-4364-8374-2c5dfec35406',\n",
              "                        [{\"hoverlabel\": {\"namelength\": 0}, \"hovertemplate\": \"CustomerID=%{x}<br>RetentionScaled=%{y}\", \"legendgroup\": \"\", \"marker\": {\"color\": \"black\", \"symbol\": \"circle\"}, \"mode\": \"markers\", \"name\": \"\", \"showlegend\": false, \"type\": \"scattergl\", \"x\": [17850.0, 13047.0, 13748.0, 15100.0, 15291.0, 14688.0, 17809.0, 15311.0, 14527.0, 16098.0, 18074.0, 17420.0, 16029.0, 16250.0, 17511.0, 17548.0, 13705.0, 13747.0, 13408.0, 13767.0, 17924.0, 13448.0, 15862.0, 15513.0, 16218.0, 14045.0, 14307.0, 17908.0, 17920.0, 12838.0, 13255.0, 16583.0, 18085.0, 13758.0, 13694.0, 15983.0, 14849.0, 17968.0, 16210.0, 17897.0, 17377.0, 16552.0, 17181.0, 17951.0, 14729.0, 12748.0, 15012.0, 12868.0, 17572.0, 14078.0, 14001.0, 15525.0, 14237.0, 17905.0, 15485.0, 16955.0, 15350.0, 15605.0, 18144.0, 15922.0, 14594.0, 15165.0, 16456.0, 17841.0, 17346.0, 17643.0, 17873.0, 13093.0, 12921.0, 13468.0, 17760.0, 16928.0, 16048.0, 16274.0, 14496.0, 14696.0, 16539.0, 17025.0, 13777.0, 17690.0, 12947.0, 17460.0, 18229.0, 14142.0, 17069.0, 13065.0, 14606.0, 16835.0, 15235.0, 13576.0, 18011.0, 13090.0, 15694.0, 14741.0, 13715.0, 14092.0, 17732.0, 12855.0, 15752.0, 17855.0, 14047.0, 17925.0, 13941.0, 17017.0, 14135.0, 13108.0, 15601.0, 13418.0, 14766.0, 15658.0, 14388.0, 14901.0, 18041.0, 15955.0, 15070.0, 16244.0, 15111.0, 14390.0, 16546.0, 15260.0, 13305.0, 14491.0, 14060.0, 15923.0, 16752.0, 17287.0, 15363.0, 12915.0, 15544.0, 15738.0, 16042.0, 17381.0, 15827.0, 14180.0, 13117.0, 16916.0, 17964.0, 14466.0, 17235.0, 16510.0, 17802.0, 15107.0, 17976.0, 14449.0, 15838.0, 16781.0, 17547.0, 13491.0, 16186.0, 17685.0, 17581.0, 15732.0, 13138.0, 15823.0, 17567.0, 15061.0, 16203.0, 15640.0, 15574.0, 16770.0, 17838.0, 17228.0, 14829.0, 17412.0, 14031.0, 14775.0, 12971.0, 15834.0, 17659.0, 15299.0, 15646.0, 13958.0, 14443.0, 16995.0, 13402.0, 18168.0, 17757.0, 14625.0, 13011.0, 13798.0, 15384.0, 14264.0, 13295.0, 16754.0, 16634.0, 18239.0, 14576.0, 13145.0, 14395.0, 14865.0, 15093.0, 16150.0, 17552.0, 14236.0, 17961.0, 14573.0, 17135.0, 17396.0, 14213.0, 12967.0, 14679.0, 15240.0, 18225.0, 13370.0, 16883.0, 12841.0, 16905.0, 17967.0, 16891.0, 14589.0, 14680.0, 17884.0, 14083.0, 13013.0, 14210.0, 16477.0, 16013.0, 17949.0, 16926.0, 17787.0, 14723.0, 17954.0, 17819.0, 15373.0, 16140.0, 17198.0, 17238.0, 15769.0, 14396.0, 14898.0, 16725.0, 16455.0, 13081.0, 15545.0, 17243.0, 15465.0, 15708.0, 13089.0, 16033.0, 13838.0, 15351.0, 18055.0, 15038.0, 18109.0, 13069.0, 16241.0, 14800.0, 16839.0, 16168.0, 16931.0, 16814.0, 13269.0, 14813.0, 17062.0, 14810.0, 16353.0, 18118.0, 13831.0, 13506.0, 17796.0, 15716.0, 18156.0, 15221.0, 16983.0, 17059.0, 16327.0, 17211.0, 17026.0, 15570.0, 15880.0, 16718.0, 15808.0, 17858.0, 16393.0, 14161.0, 17863.0, 16411.0, 16402.0, 15023.0, 17402.0, 15426.0, 15894.0, 15867.0, 14506.0, 15555.0, 13034.0, 15889.0, 15953.0, 16143.0, 16422.0, 12747.0, 15502.0, 14081.0, 17965.0, 14404.0, 13579.0, 13174.0, 15987.0, 17677.0, 13652.0, 17428.0, 16161.0, 16858.0, 18219.0, 14293.0, 14748.0, 16638.0, 17674.0, 13094.0, 15899.0, 15898.0, 17691.0, 17227.0, 15039.0, 15919.0, 13497.0, 15860.0, 14189.0, 15304.0, 14867.0, 14344.0, 16719.0, 15048.0, 15301.0, 14708.0, 16898.0, 14825.0, 18113.0, 17596.0, 15078.0, 14085.0, 17860.0, 13155.0, 15028.0, 16919.0, 17259.0, 17019.0, 14487.0, 16722.0, 15882.0, 14667.0, 16710.0, 16550.0, 15984.0, 17682.0, 16658.0, 17068.0, 15356.0, 17223.0, 16817.0, 13030.0, 17191.0, 15194.0, 14409.0, 16654.0, 16861.0, 16138.0, 13481.0, 13495.0, 17519.0, 17218.0, 17812.0, 14215.0, 15602.0, 17320.0, 16782.0, 12913.0, 17869.0, 13564.0, 14850.0, 15021.0, 13963.0, 17450.0, 17091.0, 17470.0, 17616.0, 15649.0, 14907.0, 17735.0, 16059.0, 17720.0, 15018.0, 14733.0, 13756.0, 14176.0, 13319.0, 15353.0, 18119.0, 17491.0, 14282.0, 13569.0, 15498.0, 14673.0, 13488.0, 16221.0, 15002.0, 15965.0, 15024.0, 17675.0, 13769.0, 16904.0, 16086.0, 13786.0, 13880.0, 13173.0, 15858.0, 15180.0, 14739.0, 16293.0, 17419.0, 16775.0, 16306.0, 16950.0, 17591.0, 12839.0, 13807.0, 16125.0, 15081.0, 18102.0, 16365.0, 17870.0, 14821.0, 16863.0, 13078.0, 13267.0, 13050.0, 15628.0, 14796.0, 16779.0, 13599.0, 13329.0, 18077.0, 14744.0, 17406.0, 15750.0, 13983.0, 13842.0, 13199.0, 14032.0, 17706.0, 16081.0, 16525.0, 14952.0, 17975.0, 16122.0, 13126.0, 15973.0, 16558.0, 16713.0, 16893.0, 15529.0, 18043.0, 16016.0, 17722.0, 17324.0, 17341.0, 14051.0, 15916.0, 16233.0, 16385.0, 15032.0, 17213.0, 18061.0, 13113.0, 16553.0, 13455.0, 14217.0, 17262.0, 14299.0, 18259.0, 17676.0, 16679.0, 18269.0, 15298.0, 18193.0, 13523.0, 12870.0, 15005.0, 15581.0, 15680.0, 13649.0, 17894.0, 13270.0, 14618.0, 14866.0, 13077.0, 13115.0, 13531.0, 13848.0, 13140.0, 15713.0, 17999.0, 15347.0, 17340.0, 13984.0, 15996.0, 14030.0, 16252.0, 16596.0, 16700.0, 16011.0, 17655.0, 16717.0, 14243.0, 12963.0, 15079.0, 14437.0, 12942.0, 15660.0, 18092.0, 15358.0, 18071.0, 13854.0, 13369.0, 17857.0, 17411.0, 14987.0, 14355.0, 17526.0, 14896.0, 14440.0, 13240.0, 14479.0, 16065.0, 17430.0, 16520.0, 15945.0, 15181.0, 15856.0, 13102.0, 14205.0, 17702.0, 15271.0, 13982.0, 15288.0, 17978.0, 16795.0, 16519.0, 17816.0, 13021.0, 16255.0, 17671.0, 17646.0, 16350.0, 12872.0, 17339.0, 18230.0, 16499.0, 15192.0, 14441.0, 15279.0, 16579.0, 15380.0, 17442.0, 17950.0, 12826.0, 17456.0, 17307.0, 15811.0, 13327.0, 17700.0, 13136.0, 15535.0, 15329.0, 15211.0, 15596.0, 16163.0, 16907.0, 17576.0, 14713.0, 14702.0, 13230.0, 13969.0, 17530.0, 15805.0, 17696.0, 17076.0, 17827.0, 16265.0, 17880.0, 13000.0, 17790.0, 14419.0, 14082.0, 17912.0, 15723.0, 16656.0, 14037.0, 14256.0, 14543.0, 16062.0, 18116.0, 16019.0, 18178.0, 18065.0, 13148.0, 12989.0, 14107.0, 15881.0, 16727.0, 15514.0, 13787.0, 17865.0, 17220.0, 16565.0, 16873.0, 14062.0, 15179.0, 18016.0, 14448.0, 15503.0, 17251.0, 16923.0, 14159.0, 17126.0, 15224.0, 14577.0, 17236.0, 17372.0, 16367.0, 12875.0, 17917.0, 16010.0, 17085.0, 13668.0, 14684.0, 17188.0, 15547.0, 15998.0, 14413.0, 18004.0, 13959.0, 16665.0, 15454.0, 15044.0, 17937.0, 14608.0, 17618.0, 14505.0, 18037.0, 13198.0, 13225.0, 15361.0, 15689.0, 14290.0, 13209.0, 13999.0, 14498.0, 15854.0, 16701.0, 16927.0, 17990.0, 14544.0, 17338.0, 17231.0, 17799.0, 14565.0, 16726.0, 17303.0, 14639.0, 17611.0, 17179.0, 17524.0, 17293.0, 17890.0, 17375.0, 17371.0, 17969.0, 15159.0, 13211.0, 15777.0, 14525.0, 13324.0, 13802.0, 13948.0, 13008.0, 14206.0, 16202.0, 16442.0, 18075.0, 15468.0, 16570.0, 14524.0, 18141.0, 16810.0, 14961.0, 17041.0, 16458.0, 16083.0, 16262.0, 17194.0, 14057.0, 14871.0, 13178.0, 18044.0, 16812.0, 16191.0, 14298.0, 17158.0, 14415.0, 16899.0, 16531.0, 16556.0, 16805.0, 16503.0, 17739.0, 13238.0, 12829.0, 13097.0, 12867.0, 15392.0, 13846.0, 14401.0, 16145.0, 17629.0, 14150.0, 13496.0, 13611.0, 16954.0, 17454.0, 17449.0, 17230.0, 15950.0, 15512.0, 17525.0, 13458.0, 14426.0, 16003.0, 13092.0, 13426.0, 15101.0, 17033.0, 13221.0, 14201.0, 17692.0, 15822.0, 16134.0, 17551.0, 18050.0, 14913.0, 15641.0, 13124.0, 17214.0, 15456.0, 15062.0, 12928.0, 15727.0, 17980.0, 15290.0, 17752.0, 15615.0, 17044.0, 13829.0, 17633.0, 13266.0, 17820.0, 15664.0, 17189.0, 17496.0, 16607.0, 13317.0, 13890.0, 17001.0, 15246.0, 16996.0, 15482.0, 16037.0, 14841.0, 16670.0, 16985.0, 16705.0, 16470.0, 14414.0, 15563.0, 12980.0, 16746.0, 14878.0, 16743.0, 17146.0, 12877.0, 15394.0, 14621.0, 15379.0, 14309.0, 17288.0, 14709.0, 15157.0, 17744.0, 16316.0, 15620.0, 15789.0, 16560.0, 13534.0, 17580.0, 14777.0, 15759.0, 14373.0, 18176.0, 15366.0, 14735.0, 16271.0, 18223.0, 15532.0, 16816.0, 16684.0, 14334.0, 16945.0, 14643.0, 15197.0, 14220.0, 13874.0, 18260.0, 17848.0, 17392.0, 14985.0, 13004.0, 14560.0, 12931.0, 13627.0, 14769.0, 15780.0, 17315.0, 16711.0, 15204.0, 17888.0, 17007.0, 15160.0, 13033.0, 13869.0, 14146.0, 16885.0, 17913.0, 14472.0, 17358.0, 16686.0, 18245.0, 17343.0, 18256.0, 16153.0, 12944.0, 15312.0, 14099.0, 14113.0, 13104.0, 17204.0, 13027.0, 17621.0, 17090.0, 14119.0, 15527.0, 18097.0, 15460.0, 15034.0, 15208.0, 17306.0, 14737.0, 13029.0, 16270.0, 13487.0, 17400.0, 17593.0, 13953.0, 14533.0, 14944.0, 17239.0, 14532.0, 15562.0, 15587.0, 13922.0, 13165.0, 13304.0, 13313.0, 16875.0, 16282.0, 12957.0, 14462.0, 13397.0, 13680.0, 15164.0, 17457.0, 14732.0, 14221.0, 14553.0, 13253.0, 17389.0, 15841.0, 16112.0, 13629.0, 16600.0, 15661.0, 16532.0, 15266.0, 14653.0, 16771.0, 17585.0, 15046.0, 13082.0, 15464.0, 18226.0, 18062.0, 17368.0, 14258.0, 15719.0, 13368.0, 17634.0, 16676.0, 16424.0, 18283.0, 13764.0, 13656.0, 14312.0, 13280.0, 15845.0, 16094.0, 13187.0, 16567.0, 14828.0, 16551.0, 16889.0, 16473.0, 13750.0, 15607.0, 15139.0, 17707.0, 18198.0, 18179.0, 17284.0, 13233.0, 14889.0, 14672.0, 13593.0, 13162.0, 13183.0, 17095.0, 12939.0, 15611.0, 17114.0, 15059.0, 16326.0, 17128.0, 14761.0, 17555.0, 16735.0, 16833.0, 17800.0, 16748.0, 14755.0, 16549.0, 13565.0, 15799.0, 18032.0, 13451.0, 14794.0, 18171.0, 16279.0, 17811.0, 16850.0, 14321.0, 15326.0, 17849.0, 13672.0, 14229.0, 13107.0, 16497.0, 16303.0, 15281.0, 13473.0, 14320.0, 17742.0, 16351.0, 13144.0, 15346.0, 15370.0, 14295.0, 16034.0, 17365.0, 15189.0, 14669.0, 18095.0, 15518.0, 15749.0, 14209.0, 15569.0, 17569.0, 13784.0, 13862.0, 16791.0, 16235.0, 14270.0, 16655.0, 16359.0, 16554.0, 15939.0, 14587.0, 14715.0, 14185.0, 14040.0, 14514.0, 15171.0, 14167.0, 17048.0, 17364.0, 13284.0, 16500.0, 12951.0, 15835.0, 18190.0, 13993.0, 14114.0, 15447.0, 16315.0, 14978.0, 16395.0, 15510.0, 13614.0, 13246.0, 15687.0, 16493.0, 13385.0, 15626.0, 15213.0, 14175.0, 18106.0, 15033.0, 14329.0, 16401.0, 16206.0, 13782.0, 12924.0, 16593.0, 13700.0, 13064.0, 13048.0, 18069.0, 13634.0, 16843.0, 17064.0, 17609.0, 15673.0, 14976.0, 13527.0, 15696.0, 15316.0, 15296.0, 17988.0, 12820.0, 13001.0, 14101.0, 14238.0, 17730.0, 13929.0, 14657.0, 13859.0, 18212.0, 14292.0, 13883.0, 18233.0, 17018.0, 14242.0, 12346.0, 13898.0, 16948.0, 16997.0, 15395.0, 13693.0, 13263.0, 14428.0, 17708.0, 14090.0, 15606.0, 15831.0, 13310.0, 14916.0, 17602.0, 14572.0, 13502.0, 14784.0, 15938.0, 17418.0, 14779.0, 15262.0, 17862.0, 16892.0, 17771.0, 15422.0, 14770.0, 16912.0, 15174.0, 14895.0, 17504.0, 16387.0, 16618.0, 17277.0, 14088.0, 17094.0, 14692.0, 12970.0, 17889.0, 17644.0, 17714.0, 12916.0, 17769.0, 14450.0, 16085.0, 13659.0, 15167.0, 15443.0, 14224.0, 13742.0, 17673.0, 14068.0, 13068.0, 14368.0, 15497.0, 13819.0, 14501.0, 14782.0, 17861.0, 18161.0, 15820.0, 18136.0, 16660.0, 13396.0, 12935.0, 16730.0, 14541.0, 13551.0, 15797.0, 15052.0, 14130.0, 15222.0, 13615.0, 13901.0, 13158.0, 14257.0, 15218.0, 15110.0, 14534.0, 15967.0, 16757.0, 12854.0, 18008.0, 18277.0, 14389.0, 13703.0, 15339.0, 16222.0, 14341.0, 13168.0, 16943.0, 17515.0, 17082.0, 14248.0, 13002.0, 16133.0, 13049.0, 14548.0, 13405.0, 14049.0, 16043.0, 15812.0, 13837.0, 17118.0, 14616.0, 14233.0, 17075.0, 16714.0, 13098.0, 17027.0, 17786.0, 16124.0, 16409.0, 13754.0, 15227.0, 12997.0, 15215.0, 16918.0, 16882.0, 16496.0, 17311.0, 15910.0, 16949.0, 14970.0, 14701.0, 16767.0, 14738.0, 17540.0, 14239.0, 18125.0, 13328.0, 15549.0, 15864.0, 14662.0, 17180.0, 15057.0, 13330.0, 13552.0, 12853.0, 13538.0, 16755.0, 14133.0, 16523.0, 14659.0, 13141.0, 15365.0, 13707.0, 13709.0, 17329.0, 14805.0, 16897.0, 15579.0, 14595.0, 13161.0, 15415.0, 17431.0, 17463.0, 14502.0, 15448.0, 17314.0, 17373.0, 18145.0, 14467.0, 12908.0, 15144.0, 14776.0, 16403.0, 16407.0, 17619.0, 17256.0, 17604.0, 14006.0, 13600.0, 15058.0, 17147.0, 13881.0, 16612.0, 14627.0, 17356.0, 12836.0, 13939.0, 16745.0, 13606.0, 13494.0, 12929.0, 16419.0, 17035.0, 15203.0, 16515.0, 18202.0, 14549.0, 15981.0, 16110.0, 17376.0, 13110.0, 16716.0, 15940.0, 15971.0, 14665.0, 14457.0, 15589.0, 14411.0, 17560.0, 15226.0, 14460.0, 16156.0, 13728.0, 14127.0, 16378.0, 13894.0, 13824.0, 18250.0, 15270.0, 14188.0, 18017.0, 15421.0, 17446.0, 14798.0, 12990.0, 16992.0, 17337.0, 16405.0, 17071.0, 13873.0, 17362.0, 13394.0, 16333.0, 16030.0, 14044.0, 13800.0, 17672.0, 13581.0, 14540.0, 13539.0, 15885.0, 14497.0, 17507.0, 13208.0, 17334.0, 13871.0, 16938.0, 17929.0, 14778.0, 17517.0, 17226.0, 13137.0, 13725.0, 13309.0, 12842.0, 16109.0, 17291.0, 15090.0, 15199.0, 13911.0, 14194.0, 14842.0, 13584.0, 17105.0, 14438.0, 12956.0, 15781.0, 14410.0, 14600.0, 17302.0, 17613.0, 13334.0, 13955.0, 17162.0, 17774.0, 15407.0, 15577.0, 16332.0, 14048.0, 14475.0, 17859.0, 15753.0, 14562.0, 16951.0, 16998.0, 13133.0, 17881.0, 15843.0, 17083.0, 15970.0, 13590.0, 17537.0, 17843.0, 13706.0, 17940.0, 17686.0, 14431.0, 15809.0, 14465.0, 18093.0, 16027.0, 12857.0, 16425.0, 16842.0, 15796.0, 14555.0, 15114.0, 15133.0, 17705.0, 18087.0, 12897.0, 17512.0, 15550.0, 14676.0, 18159.0, 14304.0, 15638.0, 12943.0, 13875.0, 15406.0, 18084.0, 17282.0, 16434.0, 17050.0, 13171.0, 17472.0, 17255.0, 16084.0, 17667.0, 14631.0, 13381.0, 15236.0, 13475.0, 13717.0, 13157.0, 14644.0, 12993.0, 17571.0, 16979.0, 16738.0, 15122.0, 17612.0, 17348.0, 13893.0, 14035.0, 13623.0, 14346.0, 16431.0, 16317.0, 16073.0, 14477.0, 14760.0, 14897.0, 15810.0, 16509.0, 14386.0, 14530.0, 15670.0, 16126.0, 14609.0, 13414.0, 12823.0, 16494.0, 14959.0, 16148.0, 17422.0, 17175.0, 18257.0, 13018.0, 13718.0, 15382.0, 14754.0, 13151.0, 13085.0, 15903.0, 15785.0, 18138.0, 14379.0, 14211.0, 14371.0, 13425.0, 12852.0, 15228.0, 13012.0, 16182.0, 13489.0, 13904.0, 15755.0, 13932.0, 13799.0, 13951.0, 16765.0, 18172.0, 16566.0, 12891.0, 16466.0, 16115.0, 14162.0, 13301.0, 14803.0, 13744.0, 12988.0, 17323.0, 18094.0, 15129.0, 17361.0, 18155.0, 15321.0, 13477.0, 15065.0, 16980.0, 15146.0, 13410.0, 13044.0, 16441.0, 16014.0, 14520.0, 17994.0, 13038.0, 17002.0, 15722.0, 16349.0, 16913.0, 18114.0, 15303.0, 12845.0, 18188.0, 16045.0, 16573.0, 13421.0, 18196.0, 13285.0, 13184.0, 18151.0, 13804.0, 17499.0, 15397.0, 14276.0, 13453.0, 16394.0, 17711.0, 13865.0, 16940.0, 14289.0, 16208.0, 17063.0, 13149.0, 18068.0, 15932.0, 16692.0, 15590.0, 17171.0, 18231.0, 14004.0, 17139.0, 14513.0, 13118.0, 15974.0, 17830.0, 14231.0, 17867.0, 14880.0, 15121.0, 17117.0, 12945.0, 18056.0, 16072.0, 16838.0, 15543.0, 13751.0, 15847.0, 13851.0, 13345.0, 13870.0, 17034.0, 16592.0, 15712.0, 13362.0, 14470.0, 17388.0, 16841.0, 13753.0, 13666.0, 14481.0, 13792.0, 17663.0, 13973.0, 15990.0, 13684.0, 13261.0, 16598.0, 14147.0, 15951.0, 13971.0, 17516.0, 13630.0, 14157.0, 13636.0, 13610.0, 14745.0, 14036.0, 16057.0, 15724.0, 13675.0, 14227.0, 16668.0, 16667.0, 13509.0, 15874.0, 16187.0, 16339.0, 14046.0, 13292.0, 16427.0, 14056.0, 15656.0, 16518.0, 17165.0, 17462.0, 14620.0, 14740.0, 16462.0, 16078.0, 16915.0, 15676.0, 15709.0, 15241.0, 12933.0, 15092.0, 15319.0, 16212.0, 15257.0, 14656.0, 13884.0, 13166.0, 16389.0, 15416.0, 15733.0, 16678.0, 12834.0, 13722.0, 15067.0, 16128.0, 17770.0, 15622.0, 14473.0, 15104.0, 15643.0, 16792.0, 15031.0, 15636.0, 12873.0, 17923.0, 16217.0, 17738.0, 17426.0, 16957.0, 16571.0, 14483.0, 15087.0, 16709.0, 17856.0, 15053.0, 18218.0, 16159.0, 17995.0, 17374.0, 17789.0, 17416.0, 17652.0, 13476.0, 15393.0, 13014.0, 13931.0, 13382.0, 15220.0, 14570.0, 14447.0, 13557.0, 16449.0, 17325.0, 14995.0, 16414.0, 15681.0, 14670.0, 15675.0, 17535.0, 15400.0, 14903.0, 14499.0, 18211.0, 14504.0, 15572.0, 17107.0, 14247.0, 15554.0, 14915.0, 16136.0, 18280.0, 13344.0, 16621.0, 16225.0, 14214.0, 14012.0, 16356.0, 17654.0, 15026.0, 16517.0, 14817.0, 17092.0, 16242.0, 15869.0, 17817.0, 15234.0, 15764.0, 15806.0, 15819.0, 14586.0, 15944.0, 13340.0, 16917.0, 14407.0, 13908.0, 13975.0, 14730.0, 14367.0, 13373.0, 16712.0, 17639.0, 16426.0, 16495.0, 14336.0, 14507.0, 17049.0, 15206.0, 14013.0, 14645.0, 15071.0, 14112.0, 13026.0, 12881.0, 17864.0, 17138.0, 16572.0, 14165.0, 15367.0, 14291.0, 15632.0, 14297.0, 13899.0, 16471.0, 18183.0, 14603.0, 18173.0, 14854.0, 16625.0, 14064.0, 15308.0, 18086.0, 14350.0, 16080.0, 14727.0, 16778.0, 14077.0, 16808.0, 16475.0, 13265.0, 15049.0, 18149.0, 13654.0, 16652.0, 16766.0, 16801.0, 17164.0, 13226.0, 13043.0, 14352.0, 17351.0, 16768.0, 16693.0, 13956.0, 13708.0, 15918.0, 15671.0, 14962.0, 16807.0, 15125.0, 16871.0, 12901.0, 13452.0, 15493.0, 16005.0, 16804.0, 13499.0, 15047.0, 14193.0, 17542.0, 17080.0, 16392.0, 15106.0, 16214.0, 13716.0, 15150.0, 16061.0, 14226.0, 13121.0, 16297.0, 12994.0, 16152.0, 14636.0, 16040.0, 15793.0, 13358.0, 12849.0, 15182.0, 13299.0, 16383.0, 15381.0, 15030.0, 12955.0, 18189.0, 13946.0, 17716.0, 13185.0, 14840.0, 13216.0, 13650.0, 13533.0, 13268.0, 15433.0, 12937.0, 17603.0, 16216.0, 16377.0, 16976.0, 18210.0, 13631.0, 14422.0, 15648.0, 17725.0, 15861.0, 13072.0, 15695.0, 14110.0, 14059.0, 16672.0, 16511.0, 16256.0, 13591.0, 14066.0, 15483.0, 16626.0, 15019.0, 18270.0, 14315.0, 17921.0, 14041.0, 17060.0, 16023.0, 17133.0, 12878.0, 14155.0, 17043.0, 13046.0, 14633.0, 12948.0, 15703.0, 14071.0, 17134.0, 17795.0, 12902.0, 16444.0, 14232.0, 14693.0, 16728.0, 16096.0, 13985.0, 13592.0, 15140.0, 12843.0, 14408.0, 15408.0, 15445.0, 15452.0, 14223.0, 16619.0, 14762.0, 13934.0, 15669.0, 16384.0, 18224.0, 14245.0, 17678.0, 15855.0, 16036.0, 17763.0, 13262.0, 17152.0, 14632.0, 13900.0, 14875.0, 15132.0, 17272.0, 16135.0, 12831.0, 15437.0, 16809.0, 14711.0, 14377.0, 16374.0, 13196.0, 15457.0, 16721.0, 17733.0, 17102.0, 15410.0, 13239.0, 15449.0, 14870.0, 13821.0, 17096.0, 18191.0, 14461.0, 13132.0, 16859.0, 15245.0, 17486.0, 16308.0, 14607.0, 13249.0, 15644.0, 14075.0, 17250.0, 17966.0, 14129.0, 15651.0, 13035.0, 13341.0, 13512.0, 16620.0, 17698.0, 14267.0, 13736.0, 16022.0, 14235.0, 16769.0, 17754.0, 16063.0, 15178.0, 14348.0, 15815.0, 13695.0, 17979.0, 13139.0, 14758.0, 14536.0, 13662.0, 17946.0, 13743.0, 18078.0, 16780.0, 18273.0, 15045.0, 17625.0, 13357.0, 16777.0, 14476.0, 16245.0, 17765.0, 15083.0, 18010.0, 15249.0, 13760.0, 15624.0, 17749.0, 15068.0, 14538.0, 14851.0, 14021.0, 13037.0, 18177.0, 14128.0, 17874.0, 17719.0, 17931.0, 13803.0, 17398.0, 15906.0, 16253.0, 13439.0, 12888.0, 13588.0, 15521.0, 13720.0, 15674.0, 17594.0, 17775.0, 13988.0, 16657.0, 15424.0, 13316.0, 16788.0, 16584.0, 15364.0, 18108.0, 14272.0, 15980.0, 15832.0, 16092.0, 15528.0, 16398.0, 17088.0, 17438.0, 13060.0, 14790.0, 14890.0, 16386.0, 14818.0, 13571.0, 12909.0, 16698.0, 16681.0, 13573.0, 14957.0, 13918.0, 17212.0, 17781.0, 14886.0, 13626.0, 16609.0, 16180.0, 13462.0, 18263.0, 16960.0, 13841.0, 17701.0, 12949.0, 14852.0, 13169.0, 16162.0, 15691.0, 14195.0, 13781.0, 17758.0, 14023.0, 17669.0, 16142.0, 17648.0, 13059.0, 16224.0, 15223.0, 17886.0, 13294.0, 15289.0, 18185.0, 17956.0, 15756.0, 14747.0, 14719.0, 13015.0, 16586.0, 16105.0, 14546.0, 15442.0, 16906.0, 14535.0, 16170.0, 15244.0, 16696.0, 15145.0, 17492.0, 13525.0, 17409.0, 17783.0, 13863.0, 13515.0, 15917.0, 17440.0, 17045.0, 17140.0, 15201.0, 14964.0, 16031.0, 14403.0, 17042.0, 13771.0, 17906.0, 18272.0, 16144.0, 13731.0, 15530.0, 13950.0, 13752.0, 13892.0, 14446.0, 16209.0, 15754.0, 13712.0, 15800.0, 16469.0, 13005.0, 14981.0, 17928.0, 16261.0, 17883.0, 14619.0, 13995.0, 16643.0, 14246.0, 18040.0, 16837.0, 15119.0, 16325.0, 14924.0, 15109.0, 16623.0, 12999.0, 13962.0, 18036.0, 14958.0, 13562.0, 15775.0, 17054.0, 17268.0, 13548.0, 13508.0, 13570.0, 13232.0, 18129.0, 13632.0, 15665.0, 17550.0, 15655.0, 14286.0, 16188.0, 15214.0, 17574.0, 15737.0, 18080.0, 14311.0, 14339.0, 12982.0, 14273.0, 13549.0, 15414.0, 13203.0, 14628.0, 14326.0, 15935.0, 13655.0, 12910.0, 13577.0, 15251.0, 14111.0, 17160.0, 16172.0, 17972.0, 14844.0, 17278.0, 15212.0, 16729.0, 14998.0, 13484.0, 16697.0, 18236.0, 13740.0, 16454.0, 15230.0, 15134.0, 16309.0, 13544.0, 14262.0, 13134.0, 17589.0, 16097.0, 13122.0, 16966.0, 17746.0, 16175.0, 14834.0, 16348.0, 15147.0, 16131.0, 15813.0, 17058.0, 17704.0, 16933.0, 13772.0, 16249.0, 14198.0, 13989.0, 17930.0, 14154.0, 14482.0, 14163.0, 14105.0, 17601.0, 17142.0, 15135.0, 16806.0, 13952.0, 13120.0, 13516.0, 14323.0, 18079.0, 14700.0, 15027.0, 17367.0, 18213.0, 17029.0, 13220.0, 15985.0, 16193.0, 15172.0, 13692.0, 15745.0, 17582.0, 13474.0, 17697.0, 16639.0, 16947.0, 15491.0, 16617.0, 15265.0, 16226.0, 18009.0, 16399.0, 14623.0, 15625.0, 18064.0, 15508.0, 16628.0, 13647.0, 15594.0, 13479.0, 13735.0, 13376.0, 15717.0, 13719.0, 16633.0, 13101.0, 15225.0, 14152.0, 15436.0, 17217.0, 17734.0, 14905.0, 14148.0, 16103.0, 14626.0, 14868.0, 18246.0, 13485.0, 15517.0, 17115.0, 17120.0, 16611.0, 15912.0, 17588.0, 14759.0, 16185.0, 13389.0, 17631.0, 17061.0, 17718.0, 17630.0, 13223.0, 16146.0, 17109.0, 16587.0, 16750.0, 13482.0, 14512.0, 17670.0, 16834.0, 16942.0, 14640.0, 16823.0, 15237.0, 17854.0, 18220.0, 17436.0, 16965.0, 12840.0, 15891.0, 17187.0, 13637.0, 17991.0, 16418.0, 16099.0, 15768.0, 16637.0, 14240.0, 15143.0, 13229.0, 14973.0, 14271.0, 15952.0, 16227.0, 17893.0, 14022.0, 15210.0, 16370.0, 15376.0, 14655.0, 17615.0, 16055.0, 14149.0, 17501.0, 14191.0, 13282.0, 15582.0, 16230.0, 18146.0, 15976.0, 12886.0, 17974.0, 13524.0, 17955.0, 15128.0, 16610.0, 17394.0, 14173.0, 16258.0, 14948.0, 17384.0, 16990.0, 13762.0, 14340.0, 17429.0, 13711.0, 14515.0, 16457.0, 17527.0, 14199.0, 13888.0, 14423.0, 14697.0, 17522.0, 13867.0, 17624.0, 14393.0, 17578.0, 13450.0, 17423.0, 18241.0, 15668.0, 16319.0, 15757.0, 17174.0, 13365.0, 18227.0, 14145.0, 18235.0, 13741.0, 16832.0, 15258.0, 15552.0, 18170.0, 13723.0, 14005.0, 15561.0, 16121.0, 18142.0, 13642.0, 15117.0, 13561.0, 15704.0, 16007.0, 16232.0, 17410.0, 13835.0, 13427.0, 14353.0, 13003.0, 16756.0, 16440.0, 18120.0, 17723.0, 14699.0, 12821.0, 13055.0, 13320.0, 16357.0, 18242.0, 15865.0, 17597.0, 14397.0, 13242.0, 14288.0, 15063.0, 14591.0, 13990.0, 12749.0, 14691.0, 16229.0, 14920.0, 17489.0, 13404.0, 15729.0, 16644.0, 14731.0, 15187.0, 13052.0, 18133.0, 17664.0, 14649.0, 13235.0, 14883.0, 12976.0, 14681.0, 14421.0, 16116.0, 14988.0, 15489.0, 14364.0, 16006.0, 16184.0, 17932.0, 18221.0, 14853.0, 17658.0, 17764.0, 14651.0, 14000.0, 13601.0, 17970.0, 15826.0, 15907.0, 14342.0, 14873.0, 14689.0, 15440.0, 16076.0, 15333.0, 16283.0, 17263.0, 16877.0, 16642.0, 12871.0, 14038.0, 14489.0, 14888.0, 17190.0, 13456.0, 17898.0, 13976.0, 16139.0, 15730.0, 16266.0, 15123.0, 17505.0, 16446.0, 17556.0, 14583.0, 16818.0, 13572.0, 14009.0, 13258.0, 14463.0, 13192.0, 16987.0, 13417.0, 17047.0, 15116.0, 17469.0, 16647.0, 15630.0, 17245.0, 16008.0, 17871.0, 13529.0, 15599.0, 16813.0, 14859.0, 16463.0, 15791.0, 13658.0, 13887.0, 14551.0, 17166.0, 17926.0, 13391.0, 17455.0, 13308.0, 13856.0, 13243.0, 15095.0, 18048.0, 18287.0, 18150.0, 16690.0, 13555.0, 16038.0, 13972.0, 13227.0, 13657.0, 17176.0, 14837.0, 14682.0, 14921.0, 16341.0, 14647.0, 15292.0, 15705.0, 13339.0, 13885.0, 13546.0, 17715.0, 18160.0, 15434.0, 15734.0, 13737.0, 13213.0, 18018.0, 15314.0, 17521.0, 15042.0, 12863.0, 16091.0, 15804.0, 14593.0, 14287.0, 16763.0, 14705.0, 14522.0, 16448.0, 14584.0, 12974.0, 12987.0, 14816.0, 15852.0, 16624.0, 18232.0, 18073.0, 16369.0, 14280.0, 13135.0, 17345.0, 16275.0, 14338.0, 15402.0, 16323.0, 14451.0, 14823.0, 15897.0, 17051.0, 15925.0, 15863.0, 16483.0, 13398.0, 13070.0, 14819.0, 15163.0, 18204.0, 15124.0, 16969.0, 14597.0, 13917.0, 13062.0, 16484.0, 15184.0, 18135.0, 14453.0, 17900.0, 13437.0, 16529.0, 17531.0, 16239.0, 14500.0, 16117.0, 13248.0, 16967.0, 15405.0, 16659.0, 16880.0, 13435.0, 13131.0, 14891.0, 16682.0, 15453.0, 16963.0, 13682.0, 15152.0, 15462.0, 15349.0, 16849.0, 15073.0, 16298.0, 18248.0, 15386.0, 17252.0, 14542.0, 16825.0, 18072.0, 13643.0, 15969.0, 13283.0, 17015.0, 14375.0, 17124.0, 17987.0, 13395.0, 15743.0, 17414.0, 14622.0, 15609.0, 14561.0, 16872.0, 16358.0, 15238.0, 13466.0, 17360.0, 13510.0, 14241.0, 14132.0, 14963.0, 17169.0, 15252.0, 17731.0, 16113.0, 16107.0, 17483.0, 15679.0, 13686.0, 16581.0, 15267.0, 17234.0, 17797.0, 16614.0, 15411.0, 14178.0, 15098.0, 18281.0, 14984.0, 17265.0, 13617.0, 17242.0, 17289.0, 16018.0, 14704.0, 16794.0, 13761.0, 13517.0, 13936.0, 16342.0, 14177.0, 16205.0, 15036.0, 13589.0, 17579.0, 15069.0, 17349.0, 13080.0, 13663.0, 14503.0, 16774.0, 13384.0, 17101.0, 14997.0, 17155.0, 16461.0, 13343.0, 18165.0, 17536.0, 16324.0, 17651.0, 14222.0, 15585.0, 17490.0, 16739.0, 16276.0, 17193.0, 16257.0, 14285.0, 17642.0, 13826.0, 13575.0, 17157.0, 16852.0, 15219.0, 15014.0, 14765.0, 16869.0, 15909.0, 13618.0, 16050.0, 17879.0, 17562.0, 15334.0, 13568.0, 14820.0, 16744.0, 15700.0, 17299.0, 12837.0, 15076.0, 15921.0, 15747.0, 15840.0, 15016.0, 14808.0, 12904.0, 15825.0, 15389.0, 15280.0, 17159.0, 12830.0, 15507.0, 18252.0, 16526.0, 17695.0, 12930.0, 14960.0, 17960.0, 15412.0, 13763.0, 13849.0, 16114.0, 13420.0, 13780.0, 17877.0, 16247.0, 15041.0, 16287.0, 12919.0, 15130.0, 17370.0, 17709.0, 15253.0, 13300.0, 17759.0, 13937.0, 15850.0, 15186.0, 13791.0, 14795.0, 17768.0, 18112.0, 17386.0, 14104.0, 17110.0, 13895.0, 16545.0, 16671.0, 14351.0, 17391.0, 16824.0, 17750.0, 16200.0, 17997.0, 14383.0, 13461.0, 17408.0, 15537.0, 14327.0, 17837.0, 15578.0, 15584.0, 13745.0, 16498.0, 17891.0, 17123.0, 16866.0, 13730.0, 16589.0, 12922.0, 16009.0, 14053.0, 17939.0, 17312.0, 13833.0, 17899.0, 15007.0, 17464.0, 18265.0, 16344.0, 13338.0, 17024.0, 14034.0, 18203.0, 16616.0, 16338.0, 17046.0, 13109.0, 16829.0, 13217.0, 14002.0, 12977.0, 13291.0, 13583.0, 16929.0, 17892.0, 15505.0, 14459.0, 18013.0, 13681.0, 13699.0, 14493.0, 13486.0, 13302.0, 16012.0, 17031.0, 18121.0, 15901.0, 14918.0, 15920.0, 17353.0, 18024.0, 15467.0, 16174.0, 13678.0, 14690.0, 13058.0, 14552.0, 13224.0, 16989.0, 13207.0, 18122.0, 17405.0, 13311.0, 15051.0, 15895.0, 15795.0, 13669.0, 16450.0, 13667.0, 14400.0, 14847.0, 14862.0, 16488.0, 15256.0, 14716.0, 13933.0, 14857.0, 15306.0, 15839.0, 13994.0, 17554.0, 14332.0, 17266.0, 17948.0, 15004.0, 14722.0, 13507.0, 13967.0, 16054.0, 12833.0, 16474.0, 17984.0, 17448.0, 16762.0, 15369.0, 13154.0, 13940.0, 14029.0, 14117.0, 13167.0, 17779.0, 13991.0, 18101.0, 17065.0, 13827.0, 16764.0, 18180.0, 17866.0, 15802.0, 17229.0, 14456.0, 16464.0, 17962.0, 16149.0, 14259.0, 18143.0, 17935.0, 14517.0, 17694.0, 17660.0, 16041.0, 15623.0, 15829.0, 15232.0, 13079.0, 18262.0, 13563.0, 15506.0, 16305.0, 12864.0, 17724.0, 17703.0, 13116.0, 14019.0, 17649.0, 16178.0, 17040.0, 14100.0, 16557.0, 13296.0, 16364.0, 17693.0, 15372.0, 15618.0, 13930.0, 13379.0, 13194.0, 16447.0, 14305.0, 14331.0, 15261.0, 15105.0, 18268.0, 14855.0, 13925.0, 18237.0, 15639.0, 15118.0, 15746.0, 15942.0, 14143.0, 15120.0, 16147.0, 13277.0, 18127.0, 15149.0, 18081.0, 14511.0, 15776.0, 12981.0, 13106.0, 13928.0, 14885.0, 13388.0, 15438.0, 17173.0, 17941.0, 14947.0, 17053.0, 12844.0, 14567.0, 12828.0, 16984.0, 13023.0, 17553.0, 13075.0, 15342.0, 17788.0, 13850.0, 14076.0, 13805.0, 17887.0, 13186.0, 15374.0, 17656.0, 16102.0, 15089.0, 14972.0, 17514.0, 12917.0, 14768.0, 17584.0, 15254.0, 18099.0, 15205.0, 13218.0, 17267.0, 16302.0, 13513.0, 14720.0, 18282.0, 13200.0, 14079.0, 17298.0, 14024.0, 16066.0, 15198.0, 12885.0, 17331.0, 13016.0, 13500.0, 15247.0, 13355.0, 16053.0, 16292.0, 14116.0, 14495.0, 15494.0, 15608.0, 17248.0, 17653.0, 13645.0, 15469.0, 13307.0, 17122.0, 14406.0, 15683.0, 14301.0, 14658.0, 13621.0, 16272.0, 17958.0, 16836.0, 16961.0, 16902.0, 15706.0, 15315.0, 15653.0, 13159.0, 13189.0, 17637.0, 13470.0, 15786.0, 15541.0, 16734.0, 16706.0, 17070.0, 12962.0, 13273.0, 17736.0, 15472.0, 16582.0, 17747.0, 15396.0, 16828.0, 14712.0, 12991.0, 14772.0, 12968.0, 16330.0, 15701.0, 14529.0, 16536.0, 15313.0, 15801.0, 16201.0, 16555.0, 16952.0, 14387.0, 17073.0, 18147.0, 14523.0, 14418.0, 16968.0, 16723.0, 13411.0, 16340.0, 13236.0, 14196.0, 15263.0, 14314.0, 16093.0, 14687.0, 14050.0, 16429.0, 14055.0, 15663.0, 18200.0, 18167.0, 13644.0, 17451.0, 16641.0, 14141.0, 15074.0, 17183.0, 15325.0, 13778.0, 14869.0, 14096.0, 14108.0, 15866.0, 14660.0, 13726.0, 15690.0, 17777.0, 16278.0, 13276.0, 13147.0, 13045.0, 13099.0, 14420.0, 14436.0, 18027.0, 12832.0, 16674.0, 16173.0, 14171.0, 13434.0, 16761.0, 14067.0, 13808.0, 12851.0, 14965.0, 15136.0, 16629.0, 18261.0, 15307.0, 16820.0, 17309.0, 13949.0, 14360.0, 16400.0, 14208.0, 13130.0, 13210.0, 17481.0, 17573.0, 14452.0, 13889.0, 15488.0, 18222.0, 13244.0, 17004.0, 13441.0, 13823.0, 12879.0, 16603.0, 14824.0, 16910.0, 15652.0, 16362.0, 15035.0, 14508.0, 13272.0, 17317.0, 14212.0, 13372.0, 18255.0, 14250.0, 16796.0, 14432.0, 15782.0, 12883.0, 12965.0, 15533.0, 18215.0, 18158.0, 13375.0, 13431.0, 16211.0, 12884.0, 16141.0, 17919.0, 16360.0, 17433.0, 13704.0, 14020.0, 14359.0, 16451.0, 12940.0, 15216.0, 15522.0, 17037.0, 12822.0, 15343.0, 14753.0, 16959.0, 18251.0, 13032.0, 12895.0, 17640.0, 13860.0, 18001.0, 17728.0, 15933.0, 14284.0, 17347.0, 15103.0, 15707.0, 13430.0, 13321.0, 13877.0, 15272.0, 15322.0, 17333.0, 13518.0, 14306.0, 17679.0, 16160.0, 15573.0, 14894.0, 17434.0, 15466.0, 15511.0, 17846.0, 16189.0, 15417.0, 12995.0, 14557.0, 16108.0, 17144.0, 16924.0, 15099.0, 13323.0, 14124.0, 15975.0, 15523.0, 16878.0, 15947.0, 13247.0, 13566.0, 18194.0, 16689.0, 16438.0, 13067.0, 16460.0, 13325.0, 13774.0, 15504.0, 15500.0, 17557.0, 13228.0, 14356.0, 13416.0, 17628.0, 16527.0, 16428.0, 15341.0, 16215.0, 14164.0, 15888.0, 17564.0, 13356.0, 18228.0, 17415.0, 13350.0, 16627.0, 17475.0, 14951.0, 14780.0, 14887.0, 15399.0, 17466.0, 16379.0, 17172.0, 15239.0, 16213.0, 15603.0, 14261.0, 15571.0, 15484.0, 12936.0, 16236.0, 16669.0, 15398.0, 12906.0, 17079.0, 14125.0, 17163.0, 12952.0, 13279.0, 16715.0, 13519.0, 15744.0, 13127.0, 15714.0, 17480.0, 15763.0, 15075.0, 16978.0, 14014.0, 16240.0, 13336.0, 14652.0, 15807.0, 15762.0, 15475.0, 15978.0, 16485.0, 13083.0, 16169.0, 17506.0, 16480.0, 17006.0, 17498.0, 17131.0, 13536.0, 15429.0, 17154.0, 16594.0, 16049.0, 14757.0, 16198.0, 13670.0, 18066.0, 14806.0, 13429.0, 15154.0, 13390.0, 12925.0, 13927.0, 18205.0, 14908.0, 13639.0, 15958.0, 15492.0, 15243.0, 16468.0, 15344.0, 13866.0, 16999.0, 13514.0, 13314.0, 17805.0, 18278.0, 13979.0, 16181.0, 15568.0, 16354.0, 14412.0, 16119.0, 14109.0, 16157.0, 15348.0, 16281.0, 13924.0, 14434.0, 13061.0, 17513.0, 16909.0, 16650.0, 18192.0, 17447.0, 17427.0, 15175.0, 13960.0, 17528.0, 16361.0, 13886.0, 13354.0, 15050.0, 13503.0, 16653.0, 16574.0, 13759.0, 17813.0, 15949.0, 13364.0, 16268.0, 18053.0, 16101.0, 15565.0, 18217.0, 13954.0, 15593.0, 13095.0, 15287.0, 13347.0, 15185.0, 16404.0, 16613.0, 16591.0, 15774.0, 13558.0, 16930.0, 16533.0, 18059.0, 14488.0, 16747.0, 14333.0, 13635.0, 17330.0, 17321.0, 14815.0, 15091.0, 15088.0, 15930.0, 16183.0, 13297.0, 13801.0, 16881.0, 17014.0, 15255.0, 14184.0, 13351.0, 15739.0, 17957.0, 15276.0, 15127.0, 16106.0, 17666.0, 13483.0, 16478.0, 17382.0, 16020.0, 17222.0, 16803.0, 13947.0, 16758.0, 17647.0, 14054.0, 18033.0, 13845.0, 15837.0, 13177.0, 14317.0, 16295.0, 13602.0, 16895.0, 17295.0, 13504.0, 13422.0, 15264.0, 16432.0, 14518.0, 13882.0, 15937.0, 12923.0, 17453.0, 15766.0, 15300.0, 13348.0, 14592.0, 14792.0, 17030.0, 14427.0, 13359.0, 14138.0, 15297.0, 13876.0, 17086.0, 13806.0, 18096.0, 13587.0, 12856.0, 13419.0, 17509.0, 16900.0, 13689.0, 13755.0, 16104.0, 13259.0, 16248.0, 15612.0, 15787.0, 16595.0, 13260.0, 15821.0, 18088.0, 16685.0, 13193.0, 13212.0, 14801.0, 16380.0, 16921.0, 15193.0, 14027.0, 16179.0, 15473.0, 17425.0, 18169.0, 18126.0, 16688.0, 16982.0, 15330.0, 17186.0, 13685.0, 16776.0, 13980.0, 13352.0, 15553.0, 15886.0, 17203.0, 17459.0, 16561.0, 14121.0, 17119.0, 17620.0, 12824.0, 14710.0, 16120.0, 14624.0, 16171.0, 13690.0, 17934.0, 14642.0, 16753.0, 17737.0, 13464.0, 14537.0, 17279.0, 14251.0, 14234.0, 14975.0, 13853.0, 16773.0, 16430.0, 16793.0, 18130.0, 17614.0, 13858.0, 14856.0, 14089.0, 15478.0, 16413.0, 16416.0, 13006.0, 17986.0, 14910.0, 16243.0, 13878.0, 16934.0, 15994.0, 14547.0, 16052.0, 15113.0, 16542.0, 18042.0, 16563.0, 17201.0, 17520.0, 13923.0, 16412.0, 17205.0, 17534.0, 15335.0, 16737.0, 15066.0, 17206.0, 17785.0, 16932.0, 16363.0, 14830.0, 17244.0, 15355.0, 15598.0, 15637.0, 16848.0, 15678.0, 14015.0, 13594.0, 15327.0, 14861.0, 14554.0, 14179.0, 15604.0, 14381.0, 16123.0, 16851.0, 17148.0, 17549.0, 17973.0, 15610.0, 15853.0, 18019.0, 14698.0, 16826.0, 17824.0, 15803.0, 15006.0, 17350.0, 14799.0, 15814.0, 16260.0, 14638.0, 17354.0, 13245.0, 14923.0, 16177.0, 13366.0, 16284.0, 16846.0, 14484.0, 13897.0, 14585.0, 17125.0, 15836.0, 16313.0, 13460.0, 14967.0, 15286.0, 17832.0, 16015.0, 16311.0, 15728.0, 15740.0, 13974.0, 15677.0, 15000.0, 16017.0, 13471.0, 13598.0, 18005.0, 15427.0, 15022.0, 17111.0, 17836.0, 14629.0, 15592.0, 15277.0, 16491.0, 15516.0, 14764.0, 16742.0, 15142.0, 17344.0, 18240.0, 17081.0, 14474.0, 14139.0, 15844.0, 13176.0, 15345.0, 16708.0, 15963.0, 18045.0, 13182.0, 15158.0, 13028.0, 13978.0, 16056.0, 16071.0, 14539.0, 14550.0, 17712.0, 14102.0, 14598.0, 15320.0, 16415.0, 12827.0, 16345.0, 15993.0, 17895.0, 15948.0, 15659.0, 18154.0, 13363.0, 18276.0, 17684.0, 17878.0, 14752.0, 16847.0, 14971.0, 17545.0, 16026.0, 16513.0, 14357.0, 16855.0, 16680.0, 18035.0, 16648.0, 16164.0, 14218.0, 15096.0, 18030.0, 14416.0, 17839.0, 16601.0, 12912.0, 13278.0, 14582.0, 15748.0, 16079.0, 17590.0, 15054.0, 14158.0, 15385.0, 16506.0, 13822.0, 18067.0, 16190.0, 15444.0, 13607.0, 15360.0, 13103.0, 15667.0, 13651.0, 16127.0, 15977.0, 13697.0, 14345.0, 17503.0, 16830.0, 17495.0, 14485.0, 13868.0, 15423.0, 17668.0, 16971.0, 16352.0, 16884.0, 15830.0, 14216.0, 15275.0, 16790.0, 15576.0, 18105.0, 18164.0, 14974.0, 17947.0, 13318.0, 18104.0, 13271.0, 17595.0, 14528.0, 17432.0, 16337.0, 14098.0, 15551.0, 16347.0, 13721.0, 16322.0, 17403.0, 16914.0, 16602.0, 13914.0, 13467.0, 17221.0, 17078.0, 13447.0, 15010.0, 18022.0, 16318.0, 17274.0, 15597.0, 17233.0, 16887.0, 13938.0, 17084.0, 14882.0, 15017.0, 12882.0, 17387.0, 13727.0, 13532.0, 16445.0, 15156.0, 16372.0, 17608.0, 14174.0, 14039.0, 13040.0, 15883.0, 14664.0, 15526.0, 17831.0, 15025.0, 17761.0, 15870.0, 14080.0, 17623.0, 13673.0, 14073.0, 16070.0, 13066.0, 14929.0, 13710.0, 16732.0, 14140.0, 17219.0, 16505.0, 15957.0, 18123.0, 15043.0, 17313.0, 18216.0, 17022.0, 15153.0, 16759.0, 16751.0, 12893.0, 14836.0, 17011.0, 17038.0, 14968.0, 16516.0, 13522.0, 15986.0, 13992.0, 14354.0, 16986.0, 16953.0, 18274.0, 15450.0, 15531.0, 17500.0, 17197.0, 16025.0, 17461.0, 17791.0, 15463.0, 17977.0, 14863.0, 16903.0, 17502.0, 17901.0, 14789.0, 18209.0, 12985.0, 15557.0, 16433.0, 15692.0, 17052.0, 16368.0, 18014.0, 13732.0, 13091.0, 14661.0, 13170.0, 15654.0, 13146.0, 14788.0, 13603.0, 14382.0, 16720.0, 14904.0, 14494.0, 14902.0, 16936.0, 12938.0, 15168.0, 17538.0, 18082.0, 18117.0, 15458.0, 17566.0, 16207.0, 17793.0, 14953.0, 16504.0, 15009.0, 16423.0, 15419.0, 17510.0, 15758.0, 15524.0, 14725.0, 14666.0, 14714.0, 17153.0, 12950.0, 15720.0, 18181.0, 15556.0, 17357.0, 12890.0, 13449.0, 15269.0, 14385.0, 15900.0, 17680.0, 13926.0, 16204.0, 17896.0, 17835.0, 15432.0, 18006.0, 15657.0, 17237.0, 13160.0, 12847.0, 17397.0, 17985.0, 14362.0, 13828.0, 15435.0, 14641.0, 15621.0, 18034.0, 17286.0, 17904.0, 17301.0, 15368.0, 14793.0, 17650.0, 14881.0, 16784.0, 14052.0, 18110.0, 17561.0, 15988.0, 17523.0, 14950.0, 16666.0, 14860.0, 17636.0, 13832.0, 13142.0, 16366.0, 14300.0, 15567.0, 15645.0, 16406.0, 15857.0, 12984.0, 17253.0, 13739.0, 18139.0, 15274.0, 17010.0, 15115.0, 17100.0, 15699.0, 13403.0, 16956.0, 17600.0, 15877.0, 14424.0, 13322.0, 17297.0, 13986.0, 12920.0, 18249.0, 15634.0, 16376.0, 16811.0, 14581.0, 14675.0, 17290.0, 16343.0, 13638.0, 16482.0, 17458.0, 14785.0, 17254.0, 17767.0, 15725.0, 17247.0, 18184.0, 15428.0, 17727.0, 14756.0, 16856.0, 14703.0, 17385.0, 15872.0, 14966.0, 17232.0, 17468.0, 13332.0, 14946.0, 13256.0, 13596.0, 16024.0, 14954.0, 17885.0, 14093.0, 14893.0, 15721.0, 17852.0, 13844.0, 15540.0, 17379.0, 16800.0, 17806.0, 17359.0, 13188.0, 14480.0, 13349.0, 15619.0, 15148.0, 14601.0, 15783.0, 17772.0, 14126.0, 16479.0, 13428.0, 15790.0, 13521.0, 14349.0, 18058.0, 12953.0, 12966.0, 15060.0, 17911.0, 14804.0, 15904.0, 16789.0, 17942.0, 13560.0, 15539.0, 13017.0, 18174.0, 13153.0, 15773.0, 17936.0, 16535.0, 16988.0, 15097.0, 18015.0, 16597.0, 13790.0, 14219.0, 17383.0, 15992.0, 15318.0, 17914.0, 16528.0, 16569.0, 14578.0, 16000.0, 15195.0, 14087.0, 14204.0, 15471.0, 13436.0, 15520.0, 13298.0, 14569.0], \"xaxis\": \"x\", \"y\": [2.097649429270238, -0.5964864928332803, 0.04212350351718342, 2.377041302673566, -0.6563561799911362, -0.8359652414647041, -0.7561389919208961, -0.905813209815536, -0.885856647429584, -0.03770274602662453, 2.81608567516451, -0.41687743135971234, -0.5266385244824483, 1.6885399003582224, -0.885856647429584, 1.2594738090602546, -0.8359652414647041, 2.81608567516451, -0.89583492862256, -0.89583492862256, -0.905813209815536, -0.7461607107279201, -0.8359652414647041, -0.6064647740262562, -0.6164430552192321, 0.17184115902587135, -0.02772446483364854, 2.81608567516451, -0.8758783662366081, -0.5765299304473283, -0.8758783662366081, 2.81608567516451, 2.377041302673566, -0.7960521166928001, -0.8758783662366081, -0.6962693047630402, -0.6962693047630402, 2.81608567516451, -0.89583492862256, 0.8104511553763349, -0.6763127423770882, 1.5089308388846545, -0.3470294630088804, -0.5166602432894722, 2.81608567516451, -0.905813209815536, -0.37696430658780833, 0.9401688108850229, -0.20733352630721644, 0.10199319067503938, -0.4567905561316163, -0.89583492862256, 2.806107393971534, -0.20733352630721644, -0.6164430552192321, 0.9301905296920469, 2.806107393971534, -0.5565733680613763, -0.8359652414647041, 2.7961291127785577, -0.84594352265768, 2.806107393971534, 0.0720583470961114, -0.89583492862256, -0.8758783662366081, 2.806107393971534, -0.11752899557043249, 1.7484095875160783, -0.8758783662366081, -0.89583492862256, -0.6962693047630402, -0.11752899557043249, -0.05765930841257652, 2.806107393971534, 2.1974322411999982, -0.8758783662366081, -0.885856647429584, -0.30711633823697637, -0.905813209815536, -0.6164430552192321, 0.5210810007800312, -0.12750727676340848, -0.7960521166928001, 2.806107393971534, -0.6363996176051842, 2.806107393971534, -0.905813209815536, 0.36142850169241525, 1.2594738090602546, -0.8160086790787521, 2.806107393971534, -0.825986960271728, -0.905813209815536, -0.7960521166928001, 1.8881055242177422, -0.8359652414647041, 2.806107393971534, 2.806107393971534, -0.5166602432894722, 2.806107393971534, -0.825986960271728, 2.806107393971534, -0.6962693047630402, -0.885856647429584, -0.89583492862256, 2.806107393971534, -0.8060303978857761, -0.7960521166928001, -0.8359652414647041, 0.9800819356569269, -0.825986960271728, -0.8060303978857761, -0.7960521166928001, -0.6763127423770882, 2.806107393971534, 1.1996041219023987, -0.6264213364122082, -0.8160086790787521, 1.9878883361475024, 0.0820366282890874, -0.8758783662366081, 0.830407717762287, -0.865900085043632, 2.806107393971534, 2.806107393971534, -0.6563561799911362, 1.4889742764987026, 0.5709724067449111, -0.825986960271728, -0.7262041483419681, -0.6962693047630402, -0.825986960271728, -0.18737696392126443, -0.8060303978857761, -0.6962693047630402, -0.6763127423770882, -0.5964864928332803, -0.6264213364122082, -0.6663344611841122, 2.7961291127785577, -0.0975724331844805, 2.187453960007022, 2.7961291127785577, -0.7262041483419681, -0.8060303978857761, 2.726281144427726, 2.7961291127785577, -0.39692086897376033, -0.6862910235700641, -0.7461607107279201, -0.905813209815536, 1.1996041219023987, -0.6962693047630402, 2.446889271024398, -0.84594352265768, -0.8758783662366081, -0.3270729006229284, -0.8758783662366081, 0.8603425613412149, -0.3370511818159044, -0.6463778987981602, -0.7561389919208961, -0.6264213364122082, -0.885856647429584, -0.84594352265768, -0.3370511818159044, -0.8758783662366081, -0.21731180750019244, -0.8758783662366081, -0.24724665107912042, 0.6607769374816951, 2.7961291127785577, -0.37696430658780833, 2.7961291127785577, 0.35145022049943925, 0.840385998955263, -0.905813209815536, 0.9301905296920469, 2.7961291127785577, -0.905813209815536, 0.780516311797407, 0.630842093902767, 2.676389738462846, 2.7961291127785577, 1.3093652150251347, 1.2694520902532307, 2.7961291127785577, -0.5166602432894722, -0.89583492862256, -0.84594352265768, -0.7361824295349442, -0.5266385244824483, -0.4867253997105443, -0.10755071437745649, -0.7062475859560161, 0.8802991237271669, -0.7561389919208961, -0.5266385244824483, 2.7961291127785577, -0.885856647429584, 2.7961291127785577, -0.4667688373245923, -0.885856647429584, 2.736259425620702, 0.9501470920779989, -0.865900085043632, -0.865900085043632, 2.7961291127785577, -0.89583492862256, 2.7961291127785577, -0.6663344611841122, -0.8758783662366081, -0.8758783662366081, -0.905813209815536, -0.007767902447696552, -0.2771814946580484, -0.8758783662366081, -0.905813209815536, 2.786150831585582, 0.6108855315168151, -0.8160086790787521, -0.865900085043632, -0.19735524511424044, -0.8359652414647041, -0.38694258778078433, -0.6763127423770882, -0.885856647429584, -0.84594352265768, -0.2672032134650724, -0.6862910235700641, 2.097649429270238, -0.2771814946580484, -0.905813209815536, -0.37696430658780833, -0.905813209815536, -0.7162258671489922, -0.5066819620964963, -0.885856647429584, -0.8559218038506561, -0.8559218038506561, -0.7960521166928001, -0.84594352265768, -0.4867253997105443, -0.89583492862256, -0.905813209815536, -0.8160086790787521, -0.4368339937456643, -0.825986960271728, -0.8060303978857761, -0.865900085043632, -0.7760955543068481, -0.905813209815536, 2.776172550392606, 2.2173888035859504, -0.5066819620964963, -0.8758783662366081, -0.8060303978857761, -0.7561389919208961, 2.1974322411999982, -0.5166602432894722, 0.5410375631659832, -0.7860738354998241, 2.736259425620702, -0.7860738354998241, -0.6164430552192321, -0.7760955543068481, -0.6463778987981602, 0.9301905296920469, -0.84594352265768, 2.7661942691996297, 2.7661942691996297, 2.1375625540421423, -0.8559218038506561, -0.89583492862256, 1.2395172466743027, -0.3270729006229284, -0.7262041483419681, 1.7284530251301264, -0.885856647429584, -0.865900085043632, -0.7262041483419681, 1.6087136508144144, -0.865900085043632, -0.7461607107279201, -0.7960521166928001, -0.3669860253948323, 0.650798656288719, -0.7661172731138721, -0.885856647429584, -0.7461607107279201, -0.89583492862256, -0.7561389919208961, 1.7484095875160783, -0.5366168056754242, -0.5765299304473283, -0.7661172731138721, -0.7561389919208961, -0.7960521166928001, -0.89583492862256, -0.4567905561316163, -0.905813209815536, -0.89583492862256, 2.736259425620702, -0.885856647429584, -0.885856647429584, -0.6264213364122082, -0.6862910235700641, -0.17739868272828846, -0.7062475859560161, 2.7661942691996297, -0.905813209815536, 2.6564331760768938, -0.7262041483419681, -0.8160086790787521, -0.7162258671489922, 1.9080620866036944, -0.5066819620964963, -0.89583492862256, -0.30711633823697637, 0.9401688108850229, 0.35145022049943925, -0.7661172731138721, -0.2672032134650724, -0.40689915016673633, -0.885856647429584, -0.6563561799911362, -0.8758783662366081, 2.7661942691996297, -0.6862910235700641, -0.84594352265768, -0.89583492862256, 2.7661942691996297, -0.5865082116403042, -0.8359652414647041, 0.6408203750957431, 0.5609941255519351, -0.8060303978857761, -0.6463778987981602, -0.7461607107279201, 1.0698864663937109, -0.8060303978857761, -0.7262041483419681, 0.17184115902587135, -0.885856647429584, -0.8160086790787521, 2.756215988006654, -0.7960521166928001, -0.6064647740262562, 2.177475678814046, -0.885856647429584, -0.8060303978857761, -0.6363996176051842, -0.885856647429584, -0.20733352630721644, 0.49114615720110316, -0.3170946194299524, 2.756215988006654, -0.4567905561316163, -0.8359652414647041, -0.7461607107279201, -0.8758783662366081, -0.7860738354998241, -0.7960521166928001, -0.8359652414647041, 0.0820366282890874, -0.8160086790787521, -0.865900085043632, 0.15188459663991935, 0.5210810007800312, 2.1974322411999982, -0.825986960271728, 2.157519116428094, -0.8359652414647041, -0.885856647429584, -0.4667688373245923, 0.820429436569311, 2.436910989831422, -0.885856647429584, -0.89583492862256, -0.2572249322720964, -0.6563561799911362, -0.5266385244824483, -0.825986960271728, -0.89583492862256, 2.047758023305358, -0.865900085043632, 1.6286702132003665, 2.756215988006654, -0.905813209815536, -0.885856647429584, -0.7461607107279201, -0.905813209815536, -0.885856647429584, -0.7461607107279201, -0.5465950868684002, 0.2416891273767033, -0.7461607107279201, -0.8160086790787521, -0.905813209815536, -0.89583492862256, -0.8758783662366081, -0.3270729006229284, 2.7462377068136776, -0.7062475859560161, -0.8758783662366081, -0.7561389919208961, 2.7462377068136776, -0.89583492862256, -0.825986960271728, -0.8060303978857761, -0.8160086790787521, 1.2195606842883506, -0.3470294630088804, -0.18737696392126443, -0.885856647429584, 2.7462377068136776, 2.7462377068136776, -0.6962693047630402, -0.905813209815536, -0.7361824295349442, -0.89583492862256, 2.7462377068136776, -0.6264213364122082, -0.905813209815536, -0.885856647429584, -0.825986960271728, -0.865900085043632, -0.905813209815536, -0.89583492862256, -0.905813209815536, -0.5964864928332803, -0.8359652414647041, -0.7561389919208961, 2.377041302673566, -0.885856647429584, -0.6164430552192321, -0.3270729006229284, -0.8758783662366081, -0.89583492862256, -0.8758783662366081, -0.3570077442018563, -0.89583492862256, -0.4567905561316163, -0.7661172731138721, -0.18737696392126443, -0.865900085043632, 1.4390828705338226, -0.905813209815536, -0.7262041483419681, 2.7462377068136776, -0.6862910235700641, -0.6663344611841122, -0.885856647429584, 0.04212350351718342, -0.7361824295349442, 0.650798656288719, -0.905813209815536, -0.7561389919208961, -0.20733352630721644, -0.3170946194299524, 1.6386484943933426, -0.5166602432894722, -0.6962693047630402, -0.905813209815536, 0.710668343446575, -0.6663344611841122, -0.89583492862256, -0.39692086897376033, -0.8359652414647041, -0.6663344611841122, -0.8758783662366081, 2.736259425620702, 2.6564331760768938, -0.89583492862256, 0.5909289691308631, -0.5865082116403042, 2.736259425620702, -0.7561389919208961, 0.2915805333415833, -0.825986960271728, 1.6486267755863184, -0.19735524511424044, 2.736259425620702, -0.825986960271728, -0.8060303978857761, -0.905813209815536, -0.825986960271728, 1.1297561535515668, 0.002210378745279442, 0.16186287783289535, 0.5111027195870551, -0.5465950868684002, 2.736259425620702, -0.825986960271728, -0.6463778987981602, -0.03770274602662453, -0.7361824295349442, 2.736259425620702, -0.7561389919208961, -0.825986960271728, -0.8359652414647041, -0.8060303978857761, -0.825986960271728, -0.825986960271728, -0.8359652414647041, 1.2095824030953748, 0.5111027195870551, 0.3913633452713432, -0.6663344611841122, -0.89583492862256, -0.865900085043632, 1.6586050567792945, -0.825986960271728, 2.61652005130499, -0.885856647429584, -0.7960521166928001, -0.7561389919208961, 2.736259425620702, -0.905813209815536, 1.1297561535515668, -0.8359652414647041, 0.04212350351718342, 1.6186919320073905, 2.726281144427726, -0.5865082116403042, 0.9401688108850229, 2.726281144427726, -0.2572249322720964, -0.8758783662366081, -0.905813209815536, -0.8060303978857761, -0.6164430552192321, -0.84594352265768, -0.5266385244824483, -0.4867253997105443, 2.726281144427726, 2.726281144427726, -0.6663344611841122, -0.5465950868684002, -0.8758783662366081, -0.7461607107279201, -0.7561389919208961, 1.2694520902532307, -0.7062475859560161, 2.347106459094638, 0.02216694113123143, -0.825986960271728, 2.676389738462846, 0.2816022521486073, -0.905813209815536, 2.626498332497966, 2.726281144427726, -0.825986960271728, -0.6264213364122082, -0.19735524511424044, -0.885856647429584, 2.726281144427726, 2.726281144427726, -0.7461607107279201, -0.5266385244824483, -0.7461607107279201, -0.41687743135971234, 0.8104511553763349, -0.5665516492543522, -0.3170946194299524, 0.0920149094820634, 1.3293217774110866, -0.6264213364122082, -0.8359652414647041, -0.825986960271728, -0.905813209815536, -0.8758783662366081, -0.84594352265768, -0.905813209815536, -0.6862910235700641, -0.5366168056754242, -0.5565733680613763, -0.865900085043632, -0.825986960271728, 2.726281144427726, 0.15188459663991935, -0.6463778987981602, -0.8060303978857761, 2.726281144427726, 2.177475678814046, 2.726281144427726, -0.6962693047630402, 0.840385998955263, 1.6186919320073905, -0.8758783662366081, -0.8160086790787521, -0.23726836988614441, -0.89583492862256, 0.2217325649907513, -0.8559218038506561, -0.6264213364122082, -0.885856647429584, -0.39692086897376033, 2.1974322411999982, 2.7163028632347497, -0.7960521166928001, -0.15744212034233646, -0.6064647740262562, -0.6763127423770882, 2.7163028632347497, -0.865900085043632, -0.8160086790787521, -0.7361824295349442, -0.5964864928332803, -0.825986960271728, 2.706324582041774, 2.706324582041774, -0.7960521166928001, -0.7162258671489922, 0.6009072503238391, 2.6564331760768938, -0.7860738354998241, -0.7860738354998241, -0.5066819620964963, -0.5465950868684002, 0.5111027195870551, -0.4667688373245923, 1.5388656824635825, 0.31153709572753524, -0.885856647429584, -0.6563561799911362, -0.8060303978857761, -0.84594352265768, -0.5465950868684002, 2.696346300848798, 2.696346300848798, -0.12750727676340848, 2.696346300848798, 2.696346300848798, -0.7262041483419681, -0.825986960271728, -0.8758783662366081, -0.8559218038506561, -0.7461607107279201, 0.6208638127097911, -0.8160086790787521, -0.885856647429584, 2.696346300848798, 0.2816022521486073, -0.8060303978857761, -0.6164430552192321, -0.8160086790787521, -0.4867253997105443, -0.8758783662366081, -0.825986960271728, 0.2416891273767033, 1.4490611517267986, -0.6763127423770882, -0.7461607107279201, -0.7960521166928001, -0.6962693047630402, 0.04212350351718342, -0.6563561799911362, 2.6863680196558217, -0.39692086897376033, -0.8758783662366081, 0.8603425613412149, 2.6863680196558217, -0.8359652414647041, 2.307193334322734, 0.9800819356569269, -0.7461607107279201, 0.740603187025503, -0.89583492862256, -0.8160086790787521, 1.4889742764987026, -0.825986960271728, -0.5964864928332803, 0.46121131362217516, 2.6863680196558217, 2.307193334322734, 1.4690177141127505, 2.6863680196558217, -0.89583492862256, -0.6862910235700641, -0.5665516492543522, -0.825986960271728, -0.5964864928332803, 2.6863680196558217, 1.000038498042879, -0.8060303978857761, -0.6463778987981602, -0.885856647429584, 0.0920149094820634, 2.6863680196558217, 1.8182575558669103, -0.6763127423770882, -0.885856647429584, -0.6563561799911362, -0.8758783662366081, 2.6863680196558217, -0.885856647429584, -0.885856647429584, -0.5964864928332803, -0.905813209815536, -0.8359652414647041, -0.6962693047630402, -0.24724665107912042, 0.820429436569311, 0.15188459663991935, -0.7960521166928001, -0.8060303978857761, 2.297215053129758, -0.5865082116403042, -0.6563561799911362, -0.865900085043632, -0.6663344611841122, -0.8758783662366081, -0.825986960271728, -0.8559218038506561, -0.5565733680613763, -0.8060303978857761, -0.02772446483364854, -0.905813209815536, 1.000038498042879, -0.89583492862256, 1.7184747439371504, -0.89583492862256, 0.6408203750957431, 2.676389738462846, -0.84594352265768, -0.7262041483419681, -0.6164430552192321, -0.20733352630721644, -0.905813209815536, -0.825986960271728, -0.05765930841257652, 1.4789959953057266, -0.3170946194299524, 0.35145022049943925, -0.885856647429584, -0.6962693047630402, 2.66641145726987, 2.66641145726987, -0.5565733680613763, 0.13192803425396737, -0.017746183640672545, -0.3170946194299524, 1.9080620866036944, -0.20733352630721644, -0.5665516492543522, -0.7461607107279201, 0.740603187025503, -0.865900085043632, 2.66641145726987, -0.8160086790787521, -0.825986960271728, 2.66641145726987, -0.6064647740262562, -0.8060303978857761, 0.9900602168499029, -0.40689915016673633, 0.14190631544694335, 2.66641145726987, -0.7361824295349442, -0.2771814946580484, -0.905813209815536, -0.905813209815536, 1.4590394329197747, -0.6164430552192321, -0.7561389919208961, 1.7783444310950065, -0.38694258778078433, -0.7461607107279201, -0.7461607107279201, -0.905813209815536, -0.39692086897376033, 0.002210378745279442, -0.825986960271728, 0.6408203750957431, -0.865900085043632, -0.7860738354998241, -0.6264213364122082, 0.14190631544694335, -0.8758783662366081, -0.8160086790787521, -0.905813209815536, 0.770538030604431, -0.8359652414647041, -0.825986960271728, -0.7661172731138721, -0.8758783662366081, -0.8758783662366081, -0.2771814946580484, -0.41687743135971234, 2.6564331760768938, -0.7062475859560161, -0.89583492862256, 1.6087136508144144, -0.8758783662366081, 1.2594738090602546, 2.6564331760768938, 2.61652005130499, -0.16742040153531246, -0.8758783662366081, -0.885856647429584, -0.89583492862256, -0.6663344611841122, 0.11197147186801538, -0.8758783662366081, -0.7461607107279201, -0.6962693047630402, 0.780516311797407, -0.825986960271728, 1.5488439636565585, 2.6564331760768938, 0.8104511553763349, -0.10755071437745649, 2.147540835235118, 1.0599081852007348, -0.7960521166928001, -0.84594352265768, -0.6962693047630402, -0.3270729006229284, -0.885856647429584, 0.9202122484990709, -0.905813209815536, -0.885856647429584, 2.646454894883918, -0.7262041483419681, -0.40689915016673633, 2.646454894883918, 2.646454894883918, 0.31153709572753524, -0.825986960271728, -0.7661172731138721, -0.3270729006229284, 0.12194975306099137, 2.1076277104632144, -0.4468122749386403, -0.84594352265768, 2.626498332497966, 2.626498332497966, -0.41687743135971234, -0.5565733680613763, -0.16742040153531246, -0.7561389919208961, -0.8758783662366081, -0.885856647429584, 0.770538030604431, 0.2217325649907513, -0.7062475859560161, -0.8758783662366081, 2.61652005130499, -0.7262041483419681, -0.8359652414647041, 2.61652005130499, -0.7561389919208961, -0.905813209815536, -0.8060303978857761, -0.8758783662366081, -0.6064647740262562, 2.6065417701120137, -0.3370511818159044, 0.34147193930646325, -0.8758783662366081, -0.84594352265768, -0.6663344611841122, -0.6164430552192321, 2.207410522392974, 1.4390828705338226, 2.596563488919038, -0.41687743135971234, 2.596563488919038, -0.4567905561316163, 2.586585207726062, -0.6962693047630402, -0.2771814946580484, 2.476824114603326, -0.8758783662366081, -0.2771814946580484, -0.18737696392126443, -0.905813209815536, -0.2272900886931684, 0.35145022049943925, -0.8359652414647041, -0.49670368090352024, -0.7262041483419681, 0.650798656288719, -0.905813209815536, -0.2771814946580484, 0.5111027195870551, -0.6862910235700641, -0.8758783662366081, 2.2473236471648783, -0.7361824295349442, 2.456867552217374, -0.905813209815536, -0.5865082116403042, 0.17184115902587135, -0.825986960271728, 0.34147193930646325, 2.456867552217374, -0.5266385244824483, 0.8104511553763349, -0.6862910235700641, -0.825986960271728, -0.5865082116403042, 1.6486267755863184, -0.5565733680613763, -0.5765299304473283, 0.9900602168499029, -0.8758783662366081, -0.20733352630721644, 0.730624905832527, -0.4468122749386403, 0.3015588145345593, -0.7361824295349442, -0.7960521166928001, 2.446889271024398, 1.0199950604288308, 1.0499299040077588, 0.04212350351718342, 1.0299733416218069, 0.730624905832527, -0.37696430658780833, 2.446889271024398, 1.4789959953057266, 0.9301905296920469, -0.8758783662366081, -0.825986960271728, -0.3170946194299524, -0.17739868272828846, 2.436910989831422, 1.4291045893408465, 0.16186287783289535, 0.3015588145345593, -0.8359652414647041, -0.6962693047630402, -0.2771814946580484, -0.8160086790787521, -0.8559218038506561, -0.5066819620964963, -0.8559218038506561, 2.426932708638446, -0.3270729006229284, -0.7162258671489922, -0.12750727676340848, -0.905813209815536, -0.5465950868684002, -0.7361824295349442, -0.8160086790787521, -0.8160086790787521, -0.7262041483419681, -0.15744212034233646, 2.41695442744547, -0.6563561799911362, -0.885856647429584, -0.3270729006229284, -0.7062475859560161, -0.8758783662366081, 2.41695442744547, -0.8060303978857761, 2.41695442744547, 1.2594738090602546, 2.0876711480772623, -0.39692086897376033, -0.4767471185175683, -0.41687743135971234, -0.6563561799911362, -0.3270729006229284, -0.30711633823697637, 1.1497127159375187, 0.21175428379777533, 2.406976146252494, 2.406976146252494, 2.406976146252494, -0.5066819620964963, -0.5166602432894722, 1.039951622814783, -0.7860738354998241, -0.905813209815536, 1.4989525576916787, 2.1974322411999982, -0.2771814946580484, 1.4291045893408465, -0.8060303978857761, 0.12194975306099137, 2.396997865059518, -0.8160086790787521, -0.7361824295349442, -0.6264213364122082, -0.5066819620964963, 2.396997865059518, -0.7361824295349442, -0.84594352265768, -0.885856647429584, -0.017746183640672545, -0.7262041483419681, -0.6663344611841122, 2.3870195838665422, -0.5066819620964963, -0.30711633823697637, 2.327149896708686, -0.5266385244824483, 0.2317108461837273, -0.905813209815536, 2.307193334322734, -0.865900085043632, -0.825986960271728, -0.4767471185175683, 1.000038498042879, -0.5964864928332803, 1.8182575558669103, 2.3870195838665422, 2.3870195838665422, -0.19735524511424044, -0.3170946194299524, 2.3870195838665422, -0.6763127423770882, -0.7361824295349442, -0.825986960271728, -0.18737696392126443, 2.377041302673566, -0.16742040153531246, 2.26728020955083, -0.40689915016673633, 2.377041302673566, -0.865900085043632, -0.825986960271728, -0.905813209815536, -0.3669860253948323, -0.7860738354998241, -0.03770274602662453, -0.40689915016673633, -0.6563561799911362, -0.7860738354998241, -0.7760955543068481, -0.6563561799911362, -0.5865082116403042, -0.4867253997105443, -0.3270729006229284, -0.5066819620964963, -0.03770274602662453, -0.3470294630088804, -0.5765299304473283, -0.5865082116403042, 2.347106459094638, -0.4767471185175683, -0.7960521166928001, -0.885856647429584, -0.8758783662366081, -0.17739868272828846, 2.337128177901662, -0.885856647429584, 0.770538030604431, -0.7361824295349442, 2.337128177901662, 2.337128177901662, -0.8359652414647041, -0.905813209815536, 2.337128177901662, -0.5066819620964963, 1.4291045893408465, 2.337128177901662, 2.337128177901662, 0.47118959481515116, 1.9579534925685742, 2.337128177901662, 2.327149896708686, -0.905813209815536, -0.84594352265768, 0.9601253732709749, 2.327149896708686, -0.3470294630088804, -0.3370511818159044, -0.825986960271728, -0.20733352630721644, -0.89583492862256, -0.885856647429584, -0.7461607107279201, -0.6563561799911362, 0.20177600260479933, -0.49670368090352024, 1.8881055242177422, 2.31717161551571, 2.31717161551571, -0.905813209815536, -0.3470294630088804, 2.307193334322734, 1.3991697457619185, -0.6862910235700641, 2.307193334322734, -0.8359652414647041, 1.1397344347445428, 2.307193334322734, -0.6064647740262562, 1.3592566209900145, -0.8160086790787521, 2.257301928357854, 0.45123303242919915, -0.84594352265768, 1.1996041219023987, -0.905813209815536, 2.287236771936782, 0.47118959481515116, -0.7860738354998241, 0.890277404920143, -0.6862910235700641, 1.0499299040077588, 2.287236771936782, -0.89583492862256, 0.18181944021884733, -0.7461607107279201, -0.905813209815536, 2.2772584907438063, -0.8160086790787521, 2.2772584907438063, -0.7361824295349442, 2.097649429270238, -0.2771814946580484, 2.2772584907438063, -0.885856647429584, -0.8160086790787521, 2.2772584907438063, -0.28715977585102437, -0.7561389919208961, -0.6962693047630402, -0.89583492862256, -0.39692086897376033, -0.3270729006229284, 2.26728020955083, 0.21175428379777533, 2.26728020955083, 2.26728020955083, 2.26728020955083, 2.207410522392974, -0.19735524511424044, 0.032145222324207426, -0.40689915016673633, -0.8060303978857761, -0.6763127423770882, -0.885856647429584, -0.6862910235700641, 2.26728020955083, -0.12750727676340848, -0.21731180750019244, -0.3370511818159044, -0.825986960271728, 2.257301928357854, -0.2572249322720964, 2.257301928357854, -0.4667688373245923, -0.5565733680613763, 1.1996041219023987, -0.6064647740262562, -0.5865082116403042, 2.257301928357854, 2.257301928357854, -0.8758783662366081, -0.2771814946580484, 0.5909289691308631, -0.17739868272828846, -0.7461607107279201, -0.5465950868684002, 0.15188459663991935, 1.1996041219023987, 2.257301928357854, 1.5089308388846545, -0.4767471185175683, -0.7361824295349442, 1.2694520902532307, -0.905813209815536, -0.12750727676340848, -0.06763758960555252, 2.237345365971902, -0.5565733680613763, 0.6009072503238391, -0.5465950868684002, -0.6962693047630402, -0.4667688373245923, -0.4268557125526883, -0.24724665107912042, -0.825986960271728, -0.13748555795638448, -0.905813209815536, -0.8758783662366081, -0.23726836988614441, -0.8060303978857761, -0.6064647740262562, -0.5266385244824483, -0.825986960271728, -0.4867253997105443, -0.6164430552192321, 2.237345365971902, -0.14746383914936048, -0.6962693047630402, -0.6264213364122082, -0.3570077442018563, 1.8282358370598863, 0.012188659938255436, -0.2572249322720964, 0.16186287783289535, -0.4867253997105443, 0.2217325649907513, 0.3813850640783672, -0.89583492862256, -0.825986960271728, -0.06763758960555252, -0.6563561799911362, 1.7484095875160783, -0.8758783662366081, -0.7760955543068481, -0.7661172731138721, 2.06771458569131, -0.2272900886931684, -0.7162258671489922, 2.207410522392974, 2.207410522392974, 2.207410522392974, -0.7561389919208961, -0.7162258671489922, 2.207410522392974, -0.6663344611841122, -0.5166602432894722, -0.7860738354998241, -0.7361824295349442, -0.3270729006229284, -0.8359652414647041, -0.40689915016673633, 2.097649429270238, -0.7860738354998241, 2.1974322411999982, 0.15188459663991935, 1.2494955278672788, 0.2416891273767033, 2.1974322411999982, -0.6663344611841122, -0.6862910235700641, -0.885856647429584, -0.5865082116403042, 2.1974322411999982, 2.1974322411999982, -0.3270729006229284, -0.6862910235700641, -0.047681027219600526, -0.6264213364122082, 2.1974322411999982, 0.3015588145345593, 0.21175428379777533, 1.5388656824635825, -0.6563561799911362, -0.39692086897376033, 1.0798647475866867, 2.187453960007022, -0.6663344611841122, -0.4667688373245923, -0.20733352630721644, -0.6064647740262562, 1.7484095875160783, 2.187453960007022, -0.7461607107279201, -0.30711633823697637, 2.187453960007022, 1.6087136508144144, 2.187453960007022, 0.032145222324207426, 2.187453960007022, 0.18181944021884733, -0.825986960271728, -0.5465950868684002, 0.31153709572753524, 1.5488439636565585, -0.6962693047630402, -0.5865082116403042, 2.0876711480772623, -0.7561389919208961, -0.825986960271728, -0.10755071437745649, -0.3270729006229284, 0.850364280148239, -0.38694258778078433, -0.6064647740262562, -0.8060303978857761, 0.5909289691308631, 2.097649429270238, -0.825986960271728, 0.2816022521486073, 1.4690177141127505, -0.89583492862256, -0.8359652414647041, 2.177475678814046, -0.6463778987981602, 2.177475678814046, -0.4767471185175683, 2.1674973976210703, -0.8160086790787521, -0.05765930841257652, 0.012188659938255436, 2.0876711480772623, 1.6985181815511985, -0.3270729006229284, 2.0876711480772623, -0.6862910235700641, -0.825986960271728, -0.8060303978857761, 0.35145022049943925, 2.1674973976210703, 2.1674973976210703, -0.8060303978857761, -0.41687743135971234, -0.84594352265768, -0.21731180750019244, 1.2694520902532307, 2.157519116428094, 2.157519116428094, -0.3270729006229284, -0.3470294630088804, -0.865900085043632, -0.5665516492543522, 2.147540835235118, 0.670755218674671, 2.1375625540421423, 2.1375625540421423, -0.6663344611841122, -0.7561389919208961, 2.1375625540421423, -0.7661172731138721, -0.6862910235700641, -0.0975724331844805, 0.6208638127097911, -0.6264213364122082, 0.052101784710159416, -0.5765299304473283, 0.5909289691308631, -0.6363996176051842, 1.8481923994458385, -0.19735524511424044, 2.127584272849166, 2.127584272849166, -0.8758783662366081, 0.31153709572753524, 0.5809506879378871, 1.8182575558669103, 2.1176059916561902, 2.1176059916561902, 0.17184115902587135, 2.1176059916561902, -0.8060303978857761, -0.6164430552192321, 2.1076277104632144, 2.1076277104632144, -0.4268557125526883, -0.84594352265768, 2.06771458569131, -0.5565733680613763, 1.5488439636565585, 0.012188659938255436, 0.002210378745279442, 1.1896258407094227, 2.097649429270238, -0.2771814946580484, -0.905813209815536, -0.3470294630088804, -0.6164430552192321, 0.36142850169241525, -0.885856647429584, 0.06208006590313541, 1.1297561535515668, -0.6264213364122082, -0.8758783662366081, -0.6064647740262562, 2.0876711480772623, 1.3093652150251347, 2.0876711480772623, 2.0876711480772623, -0.37696430658780833, -0.7361824295349442, -0.7561389919208961, 0.3813850640783672, -0.6264213364122082, 0.04212350351718342, -0.8359652414647041, 0.9900602168499029, -0.5066819620964963, 2.06771458569131, -0.2572249322720964, -0.40689915016673633, -0.7062475859560161, 2.06771458569131, 0.9900602168499029, -0.5964864928332803, -0.4268557125526883, -0.825986960271728, -0.6862910235700641, -0.41687743135971234, -0.8758783662366081, 2.0577363044983343, -0.06763758960555252, -0.38694258778078433, -0.7661172731138721, 2.0577363044983343, -0.6264213364122082, -0.6064647740262562, 0.2915805333415833, 1.2095824030953748, 0.2816022521486073, 1.9978666173404782, -0.7162258671489922, 2.01782317972643, -0.8359652414647041, -0.12750727676340848, 2.047758023305358, 2.047758023305358, -0.6563561799911362, 2.047758023305358, -0.6264213364122082, -0.19735524511424044, 0.4212981888502712, -0.16742040153531246, 2.047758023305358, -0.3270729006229284, 2.037779742112382, -0.7561389919208961, -0.4767471185175683, -0.5266385244824483, -0.7561389919208961, 1.5388656824635825, -0.7661172731138721, -0.4667688373245923, 1.1097995911656149, 0.6607769374816951, -0.8160086790787521, -0.6164430552192321, 2.0278014609194064, -0.4767471185175683, -0.38694258778078433, 2.0278014609194064, 0.16186287783289535, 1.9779100549545263, -0.2572249322720964, -0.825986960271728, -0.19735524511424044, 0.13192803425396737, -0.5465950868684002, -0.905813209815536, 2.0278014609194064, 0.2516674085696793, 0.840385998955263, 2.01782317972643, -0.7661172731138721, -0.7661172731138721, 0.9401688108850229, -0.5765299304473283, -0.8160086790787521, 0.820429436569311, 0.12194975306099137, 0.7006900622535991, 0.032145222324207426, 1.9978666173404782, -0.7661172731138721, -0.0975724331844805, -0.41687743135971234, -0.4268557125526883, -0.16742040153531246, -0.4268557125526883, -0.5366168056754242, -0.5366168056754242, 1.6286702132003665, 0.730624905832527, -0.825986960271728, 1.9878883361475024, -0.24724665107912042, -0.5565733680613763, -0.89583492862256, 0.3015588145345593, -0.11752899557043249, -0.18737696392126443, -0.5565733680613763, 1.9878883361475024, 1.9779100549545263, 1.9779100549545263, 1.9779100549545263, 1.7484095875160783, -0.7661172731138721, 0.2816022521486073, -0.17739868272828846, -0.5166602432894722, 0.032145222324207426, -0.6862910235700641, -0.7661172731138721, 0.4312764700432472, -0.6064647740262562, 1.9779100549545263, 1.9779100549545263, -0.03770274602662453, 0.740603187025503, -0.41687743135971234, -0.8060303978857761, -0.3370511818159044, -0.39692086897376033, -0.825986960271728, -0.4667688373245923, -0.825986960271728, -0.7760955543068481, 1.9679317737615503, -0.8758783662366081, 1.6386484943933426, 1.9679317737615503, 1.9679317737615503, 1.000038498042879, -0.4867253997105443, -0.7561389919208961, 0.0920149094820634, -0.7162258671489922, -0.5266385244824483, -0.89583492862256, 0.870320842534191, -0.6164430552192321, -0.14746383914936048, -0.41687743135971234, 1.9579534925685742, 1.9579534925685742, 1.9579534925685742, 1.9579534925685742, 1.0499299040077588, 1.9579534925685742, 1.9579534925685742, -0.5366168056754242, 0.04212350351718342, 1.8481923994458385, -0.89583492862256, -0.7561389919208961, -0.8758783662366081, -0.825986960271728, -0.885856647429584, -0.7960521166928001, -0.13748555795638448, -0.5465950868684002, 1.9579534925685742, -0.3170946194299524, 0.730624905832527, -0.2572249322720964, -0.6563561799911362, 1.9479752113755984, -0.4767471185175683, 1.9379969301826223, 1.7683661499020304, 1.8481923994458385, -0.4268557125526883, -0.905813209815536, -0.825986960271728, -0.7661172731138721, -0.865900085043632, -0.7162258671489922, -0.5465950868684002, -0.7960521166928001, 0.21175428379777533, 1.9280186489896463, -0.8758783662366081, 1.0898430287796628, 0.5909289691308631, -0.6563561799911362, -0.7661172731138721, -0.23726836988614441, -0.825986960271728, -0.28715977585102437, -0.5964864928332803, 1.9180403677966704, 1.9180403677966704, -0.5266385244824483, 1.7084964627441745, -0.905813209815536, -0.4667688373245923, -0.30711633823697637, 1.9180403677966704, -0.40689915016673633, 1.1197778723585907, 0.9900602168499029, -0.2771814946580484, 1.9180403677966704, -0.825986960271728, -0.825986960271728, 1.9180403677966704, -0.24724665107912042, -0.6763127423770882, 1.2295389654813267, 1.9180403677966704, -0.7262041483419681, 1.8881055242177422, 0.770538030604431, -0.84594352265768, 1.8980838054107183, -0.38694258778078433, -0.2672032134650724, 1.9080620866036944, -0.885856647429584, 1.9080620866036944, 0.2816022521486073, -0.13748555795638448, -0.7361824295349442, 1.0698864663937109, -0.885856647429584, -0.17739868272828846, 0.750581468218479, 0.870320842534191, 1.8980838054107183, -0.8758783662366081, -0.017746183640672545, 1.8980838054107183, 1.8980838054107183, 1.4291045893408465, -0.7262041483419681, -0.8758783662366081, 1.4690177141127505, -0.885856647429584, 0.5809506879378871, 1.8980838054107183, -0.06763758960555252, -0.89583492862256, -0.865900085043632, 1.1397344347445428, 1.8980838054107183, 1.8980838054107183, 1.2694520902532307, 1.8881055242177422, -0.6164430552192321, -0.6663344611841122, 0.870320842534191, -0.7561389919208961, -0.885856647429584, -0.05765930841257652, 1.8881055242177422, -0.39692086897376033, 1.8881055242177422, -0.7262041483419681, -0.6363996176051842, 0.9900602168499029, 1.8781272430247664, -0.5266385244824483, -0.6962693047630402, -0.7361824295349442, 1.8781272430247664, -0.10755071437745649, 1.8781272430247664, 0.002210378745279442, -0.7062475859560161, -0.6563561799911362, -0.6563561799911362, -0.4468122749386403, -0.865900085043632, -0.5865082116403042, 1.8581706806388143, 1.8581706806388143, -0.05765930841257652, -0.3170946194299524, 1.8581706806388143, -0.23726836988614441, -0.39692086897376033, -0.4667688373245923, -0.6064647740262562, 1.8581706806388143, 1.0599081852007348, 1.8481923994458385, -0.11752899557043249, 1.8481923994458385, 1.0798647475866867, -0.41687743135971234, -0.8359652414647041, 1.8481923994458385, -0.8758783662366081, 1.8481923994458385, -0.10755071437745649, -0.4567905561316163, -0.4268557125526883, 1.3492783397970387, 1.8481923994458385, -0.4667688373245923, 1.8481923994458385, 0.15188459663991935, -0.11752899557043249, -0.6064647740262562, -0.905813209815536, -0.8359652414647041, -0.30711633823697637, -0.825986960271728, 1.8382141182528624, -0.89583492862256, -0.885856647429584, -0.7461607107279201, -0.6763127423770882, -0.885856647429584, -0.8160086790787521, 0.18181944021884733, 0.650798656288719, 0.02216694113123143, -0.6862910235700641, -0.905813209815536, 1.8382141182528624, -0.7860738354998241, 1.8382141182528624, 0.35145022049943925, 1.8382141182528624, -0.3470294630088804, -0.89583492862256, -0.7561389919208961, -0.7361824295349442, -0.7561389919208961, 1.8282358370598863, 1.2594738090602546, 1.8282358370598863, -0.047681027219600526, -0.13748555795638448, 1.8182575558669103, -0.6264213364122082, 1.7883227122879823, 1.8182575558669103, 1.7883227122879823, -0.0975724331844805, 1.8182575558669103, -0.17739868272828846, -0.5066819620964963, 0.0720583470961114, -0.03770274602662453, -0.38694258778078433, 1.8182575558669103, -0.40689915016673633, -0.4867253997105443, -0.37696430658780833, 1.8082792746739345, 0.710668343446575, -0.5865082116403042, 1.8082792746739345, 1.6186919320073905, 0.650798656288719, -0.5565733680613763, -0.4368339937456643, -0.2272900886931684, -0.865900085043632, 1.7883227122879823, 0.9900602168499029, -0.7262041483419681, 1.7883227122879823, 0.5111027195870551, -0.6663344611841122, -0.6962693047630402, -0.825986960271728, 1.6685833379722705, -0.5865082116403042, -0.7960521166928001, -0.6862910235700641, -0.7361824295349442, 1.7783444310950065, -0.23726836988614441, 1.7783444310950065, -0.6962693047630402, 1.7783444310950065, -0.7361824295349442, 0.7904945929903829, 1.7683661499020304, -0.7461607107279201, 1.7683661499020304, -0.6264213364122082, 1.7683661499020304, 1.2095824030953748, -0.8758783662366081, 1.7683661499020304, -0.5565733680613763, -0.2672032134650724, -0.825986960271728, 1.7683661499020304, -0.6064647740262562, 0.6208638127097911, 1.7583878687090544, -0.16742040153531246, 1.2195606842883506, -0.19735524511424044, -0.905813209815536, -0.13748555795638448, -0.12750727676340848, -0.6862910235700641, 1.7583878687090544, 1.7583878687090544, 1.7583878687090544, -0.7461607107279201, 0.910233967306095, -0.7361824295349442, -0.12750727676340848, -0.7661172731138721, -0.41687743135971234, 1.7484095875160783, 1.7484095875160783, 1.7484095875160783, -0.89583492862256, 0.0820366282890874, -0.905813209815536, 1.1197778723585907, -0.7561389919208961, -0.7960521166928001, 1.7484095875160783, 1.7484095875160783, -0.8758783662366081, 1.7484095875160783, -0.89583492862256, -0.6962693047630402, 1.6586050567792945, -0.2672032134650724, 1.7484095875160783, 0.690711781060623, -0.905813209815536, 1.7484095875160783, -0.5366168056754242, -0.7062475859560161, -0.2771814946580484, 1.7384313063231025, 1.7384313063231025, -0.4567905561316163, -0.7561389919208961, -0.7361824295349442, 1.7384313063231025, -0.5964864928332803, -0.6064647740262562, 1.7384313063231025, -0.7561389919208961, 1.7284530251301264, -0.8758783662366081, 0.15188459663991935, 0.8802991237271669, 1.7284530251301264, -0.4567905561316163, -0.5964864928332803, 1.7184747439371504, -0.4567905561316163, 1.7184747439371504, -0.8758783662366081, -0.5565733680613763, -0.39692086897376033, -0.2572249322720964, -0.8060303978857761, 1.7184747439371504, 1.7184747439371504, -0.6164430552192321, 0.002210378745279442, 1.6186919320073905, 1.7184747439371504, 1.7184747439371504, -0.5166602432894722, -0.017746183640672545, 1.7184747439371504, 0.840385998955263, 1.7184747439371504, 0.45123303242919915, -0.047681027219600526, 1.7084964627441745, 1.7084964627441745, 1.0299733416218069, 1.7084964627441745, 0.910233967306095, -0.825986960271728, -0.7361824295349442, -0.49670368090352024, 1.7084964627441745, 1.6985181815511985, 1.6985181815511985, -0.6862910235700641, -0.8160086790787521, 0.9900602168499029, -0.2572249322720964, -0.8060303978857761, 1.6985181815511985, 1.6985181815511985, -0.5266385244824483, 1.6985181815511985, -0.07761587079852851, 1.6985181815511985, -0.6563561799911362, 1.6985181815511985, 0.5310592819730071, -0.825986960271728, 1.6985181815511985, 0.5609941255519351, 1.6985181815511985, 0.14190631544694335, 0.4212981888502712, 1.6885399003582224, -0.5366168056754242, -0.7561389919208961, 0.002210378745279442, 0.740603187025503, -0.865900085043632, -0.8758783662366081, -0.5366168056754242, -0.89583492862256, -0.5465950868684002, -0.3370511818159044, 1.6885399003582224, 1.6885399003582224, -0.8758783662366081, 1.6885399003582224, 0.5909289691308631, -0.865900085043632, 1.6785616191652464, -0.8160086790787521, 1.6785616191652464, -0.905813209815536, 1.6785616191652464, 1.6785616191652464, 1.6785616191652464, -0.2771814946580484, -0.6064647740262562, -0.5565733680613763, -0.7561389919208961, 0.5310592819730071, 1.6785616191652464, -0.05765930841257652, 1.4091480269548946, -0.885856647429584, 1.2494955278672788, 0.0820366282890874, -0.89583492862256, 0.6009072503238391, -0.7361824295349442, 1.6486267755863184, -0.11752899557043249, 1.6486267755863184, -0.6763127423770882, 0.670755218674671, 1.6486267755863184, 1.6486267755863184, -0.5964864928332803, -0.37696430658780833, 0.2516674085696793, 0.8603425613412149, -0.4567905561316163, -0.2672032134650724, -0.6862910235700641, 0.630842093902767, 0.46121131362217516, -0.6064647740262562, -0.30711633823697637, 0.9301905296920469, -0.5366168056754242, 0.4212981888502712, 1.6286702132003665, 0.2317108461837273, -0.7162258671489922, -0.5964864928332803, 1.6286702132003665, 1.2195606842883506, -0.7561389919208961, -0.5565733680613763, 0.2516674085696793, -0.18737696392126443, -0.06763758960555252, 1.6286702132003665, -0.7162258671489922, -0.8160086790787521, 1.6186919320073905, -0.5465950868684002, 0.31153709572753524, -0.11752899557043249, 0.04212350351718342, 1.5688005260425106, -0.17739868272828846, -0.02772446483364854, 1.6186919320073905, 0.0720583470961114, 1.6186919320073905, 0.5310592819730071, -0.6363996176051842, 1.5488439636565585, 1.6186919320073905, -0.7461607107279201, 1.6186919320073905, -0.6264213364122082, -0.17739868272828846, -0.7860738354998241, -0.5166602432894722, 1.3492783397970387, -0.18737696392126443, -0.41687743135971234, 1.6087136508144144, -0.41687743135971234, 1.6087136508144144, 0.670755218674671, 1.6087136508144144, 1.6087136508144144, -0.7661172731138721, 0.0820366282890874, 0.910233967306095, -0.6862910235700641, -0.5266385244824483, 1.6087136508144144, 1.6087136508144144, -0.6064647740262562, -0.3370511818159044, -0.2771814946580484, 1.5987353696214386, 1.5987353696214386, 1.0998213099726388, 1.5887570884284625, -0.7262041483419681, -0.84594352265768, -0.4867253997105443, 1.5787788072354865, -0.30711633823697637, 1.5787788072354865, -0.3470294630088804, 1.3393000586040626, -0.5964864928332803, 0.9800819356569269, -0.6264213364122082, 1.5688005260425106, 1.5688005260425106, -0.30711633823697637, 1.5588222448495346, -0.89583492862256, -0.38694258778078433, 1.5688005260425106, 1.5688005260425106, -0.8758783662366081, 1.5688005260425106, -0.0975724331844805, -0.3270729006229284, -0.40689915016673633, -0.2672032134650724, 0.4312764700432472, -0.8758783662366081, 1.5588222448495346, -0.7661172731138721, 0.9301905296920469, -0.19735524511424044, 1.5288874012706066, -0.18737696392126443, 1.5588222448495346, 0.5609941255519351, 0.21175428379777533, 1.5488439636565585, -0.12750727676340848, 1.5488439636565585, 0.002210378745279442, 0.3813850640783672, -0.885856647429584, -0.2771814946580484, 1.5488439636565585, -0.885856647429584, 1.5488439636565585, 1.2694520902532307, -0.6962693047630402, -0.8060303978857761, 0.32151537692051124, -0.6463778987981602, -0.905813209815536, -0.02772446483364854, -0.40689915016673633, 1.5488439636565585, 0.15188459663991935, -0.6763127423770882, 0.820429436569311, 1.5388656824635825, -0.4667688373245923, -0.7461607107279201, -0.885856647429584, 1.4690177141127505, -0.7661172731138721, 1.5388656824635825, 0.19179772141182333, -0.7262041483419681, -0.6064647740262562, 1.5388656824635825, -0.4767471185175683, 1.5388656824635825, 1.4889742764987026, 1.5388656824635825, 1.039951622814783, -0.6962693047630402, -0.5964864928332803, 0.5510158443589591, -0.0975724331844805, 1.5288874012706066, -0.6363996176051842, 0.16186287783289535, 0.04212350351718342, 1.5189091200776306, 1.5089308388846545, -0.7860738354998241, 1.5089308388846545, -0.6663344611841122, 0.760559749411455, 1.0499299040077588, 1.4091480269548946, -0.6763127423770882, -0.4667688373245923, -0.89583492862256, 1.5089308388846545, -0.7661172731138721, -0.7262041483419681, 1.3293217774110866, 1.4291045893408465, 1.4789959953057266, -0.40689915016673633, -0.6563561799911362, -0.8160086790787521, -0.8160086790787521, -0.007767902447696552, 1.4291045893408465, 1.4690177141127505, 0.2217325649907513, -0.6862910235700641, -0.6663344611841122, -0.825986960271728, -0.7760955543068481, -0.6064647740262562, 0.032145222324207426, 1.4989525576916787, -0.2771814946580484, 1.4889742764987026, 1.4690177141127505, -0.5565733680613763, 0.780516311797407, 1.4889742764987026, 1.4889742764987026, -0.6164430552192321, 1.4889742764987026, -0.4667688373245923, 1.4690177141127505, -0.7661172731138721, 0.002210378745279442, -0.5166602432894722, -0.8359652414647041, -0.18737696392126443, -0.3170946194299524, 1.4789959953057266, 0.02216694113123143, -0.8359652414647041, 1.4291045893408465, 0.02216694113123143, -0.7361824295349442, -0.5964864928332803, 1.2694520902532307, -0.39692086897376033, 1.1596909971304947, -0.0975724331844805, 0.770538030604431, -0.905813209815536, -0.5765299304473283, -0.38694258778078433, -0.8758783662366081, -0.2572249322720964, -0.5565733680613763, 1.4690177141127505, -0.7361824295349442, -0.047681027219600526, -0.06763758960555252, 1.4690177141127505, 1.4690177141127505, 1.4091480269548946, 0.11197147186801538, 1.1896258407094227, 1.4690177141127505, -0.7062475859560161, 0.2317108461837273, -0.4667688373245923, -0.5964864928332803, -0.6064647740262562, 1.4590394329197747, 1.4490611517267986, 0.19179772141182333, -0.13748555795638448, 0.31153709572753524, 1.4490611517267986, -0.825986960271728, -0.6663344611841122, -0.825986960271728, 1.4390828705338226, 1.4390828705338226, 1.4390828705338226, -0.6663344611841122, 1.4390828705338226, 0.032145222324207426, 1.4390828705338226, 0.5909289691308631, 1.1097995911656149, 1.4291045893408465, -0.7262041483419681, -0.5964864928332803, 0.0820366282890874, 0.4113199076572952, 0.9701036544639509, -0.6164430552192321, -0.8160086790787521, -0.7561389919208961, 1.0599081852007348, -0.6663344611841122, 0.0720583470961114, 1.4191263081478707, -0.7661172731138721, -0.7461607107279201, 1.4191263081478707, 1.4191263081478707, -0.16742040153531246, -0.7960521166928001, 1.4191263081478707, -0.37696430658780833, 0.6208638127097911, 1.4191263081478707, -0.84594352265768, -0.825986960271728, -0.885856647429584, -0.6763127423770882, 1.4091480269548946, 1.4091480269548946, -0.8359652414647041, 1.4091480269548946, 0.9401688108850229, 0.8603425613412149, 0.0820366282890874, -0.865900085043632, -0.7461607107279201, -0.8060303978857761, -0.89583492862256, -0.17739868272828846, 1.3991697457619185, 0.780516311797407, 1.0798647475866867, 0.650798656288719, -0.6264213364122082, 1.3991697457619185, -0.4667688373245923, 1.3991697457619185, 0.9601253732709749, 1.3592566209900145, 1.3592566209900145, -0.7860738354998241, -0.7561389919208961, 1.3492783397970387, -0.89583492862256, 0.9301905296920469, 1.2794303714462067, -0.89583492862256, 1.3492783397970387, 0.5210810007800312, 1.3492783397970387, 1.3492783397970387, -0.39692086897376033, 1.3293217774110866, -0.4667688373245923, -0.41687743135971234, 0.2416891273767033, -0.5964864928332803, -0.6164430552192321, 1.3393000586040626, 1.3393000586040626, 0.15188459663991935, 1.3393000586040626, -0.5765299304473283, 1.2694520902532307, 1.3293217774110866, 1.3293217774110866, 1.3293217774110866, -0.0975724331844805, -0.5166602432894722, -0.8758783662366081, 0.3813850640783672, 1.2894086526391826, 1.2095824030953748, 1.2894086526391826, -0.89583492862256, -0.7361824295349442, -0.6663344611841122, 0.9800819356569269, 0.49114615720110316, 0.730624905832527, -0.23726836988614441, -0.6663344611841122, -0.5066819620964963, 1.0698864663937109, -0.3170946194299524, 1.2694520902532307, 1.2694520902532307, -0.8060303978857761, -0.4667688373245923, -0.6862910235700641, -0.7262041483419681, 1.2694520902532307, 1.1197778723585907, 1.2694520902532307, 0.2915805333415833, 1.2694520902532307, -0.7361824295349442, 1.2594738090602546, -0.37696430658780833, 1.2594738090602546, 0.2816022521486073, 1.2594738090602546, 1.2594738090602546, -0.89583492862256, -0.6064647740262562, -0.7661172731138721, 1.2594738090602546, 0.9900602168499029, -0.6463778987981602, -0.4667688373245923, -0.8160086790787521, 1.2594738090602546, 1.2594738090602546, -0.2572249322720964, 1.2594738090602546, -0.825986960271728, 1.2594738090602546, -0.4468122749386403, -0.19735524511424044, -0.19735524511424044, 0.9202122484990709, 0.770538030604431, 1.2494955278672788, -0.5865082116403042, 1.2494955278672788, -0.8160086790787521, -0.7960521166928001, -0.3470294630088804, 0.5909289691308631, 1.2395172466743027, -0.7661172731138721, 1.2395172466743027, 0.48116787600812716, -0.4368339937456643, -0.5865082116403042, -0.7561389919208961, -0.6663344611841122, -0.7262041483419681, 1.2295389654813267, 0.14190631544694335, 1.2295389654813267, -0.8359652414647041, 1.2195606842883506, 0.35145022049943925, 1.2195606842883506, 1.2195606842883506, -0.2771814946580484, -0.21731180750019244, -0.5865082116403042, -0.19735524511424044, -0.5066819620964963, 1.2195606842883506, -0.905813209815536, 0.20177600260479933, 1.1996041219023987, 1.2095824030953748, -0.7661172731138721, 1.2095824030953748, -0.8758783662366081, -0.6064647740262562, -0.047681027219600526, 1.2095824030953748, -0.3270729006229284, -0.905813209815536, 1.0599081852007348, 0.8603425613412149, -0.4468122749386403, -0.89583492862256, 1.1996041219023987, 1.1896258407094227, -0.7262041483419681, -0.865900085043632, 1.1996041219023987, -0.7262041483419681, 1.1996041219023987, -0.20733352630721644, -0.3470294630088804, 1.1397344347445428, 1.1996041219023987, -0.6862910235700641, 0.17184115902587135, 1.1896258407094227, -0.2771814946580484, -0.6264213364122082, -0.6962693047630402, -0.825986960271728, -0.8060303978857761, -0.40689915016673633, -0.24724665107912042, 1.1397344347445428, -0.4667688373245923, 1.1896258407094227, -0.40689915016673633, -0.8758783662366081, -0.7062475859560161, 1.1796475595164468, 1.1696692783234708, -0.3669860253948323, -0.885856647429584, 1.1596909971304947, -0.8559218038506561, 1.1596909971304947, -0.7960521166928001, -0.865900085043632, -0.07761587079852851, -0.13748555795638448, 1.1497127159375187, 1.1497127159375187, -0.3270729006229284, -0.7361824295349442, -0.06763758960555252, 1.1497127159375187, -0.7262041483419681, -0.2572249322720964, -0.17739868272828846, -0.84594352265768, 0.690711781060623, -0.905813209815536, 1.1397344347445428, -0.8559218038506561, -0.8060303978857761, 1.1397344347445428, 1.0599081852007348, -0.7960521166928001, 0.06208006590313541, 0.032145222324207426, -0.885856647429584, -0.865900085043632, -0.06763758960555252, -0.7361824295349442, -0.7561389919208961, 0.780516311797407, -0.4667688373245923, 1.1297561535515668, -0.6763127423770882, 1.1297561535515668, -0.12750727676340848, -0.6463778987981602, -0.8359652414647041, -0.7860738354998241, -0.7062475859560161, -0.4767471185175683, -0.8160086790787521, 1.1197778723585907, -0.7361824295349442, -0.5266385244824483, 0.4113199076572952, 1.1197778723585907, 1.1197778723585907, -0.6862910235700641, 0.770538030604431, 1.1097995911656149, 0.12194975306099137, 1.1097995911656149, -0.4867253997105443, -0.5964864928332803, -0.4767471185175683, -0.17739868272828846, -0.8359652414647041, -0.20733352630721644, 1.0998213099726388, -0.8060303978857761, 1.0998213099726388, -0.017746183640672545, 0.9601253732709749, -0.6164430552192321, -0.6663344611841122, 1.0898430287796628, 1.0898430287796628, 1.0898430287796628, 1.0898430287796628, 0.9701036544639509, -0.7960521166928001, 1.0898430287796628, -0.3470294630088804, -0.8359652414647041, 0.2317108461837273, 1.0798647475866867, -0.3470294630088804, 0.16186287783289535, 1.0698864663937109, -0.6763127423770882, 1.0698864663937109, -0.39692086897376033, 0.630842093902767, -0.905813209815536, -0.6962693047630402, -0.8359652414647041, 0.9301905296920469, 1.0698864663937109, -0.6763127423770882, 1.0599081852007348, 0.770538030604431, 1.0599081852007348, -0.17739868272828846, 1.0499299040077588, 0.9501470920779989, -0.10755071437745649, -0.0975724331844805, 0.2217325649907513, -0.7361824295349442, 1.0499299040077588, 1.0499299040077588, -0.7661172731138721, 1.0499299040077588, 0.6607769374816951, 0.5709724067449111, 1.039951622814783, -0.3170946194299524, 0.8802991237271669, 1.0199950604288308, 1.0199950604288308, 1.0199950604288308, -0.6563561799911362, 1.000038498042879, 1.000038498042879, 1.000038498042879, -0.2771814946580484, -0.7361824295349442, -0.20733352630721644, -0.6862910235700641, -0.5266385244824483, -0.8060303978857761, -0.41687743135971234, 0.9900602168499029, 0.820429436569311, -0.6264213364122082, -0.6264213364122082, 0.9800819356569269, 0.730624905832527, -0.7760955543068481, 0.9800819356569269, 0.2915805333415833, -0.3470294630088804, -0.03770274602662453, 0.9800819356569269, 0.33149365811348724, 0.9701036544639509, 0.9701036544639509, 0.9701036544639509, -0.6064647740262562, -0.865900085043632, -0.6862910235700641, 0.5609941255519351, -0.865900085043632, -0.89583492862256, 0.9501470920779989, 0.9501470920779989, -0.8160086790787521, 0.02216694113123143, 0.6607769374816951, 0.9501470920779989, -0.8160086790787521, -0.6862910235700641, 0.2217325649907513, 0.9401688108850229, 0.2516674085696793, 0.9401688108850229, -0.5266385244824483, 0.630842093902767, -0.6064647740262562, -0.885856647429584, -0.3170946194299524, -0.6264213364122082, 0.9301905296920469, 0.9301905296920469, 0.9301905296920469, 0.9301905296920469, -0.7561389919208961, -0.4767471185175683, 0.9301905296920469, 0.910233967306095, -0.15744212034233646, -0.14746383914936048, -0.905813209815536, -0.6264213364122082, 0.0820366282890874, -0.7461607107279201, -0.905813209815536, 0.9202122484990709, -0.89583492862256, -0.8160086790787521, -0.41687743135971234, -0.5565733680613763, -0.12750727676340848, 0.910233967306095, -0.7361824295349442, -0.2672032134650724, -0.6763127423770882, 0.910233967306095, 0.630842093902767, -0.6962693047630402, 0.910233967306095, -0.6962693047630402, 0.910233967306095, -0.6563561799911362, -0.825986960271728, 0.9002556861131189, 0.890277404920143, -0.7262041483419681, 0.47118959481515116, -0.5166602432894722, 0.16186287783289535, -0.5964864928332803, -0.5266385244824483, -0.8060303978857761, -0.905813209815536, -0.41687743135971234, -0.3170946194299524, 0.7904945929903829, -0.16742040153531246, -0.06763758960555252, -0.6064647740262562, -0.19735524511424044, -0.7661172731138721, -0.865900085043632, 0.870320842534191, 0.870320842534191, 0.870320842534191, 0.870320842534191, -0.885856647429584, -0.23726836988614441, -0.6064647740262562, -0.8160086790787521, -0.4567905561316163, -0.7361824295349442, 0.8603425613412149, 0.8104511553763349, 0.850364280148239, 0.850364280148239, 0.36142850169241525, -0.7960521166928001, 0.850364280148239, 0.850364280148239, -0.905813209815536, 0.800472874183359, 0.850364280148239, -0.5565733680613763, 0.850364280148239, -0.7062475859560161, 0.2816022521486073, 0.6607769374816951, -0.6862910235700641, -0.8359652414647041, -0.8160086790787521, 0.840385998955263, -0.4867253997105443, -0.6264213364122082, -0.6862910235700641, 0.820429436569311, 0.820429436569311, 0.820429436569311, 0.820429436569311, -0.7760955543068481, 0.650798656288719, 0.8104511553763349, -0.7062475859560161, -0.8060303978857761, 0.800472874183359, -0.7960521166928001, 0.8104511553763349, 0.8104511553763349, 0.8104511553763349, -0.7860738354998241, -0.3270729006229284, 0.8104511553763349, -0.5166602432894722, -0.7361824295349442, 0.800472874183359, 0.800472874183359, 0.800472874183359, -0.6962693047630402, -0.5366168056754242, 0.800472874183359, -0.40689915016673633, 0.800472874183359, 0.4013416264643192, -0.13748555795638448, -0.8359652414647041, 0.7904945929903829, 0.7904945929903829, -0.28715977585102437, -0.39692086897376033, 0.7904945929903829, 0.4312764700432472, -0.84594352265768, 0.780516311797407, 0.780516311797407, 0.780516311797407, 0.780516311797407, -0.8359652414647041, 0.780516311797407, -0.18737696392126443, 0.780516311797407, -0.7561389919208961, 0.730624905832527, -0.7461607107279201, 0.770538030604431, -0.7262041483419681, -0.7760955543068481, -0.4867253997105443, 0.740603187025503, -0.8359652414647041, -0.7960521166928001, -0.8359652414647041, 0.6208638127097911, 0.730624905832527, -0.7062475859560161, 0.730624905832527, -0.6363996176051842, 0.730624905832527, 0.720646624639551, -0.7561389919208961, -0.865900085043632, -0.8758783662366081, -0.17739868272828846, -0.5366168056754242, -0.5266385244824483, 0.710668343446575, 0.710668343446575, 0.710668343446575, -0.49670368090352024, 0.7006900622535991, -0.6763127423770882, 0.5909289691308631, 0.690711781060623, 0.7006900622535991, 0.7006900622535991, 0.49114615720110316, 0.4412547512362232, -0.20733352630721644, 0.690711781060623, -0.6962693047630402, 0.32151537692051124, 0.6807334998676471, 0.47118959481515116, 0.670755218674671, 0.670755218674671, 0.670755218674671, 0.6607769374816951, -0.19735524511424044, 0.6607769374816951, 0.6208638127097911, -0.4667688373245923, -0.6962693047630402, 0.650798656288719, -0.7661172731138721, 0.650798656288719, 0.650798656288719, -0.885856647429584, 0.650798656288719, 0.3015588145345593, 0.4212981888502712, 0.6408203750957431, 0.6408203750957431, 0.6408203750957431, -0.8758783662366081, -0.3570077442018563, -0.38694258778078433, 0.630842093902767, 0.630842093902767, -0.7361824295349442, 0.630842093902767, -0.84594352265768, -0.13748555795638448, 0.630842093902767, -0.5665516492543522, -0.7960521166928001, 0.5709724067449111, -0.7461607107279201, 0.2416891273767033, 0.6208638127097911, 0.37140678288539125, 0.6108855315168151, -0.825986960271728, 0.34147193930646325, 0.6009072503238391, -0.4767471185175683, -0.6663344611841122, 0.6009072503238391, -0.3170946194299524, -0.84594352265768, -0.7661172731138721, -0.8359652414647041, -0.905813209815536, -0.8758783662366081, -0.6862910235700641, 0.5809506879378871, 0.5809506879378871, -0.40689915016673633, 0.5809506879378871, 0.5709724067449111, 0.49114615720110316, 0.5709724067449111, -0.6563561799911362, -0.5865082116403042, 0.5709724067449111, -0.4867253997105443, 0.17184115902587135, -0.3170946194299524, -0.2771814946580484, -0.6663344611841122, -0.8758783662366081, -0.905813209815536, -0.6862910235700641, -0.89583492862256, 0.5510158443589591, 0.5510158443589591, 0.5510158443589591, -0.885856647429584, 0.5410375631659832, 0.5310592819730071, 0.5310592819730071, -0.84594352265768, 0.5310592819730071, 0.5310592819730071, -0.7162258671489922, 0.5210810007800312, 0.5210810007800312, -0.7461607107279201, -0.28715977585102437, 0.5210810007800312, -0.7262041483419681, -0.7062475859560161, -0.7960521166928001, -0.8060303978857761, 0.5111027195870551, -0.3370511818159044, -0.8758783662366081, -0.865900085043632, 0.5111027195870551, 0.5111027195870551, 0.04212350351718342, -0.865900085043632, -0.7162258671489922, 0.5011244383940792, -0.865900085043632, 0.5011244383940792, 0.2516674085696793, 0.46121131362217516, -0.5865082116403042, 0.5011244383940792, 0.49114615720110316, -0.6064647740262562, 0.49114615720110316, 0.0720583470961114, 0.21175428379777533, -0.8758783662366081, 0.48116787600812716, -0.07761587079852851, -0.6862910235700641, 0.47118959481515116, 0.46121131362217516, -0.3370511818159044, -0.5665516492543522, 0.2516674085696793, -0.4468122749386403, 0.4312764700432472, 0.46121131362217516, 0.46121131362217516, 0.46121131362217516, -0.6763127423770882, 0.45123303242919915, -0.7960521166928001, 0.4412547512362232, 0.45123303242919915, -0.5865082116403042, -0.3370511818159044, -0.6563561799911362, 0.4412547512362232, 0.4412547512362232, -0.20733352630721644, 0.32151537692051124, 0.4312764700432472, -0.7361824295349442, 0.4212981888502712, 0.2716239709556313, -0.5565733680613763, -0.885856647429584, 0.4212981888502712, 0.4212981888502712, 0.4212981888502712, 0.4212981888502712, 0.4212981888502712, 0.3813850640783672, 0.4212981888502712, -0.7561389919208961, -0.7262041483419681, 0.4212981888502712, -0.5565733680613763, -0.8060303978857761, 0.4113199076572952, -0.6164430552192321, 0.37140678288539125, -0.8060303978857761, 0.4013416264643192, 0.2915805333415833, 0.3913633452713432, -0.865900085043632, 0.3913633452713432, -0.19735524511424044, 0.37140678288539125, -0.6264213364122082, -0.5665516492543522, -0.885856647429584, -0.13748555795638448, -0.2771814946580484, 0.3813850640783672, 0.3813850640783672, 0.2416891273767033, -0.17739868272828846, -0.03770274602662453, 0.37140678288539125, -0.39692086897376033, 0.37140678288539125, -0.5166602432894722, 0.37140678288539125, -0.18737696392126443, -0.49670368090352024, -0.8160086790787521, 0.36142850169241525, 0.36142850169241525, 0.36142850169241525, -0.7461607107279201, -0.84594352265768, 0.35145022049943925, 0.35145022049943925, -0.06763758960555252, 0.35145022049943925, 0.35145022049943925, 0.16186287783289535, 0.35145022049943925, -0.8559218038506561, -0.8359652414647041, -0.7262041483419681, 0.33149365811348724, 0.0920149094820634, 0.3015588145345593, -0.7461607107279201, 0.002210378745279442, -0.28715977585102437, 0.32151537692051124, -0.18737696392126443, -0.6862910235700641, 0.3015588145345593, 0.3015588145345593, -0.5865082116403042, 0.2516674085696793, -0.7162258671489922, -0.40689915016673633, -0.7062475859560161, -0.6363996176051842, 0.2816022521486073, -0.6264213364122082, 0.2816022521486073, -0.4867253997105443, 0.2816022521486073, 0.2716239709556313, 0.2716239709556313, 0.2516674085696793, 0.16186287783289535, -0.865900085043632, 0.2516674085696793, 0.2516674085696793, 0.2516674085696793, -0.5166602432894722, 0.2416891273767033, 0.2416891273767033, -0.3170946194299524, -0.2771814946580484, 0.012188659938255436, -0.825986960271728, -0.7262041483419681, -0.6064647740262562, 0.0720583470961114, -0.4767471185175683, 0.2217325649907513, -0.39692086897376033, -0.5465950868684002, 0.2217325649907513, -0.84594352265768, 0.21175428379777533, -0.825986960271728, 0.21175428379777533, 0.21175428379777533, 0.0820366282890874, 0.21175428379777533, 0.012188659938255436, -0.6264213364122082, -0.6862910235700641, 0.20177600260479933, 0.20177600260479933, -0.7361824295349442, -0.89583492862256, -0.3170946194299524, 0.15188459663991935, 0.18181944021884733, -0.4567905561316163, -0.885856647429584, -0.5665516492543522, 0.17184115902587135, -0.5865082116403042, -0.7361824295349442, -0.4567905561316163, 0.16186287783289535, -0.8758783662366081, -0.8758783662366081, -0.007767902447696552, 0.15188459663991935, 0.15188459663991935, -0.6763127423770882, 0.15188459663991935, 0.15188459663991935, 0.15188459663991935, 0.15188459663991935, 0.15188459663991935, -0.5964864928332803, 0.14190631544694335, 0.14190631544694335, 0.14190631544694335, 0.14190631544694335, -0.8758783662366081, -0.825986960271728, -0.905813209815536, 0.14190631544694335, -0.885856647429584, 0.13192803425396737, -0.8359652414647041, 0.12194975306099137, 0.11197147186801538, -0.8758783662366081, -0.8758783662366081, -0.6064647740262562, 0.0920149094820634, -0.047681027219600526, -0.5266385244824483, -0.8758783662366081, -0.6663344611841122, -0.6862910235700641, -0.2771814946580484, -0.8160086790787521, 0.0720583470961114, 0.0720583470961114, -0.06763758960555252, 0.0720583470961114, 0.0720583470961114, -0.5964864928332803, -0.3669860253948323, -0.7561389919208961, 0.06208006590313541, -0.17739868272828846, 0.052101784710159416, -0.2771814946580484, -0.8559218038506561, 0.052101784710159416, 0.04212350351718342, -0.885856647429584, -0.17739868272828846, -0.4867253997105443, 0.04212350351718342, 0.04212350351718342, 0.032145222324207426, -0.885856647429584, -0.5964864928332803, 0.032145222324207426, 0.032145222324207426, 0.02216694113123143, 0.02216694113123143, -0.8758783662366081, -0.6264213364122082, -0.8060303978857761, 0.012188659938255436, 0.012188659938255436, 0.012188659938255436, 0.012188659938255436, -0.4567905561316163, 0.002210378745279442, -0.7262041483419681, -0.4667688373245923, -0.16742040153531246, -0.8160086790787521, -0.8758783662366081, -0.007767902447696552, -0.5964864928332803, -0.017746183640672545, -0.6962693047630402, -0.6064647740262562, -0.4567905561316163, -0.017746183640672545, -0.017746183640672545, -0.02772446483364854, -0.84594352265768, -0.02772446483364854, -0.8160086790787521, -0.8160086790787521, -0.6663344611841122, -0.02772446483364854, -0.7262041483419681, -0.02772446483364854, -0.825986960271728, -0.10755071437745649, -0.24724665107912042, -0.10755071437745649, -0.03770274602662453, -0.03770274602662453, -0.03770274602662453, -0.865900085043632, -0.03770274602662453, -0.865900085043632, -0.7461607107279201, -0.7262041483419681, -0.03770274602662453, -0.4567905561316163, -0.03770274602662453, -0.5865082116403042, -0.13748555795638448, -0.20733352630721644, -0.047681027219600526, -0.047681027219600526, -0.047681027219600526, -0.047681027219600526, -0.5266385244824483, -0.49670368090352024, -0.047681027219600526, -0.905813209815536, -0.7960521166928001, -0.8758783662366081, -0.7062475859560161, -0.6064647740262562, -0.05765930841257652, -0.6064647740262562, -0.5665516492543522, -0.7262041483419681, -0.19735524511424044, -0.05765930841257652, -0.3470294630088804, -0.2771814946580484, -0.05765930841257652, -0.05765930841257652, -0.40689915016673633, -0.38694258778078433, -0.2771814946580484, -0.5964864928332803, -0.06763758960555252, -0.89583492862256, -0.06763758960555252, -0.7960521166928001, -0.06763758960555252, -0.7561389919208961, -0.06763758960555252, -0.13748555795638448, -0.2771814946580484, -0.06763758960555252, -0.905813209815536, -0.7062475859560161, -0.07761587079852851, -0.885856647429584, -0.07761587079852851, -0.07761587079852851, -0.07761587079852851, -0.6663344611841122, -0.0875941519915045, -0.7361824295349442, -0.5066819620964963, -0.2771814946580484, -0.15744212034233646, -0.8559218038506561, -0.0975724331844805, -0.6363996176051842, -0.0975724331844805, -0.0975724331844805, -0.10755071437745649, -0.8359652414647041, -0.7760955543068481, -0.10755071437745649, -0.3170946194299524, -0.4767471185175683, -0.10755071437745649, -0.10755071437745649, -0.10755071437745649, -0.10755071437745649, -0.10755071437745649, -0.20733352630721644, -0.11752899557043249, -0.6763127423770882, -0.11752899557043249, -0.41687743135971234, -0.12750727676340848, -0.7561389919208961, -0.12750727676340848, -0.12750727676340848, -0.12750727676340848, -0.3669860253948323, -0.12750727676340848, -0.905813209815536, -0.8160086790787521, -0.8758783662366081, -0.16742040153531246, -0.8160086790787521, -0.12750727676340848, -0.12750727676340848, -0.40689915016673633, -0.7960521166928001, -0.905813209815536, -0.7461607107279201, -0.13748555795638448, -0.6763127423770882, -0.7561389919208961, -0.7960521166928001, -0.13748555795638448, -0.8060303978857761, -0.6962693047630402, -0.8559218038506561, -0.2771814946580484, -0.13748555795638448, -0.41687743135971234, -0.13748555795638448, -0.13748555795638448, -0.7960521166928001, -0.17739868272828846, -0.5964864928332803, -0.13748555795638448, -0.14746383914936048, -0.14746383914936048, -0.8359652414647041, -0.14746383914936048, -0.14746383914936048, -0.41687743135971234, -0.2672032134650724, -0.14746383914936048, -0.14746383914936048, -0.14746383914936048, -0.8758783662366081, -0.8359652414647041, -0.21731180750019244, -0.15744212034233646, -0.865900085043632, -0.15744212034233646, -0.865900085043632, -0.905813209815536, -0.6463778987981602, -0.16742040153531246, -0.16742040153531246, -0.5166602432894722, -0.16742040153531246, -0.16742040153531246, -0.16742040153531246, -0.16742040153531246, -0.16742040153531246, -0.8060303978857761, -0.17739868272828846, -0.16742040153531246, -0.865900085043632, -0.16742040153531246, -0.5565733680613763, -0.17739868272828846, -0.17739868272828846, -0.17739868272828846, -0.6363996176051842, -0.17739868272828846, -0.17739868272828846, -0.905813209815536, -0.17739868272828846, -0.6862910235700641, -0.17739868272828846, -0.89583492862256, -0.17739868272828846, -0.17739868272828846, -0.18737696392126443, -0.18737696392126443, -0.885856647429584, -0.28715977585102437, -0.5665516492543522, -0.8359652414647041, -0.6862910235700641, -0.7561389919208961, -0.19735524511424044, -0.19735524511424044, -0.89583492862256, -0.6962693047630402, -0.19735524511424044, -0.19735524511424044, -0.2771814946580484, -0.19735524511424044, -0.19735524511424044, -0.5166602432894722, -0.19735524511424044, -0.19735524511424044, -0.7062475859560161, -0.905813209815536, -0.8160086790787521, -0.20733352630721644, -0.20733352630721644, -0.6663344611841122, -0.20733352630721644, -0.7561389919208961, -0.20733352630721644, -0.5865082116403042, -0.7760955543068481, -0.7461607107279201, -0.24724665107912042, -0.20733352630721644, -0.2572249322720964, -0.825986960271728, -0.41687743135971234, -0.6264213364122082, -0.905813209815536, -0.20733352630721644, -0.20733352630721644, -0.6962693047630402, -0.21731180750019244, -0.21731180750019244, -0.21731180750019244, -0.21731180750019244, -0.2272900886931684, -0.2272900886931684, -0.8559218038506561, -0.6563561799911362, -0.7262041483419681, -0.825986960271728, -0.40689915016673633, -0.6663344611841122, -0.2771814946580484, -0.23726836988614441, -0.6862910235700641, -0.8359652414647041, -0.5465950868684002, -0.37696430658780833, -0.7062475859560161, -0.24724665107912042, -0.24724665107912042, -0.8359652414647041, -0.24724665107912042, -0.24724665107912042, -0.8359652414647041, -0.24724665107912042, -0.24724665107912042, -0.2572249322720964, -0.2572249322720964, -0.2572249322720964, -0.2572249322720964, -0.2572249322720964, -0.2572249322720964, -0.8758783662366081, -0.2572249322720964, -0.6663344611841122, -0.2672032134650724, -0.7461607107279201, -0.2672032134650724, -0.2672032134650724, -0.2672032134650724, -0.2672032134650724, -0.2672032134650724, -0.2672032134650724, -0.2672032134650724, -0.2672032134650724, -0.2672032134650724, -0.2672032134650724, -0.2672032134650724, -0.8160086790787521, -0.2672032134650724, -0.2672032134650724, -0.6264213364122082, -0.2771814946580484, -0.40689915016673633, -0.2771814946580484, -0.2771814946580484, -0.2771814946580484, -0.885856647429584, -0.2771814946580484, -0.2771814946580484, -0.7361824295349442, -0.2771814946580484, -0.2771814946580484, -0.2771814946580484, -0.5665516492543522, -0.2771814946580484, -0.2771814946580484, -0.41687743135971234, -0.3270729006229284, -0.89583492862256, -0.8160086790787521, -0.2771814946580484, -0.84594352265768, -0.2771814946580484, -0.7960521166928001, -0.5964864928332803, -0.8359652414647041, -0.2771814946580484, -0.3370511818159044, -0.7960521166928001, -0.28715977585102437, -0.8758783662366081, -0.29713805704400037, -0.29713805704400037, -0.29713805704400037, -0.5565733680613763, -0.6563561799911362, -0.30711633823697637, -0.30711633823697637, -0.4767471185175683, -0.30711633823697637, -0.30711633823697637, -0.30711633823697637, -0.825986960271728, -0.30711633823697637, -0.30711633823697637, -0.30711633823697637, -0.30711633823697637, -0.30711633823697637, -0.30711633823697637, -0.7760955543068481, -0.7262041483419681, -0.30711633823697637, -0.30711633823697637, -0.905813209815536, -0.30711633823697637, -0.5964864928332803, -0.4468122749386403, -0.885856647429584, -0.3170946194299524, -0.3170946194299524, -0.8359652414647041, -0.3170946194299524, -0.3170946194299524, -0.5565733680613763, -0.4867253997105443, -0.8559218038506561, -0.8758783662366081, -0.885856647429584, -0.3170946194299524, -0.3170946194299524, -0.7760955543068481, -0.3270729006229284, -0.3470294630088804, -0.3270729006229284, -0.3270729006229284, -0.39692086897376033, -0.3270729006229284, -0.3370511818159044, -0.825986960271728, -0.3370511818159044, -0.3370511818159044, -0.3370511818159044, -0.89583492862256, -0.6962693047630402, -0.3470294630088804, -0.825986960271728, -0.3470294630088804, -0.3470294630088804, -0.3470294630088804, -0.825986960271728, -0.3470294630088804, -0.3470294630088804, -0.5565733680613763, -0.3470294630088804, -0.5166602432894722, -0.3470294630088804, -0.6563561799911362, -0.3570077442018563, -0.3570077442018563, -0.885856647429584, -0.5765299304473283, -0.3669860253948323, -0.3669860253948323, -0.3669860253948323, -0.8758783662366081, -0.37696430658780833, -0.8160086790787521, -0.37696430658780833, -0.37696430658780833, -0.37696430658780833, -0.37696430658780833, -0.37696430658780833, -0.37696430658780833, -0.37696430658780833, -0.37696430658780833, -0.37696430658780833, -0.38694258778078433, -0.38694258778078433, -0.5964864928332803, -0.38694258778078433, -0.38694258778078433, -0.38694258778078433, -0.38694258778078433, -0.38694258778078433, -0.38694258778078433, -0.6264213364122082, -0.5665516492543522, -0.38694258778078433, -0.38694258778078433, -0.38694258778078433, -0.38694258778078433, -0.38694258778078433, -0.38694258778078433, -0.39692086897376033, -0.8160086790787521, -0.5066819620964963, -0.39692086897376033, -0.39692086897376033, -0.39692086897376033, -0.8758783662366081, -0.39692086897376033, -0.6763127423770882, -0.39692086897376033, -0.39692086897376033, -0.39692086897376033, -0.39692086897376033, -0.89583492862256, -0.40689915016673633, -0.40689915016673633, -0.40689915016673633, -0.40689915016673633, -0.8359652414647041, -0.40689915016673633, -0.885856647429584, -0.40689915016673633, -0.40689915016673633, -0.40689915016673633, -0.40689915016673633, -0.40689915016673633, -0.41687743135971234, -0.41687743135971234, -0.6064647740262562, -0.41687743135971234, -0.41687743135971234, -0.41687743135971234, -0.41687743135971234, -0.41687743135971234, -0.4667688373245923, -0.885856647429584, -0.6264213364122082, -0.41687743135971234, -0.41687743135971234, -0.41687743135971234, -0.8758783662366081, -0.7361824295349442, -0.4268557125526883, -0.4268557125526883, -0.4268557125526883, -0.4268557125526883, -0.4368339937456643, -0.4468122749386403, -0.905813209815536, -0.4468122749386403, -0.8758783662366081, -0.5865082116403042, -0.7960521166928001, -0.4468122749386403, -0.4468122749386403, -0.8758783662366081, -0.4468122749386403, -0.4468122749386403, -0.4468122749386403, -0.4667688373245923, -0.4767471185175683, -0.4468122749386403, -0.4567905561316163, -0.4567905561316163, -0.4567905561316163, -0.6663344611841122, -0.4867253997105443, -0.4567905561316163, -0.4567905561316163, -0.4567905561316163, -0.5665516492543522, -0.4567905561316163, -0.7162258671489922, -0.4667688373245923, -0.4667688373245923, -0.4667688373245923, -0.6862910235700641, -0.7661172731138721, -0.4667688373245923, -0.4667688373245923, -0.7561389919208961, -0.8060303978857761, -0.4667688373245923, -0.865900085043632, -0.4767471185175683, -0.4767471185175683, -0.4767471185175683, -0.8559218038506561, -0.4767471185175683, -0.825986960271728, -0.4767471185175683, -0.8359652414647041, -0.4767471185175683, -0.885856647429584, -0.7361824295349442, -0.7062475859560161, -0.4767471185175683, -0.4767471185175683, -0.4767471185175683, -0.4867253997105443, -0.5665516492543522, -0.4867253997105443, -0.4867253997105443, -0.865900085043632, -0.4867253997105443, -0.6763127423770882, -0.4867253997105443, -0.5565733680613763, -0.5266385244824483, -0.7461607107279201, -0.4867253997105443, -0.4867253997105443, -0.8758783662366081, -0.6962693047630402, -0.49670368090352024, -0.5066819620964963, -0.885856647429584, -0.5066819620964963, -0.5066819620964963, -0.5166602432894722, -0.7461607107279201, -0.89583492862256, -0.7960521166928001, -0.5166602432894722, -0.5166602432894722, -0.7162258671489922, -0.8559218038506561, -0.5166602432894722, -0.5166602432894722, -0.825986960271728, -0.5166602432894722, -0.5166602432894722, -0.5166602432894722, -0.5166602432894722, -0.5665516492543522, -0.5266385244824483, -0.7461607107279201, -0.5266385244824483, -0.5266385244824483, -0.885856647429584, -0.5266385244824483, -0.8359652414647041, -0.5266385244824483, -0.84594352265768, -0.5366168056754242, -0.905813209815536, -0.885856647429584, -0.7361824295349442, -0.5366168056754242, -0.6264213364122082, -0.885856647429584, -0.6064647740262562, -0.8758783662366081, -0.5366168056754242, -0.5366168056754242, -0.6064647740262562, -0.5465950868684002, -0.5465950868684002, -0.905813209815536, -0.5465950868684002, -0.5465950868684002, -0.7960521166928001, -0.5465950868684002, -0.7361824295349442, -0.5465950868684002, -0.5465950868684002, -0.5465950868684002, -0.8060303978857761, -0.5565733680613763, -0.905813209815536, -0.5565733680613763, -0.5565733680613763, -0.6064647740262562, -0.8758783662366081, -0.8060303978857761, -0.84594352265768, -0.5565733680613763, -0.6862910235700641, -0.5565733680613763, -0.5565733680613763, -0.5665516492543522, -0.5665516492543522, -0.6164430552192321, -0.5665516492543522, -0.5665516492543522, -0.5665516492543522, -0.5665516492543522, -0.6463778987981602, -0.5765299304473283, -0.825986960271728, -0.7162258671489922, -0.6264213364122082, -0.5765299304473283, -0.5765299304473283, -0.905813209815536, -0.5865082116403042, -0.5865082116403042, -0.5865082116403042, -0.5865082116403042, -0.825986960271728, -0.89583492862256, -0.7162258671489922, -0.5865082116403042, -0.5865082116403042, -0.5865082116403042, -0.5865082116403042, -0.5865082116403042, -0.5865082116403042, -0.5865082116403042, -0.7262041483419681, -0.7062475859560161, -0.6962693047630402, -0.6763127423770882, -0.5964864928332803, -0.5964864928332803, -0.5964864928332803, -0.8758783662366081, -0.5964864928332803, -0.5964864928332803, -0.5964864928332803, -0.6763127423770882, -0.6064647740262562, -0.7361824295349442, -0.6064647740262562, -0.6064647740262562, -0.6064647740262562, -0.8359652414647041, -0.6064647740262562, -0.6064647740262562, -0.8160086790787521, -0.6164430552192321, -0.6164430552192321, -0.6164430552192321, -0.6164430552192321, -0.6164430552192321, -0.6164430552192321, -0.6164430552192321, -0.8559218038506561, -0.6164430552192321, -0.6164430552192321, -0.7361824295349442, -0.6164430552192321, -0.8359652414647041, -0.7461607107279201, -0.6164430552192321, -0.6164430552192321, -0.6862910235700641, -0.6164430552192321, -0.6264213364122082, -0.6264213364122082, -0.6264213364122082, -0.6264213364122082, -0.825986960271728, -0.6264213364122082, -0.6264213364122082, -0.6264213364122082, -0.905813209815536, -0.6264213364122082, -0.6363996176051842, -0.6363996176051842, -0.6363996176051842, -0.89583492862256, -0.6363996176051842, -0.6363996176051842, -0.7062475859560161, -0.6463778987981602, -0.6463778987981602, -0.825986960271728, -0.6563561799911362, -0.84594352265768, -0.6563561799911362, -0.6563561799911362, -0.6563561799911362, -0.89583492862256, -0.6563561799911362, -0.7062475859560161, -0.6563561799911362, -0.6563561799911362, -0.6563561799911362, -0.6563561799911362, -0.6563561799911362, -0.6563561799911362, -0.6663344611841122, -0.8359652414647041, -0.6663344611841122, -0.6663344611841122, -0.6663344611841122, -0.6663344611841122, -0.7960521166928001, -0.6663344611841122, -0.6663344611841122, -0.6663344611841122, -0.6663344611841122, -0.6663344611841122, -0.6663344611841122, -0.6763127423770882, -0.6763127423770882, -0.6763127423770882, -0.89583492862256, -0.6763127423770882, -0.6763127423770882, -0.6763127423770882, -0.6763127423770882, -0.6763127423770882, -0.6763127423770882, -0.6763127423770882, -0.825986960271728, -0.6763127423770882, -0.6763127423770882, -0.6862910235700641, -0.6862910235700641, -0.6862910235700641, -0.885856647429584, -0.6862910235700641, -0.6862910235700641, -0.6862910235700641, -0.8060303978857761, -0.6962693047630402, -0.6962693047630402, -0.6962693047630402, -0.6962693047630402, -0.6962693047630402, -0.6962693047630402, -0.6962693047630402, -0.6962693047630402, -0.8758783662366081, -0.6962693047630402, -0.6962693047630402, -0.7062475859560161, -0.7062475859560161, -0.7062475859560161, -0.8758783662366081, -0.7062475859560161, -0.7162258671489922, -0.7162258671489922, -0.7162258671489922, -0.7262041483419681, -0.7262041483419681, -0.7262041483419681, -0.8060303978857761, -0.825986960271728, -0.7262041483419681, -0.825986960271728, -0.825986960271728, -0.7361824295349442, -0.7262041483419681, -0.7262041483419681, -0.7262041483419681, -0.7262041483419681, -0.7262041483419681, -0.7262041483419681, -0.7262041483419681, -0.7262041483419681, -0.7361824295349442, -0.7361824295349442, -0.7461607107279201, -0.8758783662366081, -0.7461607107279201, -0.7361824295349442, -0.7361824295349442, -0.7361824295349442, -0.7361824295349442, -0.825986960271728, -0.7361824295349442, -0.89583492862256, -0.7361824295349442, -0.7461607107279201, -0.7461607107279201, -0.7461607107279201, -0.7461607107279201, -0.7461607107279201, -0.7461607107279201, -0.825986960271728, -0.865900085043632, -0.7461607107279201, -0.7561389919208961, -0.8758783662366081, -0.7561389919208961, -0.7561389919208961, -0.7561389919208961, -0.7661172731138721, -0.8160086790787521, -0.865900085043632, -0.7661172731138721, -0.7661172731138721, -0.7661172731138721, -0.7661172731138721, -0.7661172731138721, -0.825986960271728, -0.7661172731138721, -0.7661172731138721, -0.7661172731138721, -0.7661172731138721, -0.7661172731138721, -0.7661172731138721, -0.885856647429584, -0.8160086790787521, -0.7760955543068481, -0.7760955543068481, -0.7760955543068481, -0.8559218038506561, -0.7960521166928001, -0.7960521166928001, -0.7960521166928001, -0.7960521166928001, -0.8160086790787521, -0.7960521166928001, -0.7960521166928001, -0.8060303978857761, -0.8060303978857761, -0.8060303978857761, -0.8060303978857761, -0.8060303978857761, -0.8060303978857761, -0.8060303978857761, -0.8060303978857761, -0.8060303978857761, -0.8060303978857761, -0.8060303978857761, -0.8060303978857761, -0.8060303978857761, -0.8060303978857761, -0.8359652414647041, -0.8160086790787521, -0.8160086790787521, -0.8160086790787521, -0.905813209815536, -0.8160086790787521, -0.8160086790787521, -0.8160086790787521, -0.8160086790787521, -0.8359652414647041, -0.825986960271728, -0.825986960271728, -0.8359652414647041, -0.8359652414647041, -0.8359652414647041, -0.84594352265768, -0.84594352265768, -0.84594352265768, -0.84594352265768, -0.8559218038506561, -0.8559218038506561, -0.865900085043632, -0.865900085043632, -0.865900085043632, -0.8758783662366081, -0.8758783662366081, -0.8758783662366081, -0.8758783662366081, -0.8758783662366081, -0.8758783662366081, -0.8758783662366081, -0.8758783662366081, -0.8758783662366081, -0.8758783662366081, -0.885856647429584, -0.885856647429584, -0.885856647429584, -0.885856647429584, -0.885856647429584, -0.89583492862256, -0.89583492862256, -0.89583492862256, -0.89583492862256, -0.905813209815536, -0.905813209815536], \"yaxis\": \"y\"}],\n",
              "                        {\"legend\": {\"tracegroupgap\": 0}, \"margin\": {\"t\": 60}, \"template\": {\"data\": {\"bar\": [{\"error_x\": {\"color\": \"rgb(36,36,36)\"}, \"error_y\": {\"color\": \"rgb(36,36,36)\"}, \"marker\": {\"line\": {\"color\": \"white\", \"width\": 0.5}}, \"type\": \"bar\"}], \"barpolar\": [{\"marker\": {\"line\": {\"color\": \"white\", \"width\": 0.5}}, \"type\": \"barpolar\"}], \"carpet\": [{\"aaxis\": {\"endlinecolor\": \"rgb(36,36,36)\", \"gridcolor\": \"white\", \"linecolor\": \"white\", \"minorgridcolor\": \"white\", \"startlinecolor\": \"rgb(36,36,36)\"}, \"baxis\": {\"endlinecolor\": \"rgb(36,36,36)\", \"gridcolor\": \"white\", \"linecolor\": \"white\", \"minorgridcolor\": \"white\", \"startlinecolor\": \"rgb(36,36,36)\"}, \"type\": \"carpet\"}], \"choropleth\": [{\"colorbar\": {\"outlinewidth\": 10, \"tickcolor\": \"rgb(36,36,36)\", \"ticklen\": 8, \"ticks\": \"outside\", \"tickwidth\": 2}, \"type\": \"choropleth\"}], \"contour\": [{\"colorbar\": {\"outlinewidth\": 10, \"tickcolor\": \"rgb(36,36,36)\", \"ticklen\": 8, \"ticks\": \"outside\", \"tickwidth\": 2}, \"colorscale\": [[0.0, \"#440154\"], [0.1111111111111111, \"#482878\"], [0.2222222222222222, \"#3e4989\"], [0.3333333333333333, \"#31688e\"], [0.4444444444444444, \"#26828e\"], [0.5555555555555556, \"#1f9e89\"], [0.6666666666666666, \"#35b779\"], [0.7777777777777778, \"#6ece58\"], [0.8888888888888888, \"#b5de2b\"], [1.0, \"#fde725\"]], \"type\": \"contour\"}], \"contourcarpet\": [{\"colorbar\": {\"outlinewidth\": 10, \"tickcolor\": \"rgb(36,36,36)\", \"ticklen\": 8, \"ticks\": \"outside\", \"tickwidth\": 2}, \"type\": \"contourcarpet\"}], \"heatmap\": [{\"colorbar\": {\"outlinewidth\": 10, \"tickcolor\": \"rgb(36,36,36)\", \"ticklen\": 8, \"ticks\": \"outside\", \"tickwidth\": 2}, \"colorscale\": [[0.0, \"#440154\"], [0.1111111111111111, \"#482878\"], [0.2222222222222222, \"#3e4989\"], [0.3333333333333333, \"#31688e\"], [0.4444444444444444, \"#26828e\"], [0.5555555555555556, \"#1f9e89\"], [0.6666666666666666, \"#35b779\"], [0.7777777777777778, \"#6ece58\"], [0.8888888888888888, \"#b5de2b\"], [1.0, \"#fde725\"]], \"type\": \"heatmap\"}], \"heatmapgl\": [{\"colorbar\": {\"outlinewidth\": 10, \"tickcolor\": \"rgb(36,36,36)\", \"ticklen\": 8, \"ticks\": \"outside\", \"tickwidth\": 2}, \"colorscale\": [[0.0, \"#440154\"], [0.1111111111111111, \"#482878\"], [0.2222222222222222, \"#3e4989\"], [0.3333333333333333, \"#31688e\"], [0.4444444444444444, \"#26828e\"], [0.5555555555555556, \"#1f9e89\"], [0.6666666666666666, \"#35b779\"], [0.7777777777777778, \"#6ece58\"], [0.8888888888888888, \"#b5de2b\"], [1.0, \"#fde725\"]], \"type\": \"heatmapgl\"}], \"histogram\": [{\"marker\": {\"line\": {\"color\": \"white\", \"width\": 0.6}}, \"type\": \"histogram\"}], \"histogram2d\": [{\"colorbar\": {\"outlinewidth\": 10, \"tickcolor\": \"rgb(36,36,36)\", \"ticklen\": 8, \"ticks\": \"outside\", \"tickwidth\": 2}, \"colorscale\": [[0.0, \"#440154\"], [0.1111111111111111, \"#482878\"], [0.2222222222222222, \"#3e4989\"], [0.3333333333333333, \"#31688e\"], [0.4444444444444444, \"#26828e\"], [0.5555555555555556, \"#1f9e89\"], [0.6666666666666666, \"#35b779\"], [0.7777777777777778, \"#6ece58\"], [0.8888888888888888, \"#b5de2b\"], [1.0, \"#fde725\"]], \"type\": \"histogram2d\"}], \"histogram2dcontour\": [{\"colorbar\": {\"outlinewidth\": 10, \"tickcolor\": \"rgb(36,36,36)\", \"ticklen\": 8, \"ticks\": \"outside\", \"tickwidth\": 2}, \"colorscale\": [[0.0, \"#440154\"], [0.1111111111111111, \"#482878\"], [0.2222222222222222, \"#3e4989\"], [0.3333333333333333, \"#31688e\"], [0.4444444444444444, \"#26828e\"], [0.5555555555555556, \"#1f9e89\"], [0.6666666666666666, \"#35b779\"], [0.7777777777777778, \"#6ece58\"], [0.8888888888888888, \"#b5de2b\"], [1.0, \"#fde725\"]], \"type\": \"histogram2dcontour\"}], \"mesh3d\": [{\"colorbar\": {\"outlinewidth\": 10, \"tickcolor\": \"rgb(36,36,36)\", \"ticklen\": 8, \"ticks\": \"outside\", \"tickwidth\": 2}, \"type\": \"mesh3d\"}], \"parcoords\": [{\"line\": {\"colorbar\": {\"outlinewidth\": 10, \"tickcolor\": \"rgb(36,36,36)\", \"ticklen\": 8, \"ticks\": \"outside\", \"tickwidth\": 2}}, \"type\": \"parcoords\"}], \"pie\": [{\"automargin\": true, \"type\": \"pie\"}], \"scatter\": [{\"marker\": {\"colorbar\": {\"outlinewidth\": 10, \"tickcolor\": \"rgb(36,36,36)\", \"ticklen\": 8, \"ticks\": \"outside\", \"tickwidth\": 2}}, \"type\": \"scatter\"}], \"scatter3d\": [{\"line\": {\"colorbar\": {\"outlinewidth\": 10, \"tickcolor\": \"rgb(36,36,36)\", \"ticklen\": 8, \"ticks\": \"outside\", \"tickwidth\": 2}}, \"marker\": {\"colorbar\": {\"outlinewidth\": 10, \"tickcolor\": \"rgb(36,36,36)\", \"ticklen\": 8, \"ticks\": \"outside\", \"tickwidth\": 2}}, \"type\": \"scatter3d\"}], \"scattercarpet\": [{\"marker\": {\"colorbar\": {\"outlinewidth\": 10, \"tickcolor\": \"rgb(36,36,36)\", \"ticklen\": 8, \"ticks\": \"outside\", \"tickwidth\": 2}}, \"type\": \"scattercarpet\"}], \"scattergeo\": [{\"marker\": {\"colorbar\": {\"outlinewidth\": 10, \"tickcolor\": \"rgb(36,36,36)\", \"ticklen\": 8, \"ticks\": \"outside\", \"tickwidth\": 2}}, \"type\": \"scattergeo\"}], \"scattergl\": [{\"marker\": {\"colorbar\": {\"outlinewidth\": 10, \"tickcolor\": \"rgb(36,36,36)\", \"ticklen\": 8, \"ticks\": \"outside\", \"tickwidth\": 2}}, \"type\": \"scattergl\"}], \"scattermapbox\": [{\"marker\": {\"colorbar\": {\"outlinewidth\": 10, \"tickcolor\": \"rgb(36,36,36)\", \"ticklen\": 8, \"ticks\": \"outside\", \"tickwidth\": 2}}, \"type\": \"scattermapbox\"}], \"scatterpolar\": [{\"marker\": {\"colorbar\": {\"outlinewidth\": 10, \"tickcolor\": \"rgb(36,36,36)\", \"ticklen\": 8, \"ticks\": \"outside\", \"tickwidth\": 2}}, \"type\": \"scatterpolar\"}], \"scatterpolargl\": [{\"marker\": {\"colorbar\": {\"outlinewidth\": 10, \"tickcolor\": \"rgb(36,36,36)\", \"ticklen\": 8, \"ticks\": \"outside\", \"tickwidth\": 2}}, \"type\": \"scatterpolargl\"}], \"scatterternary\": [{\"marker\": {\"colorbar\": {\"outlinewidth\": 10, \"tickcolor\": \"rgb(36,36,36)\", \"ticklen\": 8, \"ticks\": \"outside\", \"tickwidth\": 2}}, \"type\": \"scatterternary\"}], \"surface\": [{\"colorbar\": {\"outlinewidth\": 10, \"tickcolor\": \"rgb(36,36,36)\", \"ticklen\": 8, \"ticks\": \"outside\", \"tickwidth\": 2}, \"colorscale\": [[0.0, \"#440154\"], [0.1111111111111111, \"#482878\"], [0.2222222222222222, \"#3e4989\"], [0.3333333333333333, \"#31688e\"], [0.4444444444444444, \"#26828e\"], [0.5555555555555556, \"#1f9e89\"], [0.6666666666666666, \"#35b779\"], [0.7777777777777778, \"#6ece58\"], [0.8888888888888888, \"#b5de2b\"], [1.0, \"#fde725\"]], \"type\": \"surface\"}], \"table\": [{\"cells\": {\"fill\": {\"color\": \"rgb(237,237,237)\"}, \"line\": {\"color\": \"white\"}}, \"header\": {\"fill\": {\"color\": \"rgb(217,217,217)\"}, \"line\": {\"color\": \"white\"}}, \"type\": \"table\"}]}, \"layout\": {\"annotationdefaults\": {\"arrowhead\": 0, \"arrowwidth\": 1}, \"coloraxis\": {\"colorbar\": {\"outlinewidth\": 10, \"tickcolor\": \"rgb(36,36,36)\", \"ticklen\": 8, \"ticks\": \"outside\", \"tickwidth\": 2}}, \"colorscale\": {\"diverging\": [[0.0, \"rgb(103,0,31)\"], [0.1, \"rgb(178,24,43)\"], [0.2, \"rgb(214,96,77)\"], [0.3, \"rgb(244,165,130)\"], [0.4, \"rgb(253,219,199)\"], [0.5, \"rgb(247,247,247)\"], [0.6, \"rgb(209,229,240)\"], [0.7, \"rgb(146,197,222)\"], [0.8, \"rgb(67,147,195)\"], [0.9, \"rgb(33,102,172)\"], [1.0, \"rgb(5,48,97)\"]], \"sequential\": [[0.0, \"#440154\"], [0.1111111111111111, \"#482878\"], [0.2222222222222222, \"#3e4989\"], [0.3333333333333333, \"#31688e\"], [0.4444444444444444, \"#26828e\"], [0.5555555555555556, \"#1f9e89\"], [0.6666666666666666, \"#35b779\"], [0.7777777777777778, \"#6ece58\"], [0.8888888888888888, \"#b5de2b\"], [1.0, \"#fde725\"]], \"sequentialminus\": [[0.0, \"#440154\"], [0.1111111111111111, \"#482878\"], [0.2222222222222222, \"#3e4989\"], [0.3333333333333333, \"#31688e\"], [0.4444444444444444, \"#26828e\"], [0.5555555555555556, \"#1f9e89\"], [0.6666666666666666, \"#35b779\"], [0.7777777777777778, \"#6ece58\"], [0.8888888888888888, \"#b5de2b\"], [1.0, \"#fde725\"]]}, \"colorway\": [\"#1F77B4\", \"#FF7F0E\", \"#2CA02C\", \"#D62728\", \"#9467BD\", \"#8C564B\", \"#E377C2\", \"#7F7F7F\", \"#BCBD22\", \"#17BECF\"], \"font\": {\"color\": \"rgb(36,36,36)\"}, \"geo\": {\"bgcolor\": \"white\", \"lakecolor\": \"white\", \"landcolor\": \"white\", \"showlakes\": true, \"showland\": true, \"subunitcolor\": \"white\"}, \"hoverlabel\": {\"align\": \"left\"}, \"hovermode\": \"closest\", \"mapbox\": {\"style\": \"light\"}, \"paper_bgcolor\": \"white\", \"plot_bgcolor\": \"white\", \"polar\": {\"angularaxis\": {\"gridcolor\": \"rgb(232,232,232)\", \"linecolor\": \"rgb(36,36,36)\", \"showgrid\": false, \"showline\": true, \"ticks\": \"outside\"}, \"bgcolor\": \"white\", \"radialaxis\": {\"gridcolor\": \"rgb(232,232,232)\", \"linecolor\": \"rgb(36,36,36)\", \"showgrid\": false, \"showline\": true, \"ticks\": \"outside\"}}, \"scene\": {\"xaxis\": {\"backgroundcolor\": \"white\", \"gridcolor\": \"rgb(232,232,232)\", \"gridwidth\": 2, \"linecolor\": \"rgb(36,36,36)\", \"showbackground\": true, \"showgrid\": false, \"showline\": true, \"ticks\": \"outside\", \"zeroline\": false, \"zerolinecolor\": \"rgb(36,36,36)\"}, \"yaxis\": {\"backgroundcolor\": \"white\", \"gridcolor\": \"rgb(232,232,232)\", \"gridwidth\": 2, \"linecolor\": \"rgb(36,36,36)\", \"showbackground\": true, \"showgrid\": false, \"showline\": true, \"ticks\": \"outside\", \"zeroline\": false, \"zerolinecolor\": \"rgb(36,36,36)\"}, \"zaxis\": {\"backgroundcolor\": \"white\", \"gridcolor\": \"rgb(232,232,232)\", \"gridwidth\": 2, \"linecolor\": \"rgb(36,36,36)\", \"showbackground\": true, \"showgrid\": false, \"showline\": true, \"ticks\": \"outside\", \"zeroline\": false, \"zerolinecolor\": \"rgb(36,36,36)\"}}, \"shapedefaults\": {\"fillcolor\": \"black\", \"line\": {\"width\": 0}, \"opacity\": 0.3}, \"ternary\": {\"aaxis\": {\"gridcolor\": \"rgb(232,232,232)\", \"linecolor\": \"rgb(36,36,36)\", \"showgrid\": false, \"showline\": true, \"ticks\": \"outside\"}, \"baxis\": {\"gridcolor\": \"rgb(232,232,232)\", \"linecolor\": \"rgb(36,36,36)\", \"showgrid\": false, \"showline\": true, \"ticks\": \"outside\"}, \"bgcolor\": \"white\", \"caxis\": {\"gridcolor\": \"rgb(232,232,232)\", \"linecolor\": \"rgb(36,36,36)\", \"showgrid\": false, \"showline\": true, \"ticks\": \"outside\"}}, \"title\": {\"x\": 0.05}, \"xaxis\": {\"automargin\": true, \"gridcolor\": \"rgb(232,232,232)\", \"linecolor\": \"rgb(36,36,36)\", \"showgrid\": false, \"showline\": true, \"ticks\": \"outside\", \"title\": {\"standoff\": 15}, \"zeroline\": false, \"zerolinecolor\": \"rgb(36,36,36)\"}, \"yaxis\": {\"automargin\": true, \"gridcolor\": \"rgb(232,232,232)\", \"linecolor\": \"rgb(36,36,36)\", \"showgrid\": false, \"showline\": true, \"ticks\": \"outside\", \"title\": {\"standoff\": 15}, \"zeroline\": false, \"zerolinecolor\": \"rgb(36,36,36)\"}}}, \"width\": 950, \"xaxis\": {\"anchor\": \"y\", \"domain\": [0.0, 1.0], \"title\": {\"text\": \"CustomerID\"}}, \"yaxis\": {\"anchor\": \"x\", \"domain\": [0.0, 1.0], \"title\": {\"text\": \"RetentionScaled\"}}},\n",
              "                        {\"responsive\": true}\n",
              "                    ).then(function(){\n",
              "                            \n",
              "var gd = document.getElementById('97f61b40-2895-4364-8374-2c5dfec35406');\n",
              "var x = new MutationObserver(function (mutations, observer) {{\n",
              "        var display = window.getComputedStyle(gd).display;\n",
              "        if (!display || display === 'none') {{\n",
              "            console.log([gd, 'removed!']);\n",
              "            Plotly.purge(gd);\n",
              "            observer.disconnect();\n",
              "        }}\n",
              "}});\n",
              "\n",
              "// Listen for the removal of the full notebook cells\n",
              "var notebookContainer = gd.closest('#notebook-container');\n",
              "if (notebookContainer) {{\n",
              "    x.observe(notebookContainer, {childList: true});\n",
              "}}\n",
              "\n",
              "// Listen for the clearing of the current output cell\n",
              "var outputEl = gd.closest('.output');\n",
              "if (outputEl) {{\n",
              "    x.observe(outputEl, {childList: true});\n",
              "}}\n",
              "\n",
              "                        })\n",
              "                };\n",
              "                \n",
              "            </script>\n",
              "        </div>\n",
              "</body>\n",
              "</html>"
            ]
          },
          "metadata": {
            "tags": []
          }
        }
      ]
    },
    {
      "cell_type": "code",
      "metadata": {
        "id": "HYnOxwlL5F-S",
        "outputId": "3a8b802d-e23b-40c3-f7db-8f9c5ed92578",
        "colab": {
          "base_uri": "https://localhost:8080/",
          "height": 195
        }
      },
      "source": [
        "data_retention_scaled = data_user[['RetentionScaled']]\n",
        "data_retention_scaled.head()"
      ],
      "execution_count": 105,
      "outputs": [
        {
          "output_type": "execute_result",
          "data": {
            "text/html": [
              "<div>\n",
              "<style scoped>\n",
              "    .dataframe tbody tr th:only-of-type {\n",
              "        vertical-align: middle;\n",
              "    }\n",
              "\n",
              "    .dataframe tbody tr th {\n",
              "        vertical-align: top;\n",
              "    }\n",
              "\n",
              "    .dataframe thead th {\n",
              "        text-align: right;\n",
              "    }\n",
              "</style>\n",
              "<table border=\"1\" class=\"dataframe\">\n",
              "  <thead>\n",
              "    <tr style=\"text-align: right;\">\n",
              "      <th></th>\n",
              "      <th>RetentionScaled</th>\n",
              "    </tr>\n",
              "  </thead>\n",
              "  <tbody>\n",
              "    <tr>\n",
              "      <th>0</th>\n",
              "      <td>2.097649</td>\n",
              "    </tr>\n",
              "    <tr>\n",
              "      <th>1</th>\n",
              "      <td>-0.596486</td>\n",
              "    </tr>\n",
              "    <tr>\n",
              "      <th>2</th>\n",
              "      <td>0.042124</td>\n",
              "    </tr>\n",
              "    <tr>\n",
              "      <th>3</th>\n",
              "      <td>2.377041</td>\n",
              "    </tr>\n",
              "    <tr>\n",
              "      <th>4</th>\n",
              "      <td>-0.656356</td>\n",
              "    </tr>\n",
              "  </tbody>\n",
              "</table>\n",
              "</div>"
            ],
            "text/plain": [
              "   RetentionScaled\n",
              "0         2.097649\n",
              "1        -0.596486\n",
              "2         0.042124\n",
              "3         2.377041\n",
              "4        -0.656356"
            ]
          },
          "metadata": {
            "tags": []
          },
          "execution_count": 105
        }
      ]
    },
    {
      "cell_type": "markdown",
      "metadata": {
        "id": "yeaUkuGd5qwd"
      },
      "source": [
        "#### Retencja - KMeans"
      ]
    },
    {
      "cell_type": "code",
      "metadata": {
        "id": "VWZU-YL95omB",
        "outputId": "a636ed19-d646-4e6c-9dc7-485991d6c1ad",
        "colab": {
          "base_uri": "https://localhost:8080/",
          "height": 314
        }
      },
      "source": [
        "from sklearn.cluster import KMeans\n",
        "wcss = []\n",
        "\n",
        "for i in range(1, 10):\n",
        "  kmeans = KMeans(n_clusters = i, max_iter = 1000)\n",
        "  kmeans.fit(data_retention_scaled)\n",
        "  wcss.append(kmeans.inertia_)\n",
        "\n",
        "wcss = pd.DataFrame(data = np.c_[range(1,10), wcss], columns = ['NumberOfClusters', 'WCSS'])\n",
        "wcss"
      ],
      "execution_count": 106,
      "outputs": [
        {
          "output_type": "execute_result",
          "data": {
            "text/html": [
              "<div>\n",
              "<style scoped>\n",
              "    .dataframe tbody tr th:only-of-type {\n",
              "        vertical-align: middle;\n",
              "    }\n",
              "\n",
              "    .dataframe tbody tr th {\n",
              "        vertical-align: top;\n",
              "    }\n",
              "\n",
              "    .dataframe thead th {\n",
              "        text-align: right;\n",
              "    }\n",
              "</style>\n",
              "<table border=\"1\" class=\"dataframe\">\n",
              "  <thead>\n",
              "    <tr style=\"text-align: right;\">\n",
              "      <th></th>\n",
              "      <th>NumberOfClusters</th>\n",
              "      <th>WCSS</th>\n",
              "    </tr>\n",
              "  </thead>\n",
              "  <tbody>\n",
              "    <tr>\n",
              "      <th>0</th>\n",
              "      <td>1.0</td>\n",
              "      <td>3950.000000</td>\n",
              "    </tr>\n",
              "    <tr>\n",
              "      <th>1</th>\n",
              "      <td>2.0</td>\n",
              "      <td>814.442559</td>\n",
              "    </tr>\n",
              "    <tr>\n",
              "      <th>2</th>\n",
              "      <td>3.0</td>\n",
              "      <td>387.846731</td>\n",
              "    </tr>\n",
              "    <tr>\n",
              "      <th>3</th>\n",
              "      <td>4.0</td>\n",
              "      <td>221.022421</td>\n",
              "    </tr>\n",
              "    <tr>\n",
              "      <th>4</th>\n",
              "      <td>5.0</td>\n",
              "      <td>136.371630</td>\n",
              "    </tr>\n",
              "    <tr>\n",
              "      <th>5</th>\n",
              "      <td>6.0</td>\n",
              "      <td>94.645790</td>\n",
              "    </tr>\n",
              "    <tr>\n",
              "      <th>6</th>\n",
              "      <td>7.0</td>\n",
              "      <td>71.026115</td>\n",
              "    </tr>\n",
              "    <tr>\n",
              "      <th>7</th>\n",
              "      <td>8.0</td>\n",
              "      <td>54.274494</td>\n",
              "    </tr>\n",
              "    <tr>\n",
              "      <th>8</th>\n",
              "      <td>9.0</td>\n",
              "      <td>40.941077</td>\n",
              "    </tr>\n",
              "  </tbody>\n",
              "</table>\n",
              "</div>"
            ],
            "text/plain": [
              "   NumberOfClusters         WCSS\n",
              "0               1.0  3950.000000\n",
              "1               2.0   814.442559\n",
              "2               3.0   387.846731\n",
              "3               4.0   221.022421\n",
              "4               5.0   136.371630\n",
              "5               6.0    94.645790\n",
              "6               7.0    71.026115\n",
              "7               8.0    54.274494\n",
              "8               9.0    40.941077"
            ]
          },
          "metadata": {
            "tags": []
          },
          "execution_count": 106
        }
      ]
    },
    {
      "cell_type": "code",
      "metadata": {
        "id": "g4qHalfa6Z4O",
        "outputId": "98dc2087-8399-4cdb-d99e-ed7d41614f0c",
        "colab": {
          "base_uri": "https://localhost:8080/",
          "height": 542
        }
      },
      "source": [
        "\n",
        "px.line(wcss, x='NumberOfClusters', y='WCSS', template='simple_white', title='WCSS', \n",
        "        width=950, color_discrete_sequence=['red'])"
      ],
      "execution_count": 107,
      "outputs": [
        {
          "output_type": "display_data",
          "data": {
            "text/html": [
              "<html>\n",
              "<head><meta charset=\"utf-8\" /></head>\n",
              "<body>\n",
              "    <div>\n",
              "            <script src=\"https://cdnjs.cloudflare.com/ajax/libs/mathjax/2.7.5/MathJax.js?config=TeX-AMS-MML_SVG\"></script><script type=\"text/javascript\">if (window.MathJax) {MathJax.Hub.Config({SVG: {font: \"STIX-Web\"}});}</script>\n",
              "                <script type=\"text/javascript\">window.PlotlyConfig = {MathJaxConfig: 'local'};</script>\n",
              "        <script src=\"https://cdn.plot.ly/plotly-latest.min.js\"></script>    \n",
              "            <div id=\"22714920-0461-4b33-95c6-c3e7f9a1fe58\" class=\"plotly-graph-div\" style=\"height:525px; width:950px;\"></div>\n",
              "            <script type=\"text/javascript\">\n",
              "                \n",
              "                    window.PLOTLYENV=window.PLOTLYENV || {};\n",
              "                    \n",
              "                if (document.getElementById(\"22714920-0461-4b33-95c6-c3e7f9a1fe58\")) {\n",
              "                    Plotly.newPlot(\n",
              "                        '22714920-0461-4b33-95c6-c3e7f9a1fe58',\n",
              "                        [{\"hoverlabel\": {\"namelength\": 0}, \"hovertemplate\": \"NumberOfClusters=%{x}<br>WCSS=%{y}\", \"legendgroup\": \"\", \"line\": {\"color\": \"red\", \"dash\": \"solid\"}, \"mode\": \"lines\", \"name\": \"\", \"showlegend\": false, \"type\": \"scatter\", \"x\": [1.0, 2.0, 3.0, 4.0, 5.0, 6.0, 7.0, 8.0, 9.0], \"xaxis\": \"x\", \"y\": [3950.0, 814.4425587661965, 387.8467305517345, 221.02242066077105, 136.37163049709147, 94.64578960594982, 71.0261154383522, 54.27449430588413, 40.941076888645604], \"yaxis\": \"y\"}],\n",
              "                        {\"legend\": {\"tracegroupgap\": 0}, \"template\": {\"data\": {\"bar\": [{\"error_x\": {\"color\": \"rgb(36,36,36)\"}, \"error_y\": {\"color\": \"rgb(36,36,36)\"}, \"marker\": {\"line\": {\"color\": \"white\", \"width\": 0.5}}, \"type\": \"bar\"}], \"barpolar\": [{\"marker\": {\"line\": {\"color\": \"white\", \"width\": 0.5}}, \"type\": \"barpolar\"}], \"carpet\": [{\"aaxis\": {\"endlinecolor\": \"rgb(36,36,36)\", \"gridcolor\": \"white\", \"linecolor\": \"white\", \"minorgridcolor\": \"white\", \"startlinecolor\": \"rgb(36,36,36)\"}, \"baxis\": {\"endlinecolor\": \"rgb(36,36,36)\", \"gridcolor\": \"white\", \"linecolor\": \"white\", \"minorgridcolor\": \"white\", \"startlinecolor\": \"rgb(36,36,36)\"}, \"type\": \"carpet\"}], \"choropleth\": [{\"colorbar\": {\"outlinewidth\": 10, \"tickcolor\": \"rgb(36,36,36)\", \"ticklen\": 8, \"ticks\": \"outside\", \"tickwidth\": 2}, \"type\": \"choropleth\"}], \"contour\": [{\"colorbar\": {\"outlinewidth\": 10, \"tickcolor\": \"rgb(36,36,36)\", \"ticklen\": 8, \"ticks\": \"outside\", \"tickwidth\": 2}, \"colorscale\": [[0.0, \"#440154\"], [0.1111111111111111, \"#482878\"], [0.2222222222222222, \"#3e4989\"], [0.3333333333333333, \"#31688e\"], [0.4444444444444444, \"#26828e\"], [0.5555555555555556, \"#1f9e89\"], [0.6666666666666666, \"#35b779\"], [0.7777777777777778, \"#6ece58\"], [0.8888888888888888, \"#b5de2b\"], [1.0, \"#fde725\"]], \"type\": \"contour\"}], \"contourcarpet\": [{\"colorbar\": {\"outlinewidth\": 10, \"tickcolor\": \"rgb(36,36,36)\", \"ticklen\": 8, \"ticks\": \"outside\", \"tickwidth\": 2}, \"type\": \"contourcarpet\"}], \"heatmap\": [{\"colorbar\": {\"outlinewidth\": 10, \"tickcolor\": \"rgb(36,36,36)\", \"ticklen\": 8, \"ticks\": \"outside\", \"tickwidth\": 2}, \"colorscale\": [[0.0, \"#440154\"], [0.1111111111111111, \"#482878\"], [0.2222222222222222, \"#3e4989\"], [0.3333333333333333, \"#31688e\"], [0.4444444444444444, \"#26828e\"], [0.5555555555555556, \"#1f9e89\"], [0.6666666666666666, \"#35b779\"], [0.7777777777777778, \"#6ece58\"], [0.8888888888888888, \"#b5de2b\"], [1.0, \"#fde725\"]], \"type\": \"heatmap\"}], \"heatmapgl\": [{\"colorbar\": {\"outlinewidth\": 10, \"tickcolor\": \"rgb(36,36,36)\", \"ticklen\": 8, \"ticks\": \"outside\", \"tickwidth\": 2}, \"colorscale\": [[0.0, \"#440154\"], [0.1111111111111111, \"#482878\"], [0.2222222222222222, \"#3e4989\"], [0.3333333333333333, \"#31688e\"], [0.4444444444444444, \"#26828e\"], [0.5555555555555556, \"#1f9e89\"], [0.6666666666666666, \"#35b779\"], [0.7777777777777778, \"#6ece58\"], [0.8888888888888888, \"#b5de2b\"], [1.0, \"#fde725\"]], \"type\": \"heatmapgl\"}], \"histogram\": [{\"marker\": {\"line\": {\"color\": \"white\", \"width\": 0.6}}, \"type\": \"histogram\"}], \"histogram2d\": [{\"colorbar\": {\"outlinewidth\": 10, \"tickcolor\": \"rgb(36,36,36)\", \"ticklen\": 8, \"ticks\": \"outside\", \"tickwidth\": 2}, \"colorscale\": [[0.0, \"#440154\"], [0.1111111111111111, \"#482878\"], [0.2222222222222222, \"#3e4989\"], [0.3333333333333333, \"#31688e\"], [0.4444444444444444, \"#26828e\"], [0.5555555555555556, \"#1f9e89\"], [0.6666666666666666, \"#35b779\"], [0.7777777777777778, \"#6ece58\"], [0.8888888888888888, \"#b5de2b\"], [1.0, \"#fde725\"]], \"type\": \"histogram2d\"}], \"histogram2dcontour\": [{\"colorbar\": {\"outlinewidth\": 10, \"tickcolor\": \"rgb(36,36,36)\", \"ticklen\": 8, \"ticks\": \"outside\", \"tickwidth\": 2}, \"colorscale\": [[0.0, \"#440154\"], [0.1111111111111111, \"#482878\"], [0.2222222222222222, \"#3e4989\"], [0.3333333333333333, \"#31688e\"], [0.4444444444444444, \"#26828e\"], [0.5555555555555556, \"#1f9e89\"], [0.6666666666666666, \"#35b779\"], [0.7777777777777778, \"#6ece58\"], [0.8888888888888888, \"#b5de2b\"], [1.0, \"#fde725\"]], \"type\": \"histogram2dcontour\"}], \"mesh3d\": [{\"colorbar\": {\"outlinewidth\": 10, \"tickcolor\": \"rgb(36,36,36)\", \"ticklen\": 8, \"ticks\": \"outside\", \"tickwidth\": 2}, \"type\": \"mesh3d\"}], \"parcoords\": [{\"line\": {\"colorbar\": {\"outlinewidth\": 10, \"tickcolor\": \"rgb(36,36,36)\", \"ticklen\": 8, \"ticks\": \"outside\", \"tickwidth\": 2}}, \"type\": \"parcoords\"}], \"pie\": [{\"automargin\": true, \"type\": \"pie\"}], \"scatter\": [{\"marker\": {\"colorbar\": {\"outlinewidth\": 10, \"tickcolor\": \"rgb(36,36,36)\", \"ticklen\": 8, \"ticks\": \"outside\", \"tickwidth\": 2}}, \"type\": \"scatter\"}], \"scatter3d\": [{\"line\": {\"colorbar\": {\"outlinewidth\": 10, \"tickcolor\": \"rgb(36,36,36)\", \"ticklen\": 8, \"ticks\": \"outside\", \"tickwidth\": 2}}, \"marker\": {\"colorbar\": {\"outlinewidth\": 10, \"tickcolor\": \"rgb(36,36,36)\", \"ticklen\": 8, \"ticks\": \"outside\", \"tickwidth\": 2}}, \"type\": \"scatter3d\"}], \"scattercarpet\": [{\"marker\": {\"colorbar\": {\"outlinewidth\": 10, \"tickcolor\": \"rgb(36,36,36)\", \"ticklen\": 8, \"ticks\": \"outside\", \"tickwidth\": 2}}, \"type\": \"scattercarpet\"}], \"scattergeo\": [{\"marker\": {\"colorbar\": {\"outlinewidth\": 10, \"tickcolor\": \"rgb(36,36,36)\", \"ticklen\": 8, \"ticks\": \"outside\", \"tickwidth\": 2}}, \"type\": \"scattergeo\"}], \"scattergl\": [{\"marker\": {\"colorbar\": {\"outlinewidth\": 10, \"tickcolor\": \"rgb(36,36,36)\", \"ticklen\": 8, \"ticks\": \"outside\", \"tickwidth\": 2}}, \"type\": \"scattergl\"}], \"scattermapbox\": [{\"marker\": {\"colorbar\": {\"outlinewidth\": 10, \"tickcolor\": \"rgb(36,36,36)\", \"ticklen\": 8, \"ticks\": \"outside\", \"tickwidth\": 2}}, \"type\": \"scattermapbox\"}], \"scatterpolar\": [{\"marker\": {\"colorbar\": {\"outlinewidth\": 10, \"tickcolor\": \"rgb(36,36,36)\", \"ticklen\": 8, \"ticks\": \"outside\", \"tickwidth\": 2}}, \"type\": \"scatterpolar\"}], \"scatterpolargl\": [{\"marker\": {\"colorbar\": {\"outlinewidth\": 10, \"tickcolor\": \"rgb(36,36,36)\", \"ticklen\": 8, \"ticks\": \"outside\", \"tickwidth\": 2}}, \"type\": \"scatterpolargl\"}], \"scatterternary\": [{\"marker\": {\"colorbar\": {\"outlinewidth\": 10, \"tickcolor\": \"rgb(36,36,36)\", \"ticklen\": 8, \"ticks\": \"outside\", \"tickwidth\": 2}}, \"type\": \"scatterternary\"}], \"surface\": [{\"colorbar\": {\"outlinewidth\": 10, \"tickcolor\": \"rgb(36,36,36)\", \"ticklen\": 8, \"ticks\": \"outside\", \"tickwidth\": 2}, \"colorscale\": [[0.0, \"#440154\"], [0.1111111111111111, \"#482878\"], [0.2222222222222222, \"#3e4989\"], [0.3333333333333333, \"#31688e\"], [0.4444444444444444, \"#26828e\"], [0.5555555555555556, \"#1f9e89\"], [0.6666666666666666, \"#35b779\"], [0.7777777777777778, \"#6ece58\"], [0.8888888888888888, \"#b5de2b\"], [1.0, \"#fde725\"]], \"type\": \"surface\"}], \"table\": [{\"cells\": {\"fill\": {\"color\": \"rgb(237,237,237)\"}, \"line\": {\"color\": \"white\"}}, \"header\": {\"fill\": {\"color\": \"rgb(217,217,217)\"}, \"line\": {\"color\": \"white\"}}, \"type\": \"table\"}]}, \"layout\": {\"annotationdefaults\": {\"arrowhead\": 0, \"arrowwidth\": 1}, \"coloraxis\": {\"colorbar\": {\"outlinewidth\": 10, \"tickcolor\": \"rgb(36,36,36)\", \"ticklen\": 8, \"ticks\": \"outside\", \"tickwidth\": 2}}, \"colorscale\": {\"diverging\": [[0.0, \"rgb(103,0,31)\"], [0.1, \"rgb(178,24,43)\"], [0.2, \"rgb(214,96,77)\"], [0.3, \"rgb(244,165,130)\"], [0.4, \"rgb(253,219,199)\"], [0.5, \"rgb(247,247,247)\"], [0.6, \"rgb(209,229,240)\"], [0.7, \"rgb(146,197,222)\"], [0.8, \"rgb(67,147,195)\"], [0.9, \"rgb(33,102,172)\"], [1.0, \"rgb(5,48,97)\"]], \"sequential\": [[0.0, \"#440154\"], [0.1111111111111111, \"#482878\"], [0.2222222222222222, \"#3e4989\"], [0.3333333333333333, \"#31688e\"], [0.4444444444444444, \"#26828e\"], [0.5555555555555556, \"#1f9e89\"], [0.6666666666666666, \"#35b779\"], [0.7777777777777778, \"#6ece58\"], [0.8888888888888888, \"#b5de2b\"], [1.0, \"#fde725\"]], \"sequentialminus\": [[0.0, \"#440154\"], [0.1111111111111111, \"#482878\"], [0.2222222222222222, \"#3e4989\"], [0.3333333333333333, \"#31688e\"], [0.4444444444444444, \"#26828e\"], [0.5555555555555556, \"#1f9e89\"], [0.6666666666666666, \"#35b779\"], [0.7777777777777778, \"#6ece58\"], [0.8888888888888888, \"#b5de2b\"], [1.0, \"#fde725\"]]}, \"colorway\": [\"#1F77B4\", \"#FF7F0E\", \"#2CA02C\", \"#D62728\", \"#9467BD\", \"#8C564B\", \"#E377C2\", \"#7F7F7F\", \"#BCBD22\", \"#17BECF\"], \"font\": {\"color\": \"rgb(36,36,36)\"}, \"geo\": {\"bgcolor\": \"white\", \"lakecolor\": \"white\", \"landcolor\": \"white\", \"showlakes\": true, \"showland\": true, \"subunitcolor\": \"white\"}, \"hoverlabel\": {\"align\": \"left\"}, \"hovermode\": \"closest\", \"mapbox\": {\"style\": \"light\"}, \"paper_bgcolor\": \"white\", \"plot_bgcolor\": \"white\", \"polar\": {\"angularaxis\": {\"gridcolor\": \"rgb(232,232,232)\", \"linecolor\": \"rgb(36,36,36)\", \"showgrid\": false, \"showline\": true, \"ticks\": \"outside\"}, \"bgcolor\": \"white\", \"radialaxis\": {\"gridcolor\": \"rgb(232,232,232)\", \"linecolor\": \"rgb(36,36,36)\", \"showgrid\": false, \"showline\": true, \"ticks\": \"outside\"}}, \"scene\": {\"xaxis\": {\"backgroundcolor\": \"white\", \"gridcolor\": \"rgb(232,232,232)\", \"gridwidth\": 2, \"linecolor\": \"rgb(36,36,36)\", \"showbackground\": true, \"showgrid\": false, \"showline\": true, \"ticks\": \"outside\", \"zeroline\": false, \"zerolinecolor\": \"rgb(36,36,36)\"}, \"yaxis\": {\"backgroundcolor\": \"white\", \"gridcolor\": \"rgb(232,232,232)\", \"gridwidth\": 2, \"linecolor\": \"rgb(36,36,36)\", \"showbackground\": true, \"showgrid\": false, \"showline\": true, \"ticks\": \"outside\", \"zeroline\": false, \"zerolinecolor\": \"rgb(36,36,36)\"}, \"zaxis\": {\"backgroundcolor\": \"white\", \"gridcolor\": \"rgb(232,232,232)\", \"gridwidth\": 2, \"linecolor\": \"rgb(36,36,36)\", \"showbackground\": true, \"showgrid\": false, \"showline\": true, \"ticks\": \"outside\", \"zeroline\": false, \"zerolinecolor\": \"rgb(36,36,36)\"}}, \"shapedefaults\": {\"fillcolor\": \"black\", \"line\": {\"width\": 0}, \"opacity\": 0.3}, \"ternary\": {\"aaxis\": {\"gridcolor\": \"rgb(232,232,232)\", \"linecolor\": \"rgb(36,36,36)\", \"showgrid\": false, \"showline\": true, \"ticks\": \"outside\"}, \"baxis\": {\"gridcolor\": \"rgb(232,232,232)\", \"linecolor\": \"rgb(36,36,36)\", \"showgrid\": false, \"showline\": true, \"ticks\": \"outside\"}, \"bgcolor\": \"white\", \"caxis\": {\"gridcolor\": \"rgb(232,232,232)\", \"linecolor\": \"rgb(36,36,36)\", \"showgrid\": false, \"showline\": true, \"ticks\": \"outside\"}}, \"title\": {\"x\": 0.05}, \"xaxis\": {\"automargin\": true, \"gridcolor\": \"rgb(232,232,232)\", \"linecolor\": \"rgb(36,36,36)\", \"showgrid\": false, \"showline\": true, \"ticks\": \"outside\", \"title\": {\"standoff\": 15}, \"zeroline\": false, \"zerolinecolor\": \"rgb(36,36,36)\"}, \"yaxis\": {\"automargin\": true, \"gridcolor\": \"rgb(232,232,232)\", \"linecolor\": \"rgb(36,36,36)\", \"showgrid\": false, \"showline\": true, \"ticks\": \"outside\", \"title\": {\"standoff\": 15}, \"zeroline\": false, \"zerolinecolor\": \"rgb(36,36,36)\"}}}, \"title\": {\"text\": \"WCSS\"}, \"width\": 950, \"xaxis\": {\"anchor\": \"y\", \"domain\": [0.0, 1.0], \"title\": {\"text\": \"NumberOfClusters\"}}, \"yaxis\": {\"anchor\": \"x\", \"domain\": [0.0, 1.0], \"title\": {\"text\": \"WCSS\"}}},\n",
              "                        {\"responsive\": true}\n",
              "                    ).then(function(){\n",
              "                            \n",
              "var gd = document.getElementById('22714920-0461-4b33-95c6-c3e7f9a1fe58');\n",
              "var x = new MutationObserver(function (mutations, observer) {{\n",
              "        var display = window.getComputedStyle(gd).display;\n",
              "        if (!display || display === 'none') {{\n",
              "            console.log([gd, 'removed!']);\n",
              "            Plotly.purge(gd);\n",
              "            observer.disconnect();\n",
              "        }}\n",
              "}});\n",
              "\n",
              "// Listen for the removal of the full notebook cells\n",
              "var notebookContainer = gd.closest('#notebook-container');\n",
              "if (notebookContainer) {{\n",
              "    x.observe(notebookContainer, {childList: true});\n",
              "}}\n",
              "\n",
              "// Listen for the clearing of the current output cell\n",
              "var outputEl = gd.closest('.output');\n",
              "if (outputEl) {{\n",
              "    x.observe(outputEl, {childList: true});\n",
              "}}\n",
              "\n",
              "                        })\n",
              "                };\n",
              "                \n",
              "            </script>\n",
              "        </div>\n",
              "</body>\n",
              "</html>"
            ]
          },
          "metadata": {
            "tags": []
          }
        }
      ]
    },
    {
      "cell_type": "code",
      "metadata": {
        "id": "IFPTM7_O6e2K"
      },
      "source": [
        "kmeans = KMeans(n_clusters = 3, max_iter=1000)\n",
        "kmeans.fit(data_retention_scaled)\n",
        "\n",
        "data_user['Cluster'] = kmeans.labels_"
      ],
      "execution_count": 108,
      "outputs": []
    },
    {
      "cell_type": "code",
      "metadata": {
        "id": "_e7eLmRx7VHV",
        "outputId": "05bda0d3-31fd-407f-957d-692839bbebf2",
        "colab": {
          "base_uri": "https://localhost:8080/",
          "height": 195
        }
      },
      "source": [
        "data_user.head()"
      ],
      "execution_count": 109,
      "outputs": [
        {
          "output_type": "execute_result",
          "data": {
            "text/html": [
              "<div>\n",
              "<style scoped>\n",
              "    .dataframe tbody tr th:only-of-type {\n",
              "        vertical-align: middle;\n",
              "    }\n",
              "\n",
              "    .dataframe tbody tr th {\n",
              "        vertical-align: top;\n",
              "    }\n",
              "\n",
              "    .dataframe thead th {\n",
              "        text-align: right;\n",
              "    }\n",
              "</style>\n",
              "<table border=\"1\" class=\"dataframe\">\n",
              "  <thead>\n",
              "    <tr style=\"text-align: right;\">\n",
              "      <th></th>\n",
              "      <th>CustomerID</th>\n",
              "      <th>Retention</th>\n",
              "      <th>RetentionScaled</th>\n",
              "      <th>Cluster</th>\n",
              "    </tr>\n",
              "  </thead>\n",
              "  <tbody>\n",
              "    <tr>\n",
              "      <th>0</th>\n",
              "      <td>17850.0</td>\n",
              "      <td>301</td>\n",
              "      <td>2.097649</td>\n",
              "      <td>0</td>\n",
              "    </tr>\n",
              "    <tr>\n",
              "      <th>1</th>\n",
              "      <td>13047.0</td>\n",
              "      <td>31</td>\n",
              "      <td>-0.596486</td>\n",
              "      <td>1</td>\n",
              "    </tr>\n",
              "    <tr>\n",
              "      <th>2</th>\n",
              "      <td>13748.0</td>\n",
              "      <td>95</td>\n",
              "      <td>0.042124</td>\n",
              "      <td>2</td>\n",
              "    </tr>\n",
              "    <tr>\n",
              "      <th>3</th>\n",
              "      <td>15100.0</td>\n",
              "      <td>329</td>\n",
              "      <td>2.377041</td>\n",
              "      <td>0</td>\n",
              "    </tr>\n",
              "    <tr>\n",
              "      <th>4</th>\n",
              "      <td>15291.0</td>\n",
              "      <td>25</td>\n",
              "      <td>-0.656356</td>\n",
              "      <td>1</td>\n",
              "    </tr>\n",
              "  </tbody>\n",
              "</table>\n",
              "</div>"
            ],
            "text/plain": [
              "   CustomerID  Retention  RetentionScaled  Cluster\n",
              "0     17850.0        301         2.097649        0\n",
              "1     13047.0         31        -0.596486        1\n",
              "2     13748.0         95         0.042124        2\n",
              "3     15100.0        329         2.377041        0\n",
              "4     15291.0         25        -0.656356        1"
            ]
          },
          "metadata": {
            "tags": []
          },
          "execution_count": 109
        }
      ]
    },
    {
      "cell_type": "code",
      "metadata": {
        "id": "nryguLpg7WCo"
      },
      "source": [
        "tmp = data_user.groupby('Cluster')['Retention'].describe()"
      ],
      "execution_count": 110,
      "outputs": []
    },
    {
      "cell_type": "code",
      "metadata": {
        "id": "fsLhA2wC71um",
        "outputId": "81a7f267-1faf-470b-d1f4-82fc67e53b18",
        "colab": {
          "base_uri": "https://localhost:8080/",
          "height": 166
        }
      },
      "source": [
        "tmp"
      ],
      "execution_count": 111,
      "outputs": [
        {
          "output_type": "execute_result",
          "data": {
            "text/html": [
              "<div>\n",
              "<style scoped>\n",
              "    .dataframe tbody tr th:only-of-type {\n",
              "        vertical-align: middle;\n",
              "    }\n",
              "\n",
              "    .dataframe tbody tr th {\n",
              "        vertical-align: top;\n",
              "    }\n",
              "\n",
              "    .dataframe thead th {\n",
              "        text-align: right;\n",
              "    }\n",
              "</style>\n",
              "<table border=\"1\" class=\"dataframe\">\n",
              "  <thead>\n",
              "    <tr style=\"text-align: right;\">\n",
              "      <th></th>\n",
              "      <th>count</th>\n",
              "      <th>mean</th>\n",
              "      <th>std</th>\n",
              "      <th>min</th>\n",
              "      <th>25%</th>\n",
              "      <th>50%</th>\n",
              "      <th>75%</th>\n",
              "      <th>max</th>\n",
              "    </tr>\n",
              "    <tr>\n",
              "      <th>Cluster</th>\n",
              "      <th></th>\n",
              "      <th></th>\n",
              "      <th></th>\n",
              "      <th></th>\n",
              "      <th></th>\n",
              "      <th></th>\n",
              "      <th></th>\n",
              "      <th></th>\n",
              "    </tr>\n",
              "  </thead>\n",
              "  <tbody>\n",
              "    <tr>\n",
              "      <th>0</th>\n",
              "      <td>564.0</td>\n",
              "      <td>293.684397</td>\n",
              "      <td>45.612310</td>\n",
              "      <td>224.0</td>\n",
              "      <td>255.0</td>\n",
              "      <td>286.5</td>\n",
              "      <td>326.75</td>\n",
              "      <td>373.0</td>\n",
              "    </tr>\n",
              "    <tr>\n",
              "      <th>1</th>\n",
              "      <td>2651.0</td>\n",
              "      <td>30.307808</td>\n",
              "      <td>24.994104</td>\n",
              "      <td>0.0</td>\n",
              "      <td>9.0</td>\n",
              "      <td>24.0</td>\n",
              "      <td>49.00</td>\n",
              "      <td>91.0</td>\n",
              "    </tr>\n",
              "    <tr>\n",
              "      <th>2</th>\n",
              "      <td>735.0</td>\n",
              "      <td>153.185034</td>\n",
              "      <td>38.155512</td>\n",
              "      <td>92.0</td>\n",
              "      <td>119.0</td>\n",
              "      <td>153.0</td>\n",
              "      <td>185.00</td>\n",
              "      <td>222.0</td>\n",
              "    </tr>\n",
              "  </tbody>\n",
              "</table>\n",
              "</div>"
            ],
            "text/plain": [
              "          count        mean        std    min    25%    50%     75%    max\n",
              "Cluster                                                                   \n",
              "0         564.0  293.684397  45.612310  224.0  255.0  286.5  326.75  373.0\n",
              "1        2651.0   30.307808  24.994104    0.0    9.0   24.0   49.00   91.0\n",
              "2         735.0  153.185034  38.155512   92.0  119.0  153.0  185.00  222.0"
            ]
          },
          "metadata": {
            "tags": []
          },
          "execution_count": 111
        }
      ]
    },
    {
      "cell_type": "code",
      "metadata": {
        "id": "V1JPxepY72iz"
      },
      "source": [
        "\n",
        "tmp = tmp['mean'].reset_index()\n",
        "tmp.columns = ['Cluster', 'MeanRetention']"
      ],
      "execution_count": 112,
      "outputs": []
    },
    {
      "cell_type": "code",
      "metadata": {
        "id": "lw4RKePp7_-e",
        "outputId": "afd8e3c8-a007-4359-8251-551f3cb7048c",
        "colab": {
          "base_uri": "https://localhost:8080/",
          "height": 417
        }
      },
      "source": [
        "px.bar(tmp, x='Cluster', y='MeanRetention', template='simple_white', width=950, \n",
        "       height=400, color_discrete_sequence=['darkblue'])"
      ],
      "execution_count": 113,
      "outputs": [
        {
          "output_type": "display_data",
          "data": {
            "text/html": [
              "<html>\n",
              "<head><meta charset=\"utf-8\" /></head>\n",
              "<body>\n",
              "    <div>\n",
              "            <script src=\"https://cdnjs.cloudflare.com/ajax/libs/mathjax/2.7.5/MathJax.js?config=TeX-AMS-MML_SVG\"></script><script type=\"text/javascript\">if (window.MathJax) {MathJax.Hub.Config({SVG: {font: \"STIX-Web\"}});}</script>\n",
              "                <script type=\"text/javascript\">window.PlotlyConfig = {MathJaxConfig: 'local'};</script>\n",
              "        <script src=\"https://cdn.plot.ly/plotly-latest.min.js\"></script>    \n",
              "            <div id=\"0dd951ce-9eb6-4072-8696-73e0d7aacda1\" class=\"plotly-graph-div\" style=\"height:400px; width:950px;\"></div>\n",
              "            <script type=\"text/javascript\">\n",
              "                \n",
              "                    window.PLOTLYENV=window.PLOTLYENV || {};\n",
              "                    \n",
              "                if (document.getElementById(\"0dd951ce-9eb6-4072-8696-73e0d7aacda1\")) {\n",
              "                    Plotly.newPlot(\n",
              "                        '0dd951ce-9eb6-4072-8696-73e0d7aacda1',\n",
              "                        [{\"alignmentgroup\": \"True\", \"hoverlabel\": {\"namelength\": 0}, \"hovertemplate\": \"Cluster=%{x}<br>MeanRetention=%{y}\", \"legendgroup\": \"\", \"marker\": {\"color\": \"darkblue\"}, \"name\": \"\", \"offsetgroup\": \"\", \"orientation\": \"v\", \"showlegend\": false, \"textposition\": \"auto\", \"type\": \"bar\", \"x\": [0, 1, 2], \"xaxis\": \"x\", \"y\": [293.6843971631206, 30.307808374198416, 153.18503401360545], \"yaxis\": \"y\"}],\n",
              "                        {\"barmode\": \"relative\", \"height\": 400, \"legend\": {\"tracegroupgap\": 0}, \"margin\": {\"t\": 60}, \"template\": {\"data\": {\"bar\": [{\"error_x\": {\"color\": \"rgb(36,36,36)\"}, \"error_y\": {\"color\": \"rgb(36,36,36)\"}, \"marker\": {\"line\": {\"color\": \"white\", \"width\": 0.5}}, \"type\": \"bar\"}], \"barpolar\": [{\"marker\": {\"line\": {\"color\": \"white\", \"width\": 0.5}}, \"type\": \"barpolar\"}], \"carpet\": [{\"aaxis\": {\"endlinecolor\": \"rgb(36,36,36)\", \"gridcolor\": \"white\", \"linecolor\": \"white\", \"minorgridcolor\": \"white\", \"startlinecolor\": \"rgb(36,36,36)\"}, \"baxis\": {\"endlinecolor\": \"rgb(36,36,36)\", \"gridcolor\": \"white\", \"linecolor\": \"white\", \"minorgridcolor\": \"white\", \"startlinecolor\": \"rgb(36,36,36)\"}, \"type\": \"carpet\"}], \"choropleth\": [{\"colorbar\": {\"outlinewidth\": 10, \"tickcolor\": \"rgb(36,36,36)\", \"ticklen\": 8, \"ticks\": \"outside\", \"tickwidth\": 2}, \"type\": \"choropleth\"}], \"contour\": [{\"colorbar\": {\"outlinewidth\": 10, \"tickcolor\": \"rgb(36,36,36)\", \"ticklen\": 8, \"ticks\": \"outside\", \"tickwidth\": 2}, \"colorscale\": [[0.0, \"#440154\"], [0.1111111111111111, \"#482878\"], [0.2222222222222222, \"#3e4989\"], [0.3333333333333333, \"#31688e\"], [0.4444444444444444, \"#26828e\"], [0.5555555555555556, \"#1f9e89\"], [0.6666666666666666, \"#35b779\"], [0.7777777777777778, \"#6ece58\"], [0.8888888888888888, \"#b5de2b\"], [1.0, \"#fde725\"]], \"type\": \"contour\"}], \"contourcarpet\": [{\"colorbar\": {\"outlinewidth\": 10, \"tickcolor\": \"rgb(36,36,36)\", \"ticklen\": 8, \"ticks\": \"outside\", \"tickwidth\": 2}, \"type\": \"contourcarpet\"}], \"heatmap\": [{\"colorbar\": {\"outlinewidth\": 10, \"tickcolor\": \"rgb(36,36,36)\", \"ticklen\": 8, \"ticks\": \"outside\", \"tickwidth\": 2}, \"colorscale\": [[0.0, \"#440154\"], [0.1111111111111111, \"#482878\"], [0.2222222222222222, \"#3e4989\"], [0.3333333333333333, \"#31688e\"], [0.4444444444444444, \"#26828e\"], [0.5555555555555556, \"#1f9e89\"], [0.6666666666666666, \"#35b779\"], [0.7777777777777778, \"#6ece58\"], [0.8888888888888888, \"#b5de2b\"], [1.0, \"#fde725\"]], \"type\": \"heatmap\"}], \"heatmapgl\": [{\"colorbar\": {\"outlinewidth\": 10, \"tickcolor\": \"rgb(36,36,36)\", \"ticklen\": 8, \"ticks\": \"outside\", \"tickwidth\": 2}, \"colorscale\": [[0.0, \"#440154\"], [0.1111111111111111, \"#482878\"], [0.2222222222222222, \"#3e4989\"], [0.3333333333333333, \"#31688e\"], [0.4444444444444444, \"#26828e\"], [0.5555555555555556, \"#1f9e89\"], [0.6666666666666666, \"#35b779\"], [0.7777777777777778, \"#6ece58\"], [0.8888888888888888, \"#b5de2b\"], [1.0, \"#fde725\"]], \"type\": \"heatmapgl\"}], \"histogram\": [{\"marker\": {\"line\": {\"color\": \"white\", \"width\": 0.6}}, \"type\": \"histogram\"}], \"histogram2d\": [{\"colorbar\": {\"outlinewidth\": 10, \"tickcolor\": \"rgb(36,36,36)\", \"ticklen\": 8, \"ticks\": \"outside\", \"tickwidth\": 2}, \"colorscale\": [[0.0, \"#440154\"], [0.1111111111111111, \"#482878\"], [0.2222222222222222, \"#3e4989\"], [0.3333333333333333, \"#31688e\"], [0.4444444444444444, \"#26828e\"], [0.5555555555555556, \"#1f9e89\"], [0.6666666666666666, \"#35b779\"], [0.7777777777777778, \"#6ece58\"], [0.8888888888888888, \"#b5de2b\"], [1.0, \"#fde725\"]], \"type\": \"histogram2d\"}], \"histogram2dcontour\": [{\"colorbar\": {\"outlinewidth\": 10, \"tickcolor\": \"rgb(36,36,36)\", \"ticklen\": 8, \"ticks\": \"outside\", \"tickwidth\": 2}, \"colorscale\": [[0.0, \"#440154\"], [0.1111111111111111, \"#482878\"], [0.2222222222222222, \"#3e4989\"], [0.3333333333333333, \"#31688e\"], [0.4444444444444444, \"#26828e\"], [0.5555555555555556, \"#1f9e89\"], [0.6666666666666666, \"#35b779\"], [0.7777777777777778, \"#6ece58\"], [0.8888888888888888, \"#b5de2b\"], [1.0, \"#fde725\"]], \"type\": \"histogram2dcontour\"}], \"mesh3d\": [{\"colorbar\": {\"outlinewidth\": 10, \"tickcolor\": \"rgb(36,36,36)\", \"ticklen\": 8, \"ticks\": \"outside\", \"tickwidth\": 2}, \"type\": \"mesh3d\"}], \"parcoords\": [{\"line\": {\"colorbar\": {\"outlinewidth\": 10, \"tickcolor\": \"rgb(36,36,36)\", \"ticklen\": 8, \"ticks\": \"outside\", \"tickwidth\": 2}}, \"type\": \"parcoords\"}], \"pie\": [{\"automargin\": true, \"type\": \"pie\"}], \"scatter\": [{\"marker\": {\"colorbar\": {\"outlinewidth\": 10, \"tickcolor\": \"rgb(36,36,36)\", \"ticklen\": 8, \"ticks\": \"outside\", \"tickwidth\": 2}}, \"type\": \"scatter\"}], \"scatter3d\": [{\"line\": {\"colorbar\": {\"outlinewidth\": 10, \"tickcolor\": \"rgb(36,36,36)\", \"ticklen\": 8, \"ticks\": \"outside\", \"tickwidth\": 2}}, \"marker\": {\"colorbar\": {\"outlinewidth\": 10, \"tickcolor\": \"rgb(36,36,36)\", \"ticklen\": 8, \"ticks\": \"outside\", \"tickwidth\": 2}}, \"type\": \"scatter3d\"}], \"scattercarpet\": [{\"marker\": {\"colorbar\": {\"outlinewidth\": 10, \"tickcolor\": \"rgb(36,36,36)\", \"ticklen\": 8, \"ticks\": \"outside\", \"tickwidth\": 2}}, \"type\": \"scattercarpet\"}], \"scattergeo\": [{\"marker\": {\"colorbar\": {\"outlinewidth\": 10, \"tickcolor\": \"rgb(36,36,36)\", \"ticklen\": 8, \"ticks\": \"outside\", \"tickwidth\": 2}}, \"type\": \"scattergeo\"}], \"scattergl\": [{\"marker\": {\"colorbar\": {\"outlinewidth\": 10, \"tickcolor\": \"rgb(36,36,36)\", \"ticklen\": 8, \"ticks\": \"outside\", \"tickwidth\": 2}}, \"type\": \"scattergl\"}], \"scattermapbox\": [{\"marker\": {\"colorbar\": {\"outlinewidth\": 10, \"tickcolor\": \"rgb(36,36,36)\", \"ticklen\": 8, \"ticks\": \"outside\", \"tickwidth\": 2}}, \"type\": \"scattermapbox\"}], \"scatterpolar\": [{\"marker\": {\"colorbar\": {\"outlinewidth\": 10, \"tickcolor\": \"rgb(36,36,36)\", \"ticklen\": 8, \"ticks\": \"outside\", \"tickwidth\": 2}}, \"type\": \"scatterpolar\"}], \"scatterpolargl\": [{\"marker\": {\"colorbar\": {\"outlinewidth\": 10, \"tickcolor\": \"rgb(36,36,36)\", \"ticklen\": 8, \"ticks\": \"outside\", \"tickwidth\": 2}}, \"type\": \"scatterpolargl\"}], \"scatterternary\": [{\"marker\": {\"colorbar\": {\"outlinewidth\": 10, \"tickcolor\": \"rgb(36,36,36)\", \"ticklen\": 8, \"ticks\": \"outside\", \"tickwidth\": 2}}, \"type\": \"scatterternary\"}], \"surface\": [{\"colorbar\": {\"outlinewidth\": 10, \"tickcolor\": \"rgb(36,36,36)\", \"ticklen\": 8, \"ticks\": \"outside\", \"tickwidth\": 2}, \"colorscale\": [[0.0, \"#440154\"], [0.1111111111111111, \"#482878\"], [0.2222222222222222, \"#3e4989\"], [0.3333333333333333, \"#31688e\"], [0.4444444444444444, \"#26828e\"], [0.5555555555555556, \"#1f9e89\"], [0.6666666666666666, \"#35b779\"], [0.7777777777777778, \"#6ece58\"], [0.8888888888888888, \"#b5de2b\"], [1.0, \"#fde725\"]], \"type\": \"surface\"}], \"table\": [{\"cells\": {\"fill\": {\"color\": \"rgb(237,237,237)\"}, \"line\": {\"color\": \"white\"}}, \"header\": {\"fill\": {\"color\": \"rgb(217,217,217)\"}, \"line\": {\"color\": \"white\"}}, \"type\": \"table\"}]}, \"layout\": {\"annotationdefaults\": {\"arrowhead\": 0, \"arrowwidth\": 1}, \"coloraxis\": {\"colorbar\": {\"outlinewidth\": 10, \"tickcolor\": \"rgb(36,36,36)\", \"ticklen\": 8, \"ticks\": \"outside\", \"tickwidth\": 2}}, \"colorscale\": {\"diverging\": [[0.0, \"rgb(103,0,31)\"], [0.1, \"rgb(178,24,43)\"], [0.2, \"rgb(214,96,77)\"], [0.3, \"rgb(244,165,130)\"], [0.4, \"rgb(253,219,199)\"], [0.5, \"rgb(247,247,247)\"], [0.6, \"rgb(209,229,240)\"], [0.7, \"rgb(146,197,222)\"], [0.8, \"rgb(67,147,195)\"], [0.9, \"rgb(33,102,172)\"], [1.0, \"rgb(5,48,97)\"]], \"sequential\": [[0.0, \"#440154\"], [0.1111111111111111, \"#482878\"], [0.2222222222222222, \"#3e4989\"], [0.3333333333333333, \"#31688e\"], [0.4444444444444444, \"#26828e\"], [0.5555555555555556, \"#1f9e89\"], [0.6666666666666666, \"#35b779\"], [0.7777777777777778, \"#6ece58\"], [0.8888888888888888, \"#b5de2b\"], [1.0, \"#fde725\"]], \"sequentialminus\": [[0.0, \"#440154\"], [0.1111111111111111, \"#482878\"], [0.2222222222222222, \"#3e4989\"], [0.3333333333333333, \"#31688e\"], [0.4444444444444444, \"#26828e\"], [0.5555555555555556, \"#1f9e89\"], [0.6666666666666666, \"#35b779\"], [0.7777777777777778, \"#6ece58\"], [0.8888888888888888, \"#b5de2b\"], [1.0, \"#fde725\"]]}, \"colorway\": [\"#1F77B4\", \"#FF7F0E\", \"#2CA02C\", \"#D62728\", \"#9467BD\", \"#8C564B\", \"#E377C2\", \"#7F7F7F\", \"#BCBD22\", \"#17BECF\"], \"font\": {\"color\": \"rgb(36,36,36)\"}, \"geo\": {\"bgcolor\": \"white\", \"lakecolor\": \"white\", \"landcolor\": \"white\", \"showlakes\": true, \"showland\": true, \"subunitcolor\": \"white\"}, \"hoverlabel\": {\"align\": \"left\"}, \"hovermode\": \"closest\", \"mapbox\": {\"style\": \"light\"}, \"paper_bgcolor\": \"white\", \"plot_bgcolor\": \"white\", \"polar\": {\"angularaxis\": {\"gridcolor\": \"rgb(232,232,232)\", \"linecolor\": \"rgb(36,36,36)\", \"showgrid\": false, \"showline\": true, \"ticks\": \"outside\"}, \"bgcolor\": \"white\", \"radialaxis\": {\"gridcolor\": \"rgb(232,232,232)\", \"linecolor\": \"rgb(36,36,36)\", \"showgrid\": false, \"showline\": true, \"ticks\": \"outside\"}}, \"scene\": {\"xaxis\": {\"backgroundcolor\": \"white\", \"gridcolor\": \"rgb(232,232,232)\", \"gridwidth\": 2, \"linecolor\": \"rgb(36,36,36)\", \"showbackground\": true, \"showgrid\": false, \"showline\": true, \"ticks\": \"outside\", \"zeroline\": false, \"zerolinecolor\": \"rgb(36,36,36)\"}, \"yaxis\": {\"backgroundcolor\": \"white\", \"gridcolor\": \"rgb(232,232,232)\", \"gridwidth\": 2, \"linecolor\": \"rgb(36,36,36)\", \"showbackground\": true, \"showgrid\": false, \"showline\": true, \"ticks\": \"outside\", \"zeroline\": false, \"zerolinecolor\": \"rgb(36,36,36)\"}, \"zaxis\": {\"backgroundcolor\": \"white\", \"gridcolor\": \"rgb(232,232,232)\", \"gridwidth\": 2, \"linecolor\": \"rgb(36,36,36)\", \"showbackground\": true, \"showgrid\": false, \"showline\": true, \"ticks\": \"outside\", \"zeroline\": false, \"zerolinecolor\": \"rgb(36,36,36)\"}}, \"shapedefaults\": {\"fillcolor\": \"black\", \"line\": {\"width\": 0}, \"opacity\": 0.3}, \"ternary\": {\"aaxis\": {\"gridcolor\": \"rgb(232,232,232)\", \"linecolor\": \"rgb(36,36,36)\", \"showgrid\": false, \"showline\": true, \"ticks\": \"outside\"}, \"baxis\": {\"gridcolor\": \"rgb(232,232,232)\", \"linecolor\": \"rgb(36,36,36)\", \"showgrid\": false, \"showline\": true, \"ticks\": \"outside\"}, \"bgcolor\": \"white\", \"caxis\": {\"gridcolor\": \"rgb(232,232,232)\", \"linecolor\": \"rgb(36,36,36)\", \"showgrid\": false, \"showline\": true, \"ticks\": \"outside\"}}, \"title\": {\"x\": 0.05}, \"xaxis\": {\"automargin\": true, \"gridcolor\": \"rgb(232,232,232)\", \"linecolor\": \"rgb(36,36,36)\", \"showgrid\": false, \"showline\": true, \"ticks\": \"outside\", \"title\": {\"standoff\": 15}, \"zeroline\": false, \"zerolinecolor\": \"rgb(36,36,36)\"}, \"yaxis\": {\"automargin\": true, \"gridcolor\": \"rgb(232,232,232)\", \"linecolor\": \"rgb(36,36,36)\", \"showgrid\": false, \"showline\": true, \"ticks\": \"outside\", \"title\": {\"standoff\": 15}, \"zeroline\": false, \"zerolinecolor\": \"rgb(36,36,36)\"}}}, \"width\": 950, \"xaxis\": {\"anchor\": \"y\", \"domain\": [0.0, 1.0], \"title\": {\"text\": \"Cluster\"}}, \"yaxis\": {\"anchor\": \"x\", \"domain\": [0.0, 1.0], \"title\": {\"text\": \"MeanRetention\"}}},\n",
              "                        {\"responsive\": true}\n",
              "                    ).then(function(){\n",
              "                            \n",
              "var gd = document.getElementById('0dd951ce-9eb6-4072-8696-73e0d7aacda1');\n",
              "var x = new MutationObserver(function (mutations, observer) {{\n",
              "        var display = window.getComputedStyle(gd).display;\n",
              "        if (!display || display === 'none') {{\n",
              "            console.log([gd, 'removed!']);\n",
              "            Plotly.purge(gd);\n",
              "            observer.disconnect();\n",
              "        }}\n",
              "}});\n",
              "\n",
              "// Listen for the removal of the full notebook cells\n",
              "var notebookContainer = gd.closest('#notebook-container');\n",
              "if (notebookContainer) {{\n",
              "    x.observe(notebookContainer, {childList: true});\n",
              "}}\n",
              "\n",
              "// Listen for the clearing of the current output cell\n",
              "var outputEl = gd.closest('.output');\n",
              "if (outputEl) {{\n",
              "    x.observe(outputEl, {childList: true});\n",
              "}}\n",
              "\n",
              "                        })\n",
              "                };\n",
              "                \n",
              "            </script>\n",
              "        </div>\n",
              "</body>\n",
              "</html>"
            ]
          },
          "metadata": {
            "tags": []
          }
        }
      ]
    },
    {
      "cell_type": "code",
      "metadata": {
        "id": "QJMoDNIS8ImY",
        "outputId": "1ce23015-b8d7-4938-dc2e-ca82c95914f4",
        "colab": {
          "base_uri": "https://localhost:8080/",
          "height": 542
        }
      },
      "source": [
        "px.scatter(data_user, x='CustomerID', y='Retention', color='Cluster', template='simple_white', \n",
        "           width=950, title='Wizualizacja klastrów')"
      ],
      "execution_count": 114,
      "outputs": [
        {
          "output_type": "display_data",
          "data": {
            "text/html": [
              "<html>\n",
              "<head><meta charset=\"utf-8\" /></head>\n",
              "<body>\n",
              "    <div>\n",
              "            <script src=\"https://cdnjs.cloudflare.com/ajax/libs/mathjax/2.7.5/MathJax.js?config=TeX-AMS-MML_SVG\"></script><script type=\"text/javascript\">if (window.MathJax) {MathJax.Hub.Config({SVG: {font: \"STIX-Web\"}});}</script>\n",
              "                <script type=\"text/javascript\">window.PlotlyConfig = {MathJaxConfig: 'local'};</script>\n",
              "        <script src=\"https://cdn.plot.ly/plotly-latest.min.js\"></script>    \n",
              "            <div id=\"9cb367e2-50a1-4ff3-b6eb-377bb985850b\" class=\"plotly-graph-div\" style=\"height:525px; width:950px;\"></div>\n",
              "            <script type=\"text/javascript\">\n",
              "                \n",
              "                    window.PLOTLYENV=window.PLOTLYENV || {};\n",
              "                    \n",
              "                if (document.getElementById(\"9cb367e2-50a1-4ff3-b6eb-377bb985850b\")) {\n",
              "                    Plotly.newPlot(\n",
              "                        '9cb367e2-50a1-4ff3-b6eb-377bb985850b',\n",
              "                        [{\"hoverlabel\": {\"namelength\": 0}, \"hovertemplate\": \"CustomerID=%{x}<br>Retention=%{y}<br>Cluster=%{marker.color}\", \"legendgroup\": \"\", \"marker\": {\"color\": [0, 1, 2, 0, 1, 1, 1, 1, 1, 1, 0, 1, 1, 0, 1, 2, 1, 0, 1, 1, 1, 1, 1, 1, 1, 2, 1, 0, 1, 1, 1, 0, 0, 1, 1, 1, 1, 0, 1, 2, 1, 0, 1, 1, 0, 1, 1, 2, 1, 2, 1, 1, 0, 1, 1, 2, 0, 1, 1, 0, 1, 0, 2, 1, 1, 0, 1, 0, 1, 1, 1, 1, 1, 0, 0, 1, 1, 1, 1, 1, 2, 1, 1, 0, 1, 0, 1, 2, 2, 1, 0, 1, 1, 1, 0, 1, 0, 0, 1, 0, 1, 0, 1, 1, 1, 0, 1, 1, 1, 2, 1, 1, 1, 1, 0, 2, 1, 1, 0, 2, 1, 2, 1, 0, 0, 1, 0, 2, 1, 1, 1, 1, 1, 1, 1, 1, 1, 1, 1, 0, 1, 0, 0, 1, 1, 0, 0, 1, 1, 1, 1, 2, 1, 0, 1, 1, 1, 1, 2, 1, 1, 1, 1, 1, 1, 1, 1, 1, 1, 1, 2, 0, 1, 0, 2, 2, 1, 2, 0, 1, 2, 2, 0, 0, 2, 2, 0, 1, 1, 1, 1, 1, 1, 1, 1, 2, 1, 1, 0, 1, 0, 1, 1, 0, 2, 1, 1, 0, 1, 0, 1, 1, 1, 1, 1, 1, 1, 1, 0, 2, 1, 1, 1, 1, 1, 1, 1, 1, 1, 1, 0, 1, 1, 1, 1, 1, 1, 1, 1, 1, 1, 1, 1, 1, 1, 1, 1, 1, 1, 1, 1, 1, 0, 0, 1, 1, 1, 1, 0, 1, 2, 1, 0, 1, 1, 1, 1, 2, 1, 0, 0, 0, 1, 1, 2, 1, 1, 0, 1, 1, 1, 0, 1, 1, 1, 1, 2, 1, 1, 1, 1, 1, 0, 1, 1, 1, 1, 1, 1, 1, 1, 1, 0, 1, 1, 1, 1, 1, 1, 0, 1, 0, 1, 1, 1, 0, 1, 1, 1, 2, 2, 1, 1, 1, 1, 1, 1, 0, 1, 1, 1, 0, 1, 1, 2, 2, 1, 1, 1, 2, 1, 1, 2, 1, 1, 0, 1, 1, 0, 1, 1, 1, 1, 1, 2, 1, 0, 1, 1, 1, 1, 1, 1, 1, 2, 1, 1, 2, 2, 0, 1, 0, 1, 1, 1, 2, 0, 1, 1, 1, 1, 1, 1, 1, 0, 1, 0, 0, 1, 1, 1, 1, 1, 1, 1, 2, 1, 1, 1, 1, 1, 1, 0, 1, 1, 1, 0, 1, 1, 1, 1, 2, 1, 1, 1, 0, 0, 1, 1, 1, 1, 0, 1, 1, 1, 1, 1, 1, 1, 1, 1, 1, 1, 0, 1, 1, 1, 1, 1, 1, 1, 1, 1, 1, 1, 1, 0, 1, 1, 0, 1, 1, 1, 2, 1, 2, 1, 1, 1, 1, 0, 1, 1, 1, 2, 1, 1, 1, 1, 1, 1, 0, 0, 1, 2, 1, 0, 1, 2, 1, 0, 1, 0, 1, 1, 1, 1, 2, 1, 2, 2, 1, 0, 1, 1, 1, 1, 0, 1, 1, 1, 1, 1, 1, 1, 2, 2, 2, 1, 1, 1, 0, 1, 0, 1, 1, 1, 0, 1, 2, 1, 2, 0, 0, 1, 2, 0, 1, 1, 1, 1, 1, 1, 1, 1, 0, 0, 1, 1, 1, 1, 1, 2, 1, 0, 2, 1, 0, 2, 1, 0, 0, 1, 1, 1, 1, 0, 0, 1, 1, 1, 1, 2, 1, 1, 2, 0, 1, 1, 1, 1, 1, 1, 1, 1, 1, 1, 1, 1, 0, 2, 1, 1, 0, 0, 0, 1, 2, 0, 1, 1, 1, 1, 2, 1, 1, 1, 1, 0, 0, 1, 1, 1, 1, 0, 1, 1, 1, 1, 1, 0, 0, 1, 1, 2, 0, 1, 1, 1, 1, 2, 1, 0, 2, 1, 1, 1, 1, 1, 0, 0, 1, 0, 0, 1, 1, 1, 1, 1, 2, 1, 1, 0, 2, 1, 1, 1, 1, 1, 1, 2, 0, 1, 1, 1, 1, 2, 1, 0, 1, 1, 2, 0, 1, 0, 2, 1, 2, 1, 1, 0, 1, 1, 2, 0, 0, 0, 0, 1, 1, 1, 1, 1, 0, 2, 1, 1, 1, 2, 0, 0, 1, 1, 1, 1, 0, 1, 1, 1, 1, 1, 1, 1, 2, 2, 1, 1, 0, 1, 1, 1, 1, 1, 1, 1, 1, 1, 1, 1, 2, 1, 0, 1, 2, 0, 1, 1, 1, 1, 1, 1, 1, 0, 1, 2, 1, 1, 0, 0, 1, 2, 1, 1, 0, 1, 1, 1, 2, 1, 0, 1, 1, 0, 1, 1, 2, 1, 2, 0, 1, 1, 1, 1, 0, 1, 1, 0, 1, 1, 1, 1, 1, 1, 1, 2, 1, 1, 1, 2, 1, 1, 1, 2, 1, 1, 1, 1, 1, 1, 1, 0, 1, 1, 0, 1, 2, 0, 0, 1, 1, 1, 1, 1, 2, 1, 1, 1, 2, 1, 0, 0, 2, 1, 0, 2, 1, 1, 1, 1, 1, 2, 1, 1, 0, 1, 1, 0, 0, 2, 1, 1, 1, 2, 0, 1, 1, 0, 0, 1, 1, 1, 1, 1, 1, 2, 2, 1, 1, 0, 1, 1, 0, 1, 1, 1, 1, 1, 0, 1, 2, 1, 1, 1, 1, 0, 0, 0, 1, 0, 1, 0, 1, 1, 0, 1, 1, 1, 1, 1, 2, 1, 1, 1, 2, 1, 1, 2, 1, 1, 0, 1, 0, 1, 1, 2, 1, 2, 0, 1, 2, 1, 1, 1, 0, 1, 1, 2, 1, 1, 2, 1, 2, 1, 1, 0, 2, 2, 2, 2, 2, 1, 0, 0, 2, 1, 1, 1, 1, 0, 0, 2, 2, 1, 1, 1, 1, 1, 1, 1, 0, 1, 1, 1, 1, 1, 1, 1, 1, 1, 1, 0, 1, 1, 1, 1, 1, 0, 1, 0, 2, 0, 1, 1, 1, 1, 1, 1, 2, 2, 0, 0, 0, 1, 1, 2, 1, 1, 0, 0, 1, 0, 1, 2, 0, 1, 1, 1, 1, 0, 1, 1, 1, 1, 1, 1, 0, 1, 1, 0, 1, 2, 1, 0, 1, 1, 1, 2, 1, 0, 0, 0, 1, 1, 0, 1, 1, 1, 1, 0, 1, 0, 1, 0, 1, 1, 1, 1, 1, 1, 1, 1, 1, 1, 1, 1, 1, 1, 1, 1, 1, 1, 1, 0, 1, 1, 1, 1, 1, 0, 1, 2, 1, 0, 0, 1, 1, 0, 1, 0, 0, 0, 2, 0, 0, 0, 1, 1, 2, 0, 1, 1, 1, 1, 1, 1, 1, 1, 2, 1, 0, 0, 0, 1, 1, 0, 0, 1, 0, 1, 2, 0, 1, 0, 1, 0, 2, 1, 2, 1, 0, 2, 1, 2, 1, 2, 0, 1, 2, 1, 1, 0, 1, 0, 1, 0, 1, 0, 1, 1, 0, 1, 1, 1, 1, 1, 1, 0, 2, 0, 0, 0, 0, 1, 2, 1, 1, 1, 1, 1, 0, 1, 1, 1, 1, 0, 1, 0, 1, 1, 2, 1, 1, 0, 0, 1, 1, 2, 1, 1, 1, 2, 2, 0, 0, 1, 1, 2, 1, 1, 1, 0, 1, 2, 1, 1, 1, 1, 1, 1, 1, 1, 1, 1, 1, 1, 1, 1, 1, 1, 0, 1, 1, 1, 1, 0, 2, 1, 2, 1, 2, 2, 1, 1, 1, 1, 0, 1, 1, 1, 0, 1, 1, 0, 0, 0, 1, 1, 0, 1, 1, 1, 1, 1, 1, 1, 0, 1, 0, 2, 2, 2, 0, 1, 1, 1, 1, 0, 0, 1, 1, 1, 1, 0, 2, 2, 0, 1, 1, 2, 0, 1, 1, 1, 1, 0, 0, 1, 1, 0, 0, 0, 2, 0, 2, 1, 1, 2, 0, 1, 1, 0, 1, 1, 1, 1, 2, 1, 1, 1, 2, 0, 1, 2, 0, 1, 1, 0, 1, 0, 1, 0, 1, 1, 2, 0, 0, 1, 0, 1, 1, 1, 2, 0, 0, 1, 1, 1, 1, 2, 0, 0, 1, 1, 1, 1, 0, 2, 0, 0, 1, 1, 0, 1, 1, 1, 2, 1, 2, 1, 2, 1, 0, 1, 0, 0, 1, 2, 2, 0, 0, 0, 2, 0, 1, 1, 0, 0, 1, 1, 0, 1, 0, 2, 1, 2, 0, 1, 1, 1, 1, 2, 1, 2, 2, 1, 1, 1, 0, 2, 0, 0, 1, 1, 1, 2, 1, 2, 1, 2, 1, 0, 1, 1, 1, 0, 2, 1, 1, 1, 1, 1, 1, 0, 1, 1, 1, 0, 1, 1, 2, 2, 2, 0, 1, 0, 1, 1, 0, 0, 1, 0, 1, 1, 2, 1, 0, 1, 0, 1, 1, 1, 1, 0, 1, 1, 2, 2, 1, 1, 0, 1, 1, 0, 2, 0, 1, 1, 1, 2, 1, 1, 0, 2, 2, 0, 1, 1, 2, 1, 1, 2, 2, 2, 2, 0, 1, 1, 1, 1, 1, 1, 1, 1, 0, 2, 1, 0, 1, 1, 1, 2, 1, 1, 1, 0, 0, 0, 0, 0, 1, 2, 1, 1, 2, 1, 1, 2, 1, 0, 0, 1, 2, 1, 1, 1, 1, 1, 1, 1, 1, 0, 1, 0, 0, 0, 2, 1, 1, 2, 1, 1, 1, 2, 1, 1, 1, 0, 0, 0, 0, 2, 0, 0, 1, 2, 0, 1, 1, 1, 1, 1, 1, 1, 1, 0, 1, 2, 1, 1, 0, 1, 0, 0, 0, 1, 1, 1, 1, 1, 1, 1, 1, 2, 0, 1, 2, 2, 1, 1, 1, 1, 1, 1, 0, 0, 1, 0, 1, 1, 1, 0, 1, 2, 2, 1, 0, 1, 1, 0, 1, 1, 2, 0, 1, 0, 2, 1, 0, 1, 1, 0, 1, 0, 2, 1, 1, 2, 1, 1, 2, 2, 0, 1, 1, 0, 0, 0, 1, 1, 0, 1, 2, 0, 1, 1, 1, 2, 0, 0, 2, 0, 1, 1, 2, 1, 1, 1, 0, 1, 0, 1, 1, 2, 0, 1, 1, 1, 0, 1, 0, 1, 1, 1, 1, 1, 1, 1, 0, 0, 1, 1, 0, 1, 1, 1, 1, 0, 2, 0, 1, 0, 2, 1, 1, 0, 1, 0, 1, 1, 1, 0, 0, 1, 0, 2, 1, 1, 1, 1, 1, 1, 0, 1, 1, 1, 1, 1, 1, 2, 2, 2, 1, 1, 0, 1, 0, 2, 0, 1, 1, 1, 1, 1, 0, 2, 0, 1, 1, 0, 1, 0, 0, 0, 1, 0, 1, 1, 2, 1, 1, 0, 1, 1, 1, 0, 2, 1, 0, 0, 2, 1, 1, 1, 1, 0, 2, 1, 0, 2, 1, 1, 1, 0, 1, 1, 1, 1, 0, 1, 0, 1, 0, 1, 2, 0, 1, 0, 1, 0, 2, 1, 0, 1, 1, 1, 0, 1, 2, 0, 1, 2, 1, 1, 1, 1, 1, 0, 0, 0, 1, 2, 1, 1, 1, 1, 0, 0, 0, 1, 2, 1, 2, 1, 1, 0, 0, 1, 0, 1, 1, 0, 1, 0, 2, 1, 0, 1, 1, 1, 0, 0, 1, 1, 1, 0, 1, 1, 0, 1, 0, 1, 2, 2, 0, 1, 1, 0, 1, 0, 1, 1, 1, 1, 1, 0, 0, 1, 1, 0, 0, 0, 1, 1, 0, 2, 0, 2, 1, 0, 0, 2, 0, 2, 1, 1, 1, 0, 0, 0, 1, 1, 2, 1, 1, 0, 0, 1, 0, 1, 0, 1, 0, 2, 1, 0, 2, 0, 2, 2, 0, 1, 1, 1, 2, 1, 1, 1, 1, 1, 1, 0, 0, 1, 0, 2, 1, 0, 1, 0, 1, 0, 0, 0, 1, 1, 1, 1, 2, 0, 1, 0, 1, 2, 2, 1, 2, 1, 0, 1, 0, 1, 2, 0, 0, 1, 1, 2, 2, 1, 1, 1, 2, 2, 1, 1, 2, 1, 2, 0, 2, 1, 1, 0, 2, 1, 1, 2, 1, 1, 0, 1, 1, 0, 1, 2, 1, 2, 0, 1, 1, 0, 2, 0, 2, 1, 0, 0, 1, 0, 1, 1, 1, 1, 0, 1, 1, 0, 1, 0, 2, 0, 0, 1, 2, 2, 1, 1, 0, 0, 1, 1, 1, 0, 0, 2, 0, 1, 1, 1, 0, 1, 0, 1, 0, 1, 2, 1, 0, 0, 1, 0, 1, 1, 0, 0, 1, 0, 1, 1, 1, 1, 2, 1, 0, 1, 2, 1, 0, 1, 0, 2, 2, 0, 1, 0, 1, 2, 1, 1, 0, 1, 0, 2, 1, 1, 2, 1, 1, 1, 1, 0, 2, 1, 2, 0, 1, 1, 1, 0, 1, 0, 2, 1, 1, 0, 1, 0, 0, 0, 2, 1, 1, 2, 1, 0, 1, 2, 2, 0, 0, 1, 0, 1, 2, 2, 0, 1, 1, 1, 0, 1, 1, 0, 0, 0, 1, 1, 1, 1, 1, 0, 0, 2, 1, 1, 1, 1, 1, 2, 0, 1, 0, 0, 1, 2, 0, 0, 1, 0, 1, 0, 1, 1, 1, 1, 1, 1, 0, 2, 1, 0, 2, 1, 1, 2, 1, 2, 1, 2, 1, 1, 1, 1, 1, 1, 0, 1, 1, 1, 0, 0, 0, 2, 2, 0, 1, 2, 1, 1, 1, 0, 0, 2, 1, 2, 0, 1, 1, 1, 0, 0, 0, 1, 0, 2, 0, 2, 2, 0, 1, 1, 2, 2, 2, 1, 1, 1, 2, 1, 2, 0, 1, 1, 0, 0, 1, 1, 0, 1, 2, 0, 1, 1, 1, 1, 0, 0, 1, 0, 2, 2, 2, 1, 1, 1, 1, 1, 0, 2, 2, 2, 1, 0, 1, 0, 2, 0, 0, 1, 1, 0, 1, 2, 2, 1, 0, 2, 0, 0, 1, 0, 1, 1, 2, 1, 1, 0, 0, 2, 0, 1, 2, 0, 0, 0, 1, 1, 1, 2, 2, 2, 2, 1, 1, 1, 2, 2, 2, 1, 1, 1, 2, 1, 2, 2, 1, 1, 1, 1, 2, 2, 2, 2, 2, 1, 2, 1, 2, 2, 2, 2, 1, 1, 1, 2, 2, 1, 1, 1, 2, 2, 1, 2, 1, 2, 1, 1, 1, 2, 2, 2, 1, 2, 1, 1, 1, 2, 2, 1, 2, 2, 1, 1, 1, 1, 1, 2, 2, 2, 1, 2, 2, 2, 2, 1, 1, 1, 1, 1, 2, 1, 2, 2, 2, 1, 2, 1, 1, 1, 2, 1, 1, 2, 2, 1, 1, 2, 2, 1, 1, 2, 1, 2, 1, 1, 2, 2, 1, 2, 2, 1, 1, 1, 1, 1, 1, 1, 2, 1, 2, 1, 1, 1, 2, 2, 1, 1, 2, 1, 2, 1, 1, 1, 1, 2, 2, 1, 1, 1, 2, 1, 1, 1, 1, 2, 1, 2, 1, 1, 2, 2, 1, 2, 2, 1, 1, 1, 1, 1, 2, 1, 2, 1, 2, 1, 1, 1, 1, 1, 1, 1, 2, 1, 1, 2, 2, 2, 1, 2, 2, 2, 2, 1, 1, 1, 1, 1, 1, 2, 1, 2, 1, 2, 1, 1, 2, 2, 2, 2, 2, 1, 2, 1, 1, 2, 2, 1, 2, 2, 1, 2, 1, 2, 1, 1, 1, 2, 2, 1, 2, 2, 2, 1, 2, 2, 1, 1, 2, 1, 2, 2, 1, 2, 2, 2, 2, 1, 2, 2, 2, 2, 1, 2, 2, 2, 1, 1, 1, 1, 1, 1, 1, 2, 2, 1, 1, 2, 2, 1, 2, 2, 1, 1, 2, 2, 2, 2, 2, 1, 1, 1, 2, 1, 1, 2, 2, 1, 2, 2, 2, 1, 1, 2, 2, 2, 2, 1, 2, 1, 1, 1, 1, 2, 2, 2, 2, 1, 1, 2, 2, 1, 1, 1, 1, 2, 1, 1, 2, 1, 1, 1, 1, 1, 2, 1, 1, 1, 2, 2, 1, 2, 1, 2, 1, 1, 2, 2, 1, 2, 1, 2, 1, 1, 1, 1, 1, 1, 2, 1, 1, 1, 1, 1, 1, 2, 2, 2, 2, 1, 1, 1, 1, 1, 1, 2, 2, 2, 2, 2, 1, 2, 2, 1, 2, 2, 1, 2, 1, 2, 2, 1, 1, 1, 2, 1, 1, 1, 2, 2, 2, 2, 1, 2, 2, 1, 1, 2, 1, 2, 2, 2, 1, 1, 2, 1, 1, 2, 2, 2, 1, 1, 2, 1, 2, 2, 1, 1, 2, 2, 1, 1, 2, 2, 1, 2, 2, 2, 2, 1, 2, 1, 2, 1, 2, 1, 2, 1, 1, 1, 2, 1, 1, 1, 2, 2, 1, 2, 1, 2, 2, 1, 1, 1, 1, 1, 1, 2, 2, 2, 1, 2, 1, 2, 2, 2, 2, 2, 2, 1, 2, 1, 2, 2, 2, 2, 2, 2, 2, 1, 2, 2, 1, 1, 2, 1, 2, 2, 1, 2, 2, 2, 2, 2, 2, 1, 1, 1, 2, 2, 1, 2, 1, 1, 2, 1, 1, 2, 1, 2, 2, 2, 2, 1, 2, 2, 1, 1, 2, 1, 1, 1, 1, 1, 1, 1, 2, 2, 1, 2, 2, 2, 2, 1, 1, 2, 1, 2, 1, 1, 1, 1, 1, 1, 1, 2, 2, 2, 1, 2, 2, 2, 1, 2, 2, 1, 2, 2, 1, 1, 2, 1, 1, 1, 1, 2, 1, 1, 1, 2, 2, 2, 1, 1, 2, 1, 2, 2, 2, 1, 2, 2, 1, 2, 2, 2, 1, 2, 1, 1, 2, 2, 1, 1, 2, 1, 2, 2, 2, 2, 1, 2, 1, 2, 2, 1, 1, 1, 2, 2, 1, 2, 2, 1, 2, 2, 1, 1, 2, 2, 2, 2, 2, 2, 2, 1, 1, 2, 1, 1, 2, 1, 2, 1, 2, 2, 2, 1, 2, 1, 2, 1, 1, 1, 1, 1, 2, 2, 2, 1, 1, 2, 1, 2, 1, 2, 1, 1, 1, 2, 2, 2, 1, 1, 2, 2, 1, 2, 2, 2, 2, 1, 1, 1, 2, 2, 2, 1, 1, 1, 2, 1, 1, 2, 2, 1, 2, 1, 1, 1, 1, 2, 1, 2, 1, 2, 2, 2, 2, 2, 1, 2, 2, 2, 1, 2, 2, 1, 1, 2, 1, 1, 1, 2, 1, 2, 1, 1, 2, 1, 2, 1, 2, 2, 2, 2, 2, 1, 1, 2, 2, 1, 1, 1, 2, 2, 1, 1, 1, 2, 1, 1, 1, 2, 1, 1, 1, 2, 2, 1, 2, 2, 2, 2, 2, 1, 2, 2, 2, 2, 1, 1, 1, 2, 1, 2, 1, 2, 2, 1, 1, 1, 2, 1, 1, 1, 1, 1, 1, 1, 2, 2, 1, 2, 2, 1, 1, 1, 2, 1, 2, 1, 1, 2, 2, 1, 1, 1, 2, 2, 2, 1, 1, 2, 2, 2, 2, 1, 1, 1, 2, 2, 2, 2, 1, 1, 1, 1, 1, 1, 1, 1, 1, 1, 1, 1, 1, 1, 1, 1, 1, 1, 1, 1, 1, 1, 1, 1, 1, 1, 1, 1, 1, 1, 1, 1, 1, 1, 1, 1, 1, 1, 1, 1, 1, 1, 1, 1, 1, 1, 1, 1, 1, 1, 1, 1, 1, 1, 1, 1, 1, 1, 1, 1, 1, 1, 1, 1, 1, 1, 1, 1, 1, 1, 1, 1, 1, 1, 1, 1, 1, 1, 1, 1, 1, 1, 1, 1, 1, 1, 1, 1, 1, 1, 1, 1, 1, 1, 1, 1, 1, 1, 1, 1, 1, 1, 1, 1, 1, 1, 1, 1, 1, 1, 1, 1, 1, 1, 1, 1, 1, 1, 1, 1, 1, 1, 1, 1, 1, 1, 1, 1, 1, 1, 1, 1, 1, 1, 1, 1, 1, 1, 1, 1, 1, 1, 1, 1, 1, 1, 1, 1, 1, 1, 1, 1, 1, 1, 1, 1, 1, 1, 1, 1, 1, 1, 1, 1, 1, 1, 1, 1, 1, 1, 1, 1, 1, 1, 1, 1, 1, 1, 1, 1, 1, 1, 1, 1, 1, 1, 1, 1, 1, 1, 1, 1, 1, 1, 1, 1, 1, 1, 1, 1, 1, 1, 1, 1, 1, 1, 1, 1, 1, 1, 1, 1, 1, 1, 1, 1, 1, 1, 1, 1, 1, 1, 1, 1, 1, 1, 1, 1, 1, 1, 1, 1, 1, 1, 1, 1, 1, 1, 1, 1, 1, 1, 1, 1, 1, 1, 1, 1, 1, 1, 1, 1, 1, 1, 1, 1, 1, 1, 1, 1, 1, 1, 1, 1, 1, 1, 1, 1, 1, 1, 1, 1, 1, 1, 1, 1, 1, 1, 1, 1, 1, 1, 1, 1, 1, 1, 1, 1, 1, 1, 1, 1, 1, 1, 1, 1, 1, 1, 1, 1, 1, 1, 1, 1, 1, 1, 1, 1, 1, 1, 1, 1, 1, 1, 1, 1, 1, 1, 1, 1, 1, 1, 1, 1, 1, 1, 1, 1, 1, 1, 1, 1, 1, 1, 1, 1, 1, 1, 1, 1, 1, 1, 1, 1, 1, 1, 1, 1, 1, 1, 1, 1, 1, 1, 1, 1, 1, 1, 1, 1, 1, 1, 1, 1, 1, 1, 1, 1, 1, 1, 1, 1, 1, 1, 1, 1, 1, 1, 1, 1, 1, 1, 1, 1, 1, 1, 1, 1, 1, 1, 1, 1, 1, 1, 1, 1, 1, 1, 1, 1, 1, 1, 1, 1, 1, 1, 1, 1, 1, 1, 1, 1, 1, 1, 1, 1, 1, 1, 1, 1, 1, 1, 1, 1, 1, 1, 1, 1, 1, 1, 1, 1, 1, 1, 1, 1, 1, 1, 1, 1, 1, 1, 1, 1, 1, 1, 1, 1, 1, 1, 1, 1, 1, 1, 1, 1, 1, 1, 1, 1, 1, 1, 1, 1, 1, 1, 1, 1, 1, 1, 1, 1, 1, 1, 1, 1, 1, 1, 1, 1, 1, 1, 1, 1, 1, 1, 1, 1, 1, 1, 1, 1, 1, 1, 1, 1, 1, 1, 1, 1, 1, 1, 1, 1, 1, 1, 1, 1, 1, 1, 1, 1, 1, 1, 1, 1, 1, 1, 1, 1, 1, 1, 1, 1, 1, 1, 1, 1, 1, 1, 1, 1, 1, 1, 1, 1, 1, 1, 1, 1, 1, 1, 1, 1, 1, 1, 1, 1, 1, 1, 1, 1, 1, 1, 1, 1, 1, 1, 1, 1, 1, 1, 1, 1, 1, 1, 1, 1, 1, 1, 1, 1, 1, 1, 1, 1, 1, 1, 1, 1, 1, 1, 1, 1, 1, 1, 1, 1, 1, 1, 1, 1, 1, 1, 1, 1, 1, 1, 1, 1, 1, 1, 1, 1, 1, 1, 1, 1, 1, 1, 1, 1, 1, 1, 1, 1, 1, 1, 1, 1, 1, 1, 1, 1, 1, 1, 1, 1, 1, 1, 1, 1, 1, 1, 1, 1, 1, 1, 1, 1, 1, 1, 1, 1, 1, 1, 1, 1, 1, 1, 1, 1, 1, 1, 1, 1, 1, 1, 1, 1, 1, 1, 1, 1, 1, 1, 1, 1, 1, 1, 1, 1, 1, 1, 1, 1, 1, 1, 1, 1, 1, 1, 1, 1, 1, 1, 1, 1, 1, 1, 1, 1, 1, 1, 1, 1, 1, 1, 1, 1, 1, 1, 1, 1, 1, 1, 1, 1, 1, 1, 1, 1, 1, 1, 1, 1, 1, 1, 1, 1, 1, 1, 1, 1, 1, 1, 1, 1, 1, 1, 1, 1, 1, 1, 1, 1, 1, 1, 1, 1, 1, 1, 1, 1, 1, 1, 1, 1, 1, 1, 1, 1, 1, 1, 1, 1, 1, 1, 1, 1, 1, 1, 1, 1, 1, 1, 1, 1, 1, 1, 1, 1, 1, 1, 1, 1, 1, 1, 1, 1, 1, 1, 1, 1, 1, 1, 1, 1, 1, 1, 1, 1, 1, 1, 1, 1, 1, 1, 1, 1, 1, 1, 1, 1, 1, 1, 1, 1, 1, 1, 1, 1, 1, 1, 1, 1, 1, 1, 1, 1, 1, 1, 1, 1, 1, 1, 1, 1, 1, 1, 1, 1, 1, 1, 1, 1, 1, 1, 1, 1, 1, 1, 1, 1, 1, 1, 1, 1, 1, 1, 1, 1, 1, 1, 1, 1, 1, 1, 1, 1, 1, 1, 1, 1, 1, 1, 1, 1, 1, 1, 1, 1, 1, 1, 1, 1, 1, 1, 1, 1, 1, 1, 1, 1, 1, 1, 1], \"coloraxis\": \"coloraxis\", \"symbol\": \"circle\"}, \"mode\": \"markers\", \"name\": \"\", \"showlegend\": false, \"type\": \"scattergl\", \"x\": [17850.0, 13047.0, 13748.0, 15100.0, 15291.0, 14688.0, 17809.0, 15311.0, 14527.0, 16098.0, 18074.0, 17420.0, 16029.0, 16250.0, 17511.0, 17548.0, 13705.0, 13747.0, 13408.0, 13767.0, 17924.0, 13448.0, 15862.0, 15513.0, 16218.0, 14045.0, 14307.0, 17908.0, 17920.0, 12838.0, 13255.0, 16583.0, 18085.0, 13758.0, 13694.0, 15983.0, 14849.0, 17968.0, 16210.0, 17897.0, 17377.0, 16552.0, 17181.0, 17951.0, 14729.0, 12748.0, 15012.0, 12868.0, 17572.0, 14078.0, 14001.0, 15525.0, 14237.0, 17905.0, 15485.0, 16955.0, 15350.0, 15605.0, 18144.0, 15922.0, 14594.0, 15165.0, 16456.0, 17841.0, 17346.0, 17643.0, 17873.0, 13093.0, 12921.0, 13468.0, 17760.0, 16928.0, 16048.0, 16274.0, 14496.0, 14696.0, 16539.0, 17025.0, 13777.0, 17690.0, 12947.0, 17460.0, 18229.0, 14142.0, 17069.0, 13065.0, 14606.0, 16835.0, 15235.0, 13576.0, 18011.0, 13090.0, 15694.0, 14741.0, 13715.0, 14092.0, 17732.0, 12855.0, 15752.0, 17855.0, 14047.0, 17925.0, 13941.0, 17017.0, 14135.0, 13108.0, 15601.0, 13418.0, 14766.0, 15658.0, 14388.0, 14901.0, 18041.0, 15955.0, 15070.0, 16244.0, 15111.0, 14390.0, 16546.0, 15260.0, 13305.0, 14491.0, 14060.0, 15923.0, 16752.0, 17287.0, 15363.0, 12915.0, 15544.0, 15738.0, 16042.0, 17381.0, 15827.0, 14180.0, 13117.0, 16916.0, 17964.0, 14466.0, 17235.0, 16510.0, 17802.0, 15107.0, 17976.0, 14449.0, 15838.0, 16781.0, 17547.0, 13491.0, 16186.0, 17685.0, 17581.0, 15732.0, 13138.0, 15823.0, 17567.0, 15061.0, 16203.0, 15640.0, 15574.0, 16770.0, 17838.0, 17228.0, 14829.0, 17412.0, 14031.0, 14775.0, 12971.0, 15834.0, 17659.0, 15299.0, 15646.0, 13958.0, 14443.0, 16995.0, 13402.0, 18168.0, 17757.0, 14625.0, 13011.0, 13798.0, 15384.0, 14264.0, 13295.0, 16754.0, 16634.0, 18239.0, 14576.0, 13145.0, 14395.0, 14865.0, 15093.0, 16150.0, 17552.0, 14236.0, 17961.0, 14573.0, 17135.0, 17396.0, 14213.0, 12967.0, 14679.0, 15240.0, 18225.0, 13370.0, 16883.0, 12841.0, 16905.0, 17967.0, 16891.0, 14589.0, 14680.0, 17884.0, 14083.0, 13013.0, 14210.0, 16477.0, 16013.0, 17949.0, 16926.0, 17787.0, 14723.0, 17954.0, 17819.0, 15373.0, 16140.0, 17198.0, 17238.0, 15769.0, 14396.0, 14898.0, 16725.0, 16455.0, 13081.0, 15545.0, 17243.0, 15465.0, 15708.0, 13089.0, 16033.0, 13838.0, 15351.0, 18055.0, 15038.0, 18109.0, 13069.0, 16241.0, 14800.0, 16839.0, 16168.0, 16931.0, 16814.0, 13269.0, 14813.0, 17062.0, 14810.0, 16353.0, 18118.0, 13831.0, 13506.0, 17796.0, 15716.0, 18156.0, 15221.0, 16983.0, 17059.0, 16327.0, 17211.0, 17026.0, 15570.0, 15880.0, 16718.0, 15808.0, 17858.0, 16393.0, 14161.0, 17863.0, 16411.0, 16402.0, 15023.0, 17402.0, 15426.0, 15894.0, 15867.0, 14506.0, 15555.0, 13034.0, 15889.0, 15953.0, 16143.0, 16422.0, 12747.0, 15502.0, 14081.0, 17965.0, 14404.0, 13579.0, 13174.0, 15987.0, 17677.0, 13652.0, 17428.0, 16161.0, 16858.0, 18219.0, 14293.0, 14748.0, 16638.0, 17674.0, 13094.0, 15899.0, 15898.0, 17691.0, 17227.0, 15039.0, 15919.0, 13497.0, 15860.0, 14189.0, 15304.0, 14867.0, 14344.0, 16719.0, 15048.0, 15301.0, 14708.0, 16898.0, 14825.0, 18113.0, 17596.0, 15078.0, 14085.0, 17860.0, 13155.0, 15028.0, 16919.0, 17259.0, 17019.0, 14487.0, 16722.0, 15882.0, 14667.0, 16710.0, 16550.0, 15984.0, 17682.0, 16658.0, 17068.0, 15356.0, 17223.0, 16817.0, 13030.0, 17191.0, 15194.0, 14409.0, 16654.0, 16861.0, 16138.0, 13481.0, 13495.0, 17519.0, 17218.0, 17812.0, 14215.0, 15602.0, 17320.0, 16782.0, 12913.0, 17869.0, 13564.0, 14850.0, 15021.0, 13963.0, 17450.0, 17091.0, 17470.0, 17616.0, 15649.0, 14907.0, 17735.0, 16059.0, 17720.0, 15018.0, 14733.0, 13756.0, 14176.0, 13319.0, 15353.0, 18119.0, 17491.0, 14282.0, 13569.0, 15498.0, 14673.0, 13488.0, 16221.0, 15002.0, 15965.0, 15024.0, 17675.0, 13769.0, 16904.0, 16086.0, 13786.0, 13880.0, 13173.0, 15858.0, 15180.0, 14739.0, 16293.0, 17419.0, 16775.0, 16306.0, 16950.0, 17591.0, 12839.0, 13807.0, 16125.0, 15081.0, 18102.0, 16365.0, 17870.0, 14821.0, 16863.0, 13078.0, 13267.0, 13050.0, 15628.0, 14796.0, 16779.0, 13599.0, 13329.0, 18077.0, 14744.0, 17406.0, 15750.0, 13983.0, 13842.0, 13199.0, 14032.0, 17706.0, 16081.0, 16525.0, 14952.0, 17975.0, 16122.0, 13126.0, 15973.0, 16558.0, 16713.0, 16893.0, 15529.0, 18043.0, 16016.0, 17722.0, 17324.0, 17341.0, 14051.0, 15916.0, 16233.0, 16385.0, 15032.0, 17213.0, 18061.0, 13113.0, 16553.0, 13455.0, 14217.0, 17262.0, 14299.0, 18259.0, 17676.0, 16679.0, 18269.0, 15298.0, 18193.0, 13523.0, 12870.0, 15005.0, 15581.0, 15680.0, 13649.0, 17894.0, 13270.0, 14618.0, 14866.0, 13077.0, 13115.0, 13531.0, 13848.0, 13140.0, 15713.0, 17999.0, 15347.0, 17340.0, 13984.0, 15996.0, 14030.0, 16252.0, 16596.0, 16700.0, 16011.0, 17655.0, 16717.0, 14243.0, 12963.0, 15079.0, 14437.0, 12942.0, 15660.0, 18092.0, 15358.0, 18071.0, 13854.0, 13369.0, 17857.0, 17411.0, 14987.0, 14355.0, 17526.0, 14896.0, 14440.0, 13240.0, 14479.0, 16065.0, 17430.0, 16520.0, 15945.0, 15181.0, 15856.0, 13102.0, 14205.0, 17702.0, 15271.0, 13982.0, 15288.0, 17978.0, 16795.0, 16519.0, 17816.0, 13021.0, 16255.0, 17671.0, 17646.0, 16350.0, 12872.0, 17339.0, 18230.0, 16499.0, 15192.0, 14441.0, 15279.0, 16579.0, 15380.0, 17442.0, 17950.0, 12826.0, 17456.0, 17307.0, 15811.0, 13327.0, 17700.0, 13136.0, 15535.0, 15329.0, 15211.0, 15596.0, 16163.0, 16907.0, 17576.0, 14713.0, 14702.0, 13230.0, 13969.0, 17530.0, 15805.0, 17696.0, 17076.0, 17827.0, 16265.0, 17880.0, 13000.0, 17790.0, 14419.0, 14082.0, 17912.0, 15723.0, 16656.0, 14037.0, 14256.0, 14543.0, 16062.0, 18116.0, 16019.0, 18178.0, 18065.0, 13148.0, 12989.0, 14107.0, 15881.0, 16727.0, 15514.0, 13787.0, 17865.0, 17220.0, 16565.0, 16873.0, 14062.0, 15179.0, 18016.0, 14448.0, 15503.0, 17251.0, 16923.0, 14159.0, 17126.0, 15224.0, 14577.0, 17236.0, 17372.0, 16367.0, 12875.0, 17917.0, 16010.0, 17085.0, 13668.0, 14684.0, 17188.0, 15547.0, 15998.0, 14413.0, 18004.0, 13959.0, 16665.0, 15454.0, 15044.0, 17937.0, 14608.0, 17618.0, 14505.0, 18037.0, 13198.0, 13225.0, 15361.0, 15689.0, 14290.0, 13209.0, 13999.0, 14498.0, 15854.0, 16701.0, 16927.0, 17990.0, 14544.0, 17338.0, 17231.0, 17799.0, 14565.0, 16726.0, 17303.0, 14639.0, 17611.0, 17179.0, 17524.0, 17293.0, 17890.0, 17375.0, 17371.0, 17969.0, 15159.0, 13211.0, 15777.0, 14525.0, 13324.0, 13802.0, 13948.0, 13008.0, 14206.0, 16202.0, 16442.0, 18075.0, 15468.0, 16570.0, 14524.0, 18141.0, 16810.0, 14961.0, 17041.0, 16458.0, 16083.0, 16262.0, 17194.0, 14057.0, 14871.0, 13178.0, 18044.0, 16812.0, 16191.0, 14298.0, 17158.0, 14415.0, 16899.0, 16531.0, 16556.0, 16805.0, 16503.0, 17739.0, 13238.0, 12829.0, 13097.0, 12867.0, 15392.0, 13846.0, 14401.0, 16145.0, 17629.0, 14150.0, 13496.0, 13611.0, 16954.0, 17454.0, 17449.0, 17230.0, 15950.0, 15512.0, 17525.0, 13458.0, 14426.0, 16003.0, 13092.0, 13426.0, 15101.0, 17033.0, 13221.0, 14201.0, 17692.0, 15822.0, 16134.0, 17551.0, 18050.0, 14913.0, 15641.0, 13124.0, 17214.0, 15456.0, 15062.0, 12928.0, 15727.0, 17980.0, 15290.0, 17752.0, 15615.0, 17044.0, 13829.0, 17633.0, 13266.0, 17820.0, 15664.0, 17189.0, 17496.0, 16607.0, 13317.0, 13890.0, 17001.0, 15246.0, 16996.0, 15482.0, 16037.0, 14841.0, 16670.0, 16985.0, 16705.0, 16470.0, 14414.0, 15563.0, 12980.0, 16746.0, 14878.0, 16743.0, 17146.0, 12877.0, 15394.0, 14621.0, 15379.0, 14309.0, 17288.0, 14709.0, 15157.0, 17744.0, 16316.0, 15620.0, 15789.0, 16560.0, 13534.0, 17580.0, 14777.0, 15759.0, 14373.0, 18176.0, 15366.0, 14735.0, 16271.0, 18223.0, 15532.0, 16816.0, 16684.0, 14334.0, 16945.0, 14643.0, 15197.0, 14220.0, 13874.0, 18260.0, 17848.0, 17392.0, 14985.0, 13004.0, 14560.0, 12931.0, 13627.0, 14769.0, 15780.0, 17315.0, 16711.0, 15204.0, 17888.0, 17007.0, 15160.0, 13033.0, 13869.0, 14146.0, 16885.0, 17913.0, 14472.0, 17358.0, 16686.0, 18245.0, 17343.0, 18256.0, 16153.0, 12944.0, 15312.0, 14099.0, 14113.0, 13104.0, 17204.0, 13027.0, 17621.0, 17090.0, 14119.0, 15527.0, 18097.0, 15460.0, 15034.0, 15208.0, 17306.0, 14737.0, 13029.0, 16270.0, 13487.0, 17400.0, 17593.0, 13953.0, 14533.0, 14944.0, 17239.0, 14532.0, 15562.0, 15587.0, 13922.0, 13165.0, 13304.0, 13313.0, 16875.0, 16282.0, 12957.0, 14462.0, 13397.0, 13680.0, 15164.0, 17457.0, 14732.0, 14221.0, 14553.0, 13253.0, 17389.0, 15841.0, 16112.0, 13629.0, 16600.0, 15661.0, 16532.0, 15266.0, 14653.0, 16771.0, 17585.0, 15046.0, 13082.0, 15464.0, 18226.0, 18062.0, 17368.0, 14258.0, 15719.0, 13368.0, 17634.0, 16676.0, 16424.0, 18283.0, 13764.0, 13656.0, 14312.0, 13280.0, 15845.0, 16094.0, 13187.0, 16567.0, 14828.0, 16551.0, 16889.0, 16473.0, 13750.0, 15607.0, 15139.0, 17707.0, 18198.0, 18179.0, 17284.0, 13233.0, 14889.0, 14672.0, 13593.0, 13162.0, 13183.0, 17095.0, 12939.0, 15611.0, 17114.0, 15059.0, 16326.0, 17128.0, 14761.0, 17555.0, 16735.0, 16833.0, 17800.0, 16748.0, 14755.0, 16549.0, 13565.0, 15799.0, 18032.0, 13451.0, 14794.0, 18171.0, 16279.0, 17811.0, 16850.0, 14321.0, 15326.0, 17849.0, 13672.0, 14229.0, 13107.0, 16497.0, 16303.0, 15281.0, 13473.0, 14320.0, 17742.0, 16351.0, 13144.0, 15346.0, 15370.0, 14295.0, 16034.0, 17365.0, 15189.0, 14669.0, 18095.0, 15518.0, 15749.0, 14209.0, 15569.0, 17569.0, 13784.0, 13862.0, 16791.0, 16235.0, 14270.0, 16655.0, 16359.0, 16554.0, 15939.0, 14587.0, 14715.0, 14185.0, 14040.0, 14514.0, 15171.0, 14167.0, 17048.0, 17364.0, 13284.0, 16500.0, 12951.0, 15835.0, 18190.0, 13993.0, 14114.0, 15447.0, 16315.0, 14978.0, 16395.0, 15510.0, 13614.0, 13246.0, 15687.0, 16493.0, 13385.0, 15626.0, 15213.0, 14175.0, 18106.0, 15033.0, 14329.0, 16401.0, 16206.0, 13782.0, 12924.0, 16593.0, 13700.0, 13064.0, 13048.0, 18069.0, 13634.0, 16843.0, 17064.0, 17609.0, 15673.0, 14976.0, 13527.0, 15696.0, 15316.0, 15296.0, 17988.0, 12820.0, 13001.0, 14101.0, 14238.0, 17730.0, 13929.0, 14657.0, 13859.0, 18212.0, 14292.0, 13883.0, 18233.0, 17018.0, 14242.0, 12346.0, 13898.0, 16948.0, 16997.0, 15395.0, 13693.0, 13263.0, 14428.0, 17708.0, 14090.0, 15606.0, 15831.0, 13310.0, 14916.0, 17602.0, 14572.0, 13502.0, 14784.0, 15938.0, 17418.0, 14779.0, 15262.0, 17862.0, 16892.0, 17771.0, 15422.0, 14770.0, 16912.0, 15174.0, 14895.0, 17504.0, 16387.0, 16618.0, 17277.0, 14088.0, 17094.0, 14692.0, 12970.0, 17889.0, 17644.0, 17714.0, 12916.0, 17769.0, 14450.0, 16085.0, 13659.0, 15167.0, 15443.0, 14224.0, 13742.0, 17673.0, 14068.0, 13068.0, 14368.0, 15497.0, 13819.0, 14501.0, 14782.0, 17861.0, 18161.0, 15820.0, 18136.0, 16660.0, 13396.0, 12935.0, 16730.0, 14541.0, 13551.0, 15797.0, 15052.0, 14130.0, 15222.0, 13615.0, 13901.0, 13158.0, 14257.0, 15218.0, 15110.0, 14534.0, 15967.0, 16757.0, 12854.0, 18008.0, 18277.0, 14389.0, 13703.0, 15339.0, 16222.0, 14341.0, 13168.0, 16943.0, 17515.0, 17082.0, 14248.0, 13002.0, 16133.0, 13049.0, 14548.0, 13405.0, 14049.0, 16043.0, 15812.0, 13837.0, 17118.0, 14616.0, 14233.0, 17075.0, 16714.0, 13098.0, 17027.0, 17786.0, 16124.0, 16409.0, 13754.0, 15227.0, 12997.0, 15215.0, 16918.0, 16882.0, 16496.0, 17311.0, 15910.0, 16949.0, 14970.0, 14701.0, 16767.0, 14738.0, 17540.0, 14239.0, 18125.0, 13328.0, 15549.0, 15864.0, 14662.0, 17180.0, 15057.0, 13330.0, 13552.0, 12853.0, 13538.0, 16755.0, 14133.0, 16523.0, 14659.0, 13141.0, 15365.0, 13707.0, 13709.0, 17329.0, 14805.0, 16897.0, 15579.0, 14595.0, 13161.0, 15415.0, 17431.0, 17463.0, 14502.0, 15448.0, 17314.0, 17373.0, 18145.0, 14467.0, 12908.0, 15144.0, 14776.0, 16403.0, 16407.0, 17619.0, 17256.0, 17604.0, 14006.0, 13600.0, 15058.0, 17147.0, 13881.0, 16612.0, 14627.0, 17356.0, 12836.0, 13939.0, 16745.0, 13606.0, 13494.0, 12929.0, 16419.0, 17035.0, 15203.0, 16515.0, 18202.0, 14549.0, 15981.0, 16110.0, 17376.0, 13110.0, 16716.0, 15940.0, 15971.0, 14665.0, 14457.0, 15589.0, 14411.0, 17560.0, 15226.0, 14460.0, 16156.0, 13728.0, 14127.0, 16378.0, 13894.0, 13824.0, 18250.0, 15270.0, 14188.0, 18017.0, 15421.0, 17446.0, 14798.0, 12990.0, 16992.0, 17337.0, 16405.0, 17071.0, 13873.0, 17362.0, 13394.0, 16333.0, 16030.0, 14044.0, 13800.0, 17672.0, 13581.0, 14540.0, 13539.0, 15885.0, 14497.0, 17507.0, 13208.0, 17334.0, 13871.0, 16938.0, 17929.0, 14778.0, 17517.0, 17226.0, 13137.0, 13725.0, 13309.0, 12842.0, 16109.0, 17291.0, 15090.0, 15199.0, 13911.0, 14194.0, 14842.0, 13584.0, 17105.0, 14438.0, 12956.0, 15781.0, 14410.0, 14600.0, 17302.0, 17613.0, 13334.0, 13955.0, 17162.0, 17774.0, 15407.0, 15577.0, 16332.0, 14048.0, 14475.0, 17859.0, 15753.0, 14562.0, 16951.0, 16998.0, 13133.0, 17881.0, 15843.0, 17083.0, 15970.0, 13590.0, 17537.0, 17843.0, 13706.0, 17940.0, 17686.0, 14431.0, 15809.0, 14465.0, 18093.0, 16027.0, 12857.0, 16425.0, 16842.0, 15796.0, 14555.0, 15114.0, 15133.0, 17705.0, 18087.0, 12897.0, 17512.0, 15550.0, 14676.0, 18159.0, 14304.0, 15638.0, 12943.0, 13875.0, 15406.0, 18084.0, 17282.0, 16434.0, 17050.0, 13171.0, 17472.0, 17255.0, 16084.0, 17667.0, 14631.0, 13381.0, 15236.0, 13475.0, 13717.0, 13157.0, 14644.0, 12993.0, 17571.0, 16979.0, 16738.0, 15122.0, 17612.0, 17348.0, 13893.0, 14035.0, 13623.0, 14346.0, 16431.0, 16317.0, 16073.0, 14477.0, 14760.0, 14897.0, 15810.0, 16509.0, 14386.0, 14530.0, 15670.0, 16126.0, 14609.0, 13414.0, 12823.0, 16494.0, 14959.0, 16148.0, 17422.0, 17175.0, 18257.0, 13018.0, 13718.0, 15382.0, 14754.0, 13151.0, 13085.0, 15903.0, 15785.0, 18138.0, 14379.0, 14211.0, 14371.0, 13425.0, 12852.0, 15228.0, 13012.0, 16182.0, 13489.0, 13904.0, 15755.0, 13932.0, 13799.0, 13951.0, 16765.0, 18172.0, 16566.0, 12891.0, 16466.0, 16115.0, 14162.0, 13301.0, 14803.0, 13744.0, 12988.0, 17323.0, 18094.0, 15129.0, 17361.0, 18155.0, 15321.0, 13477.0, 15065.0, 16980.0, 15146.0, 13410.0, 13044.0, 16441.0, 16014.0, 14520.0, 17994.0, 13038.0, 17002.0, 15722.0, 16349.0, 16913.0, 18114.0, 15303.0, 12845.0, 18188.0, 16045.0, 16573.0, 13421.0, 18196.0, 13285.0, 13184.0, 18151.0, 13804.0, 17499.0, 15397.0, 14276.0, 13453.0, 16394.0, 17711.0, 13865.0, 16940.0, 14289.0, 16208.0, 17063.0, 13149.0, 18068.0, 15932.0, 16692.0, 15590.0, 17171.0, 18231.0, 14004.0, 17139.0, 14513.0, 13118.0, 15974.0, 17830.0, 14231.0, 17867.0, 14880.0, 15121.0, 17117.0, 12945.0, 18056.0, 16072.0, 16838.0, 15543.0, 13751.0, 15847.0, 13851.0, 13345.0, 13870.0, 17034.0, 16592.0, 15712.0, 13362.0, 14470.0, 17388.0, 16841.0, 13753.0, 13666.0, 14481.0, 13792.0, 17663.0, 13973.0, 15990.0, 13684.0, 13261.0, 16598.0, 14147.0, 15951.0, 13971.0, 17516.0, 13630.0, 14157.0, 13636.0, 13610.0, 14745.0, 14036.0, 16057.0, 15724.0, 13675.0, 14227.0, 16668.0, 16667.0, 13509.0, 15874.0, 16187.0, 16339.0, 14046.0, 13292.0, 16427.0, 14056.0, 15656.0, 16518.0, 17165.0, 17462.0, 14620.0, 14740.0, 16462.0, 16078.0, 16915.0, 15676.0, 15709.0, 15241.0, 12933.0, 15092.0, 15319.0, 16212.0, 15257.0, 14656.0, 13884.0, 13166.0, 16389.0, 15416.0, 15733.0, 16678.0, 12834.0, 13722.0, 15067.0, 16128.0, 17770.0, 15622.0, 14473.0, 15104.0, 15643.0, 16792.0, 15031.0, 15636.0, 12873.0, 17923.0, 16217.0, 17738.0, 17426.0, 16957.0, 16571.0, 14483.0, 15087.0, 16709.0, 17856.0, 15053.0, 18218.0, 16159.0, 17995.0, 17374.0, 17789.0, 17416.0, 17652.0, 13476.0, 15393.0, 13014.0, 13931.0, 13382.0, 15220.0, 14570.0, 14447.0, 13557.0, 16449.0, 17325.0, 14995.0, 16414.0, 15681.0, 14670.0, 15675.0, 17535.0, 15400.0, 14903.0, 14499.0, 18211.0, 14504.0, 15572.0, 17107.0, 14247.0, 15554.0, 14915.0, 16136.0, 18280.0, 13344.0, 16621.0, 16225.0, 14214.0, 14012.0, 16356.0, 17654.0, 15026.0, 16517.0, 14817.0, 17092.0, 16242.0, 15869.0, 17817.0, 15234.0, 15764.0, 15806.0, 15819.0, 14586.0, 15944.0, 13340.0, 16917.0, 14407.0, 13908.0, 13975.0, 14730.0, 14367.0, 13373.0, 16712.0, 17639.0, 16426.0, 16495.0, 14336.0, 14507.0, 17049.0, 15206.0, 14013.0, 14645.0, 15071.0, 14112.0, 13026.0, 12881.0, 17864.0, 17138.0, 16572.0, 14165.0, 15367.0, 14291.0, 15632.0, 14297.0, 13899.0, 16471.0, 18183.0, 14603.0, 18173.0, 14854.0, 16625.0, 14064.0, 15308.0, 18086.0, 14350.0, 16080.0, 14727.0, 16778.0, 14077.0, 16808.0, 16475.0, 13265.0, 15049.0, 18149.0, 13654.0, 16652.0, 16766.0, 16801.0, 17164.0, 13226.0, 13043.0, 14352.0, 17351.0, 16768.0, 16693.0, 13956.0, 13708.0, 15918.0, 15671.0, 14962.0, 16807.0, 15125.0, 16871.0, 12901.0, 13452.0, 15493.0, 16005.0, 16804.0, 13499.0, 15047.0, 14193.0, 17542.0, 17080.0, 16392.0, 15106.0, 16214.0, 13716.0, 15150.0, 16061.0, 14226.0, 13121.0, 16297.0, 12994.0, 16152.0, 14636.0, 16040.0, 15793.0, 13358.0, 12849.0, 15182.0, 13299.0, 16383.0, 15381.0, 15030.0, 12955.0, 18189.0, 13946.0, 17716.0, 13185.0, 14840.0, 13216.0, 13650.0, 13533.0, 13268.0, 15433.0, 12937.0, 17603.0, 16216.0, 16377.0, 16976.0, 18210.0, 13631.0, 14422.0, 15648.0, 17725.0, 15861.0, 13072.0, 15695.0, 14110.0, 14059.0, 16672.0, 16511.0, 16256.0, 13591.0, 14066.0, 15483.0, 16626.0, 15019.0, 18270.0, 14315.0, 17921.0, 14041.0, 17060.0, 16023.0, 17133.0, 12878.0, 14155.0, 17043.0, 13046.0, 14633.0, 12948.0, 15703.0, 14071.0, 17134.0, 17795.0, 12902.0, 16444.0, 14232.0, 14693.0, 16728.0, 16096.0, 13985.0, 13592.0, 15140.0, 12843.0, 14408.0, 15408.0, 15445.0, 15452.0, 14223.0, 16619.0, 14762.0, 13934.0, 15669.0, 16384.0, 18224.0, 14245.0, 17678.0, 15855.0, 16036.0, 17763.0, 13262.0, 17152.0, 14632.0, 13900.0, 14875.0, 15132.0, 17272.0, 16135.0, 12831.0, 15437.0, 16809.0, 14711.0, 14377.0, 16374.0, 13196.0, 15457.0, 16721.0, 17733.0, 17102.0, 15410.0, 13239.0, 15449.0, 14870.0, 13821.0, 17096.0, 18191.0, 14461.0, 13132.0, 16859.0, 15245.0, 17486.0, 16308.0, 14607.0, 13249.0, 15644.0, 14075.0, 17250.0, 17966.0, 14129.0, 15651.0, 13035.0, 13341.0, 13512.0, 16620.0, 17698.0, 14267.0, 13736.0, 16022.0, 14235.0, 16769.0, 17754.0, 16063.0, 15178.0, 14348.0, 15815.0, 13695.0, 17979.0, 13139.0, 14758.0, 14536.0, 13662.0, 17946.0, 13743.0, 18078.0, 16780.0, 18273.0, 15045.0, 17625.0, 13357.0, 16777.0, 14476.0, 16245.0, 17765.0, 15083.0, 18010.0, 15249.0, 13760.0, 15624.0, 17749.0, 15068.0, 14538.0, 14851.0, 14021.0, 13037.0, 18177.0, 14128.0, 17874.0, 17719.0, 17931.0, 13803.0, 17398.0, 15906.0, 16253.0, 13439.0, 12888.0, 13588.0, 15521.0, 13720.0, 15674.0, 17594.0, 17775.0, 13988.0, 16657.0, 15424.0, 13316.0, 16788.0, 16584.0, 15364.0, 18108.0, 14272.0, 15980.0, 15832.0, 16092.0, 15528.0, 16398.0, 17088.0, 17438.0, 13060.0, 14790.0, 14890.0, 16386.0, 14818.0, 13571.0, 12909.0, 16698.0, 16681.0, 13573.0, 14957.0, 13918.0, 17212.0, 17781.0, 14886.0, 13626.0, 16609.0, 16180.0, 13462.0, 18263.0, 16960.0, 13841.0, 17701.0, 12949.0, 14852.0, 13169.0, 16162.0, 15691.0, 14195.0, 13781.0, 17758.0, 14023.0, 17669.0, 16142.0, 17648.0, 13059.0, 16224.0, 15223.0, 17886.0, 13294.0, 15289.0, 18185.0, 17956.0, 15756.0, 14747.0, 14719.0, 13015.0, 16586.0, 16105.0, 14546.0, 15442.0, 16906.0, 14535.0, 16170.0, 15244.0, 16696.0, 15145.0, 17492.0, 13525.0, 17409.0, 17783.0, 13863.0, 13515.0, 15917.0, 17440.0, 17045.0, 17140.0, 15201.0, 14964.0, 16031.0, 14403.0, 17042.0, 13771.0, 17906.0, 18272.0, 16144.0, 13731.0, 15530.0, 13950.0, 13752.0, 13892.0, 14446.0, 16209.0, 15754.0, 13712.0, 15800.0, 16469.0, 13005.0, 14981.0, 17928.0, 16261.0, 17883.0, 14619.0, 13995.0, 16643.0, 14246.0, 18040.0, 16837.0, 15119.0, 16325.0, 14924.0, 15109.0, 16623.0, 12999.0, 13962.0, 18036.0, 14958.0, 13562.0, 15775.0, 17054.0, 17268.0, 13548.0, 13508.0, 13570.0, 13232.0, 18129.0, 13632.0, 15665.0, 17550.0, 15655.0, 14286.0, 16188.0, 15214.0, 17574.0, 15737.0, 18080.0, 14311.0, 14339.0, 12982.0, 14273.0, 13549.0, 15414.0, 13203.0, 14628.0, 14326.0, 15935.0, 13655.0, 12910.0, 13577.0, 15251.0, 14111.0, 17160.0, 16172.0, 17972.0, 14844.0, 17278.0, 15212.0, 16729.0, 14998.0, 13484.0, 16697.0, 18236.0, 13740.0, 16454.0, 15230.0, 15134.0, 16309.0, 13544.0, 14262.0, 13134.0, 17589.0, 16097.0, 13122.0, 16966.0, 17746.0, 16175.0, 14834.0, 16348.0, 15147.0, 16131.0, 15813.0, 17058.0, 17704.0, 16933.0, 13772.0, 16249.0, 14198.0, 13989.0, 17930.0, 14154.0, 14482.0, 14163.0, 14105.0, 17601.0, 17142.0, 15135.0, 16806.0, 13952.0, 13120.0, 13516.0, 14323.0, 18079.0, 14700.0, 15027.0, 17367.0, 18213.0, 17029.0, 13220.0, 15985.0, 16193.0, 15172.0, 13692.0, 15745.0, 17582.0, 13474.0, 17697.0, 16639.0, 16947.0, 15491.0, 16617.0, 15265.0, 16226.0, 18009.0, 16399.0, 14623.0, 15625.0, 18064.0, 15508.0, 16628.0, 13647.0, 15594.0, 13479.0, 13735.0, 13376.0, 15717.0, 13719.0, 16633.0, 13101.0, 15225.0, 14152.0, 15436.0, 17217.0, 17734.0, 14905.0, 14148.0, 16103.0, 14626.0, 14868.0, 18246.0, 13485.0, 15517.0, 17115.0, 17120.0, 16611.0, 15912.0, 17588.0, 14759.0, 16185.0, 13389.0, 17631.0, 17061.0, 17718.0, 17630.0, 13223.0, 16146.0, 17109.0, 16587.0, 16750.0, 13482.0, 14512.0, 17670.0, 16834.0, 16942.0, 14640.0, 16823.0, 15237.0, 17854.0, 18220.0, 17436.0, 16965.0, 12840.0, 15891.0, 17187.0, 13637.0, 17991.0, 16418.0, 16099.0, 15768.0, 16637.0, 14240.0, 15143.0, 13229.0, 14973.0, 14271.0, 15952.0, 16227.0, 17893.0, 14022.0, 15210.0, 16370.0, 15376.0, 14655.0, 17615.0, 16055.0, 14149.0, 17501.0, 14191.0, 13282.0, 15582.0, 16230.0, 18146.0, 15976.0, 12886.0, 17974.0, 13524.0, 17955.0, 15128.0, 16610.0, 17394.0, 14173.0, 16258.0, 14948.0, 17384.0, 16990.0, 13762.0, 14340.0, 17429.0, 13711.0, 14515.0, 16457.0, 17527.0, 14199.0, 13888.0, 14423.0, 14697.0, 17522.0, 13867.0, 17624.0, 14393.0, 17578.0, 13450.0, 17423.0, 18241.0, 15668.0, 16319.0, 15757.0, 17174.0, 13365.0, 18227.0, 14145.0, 18235.0, 13741.0, 16832.0, 15258.0, 15552.0, 18170.0, 13723.0, 14005.0, 15561.0, 16121.0, 18142.0, 13642.0, 15117.0, 13561.0, 15704.0, 16007.0, 16232.0, 17410.0, 13835.0, 13427.0, 14353.0, 13003.0, 16756.0, 16440.0, 18120.0, 17723.0, 14699.0, 12821.0, 13055.0, 13320.0, 16357.0, 18242.0, 15865.0, 17597.0, 14397.0, 13242.0, 14288.0, 15063.0, 14591.0, 13990.0, 12749.0, 14691.0, 16229.0, 14920.0, 17489.0, 13404.0, 15729.0, 16644.0, 14731.0, 15187.0, 13052.0, 18133.0, 17664.0, 14649.0, 13235.0, 14883.0, 12976.0, 14681.0, 14421.0, 16116.0, 14988.0, 15489.0, 14364.0, 16006.0, 16184.0, 17932.0, 18221.0, 14853.0, 17658.0, 17764.0, 14651.0, 14000.0, 13601.0, 17970.0, 15826.0, 15907.0, 14342.0, 14873.0, 14689.0, 15440.0, 16076.0, 15333.0, 16283.0, 17263.0, 16877.0, 16642.0, 12871.0, 14038.0, 14489.0, 14888.0, 17190.0, 13456.0, 17898.0, 13976.0, 16139.0, 15730.0, 16266.0, 15123.0, 17505.0, 16446.0, 17556.0, 14583.0, 16818.0, 13572.0, 14009.0, 13258.0, 14463.0, 13192.0, 16987.0, 13417.0, 17047.0, 15116.0, 17469.0, 16647.0, 15630.0, 17245.0, 16008.0, 17871.0, 13529.0, 15599.0, 16813.0, 14859.0, 16463.0, 15791.0, 13658.0, 13887.0, 14551.0, 17166.0, 17926.0, 13391.0, 17455.0, 13308.0, 13856.0, 13243.0, 15095.0, 18048.0, 18287.0, 18150.0, 16690.0, 13555.0, 16038.0, 13972.0, 13227.0, 13657.0, 17176.0, 14837.0, 14682.0, 14921.0, 16341.0, 14647.0, 15292.0, 15705.0, 13339.0, 13885.0, 13546.0, 17715.0, 18160.0, 15434.0, 15734.0, 13737.0, 13213.0, 18018.0, 15314.0, 17521.0, 15042.0, 12863.0, 16091.0, 15804.0, 14593.0, 14287.0, 16763.0, 14705.0, 14522.0, 16448.0, 14584.0, 12974.0, 12987.0, 14816.0, 15852.0, 16624.0, 18232.0, 18073.0, 16369.0, 14280.0, 13135.0, 17345.0, 16275.0, 14338.0, 15402.0, 16323.0, 14451.0, 14823.0, 15897.0, 17051.0, 15925.0, 15863.0, 16483.0, 13398.0, 13070.0, 14819.0, 15163.0, 18204.0, 15124.0, 16969.0, 14597.0, 13917.0, 13062.0, 16484.0, 15184.0, 18135.0, 14453.0, 17900.0, 13437.0, 16529.0, 17531.0, 16239.0, 14500.0, 16117.0, 13248.0, 16967.0, 15405.0, 16659.0, 16880.0, 13435.0, 13131.0, 14891.0, 16682.0, 15453.0, 16963.0, 13682.0, 15152.0, 15462.0, 15349.0, 16849.0, 15073.0, 16298.0, 18248.0, 15386.0, 17252.0, 14542.0, 16825.0, 18072.0, 13643.0, 15969.0, 13283.0, 17015.0, 14375.0, 17124.0, 17987.0, 13395.0, 15743.0, 17414.0, 14622.0, 15609.0, 14561.0, 16872.0, 16358.0, 15238.0, 13466.0, 17360.0, 13510.0, 14241.0, 14132.0, 14963.0, 17169.0, 15252.0, 17731.0, 16113.0, 16107.0, 17483.0, 15679.0, 13686.0, 16581.0, 15267.0, 17234.0, 17797.0, 16614.0, 15411.0, 14178.0, 15098.0, 18281.0, 14984.0, 17265.0, 13617.0, 17242.0, 17289.0, 16018.0, 14704.0, 16794.0, 13761.0, 13517.0, 13936.0, 16342.0, 14177.0, 16205.0, 15036.0, 13589.0, 17579.0, 15069.0, 17349.0, 13080.0, 13663.0, 14503.0, 16774.0, 13384.0, 17101.0, 14997.0, 17155.0, 16461.0, 13343.0, 18165.0, 17536.0, 16324.0, 17651.0, 14222.0, 15585.0, 17490.0, 16739.0, 16276.0, 17193.0, 16257.0, 14285.0, 17642.0, 13826.0, 13575.0, 17157.0, 16852.0, 15219.0, 15014.0, 14765.0, 16869.0, 15909.0, 13618.0, 16050.0, 17879.0, 17562.0, 15334.0, 13568.0, 14820.0, 16744.0, 15700.0, 17299.0, 12837.0, 15076.0, 15921.0, 15747.0, 15840.0, 15016.0, 14808.0, 12904.0, 15825.0, 15389.0, 15280.0, 17159.0, 12830.0, 15507.0, 18252.0, 16526.0, 17695.0, 12930.0, 14960.0, 17960.0, 15412.0, 13763.0, 13849.0, 16114.0, 13420.0, 13780.0, 17877.0, 16247.0, 15041.0, 16287.0, 12919.0, 15130.0, 17370.0, 17709.0, 15253.0, 13300.0, 17759.0, 13937.0, 15850.0, 15186.0, 13791.0, 14795.0, 17768.0, 18112.0, 17386.0, 14104.0, 17110.0, 13895.0, 16545.0, 16671.0, 14351.0, 17391.0, 16824.0, 17750.0, 16200.0, 17997.0, 14383.0, 13461.0, 17408.0, 15537.0, 14327.0, 17837.0, 15578.0, 15584.0, 13745.0, 16498.0, 17891.0, 17123.0, 16866.0, 13730.0, 16589.0, 12922.0, 16009.0, 14053.0, 17939.0, 17312.0, 13833.0, 17899.0, 15007.0, 17464.0, 18265.0, 16344.0, 13338.0, 17024.0, 14034.0, 18203.0, 16616.0, 16338.0, 17046.0, 13109.0, 16829.0, 13217.0, 14002.0, 12977.0, 13291.0, 13583.0, 16929.0, 17892.0, 15505.0, 14459.0, 18013.0, 13681.0, 13699.0, 14493.0, 13486.0, 13302.0, 16012.0, 17031.0, 18121.0, 15901.0, 14918.0, 15920.0, 17353.0, 18024.0, 15467.0, 16174.0, 13678.0, 14690.0, 13058.0, 14552.0, 13224.0, 16989.0, 13207.0, 18122.0, 17405.0, 13311.0, 15051.0, 15895.0, 15795.0, 13669.0, 16450.0, 13667.0, 14400.0, 14847.0, 14862.0, 16488.0, 15256.0, 14716.0, 13933.0, 14857.0, 15306.0, 15839.0, 13994.0, 17554.0, 14332.0, 17266.0, 17948.0, 15004.0, 14722.0, 13507.0, 13967.0, 16054.0, 12833.0, 16474.0, 17984.0, 17448.0, 16762.0, 15369.0, 13154.0, 13940.0, 14029.0, 14117.0, 13167.0, 17779.0, 13991.0, 18101.0, 17065.0, 13827.0, 16764.0, 18180.0, 17866.0, 15802.0, 17229.0, 14456.0, 16464.0, 17962.0, 16149.0, 14259.0, 18143.0, 17935.0, 14517.0, 17694.0, 17660.0, 16041.0, 15623.0, 15829.0, 15232.0, 13079.0, 18262.0, 13563.0, 15506.0, 16305.0, 12864.0, 17724.0, 17703.0, 13116.0, 14019.0, 17649.0, 16178.0, 17040.0, 14100.0, 16557.0, 13296.0, 16364.0, 17693.0, 15372.0, 15618.0, 13930.0, 13379.0, 13194.0, 16447.0, 14305.0, 14331.0, 15261.0, 15105.0, 18268.0, 14855.0, 13925.0, 18237.0, 15639.0, 15118.0, 15746.0, 15942.0, 14143.0, 15120.0, 16147.0, 13277.0, 18127.0, 15149.0, 18081.0, 14511.0, 15776.0, 12981.0, 13106.0, 13928.0, 14885.0, 13388.0, 15438.0, 17173.0, 17941.0, 14947.0, 17053.0, 12844.0, 14567.0, 12828.0, 16984.0, 13023.0, 17553.0, 13075.0, 15342.0, 17788.0, 13850.0, 14076.0, 13805.0, 17887.0, 13186.0, 15374.0, 17656.0, 16102.0, 15089.0, 14972.0, 17514.0, 12917.0, 14768.0, 17584.0, 15254.0, 18099.0, 15205.0, 13218.0, 17267.0, 16302.0, 13513.0, 14720.0, 18282.0, 13200.0, 14079.0, 17298.0, 14024.0, 16066.0, 15198.0, 12885.0, 17331.0, 13016.0, 13500.0, 15247.0, 13355.0, 16053.0, 16292.0, 14116.0, 14495.0, 15494.0, 15608.0, 17248.0, 17653.0, 13645.0, 15469.0, 13307.0, 17122.0, 14406.0, 15683.0, 14301.0, 14658.0, 13621.0, 16272.0, 17958.0, 16836.0, 16961.0, 16902.0, 15706.0, 15315.0, 15653.0, 13159.0, 13189.0, 17637.0, 13470.0, 15786.0, 15541.0, 16734.0, 16706.0, 17070.0, 12962.0, 13273.0, 17736.0, 15472.0, 16582.0, 17747.0, 15396.0, 16828.0, 14712.0, 12991.0, 14772.0, 12968.0, 16330.0, 15701.0, 14529.0, 16536.0, 15313.0, 15801.0, 16201.0, 16555.0, 16952.0, 14387.0, 17073.0, 18147.0, 14523.0, 14418.0, 16968.0, 16723.0, 13411.0, 16340.0, 13236.0, 14196.0, 15263.0, 14314.0, 16093.0, 14687.0, 14050.0, 16429.0, 14055.0, 15663.0, 18200.0, 18167.0, 13644.0, 17451.0, 16641.0, 14141.0, 15074.0, 17183.0, 15325.0, 13778.0, 14869.0, 14096.0, 14108.0, 15866.0, 14660.0, 13726.0, 15690.0, 17777.0, 16278.0, 13276.0, 13147.0, 13045.0, 13099.0, 14420.0, 14436.0, 18027.0, 12832.0, 16674.0, 16173.0, 14171.0, 13434.0, 16761.0, 14067.0, 13808.0, 12851.0, 14965.0, 15136.0, 16629.0, 18261.0, 15307.0, 16820.0, 17309.0, 13949.0, 14360.0, 16400.0, 14208.0, 13130.0, 13210.0, 17481.0, 17573.0, 14452.0, 13889.0, 15488.0, 18222.0, 13244.0, 17004.0, 13441.0, 13823.0, 12879.0, 16603.0, 14824.0, 16910.0, 15652.0, 16362.0, 15035.0, 14508.0, 13272.0, 17317.0, 14212.0, 13372.0, 18255.0, 14250.0, 16796.0, 14432.0, 15782.0, 12883.0, 12965.0, 15533.0, 18215.0, 18158.0, 13375.0, 13431.0, 16211.0, 12884.0, 16141.0, 17919.0, 16360.0, 17433.0, 13704.0, 14020.0, 14359.0, 16451.0, 12940.0, 15216.0, 15522.0, 17037.0, 12822.0, 15343.0, 14753.0, 16959.0, 18251.0, 13032.0, 12895.0, 17640.0, 13860.0, 18001.0, 17728.0, 15933.0, 14284.0, 17347.0, 15103.0, 15707.0, 13430.0, 13321.0, 13877.0, 15272.0, 15322.0, 17333.0, 13518.0, 14306.0, 17679.0, 16160.0, 15573.0, 14894.0, 17434.0, 15466.0, 15511.0, 17846.0, 16189.0, 15417.0, 12995.0, 14557.0, 16108.0, 17144.0, 16924.0, 15099.0, 13323.0, 14124.0, 15975.0, 15523.0, 16878.0, 15947.0, 13247.0, 13566.0, 18194.0, 16689.0, 16438.0, 13067.0, 16460.0, 13325.0, 13774.0, 15504.0, 15500.0, 17557.0, 13228.0, 14356.0, 13416.0, 17628.0, 16527.0, 16428.0, 15341.0, 16215.0, 14164.0, 15888.0, 17564.0, 13356.0, 18228.0, 17415.0, 13350.0, 16627.0, 17475.0, 14951.0, 14780.0, 14887.0, 15399.0, 17466.0, 16379.0, 17172.0, 15239.0, 16213.0, 15603.0, 14261.0, 15571.0, 15484.0, 12936.0, 16236.0, 16669.0, 15398.0, 12906.0, 17079.0, 14125.0, 17163.0, 12952.0, 13279.0, 16715.0, 13519.0, 15744.0, 13127.0, 15714.0, 17480.0, 15763.0, 15075.0, 16978.0, 14014.0, 16240.0, 13336.0, 14652.0, 15807.0, 15762.0, 15475.0, 15978.0, 16485.0, 13083.0, 16169.0, 17506.0, 16480.0, 17006.0, 17498.0, 17131.0, 13536.0, 15429.0, 17154.0, 16594.0, 16049.0, 14757.0, 16198.0, 13670.0, 18066.0, 14806.0, 13429.0, 15154.0, 13390.0, 12925.0, 13927.0, 18205.0, 14908.0, 13639.0, 15958.0, 15492.0, 15243.0, 16468.0, 15344.0, 13866.0, 16999.0, 13514.0, 13314.0, 17805.0, 18278.0, 13979.0, 16181.0, 15568.0, 16354.0, 14412.0, 16119.0, 14109.0, 16157.0, 15348.0, 16281.0, 13924.0, 14434.0, 13061.0, 17513.0, 16909.0, 16650.0, 18192.0, 17447.0, 17427.0, 15175.0, 13960.0, 17528.0, 16361.0, 13886.0, 13354.0, 15050.0, 13503.0, 16653.0, 16574.0, 13759.0, 17813.0, 15949.0, 13364.0, 16268.0, 18053.0, 16101.0, 15565.0, 18217.0, 13954.0, 15593.0, 13095.0, 15287.0, 13347.0, 15185.0, 16404.0, 16613.0, 16591.0, 15774.0, 13558.0, 16930.0, 16533.0, 18059.0, 14488.0, 16747.0, 14333.0, 13635.0, 17330.0, 17321.0, 14815.0, 15091.0, 15088.0, 15930.0, 16183.0, 13297.0, 13801.0, 16881.0, 17014.0, 15255.0, 14184.0, 13351.0, 15739.0, 17957.0, 15276.0, 15127.0, 16106.0, 17666.0, 13483.0, 16478.0, 17382.0, 16020.0, 17222.0, 16803.0, 13947.0, 16758.0, 17647.0, 14054.0, 18033.0, 13845.0, 15837.0, 13177.0, 14317.0, 16295.0, 13602.0, 16895.0, 17295.0, 13504.0, 13422.0, 15264.0, 16432.0, 14518.0, 13882.0, 15937.0, 12923.0, 17453.0, 15766.0, 15300.0, 13348.0, 14592.0, 14792.0, 17030.0, 14427.0, 13359.0, 14138.0, 15297.0, 13876.0, 17086.0, 13806.0, 18096.0, 13587.0, 12856.0, 13419.0, 17509.0, 16900.0, 13689.0, 13755.0, 16104.0, 13259.0, 16248.0, 15612.0, 15787.0, 16595.0, 13260.0, 15821.0, 18088.0, 16685.0, 13193.0, 13212.0, 14801.0, 16380.0, 16921.0, 15193.0, 14027.0, 16179.0, 15473.0, 17425.0, 18169.0, 18126.0, 16688.0, 16982.0, 15330.0, 17186.0, 13685.0, 16776.0, 13980.0, 13352.0, 15553.0, 15886.0, 17203.0, 17459.0, 16561.0, 14121.0, 17119.0, 17620.0, 12824.0, 14710.0, 16120.0, 14624.0, 16171.0, 13690.0, 17934.0, 14642.0, 16753.0, 17737.0, 13464.0, 14537.0, 17279.0, 14251.0, 14234.0, 14975.0, 13853.0, 16773.0, 16430.0, 16793.0, 18130.0, 17614.0, 13858.0, 14856.0, 14089.0, 15478.0, 16413.0, 16416.0, 13006.0, 17986.0, 14910.0, 16243.0, 13878.0, 16934.0, 15994.0, 14547.0, 16052.0, 15113.0, 16542.0, 18042.0, 16563.0, 17201.0, 17520.0, 13923.0, 16412.0, 17205.0, 17534.0, 15335.0, 16737.0, 15066.0, 17206.0, 17785.0, 16932.0, 16363.0, 14830.0, 17244.0, 15355.0, 15598.0, 15637.0, 16848.0, 15678.0, 14015.0, 13594.0, 15327.0, 14861.0, 14554.0, 14179.0, 15604.0, 14381.0, 16123.0, 16851.0, 17148.0, 17549.0, 17973.0, 15610.0, 15853.0, 18019.0, 14698.0, 16826.0, 17824.0, 15803.0, 15006.0, 17350.0, 14799.0, 15814.0, 16260.0, 14638.0, 17354.0, 13245.0, 14923.0, 16177.0, 13366.0, 16284.0, 16846.0, 14484.0, 13897.0, 14585.0, 17125.0, 15836.0, 16313.0, 13460.0, 14967.0, 15286.0, 17832.0, 16015.0, 16311.0, 15728.0, 15740.0, 13974.0, 15677.0, 15000.0, 16017.0, 13471.0, 13598.0, 18005.0, 15427.0, 15022.0, 17111.0, 17836.0, 14629.0, 15592.0, 15277.0, 16491.0, 15516.0, 14764.0, 16742.0, 15142.0, 17344.0, 18240.0, 17081.0, 14474.0, 14139.0, 15844.0, 13176.0, 15345.0, 16708.0, 15963.0, 18045.0, 13182.0, 15158.0, 13028.0, 13978.0, 16056.0, 16071.0, 14539.0, 14550.0, 17712.0, 14102.0, 14598.0, 15320.0, 16415.0, 12827.0, 16345.0, 15993.0, 17895.0, 15948.0, 15659.0, 18154.0, 13363.0, 18276.0, 17684.0, 17878.0, 14752.0, 16847.0, 14971.0, 17545.0, 16026.0, 16513.0, 14357.0, 16855.0, 16680.0, 18035.0, 16648.0, 16164.0, 14218.0, 15096.0, 18030.0, 14416.0, 17839.0, 16601.0, 12912.0, 13278.0, 14582.0, 15748.0, 16079.0, 17590.0, 15054.0, 14158.0, 15385.0, 16506.0, 13822.0, 18067.0, 16190.0, 15444.0, 13607.0, 15360.0, 13103.0, 15667.0, 13651.0, 16127.0, 15977.0, 13697.0, 14345.0, 17503.0, 16830.0, 17495.0, 14485.0, 13868.0, 15423.0, 17668.0, 16971.0, 16352.0, 16884.0, 15830.0, 14216.0, 15275.0, 16790.0, 15576.0, 18105.0, 18164.0, 14974.0, 17947.0, 13318.0, 18104.0, 13271.0, 17595.0, 14528.0, 17432.0, 16337.0, 14098.0, 15551.0, 16347.0, 13721.0, 16322.0, 17403.0, 16914.0, 16602.0, 13914.0, 13467.0, 17221.0, 17078.0, 13447.0, 15010.0, 18022.0, 16318.0, 17274.0, 15597.0, 17233.0, 16887.0, 13938.0, 17084.0, 14882.0, 15017.0, 12882.0, 17387.0, 13727.0, 13532.0, 16445.0, 15156.0, 16372.0, 17608.0, 14174.0, 14039.0, 13040.0, 15883.0, 14664.0, 15526.0, 17831.0, 15025.0, 17761.0, 15870.0, 14080.0, 17623.0, 13673.0, 14073.0, 16070.0, 13066.0, 14929.0, 13710.0, 16732.0, 14140.0, 17219.0, 16505.0, 15957.0, 18123.0, 15043.0, 17313.0, 18216.0, 17022.0, 15153.0, 16759.0, 16751.0, 12893.0, 14836.0, 17011.0, 17038.0, 14968.0, 16516.0, 13522.0, 15986.0, 13992.0, 14354.0, 16986.0, 16953.0, 18274.0, 15450.0, 15531.0, 17500.0, 17197.0, 16025.0, 17461.0, 17791.0, 15463.0, 17977.0, 14863.0, 16903.0, 17502.0, 17901.0, 14789.0, 18209.0, 12985.0, 15557.0, 16433.0, 15692.0, 17052.0, 16368.0, 18014.0, 13732.0, 13091.0, 14661.0, 13170.0, 15654.0, 13146.0, 14788.0, 13603.0, 14382.0, 16720.0, 14904.0, 14494.0, 14902.0, 16936.0, 12938.0, 15168.0, 17538.0, 18082.0, 18117.0, 15458.0, 17566.0, 16207.0, 17793.0, 14953.0, 16504.0, 15009.0, 16423.0, 15419.0, 17510.0, 15758.0, 15524.0, 14725.0, 14666.0, 14714.0, 17153.0, 12950.0, 15720.0, 18181.0, 15556.0, 17357.0, 12890.0, 13449.0, 15269.0, 14385.0, 15900.0, 17680.0, 13926.0, 16204.0, 17896.0, 17835.0, 15432.0, 18006.0, 15657.0, 17237.0, 13160.0, 12847.0, 17397.0, 17985.0, 14362.0, 13828.0, 15435.0, 14641.0, 15621.0, 18034.0, 17286.0, 17904.0, 17301.0, 15368.0, 14793.0, 17650.0, 14881.0, 16784.0, 14052.0, 18110.0, 17561.0, 15988.0, 17523.0, 14950.0, 16666.0, 14860.0, 17636.0, 13832.0, 13142.0, 16366.0, 14300.0, 15567.0, 15645.0, 16406.0, 15857.0, 12984.0, 17253.0, 13739.0, 18139.0, 15274.0, 17010.0, 15115.0, 17100.0, 15699.0, 13403.0, 16956.0, 17600.0, 15877.0, 14424.0, 13322.0, 17297.0, 13986.0, 12920.0, 18249.0, 15634.0, 16376.0, 16811.0, 14581.0, 14675.0, 17290.0, 16343.0, 13638.0, 16482.0, 17458.0, 14785.0, 17254.0, 17767.0, 15725.0, 17247.0, 18184.0, 15428.0, 17727.0, 14756.0, 16856.0, 14703.0, 17385.0, 15872.0, 14966.0, 17232.0, 17468.0, 13332.0, 14946.0, 13256.0, 13596.0, 16024.0, 14954.0, 17885.0, 14093.0, 14893.0, 15721.0, 17852.0, 13844.0, 15540.0, 17379.0, 16800.0, 17806.0, 17359.0, 13188.0, 14480.0, 13349.0, 15619.0, 15148.0, 14601.0, 15783.0, 17772.0, 14126.0, 16479.0, 13428.0, 15790.0, 13521.0, 14349.0, 18058.0, 12953.0, 12966.0, 15060.0, 17911.0, 14804.0, 15904.0, 16789.0, 17942.0, 13560.0, 15539.0, 13017.0, 18174.0, 13153.0, 15773.0, 17936.0, 16535.0, 16988.0, 15097.0, 18015.0, 16597.0, 13790.0, 14219.0, 17383.0, 15992.0, 15318.0, 17914.0, 16528.0, 16569.0, 14578.0, 16000.0, 15195.0, 14087.0, 14204.0, 15471.0, 13436.0, 15520.0, 13298.0, 14569.0], \"xaxis\": \"x\", \"y\": [301, 31, 95, 329, 25, 7, 15, 0, 2, 87, 373, 49, 38, 260, 2, 217, 7, 373, 1, 1, 0, 16, 7, 30, 29, 108, 88, 373, 3, 33, 3, 373, 329, 11, 3, 21, 21, 373, 1, 172, 23, 242, 56, 39, 373, 0, 53, 185, 70, 101, 45, 1, 372, 70, 29, 184, 372, 35, 7, 371, 6, 372, 98, 1, 3, 372, 79, 266, 3, 1, 21, 79, 85, 372, 311, 3, 2, 60, 0, 29, 143, 78, 11, 372, 27, 372, 0, 127, 217, 9, 372, 8, 0, 11, 280, 7, 372, 372, 39, 372, 8, 372, 21, 2, 1, 372, 10, 11, 7, 189, 8, 10, 11, 23, 372, 211, 28, 9, 290, 99, 3, 174, 4, 372, 372, 25, 240, 148, 8, 18, 21, 8, 72, 10, 21, 23, 31, 28, 24, 371, 81, 310, 371, 18, 10, 364, 371, 51, 22, 16, 0, 211, 21, 336, 6, 3, 58, 3, 177, 57, 26, 15, 28, 2, 6, 57, 3, 69, 3, 66, 157, 371, 53, 371, 126, 175, 0, 184, 371, 0, 169, 154, 359, 371, 222, 218, 371, 39, 1, 6, 17, 38, 42, 80, 20, 179, 15, 38, 371, 2, 371, 44, 2, 365, 186, 4, 4, 371, 1, 371, 24, 3, 3, 0, 90, 63, 3, 0, 370, 152, 9, 4, 71, 7, 52, 23, 2, 6, 64, 22, 301, 63, 0, 53, 0, 19, 40, 2, 5, 5, 11, 6, 42, 1, 0, 9, 47, 8, 10, 4, 13, 0, 369, 313, 40, 3, 10, 15, 311, 39, 145, 12, 365, 12, 29, 13, 26, 184, 6, 368, 368, 305, 5, 1, 215, 58, 18, 264, 2, 4, 18, 252, 4, 16, 11, 54, 156, 14, 2, 16, 1, 15, 266, 37, 33, 14, 15, 11, 1, 45, 0, 1, 365, 2, 2, 28, 22, 73, 20, 368, 0, 357, 18, 9, 19, 282, 40, 1, 60, 185, 126, 14, 64, 50, 2, 25, 3, 368, 22, 6, 1, 368, 32, 7, 155, 147, 10, 26, 16, 198, 10, 18, 108, 2, 9, 367, 11, 30, 309, 2, 10, 27, 2, 70, 140, 59, 367, 45, 7, 16, 3, 12, 11, 7, 99, 9, 4, 106, 143, 311, 8, 307, 7, 2, 44, 173, 335, 2, 1, 65, 25, 38, 8, 1, 296, 4, 254, 367, 0, 2, 16, 0, 2, 16, 36, 115, 16, 9, 0, 1, 3, 58, 366, 20, 3, 15, 366, 1, 8, 10, 9, 213, 56, 72, 2, 366, 366, 21, 0, 17, 1, 366, 28, 0, 2, 8, 4, 0, 1, 0, 31, 7, 15, 329, 2, 29, 58, 3, 1, 3, 55, 1, 45, 14, 72, 4, 235, 0, 18, 366, 22, 24, 2, 95, 17, 156, 0, 15, 70, 59, 255, 39, 21, 0, 162, 24, 1, 51, 7, 24, 3, 365, 357, 1, 150, 32, 365, 15, 120, 8, 256, 71, 365, 8, 10, 0, 8, 204, 91, 107, 142, 36, 365, 8, 26, 87, 17, 365, 15, 8, 7, 10, 8, 8, 7, 212, 142, 130, 24, 1, 4, 257, 8, 353, 2, 11, 15, 365, 0, 204, 7, 95, 253, 364, 32, 185, 364, 65, 3, 0, 10, 29, 6, 38, 42, 364, 364, 24, 36, 3, 16, 15, 218, 20, 326, 93, 8, 359, 119, 0, 354, 364, 8, 28, 71, 2, 364, 364, 16, 38, 16, 49, 172, 34, 59, 100, 224, 28, 7, 8, 0, 3, 6, 0, 22, 37, 35, 4, 8, 364, 106, 26, 10, 364, 309, 364, 21, 175, 253, 3, 9, 67, 1, 113, 5, 28, 2, 51, 311, 363, 11, 75, 30, 23, 363, 4, 9, 17, 31, 8, 362, 362, 11, 19, 151, 357, 12, 12, 40, 36, 142, 44, 245, 122, 2, 25, 10, 6, 36, 361, 361, 78, 361, 361, 18, 8, 3, 5, 16, 153, 9, 2, 361, 119, 10, 29, 9, 42, 3, 8, 115, 236, 23, 16, 11, 21, 95, 25, 360, 51, 3, 177, 360, 7, 322, 189, 16, 165, 1, 9, 240, 8, 31, 137, 360, 322, 238, 360, 1, 22, 34, 8, 31, 360, 191, 10, 26, 2, 100, 360, 273, 23, 2, 25, 3, 360, 2, 2, 31, 0, 7, 21, 66, 173, 106, 11, 10, 321, 32, 25, 4, 24, 3, 8, 5, 35, 10, 88, 0, 191, 1, 263, 1, 155, 359, 6, 18, 29, 70, 0, 8, 85, 239, 59, 126, 2, 21, 358, 358, 35, 104, 89, 59, 282, 70, 34, 16, 165, 4, 358, 9, 8, 358, 30, 10, 190, 50, 105, 358, 17, 63, 0, 0, 237, 29, 15, 269, 52, 16, 16, 0, 51, 91, 8, 155, 4, 12, 28, 105, 3, 9, 0, 168, 7, 8, 14, 3, 3, 63, 49, 357, 20, 1, 252, 3, 217, 357, 353, 74, 3, 2, 1, 24, 102, 3, 16, 21, 169, 8, 246, 357, 172, 80, 306, 197, 11, 6, 21, 58, 2, 183, 0, 2, 356, 18, 50, 356, 356, 122, 8, 14, 58, 103, 302, 46, 6, 354, 354, 49, 35, 74, 15, 3, 2, 168, 113, 20, 3, 353, 18, 7, 353, 15, 0, 10, 3, 30, 352, 57, 125, 3, 6, 24, 29, 312, 235, 351, 49, 351, 45, 350, 21, 63, 339, 3, 63, 72, 0, 68, 126, 7, 41, 18, 156, 0, 63, 142, 22, 3, 316, 17, 337, 0, 32, 108, 8, 125, 337, 38, 172, 22, 8, 32, 256, 35, 33, 190, 3, 70, 164, 46, 121, 17, 11, 336, 193, 196, 95, 194, 164, 53, 336, 239, 184, 3, 8, 59, 73, 335, 234, 107, 121, 7, 21, 63, 9, 5, 40, 5, 334, 58, 19, 78, 0, 36, 17, 9, 9, 18, 75, 333, 25, 2, 58, 20, 3, 333, 10, 333, 217, 300, 51, 43, 49, 25, 58, 60, 206, 112, 332, 332, 332, 40, 39, 195, 12, 0, 241, 311, 63, 234, 10, 103, 331, 9, 17, 28, 40, 331, 17, 6, 2, 89, 18, 24, 330, 40, 60, 324, 38, 114, 0, 322, 4, 8, 43, 191, 31, 273, 330, 330, 71, 59, 330, 23, 17, 8, 72, 329, 74, 318, 50, 329, 4, 8, 0, 54, 12, 87, 50, 25, 12, 13, 25, 32, 42, 58, 40, 87, 56, 33, 32, 326, 43, 11, 2, 3, 73, 325, 2, 168, 17, 325, 325, 7, 0, 325, 40, 234, 325, 325, 138, 287, 325, 324, 0, 6, 187, 324, 56, 57, 8, 70, 1, 2, 16, 25, 111, 41, 280, 323, 323, 0, 56, 322, 231, 22, 322, 7, 205, 322, 30, 227, 9, 317, 136, 6, 211, 0, 320, 138, 12, 180, 22, 196, 320, 1, 109, 16, 0, 319, 9, 319, 17, 301, 63, 319, 2, 9, 319, 62, 15, 21, 1, 51, 58, 318, 112, 318, 318, 318, 312, 71, 94, 50, 10, 23, 2, 22, 318, 78, 69, 57, 8, 317, 65, 317, 44, 35, 211, 30, 32, 317, 317, 3, 63, 150, 73, 16, 36, 106, 211, 317, 242, 43, 17, 218, 0, 78, 84, 315, 35, 151, 36, 21, 44, 48, 66, 8, 77, 0, 3, 67, 10, 30, 38, 8, 42, 29, 315, 76, 21, 28, 55, 274, 92, 65, 107, 42, 113, 129, 1, 8, 84, 25, 266, 3, 13, 14, 298, 68, 19, 312, 312, 312, 15, 19, 312, 24, 39, 12, 17, 58, 7, 50, 301, 12, 311, 106, 216, 115, 311, 24, 22, 2, 32, 311, 311, 58, 22, 86, 28, 311, 121, 112, 245, 25, 51, 199, 310, 24, 44, 70, 30, 266, 310, 16, 60, 310, 252, 310, 94, 310, 109, 8, 36, 122, 246, 21, 32, 300, 15, 8, 80, 58, 176, 52, 30, 10, 150, 301, 8, 119, 238, 1, 7, 309, 26, 309, 43, 308, 9, 85, 92, 300, 261, 58, 300, 22, 8, 10, 126, 308, 308, 10, 49, 6, 69, 218, 307, 307, 58, 56, 4, 34, 306, 158, 305, 305, 24, 15, 305, 14, 22, 81, 153, 28, 96, 33, 150, 27, 276, 71, 304, 304, 3, 122, 149, 273, 303, 303, 108, 303, 10, 29, 302, 302, 48, 6, 298, 35, 246, 92, 91, 210, 301, 63, 0, 56, 29, 127, 2, 97, 204, 28, 3, 30, 300, 222, 300, 300, 53, 17, 15, 129, 28, 95, 7, 190, 40, 298, 65, 50, 20, 298, 190, 31, 48, 8, 22, 49, 3, 297, 84, 52, 14, 297, 28, 30, 120, 212, 119, 291, 19, 293, 7, 78, 296, 296, 25, 296, 28, 71, 133, 74, 296, 58, 295, 15, 43, 38, 15, 245, 14, 44, 202, 157, 9, 29, 294, 43, 52, 294, 107, 289, 65, 8, 71, 104, 36, 0, 294, 116, 175, 293, 14, 14, 185, 33, 9, 173, 103, 161, 94, 291, 14, 81, 49, 48, 74, 48, 37, 37, 254, 164, 8, 290, 66, 35, 1, 121, 79, 72, 35, 290, 289, 289, 289, 266, 14, 119, 73, 39, 94, 22, 14, 134, 30, 289, 289, 87, 165, 49, 10, 57, 51, 8, 44, 8, 13, 288, 3, 255, 288, 288, 191, 42, 15, 100, 19, 38, 1, 178, 29, 76, 49, 287, 287, 287, 287, 196, 287, 287, 37, 95, 276, 1, 15, 3, 8, 2, 11, 77, 36, 287, 59, 164, 65, 25, 286, 43, 285, 268, 276, 48, 0, 8, 14, 4, 19, 36, 11, 112, 284, 3, 200, 150, 25, 14, 67, 8, 62, 31, 283, 283, 38, 262, 0, 44, 60, 283, 50, 203, 190, 63, 283, 8, 8, 283, 66, 23, 214, 283, 18, 280, 168, 6, 281, 52, 64, 282, 2, 282, 119, 77, 17, 198, 2, 73, 166, 178, 281, 3, 89, 281, 281, 234, 18, 3, 238, 2, 149, 281, 84, 1, 4, 205, 281, 281, 218, 280, 29, 24, 178, 15, 2, 85, 280, 51, 280, 18, 27, 190, 279, 38, 21, 17, 279, 80, 279, 91, 20, 25, 25, 46, 4, 32, 277, 277, 85, 59, 277, 67, 51, 44, 30, 277, 197, 276, 79, 276, 199, 49, 7, 276, 3, 276, 80, 45, 48, 226, 276, 44, 276, 106, 79, 30, 0, 7, 60, 8, 275, 1, 2, 16, 23, 2, 9, 109, 156, 93, 22, 0, 275, 12, 275, 126, 275, 56, 1, 15, 17, 15, 274, 217, 274, 86, 77, 273, 28, 270, 273, 270, 81, 273, 73, 40, 98, 87, 52, 273, 50, 42, 53, 272, 162, 32, 272, 253, 156, 35, 47, 68, 4, 270, 190, 18, 270, 142, 24, 21, 8, 258, 32, 11, 22, 17, 269, 67, 269, 21, 269, 17, 170, 268, 16, 268, 28, 268, 212, 3, 268, 35, 64, 8, 268, 30, 153, 267, 74, 213, 71, 0, 77, 78, 22, 267, 267, 267, 16, 182, 17, 78, 14, 49, 266, 266, 266, 1, 99, 0, 203, 15, 11, 266, 266, 3, 266, 1, 21, 257, 64, 266, 160, 0, 266, 37, 20, 63, 265, 265, 45, 15, 17, 265, 31, 30, 265, 15, 264, 3, 106, 179, 264, 45, 31, 263, 45, 263, 3, 35, 51, 65, 10, 263, 263, 29, 91, 253, 263, 263, 39, 89, 263, 175, 263, 136, 86, 262, 262, 194, 262, 182, 8, 17, 41, 262, 261, 261, 22, 9, 190, 65, 10, 261, 261, 38, 261, 83, 261, 25, 261, 144, 8, 261, 147, 261, 105, 133, 260, 37, 15, 91, 165, 4, 3, 37, 1, 36, 57, 260, 260, 3, 260, 150, 4, 259, 9, 259, 0, 259, 259, 259, 63, 30, 35, 15, 144, 259, 85, 232, 2, 216, 99, 1, 151, 17, 256, 79, 256, 23, 158, 256, 256, 31, 53, 116, 177, 45, 64, 22, 154, 137, 30, 60, 184, 37, 133, 254, 114, 19, 31, 254, 213, 15, 35, 116, 72, 84, 254, 19, 9, 253, 36, 122, 79, 95, 248, 73, 88, 253, 98, 253, 144, 27, 246, 253, 16, 253, 28, 73, 12, 39, 226, 72, 49, 252, 49, 252, 158, 252, 252, 14, 99, 182, 22, 38, 252, 252, 30, 57, 63, 251, 251, 201, 250, 18, 6, 42, 249, 60, 249, 56, 225, 31, 189, 28, 248, 248, 60, 247, 1, 52, 248, 248, 3, 248, 81, 58, 50, 64, 134, 3, 247, 14, 184, 71, 244, 72, 247, 147, 112, 246, 78, 246, 91, 129, 2, 63, 246, 2, 246, 218, 21, 10, 123, 26, 0, 88, 50, 246, 106, 23, 173, 245, 44, 16, 2, 238, 14, 245, 110, 18, 30, 245, 43, 245, 240, 245, 195, 21, 31, 146, 81, 244, 27, 107, 95, 243, 242, 12, 242, 24, 167, 196, 232, 23, 44, 1, 242, 14, 18, 224, 234, 239, 50, 25, 9, 9, 90, 234, 238, 113, 22, 24, 8, 13, 30, 94, 241, 63, 240, 238, 35, 169, 240, 240, 29, 240, 44, 238, 14, 91, 39, 7, 72, 59, 239, 93, 7, 234, 93, 17, 31, 218, 51, 207, 81, 168, 0, 33, 52, 3, 65, 35, 238, 17, 86, 84, 238, 238, 232, 102, 210, 238, 20, 114, 44, 31, 30, 237, 236, 110, 77, 122, 236, 8, 24, 8, 235, 235, 235, 24, 235, 94, 235, 150, 202, 234, 18, 31, 99, 132, 188, 29, 9, 15, 197, 24, 98, 233, 14, 16, 233, 233, 74, 11, 233, 53, 153, 233, 6, 8, 2, 23, 232, 232, 7, 232, 185, 177, 99, 4, 16, 10, 1, 73, 231, 169, 199, 156, 28, 231, 44, 231, 187, 227, 227, 12, 15, 226, 1, 184, 219, 1, 226, 143, 226, 226, 51, 224, 44, 49, 115, 31, 29, 225, 225, 106, 225, 33, 218, 224, 224, 224, 81, 39, 3, 129, 220, 212, 220, 1, 17, 24, 189, 140, 164, 67, 24, 40, 198, 59, 218, 218, 10, 44, 22, 18, 218, 203, 218, 120, 218, 17, 217, 53, 217, 119, 217, 217, 1, 30, 14, 217, 190, 26, 44, 9, 217, 217, 65, 217, 8, 217, 46, 71, 71, 183, 168, 216, 32, 216, 9, 11, 56, 150, 215, 14, 215, 139, 47, 32, 15, 24, 18, 214, 105, 214, 7, 213, 126, 213, 213, 63, 69, 32, 71, 40, 213, 0, 111, 211, 212, 14, 212, 3, 30, 86, 212, 58, 0, 197, 177, 46, 1, 211, 210, 18, 4, 211, 18, 211, 70, 56, 205, 211, 22, 108, 210, 63, 28, 21, 8, 10, 50, 66, 205, 44, 210, 50, 3, 20, 209, 208, 54, 2, 207, 5, 207, 11, 4, 83, 77, 206, 206, 58, 17, 84, 206, 18, 65, 73, 6, 160, 0, 205, 5, 10, 205, 197, 11, 97, 94, 2, 4, 84, 17, 15, 169, 44, 204, 23, 204, 78, 26, 7, 12, 20, 43, 9, 203, 17, 38, 132, 203, 203, 22, 168, 202, 103, 202, 42, 31, 43, 73, 7, 70, 201, 10, 201, 89, 187, 29, 24, 200, 200, 200, 200, 188, 11, 200, 56, 7, 114, 199, 56, 107, 198, 23, 198, 51, 154, 0, 21, 7, 184, 198, 23, 197, 168, 197, 73, 196, 186, 80, 81, 113, 17, 196, 196, 14, 196, 157, 148, 195, 59, 179, 193, 193, 193, 25, 191, 191, 191, 63, 17, 70, 22, 38, 10, 49, 190, 173, 28, 28, 189, 164, 13, 189, 120, 56, 87, 189, 124, 188, 188, 188, 30, 4, 22, 147, 4, 1, 186, 186, 9, 93, 157, 186, 9, 22, 113, 185, 116, 185, 38, 154, 30, 2, 59, 28, 184, 184, 184, 184, 15, 43, 184, 182, 75, 76, 0, 28, 99, 16, 0, 183, 1, 9, 49, 35, 78, 182, 17, 64, 23, 182, 154, 21, 182, 21, 182, 25, 8, 181, 180, 18, 138, 39, 107, 31, 38, 10, 0, 49, 59, 170, 74, 84, 30, 71, 14, 4, 178, 178, 178, 178, 2, 67, 30, 9, 45, 17, 177, 172, 176, 176, 127, 11, 176, 176, 0, 171, 176, 35, 176, 20, 119, 157, 22, 7, 9, 175, 42, 28, 22, 173, 173, 173, 173, 13, 156, 172, 20, 10, 171, 11, 172, 172, 172, 12, 58, 172, 39, 17, 171, 171, 171, 21, 37, 171, 50, 171, 131, 77, 7, 170, 170, 62, 51, 170, 134, 6, 169, 169, 169, 169, 7, 169, 72, 169, 15, 164, 16, 168, 18, 13, 42, 165, 7, 11, 7, 153, 164, 20, 164, 27, 164, 163, 15, 4, 3, 73, 37, 38, 162, 162, 162, 41, 161, 23, 150, 160, 161, 161, 140, 135, 70, 160, 21, 123, 159, 138, 158, 158, 158, 157, 71, 157, 153, 44, 21, 156, 14, 156, 156, 2, 156, 121, 133, 155, 155, 155, 3, 55, 52, 154, 154, 17, 154, 6, 77, 154, 34, 11, 148, 16, 115, 153, 128, 152, 8, 125, 151, 43, 24, 151, 59, 6, 14, 7, 0, 3, 22, 149, 149, 50, 149, 148, 140, 148, 25, 32, 148, 42, 108, 59, 63, 24, 3, 0, 22, 1, 146, 146, 146, 2, 145, 144, 144, 6, 144, 144, 19, 143, 143, 16, 62, 143, 18, 20, 11, 10, 142, 57, 3, 4, 142, 142, 95, 4, 19, 141, 4, 141, 116, 137, 32, 141, 140, 30, 140, 98, 112, 3, 139, 83, 22, 138, 137, 57, 34, 116, 46, 134, 137, 137, 137, 23, 136, 11, 135, 136, 32, 57, 25, 135, 135, 70, 123, 134, 17, 133, 118, 35, 2, 133, 133, 133, 133, 133, 129, 133, 15, 18, 133, 35, 10, 132, 29, 128, 10, 131, 120, 130, 4, 130, 71, 128, 28, 34, 2, 77, 63, 129, 129, 115, 73, 87, 128, 51, 128, 39, 128, 72, 41, 9, 127, 127, 127, 16, 6, 126, 126, 84, 126, 126, 107, 126, 5, 7, 18, 124, 100, 121, 16, 91, 62, 123, 72, 22, 121, 121, 32, 116, 19, 50, 20, 27, 119, 28, 119, 42, 119, 118, 118, 116, 107, 4, 116, 116, 116, 39, 115, 115, 59, 63, 92, 8, 18, 30, 98, 43, 113, 51, 36, 113, 6, 112, 8, 112, 112, 99, 112, 92, 28, 22, 111, 111, 17, 1, 59, 106, 109, 45, 2, 34, 108, 32, 17, 45, 107, 3, 3, 90, 106, 106, 23, 106, 106, 106, 106, 106, 31, 105, 105, 105, 105, 3, 8, 0, 105, 2, 104, 7, 103, 102, 3, 3, 30, 100, 86, 38, 3, 24, 22, 63, 9, 98, 98, 84, 98, 98, 31, 54, 15, 97, 73, 96, 63, 5, 96, 95, 2, 73, 42, 95, 95, 94, 2, 31, 94, 94, 93, 93, 3, 28, 10, 92, 92, 92, 92, 45, 91, 18, 44, 74, 9, 3, 90, 31, 89, 21, 30, 45, 89, 89, 88, 6, 88, 9, 9, 24, 88, 18, 88, 8, 80, 66, 80, 87, 87, 87, 4, 87, 4, 16, 18, 87, 45, 87, 32, 77, 70, 86, 86, 86, 86, 38, 41, 86, 0, 11, 3, 20, 30, 85, 30, 34, 18, 71, 85, 56, 63, 85, 85, 50, 52, 63, 31, 84, 1, 84, 11, 84, 15, 84, 77, 63, 84, 0, 20, 83, 2, 83, 83, 83, 24, 82, 17, 40, 63, 75, 5, 81, 27, 81, 81, 80, 7, 13, 80, 59, 43, 80, 80, 80, 80, 80, 70, 79, 23, 79, 49, 78, 15, 78, 78, 78, 54, 78, 0, 9, 3, 74, 9, 78, 78, 50, 11, 0, 16, 77, 23, 15, 11, 77, 10, 21, 5, 63, 77, 49, 77, 77, 11, 73, 31, 77, 76, 76, 7, 76, 76, 49, 64, 76, 76, 76, 3, 7, 69, 75, 4, 75, 4, 0, 26, 74, 74, 39, 74, 74, 74, 74, 74, 10, 73, 74, 4, 74, 35, 73, 73, 73, 27, 73, 73, 0, 73, 22, 73, 1, 73, 73, 72, 72, 2, 62, 34, 7, 22, 15, 71, 71, 1, 21, 71, 71, 63, 71, 71, 39, 71, 71, 20, 0, 9, 70, 70, 24, 70, 15, 70, 32, 13, 16, 66, 70, 65, 8, 49, 28, 0, 70, 70, 21, 69, 69, 69, 69, 68, 68, 5, 25, 18, 8, 50, 24, 63, 67, 22, 7, 36, 53, 20, 66, 66, 7, 66, 66, 7, 66, 66, 65, 65, 65, 65, 65, 65, 3, 65, 24, 64, 16, 64, 64, 64, 64, 64, 64, 64, 64, 64, 64, 64, 9, 64, 64, 28, 63, 50, 63, 63, 63, 2, 63, 63, 17, 63, 63, 63, 34, 63, 63, 49, 58, 1, 9, 63, 6, 63, 11, 31, 7, 63, 57, 11, 62, 3, 61, 61, 61, 35, 25, 60, 60, 43, 60, 60, 60, 8, 60, 60, 60, 60, 60, 60, 13, 18, 60, 60, 0, 60, 31, 46, 2, 59, 59, 7, 59, 59, 35, 42, 5, 3, 2, 59, 59, 13, 58, 56, 58, 58, 51, 58, 57, 8, 57, 57, 57, 1, 21, 56, 8, 56, 56, 56, 8, 56, 56, 35, 56, 39, 56, 25, 55, 55, 2, 33, 54, 54, 54, 3, 53, 9, 53, 53, 53, 53, 53, 53, 53, 53, 53, 52, 52, 31, 52, 52, 52, 52, 52, 52, 28, 34, 52, 52, 52, 52, 52, 52, 51, 9, 40, 51, 51, 51, 3, 51, 23, 51, 51, 51, 51, 1, 50, 50, 50, 50, 7, 50, 2, 50, 50, 50, 50, 50, 49, 49, 30, 49, 49, 49, 49, 49, 44, 2, 28, 49, 49, 49, 3, 17, 48, 48, 48, 48, 47, 46, 0, 46, 3, 32, 11, 46, 46, 3, 46, 46, 46, 44, 43, 46, 45, 45, 45, 24, 42, 45, 45, 45, 34, 45, 19, 44, 44, 44, 22, 14, 44, 44, 15, 10, 44, 4, 43, 43, 43, 5, 43, 8, 43, 7, 43, 2, 17, 20, 43, 43, 43, 42, 34, 42, 42, 4, 42, 23, 42, 35, 38, 16, 42, 42, 3, 21, 41, 40, 2, 40, 40, 39, 16, 1, 11, 39, 39, 19, 5, 39, 39, 8, 39, 39, 39, 39, 34, 38, 16, 38, 38, 2, 38, 7, 38, 6, 37, 0, 2, 17, 37, 28, 2, 30, 3, 37, 37, 30, 36, 36, 0, 36, 36, 11, 36, 17, 36, 36, 36, 10, 35, 0, 35, 35, 30, 3, 10, 6, 35, 22, 35, 35, 34, 34, 29, 34, 34, 34, 34, 26, 33, 8, 19, 28, 33, 33, 0, 32, 32, 32, 32, 8, 1, 19, 32, 32, 32, 32, 32, 32, 32, 18, 20, 21, 23, 31, 31, 31, 3, 31, 31, 31, 23, 30, 17, 30, 30, 30, 7, 30, 30, 9, 29, 29, 29, 29, 29, 29, 29, 5, 29, 29, 17, 29, 7, 16, 29, 29, 22, 29, 28, 28, 28, 28, 8, 28, 28, 28, 0, 28, 27, 27, 27, 1, 27, 27, 20, 26, 26, 8, 25, 6, 25, 25, 25, 1, 25, 20, 25, 25, 25, 25, 25, 25, 24, 7, 24, 24, 24, 24, 11, 24, 24, 24, 24, 24, 24, 23, 23, 23, 1, 23, 23, 23, 23, 23, 23, 23, 8, 23, 23, 22, 22, 22, 2, 22, 22, 22, 10, 21, 21, 21, 21, 21, 21, 21, 21, 3, 21, 21, 20, 20, 20, 3, 20, 19, 19, 19, 18, 18, 18, 10, 8, 18, 8, 8, 17, 18, 18, 18, 18, 18, 18, 18, 18, 17, 17, 16, 3, 16, 17, 17, 17, 17, 8, 17, 1, 17, 16, 16, 16, 16, 16, 16, 8, 4, 16, 15, 3, 15, 15, 15, 14, 9, 4, 14, 14, 14, 14, 14, 8, 14, 14, 14, 14, 14, 14, 2, 9, 13, 13, 13, 5, 11, 11, 11, 11, 9, 11, 11, 10, 10, 10, 10, 10, 10, 10, 10, 10, 10, 10, 10, 10, 10, 7, 9, 9, 9, 0, 9, 9, 9, 9, 7, 8, 8, 7, 7, 7, 6, 6, 6, 6, 5, 5, 4, 4, 4, 3, 3, 3, 3, 3, 3, 3, 3, 3, 3, 2, 2, 2, 2, 2, 1, 1, 1, 1, 0, 0], \"yaxis\": \"y\"}],\n",
              "                        {\"coloraxis\": {\"colorbar\": {\"title\": {\"text\": \"Cluster\"}}, \"colorscale\": [[0.0, \"#440154\"], [0.1111111111111111, \"#482878\"], [0.2222222222222222, \"#3e4989\"], [0.3333333333333333, \"#31688e\"], [0.4444444444444444, \"#26828e\"], [0.5555555555555556, \"#1f9e89\"], [0.6666666666666666, \"#35b779\"], [0.7777777777777778, \"#6ece58\"], [0.8888888888888888, \"#b5de2b\"], [1.0, \"#fde725\"]]}, \"legend\": {\"tracegroupgap\": 0}, \"template\": {\"data\": {\"bar\": [{\"error_x\": {\"color\": \"rgb(36,36,36)\"}, \"error_y\": {\"color\": \"rgb(36,36,36)\"}, \"marker\": {\"line\": {\"color\": \"white\", \"width\": 0.5}}, \"type\": \"bar\"}], \"barpolar\": [{\"marker\": {\"line\": {\"color\": \"white\", \"width\": 0.5}}, \"type\": \"barpolar\"}], \"carpet\": [{\"aaxis\": {\"endlinecolor\": \"rgb(36,36,36)\", \"gridcolor\": \"white\", \"linecolor\": \"white\", \"minorgridcolor\": \"white\", \"startlinecolor\": \"rgb(36,36,36)\"}, \"baxis\": {\"endlinecolor\": \"rgb(36,36,36)\", \"gridcolor\": \"white\", \"linecolor\": \"white\", \"minorgridcolor\": \"white\", \"startlinecolor\": \"rgb(36,36,36)\"}, \"type\": \"carpet\"}], \"choropleth\": [{\"colorbar\": {\"outlinewidth\": 10, \"tickcolor\": \"rgb(36,36,36)\", \"ticklen\": 8, \"ticks\": \"outside\", \"tickwidth\": 2}, \"type\": \"choropleth\"}], \"contour\": [{\"colorbar\": {\"outlinewidth\": 10, \"tickcolor\": \"rgb(36,36,36)\", \"ticklen\": 8, \"ticks\": \"outside\", \"tickwidth\": 2}, \"colorscale\": [[0.0, \"#440154\"], [0.1111111111111111, \"#482878\"], [0.2222222222222222, \"#3e4989\"], [0.3333333333333333, \"#31688e\"], [0.4444444444444444, \"#26828e\"], [0.5555555555555556, \"#1f9e89\"], [0.6666666666666666, \"#35b779\"], [0.7777777777777778, \"#6ece58\"], [0.8888888888888888, \"#b5de2b\"], [1.0, \"#fde725\"]], \"type\": \"contour\"}], \"contourcarpet\": [{\"colorbar\": {\"outlinewidth\": 10, \"tickcolor\": \"rgb(36,36,36)\", \"ticklen\": 8, \"ticks\": \"outside\", \"tickwidth\": 2}, \"type\": \"contourcarpet\"}], \"heatmap\": [{\"colorbar\": {\"outlinewidth\": 10, \"tickcolor\": \"rgb(36,36,36)\", \"ticklen\": 8, \"ticks\": \"outside\", \"tickwidth\": 2}, \"colorscale\": [[0.0, \"#440154\"], [0.1111111111111111, \"#482878\"], [0.2222222222222222, \"#3e4989\"], [0.3333333333333333, \"#31688e\"], [0.4444444444444444, \"#26828e\"], [0.5555555555555556, \"#1f9e89\"], [0.6666666666666666, \"#35b779\"], [0.7777777777777778, \"#6ece58\"], [0.8888888888888888, \"#b5de2b\"], [1.0, \"#fde725\"]], \"type\": \"heatmap\"}], \"heatmapgl\": [{\"colorbar\": {\"outlinewidth\": 10, \"tickcolor\": \"rgb(36,36,36)\", \"ticklen\": 8, \"ticks\": \"outside\", \"tickwidth\": 2}, \"colorscale\": [[0.0, \"#440154\"], [0.1111111111111111, \"#482878\"], [0.2222222222222222, \"#3e4989\"], [0.3333333333333333, \"#31688e\"], [0.4444444444444444, \"#26828e\"], [0.5555555555555556, \"#1f9e89\"], [0.6666666666666666, \"#35b779\"], [0.7777777777777778, \"#6ece58\"], [0.8888888888888888, \"#b5de2b\"], [1.0, \"#fde725\"]], \"type\": \"heatmapgl\"}], \"histogram\": [{\"marker\": {\"line\": {\"color\": \"white\", \"width\": 0.6}}, \"type\": \"histogram\"}], \"histogram2d\": [{\"colorbar\": {\"outlinewidth\": 10, \"tickcolor\": \"rgb(36,36,36)\", \"ticklen\": 8, \"ticks\": \"outside\", \"tickwidth\": 2}, \"colorscale\": [[0.0, \"#440154\"], [0.1111111111111111, \"#482878\"], [0.2222222222222222, \"#3e4989\"], [0.3333333333333333, \"#31688e\"], [0.4444444444444444, \"#26828e\"], [0.5555555555555556, \"#1f9e89\"], [0.6666666666666666, \"#35b779\"], [0.7777777777777778, \"#6ece58\"], [0.8888888888888888, \"#b5de2b\"], [1.0, \"#fde725\"]], \"type\": \"histogram2d\"}], \"histogram2dcontour\": [{\"colorbar\": {\"outlinewidth\": 10, \"tickcolor\": \"rgb(36,36,36)\", \"ticklen\": 8, \"ticks\": \"outside\", \"tickwidth\": 2}, \"colorscale\": [[0.0, \"#440154\"], [0.1111111111111111, \"#482878\"], [0.2222222222222222, \"#3e4989\"], [0.3333333333333333, \"#31688e\"], [0.4444444444444444, \"#26828e\"], [0.5555555555555556, \"#1f9e89\"], [0.6666666666666666, \"#35b779\"], [0.7777777777777778, \"#6ece58\"], [0.8888888888888888, \"#b5de2b\"], [1.0, \"#fde725\"]], \"type\": \"histogram2dcontour\"}], \"mesh3d\": [{\"colorbar\": {\"outlinewidth\": 10, \"tickcolor\": \"rgb(36,36,36)\", \"ticklen\": 8, \"ticks\": \"outside\", \"tickwidth\": 2}, \"type\": \"mesh3d\"}], \"parcoords\": [{\"line\": {\"colorbar\": {\"outlinewidth\": 10, \"tickcolor\": \"rgb(36,36,36)\", \"ticklen\": 8, \"ticks\": \"outside\", \"tickwidth\": 2}}, \"type\": \"parcoords\"}], \"pie\": [{\"automargin\": true, \"type\": \"pie\"}], \"scatter\": [{\"marker\": {\"colorbar\": {\"outlinewidth\": 10, \"tickcolor\": \"rgb(36,36,36)\", \"ticklen\": 8, \"ticks\": \"outside\", \"tickwidth\": 2}}, \"type\": \"scatter\"}], \"scatter3d\": [{\"line\": {\"colorbar\": {\"outlinewidth\": 10, \"tickcolor\": \"rgb(36,36,36)\", \"ticklen\": 8, \"ticks\": \"outside\", \"tickwidth\": 2}}, \"marker\": {\"colorbar\": {\"outlinewidth\": 10, \"tickcolor\": \"rgb(36,36,36)\", \"ticklen\": 8, \"ticks\": \"outside\", \"tickwidth\": 2}}, \"type\": \"scatter3d\"}], \"scattercarpet\": [{\"marker\": {\"colorbar\": {\"outlinewidth\": 10, \"tickcolor\": \"rgb(36,36,36)\", \"ticklen\": 8, \"ticks\": \"outside\", \"tickwidth\": 2}}, \"type\": \"scattercarpet\"}], \"scattergeo\": [{\"marker\": {\"colorbar\": {\"outlinewidth\": 10, \"tickcolor\": \"rgb(36,36,36)\", \"ticklen\": 8, \"ticks\": \"outside\", \"tickwidth\": 2}}, \"type\": \"scattergeo\"}], \"scattergl\": [{\"marker\": {\"colorbar\": {\"outlinewidth\": 10, \"tickcolor\": \"rgb(36,36,36)\", \"ticklen\": 8, \"ticks\": \"outside\", \"tickwidth\": 2}}, \"type\": \"scattergl\"}], \"scattermapbox\": [{\"marker\": {\"colorbar\": {\"outlinewidth\": 10, \"tickcolor\": \"rgb(36,36,36)\", \"ticklen\": 8, \"ticks\": \"outside\", \"tickwidth\": 2}}, \"type\": \"scattermapbox\"}], \"scatterpolar\": [{\"marker\": {\"colorbar\": {\"outlinewidth\": 10, \"tickcolor\": \"rgb(36,36,36)\", \"ticklen\": 8, \"ticks\": \"outside\", \"tickwidth\": 2}}, \"type\": \"scatterpolar\"}], \"scatterpolargl\": [{\"marker\": {\"colorbar\": {\"outlinewidth\": 10, \"tickcolor\": \"rgb(36,36,36)\", \"ticklen\": 8, \"ticks\": \"outside\", \"tickwidth\": 2}}, \"type\": \"scatterpolargl\"}], \"scatterternary\": [{\"marker\": {\"colorbar\": {\"outlinewidth\": 10, \"tickcolor\": \"rgb(36,36,36)\", \"ticklen\": 8, \"ticks\": \"outside\", \"tickwidth\": 2}}, \"type\": \"scatterternary\"}], \"surface\": [{\"colorbar\": {\"outlinewidth\": 10, \"tickcolor\": \"rgb(36,36,36)\", \"ticklen\": 8, \"ticks\": \"outside\", \"tickwidth\": 2}, \"colorscale\": [[0.0, \"#440154\"], [0.1111111111111111, \"#482878\"], [0.2222222222222222, \"#3e4989\"], [0.3333333333333333, \"#31688e\"], [0.4444444444444444, \"#26828e\"], [0.5555555555555556, \"#1f9e89\"], [0.6666666666666666, \"#35b779\"], [0.7777777777777778, \"#6ece58\"], [0.8888888888888888, \"#b5de2b\"], [1.0, \"#fde725\"]], \"type\": \"surface\"}], \"table\": [{\"cells\": {\"fill\": {\"color\": \"rgb(237,237,237)\"}, \"line\": {\"color\": \"white\"}}, \"header\": {\"fill\": {\"color\": \"rgb(217,217,217)\"}, \"line\": {\"color\": \"white\"}}, \"type\": \"table\"}]}, \"layout\": {\"annotationdefaults\": {\"arrowhead\": 0, \"arrowwidth\": 1}, \"coloraxis\": {\"colorbar\": {\"outlinewidth\": 10, \"tickcolor\": \"rgb(36,36,36)\", \"ticklen\": 8, \"ticks\": \"outside\", \"tickwidth\": 2}}, \"colorscale\": {\"diverging\": [[0.0, \"rgb(103,0,31)\"], [0.1, \"rgb(178,24,43)\"], [0.2, \"rgb(214,96,77)\"], [0.3, \"rgb(244,165,130)\"], [0.4, \"rgb(253,219,199)\"], [0.5, \"rgb(247,247,247)\"], [0.6, \"rgb(209,229,240)\"], [0.7, \"rgb(146,197,222)\"], [0.8, \"rgb(67,147,195)\"], [0.9, \"rgb(33,102,172)\"], [1.0, \"rgb(5,48,97)\"]], \"sequential\": [[0.0, \"#440154\"], [0.1111111111111111, \"#482878\"], [0.2222222222222222, \"#3e4989\"], [0.3333333333333333, \"#31688e\"], [0.4444444444444444, \"#26828e\"], [0.5555555555555556, \"#1f9e89\"], [0.6666666666666666, \"#35b779\"], [0.7777777777777778, \"#6ece58\"], [0.8888888888888888, \"#b5de2b\"], [1.0, \"#fde725\"]], \"sequentialminus\": [[0.0, \"#440154\"], [0.1111111111111111, \"#482878\"], [0.2222222222222222, \"#3e4989\"], [0.3333333333333333, \"#31688e\"], [0.4444444444444444, \"#26828e\"], [0.5555555555555556, \"#1f9e89\"], [0.6666666666666666, \"#35b779\"], [0.7777777777777778, \"#6ece58\"], [0.8888888888888888, \"#b5de2b\"], [1.0, \"#fde725\"]]}, \"colorway\": [\"#1F77B4\", \"#FF7F0E\", \"#2CA02C\", \"#D62728\", \"#9467BD\", \"#8C564B\", \"#E377C2\", \"#7F7F7F\", \"#BCBD22\", \"#17BECF\"], \"font\": {\"color\": \"rgb(36,36,36)\"}, \"geo\": {\"bgcolor\": \"white\", \"lakecolor\": \"white\", \"landcolor\": \"white\", \"showlakes\": true, \"showland\": true, \"subunitcolor\": \"white\"}, \"hoverlabel\": {\"align\": \"left\"}, \"hovermode\": \"closest\", \"mapbox\": {\"style\": \"light\"}, \"paper_bgcolor\": \"white\", \"plot_bgcolor\": \"white\", \"polar\": {\"angularaxis\": {\"gridcolor\": \"rgb(232,232,232)\", \"linecolor\": \"rgb(36,36,36)\", \"showgrid\": false, \"showline\": true, \"ticks\": \"outside\"}, \"bgcolor\": \"white\", \"radialaxis\": {\"gridcolor\": \"rgb(232,232,232)\", \"linecolor\": \"rgb(36,36,36)\", \"showgrid\": false, \"showline\": true, \"ticks\": \"outside\"}}, \"scene\": {\"xaxis\": {\"backgroundcolor\": \"white\", \"gridcolor\": \"rgb(232,232,232)\", \"gridwidth\": 2, \"linecolor\": \"rgb(36,36,36)\", \"showbackground\": true, \"showgrid\": false, \"showline\": true, \"ticks\": \"outside\", \"zeroline\": false, \"zerolinecolor\": \"rgb(36,36,36)\"}, \"yaxis\": {\"backgroundcolor\": \"white\", \"gridcolor\": \"rgb(232,232,232)\", \"gridwidth\": 2, \"linecolor\": \"rgb(36,36,36)\", \"showbackground\": true, \"showgrid\": false, \"showline\": true, \"ticks\": \"outside\", \"zeroline\": false, \"zerolinecolor\": \"rgb(36,36,36)\"}, \"zaxis\": {\"backgroundcolor\": \"white\", \"gridcolor\": \"rgb(232,232,232)\", \"gridwidth\": 2, \"linecolor\": \"rgb(36,36,36)\", \"showbackground\": true, \"showgrid\": false, \"showline\": true, \"ticks\": \"outside\", \"zeroline\": false, \"zerolinecolor\": \"rgb(36,36,36)\"}}, \"shapedefaults\": {\"fillcolor\": \"black\", \"line\": {\"width\": 0}, \"opacity\": 0.3}, \"ternary\": {\"aaxis\": {\"gridcolor\": \"rgb(232,232,232)\", \"linecolor\": \"rgb(36,36,36)\", \"showgrid\": false, \"showline\": true, \"ticks\": \"outside\"}, \"baxis\": {\"gridcolor\": \"rgb(232,232,232)\", \"linecolor\": \"rgb(36,36,36)\", \"showgrid\": false, \"showline\": true, \"ticks\": \"outside\"}, \"bgcolor\": \"white\", \"caxis\": {\"gridcolor\": \"rgb(232,232,232)\", \"linecolor\": \"rgb(36,36,36)\", \"showgrid\": false, \"showline\": true, \"ticks\": \"outside\"}}, \"title\": {\"x\": 0.05}, \"xaxis\": {\"automargin\": true, \"gridcolor\": \"rgb(232,232,232)\", \"linecolor\": \"rgb(36,36,36)\", \"showgrid\": false, \"showline\": true, \"ticks\": \"outside\", \"title\": {\"standoff\": 15}, \"zeroline\": false, \"zerolinecolor\": \"rgb(36,36,36)\"}, \"yaxis\": {\"automargin\": true, \"gridcolor\": \"rgb(232,232,232)\", \"linecolor\": \"rgb(36,36,36)\", \"showgrid\": false, \"showline\": true, \"ticks\": \"outside\", \"title\": {\"standoff\": 15}, \"zeroline\": false, \"zerolinecolor\": \"rgb(36,36,36)\"}}}, \"title\": {\"text\": \"Wizualizacja klastr\\u00f3w\"}, \"width\": 950, \"xaxis\": {\"anchor\": \"y\", \"domain\": [0.0, 1.0], \"title\": {\"text\": \"CustomerID\"}}, \"yaxis\": {\"anchor\": \"x\", \"domain\": [0.0, 1.0], \"title\": {\"text\": \"Retention\"}}},\n",
              "                        {\"responsive\": true}\n",
              "                    ).then(function(){\n",
              "                            \n",
              "var gd = document.getElementById('9cb367e2-50a1-4ff3-b6eb-377bb985850b');\n",
              "var x = new MutationObserver(function (mutations, observer) {{\n",
              "        var display = window.getComputedStyle(gd).display;\n",
              "        if (!display || display === 'none') {{\n",
              "            console.log([gd, 'removed!']);\n",
              "            Plotly.purge(gd);\n",
              "            observer.disconnect();\n",
              "        }}\n",
              "}});\n",
              "\n",
              "// Listen for the removal of the full notebook cells\n",
              "var notebookContainer = gd.closest('#notebook-container');\n",
              "if (notebookContainer) {{\n",
              "    x.observe(notebookContainer, {childList: true});\n",
              "}}\n",
              "\n",
              "// Listen for the clearing of the current output cell\n",
              "var outputEl = gd.closest('.output');\n",
              "if (outputEl) {{\n",
              "    x.observe(outputEl, {childList: true});\n",
              "}}\n",
              "\n",
              "                        })\n",
              "                };\n",
              "                \n",
              "            </script>\n",
              "        </div>\n",
              "</body>\n",
              "</html>"
            ]
          },
          "metadata": {
            "tags": []
          }
        }
      ]
    },
    {
      "cell_type": "code",
      "metadata": {
        "id": "aJkpPTwE8N2H",
        "outputId": "fcd5e394-06e4-4794-d6e9-2b469f3da9f5",
        "colab": {
          "base_uri": "https://localhost:8080/",
          "height": 542
        }
      },
      "source": [
        "tmp = data_user['Cluster'].value_counts().reset_index()\n",
        "tmp.columns = ['Cluster', 'Count']\n",
        "px.bar(tmp, x='Cluster', y='Count', template='simple_white', color_discrete_sequence=['darkblue'], width=950,\n",
        "       title='Rozkład częstości klastrów')"
      ],
      "execution_count": 115,
      "outputs": [
        {
          "output_type": "display_data",
          "data": {
            "text/html": [
              "<html>\n",
              "<head><meta charset=\"utf-8\" /></head>\n",
              "<body>\n",
              "    <div>\n",
              "            <script src=\"https://cdnjs.cloudflare.com/ajax/libs/mathjax/2.7.5/MathJax.js?config=TeX-AMS-MML_SVG\"></script><script type=\"text/javascript\">if (window.MathJax) {MathJax.Hub.Config({SVG: {font: \"STIX-Web\"}});}</script>\n",
              "                <script type=\"text/javascript\">window.PlotlyConfig = {MathJaxConfig: 'local'};</script>\n",
              "        <script src=\"https://cdn.plot.ly/plotly-latest.min.js\"></script>    \n",
              "            <div id=\"43e6ff58-90e7-42a4-a595-bcc21b4c0fae\" class=\"plotly-graph-div\" style=\"height:525px; width:950px;\"></div>\n",
              "            <script type=\"text/javascript\">\n",
              "                \n",
              "                    window.PLOTLYENV=window.PLOTLYENV || {};\n",
              "                    \n",
              "                if (document.getElementById(\"43e6ff58-90e7-42a4-a595-bcc21b4c0fae\")) {\n",
              "                    Plotly.newPlot(\n",
              "                        '43e6ff58-90e7-42a4-a595-bcc21b4c0fae',\n",
              "                        [{\"alignmentgroup\": \"True\", \"hoverlabel\": {\"namelength\": 0}, \"hovertemplate\": \"Cluster=%{x}<br>Count=%{y}\", \"legendgroup\": \"\", \"marker\": {\"color\": \"darkblue\"}, \"name\": \"\", \"offsetgroup\": \"\", \"orientation\": \"v\", \"showlegend\": false, \"textposition\": \"auto\", \"type\": \"bar\", \"x\": [1, 2, 0], \"xaxis\": \"x\", \"y\": [2651, 735, 564], \"yaxis\": \"y\"}],\n",
              "                        {\"barmode\": \"relative\", \"legend\": {\"tracegroupgap\": 0}, \"template\": {\"data\": {\"bar\": [{\"error_x\": {\"color\": \"rgb(36,36,36)\"}, \"error_y\": {\"color\": \"rgb(36,36,36)\"}, \"marker\": {\"line\": {\"color\": \"white\", \"width\": 0.5}}, \"type\": \"bar\"}], \"barpolar\": [{\"marker\": {\"line\": {\"color\": \"white\", \"width\": 0.5}}, \"type\": \"barpolar\"}], \"carpet\": [{\"aaxis\": {\"endlinecolor\": \"rgb(36,36,36)\", \"gridcolor\": \"white\", \"linecolor\": \"white\", \"minorgridcolor\": \"white\", \"startlinecolor\": \"rgb(36,36,36)\"}, \"baxis\": {\"endlinecolor\": \"rgb(36,36,36)\", \"gridcolor\": \"white\", \"linecolor\": \"white\", \"minorgridcolor\": \"white\", \"startlinecolor\": \"rgb(36,36,36)\"}, \"type\": \"carpet\"}], \"choropleth\": [{\"colorbar\": {\"outlinewidth\": 10, \"tickcolor\": \"rgb(36,36,36)\", \"ticklen\": 8, \"ticks\": \"outside\", \"tickwidth\": 2}, \"type\": \"choropleth\"}], \"contour\": [{\"colorbar\": {\"outlinewidth\": 10, \"tickcolor\": \"rgb(36,36,36)\", \"ticklen\": 8, \"ticks\": \"outside\", \"tickwidth\": 2}, \"colorscale\": [[0.0, \"#440154\"], [0.1111111111111111, \"#482878\"], [0.2222222222222222, \"#3e4989\"], [0.3333333333333333, \"#31688e\"], [0.4444444444444444, \"#26828e\"], [0.5555555555555556, \"#1f9e89\"], [0.6666666666666666, \"#35b779\"], [0.7777777777777778, \"#6ece58\"], [0.8888888888888888, \"#b5de2b\"], [1.0, \"#fde725\"]], \"type\": \"contour\"}], \"contourcarpet\": [{\"colorbar\": {\"outlinewidth\": 10, \"tickcolor\": \"rgb(36,36,36)\", \"ticklen\": 8, \"ticks\": \"outside\", \"tickwidth\": 2}, \"type\": \"contourcarpet\"}], \"heatmap\": [{\"colorbar\": {\"outlinewidth\": 10, \"tickcolor\": \"rgb(36,36,36)\", \"ticklen\": 8, \"ticks\": \"outside\", \"tickwidth\": 2}, \"colorscale\": [[0.0, \"#440154\"], [0.1111111111111111, \"#482878\"], [0.2222222222222222, \"#3e4989\"], [0.3333333333333333, \"#31688e\"], [0.4444444444444444, \"#26828e\"], [0.5555555555555556, \"#1f9e89\"], [0.6666666666666666, \"#35b779\"], [0.7777777777777778, \"#6ece58\"], [0.8888888888888888, \"#b5de2b\"], [1.0, \"#fde725\"]], \"type\": \"heatmap\"}], \"heatmapgl\": [{\"colorbar\": {\"outlinewidth\": 10, \"tickcolor\": \"rgb(36,36,36)\", \"ticklen\": 8, \"ticks\": \"outside\", \"tickwidth\": 2}, \"colorscale\": [[0.0, \"#440154\"], [0.1111111111111111, \"#482878\"], [0.2222222222222222, \"#3e4989\"], [0.3333333333333333, \"#31688e\"], [0.4444444444444444, \"#26828e\"], [0.5555555555555556, \"#1f9e89\"], [0.6666666666666666, \"#35b779\"], [0.7777777777777778, \"#6ece58\"], [0.8888888888888888, \"#b5de2b\"], [1.0, \"#fde725\"]], \"type\": \"heatmapgl\"}], \"histogram\": [{\"marker\": {\"line\": {\"color\": \"white\", \"width\": 0.6}}, \"type\": \"histogram\"}], \"histogram2d\": [{\"colorbar\": {\"outlinewidth\": 10, \"tickcolor\": \"rgb(36,36,36)\", \"ticklen\": 8, \"ticks\": \"outside\", \"tickwidth\": 2}, \"colorscale\": [[0.0, \"#440154\"], [0.1111111111111111, \"#482878\"], [0.2222222222222222, \"#3e4989\"], [0.3333333333333333, \"#31688e\"], [0.4444444444444444, \"#26828e\"], [0.5555555555555556, \"#1f9e89\"], [0.6666666666666666, \"#35b779\"], [0.7777777777777778, \"#6ece58\"], [0.8888888888888888, \"#b5de2b\"], [1.0, \"#fde725\"]], \"type\": \"histogram2d\"}], \"histogram2dcontour\": [{\"colorbar\": {\"outlinewidth\": 10, \"tickcolor\": \"rgb(36,36,36)\", \"ticklen\": 8, \"ticks\": \"outside\", \"tickwidth\": 2}, \"colorscale\": [[0.0, \"#440154\"], [0.1111111111111111, \"#482878\"], [0.2222222222222222, \"#3e4989\"], [0.3333333333333333, \"#31688e\"], [0.4444444444444444, \"#26828e\"], [0.5555555555555556, \"#1f9e89\"], [0.6666666666666666, \"#35b779\"], [0.7777777777777778, \"#6ece58\"], [0.8888888888888888, \"#b5de2b\"], [1.0, \"#fde725\"]], \"type\": \"histogram2dcontour\"}], \"mesh3d\": [{\"colorbar\": {\"outlinewidth\": 10, \"tickcolor\": \"rgb(36,36,36)\", \"ticklen\": 8, \"ticks\": \"outside\", \"tickwidth\": 2}, \"type\": \"mesh3d\"}], \"parcoords\": [{\"line\": {\"colorbar\": {\"outlinewidth\": 10, \"tickcolor\": \"rgb(36,36,36)\", \"ticklen\": 8, \"ticks\": \"outside\", \"tickwidth\": 2}}, \"type\": \"parcoords\"}], \"pie\": [{\"automargin\": true, \"type\": \"pie\"}], \"scatter\": [{\"marker\": {\"colorbar\": {\"outlinewidth\": 10, \"tickcolor\": \"rgb(36,36,36)\", \"ticklen\": 8, \"ticks\": \"outside\", \"tickwidth\": 2}}, \"type\": \"scatter\"}], \"scatter3d\": [{\"line\": {\"colorbar\": {\"outlinewidth\": 10, \"tickcolor\": \"rgb(36,36,36)\", \"ticklen\": 8, \"ticks\": \"outside\", \"tickwidth\": 2}}, \"marker\": {\"colorbar\": {\"outlinewidth\": 10, \"tickcolor\": \"rgb(36,36,36)\", \"ticklen\": 8, \"ticks\": \"outside\", \"tickwidth\": 2}}, \"type\": \"scatter3d\"}], \"scattercarpet\": [{\"marker\": {\"colorbar\": {\"outlinewidth\": 10, \"tickcolor\": \"rgb(36,36,36)\", \"ticklen\": 8, \"ticks\": \"outside\", \"tickwidth\": 2}}, \"type\": \"scattercarpet\"}], \"scattergeo\": [{\"marker\": {\"colorbar\": {\"outlinewidth\": 10, \"tickcolor\": \"rgb(36,36,36)\", \"ticklen\": 8, \"ticks\": \"outside\", \"tickwidth\": 2}}, \"type\": \"scattergeo\"}], \"scattergl\": [{\"marker\": {\"colorbar\": {\"outlinewidth\": 10, \"tickcolor\": \"rgb(36,36,36)\", \"ticklen\": 8, \"ticks\": \"outside\", \"tickwidth\": 2}}, \"type\": \"scattergl\"}], \"scattermapbox\": [{\"marker\": {\"colorbar\": {\"outlinewidth\": 10, \"tickcolor\": \"rgb(36,36,36)\", \"ticklen\": 8, \"ticks\": \"outside\", \"tickwidth\": 2}}, \"type\": \"scattermapbox\"}], \"scatterpolar\": [{\"marker\": {\"colorbar\": {\"outlinewidth\": 10, \"tickcolor\": \"rgb(36,36,36)\", \"ticklen\": 8, \"ticks\": \"outside\", \"tickwidth\": 2}}, \"type\": \"scatterpolar\"}], \"scatterpolargl\": [{\"marker\": {\"colorbar\": {\"outlinewidth\": 10, \"tickcolor\": \"rgb(36,36,36)\", \"ticklen\": 8, \"ticks\": \"outside\", \"tickwidth\": 2}}, \"type\": \"scatterpolargl\"}], \"scatterternary\": [{\"marker\": {\"colorbar\": {\"outlinewidth\": 10, \"tickcolor\": \"rgb(36,36,36)\", \"ticklen\": 8, \"ticks\": \"outside\", \"tickwidth\": 2}}, \"type\": \"scatterternary\"}], \"surface\": [{\"colorbar\": {\"outlinewidth\": 10, \"tickcolor\": \"rgb(36,36,36)\", \"ticklen\": 8, \"ticks\": \"outside\", \"tickwidth\": 2}, \"colorscale\": [[0.0, \"#440154\"], [0.1111111111111111, \"#482878\"], [0.2222222222222222, \"#3e4989\"], [0.3333333333333333, \"#31688e\"], [0.4444444444444444, \"#26828e\"], [0.5555555555555556, \"#1f9e89\"], [0.6666666666666666, \"#35b779\"], [0.7777777777777778, \"#6ece58\"], [0.8888888888888888, \"#b5de2b\"], [1.0, \"#fde725\"]], \"type\": \"surface\"}], \"table\": [{\"cells\": {\"fill\": {\"color\": \"rgb(237,237,237)\"}, \"line\": {\"color\": \"white\"}}, \"header\": {\"fill\": {\"color\": \"rgb(217,217,217)\"}, \"line\": {\"color\": \"white\"}}, \"type\": \"table\"}]}, \"layout\": {\"annotationdefaults\": {\"arrowhead\": 0, \"arrowwidth\": 1}, \"coloraxis\": {\"colorbar\": {\"outlinewidth\": 10, \"tickcolor\": \"rgb(36,36,36)\", \"ticklen\": 8, \"ticks\": \"outside\", \"tickwidth\": 2}}, \"colorscale\": {\"diverging\": [[0.0, \"rgb(103,0,31)\"], [0.1, \"rgb(178,24,43)\"], [0.2, \"rgb(214,96,77)\"], [0.3, \"rgb(244,165,130)\"], [0.4, \"rgb(253,219,199)\"], [0.5, \"rgb(247,247,247)\"], [0.6, \"rgb(209,229,240)\"], [0.7, \"rgb(146,197,222)\"], [0.8, \"rgb(67,147,195)\"], [0.9, \"rgb(33,102,172)\"], [1.0, \"rgb(5,48,97)\"]], \"sequential\": [[0.0, \"#440154\"], [0.1111111111111111, \"#482878\"], [0.2222222222222222, \"#3e4989\"], [0.3333333333333333, \"#31688e\"], [0.4444444444444444, \"#26828e\"], [0.5555555555555556, \"#1f9e89\"], [0.6666666666666666, \"#35b779\"], [0.7777777777777778, \"#6ece58\"], [0.8888888888888888, \"#b5de2b\"], [1.0, \"#fde725\"]], \"sequentialminus\": [[0.0, \"#440154\"], [0.1111111111111111, \"#482878\"], [0.2222222222222222, \"#3e4989\"], [0.3333333333333333, \"#31688e\"], [0.4444444444444444, \"#26828e\"], [0.5555555555555556, \"#1f9e89\"], [0.6666666666666666, \"#35b779\"], [0.7777777777777778, \"#6ece58\"], [0.8888888888888888, \"#b5de2b\"], [1.0, \"#fde725\"]]}, \"colorway\": [\"#1F77B4\", \"#FF7F0E\", \"#2CA02C\", \"#D62728\", \"#9467BD\", \"#8C564B\", \"#E377C2\", \"#7F7F7F\", \"#BCBD22\", \"#17BECF\"], \"font\": {\"color\": \"rgb(36,36,36)\"}, \"geo\": {\"bgcolor\": \"white\", \"lakecolor\": \"white\", \"landcolor\": \"white\", \"showlakes\": true, \"showland\": true, \"subunitcolor\": \"white\"}, \"hoverlabel\": {\"align\": \"left\"}, \"hovermode\": \"closest\", \"mapbox\": {\"style\": \"light\"}, \"paper_bgcolor\": \"white\", \"plot_bgcolor\": \"white\", \"polar\": {\"angularaxis\": {\"gridcolor\": \"rgb(232,232,232)\", \"linecolor\": \"rgb(36,36,36)\", \"showgrid\": false, \"showline\": true, \"ticks\": \"outside\"}, \"bgcolor\": \"white\", \"radialaxis\": {\"gridcolor\": \"rgb(232,232,232)\", \"linecolor\": \"rgb(36,36,36)\", \"showgrid\": false, \"showline\": true, \"ticks\": \"outside\"}}, \"scene\": {\"xaxis\": {\"backgroundcolor\": \"white\", \"gridcolor\": \"rgb(232,232,232)\", \"gridwidth\": 2, \"linecolor\": \"rgb(36,36,36)\", \"showbackground\": true, \"showgrid\": false, \"showline\": true, \"ticks\": \"outside\", \"zeroline\": false, \"zerolinecolor\": \"rgb(36,36,36)\"}, \"yaxis\": {\"backgroundcolor\": \"white\", \"gridcolor\": \"rgb(232,232,232)\", \"gridwidth\": 2, \"linecolor\": \"rgb(36,36,36)\", \"showbackground\": true, \"showgrid\": false, \"showline\": true, \"ticks\": \"outside\", \"zeroline\": false, \"zerolinecolor\": \"rgb(36,36,36)\"}, \"zaxis\": {\"backgroundcolor\": \"white\", \"gridcolor\": \"rgb(232,232,232)\", \"gridwidth\": 2, \"linecolor\": \"rgb(36,36,36)\", \"showbackground\": true, \"showgrid\": false, \"showline\": true, \"ticks\": \"outside\", \"zeroline\": false, \"zerolinecolor\": \"rgb(36,36,36)\"}}, \"shapedefaults\": {\"fillcolor\": \"black\", \"line\": {\"width\": 0}, \"opacity\": 0.3}, \"ternary\": {\"aaxis\": {\"gridcolor\": \"rgb(232,232,232)\", \"linecolor\": \"rgb(36,36,36)\", \"showgrid\": false, \"showline\": true, \"ticks\": \"outside\"}, \"baxis\": {\"gridcolor\": \"rgb(232,232,232)\", \"linecolor\": \"rgb(36,36,36)\", \"showgrid\": false, \"showline\": true, \"ticks\": \"outside\"}, \"bgcolor\": \"white\", \"caxis\": {\"gridcolor\": \"rgb(232,232,232)\", \"linecolor\": \"rgb(36,36,36)\", \"showgrid\": false, \"showline\": true, \"ticks\": \"outside\"}}, \"title\": {\"x\": 0.05}, \"xaxis\": {\"automargin\": true, \"gridcolor\": \"rgb(232,232,232)\", \"linecolor\": \"rgb(36,36,36)\", \"showgrid\": false, \"showline\": true, \"ticks\": \"outside\", \"title\": {\"standoff\": 15}, \"zeroline\": false, \"zerolinecolor\": \"rgb(36,36,36)\"}, \"yaxis\": {\"automargin\": true, \"gridcolor\": \"rgb(232,232,232)\", \"linecolor\": \"rgb(36,36,36)\", \"showgrid\": false, \"showline\": true, \"ticks\": \"outside\", \"title\": {\"standoff\": 15}, \"zeroline\": false, \"zerolinecolor\": \"rgb(36,36,36)\"}}}, \"title\": {\"text\": \"Rozk\\u0142ad cz\\u0119sto\\u015bci klastr\\u00f3w\"}, \"width\": 950, \"xaxis\": {\"anchor\": \"y\", \"domain\": [0.0, 1.0], \"title\": {\"text\": \"Cluster\"}}, \"yaxis\": {\"anchor\": \"x\", \"domain\": [0.0, 1.0], \"title\": {\"text\": \"Count\"}}},\n",
              "                        {\"responsive\": true}\n",
              "                    ).then(function(){\n",
              "                            \n",
              "var gd = document.getElementById('43e6ff58-90e7-42a4-a595-bcc21b4c0fae');\n",
              "var x = new MutationObserver(function (mutations, observer) {{\n",
              "        var display = window.getComputedStyle(gd).display;\n",
              "        if (!display || display === 'none') {{\n",
              "            console.log([gd, 'removed!']);\n",
              "            Plotly.purge(gd);\n",
              "            observer.disconnect();\n",
              "        }}\n",
              "}});\n",
              "\n",
              "// Listen for the removal of the full notebook cells\n",
              "var notebookContainer = gd.closest('#notebook-container');\n",
              "if (notebookContainer) {{\n",
              "    x.observe(notebookContainer, {childList: true});\n",
              "}}\n",
              "\n",
              "// Listen for the clearing of the current output cell\n",
              "var outputEl = gd.closest('.output');\n",
              "if (outputEl) {{\n",
              "    x.observe(outputEl, {childList: true});\n",
              "}}\n",
              "\n",
              "                        })\n",
              "                };\n",
              "                \n",
              "            </script>\n",
              "        </div>\n",
              "</body>\n",
              "</html>"
            ]
          },
          "metadata": {
            "tags": []
          }
        }
      ]
    },
    {
      "cell_type": "markdown",
      "metadata": {
        "id": "tzON_qqb9AWi"
      },
      "source": [
        "#### Retencja DBSCAN"
      ]
    },
    {
      "cell_type": "code",
      "metadata": {
        "id": "qrWq99Ue8UhM",
        "outputId": "69f05ad1-a67c-4b95-84c9-930f6ba370b2",
        "colab": {
          "base_uri": "https://localhost:8080/",
          "height": 195
        }
      },
      "source": [
        "from sklearn.cluster import DBSCAN\n",
        "\n",
        "dbscan = DBSCAN(eps = 0.03, min_samples = 5)\n",
        "dbscan.fit(data_retention_scaled)\n",
        "clusters = dbscan.labels_\n",
        "data_user['Cluster'] = clusters\n",
        "data_user.head()"
      ],
      "execution_count": 116,
      "outputs": [
        {
          "output_type": "execute_result",
          "data": {
            "text/html": [
              "<div>\n",
              "<style scoped>\n",
              "    .dataframe tbody tr th:only-of-type {\n",
              "        vertical-align: middle;\n",
              "    }\n",
              "\n",
              "    .dataframe tbody tr th {\n",
              "        vertical-align: top;\n",
              "    }\n",
              "\n",
              "    .dataframe thead th {\n",
              "        text-align: right;\n",
              "    }\n",
              "</style>\n",
              "<table border=\"1\" class=\"dataframe\">\n",
              "  <thead>\n",
              "    <tr style=\"text-align: right;\">\n",
              "      <th></th>\n",
              "      <th>CustomerID</th>\n",
              "      <th>Retention</th>\n",
              "      <th>RetentionScaled</th>\n",
              "      <th>Cluster</th>\n",
              "    </tr>\n",
              "  </thead>\n",
              "  <tbody>\n",
              "    <tr>\n",
              "      <th>0</th>\n",
              "      <td>17850.0</td>\n",
              "      <td>301</td>\n",
              "      <td>2.097649</td>\n",
              "      <td>0</td>\n",
              "    </tr>\n",
              "    <tr>\n",
              "      <th>1</th>\n",
              "      <td>13047.0</td>\n",
              "      <td>31</td>\n",
              "      <td>-0.596486</td>\n",
              "      <td>1</td>\n",
              "    </tr>\n",
              "    <tr>\n",
              "      <th>2</th>\n",
              "      <td>13748.0</td>\n",
              "      <td>95</td>\n",
              "      <td>0.042124</td>\n",
              "      <td>1</td>\n",
              "    </tr>\n",
              "    <tr>\n",
              "      <th>3</th>\n",
              "      <td>15100.0</td>\n",
              "      <td>329</td>\n",
              "      <td>2.377041</td>\n",
              "      <td>0</td>\n",
              "    </tr>\n",
              "    <tr>\n",
              "      <th>4</th>\n",
              "      <td>15291.0</td>\n",
              "      <td>25</td>\n",
              "      <td>-0.656356</td>\n",
              "      <td>1</td>\n",
              "    </tr>\n",
              "  </tbody>\n",
              "</table>\n",
              "</div>"
            ],
            "text/plain": [
              "   CustomerID  Retention  RetentionScaled  Cluster\n",
              "0     17850.0        301         2.097649        0\n",
              "1     13047.0         31        -0.596486        1\n",
              "2     13748.0         95         0.042124        1\n",
              "3     15100.0        329         2.377041        0\n",
              "4     15291.0         25        -0.656356        1"
            ]
          },
          "metadata": {
            "tags": []
          },
          "execution_count": 116
        }
      ]
    },
    {
      "cell_type": "code",
      "metadata": {
        "id": "lka-ipHl9ucC",
        "outputId": "e4596208-d8ff-4c3f-b8e0-98bc2fd79dc9",
        "colab": {
          "base_uri": "https://localhost:8080/",
          "height": 542
        }
      },
      "source": [
        "\n",
        "px.scatter(data_user, x='CustomerID', y='Retention', color='Cluster', template='simple_white', width=950,\n",
        "           title='Wizualizacja klastrów')"
      ],
      "execution_count": 117,
      "outputs": [
        {
          "output_type": "display_data",
          "data": {
            "text/html": [
              "<html>\n",
              "<head><meta charset=\"utf-8\" /></head>\n",
              "<body>\n",
              "    <div>\n",
              "            <script src=\"https://cdnjs.cloudflare.com/ajax/libs/mathjax/2.7.5/MathJax.js?config=TeX-AMS-MML_SVG\"></script><script type=\"text/javascript\">if (window.MathJax) {MathJax.Hub.Config({SVG: {font: \"STIX-Web\"}});}</script>\n",
              "                <script type=\"text/javascript\">window.PlotlyConfig = {MathJaxConfig: 'local'};</script>\n",
              "        <script src=\"https://cdn.plot.ly/plotly-latest.min.js\"></script>    \n",
              "            <div id=\"90a8ca14-6e61-44db-99c5-96505e22a5f6\" class=\"plotly-graph-div\" style=\"height:525px; width:950px;\"></div>\n",
              "            <script type=\"text/javascript\">\n",
              "                \n",
              "                    window.PLOTLYENV=window.PLOTLYENV || {};\n",
              "                    \n",
              "                if (document.getElementById(\"90a8ca14-6e61-44db-99c5-96505e22a5f6\")) {\n",
              "                    Plotly.newPlot(\n",
              "                        '90a8ca14-6e61-44db-99c5-96505e22a5f6',\n",
              "                        [{\"hoverlabel\": {\"namelength\": 0}, \"hovertemplate\": \"CustomerID=%{x}<br>Retention=%{y}<br>Cluster=%{marker.color}\", \"legendgroup\": \"\", \"marker\": {\"color\": [0, 1, 1, 0, 1, 1, 1, 1, 1, 1, 2, 1, 1, 0, 1, 1, 1, 2, 1, 1, 1, 1, 1, 1, 1, 1, 1, 2, 1, 1, 1, 2, 0, 1, 1, 1, 1, 2, 1, 1, 1, 0, 1, 1, 2, 1, 1, 1, 1, 1, 1, 1, 2, 1, 1, 1, 2, 1, 1, 2, 1, 2, 1, 1, 1, 2, 1, 0, 1, 1, 1, 1, 1, 2, 0, 1, 1, 1, 1, 1, 1, 1, 1, 2, 1, 2, 1, 1, 1, 1, 2, 1, 1, 1, 0, 1, 2, 2, 1, 2, 1, 2, 1, 1, 1, 2, 1, 1, 1, 1, 1, 1, 1, 1, 2, 1, 1, 1, 0, 1, 1, 1, 1, 2, 2, 1, 0, 1, 1, 1, 1, 1, 1, 1, 1, 1, 1, 1, 1, 2, 1, 0, 2, 1, 1, 2, 2, 1, 1, 1, 1, 1, 1, 0, 1, 1, 1, 1, 1, 1, 1, 1, 1, 1, 1, 1, 1, 1, 1, 1, 1, 2, 1, 2, 1, 1, 1, 1, 2, 1, 1, 1, 2, 2, 1, 1, 2, 1, 1, 1, 1, 1, 1, 1, 1, 1, 1, 1, 2, 1, 2, 1, 1, 2, 1, 1, 1, 2, 1, 2, 1, 1, 1, 1, 1, 1, 1, 1, 2, 1, 1, 1, 1, 1, 1, 1, 1, 1, 1, 1, 0, 1, 1, 1, 1, 1, 1, 1, 1, 1, 1, 1, 1, 1, 1, 1, 1, 1, 1, 1, 1, 1, 2, 0, 1, 1, 1, 1, 0, 1, 1, 1, 2, 1, 1, 1, 1, 1, 1, 2, 2, 0, 1, 1, 1, 1, 1, 0, 1, 1, 1, 0, 1, 1, 1, 1, 1, 1, 1, 1, 1, 1, 0, 1, 1, 1, 1, 1, 1, 1, 1, 1, 2, 1, 1, 1, 1, 1, 1, 2, 1, 2, 1, 1, 1, 0, 1, 1, 1, 1, 1, 1, 1, 1, 1, 1, 1, 2, 1, 1, 1, 2, 1, 1, 1, 1, 1, 1, 1, 1, 1, 1, 1, 1, 1, 2, 1, 1, 0, 1, 1, 1, 1, 1, 1, 1, 2, 1, 1, 1, 1, 1, 1, 1, 1, 1, 1, 1, 1, 0, 1, 0, 1, 1, 1, 1, 0, 1, 1, 1, 1, 1, 1, 1, 0, 1, 0, 2, 1, 1, 1, 1, 1, 1, 1, 1, 1, 1, 1, 1, 1, 1, 2, 1, 1, 1, 2, 1, 1, 1, 1, 1, 1, 1, 1, 2, 2, 1, 1, 1, 1, 2, 1, 1, 1, 1, 1, 1, 1, 1, 1, 1, 1, 0, 1, 1, 1, 1, 1, 1, 1, 1, 1, 1, 1, 1, 0, 1, 1, 2, 1, 1, 1, 1, 1, 1, 1, 1, 1, 1, 0, 1, 1, 1, 1, 1, 1, 1, 1, 1, 1, 2, 2, 1, 1, 1, 2, 1, 1, 1, 0, 1, 2, 1, 1, 1, 1, 1, 1, 1, 1, 1, 2, 1, 1, 1, 1, 2, 1, 1, 1, 1, 1, 1, 1, 1, 1, 1, 1, 1, 1, 0, 1, 2, 1, 1, 1, 2, 1, 1, 1, 1, 0, 2, 1, 1, 2, 1, 1, 1, 1, 1, 1, 1, 1, 2, 2, 1, 1, 1, 1, 1, 1, 1, 0, 1, 1, 2, 1, 1, 2, 2, 1, 1, 1, 1, 2, 2, 1, 1, 1, 1, 1, 1, 1, 1, 1, 1, 1, 1, 1, 1, 1, 1, 1, 1, 1, 1, 1, 2, 1, 1, 1, 2, 0, 2, 1, 1, 0, 1, 1, 1, 1, 1, 1, 1, 1, 1, 0, 2, 1, 1, 1, 1, 2, 1, 1, 1, 1, 1, 2, 2, 1, 1, 1, 2, 1, 1, 1, 1, 1, 1, 0, 1, 1, 1, 1, 1, 1, 2, 2, 1, 2, 2, 1, 1, 1, 1, 1, 1, 1, 1, 2, 1, 1, 1, 1, 1, 1, 1, 1, 0, 1, 1, 1, 1, 1, 1, 2, 1, 1, 1, 2, 1, 0, 1, 1, 1, 1, 1, 0, 1, 1, 1, 2, 0, 0, 2, 1, 1, 1, 1, 1, 2, 1, 1, 1, 1, 1, 2, 0, 1, 1, 1, 1, 2, 1, 1, 1, 1, 1, 1, 1, 1, 1, 1, 1, 0, 1, 1, 1, 1, 1, 1, 1, 1, 1, 1, 1, 1, 1, 0, 1, 1, 2, 1, 1, 1, 1, 1, 1, 1, 0, 1, 1, 1, 1, 2, 2, 1, 1, 1, 1, 0, 1, 1, 1, 1, 1, 2, 1, 1, 2, 1, 1, 1, 1, 1, 2, 1, 1, 1, 1, 0, 1, 1, 0, 1, 1, 1, 1, 1, 1, 1, 1, 1, 1, 1, 1, 1, 1, 1, 1, 1, 1, 1, 1, 1, 1, 1, 2, 1, 1, 0, 1, 1, 2, 2, 1, 1, 1, 1, 1, 1, 1, 1, 1, 1, 1, 0, 2, 1, 1, 0, 1, 1, 1, 1, 1, 1, 1, 1, 1, 2, 1, 1, 2, 2, 1, 1, 1, 1, 1, 0, 1, 1, 2, 2, 1, 1, 1, 1, 1, 1, 1, 1, 1, 1, 2, 1, 1, 2, 1, 1, 1, 1, 1, 2, 1, 1, 1, 1, 1, 1, 0, 0, 2, 1, 2, 1, 2, 1, 1, 0, 1, 1, 1, 1, 1, 1, 1, 1, 1, 1, 1, 1, 1, 1, 1, 0, 1, 0, 1, 1, 1, 1, 1, 0, 1, 1, 1, 1, 1, 0, 1, 1, 1, 1, 1, 1, 1, 1, 1, 1, 0, 1, 1, 1, 1, 1, 1, 0, 0, 1, 1, 1, 1, 1, 0, 0, 1, 1, 1, 1, 1, 1, 1, 1, 1, 0, 1, 1, 1, 1, 1, 1, 1, 1, 1, 1, 0, 1, 1, 1, 1, 1, 0, 1, 0, 1, 0, 1, 1, 1, 1, 1, 1, 1, 1, 0, 0, 0, 1, 1, 1, 1, 1, 0, 0, 1, 0, 1, 1, 0, 1, 1, 1, 1, 0, 1, 1, 1, 1, 1, 1, 0, 1, 1, 0, 1, 1, 1, 0, 1, 1, 1, 1, 1, 0, 0, 0, 1, 1, 0, 1, 1, 1, 1, 0, 1, 0, 1, 0, 1, 1, 1, 1, 1, 1, 1, 1, 1, 1, 1, 1, 1, 1, 1, 1, 1, 1, 1, 0, 1, 1, 1, 1, 1, 0, 1, 1, 1, 0, 0, 1, 1, 0, 1, 0, 0, 0, 1, 0, 0, 0, 1, 1, 1, 0, 1, 1, 1, 1, 1, 1, 1, 1, 1, 1, 0, 0, 0, 1, 1, 0, 0, 1, 0, 1, 1, 0, 1, 1, 1, 0, 1, 1, 1, 1, 0, 1, 1, 1, 1, 1, 0, 1, 1, 1, 1, 0, 1, 0, 1, 0, 1, 0, 1, 1, 0, 1, 1, 1, 1, 1, 1, 0, 1, 0, 0, 0, 0, 1, 1, 1, 1, 1, 1, 1, 0, 1, 1, 1, 1, 0, 1, 0, 1, 1, 1, 1, 1, 0, 0, 1, 1, 1, 1, 1, 1, 1, 1, 0, 0, 1, 1, 1, 1, 1, 1, 0, 1, 1, 1, 1, 1, 1, 1, 1, 1, 1, 1, 1, 1, 1, 1, 1, 1, 1, 0, 1, 1, 1, 1, 0, 1, 1, 1, 1, 1, 1, 1, 1, 1, 1, 0, 1, 1, 1, 0, 1, 1, 0, 0, 0, 1, 1, 0, 1, 1, 1, 1, 1, 1, 1, 0, 1, 0, 1, 1, 1, 0, 1, 1, 1, 1, 0, 0, 1, 1, 1, 1, 0, 1, 1, 0, 1, 1, 1, 0, 1, 1, 1, 1, 0, 0, 1, 1, 0, 0, 0, 1, 0, 1, 1, 1, 1, 0, 1, 1, 0, 1, 1, 1, 1, 1, 1, 1, 1, 1, 0, 1, 1, 0, 1, 1, 0, 1, 0, 1, 0, 1, 1, 1, 0, 0, 1, 0, 1, 1, 1, 1, 0, 0, 1, 1, 1, 1, 1, 0, 0, 1, 1, 1, 1, 0, 1, 0, 0, 1, 1, 0, 1, 1, 1, 1, 1, 1, 1, 1, 1, 0, 1, 0, 0, 1, 1, 1, 0, 0, 0, 1, 0, 1, 1, 0, 0, 1, 1, 0, 1, 0, 1, 1, 1, 0, 1, 1, 1, 1, 1, 1, 1, 1, 1, 1, 1, 0, 1, 0, 0, 1, 1, 1, 1, 1, 1, 1, 1, 1, 0, 1, 1, 1, 0, 1, 1, 1, 1, 1, 1, 1, 0, 1, 1, 1, 0, 1, 1, 1, 1, 1, 0, 1, 0, 1, 1, 0, 0, 1, 0, 1, 1, 1, 1, 0, 1, 0, 1, 1, 1, 1, 0, 1, 1, 1, 1, 1, 1, 0, 1, 1, 0, 1, 0, 1, 1, 1, 1, 1, 1, 0, 1, 1, 0, 1, 1, 1, 1, 1, 1, 1, 1, 1, 0, 1, 1, 1, 1, 1, 1, 1, 1, 0, 1, 1, 0, 1, 1, 1, 1, 1, 1, 1, 0, 0, 0, 0, 0, 1, 1, 1, 1, 1, 1, 1, 1, 1, 0, 0, 1, 1, 1, 1, 1, 1, 1, 1, 1, 1, 0, 1, 0, 0, 0, 1, 1, 1, 1, 1, 1, 1, 1, 1, 1, 1, 0, 0, 0, 0, 1, 0, 0, 1, 1, 0, 1, 1, 1, 1, 1, 1, 1, 1, 0, 1, 1, 1, 1, 0, 1, 0, 0, 0, 1, 1, 1, 1, 1, 1, 1, 1, 1, 0, 1, 1, 1, 1, 1, 1, 1, 1, 1, 0, 0, 1, 0, 1, 1, 1, 0, 1, 1, 1, 1, 0, 1, 1, 0, 1, 1, 1, 0, 1, 0, 1, 1, 0, 1, 1, 0, 1, 0, 1, 1, 1, 1, 1, 1, 1, 1, 0, 1, 1, 0, 0, 0, 1, 1, 0, 1, 1, 0, 1, 1, 1, 1, 0, 0, 1, 0, 1, 1, 1, 1, 1, 1, 0, 1, 0, 1, 1, 1, 0, 1, 1, 1, 0, 1, 0, 1, 1, 1, 1, 1, 1, 1, 0, 0, 1, 1, 0, 1, 1, 1, 1, 0, 1, 0, 1, 0, 1, 1, 1, 0, 1, 0, 1, 1, 1, 1, 0, 1, 0, 1, 1, 1, 1, 1, 1, 1, 0, 1, 1, 1, 1, 1, 1, 1, 1, 1, 1, 1, 0, 1, 0, 1, 0, 1, 1, 1, 1, 1, 0, 1, 0, 1, 1, 0, 1, 0, 0, 0, 1, 0, 1, 1, 1, 1, 1, 0, 1, 1, 1, 0, 1, 1, 0, 0, 1, 1, 1, 1, 1, 0, 1, 1, 0, 1, 1, 1, 1, 0, 1, 1, 1, 1, 0, 1, 0, 1, 0, 1, 1, 0, 1, 0, 1, 0, 1, 1, 0, 1, 1, 1, 0, 1, 1, 0, 1, 1, 1, 1, 1, 1, 1, 0, 0, 0, 1, 1, 1, 1, 1, 1, 0, 0, 0, 1, 1, 1, 1, 1, 1, 0, 0, 1, 0, 1, 1, 0, 1, 0, 1, 1, 0, 1, 1, 1, 0, 0, 1, 1, 1, 0, 1, 1, 0, 1, 0, 1, 1, 1, 0, 1, 1, 0, 1, 0, 1, 1, 1, 1, 1, 0, 0, 1, 1, 0, 0, 0, 1, 1, 0, 1, 0, 1, 1, 0, 0, 1, 0, 1, 1, 1, 1, 0, 0, 0, 1, 1, 1, 1, 1, 0, 0, 1, 0, 1, 0, 1, 0, 1, 1, 0, 1, 0, 1, 1, 0, 1, 1, 1, 1, 1, 1, 1, 1, 1, 1, 0, 0, 1, 0, 1, 1, 0, 1, 0, 1, 0, 0, 0, 1, 1, 1, 1, 1, 0, 1, 0, 1, 1, 1, 1, 1, 1, 0, 1, 0, 1, 1, 0, 0, 1, 1, 1, 1, 1, 1, 1, 1, 1, 1, 1, 1, 1, 1, 0, 1, 1, 1, 0, 1, 1, 1, 1, 1, 1, 0, 1, 1, 0, 1, 1, 1, 1, 0, 1, 1, 0, 1, 0, 1, 1, 0, 0, 1, 0, 1, 1, 1, 1, 1, 1, 1, 0, 1, 0, 1, 0, 0, 1, 1, 1, 1, 1, 0, 0, 1, 1, 1, 0, 0, 1, 0, 1, 1, 1, 0, 1, 0, 1, 1, 1, 1, 1, 0, 0, 1, 0, 1, 1, 0, 0, 1, 0, 1, 1, 1, 1, 1, 1, 0, 1, 1, 1, 0, 1, 0, 1, 1, 0, 1, 0, 1, 1, 1, 1, 0, 1, 0, 1, 1, 1, 1, 1, 1, 1, 1, 0, 1, 1, 1, 0, 1, 1, 1, 0, 1, 0, 1, 1, 1, 0, 1, 0, 0, 0, 1, 1, 1, 1, 1, 0, 1, 1, 1, 0, 0, 1, 0, 1, 1, 1, 0, 1, 1, 1, 0, 1, 1, 1, 0, 0, 1, 1, 1, 1, 1, 0, 0, 1, 1, 1, 1, 1, 1, 1, 0, 1, 0, 0, 1, 1, 0, 0, 1, 0, 1, 0, 1, 1, 1, 1, 1, 1, 0, 1, 1, 0, 1, 1, 1, 1, 1, 1, 1, 1, 1, 1, 1, 1, 1, 1, 0, 1, 1, 1, 0, 0, 0, 1, 1, 0, 1, 1, 1, 1, 1, 0, 0, 1, 1, 1, 0, 1, 1, 1, 0, 0, 0, 1, 0, 1, 0, 1, 1, 0, 1, 1, 1, 1, 1, 1, 1, 1, 1, 1, 1, 0, 1, 1, 0, 0, 1, 1, 0, 1, 1, 0, 1, 1, 1, 1, 0, 0, 1, 0, 1, 1, 1, 1, 1, 1, 1, 1, 0, 1, 1, 1, 1, 0, 1, 0, 1, 1, 1, 1, 1, 1, 1, 1, 1, 1, 1, 1, 1, 1, 1, 1, 1, 1, 1, 1, 1, 1, 1, 1, 1, 1, 1, 1, 1, 1, 1, 1, 1, 1, 1, 1, 1, 1, 1, 1, 1, 1, 1, 1, 1, 1, 1, 1, 1, 1, 1, 1, 1, 1, 1, 1, 1, 1, 1, 1, 1, 1, 1, 1, 1, 1, 1, 1, 1, 1, 1, 1, 1, 1, 1, 1, 1, 1, 1, 1, 1, 1, 1, 1, 1, 1, 1, 1, 1, 1, 1, 1, 1, 1, 1, 1, 1, 1, 1, 1, 1, 1, 1, 1, 1, 1, 1, 1, 1, 1, 1, 1, 1, 1, 1, 1, 1, 1, 1, 1, 1, 1, 1, 1, 1, 1, 1, 1, 1, 1, 1, 1, 1, 1, 1, 1, 1, 1, 1, 1, 1, 1, 1, 1, 1, 1, 1, 1, 1, 1, 1, 1, 1, 1, 1, 1, 1, 1, 1, 1, 1, 1, 1, 1, 1, 1, 1, 1, 1, 1, 1, 1, 1, 1, 1, 1, 1, 1, 1, 1, 1, 1, 1, 1, 1, 1, 1, 1, 1, 1, 1, 1, 1, 1, 1, 1, 1, 1, 1, 1, 1, 1, 1, 1, 1, 1, 1, 1, 1, 1, 1, 1, 1, 1, 1, 1, 1, 1, 1, 1, 1, 1, 1, 1, 1, 1, 1, 1, 1, 1, 1, 1, 1, 1, 1, 1, 1, 1, 1, 1, 1, 1, 1, 1, 1, 1, 1, 1, 1, 1, 1, 1, 1, 1, 1, 1, 1, 1, 1, 1, 1, 1, 1, 1, 1, 1, 1, 1, 1, 1, 1, 1, 1, 1, 1, 1, 1, 1, 1, 1, 1, 1, 1, 1, 1, 1, 1, 1, 1, 1, 1, 1, 1, 1, 1, 1, 1, 1, 1, 1, 1, 1, 1, 1, 1, 1, 1, 1, 1, 1, 1, 1, 1, 1, 1, 1, 1, 1, 1, 1, 1, 1, 1, 1, 1, 1, 1, 1, 1, 1, 1, 1, 1, 1, 1, 1, 1, 1, 1, 1, 1, 1, 1, 1, 1, 1, 1, 1, 1, 1, 1, 1, 1, 1, 1, 1, 1, 1, 1, 1, 1, 1, 1, 1, 1, 1, 1, 1, 1, 1, 1, 1, 1, 1, 1, 1, 1, 1, 1, 1, 1, 1, 1, 1, 1, 1, 1, 1, 1, 1, 1, 1, 1, 1, 1, 1, 1, 1, 1, 1, 1, 1, 1, 1, 1, 1, 1, 1, 1, 1, 1, 1, 1, 1, 1, 1, 1, 1, 1, 1, 1, 1, 1, 1, 1, 1, 1, 1, 1, 1, 1, 1, 1, 1, 1, 1, 1, 1, 1, 1, 1, 1, 1, 1, 1, 1, 1, 1, 1, 1, 1, 1, 1, 1, 1, 1, 1, 1, 1, 1, 1, 1, 1, 1, 1, 1, 1, 1, 1, 1, 1, 1, 1, 1, 1, 1, 1, 1, 1, 1, 1, 1, 1, 1, 1, 1, 1, 1, 1, 1, 1, 1, 1, 1, 1, 1, 1, 1, 1, 1, 1, 1, 1, 1, 1, 1, 1, 1, 1, 1, 1, 1, 1, 1, 1, 1, 1, 1, 1, 1, 1, 1, 1, 1, 1, 1, 1, 1, 1, 1, 1, 1, 1, 1, 1, 1, 1, 1, 1, 1, 1, 1, 1, 1, 1, 1, 1, 1, 1, 1, 1, 1, 1, 1, 1, 1, 1, 1, 1, 1, 1, 1, 1, 1, 1, 1, 1, 1, 1, 1, 1, 1, 1, 1, 1, 1, 1, 1, 1, 1, 1, 1, 1, 1, 1, 1, 1, 1, 1, 1, 1, 1, 1, 1, 1, 1, 1, 1, 1, 1, 1, 1, 1, 1, 1, 1, 1, 1, 1, 1, 1, 1, 1, 1, 1, 1, 1, 1, 1, 1, 1, 1, 1, 1, 1, 1, 1, 1, 1, 1, 1, 1, 1, 1, 1, 1, 1, 1, 1, 1, 1, 1, 1, 1, 1, 1, 1, 1, 1, 1, 1, 1, 1, 1, 1, 1, 1, 1, 1, 1, 1, 1, 1, 1, 1, 1, 1, 1, 1, 1, 1, 1, 1, 1, 1, 1, 1, 1, 1, 1, 1, 1, 1, 1, 1, 1, 1, 1, 1, 1, 1, 1, 1, 1, 1, 1, 1, 1, 1, 1, 1, 1, 1, 1, 1, 1, 1, 1, 1, 1, 1, 1, 1, 1, 1, 1, 1, 1, 1, 1, 1, 1, 1, 1, 1, 1, 1, 1, 1, 1, 1, 1, 1, 1, 1, 1, 1, 1, 1, 1, 1, 1, 1, 1, 1, 1, 1, 1, 1, 1, 1, 1, 1, 1, 1, 1, 1, 1, 1, 1, 1, 1, 1, 1, 1, 1, 1, 1, 1, 1, 1, 1, 1, 1, 1, 1, 1, 1, 1, 1, 1, 1, 1, 1, 1, 1, 1, 1, 1, 1, 1, 1, 1, 1, 1, 1, 1, 1, 1, 1, 1, 1, 1, 1, 1, 1, 1, 1, 1, 1, 1, 1, 1, 1, 1, 1, 1, 1, 1, 1, 1, 1, 1, 1, 1, 1, 1, 1, 1, 1, 1, 1, 1, 1, 1, 1, 1, 1, 1, 1, 1, 1, 1, 1, 1, 1, 1, 1, 1, 1, 1, 1, 1, 1, 1, 1, 1, 1, 1, 1, 1, 1, 1, 1, 1, 1, 1, 1, 1, 1, 1, 1, 1, 1, 1, 1, 1, 1, 1, 1, 1, 1, 1, 1, 1, 1, 1, 1, 1, 1, 1, 1, 1, 1, 1, 1, 1, 1, 1, 1, 1, 1, 1, 1, 1, 1, 1, 1, 1, 1, 1, 1, 1, 1, 1, 1, 1, 1, 1, 1, 1, 1, 1, 1, 1, 1, 1, 1, 1, 1, 1, 1, 1, 1, 1, 1, 1, 1, 1, 1, 1, 1, 1, 1, 1, 1, 1, 1, 1, 1, 1, 1, 1, 1, 1, 1, 1, 1, 1, 1, 1, 1, 1, 1, 1, 1, 1, 1, 1, 1, 1, 1, 1, 1, 1, 1, 1, 1, 1, 1, 1, 1, 1, 1, 1, 1, 1, 1, 1, 1, 1, 1, 1, 1, 1, 1, 1, 1, 1, 1, 1, 1, 1, 1, 1, 1, 1, 1, 1, 1, 1, 1, 1, 1, 1, 1, 1, 1, 1, 1, 1, 1, 1, 1, 1, 1, 1, 1, 1, 1, 1, 1, 1, 1, 1, 1, 1, 1, 1, 1, 1, 1, 1, 1, 1, 1, 1, 1, 1, 1, 1, 1, 1, 1, 1, 1, 1, 1, 1, 1, 1, 1, 1, 1, 1, 1, 1, 1, 1, 1, 1, 1, 1, 1, 1, 1, 1, 1, 1, 1, 1, 1, 1, 1, 1, 1, 1, 1, 1, 1, 1, 1, 1, 1, 1, 1, 1, 1, 1, 1, 1, 1, 1, 1, 1, 1, 1, 1, 1, 1, 1, 1, 1, 1, 1, 1, 1, 1, 1, 1, 1, 1, 1, 1, 1, 1, 1, 1, 1, 1, 1, 1, 1, 1, 1, 1, 1, 1, 1, 1, 1, 1, 1, 1, 1, 1, 1, 1, 1, 1, 1, 1, 1, 1, 1, 1, 1, 1, 1, 1, 1, 1, 1, 1, 1, 1, 1, 1, 1, 1, 1, 1, 1, 1, 1, 1, 1, 1, 1, 1, 1, 1, 1, 1, 1, 1, 1, 1, 1, 1, 1, 1, 1, 1, 1, 1, 1, 1, 1, 1, 1, 1, 1, 1, 1, 1, 1, 1, 1, 1, 1, 1, 1, 1, 1, 1, 1, 1, 1, 1, 1, 1, 1, 1, 1, 1, 1, 1, 1, 1, 1, 1, 1, 1, 1, 1, 1, 1, 1, 1, 1, 1, 1, 1, 1, 1, 1, 1, 1, 1, 1, 1, 1, 1, 1, 1, 1, 1, 1, 1, 1, 1, 1, 1, 1, 1, 1, 1, 1, 1, 1, 1, 1, 1, 1, 1, 1, 1, 1, 1, 1, 1, 1, 1, 1, 1, 1, 1, 1, 1, 1, 1, 1, 1, 1, 1, 1, 1, 1, 1, 1, 1, 1, 1, 1, 1, 1, 1, 1, 1, 1, 1, 1, 1, 1, 1, 1, 1, 1, 1, 1, 1, 1, 1, 1, 1, 1, 1, 1, 1, 1, 1, 1, 1, 1, 1, 1, 1, 1, 1, 1, 1, 1, 1, 1, 1, 1, 1, 1, 1, 1, 1, 1, 1, 1, 1, 1, 1, 1, 1, 1, 1, 1, 1, 1, 1, 1, 1, 1, 1, 1, 1, 1, 1, 1, 1, 1, 1, 1, 1, 1, 1, 1, 1, 1, 1, 1, 1, 1, 1, 1, 1, 1, 1, 1, 1, 1, 1, 1, 1, 1, 1, 1, 1, 1, 1, 1, 1, 1, 1, 1, 1, 1, 1, 1, 1, 1, 1, 1, 1, 1, 1, 1, 1, 1, 1, 1, 1, 1, 1, 1, 1, 1, 1, 1, 1, 1, 1, 1, 1, 1, 1, 1, 1, 1, 1, 1, 1, 1, 1, 1, 1, 1, 1, 1, 1, 1, 1, 1, 1, 1, 1, 1, 1, 1, 1, 1, 1, 1, 1, 1, 1, 1, 1, 1, 1, 1, 1, 1, 1, 1, 1, 1, 1, 1, 1, 1, 1, 1, 1, 1, 1, 1, 1, 1, 1, 1, 1, 1, 1, 1, 1, 1, 1, 1, 1, 1, 1, 1, 1, 1, 1, 1, 1, 1, 1, 1, 1, 1, 1, 1, 1, 1, 1, 1, 1, 1, 1, 1, 1, 1, 1, 1, 1, 1, 1, 1, 1, 1, 1, 1, 1, 1, 1, 1, 1, 1, 1, 1, 1, 1, 1, 1, 1, 1, 1, 1, 1, 1, 1, 1, 1, 1, 1, 1, 1, 1, 1, 1, 1, 1, 1, 1, 1, 1, 1, 1, 1, 1, 1, 1, 1, 1, 1, 1, 1, 1, 1, 1, 1, 1, 1, 1, 1, 1, 1, 1, 1, 1, 1, 1, 1, 1, 1, 1, 1, 1, 1, 1, 1, 1, 1, 1, 1, 1, 1, 1, 1, 1, 1, 1, 1, 1, 1, 1, 1, 1, 1, 1, 1, 1, 1, 1, 1, 1, 1, 1, 1, 1, 1, 1, 1, 1, 1, 1, 1, 1, 1, 1, 1, 1, 1, 1, 1, 1, 1, 1, 1, 1, 1, 1, 1, 1, 1, 1, 1, 1, 1, 1, 1, 1, 1, 1, 1, 1, 1, 1, 1, 1, 1, 1, 1, 1, 1, 1, 1, 1, 1, 1, 1, 1, 1, 1, 1, 1, 1, 1, 1, 1, 1, 1, 1, 1, 1, 1, 1, 1, 1, 1, 1, 1, 1, 1, 1, 1, 1, 1, 1, 1, 1, 1, 1, 1, 1, 1], \"coloraxis\": \"coloraxis\", \"symbol\": \"circle\"}, \"mode\": \"markers\", \"name\": \"\", \"showlegend\": false, \"type\": \"scattergl\", \"x\": [17850.0, 13047.0, 13748.0, 15100.0, 15291.0, 14688.0, 17809.0, 15311.0, 14527.0, 16098.0, 18074.0, 17420.0, 16029.0, 16250.0, 17511.0, 17548.0, 13705.0, 13747.0, 13408.0, 13767.0, 17924.0, 13448.0, 15862.0, 15513.0, 16218.0, 14045.0, 14307.0, 17908.0, 17920.0, 12838.0, 13255.0, 16583.0, 18085.0, 13758.0, 13694.0, 15983.0, 14849.0, 17968.0, 16210.0, 17897.0, 17377.0, 16552.0, 17181.0, 17951.0, 14729.0, 12748.0, 15012.0, 12868.0, 17572.0, 14078.0, 14001.0, 15525.0, 14237.0, 17905.0, 15485.0, 16955.0, 15350.0, 15605.0, 18144.0, 15922.0, 14594.0, 15165.0, 16456.0, 17841.0, 17346.0, 17643.0, 17873.0, 13093.0, 12921.0, 13468.0, 17760.0, 16928.0, 16048.0, 16274.0, 14496.0, 14696.0, 16539.0, 17025.0, 13777.0, 17690.0, 12947.0, 17460.0, 18229.0, 14142.0, 17069.0, 13065.0, 14606.0, 16835.0, 15235.0, 13576.0, 18011.0, 13090.0, 15694.0, 14741.0, 13715.0, 14092.0, 17732.0, 12855.0, 15752.0, 17855.0, 14047.0, 17925.0, 13941.0, 17017.0, 14135.0, 13108.0, 15601.0, 13418.0, 14766.0, 15658.0, 14388.0, 14901.0, 18041.0, 15955.0, 15070.0, 16244.0, 15111.0, 14390.0, 16546.0, 15260.0, 13305.0, 14491.0, 14060.0, 15923.0, 16752.0, 17287.0, 15363.0, 12915.0, 15544.0, 15738.0, 16042.0, 17381.0, 15827.0, 14180.0, 13117.0, 16916.0, 17964.0, 14466.0, 17235.0, 16510.0, 17802.0, 15107.0, 17976.0, 14449.0, 15838.0, 16781.0, 17547.0, 13491.0, 16186.0, 17685.0, 17581.0, 15732.0, 13138.0, 15823.0, 17567.0, 15061.0, 16203.0, 15640.0, 15574.0, 16770.0, 17838.0, 17228.0, 14829.0, 17412.0, 14031.0, 14775.0, 12971.0, 15834.0, 17659.0, 15299.0, 15646.0, 13958.0, 14443.0, 16995.0, 13402.0, 18168.0, 17757.0, 14625.0, 13011.0, 13798.0, 15384.0, 14264.0, 13295.0, 16754.0, 16634.0, 18239.0, 14576.0, 13145.0, 14395.0, 14865.0, 15093.0, 16150.0, 17552.0, 14236.0, 17961.0, 14573.0, 17135.0, 17396.0, 14213.0, 12967.0, 14679.0, 15240.0, 18225.0, 13370.0, 16883.0, 12841.0, 16905.0, 17967.0, 16891.0, 14589.0, 14680.0, 17884.0, 14083.0, 13013.0, 14210.0, 16477.0, 16013.0, 17949.0, 16926.0, 17787.0, 14723.0, 17954.0, 17819.0, 15373.0, 16140.0, 17198.0, 17238.0, 15769.0, 14396.0, 14898.0, 16725.0, 16455.0, 13081.0, 15545.0, 17243.0, 15465.0, 15708.0, 13089.0, 16033.0, 13838.0, 15351.0, 18055.0, 15038.0, 18109.0, 13069.0, 16241.0, 14800.0, 16839.0, 16168.0, 16931.0, 16814.0, 13269.0, 14813.0, 17062.0, 14810.0, 16353.0, 18118.0, 13831.0, 13506.0, 17796.0, 15716.0, 18156.0, 15221.0, 16983.0, 17059.0, 16327.0, 17211.0, 17026.0, 15570.0, 15880.0, 16718.0, 15808.0, 17858.0, 16393.0, 14161.0, 17863.0, 16411.0, 16402.0, 15023.0, 17402.0, 15426.0, 15894.0, 15867.0, 14506.0, 15555.0, 13034.0, 15889.0, 15953.0, 16143.0, 16422.0, 12747.0, 15502.0, 14081.0, 17965.0, 14404.0, 13579.0, 13174.0, 15987.0, 17677.0, 13652.0, 17428.0, 16161.0, 16858.0, 18219.0, 14293.0, 14748.0, 16638.0, 17674.0, 13094.0, 15899.0, 15898.0, 17691.0, 17227.0, 15039.0, 15919.0, 13497.0, 15860.0, 14189.0, 15304.0, 14867.0, 14344.0, 16719.0, 15048.0, 15301.0, 14708.0, 16898.0, 14825.0, 18113.0, 17596.0, 15078.0, 14085.0, 17860.0, 13155.0, 15028.0, 16919.0, 17259.0, 17019.0, 14487.0, 16722.0, 15882.0, 14667.0, 16710.0, 16550.0, 15984.0, 17682.0, 16658.0, 17068.0, 15356.0, 17223.0, 16817.0, 13030.0, 17191.0, 15194.0, 14409.0, 16654.0, 16861.0, 16138.0, 13481.0, 13495.0, 17519.0, 17218.0, 17812.0, 14215.0, 15602.0, 17320.0, 16782.0, 12913.0, 17869.0, 13564.0, 14850.0, 15021.0, 13963.0, 17450.0, 17091.0, 17470.0, 17616.0, 15649.0, 14907.0, 17735.0, 16059.0, 17720.0, 15018.0, 14733.0, 13756.0, 14176.0, 13319.0, 15353.0, 18119.0, 17491.0, 14282.0, 13569.0, 15498.0, 14673.0, 13488.0, 16221.0, 15002.0, 15965.0, 15024.0, 17675.0, 13769.0, 16904.0, 16086.0, 13786.0, 13880.0, 13173.0, 15858.0, 15180.0, 14739.0, 16293.0, 17419.0, 16775.0, 16306.0, 16950.0, 17591.0, 12839.0, 13807.0, 16125.0, 15081.0, 18102.0, 16365.0, 17870.0, 14821.0, 16863.0, 13078.0, 13267.0, 13050.0, 15628.0, 14796.0, 16779.0, 13599.0, 13329.0, 18077.0, 14744.0, 17406.0, 15750.0, 13983.0, 13842.0, 13199.0, 14032.0, 17706.0, 16081.0, 16525.0, 14952.0, 17975.0, 16122.0, 13126.0, 15973.0, 16558.0, 16713.0, 16893.0, 15529.0, 18043.0, 16016.0, 17722.0, 17324.0, 17341.0, 14051.0, 15916.0, 16233.0, 16385.0, 15032.0, 17213.0, 18061.0, 13113.0, 16553.0, 13455.0, 14217.0, 17262.0, 14299.0, 18259.0, 17676.0, 16679.0, 18269.0, 15298.0, 18193.0, 13523.0, 12870.0, 15005.0, 15581.0, 15680.0, 13649.0, 17894.0, 13270.0, 14618.0, 14866.0, 13077.0, 13115.0, 13531.0, 13848.0, 13140.0, 15713.0, 17999.0, 15347.0, 17340.0, 13984.0, 15996.0, 14030.0, 16252.0, 16596.0, 16700.0, 16011.0, 17655.0, 16717.0, 14243.0, 12963.0, 15079.0, 14437.0, 12942.0, 15660.0, 18092.0, 15358.0, 18071.0, 13854.0, 13369.0, 17857.0, 17411.0, 14987.0, 14355.0, 17526.0, 14896.0, 14440.0, 13240.0, 14479.0, 16065.0, 17430.0, 16520.0, 15945.0, 15181.0, 15856.0, 13102.0, 14205.0, 17702.0, 15271.0, 13982.0, 15288.0, 17978.0, 16795.0, 16519.0, 17816.0, 13021.0, 16255.0, 17671.0, 17646.0, 16350.0, 12872.0, 17339.0, 18230.0, 16499.0, 15192.0, 14441.0, 15279.0, 16579.0, 15380.0, 17442.0, 17950.0, 12826.0, 17456.0, 17307.0, 15811.0, 13327.0, 17700.0, 13136.0, 15535.0, 15329.0, 15211.0, 15596.0, 16163.0, 16907.0, 17576.0, 14713.0, 14702.0, 13230.0, 13969.0, 17530.0, 15805.0, 17696.0, 17076.0, 17827.0, 16265.0, 17880.0, 13000.0, 17790.0, 14419.0, 14082.0, 17912.0, 15723.0, 16656.0, 14037.0, 14256.0, 14543.0, 16062.0, 18116.0, 16019.0, 18178.0, 18065.0, 13148.0, 12989.0, 14107.0, 15881.0, 16727.0, 15514.0, 13787.0, 17865.0, 17220.0, 16565.0, 16873.0, 14062.0, 15179.0, 18016.0, 14448.0, 15503.0, 17251.0, 16923.0, 14159.0, 17126.0, 15224.0, 14577.0, 17236.0, 17372.0, 16367.0, 12875.0, 17917.0, 16010.0, 17085.0, 13668.0, 14684.0, 17188.0, 15547.0, 15998.0, 14413.0, 18004.0, 13959.0, 16665.0, 15454.0, 15044.0, 17937.0, 14608.0, 17618.0, 14505.0, 18037.0, 13198.0, 13225.0, 15361.0, 15689.0, 14290.0, 13209.0, 13999.0, 14498.0, 15854.0, 16701.0, 16927.0, 17990.0, 14544.0, 17338.0, 17231.0, 17799.0, 14565.0, 16726.0, 17303.0, 14639.0, 17611.0, 17179.0, 17524.0, 17293.0, 17890.0, 17375.0, 17371.0, 17969.0, 15159.0, 13211.0, 15777.0, 14525.0, 13324.0, 13802.0, 13948.0, 13008.0, 14206.0, 16202.0, 16442.0, 18075.0, 15468.0, 16570.0, 14524.0, 18141.0, 16810.0, 14961.0, 17041.0, 16458.0, 16083.0, 16262.0, 17194.0, 14057.0, 14871.0, 13178.0, 18044.0, 16812.0, 16191.0, 14298.0, 17158.0, 14415.0, 16899.0, 16531.0, 16556.0, 16805.0, 16503.0, 17739.0, 13238.0, 12829.0, 13097.0, 12867.0, 15392.0, 13846.0, 14401.0, 16145.0, 17629.0, 14150.0, 13496.0, 13611.0, 16954.0, 17454.0, 17449.0, 17230.0, 15950.0, 15512.0, 17525.0, 13458.0, 14426.0, 16003.0, 13092.0, 13426.0, 15101.0, 17033.0, 13221.0, 14201.0, 17692.0, 15822.0, 16134.0, 17551.0, 18050.0, 14913.0, 15641.0, 13124.0, 17214.0, 15456.0, 15062.0, 12928.0, 15727.0, 17980.0, 15290.0, 17752.0, 15615.0, 17044.0, 13829.0, 17633.0, 13266.0, 17820.0, 15664.0, 17189.0, 17496.0, 16607.0, 13317.0, 13890.0, 17001.0, 15246.0, 16996.0, 15482.0, 16037.0, 14841.0, 16670.0, 16985.0, 16705.0, 16470.0, 14414.0, 15563.0, 12980.0, 16746.0, 14878.0, 16743.0, 17146.0, 12877.0, 15394.0, 14621.0, 15379.0, 14309.0, 17288.0, 14709.0, 15157.0, 17744.0, 16316.0, 15620.0, 15789.0, 16560.0, 13534.0, 17580.0, 14777.0, 15759.0, 14373.0, 18176.0, 15366.0, 14735.0, 16271.0, 18223.0, 15532.0, 16816.0, 16684.0, 14334.0, 16945.0, 14643.0, 15197.0, 14220.0, 13874.0, 18260.0, 17848.0, 17392.0, 14985.0, 13004.0, 14560.0, 12931.0, 13627.0, 14769.0, 15780.0, 17315.0, 16711.0, 15204.0, 17888.0, 17007.0, 15160.0, 13033.0, 13869.0, 14146.0, 16885.0, 17913.0, 14472.0, 17358.0, 16686.0, 18245.0, 17343.0, 18256.0, 16153.0, 12944.0, 15312.0, 14099.0, 14113.0, 13104.0, 17204.0, 13027.0, 17621.0, 17090.0, 14119.0, 15527.0, 18097.0, 15460.0, 15034.0, 15208.0, 17306.0, 14737.0, 13029.0, 16270.0, 13487.0, 17400.0, 17593.0, 13953.0, 14533.0, 14944.0, 17239.0, 14532.0, 15562.0, 15587.0, 13922.0, 13165.0, 13304.0, 13313.0, 16875.0, 16282.0, 12957.0, 14462.0, 13397.0, 13680.0, 15164.0, 17457.0, 14732.0, 14221.0, 14553.0, 13253.0, 17389.0, 15841.0, 16112.0, 13629.0, 16600.0, 15661.0, 16532.0, 15266.0, 14653.0, 16771.0, 17585.0, 15046.0, 13082.0, 15464.0, 18226.0, 18062.0, 17368.0, 14258.0, 15719.0, 13368.0, 17634.0, 16676.0, 16424.0, 18283.0, 13764.0, 13656.0, 14312.0, 13280.0, 15845.0, 16094.0, 13187.0, 16567.0, 14828.0, 16551.0, 16889.0, 16473.0, 13750.0, 15607.0, 15139.0, 17707.0, 18198.0, 18179.0, 17284.0, 13233.0, 14889.0, 14672.0, 13593.0, 13162.0, 13183.0, 17095.0, 12939.0, 15611.0, 17114.0, 15059.0, 16326.0, 17128.0, 14761.0, 17555.0, 16735.0, 16833.0, 17800.0, 16748.0, 14755.0, 16549.0, 13565.0, 15799.0, 18032.0, 13451.0, 14794.0, 18171.0, 16279.0, 17811.0, 16850.0, 14321.0, 15326.0, 17849.0, 13672.0, 14229.0, 13107.0, 16497.0, 16303.0, 15281.0, 13473.0, 14320.0, 17742.0, 16351.0, 13144.0, 15346.0, 15370.0, 14295.0, 16034.0, 17365.0, 15189.0, 14669.0, 18095.0, 15518.0, 15749.0, 14209.0, 15569.0, 17569.0, 13784.0, 13862.0, 16791.0, 16235.0, 14270.0, 16655.0, 16359.0, 16554.0, 15939.0, 14587.0, 14715.0, 14185.0, 14040.0, 14514.0, 15171.0, 14167.0, 17048.0, 17364.0, 13284.0, 16500.0, 12951.0, 15835.0, 18190.0, 13993.0, 14114.0, 15447.0, 16315.0, 14978.0, 16395.0, 15510.0, 13614.0, 13246.0, 15687.0, 16493.0, 13385.0, 15626.0, 15213.0, 14175.0, 18106.0, 15033.0, 14329.0, 16401.0, 16206.0, 13782.0, 12924.0, 16593.0, 13700.0, 13064.0, 13048.0, 18069.0, 13634.0, 16843.0, 17064.0, 17609.0, 15673.0, 14976.0, 13527.0, 15696.0, 15316.0, 15296.0, 17988.0, 12820.0, 13001.0, 14101.0, 14238.0, 17730.0, 13929.0, 14657.0, 13859.0, 18212.0, 14292.0, 13883.0, 18233.0, 17018.0, 14242.0, 12346.0, 13898.0, 16948.0, 16997.0, 15395.0, 13693.0, 13263.0, 14428.0, 17708.0, 14090.0, 15606.0, 15831.0, 13310.0, 14916.0, 17602.0, 14572.0, 13502.0, 14784.0, 15938.0, 17418.0, 14779.0, 15262.0, 17862.0, 16892.0, 17771.0, 15422.0, 14770.0, 16912.0, 15174.0, 14895.0, 17504.0, 16387.0, 16618.0, 17277.0, 14088.0, 17094.0, 14692.0, 12970.0, 17889.0, 17644.0, 17714.0, 12916.0, 17769.0, 14450.0, 16085.0, 13659.0, 15167.0, 15443.0, 14224.0, 13742.0, 17673.0, 14068.0, 13068.0, 14368.0, 15497.0, 13819.0, 14501.0, 14782.0, 17861.0, 18161.0, 15820.0, 18136.0, 16660.0, 13396.0, 12935.0, 16730.0, 14541.0, 13551.0, 15797.0, 15052.0, 14130.0, 15222.0, 13615.0, 13901.0, 13158.0, 14257.0, 15218.0, 15110.0, 14534.0, 15967.0, 16757.0, 12854.0, 18008.0, 18277.0, 14389.0, 13703.0, 15339.0, 16222.0, 14341.0, 13168.0, 16943.0, 17515.0, 17082.0, 14248.0, 13002.0, 16133.0, 13049.0, 14548.0, 13405.0, 14049.0, 16043.0, 15812.0, 13837.0, 17118.0, 14616.0, 14233.0, 17075.0, 16714.0, 13098.0, 17027.0, 17786.0, 16124.0, 16409.0, 13754.0, 15227.0, 12997.0, 15215.0, 16918.0, 16882.0, 16496.0, 17311.0, 15910.0, 16949.0, 14970.0, 14701.0, 16767.0, 14738.0, 17540.0, 14239.0, 18125.0, 13328.0, 15549.0, 15864.0, 14662.0, 17180.0, 15057.0, 13330.0, 13552.0, 12853.0, 13538.0, 16755.0, 14133.0, 16523.0, 14659.0, 13141.0, 15365.0, 13707.0, 13709.0, 17329.0, 14805.0, 16897.0, 15579.0, 14595.0, 13161.0, 15415.0, 17431.0, 17463.0, 14502.0, 15448.0, 17314.0, 17373.0, 18145.0, 14467.0, 12908.0, 15144.0, 14776.0, 16403.0, 16407.0, 17619.0, 17256.0, 17604.0, 14006.0, 13600.0, 15058.0, 17147.0, 13881.0, 16612.0, 14627.0, 17356.0, 12836.0, 13939.0, 16745.0, 13606.0, 13494.0, 12929.0, 16419.0, 17035.0, 15203.0, 16515.0, 18202.0, 14549.0, 15981.0, 16110.0, 17376.0, 13110.0, 16716.0, 15940.0, 15971.0, 14665.0, 14457.0, 15589.0, 14411.0, 17560.0, 15226.0, 14460.0, 16156.0, 13728.0, 14127.0, 16378.0, 13894.0, 13824.0, 18250.0, 15270.0, 14188.0, 18017.0, 15421.0, 17446.0, 14798.0, 12990.0, 16992.0, 17337.0, 16405.0, 17071.0, 13873.0, 17362.0, 13394.0, 16333.0, 16030.0, 14044.0, 13800.0, 17672.0, 13581.0, 14540.0, 13539.0, 15885.0, 14497.0, 17507.0, 13208.0, 17334.0, 13871.0, 16938.0, 17929.0, 14778.0, 17517.0, 17226.0, 13137.0, 13725.0, 13309.0, 12842.0, 16109.0, 17291.0, 15090.0, 15199.0, 13911.0, 14194.0, 14842.0, 13584.0, 17105.0, 14438.0, 12956.0, 15781.0, 14410.0, 14600.0, 17302.0, 17613.0, 13334.0, 13955.0, 17162.0, 17774.0, 15407.0, 15577.0, 16332.0, 14048.0, 14475.0, 17859.0, 15753.0, 14562.0, 16951.0, 16998.0, 13133.0, 17881.0, 15843.0, 17083.0, 15970.0, 13590.0, 17537.0, 17843.0, 13706.0, 17940.0, 17686.0, 14431.0, 15809.0, 14465.0, 18093.0, 16027.0, 12857.0, 16425.0, 16842.0, 15796.0, 14555.0, 15114.0, 15133.0, 17705.0, 18087.0, 12897.0, 17512.0, 15550.0, 14676.0, 18159.0, 14304.0, 15638.0, 12943.0, 13875.0, 15406.0, 18084.0, 17282.0, 16434.0, 17050.0, 13171.0, 17472.0, 17255.0, 16084.0, 17667.0, 14631.0, 13381.0, 15236.0, 13475.0, 13717.0, 13157.0, 14644.0, 12993.0, 17571.0, 16979.0, 16738.0, 15122.0, 17612.0, 17348.0, 13893.0, 14035.0, 13623.0, 14346.0, 16431.0, 16317.0, 16073.0, 14477.0, 14760.0, 14897.0, 15810.0, 16509.0, 14386.0, 14530.0, 15670.0, 16126.0, 14609.0, 13414.0, 12823.0, 16494.0, 14959.0, 16148.0, 17422.0, 17175.0, 18257.0, 13018.0, 13718.0, 15382.0, 14754.0, 13151.0, 13085.0, 15903.0, 15785.0, 18138.0, 14379.0, 14211.0, 14371.0, 13425.0, 12852.0, 15228.0, 13012.0, 16182.0, 13489.0, 13904.0, 15755.0, 13932.0, 13799.0, 13951.0, 16765.0, 18172.0, 16566.0, 12891.0, 16466.0, 16115.0, 14162.0, 13301.0, 14803.0, 13744.0, 12988.0, 17323.0, 18094.0, 15129.0, 17361.0, 18155.0, 15321.0, 13477.0, 15065.0, 16980.0, 15146.0, 13410.0, 13044.0, 16441.0, 16014.0, 14520.0, 17994.0, 13038.0, 17002.0, 15722.0, 16349.0, 16913.0, 18114.0, 15303.0, 12845.0, 18188.0, 16045.0, 16573.0, 13421.0, 18196.0, 13285.0, 13184.0, 18151.0, 13804.0, 17499.0, 15397.0, 14276.0, 13453.0, 16394.0, 17711.0, 13865.0, 16940.0, 14289.0, 16208.0, 17063.0, 13149.0, 18068.0, 15932.0, 16692.0, 15590.0, 17171.0, 18231.0, 14004.0, 17139.0, 14513.0, 13118.0, 15974.0, 17830.0, 14231.0, 17867.0, 14880.0, 15121.0, 17117.0, 12945.0, 18056.0, 16072.0, 16838.0, 15543.0, 13751.0, 15847.0, 13851.0, 13345.0, 13870.0, 17034.0, 16592.0, 15712.0, 13362.0, 14470.0, 17388.0, 16841.0, 13753.0, 13666.0, 14481.0, 13792.0, 17663.0, 13973.0, 15990.0, 13684.0, 13261.0, 16598.0, 14147.0, 15951.0, 13971.0, 17516.0, 13630.0, 14157.0, 13636.0, 13610.0, 14745.0, 14036.0, 16057.0, 15724.0, 13675.0, 14227.0, 16668.0, 16667.0, 13509.0, 15874.0, 16187.0, 16339.0, 14046.0, 13292.0, 16427.0, 14056.0, 15656.0, 16518.0, 17165.0, 17462.0, 14620.0, 14740.0, 16462.0, 16078.0, 16915.0, 15676.0, 15709.0, 15241.0, 12933.0, 15092.0, 15319.0, 16212.0, 15257.0, 14656.0, 13884.0, 13166.0, 16389.0, 15416.0, 15733.0, 16678.0, 12834.0, 13722.0, 15067.0, 16128.0, 17770.0, 15622.0, 14473.0, 15104.0, 15643.0, 16792.0, 15031.0, 15636.0, 12873.0, 17923.0, 16217.0, 17738.0, 17426.0, 16957.0, 16571.0, 14483.0, 15087.0, 16709.0, 17856.0, 15053.0, 18218.0, 16159.0, 17995.0, 17374.0, 17789.0, 17416.0, 17652.0, 13476.0, 15393.0, 13014.0, 13931.0, 13382.0, 15220.0, 14570.0, 14447.0, 13557.0, 16449.0, 17325.0, 14995.0, 16414.0, 15681.0, 14670.0, 15675.0, 17535.0, 15400.0, 14903.0, 14499.0, 18211.0, 14504.0, 15572.0, 17107.0, 14247.0, 15554.0, 14915.0, 16136.0, 18280.0, 13344.0, 16621.0, 16225.0, 14214.0, 14012.0, 16356.0, 17654.0, 15026.0, 16517.0, 14817.0, 17092.0, 16242.0, 15869.0, 17817.0, 15234.0, 15764.0, 15806.0, 15819.0, 14586.0, 15944.0, 13340.0, 16917.0, 14407.0, 13908.0, 13975.0, 14730.0, 14367.0, 13373.0, 16712.0, 17639.0, 16426.0, 16495.0, 14336.0, 14507.0, 17049.0, 15206.0, 14013.0, 14645.0, 15071.0, 14112.0, 13026.0, 12881.0, 17864.0, 17138.0, 16572.0, 14165.0, 15367.0, 14291.0, 15632.0, 14297.0, 13899.0, 16471.0, 18183.0, 14603.0, 18173.0, 14854.0, 16625.0, 14064.0, 15308.0, 18086.0, 14350.0, 16080.0, 14727.0, 16778.0, 14077.0, 16808.0, 16475.0, 13265.0, 15049.0, 18149.0, 13654.0, 16652.0, 16766.0, 16801.0, 17164.0, 13226.0, 13043.0, 14352.0, 17351.0, 16768.0, 16693.0, 13956.0, 13708.0, 15918.0, 15671.0, 14962.0, 16807.0, 15125.0, 16871.0, 12901.0, 13452.0, 15493.0, 16005.0, 16804.0, 13499.0, 15047.0, 14193.0, 17542.0, 17080.0, 16392.0, 15106.0, 16214.0, 13716.0, 15150.0, 16061.0, 14226.0, 13121.0, 16297.0, 12994.0, 16152.0, 14636.0, 16040.0, 15793.0, 13358.0, 12849.0, 15182.0, 13299.0, 16383.0, 15381.0, 15030.0, 12955.0, 18189.0, 13946.0, 17716.0, 13185.0, 14840.0, 13216.0, 13650.0, 13533.0, 13268.0, 15433.0, 12937.0, 17603.0, 16216.0, 16377.0, 16976.0, 18210.0, 13631.0, 14422.0, 15648.0, 17725.0, 15861.0, 13072.0, 15695.0, 14110.0, 14059.0, 16672.0, 16511.0, 16256.0, 13591.0, 14066.0, 15483.0, 16626.0, 15019.0, 18270.0, 14315.0, 17921.0, 14041.0, 17060.0, 16023.0, 17133.0, 12878.0, 14155.0, 17043.0, 13046.0, 14633.0, 12948.0, 15703.0, 14071.0, 17134.0, 17795.0, 12902.0, 16444.0, 14232.0, 14693.0, 16728.0, 16096.0, 13985.0, 13592.0, 15140.0, 12843.0, 14408.0, 15408.0, 15445.0, 15452.0, 14223.0, 16619.0, 14762.0, 13934.0, 15669.0, 16384.0, 18224.0, 14245.0, 17678.0, 15855.0, 16036.0, 17763.0, 13262.0, 17152.0, 14632.0, 13900.0, 14875.0, 15132.0, 17272.0, 16135.0, 12831.0, 15437.0, 16809.0, 14711.0, 14377.0, 16374.0, 13196.0, 15457.0, 16721.0, 17733.0, 17102.0, 15410.0, 13239.0, 15449.0, 14870.0, 13821.0, 17096.0, 18191.0, 14461.0, 13132.0, 16859.0, 15245.0, 17486.0, 16308.0, 14607.0, 13249.0, 15644.0, 14075.0, 17250.0, 17966.0, 14129.0, 15651.0, 13035.0, 13341.0, 13512.0, 16620.0, 17698.0, 14267.0, 13736.0, 16022.0, 14235.0, 16769.0, 17754.0, 16063.0, 15178.0, 14348.0, 15815.0, 13695.0, 17979.0, 13139.0, 14758.0, 14536.0, 13662.0, 17946.0, 13743.0, 18078.0, 16780.0, 18273.0, 15045.0, 17625.0, 13357.0, 16777.0, 14476.0, 16245.0, 17765.0, 15083.0, 18010.0, 15249.0, 13760.0, 15624.0, 17749.0, 15068.0, 14538.0, 14851.0, 14021.0, 13037.0, 18177.0, 14128.0, 17874.0, 17719.0, 17931.0, 13803.0, 17398.0, 15906.0, 16253.0, 13439.0, 12888.0, 13588.0, 15521.0, 13720.0, 15674.0, 17594.0, 17775.0, 13988.0, 16657.0, 15424.0, 13316.0, 16788.0, 16584.0, 15364.0, 18108.0, 14272.0, 15980.0, 15832.0, 16092.0, 15528.0, 16398.0, 17088.0, 17438.0, 13060.0, 14790.0, 14890.0, 16386.0, 14818.0, 13571.0, 12909.0, 16698.0, 16681.0, 13573.0, 14957.0, 13918.0, 17212.0, 17781.0, 14886.0, 13626.0, 16609.0, 16180.0, 13462.0, 18263.0, 16960.0, 13841.0, 17701.0, 12949.0, 14852.0, 13169.0, 16162.0, 15691.0, 14195.0, 13781.0, 17758.0, 14023.0, 17669.0, 16142.0, 17648.0, 13059.0, 16224.0, 15223.0, 17886.0, 13294.0, 15289.0, 18185.0, 17956.0, 15756.0, 14747.0, 14719.0, 13015.0, 16586.0, 16105.0, 14546.0, 15442.0, 16906.0, 14535.0, 16170.0, 15244.0, 16696.0, 15145.0, 17492.0, 13525.0, 17409.0, 17783.0, 13863.0, 13515.0, 15917.0, 17440.0, 17045.0, 17140.0, 15201.0, 14964.0, 16031.0, 14403.0, 17042.0, 13771.0, 17906.0, 18272.0, 16144.0, 13731.0, 15530.0, 13950.0, 13752.0, 13892.0, 14446.0, 16209.0, 15754.0, 13712.0, 15800.0, 16469.0, 13005.0, 14981.0, 17928.0, 16261.0, 17883.0, 14619.0, 13995.0, 16643.0, 14246.0, 18040.0, 16837.0, 15119.0, 16325.0, 14924.0, 15109.0, 16623.0, 12999.0, 13962.0, 18036.0, 14958.0, 13562.0, 15775.0, 17054.0, 17268.0, 13548.0, 13508.0, 13570.0, 13232.0, 18129.0, 13632.0, 15665.0, 17550.0, 15655.0, 14286.0, 16188.0, 15214.0, 17574.0, 15737.0, 18080.0, 14311.0, 14339.0, 12982.0, 14273.0, 13549.0, 15414.0, 13203.0, 14628.0, 14326.0, 15935.0, 13655.0, 12910.0, 13577.0, 15251.0, 14111.0, 17160.0, 16172.0, 17972.0, 14844.0, 17278.0, 15212.0, 16729.0, 14998.0, 13484.0, 16697.0, 18236.0, 13740.0, 16454.0, 15230.0, 15134.0, 16309.0, 13544.0, 14262.0, 13134.0, 17589.0, 16097.0, 13122.0, 16966.0, 17746.0, 16175.0, 14834.0, 16348.0, 15147.0, 16131.0, 15813.0, 17058.0, 17704.0, 16933.0, 13772.0, 16249.0, 14198.0, 13989.0, 17930.0, 14154.0, 14482.0, 14163.0, 14105.0, 17601.0, 17142.0, 15135.0, 16806.0, 13952.0, 13120.0, 13516.0, 14323.0, 18079.0, 14700.0, 15027.0, 17367.0, 18213.0, 17029.0, 13220.0, 15985.0, 16193.0, 15172.0, 13692.0, 15745.0, 17582.0, 13474.0, 17697.0, 16639.0, 16947.0, 15491.0, 16617.0, 15265.0, 16226.0, 18009.0, 16399.0, 14623.0, 15625.0, 18064.0, 15508.0, 16628.0, 13647.0, 15594.0, 13479.0, 13735.0, 13376.0, 15717.0, 13719.0, 16633.0, 13101.0, 15225.0, 14152.0, 15436.0, 17217.0, 17734.0, 14905.0, 14148.0, 16103.0, 14626.0, 14868.0, 18246.0, 13485.0, 15517.0, 17115.0, 17120.0, 16611.0, 15912.0, 17588.0, 14759.0, 16185.0, 13389.0, 17631.0, 17061.0, 17718.0, 17630.0, 13223.0, 16146.0, 17109.0, 16587.0, 16750.0, 13482.0, 14512.0, 17670.0, 16834.0, 16942.0, 14640.0, 16823.0, 15237.0, 17854.0, 18220.0, 17436.0, 16965.0, 12840.0, 15891.0, 17187.0, 13637.0, 17991.0, 16418.0, 16099.0, 15768.0, 16637.0, 14240.0, 15143.0, 13229.0, 14973.0, 14271.0, 15952.0, 16227.0, 17893.0, 14022.0, 15210.0, 16370.0, 15376.0, 14655.0, 17615.0, 16055.0, 14149.0, 17501.0, 14191.0, 13282.0, 15582.0, 16230.0, 18146.0, 15976.0, 12886.0, 17974.0, 13524.0, 17955.0, 15128.0, 16610.0, 17394.0, 14173.0, 16258.0, 14948.0, 17384.0, 16990.0, 13762.0, 14340.0, 17429.0, 13711.0, 14515.0, 16457.0, 17527.0, 14199.0, 13888.0, 14423.0, 14697.0, 17522.0, 13867.0, 17624.0, 14393.0, 17578.0, 13450.0, 17423.0, 18241.0, 15668.0, 16319.0, 15757.0, 17174.0, 13365.0, 18227.0, 14145.0, 18235.0, 13741.0, 16832.0, 15258.0, 15552.0, 18170.0, 13723.0, 14005.0, 15561.0, 16121.0, 18142.0, 13642.0, 15117.0, 13561.0, 15704.0, 16007.0, 16232.0, 17410.0, 13835.0, 13427.0, 14353.0, 13003.0, 16756.0, 16440.0, 18120.0, 17723.0, 14699.0, 12821.0, 13055.0, 13320.0, 16357.0, 18242.0, 15865.0, 17597.0, 14397.0, 13242.0, 14288.0, 15063.0, 14591.0, 13990.0, 12749.0, 14691.0, 16229.0, 14920.0, 17489.0, 13404.0, 15729.0, 16644.0, 14731.0, 15187.0, 13052.0, 18133.0, 17664.0, 14649.0, 13235.0, 14883.0, 12976.0, 14681.0, 14421.0, 16116.0, 14988.0, 15489.0, 14364.0, 16006.0, 16184.0, 17932.0, 18221.0, 14853.0, 17658.0, 17764.0, 14651.0, 14000.0, 13601.0, 17970.0, 15826.0, 15907.0, 14342.0, 14873.0, 14689.0, 15440.0, 16076.0, 15333.0, 16283.0, 17263.0, 16877.0, 16642.0, 12871.0, 14038.0, 14489.0, 14888.0, 17190.0, 13456.0, 17898.0, 13976.0, 16139.0, 15730.0, 16266.0, 15123.0, 17505.0, 16446.0, 17556.0, 14583.0, 16818.0, 13572.0, 14009.0, 13258.0, 14463.0, 13192.0, 16987.0, 13417.0, 17047.0, 15116.0, 17469.0, 16647.0, 15630.0, 17245.0, 16008.0, 17871.0, 13529.0, 15599.0, 16813.0, 14859.0, 16463.0, 15791.0, 13658.0, 13887.0, 14551.0, 17166.0, 17926.0, 13391.0, 17455.0, 13308.0, 13856.0, 13243.0, 15095.0, 18048.0, 18287.0, 18150.0, 16690.0, 13555.0, 16038.0, 13972.0, 13227.0, 13657.0, 17176.0, 14837.0, 14682.0, 14921.0, 16341.0, 14647.0, 15292.0, 15705.0, 13339.0, 13885.0, 13546.0, 17715.0, 18160.0, 15434.0, 15734.0, 13737.0, 13213.0, 18018.0, 15314.0, 17521.0, 15042.0, 12863.0, 16091.0, 15804.0, 14593.0, 14287.0, 16763.0, 14705.0, 14522.0, 16448.0, 14584.0, 12974.0, 12987.0, 14816.0, 15852.0, 16624.0, 18232.0, 18073.0, 16369.0, 14280.0, 13135.0, 17345.0, 16275.0, 14338.0, 15402.0, 16323.0, 14451.0, 14823.0, 15897.0, 17051.0, 15925.0, 15863.0, 16483.0, 13398.0, 13070.0, 14819.0, 15163.0, 18204.0, 15124.0, 16969.0, 14597.0, 13917.0, 13062.0, 16484.0, 15184.0, 18135.0, 14453.0, 17900.0, 13437.0, 16529.0, 17531.0, 16239.0, 14500.0, 16117.0, 13248.0, 16967.0, 15405.0, 16659.0, 16880.0, 13435.0, 13131.0, 14891.0, 16682.0, 15453.0, 16963.0, 13682.0, 15152.0, 15462.0, 15349.0, 16849.0, 15073.0, 16298.0, 18248.0, 15386.0, 17252.0, 14542.0, 16825.0, 18072.0, 13643.0, 15969.0, 13283.0, 17015.0, 14375.0, 17124.0, 17987.0, 13395.0, 15743.0, 17414.0, 14622.0, 15609.0, 14561.0, 16872.0, 16358.0, 15238.0, 13466.0, 17360.0, 13510.0, 14241.0, 14132.0, 14963.0, 17169.0, 15252.0, 17731.0, 16113.0, 16107.0, 17483.0, 15679.0, 13686.0, 16581.0, 15267.0, 17234.0, 17797.0, 16614.0, 15411.0, 14178.0, 15098.0, 18281.0, 14984.0, 17265.0, 13617.0, 17242.0, 17289.0, 16018.0, 14704.0, 16794.0, 13761.0, 13517.0, 13936.0, 16342.0, 14177.0, 16205.0, 15036.0, 13589.0, 17579.0, 15069.0, 17349.0, 13080.0, 13663.0, 14503.0, 16774.0, 13384.0, 17101.0, 14997.0, 17155.0, 16461.0, 13343.0, 18165.0, 17536.0, 16324.0, 17651.0, 14222.0, 15585.0, 17490.0, 16739.0, 16276.0, 17193.0, 16257.0, 14285.0, 17642.0, 13826.0, 13575.0, 17157.0, 16852.0, 15219.0, 15014.0, 14765.0, 16869.0, 15909.0, 13618.0, 16050.0, 17879.0, 17562.0, 15334.0, 13568.0, 14820.0, 16744.0, 15700.0, 17299.0, 12837.0, 15076.0, 15921.0, 15747.0, 15840.0, 15016.0, 14808.0, 12904.0, 15825.0, 15389.0, 15280.0, 17159.0, 12830.0, 15507.0, 18252.0, 16526.0, 17695.0, 12930.0, 14960.0, 17960.0, 15412.0, 13763.0, 13849.0, 16114.0, 13420.0, 13780.0, 17877.0, 16247.0, 15041.0, 16287.0, 12919.0, 15130.0, 17370.0, 17709.0, 15253.0, 13300.0, 17759.0, 13937.0, 15850.0, 15186.0, 13791.0, 14795.0, 17768.0, 18112.0, 17386.0, 14104.0, 17110.0, 13895.0, 16545.0, 16671.0, 14351.0, 17391.0, 16824.0, 17750.0, 16200.0, 17997.0, 14383.0, 13461.0, 17408.0, 15537.0, 14327.0, 17837.0, 15578.0, 15584.0, 13745.0, 16498.0, 17891.0, 17123.0, 16866.0, 13730.0, 16589.0, 12922.0, 16009.0, 14053.0, 17939.0, 17312.0, 13833.0, 17899.0, 15007.0, 17464.0, 18265.0, 16344.0, 13338.0, 17024.0, 14034.0, 18203.0, 16616.0, 16338.0, 17046.0, 13109.0, 16829.0, 13217.0, 14002.0, 12977.0, 13291.0, 13583.0, 16929.0, 17892.0, 15505.0, 14459.0, 18013.0, 13681.0, 13699.0, 14493.0, 13486.0, 13302.0, 16012.0, 17031.0, 18121.0, 15901.0, 14918.0, 15920.0, 17353.0, 18024.0, 15467.0, 16174.0, 13678.0, 14690.0, 13058.0, 14552.0, 13224.0, 16989.0, 13207.0, 18122.0, 17405.0, 13311.0, 15051.0, 15895.0, 15795.0, 13669.0, 16450.0, 13667.0, 14400.0, 14847.0, 14862.0, 16488.0, 15256.0, 14716.0, 13933.0, 14857.0, 15306.0, 15839.0, 13994.0, 17554.0, 14332.0, 17266.0, 17948.0, 15004.0, 14722.0, 13507.0, 13967.0, 16054.0, 12833.0, 16474.0, 17984.0, 17448.0, 16762.0, 15369.0, 13154.0, 13940.0, 14029.0, 14117.0, 13167.0, 17779.0, 13991.0, 18101.0, 17065.0, 13827.0, 16764.0, 18180.0, 17866.0, 15802.0, 17229.0, 14456.0, 16464.0, 17962.0, 16149.0, 14259.0, 18143.0, 17935.0, 14517.0, 17694.0, 17660.0, 16041.0, 15623.0, 15829.0, 15232.0, 13079.0, 18262.0, 13563.0, 15506.0, 16305.0, 12864.0, 17724.0, 17703.0, 13116.0, 14019.0, 17649.0, 16178.0, 17040.0, 14100.0, 16557.0, 13296.0, 16364.0, 17693.0, 15372.0, 15618.0, 13930.0, 13379.0, 13194.0, 16447.0, 14305.0, 14331.0, 15261.0, 15105.0, 18268.0, 14855.0, 13925.0, 18237.0, 15639.0, 15118.0, 15746.0, 15942.0, 14143.0, 15120.0, 16147.0, 13277.0, 18127.0, 15149.0, 18081.0, 14511.0, 15776.0, 12981.0, 13106.0, 13928.0, 14885.0, 13388.0, 15438.0, 17173.0, 17941.0, 14947.0, 17053.0, 12844.0, 14567.0, 12828.0, 16984.0, 13023.0, 17553.0, 13075.0, 15342.0, 17788.0, 13850.0, 14076.0, 13805.0, 17887.0, 13186.0, 15374.0, 17656.0, 16102.0, 15089.0, 14972.0, 17514.0, 12917.0, 14768.0, 17584.0, 15254.0, 18099.0, 15205.0, 13218.0, 17267.0, 16302.0, 13513.0, 14720.0, 18282.0, 13200.0, 14079.0, 17298.0, 14024.0, 16066.0, 15198.0, 12885.0, 17331.0, 13016.0, 13500.0, 15247.0, 13355.0, 16053.0, 16292.0, 14116.0, 14495.0, 15494.0, 15608.0, 17248.0, 17653.0, 13645.0, 15469.0, 13307.0, 17122.0, 14406.0, 15683.0, 14301.0, 14658.0, 13621.0, 16272.0, 17958.0, 16836.0, 16961.0, 16902.0, 15706.0, 15315.0, 15653.0, 13159.0, 13189.0, 17637.0, 13470.0, 15786.0, 15541.0, 16734.0, 16706.0, 17070.0, 12962.0, 13273.0, 17736.0, 15472.0, 16582.0, 17747.0, 15396.0, 16828.0, 14712.0, 12991.0, 14772.0, 12968.0, 16330.0, 15701.0, 14529.0, 16536.0, 15313.0, 15801.0, 16201.0, 16555.0, 16952.0, 14387.0, 17073.0, 18147.0, 14523.0, 14418.0, 16968.0, 16723.0, 13411.0, 16340.0, 13236.0, 14196.0, 15263.0, 14314.0, 16093.0, 14687.0, 14050.0, 16429.0, 14055.0, 15663.0, 18200.0, 18167.0, 13644.0, 17451.0, 16641.0, 14141.0, 15074.0, 17183.0, 15325.0, 13778.0, 14869.0, 14096.0, 14108.0, 15866.0, 14660.0, 13726.0, 15690.0, 17777.0, 16278.0, 13276.0, 13147.0, 13045.0, 13099.0, 14420.0, 14436.0, 18027.0, 12832.0, 16674.0, 16173.0, 14171.0, 13434.0, 16761.0, 14067.0, 13808.0, 12851.0, 14965.0, 15136.0, 16629.0, 18261.0, 15307.0, 16820.0, 17309.0, 13949.0, 14360.0, 16400.0, 14208.0, 13130.0, 13210.0, 17481.0, 17573.0, 14452.0, 13889.0, 15488.0, 18222.0, 13244.0, 17004.0, 13441.0, 13823.0, 12879.0, 16603.0, 14824.0, 16910.0, 15652.0, 16362.0, 15035.0, 14508.0, 13272.0, 17317.0, 14212.0, 13372.0, 18255.0, 14250.0, 16796.0, 14432.0, 15782.0, 12883.0, 12965.0, 15533.0, 18215.0, 18158.0, 13375.0, 13431.0, 16211.0, 12884.0, 16141.0, 17919.0, 16360.0, 17433.0, 13704.0, 14020.0, 14359.0, 16451.0, 12940.0, 15216.0, 15522.0, 17037.0, 12822.0, 15343.0, 14753.0, 16959.0, 18251.0, 13032.0, 12895.0, 17640.0, 13860.0, 18001.0, 17728.0, 15933.0, 14284.0, 17347.0, 15103.0, 15707.0, 13430.0, 13321.0, 13877.0, 15272.0, 15322.0, 17333.0, 13518.0, 14306.0, 17679.0, 16160.0, 15573.0, 14894.0, 17434.0, 15466.0, 15511.0, 17846.0, 16189.0, 15417.0, 12995.0, 14557.0, 16108.0, 17144.0, 16924.0, 15099.0, 13323.0, 14124.0, 15975.0, 15523.0, 16878.0, 15947.0, 13247.0, 13566.0, 18194.0, 16689.0, 16438.0, 13067.0, 16460.0, 13325.0, 13774.0, 15504.0, 15500.0, 17557.0, 13228.0, 14356.0, 13416.0, 17628.0, 16527.0, 16428.0, 15341.0, 16215.0, 14164.0, 15888.0, 17564.0, 13356.0, 18228.0, 17415.0, 13350.0, 16627.0, 17475.0, 14951.0, 14780.0, 14887.0, 15399.0, 17466.0, 16379.0, 17172.0, 15239.0, 16213.0, 15603.0, 14261.0, 15571.0, 15484.0, 12936.0, 16236.0, 16669.0, 15398.0, 12906.0, 17079.0, 14125.0, 17163.0, 12952.0, 13279.0, 16715.0, 13519.0, 15744.0, 13127.0, 15714.0, 17480.0, 15763.0, 15075.0, 16978.0, 14014.0, 16240.0, 13336.0, 14652.0, 15807.0, 15762.0, 15475.0, 15978.0, 16485.0, 13083.0, 16169.0, 17506.0, 16480.0, 17006.0, 17498.0, 17131.0, 13536.0, 15429.0, 17154.0, 16594.0, 16049.0, 14757.0, 16198.0, 13670.0, 18066.0, 14806.0, 13429.0, 15154.0, 13390.0, 12925.0, 13927.0, 18205.0, 14908.0, 13639.0, 15958.0, 15492.0, 15243.0, 16468.0, 15344.0, 13866.0, 16999.0, 13514.0, 13314.0, 17805.0, 18278.0, 13979.0, 16181.0, 15568.0, 16354.0, 14412.0, 16119.0, 14109.0, 16157.0, 15348.0, 16281.0, 13924.0, 14434.0, 13061.0, 17513.0, 16909.0, 16650.0, 18192.0, 17447.0, 17427.0, 15175.0, 13960.0, 17528.0, 16361.0, 13886.0, 13354.0, 15050.0, 13503.0, 16653.0, 16574.0, 13759.0, 17813.0, 15949.0, 13364.0, 16268.0, 18053.0, 16101.0, 15565.0, 18217.0, 13954.0, 15593.0, 13095.0, 15287.0, 13347.0, 15185.0, 16404.0, 16613.0, 16591.0, 15774.0, 13558.0, 16930.0, 16533.0, 18059.0, 14488.0, 16747.0, 14333.0, 13635.0, 17330.0, 17321.0, 14815.0, 15091.0, 15088.0, 15930.0, 16183.0, 13297.0, 13801.0, 16881.0, 17014.0, 15255.0, 14184.0, 13351.0, 15739.0, 17957.0, 15276.0, 15127.0, 16106.0, 17666.0, 13483.0, 16478.0, 17382.0, 16020.0, 17222.0, 16803.0, 13947.0, 16758.0, 17647.0, 14054.0, 18033.0, 13845.0, 15837.0, 13177.0, 14317.0, 16295.0, 13602.0, 16895.0, 17295.0, 13504.0, 13422.0, 15264.0, 16432.0, 14518.0, 13882.0, 15937.0, 12923.0, 17453.0, 15766.0, 15300.0, 13348.0, 14592.0, 14792.0, 17030.0, 14427.0, 13359.0, 14138.0, 15297.0, 13876.0, 17086.0, 13806.0, 18096.0, 13587.0, 12856.0, 13419.0, 17509.0, 16900.0, 13689.0, 13755.0, 16104.0, 13259.0, 16248.0, 15612.0, 15787.0, 16595.0, 13260.0, 15821.0, 18088.0, 16685.0, 13193.0, 13212.0, 14801.0, 16380.0, 16921.0, 15193.0, 14027.0, 16179.0, 15473.0, 17425.0, 18169.0, 18126.0, 16688.0, 16982.0, 15330.0, 17186.0, 13685.0, 16776.0, 13980.0, 13352.0, 15553.0, 15886.0, 17203.0, 17459.0, 16561.0, 14121.0, 17119.0, 17620.0, 12824.0, 14710.0, 16120.0, 14624.0, 16171.0, 13690.0, 17934.0, 14642.0, 16753.0, 17737.0, 13464.0, 14537.0, 17279.0, 14251.0, 14234.0, 14975.0, 13853.0, 16773.0, 16430.0, 16793.0, 18130.0, 17614.0, 13858.0, 14856.0, 14089.0, 15478.0, 16413.0, 16416.0, 13006.0, 17986.0, 14910.0, 16243.0, 13878.0, 16934.0, 15994.0, 14547.0, 16052.0, 15113.0, 16542.0, 18042.0, 16563.0, 17201.0, 17520.0, 13923.0, 16412.0, 17205.0, 17534.0, 15335.0, 16737.0, 15066.0, 17206.0, 17785.0, 16932.0, 16363.0, 14830.0, 17244.0, 15355.0, 15598.0, 15637.0, 16848.0, 15678.0, 14015.0, 13594.0, 15327.0, 14861.0, 14554.0, 14179.0, 15604.0, 14381.0, 16123.0, 16851.0, 17148.0, 17549.0, 17973.0, 15610.0, 15853.0, 18019.0, 14698.0, 16826.0, 17824.0, 15803.0, 15006.0, 17350.0, 14799.0, 15814.0, 16260.0, 14638.0, 17354.0, 13245.0, 14923.0, 16177.0, 13366.0, 16284.0, 16846.0, 14484.0, 13897.0, 14585.0, 17125.0, 15836.0, 16313.0, 13460.0, 14967.0, 15286.0, 17832.0, 16015.0, 16311.0, 15728.0, 15740.0, 13974.0, 15677.0, 15000.0, 16017.0, 13471.0, 13598.0, 18005.0, 15427.0, 15022.0, 17111.0, 17836.0, 14629.0, 15592.0, 15277.0, 16491.0, 15516.0, 14764.0, 16742.0, 15142.0, 17344.0, 18240.0, 17081.0, 14474.0, 14139.0, 15844.0, 13176.0, 15345.0, 16708.0, 15963.0, 18045.0, 13182.0, 15158.0, 13028.0, 13978.0, 16056.0, 16071.0, 14539.0, 14550.0, 17712.0, 14102.0, 14598.0, 15320.0, 16415.0, 12827.0, 16345.0, 15993.0, 17895.0, 15948.0, 15659.0, 18154.0, 13363.0, 18276.0, 17684.0, 17878.0, 14752.0, 16847.0, 14971.0, 17545.0, 16026.0, 16513.0, 14357.0, 16855.0, 16680.0, 18035.0, 16648.0, 16164.0, 14218.0, 15096.0, 18030.0, 14416.0, 17839.0, 16601.0, 12912.0, 13278.0, 14582.0, 15748.0, 16079.0, 17590.0, 15054.0, 14158.0, 15385.0, 16506.0, 13822.0, 18067.0, 16190.0, 15444.0, 13607.0, 15360.0, 13103.0, 15667.0, 13651.0, 16127.0, 15977.0, 13697.0, 14345.0, 17503.0, 16830.0, 17495.0, 14485.0, 13868.0, 15423.0, 17668.0, 16971.0, 16352.0, 16884.0, 15830.0, 14216.0, 15275.0, 16790.0, 15576.0, 18105.0, 18164.0, 14974.0, 17947.0, 13318.0, 18104.0, 13271.0, 17595.0, 14528.0, 17432.0, 16337.0, 14098.0, 15551.0, 16347.0, 13721.0, 16322.0, 17403.0, 16914.0, 16602.0, 13914.0, 13467.0, 17221.0, 17078.0, 13447.0, 15010.0, 18022.0, 16318.0, 17274.0, 15597.0, 17233.0, 16887.0, 13938.0, 17084.0, 14882.0, 15017.0, 12882.0, 17387.0, 13727.0, 13532.0, 16445.0, 15156.0, 16372.0, 17608.0, 14174.0, 14039.0, 13040.0, 15883.0, 14664.0, 15526.0, 17831.0, 15025.0, 17761.0, 15870.0, 14080.0, 17623.0, 13673.0, 14073.0, 16070.0, 13066.0, 14929.0, 13710.0, 16732.0, 14140.0, 17219.0, 16505.0, 15957.0, 18123.0, 15043.0, 17313.0, 18216.0, 17022.0, 15153.0, 16759.0, 16751.0, 12893.0, 14836.0, 17011.0, 17038.0, 14968.0, 16516.0, 13522.0, 15986.0, 13992.0, 14354.0, 16986.0, 16953.0, 18274.0, 15450.0, 15531.0, 17500.0, 17197.0, 16025.0, 17461.0, 17791.0, 15463.0, 17977.0, 14863.0, 16903.0, 17502.0, 17901.0, 14789.0, 18209.0, 12985.0, 15557.0, 16433.0, 15692.0, 17052.0, 16368.0, 18014.0, 13732.0, 13091.0, 14661.0, 13170.0, 15654.0, 13146.0, 14788.0, 13603.0, 14382.0, 16720.0, 14904.0, 14494.0, 14902.0, 16936.0, 12938.0, 15168.0, 17538.0, 18082.0, 18117.0, 15458.0, 17566.0, 16207.0, 17793.0, 14953.0, 16504.0, 15009.0, 16423.0, 15419.0, 17510.0, 15758.0, 15524.0, 14725.0, 14666.0, 14714.0, 17153.0, 12950.0, 15720.0, 18181.0, 15556.0, 17357.0, 12890.0, 13449.0, 15269.0, 14385.0, 15900.0, 17680.0, 13926.0, 16204.0, 17896.0, 17835.0, 15432.0, 18006.0, 15657.0, 17237.0, 13160.0, 12847.0, 17397.0, 17985.0, 14362.0, 13828.0, 15435.0, 14641.0, 15621.0, 18034.0, 17286.0, 17904.0, 17301.0, 15368.0, 14793.0, 17650.0, 14881.0, 16784.0, 14052.0, 18110.0, 17561.0, 15988.0, 17523.0, 14950.0, 16666.0, 14860.0, 17636.0, 13832.0, 13142.0, 16366.0, 14300.0, 15567.0, 15645.0, 16406.0, 15857.0, 12984.0, 17253.0, 13739.0, 18139.0, 15274.0, 17010.0, 15115.0, 17100.0, 15699.0, 13403.0, 16956.0, 17600.0, 15877.0, 14424.0, 13322.0, 17297.0, 13986.0, 12920.0, 18249.0, 15634.0, 16376.0, 16811.0, 14581.0, 14675.0, 17290.0, 16343.0, 13638.0, 16482.0, 17458.0, 14785.0, 17254.0, 17767.0, 15725.0, 17247.0, 18184.0, 15428.0, 17727.0, 14756.0, 16856.0, 14703.0, 17385.0, 15872.0, 14966.0, 17232.0, 17468.0, 13332.0, 14946.0, 13256.0, 13596.0, 16024.0, 14954.0, 17885.0, 14093.0, 14893.0, 15721.0, 17852.0, 13844.0, 15540.0, 17379.0, 16800.0, 17806.0, 17359.0, 13188.0, 14480.0, 13349.0, 15619.0, 15148.0, 14601.0, 15783.0, 17772.0, 14126.0, 16479.0, 13428.0, 15790.0, 13521.0, 14349.0, 18058.0, 12953.0, 12966.0, 15060.0, 17911.0, 14804.0, 15904.0, 16789.0, 17942.0, 13560.0, 15539.0, 13017.0, 18174.0, 13153.0, 15773.0, 17936.0, 16535.0, 16988.0, 15097.0, 18015.0, 16597.0, 13790.0, 14219.0, 17383.0, 15992.0, 15318.0, 17914.0, 16528.0, 16569.0, 14578.0, 16000.0, 15195.0, 14087.0, 14204.0, 15471.0, 13436.0, 15520.0, 13298.0, 14569.0], \"xaxis\": \"x\", \"y\": [301, 31, 95, 329, 25, 7, 15, 0, 2, 87, 373, 49, 38, 260, 2, 217, 7, 373, 1, 1, 0, 16, 7, 30, 29, 108, 88, 373, 3, 33, 3, 373, 329, 11, 3, 21, 21, 373, 1, 172, 23, 242, 56, 39, 373, 0, 53, 185, 70, 101, 45, 1, 372, 70, 29, 184, 372, 35, 7, 371, 6, 372, 98, 1, 3, 372, 79, 266, 3, 1, 21, 79, 85, 372, 311, 3, 2, 60, 0, 29, 143, 78, 11, 372, 27, 372, 0, 127, 217, 9, 372, 8, 0, 11, 280, 7, 372, 372, 39, 372, 8, 372, 21, 2, 1, 372, 10, 11, 7, 189, 8, 10, 11, 23, 372, 211, 28, 9, 290, 99, 3, 174, 4, 372, 372, 25, 240, 148, 8, 18, 21, 8, 72, 10, 21, 23, 31, 28, 24, 371, 81, 310, 371, 18, 10, 364, 371, 51, 22, 16, 0, 211, 21, 336, 6, 3, 58, 3, 177, 57, 26, 15, 28, 2, 6, 57, 3, 69, 3, 66, 157, 371, 53, 371, 126, 175, 0, 184, 371, 0, 169, 154, 359, 371, 222, 218, 371, 39, 1, 6, 17, 38, 42, 80, 20, 179, 15, 38, 371, 2, 371, 44, 2, 365, 186, 4, 4, 371, 1, 371, 24, 3, 3, 0, 90, 63, 3, 0, 370, 152, 9, 4, 71, 7, 52, 23, 2, 6, 64, 22, 301, 63, 0, 53, 0, 19, 40, 2, 5, 5, 11, 6, 42, 1, 0, 9, 47, 8, 10, 4, 13, 0, 369, 313, 40, 3, 10, 15, 311, 39, 145, 12, 365, 12, 29, 13, 26, 184, 6, 368, 368, 305, 5, 1, 215, 58, 18, 264, 2, 4, 18, 252, 4, 16, 11, 54, 156, 14, 2, 16, 1, 15, 266, 37, 33, 14, 15, 11, 1, 45, 0, 1, 365, 2, 2, 28, 22, 73, 20, 368, 0, 357, 18, 9, 19, 282, 40, 1, 60, 185, 126, 14, 64, 50, 2, 25, 3, 368, 22, 6, 1, 368, 32, 7, 155, 147, 10, 26, 16, 198, 10, 18, 108, 2, 9, 367, 11, 30, 309, 2, 10, 27, 2, 70, 140, 59, 367, 45, 7, 16, 3, 12, 11, 7, 99, 9, 4, 106, 143, 311, 8, 307, 7, 2, 44, 173, 335, 2, 1, 65, 25, 38, 8, 1, 296, 4, 254, 367, 0, 2, 16, 0, 2, 16, 36, 115, 16, 9, 0, 1, 3, 58, 366, 20, 3, 15, 366, 1, 8, 10, 9, 213, 56, 72, 2, 366, 366, 21, 0, 17, 1, 366, 28, 0, 2, 8, 4, 0, 1, 0, 31, 7, 15, 329, 2, 29, 58, 3, 1, 3, 55, 1, 45, 14, 72, 4, 235, 0, 18, 366, 22, 24, 2, 95, 17, 156, 0, 15, 70, 59, 255, 39, 21, 0, 162, 24, 1, 51, 7, 24, 3, 365, 357, 1, 150, 32, 365, 15, 120, 8, 256, 71, 365, 8, 10, 0, 8, 204, 91, 107, 142, 36, 365, 8, 26, 87, 17, 365, 15, 8, 7, 10, 8, 8, 7, 212, 142, 130, 24, 1, 4, 257, 8, 353, 2, 11, 15, 365, 0, 204, 7, 95, 253, 364, 32, 185, 364, 65, 3, 0, 10, 29, 6, 38, 42, 364, 364, 24, 36, 3, 16, 15, 218, 20, 326, 93, 8, 359, 119, 0, 354, 364, 8, 28, 71, 2, 364, 364, 16, 38, 16, 49, 172, 34, 59, 100, 224, 28, 7, 8, 0, 3, 6, 0, 22, 37, 35, 4, 8, 364, 106, 26, 10, 364, 309, 364, 21, 175, 253, 3, 9, 67, 1, 113, 5, 28, 2, 51, 311, 363, 11, 75, 30, 23, 363, 4, 9, 17, 31, 8, 362, 362, 11, 19, 151, 357, 12, 12, 40, 36, 142, 44, 245, 122, 2, 25, 10, 6, 36, 361, 361, 78, 361, 361, 18, 8, 3, 5, 16, 153, 9, 2, 361, 119, 10, 29, 9, 42, 3, 8, 115, 236, 23, 16, 11, 21, 95, 25, 360, 51, 3, 177, 360, 7, 322, 189, 16, 165, 1, 9, 240, 8, 31, 137, 360, 322, 238, 360, 1, 22, 34, 8, 31, 360, 191, 10, 26, 2, 100, 360, 273, 23, 2, 25, 3, 360, 2, 2, 31, 0, 7, 21, 66, 173, 106, 11, 10, 321, 32, 25, 4, 24, 3, 8, 5, 35, 10, 88, 0, 191, 1, 263, 1, 155, 359, 6, 18, 29, 70, 0, 8, 85, 239, 59, 126, 2, 21, 358, 358, 35, 104, 89, 59, 282, 70, 34, 16, 165, 4, 358, 9, 8, 358, 30, 10, 190, 50, 105, 358, 17, 63, 0, 0, 237, 29, 15, 269, 52, 16, 16, 0, 51, 91, 8, 155, 4, 12, 28, 105, 3, 9, 0, 168, 7, 8, 14, 3, 3, 63, 49, 357, 20, 1, 252, 3, 217, 357, 353, 74, 3, 2, 1, 24, 102, 3, 16, 21, 169, 8, 246, 357, 172, 80, 306, 197, 11, 6, 21, 58, 2, 183, 0, 2, 356, 18, 50, 356, 356, 122, 8, 14, 58, 103, 302, 46, 6, 354, 354, 49, 35, 74, 15, 3, 2, 168, 113, 20, 3, 353, 18, 7, 353, 15, 0, 10, 3, 30, 352, 57, 125, 3, 6, 24, 29, 312, 235, 351, 49, 351, 45, 350, 21, 63, 339, 3, 63, 72, 0, 68, 126, 7, 41, 18, 156, 0, 63, 142, 22, 3, 316, 17, 337, 0, 32, 108, 8, 125, 337, 38, 172, 22, 8, 32, 256, 35, 33, 190, 3, 70, 164, 46, 121, 17, 11, 336, 193, 196, 95, 194, 164, 53, 336, 239, 184, 3, 8, 59, 73, 335, 234, 107, 121, 7, 21, 63, 9, 5, 40, 5, 334, 58, 19, 78, 0, 36, 17, 9, 9, 18, 75, 333, 25, 2, 58, 20, 3, 333, 10, 333, 217, 300, 51, 43, 49, 25, 58, 60, 206, 112, 332, 332, 332, 40, 39, 195, 12, 0, 241, 311, 63, 234, 10, 103, 331, 9, 17, 28, 40, 331, 17, 6, 2, 89, 18, 24, 330, 40, 60, 324, 38, 114, 0, 322, 4, 8, 43, 191, 31, 273, 330, 330, 71, 59, 330, 23, 17, 8, 72, 329, 74, 318, 50, 329, 4, 8, 0, 54, 12, 87, 50, 25, 12, 13, 25, 32, 42, 58, 40, 87, 56, 33, 32, 326, 43, 11, 2, 3, 73, 325, 2, 168, 17, 325, 325, 7, 0, 325, 40, 234, 325, 325, 138, 287, 325, 324, 0, 6, 187, 324, 56, 57, 8, 70, 1, 2, 16, 25, 111, 41, 280, 323, 323, 0, 56, 322, 231, 22, 322, 7, 205, 322, 30, 227, 9, 317, 136, 6, 211, 0, 320, 138, 12, 180, 22, 196, 320, 1, 109, 16, 0, 319, 9, 319, 17, 301, 63, 319, 2, 9, 319, 62, 15, 21, 1, 51, 58, 318, 112, 318, 318, 318, 312, 71, 94, 50, 10, 23, 2, 22, 318, 78, 69, 57, 8, 317, 65, 317, 44, 35, 211, 30, 32, 317, 317, 3, 63, 150, 73, 16, 36, 106, 211, 317, 242, 43, 17, 218, 0, 78, 84, 315, 35, 151, 36, 21, 44, 48, 66, 8, 77, 0, 3, 67, 10, 30, 38, 8, 42, 29, 315, 76, 21, 28, 55, 274, 92, 65, 107, 42, 113, 129, 1, 8, 84, 25, 266, 3, 13, 14, 298, 68, 19, 312, 312, 312, 15, 19, 312, 24, 39, 12, 17, 58, 7, 50, 301, 12, 311, 106, 216, 115, 311, 24, 22, 2, 32, 311, 311, 58, 22, 86, 28, 311, 121, 112, 245, 25, 51, 199, 310, 24, 44, 70, 30, 266, 310, 16, 60, 310, 252, 310, 94, 310, 109, 8, 36, 122, 246, 21, 32, 300, 15, 8, 80, 58, 176, 52, 30, 10, 150, 301, 8, 119, 238, 1, 7, 309, 26, 309, 43, 308, 9, 85, 92, 300, 261, 58, 300, 22, 8, 10, 126, 308, 308, 10, 49, 6, 69, 218, 307, 307, 58, 56, 4, 34, 306, 158, 305, 305, 24, 15, 305, 14, 22, 81, 153, 28, 96, 33, 150, 27, 276, 71, 304, 304, 3, 122, 149, 273, 303, 303, 108, 303, 10, 29, 302, 302, 48, 6, 298, 35, 246, 92, 91, 210, 301, 63, 0, 56, 29, 127, 2, 97, 204, 28, 3, 30, 300, 222, 300, 300, 53, 17, 15, 129, 28, 95, 7, 190, 40, 298, 65, 50, 20, 298, 190, 31, 48, 8, 22, 49, 3, 297, 84, 52, 14, 297, 28, 30, 120, 212, 119, 291, 19, 293, 7, 78, 296, 296, 25, 296, 28, 71, 133, 74, 296, 58, 295, 15, 43, 38, 15, 245, 14, 44, 202, 157, 9, 29, 294, 43, 52, 294, 107, 289, 65, 8, 71, 104, 36, 0, 294, 116, 175, 293, 14, 14, 185, 33, 9, 173, 103, 161, 94, 291, 14, 81, 49, 48, 74, 48, 37, 37, 254, 164, 8, 290, 66, 35, 1, 121, 79, 72, 35, 290, 289, 289, 289, 266, 14, 119, 73, 39, 94, 22, 14, 134, 30, 289, 289, 87, 165, 49, 10, 57, 51, 8, 44, 8, 13, 288, 3, 255, 288, 288, 191, 42, 15, 100, 19, 38, 1, 178, 29, 76, 49, 287, 287, 287, 287, 196, 287, 287, 37, 95, 276, 1, 15, 3, 8, 2, 11, 77, 36, 287, 59, 164, 65, 25, 286, 43, 285, 268, 276, 48, 0, 8, 14, 4, 19, 36, 11, 112, 284, 3, 200, 150, 25, 14, 67, 8, 62, 31, 283, 283, 38, 262, 0, 44, 60, 283, 50, 203, 190, 63, 283, 8, 8, 283, 66, 23, 214, 283, 18, 280, 168, 6, 281, 52, 64, 282, 2, 282, 119, 77, 17, 198, 2, 73, 166, 178, 281, 3, 89, 281, 281, 234, 18, 3, 238, 2, 149, 281, 84, 1, 4, 205, 281, 281, 218, 280, 29, 24, 178, 15, 2, 85, 280, 51, 280, 18, 27, 190, 279, 38, 21, 17, 279, 80, 279, 91, 20, 25, 25, 46, 4, 32, 277, 277, 85, 59, 277, 67, 51, 44, 30, 277, 197, 276, 79, 276, 199, 49, 7, 276, 3, 276, 80, 45, 48, 226, 276, 44, 276, 106, 79, 30, 0, 7, 60, 8, 275, 1, 2, 16, 23, 2, 9, 109, 156, 93, 22, 0, 275, 12, 275, 126, 275, 56, 1, 15, 17, 15, 274, 217, 274, 86, 77, 273, 28, 270, 273, 270, 81, 273, 73, 40, 98, 87, 52, 273, 50, 42, 53, 272, 162, 32, 272, 253, 156, 35, 47, 68, 4, 270, 190, 18, 270, 142, 24, 21, 8, 258, 32, 11, 22, 17, 269, 67, 269, 21, 269, 17, 170, 268, 16, 268, 28, 268, 212, 3, 268, 35, 64, 8, 268, 30, 153, 267, 74, 213, 71, 0, 77, 78, 22, 267, 267, 267, 16, 182, 17, 78, 14, 49, 266, 266, 266, 1, 99, 0, 203, 15, 11, 266, 266, 3, 266, 1, 21, 257, 64, 266, 160, 0, 266, 37, 20, 63, 265, 265, 45, 15, 17, 265, 31, 30, 265, 15, 264, 3, 106, 179, 264, 45, 31, 263, 45, 263, 3, 35, 51, 65, 10, 263, 263, 29, 91, 253, 263, 263, 39, 89, 263, 175, 263, 136, 86, 262, 262, 194, 262, 182, 8, 17, 41, 262, 261, 261, 22, 9, 190, 65, 10, 261, 261, 38, 261, 83, 261, 25, 261, 144, 8, 261, 147, 261, 105, 133, 260, 37, 15, 91, 165, 4, 3, 37, 1, 36, 57, 260, 260, 3, 260, 150, 4, 259, 9, 259, 0, 259, 259, 259, 63, 30, 35, 15, 144, 259, 85, 232, 2, 216, 99, 1, 151, 17, 256, 79, 256, 23, 158, 256, 256, 31, 53, 116, 177, 45, 64, 22, 154, 137, 30, 60, 184, 37, 133, 254, 114, 19, 31, 254, 213, 15, 35, 116, 72, 84, 254, 19, 9, 253, 36, 122, 79, 95, 248, 73, 88, 253, 98, 253, 144, 27, 246, 253, 16, 253, 28, 73, 12, 39, 226, 72, 49, 252, 49, 252, 158, 252, 252, 14, 99, 182, 22, 38, 252, 252, 30, 57, 63, 251, 251, 201, 250, 18, 6, 42, 249, 60, 249, 56, 225, 31, 189, 28, 248, 248, 60, 247, 1, 52, 248, 248, 3, 248, 81, 58, 50, 64, 134, 3, 247, 14, 184, 71, 244, 72, 247, 147, 112, 246, 78, 246, 91, 129, 2, 63, 246, 2, 246, 218, 21, 10, 123, 26, 0, 88, 50, 246, 106, 23, 173, 245, 44, 16, 2, 238, 14, 245, 110, 18, 30, 245, 43, 245, 240, 245, 195, 21, 31, 146, 81, 244, 27, 107, 95, 243, 242, 12, 242, 24, 167, 196, 232, 23, 44, 1, 242, 14, 18, 224, 234, 239, 50, 25, 9, 9, 90, 234, 238, 113, 22, 24, 8, 13, 30, 94, 241, 63, 240, 238, 35, 169, 240, 240, 29, 240, 44, 238, 14, 91, 39, 7, 72, 59, 239, 93, 7, 234, 93, 17, 31, 218, 51, 207, 81, 168, 0, 33, 52, 3, 65, 35, 238, 17, 86, 84, 238, 238, 232, 102, 210, 238, 20, 114, 44, 31, 30, 237, 236, 110, 77, 122, 236, 8, 24, 8, 235, 235, 235, 24, 235, 94, 235, 150, 202, 234, 18, 31, 99, 132, 188, 29, 9, 15, 197, 24, 98, 233, 14, 16, 233, 233, 74, 11, 233, 53, 153, 233, 6, 8, 2, 23, 232, 232, 7, 232, 185, 177, 99, 4, 16, 10, 1, 73, 231, 169, 199, 156, 28, 231, 44, 231, 187, 227, 227, 12, 15, 226, 1, 184, 219, 1, 226, 143, 226, 226, 51, 224, 44, 49, 115, 31, 29, 225, 225, 106, 225, 33, 218, 224, 224, 224, 81, 39, 3, 129, 220, 212, 220, 1, 17, 24, 189, 140, 164, 67, 24, 40, 198, 59, 218, 218, 10, 44, 22, 18, 218, 203, 218, 120, 218, 17, 217, 53, 217, 119, 217, 217, 1, 30, 14, 217, 190, 26, 44, 9, 217, 217, 65, 217, 8, 217, 46, 71, 71, 183, 168, 216, 32, 216, 9, 11, 56, 150, 215, 14, 215, 139, 47, 32, 15, 24, 18, 214, 105, 214, 7, 213, 126, 213, 213, 63, 69, 32, 71, 40, 213, 0, 111, 211, 212, 14, 212, 3, 30, 86, 212, 58, 0, 197, 177, 46, 1, 211, 210, 18, 4, 211, 18, 211, 70, 56, 205, 211, 22, 108, 210, 63, 28, 21, 8, 10, 50, 66, 205, 44, 210, 50, 3, 20, 209, 208, 54, 2, 207, 5, 207, 11, 4, 83, 77, 206, 206, 58, 17, 84, 206, 18, 65, 73, 6, 160, 0, 205, 5, 10, 205, 197, 11, 97, 94, 2, 4, 84, 17, 15, 169, 44, 204, 23, 204, 78, 26, 7, 12, 20, 43, 9, 203, 17, 38, 132, 203, 203, 22, 168, 202, 103, 202, 42, 31, 43, 73, 7, 70, 201, 10, 201, 89, 187, 29, 24, 200, 200, 200, 200, 188, 11, 200, 56, 7, 114, 199, 56, 107, 198, 23, 198, 51, 154, 0, 21, 7, 184, 198, 23, 197, 168, 197, 73, 196, 186, 80, 81, 113, 17, 196, 196, 14, 196, 157, 148, 195, 59, 179, 193, 193, 193, 25, 191, 191, 191, 63, 17, 70, 22, 38, 10, 49, 190, 173, 28, 28, 189, 164, 13, 189, 120, 56, 87, 189, 124, 188, 188, 188, 30, 4, 22, 147, 4, 1, 186, 186, 9, 93, 157, 186, 9, 22, 113, 185, 116, 185, 38, 154, 30, 2, 59, 28, 184, 184, 184, 184, 15, 43, 184, 182, 75, 76, 0, 28, 99, 16, 0, 183, 1, 9, 49, 35, 78, 182, 17, 64, 23, 182, 154, 21, 182, 21, 182, 25, 8, 181, 180, 18, 138, 39, 107, 31, 38, 10, 0, 49, 59, 170, 74, 84, 30, 71, 14, 4, 178, 178, 178, 178, 2, 67, 30, 9, 45, 17, 177, 172, 176, 176, 127, 11, 176, 176, 0, 171, 176, 35, 176, 20, 119, 157, 22, 7, 9, 175, 42, 28, 22, 173, 173, 173, 173, 13, 156, 172, 20, 10, 171, 11, 172, 172, 172, 12, 58, 172, 39, 17, 171, 171, 171, 21, 37, 171, 50, 171, 131, 77, 7, 170, 170, 62, 51, 170, 134, 6, 169, 169, 169, 169, 7, 169, 72, 169, 15, 164, 16, 168, 18, 13, 42, 165, 7, 11, 7, 153, 164, 20, 164, 27, 164, 163, 15, 4, 3, 73, 37, 38, 162, 162, 162, 41, 161, 23, 150, 160, 161, 161, 140, 135, 70, 160, 21, 123, 159, 138, 158, 158, 158, 157, 71, 157, 153, 44, 21, 156, 14, 156, 156, 2, 156, 121, 133, 155, 155, 155, 3, 55, 52, 154, 154, 17, 154, 6, 77, 154, 34, 11, 148, 16, 115, 153, 128, 152, 8, 125, 151, 43, 24, 151, 59, 6, 14, 7, 0, 3, 22, 149, 149, 50, 149, 148, 140, 148, 25, 32, 148, 42, 108, 59, 63, 24, 3, 0, 22, 1, 146, 146, 146, 2, 145, 144, 144, 6, 144, 144, 19, 143, 143, 16, 62, 143, 18, 20, 11, 10, 142, 57, 3, 4, 142, 142, 95, 4, 19, 141, 4, 141, 116, 137, 32, 141, 140, 30, 140, 98, 112, 3, 139, 83, 22, 138, 137, 57, 34, 116, 46, 134, 137, 137, 137, 23, 136, 11, 135, 136, 32, 57, 25, 135, 135, 70, 123, 134, 17, 133, 118, 35, 2, 133, 133, 133, 133, 133, 129, 133, 15, 18, 133, 35, 10, 132, 29, 128, 10, 131, 120, 130, 4, 130, 71, 128, 28, 34, 2, 77, 63, 129, 129, 115, 73, 87, 128, 51, 128, 39, 128, 72, 41, 9, 127, 127, 127, 16, 6, 126, 126, 84, 126, 126, 107, 126, 5, 7, 18, 124, 100, 121, 16, 91, 62, 123, 72, 22, 121, 121, 32, 116, 19, 50, 20, 27, 119, 28, 119, 42, 119, 118, 118, 116, 107, 4, 116, 116, 116, 39, 115, 115, 59, 63, 92, 8, 18, 30, 98, 43, 113, 51, 36, 113, 6, 112, 8, 112, 112, 99, 112, 92, 28, 22, 111, 111, 17, 1, 59, 106, 109, 45, 2, 34, 108, 32, 17, 45, 107, 3, 3, 90, 106, 106, 23, 106, 106, 106, 106, 106, 31, 105, 105, 105, 105, 3, 8, 0, 105, 2, 104, 7, 103, 102, 3, 3, 30, 100, 86, 38, 3, 24, 22, 63, 9, 98, 98, 84, 98, 98, 31, 54, 15, 97, 73, 96, 63, 5, 96, 95, 2, 73, 42, 95, 95, 94, 2, 31, 94, 94, 93, 93, 3, 28, 10, 92, 92, 92, 92, 45, 91, 18, 44, 74, 9, 3, 90, 31, 89, 21, 30, 45, 89, 89, 88, 6, 88, 9, 9, 24, 88, 18, 88, 8, 80, 66, 80, 87, 87, 87, 4, 87, 4, 16, 18, 87, 45, 87, 32, 77, 70, 86, 86, 86, 86, 38, 41, 86, 0, 11, 3, 20, 30, 85, 30, 34, 18, 71, 85, 56, 63, 85, 85, 50, 52, 63, 31, 84, 1, 84, 11, 84, 15, 84, 77, 63, 84, 0, 20, 83, 2, 83, 83, 83, 24, 82, 17, 40, 63, 75, 5, 81, 27, 81, 81, 80, 7, 13, 80, 59, 43, 80, 80, 80, 80, 80, 70, 79, 23, 79, 49, 78, 15, 78, 78, 78, 54, 78, 0, 9, 3, 74, 9, 78, 78, 50, 11, 0, 16, 77, 23, 15, 11, 77, 10, 21, 5, 63, 77, 49, 77, 77, 11, 73, 31, 77, 76, 76, 7, 76, 76, 49, 64, 76, 76, 76, 3, 7, 69, 75, 4, 75, 4, 0, 26, 74, 74, 39, 74, 74, 74, 74, 74, 10, 73, 74, 4, 74, 35, 73, 73, 73, 27, 73, 73, 0, 73, 22, 73, 1, 73, 73, 72, 72, 2, 62, 34, 7, 22, 15, 71, 71, 1, 21, 71, 71, 63, 71, 71, 39, 71, 71, 20, 0, 9, 70, 70, 24, 70, 15, 70, 32, 13, 16, 66, 70, 65, 8, 49, 28, 0, 70, 70, 21, 69, 69, 69, 69, 68, 68, 5, 25, 18, 8, 50, 24, 63, 67, 22, 7, 36, 53, 20, 66, 66, 7, 66, 66, 7, 66, 66, 65, 65, 65, 65, 65, 65, 3, 65, 24, 64, 16, 64, 64, 64, 64, 64, 64, 64, 64, 64, 64, 64, 9, 64, 64, 28, 63, 50, 63, 63, 63, 2, 63, 63, 17, 63, 63, 63, 34, 63, 63, 49, 58, 1, 9, 63, 6, 63, 11, 31, 7, 63, 57, 11, 62, 3, 61, 61, 61, 35, 25, 60, 60, 43, 60, 60, 60, 8, 60, 60, 60, 60, 60, 60, 13, 18, 60, 60, 0, 60, 31, 46, 2, 59, 59, 7, 59, 59, 35, 42, 5, 3, 2, 59, 59, 13, 58, 56, 58, 58, 51, 58, 57, 8, 57, 57, 57, 1, 21, 56, 8, 56, 56, 56, 8, 56, 56, 35, 56, 39, 56, 25, 55, 55, 2, 33, 54, 54, 54, 3, 53, 9, 53, 53, 53, 53, 53, 53, 53, 53, 53, 52, 52, 31, 52, 52, 52, 52, 52, 52, 28, 34, 52, 52, 52, 52, 52, 52, 51, 9, 40, 51, 51, 51, 3, 51, 23, 51, 51, 51, 51, 1, 50, 50, 50, 50, 7, 50, 2, 50, 50, 50, 50, 50, 49, 49, 30, 49, 49, 49, 49, 49, 44, 2, 28, 49, 49, 49, 3, 17, 48, 48, 48, 48, 47, 46, 0, 46, 3, 32, 11, 46, 46, 3, 46, 46, 46, 44, 43, 46, 45, 45, 45, 24, 42, 45, 45, 45, 34, 45, 19, 44, 44, 44, 22, 14, 44, 44, 15, 10, 44, 4, 43, 43, 43, 5, 43, 8, 43, 7, 43, 2, 17, 20, 43, 43, 43, 42, 34, 42, 42, 4, 42, 23, 42, 35, 38, 16, 42, 42, 3, 21, 41, 40, 2, 40, 40, 39, 16, 1, 11, 39, 39, 19, 5, 39, 39, 8, 39, 39, 39, 39, 34, 38, 16, 38, 38, 2, 38, 7, 38, 6, 37, 0, 2, 17, 37, 28, 2, 30, 3, 37, 37, 30, 36, 36, 0, 36, 36, 11, 36, 17, 36, 36, 36, 10, 35, 0, 35, 35, 30, 3, 10, 6, 35, 22, 35, 35, 34, 34, 29, 34, 34, 34, 34, 26, 33, 8, 19, 28, 33, 33, 0, 32, 32, 32, 32, 8, 1, 19, 32, 32, 32, 32, 32, 32, 32, 18, 20, 21, 23, 31, 31, 31, 3, 31, 31, 31, 23, 30, 17, 30, 30, 30, 7, 30, 30, 9, 29, 29, 29, 29, 29, 29, 29, 5, 29, 29, 17, 29, 7, 16, 29, 29, 22, 29, 28, 28, 28, 28, 8, 28, 28, 28, 0, 28, 27, 27, 27, 1, 27, 27, 20, 26, 26, 8, 25, 6, 25, 25, 25, 1, 25, 20, 25, 25, 25, 25, 25, 25, 24, 7, 24, 24, 24, 24, 11, 24, 24, 24, 24, 24, 24, 23, 23, 23, 1, 23, 23, 23, 23, 23, 23, 23, 8, 23, 23, 22, 22, 22, 2, 22, 22, 22, 10, 21, 21, 21, 21, 21, 21, 21, 21, 3, 21, 21, 20, 20, 20, 3, 20, 19, 19, 19, 18, 18, 18, 10, 8, 18, 8, 8, 17, 18, 18, 18, 18, 18, 18, 18, 18, 17, 17, 16, 3, 16, 17, 17, 17, 17, 8, 17, 1, 17, 16, 16, 16, 16, 16, 16, 8, 4, 16, 15, 3, 15, 15, 15, 14, 9, 4, 14, 14, 14, 14, 14, 8, 14, 14, 14, 14, 14, 14, 2, 9, 13, 13, 13, 5, 11, 11, 11, 11, 9, 11, 11, 10, 10, 10, 10, 10, 10, 10, 10, 10, 10, 10, 10, 10, 10, 7, 9, 9, 9, 0, 9, 9, 9, 9, 7, 8, 8, 7, 7, 7, 6, 6, 6, 6, 5, 5, 4, 4, 4, 3, 3, 3, 3, 3, 3, 3, 3, 3, 3, 2, 2, 2, 2, 2, 1, 1, 1, 1, 0, 0], \"yaxis\": \"y\"}],\n",
              "                        {\"coloraxis\": {\"colorbar\": {\"title\": {\"text\": \"Cluster\"}}, \"colorscale\": [[0.0, \"#440154\"], [0.1111111111111111, \"#482878\"], [0.2222222222222222, \"#3e4989\"], [0.3333333333333333, \"#31688e\"], [0.4444444444444444, \"#26828e\"], [0.5555555555555556, \"#1f9e89\"], [0.6666666666666666, \"#35b779\"], [0.7777777777777778, \"#6ece58\"], [0.8888888888888888, \"#b5de2b\"], [1.0, \"#fde725\"]]}, \"legend\": {\"tracegroupgap\": 0}, \"template\": {\"data\": {\"bar\": [{\"error_x\": {\"color\": \"rgb(36,36,36)\"}, \"error_y\": {\"color\": \"rgb(36,36,36)\"}, \"marker\": {\"line\": {\"color\": \"white\", \"width\": 0.5}}, \"type\": \"bar\"}], \"barpolar\": [{\"marker\": {\"line\": {\"color\": \"white\", \"width\": 0.5}}, \"type\": \"barpolar\"}], \"carpet\": [{\"aaxis\": {\"endlinecolor\": \"rgb(36,36,36)\", \"gridcolor\": \"white\", \"linecolor\": \"white\", \"minorgridcolor\": \"white\", \"startlinecolor\": \"rgb(36,36,36)\"}, \"baxis\": {\"endlinecolor\": \"rgb(36,36,36)\", \"gridcolor\": \"white\", \"linecolor\": \"white\", \"minorgridcolor\": \"white\", \"startlinecolor\": \"rgb(36,36,36)\"}, \"type\": \"carpet\"}], \"choropleth\": [{\"colorbar\": {\"outlinewidth\": 10, \"tickcolor\": \"rgb(36,36,36)\", \"ticklen\": 8, \"ticks\": \"outside\", \"tickwidth\": 2}, \"type\": \"choropleth\"}], \"contour\": [{\"colorbar\": {\"outlinewidth\": 10, \"tickcolor\": \"rgb(36,36,36)\", \"ticklen\": 8, \"ticks\": \"outside\", \"tickwidth\": 2}, \"colorscale\": [[0.0, \"#440154\"], [0.1111111111111111, \"#482878\"], [0.2222222222222222, \"#3e4989\"], [0.3333333333333333, \"#31688e\"], [0.4444444444444444, \"#26828e\"], [0.5555555555555556, \"#1f9e89\"], [0.6666666666666666, \"#35b779\"], [0.7777777777777778, \"#6ece58\"], [0.8888888888888888, \"#b5de2b\"], [1.0, \"#fde725\"]], \"type\": \"contour\"}], \"contourcarpet\": [{\"colorbar\": {\"outlinewidth\": 10, \"tickcolor\": \"rgb(36,36,36)\", \"ticklen\": 8, \"ticks\": \"outside\", \"tickwidth\": 2}, \"type\": \"contourcarpet\"}], \"heatmap\": [{\"colorbar\": {\"outlinewidth\": 10, \"tickcolor\": \"rgb(36,36,36)\", \"ticklen\": 8, \"ticks\": \"outside\", \"tickwidth\": 2}, \"colorscale\": [[0.0, \"#440154\"], [0.1111111111111111, \"#482878\"], [0.2222222222222222, \"#3e4989\"], [0.3333333333333333, \"#31688e\"], [0.4444444444444444, \"#26828e\"], [0.5555555555555556, \"#1f9e89\"], [0.6666666666666666, \"#35b779\"], [0.7777777777777778, \"#6ece58\"], [0.8888888888888888, \"#b5de2b\"], [1.0, \"#fde725\"]], \"type\": \"heatmap\"}], \"heatmapgl\": [{\"colorbar\": {\"outlinewidth\": 10, \"tickcolor\": \"rgb(36,36,36)\", \"ticklen\": 8, \"ticks\": \"outside\", \"tickwidth\": 2}, \"colorscale\": [[0.0, \"#440154\"], [0.1111111111111111, \"#482878\"], [0.2222222222222222, \"#3e4989\"], [0.3333333333333333, \"#31688e\"], [0.4444444444444444, \"#26828e\"], [0.5555555555555556, \"#1f9e89\"], [0.6666666666666666, \"#35b779\"], [0.7777777777777778, \"#6ece58\"], [0.8888888888888888, \"#b5de2b\"], [1.0, \"#fde725\"]], \"type\": \"heatmapgl\"}], \"histogram\": [{\"marker\": {\"line\": {\"color\": \"white\", \"width\": 0.6}}, \"type\": \"histogram\"}], \"histogram2d\": [{\"colorbar\": {\"outlinewidth\": 10, \"tickcolor\": \"rgb(36,36,36)\", \"ticklen\": 8, \"ticks\": \"outside\", \"tickwidth\": 2}, \"colorscale\": [[0.0, \"#440154\"], [0.1111111111111111, \"#482878\"], [0.2222222222222222, \"#3e4989\"], [0.3333333333333333, \"#31688e\"], [0.4444444444444444, \"#26828e\"], [0.5555555555555556, \"#1f9e89\"], [0.6666666666666666, \"#35b779\"], [0.7777777777777778, \"#6ece58\"], [0.8888888888888888, \"#b5de2b\"], [1.0, \"#fde725\"]], \"type\": \"histogram2d\"}], \"histogram2dcontour\": [{\"colorbar\": {\"outlinewidth\": 10, \"tickcolor\": \"rgb(36,36,36)\", \"ticklen\": 8, \"ticks\": \"outside\", \"tickwidth\": 2}, \"colorscale\": [[0.0, \"#440154\"], [0.1111111111111111, \"#482878\"], [0.2222222222222222, \"#3e4989\"], [0.3333333333333333, \"#31688e\"], [0.4444444444444444, \"#26828e\"], [0.5555555555555556, \"#1f9e89\"], [0.6666666666666666, \"#35b779\"], [0.7777777777777778, \"#6ece58\"], [0.8888888888888888, \"#b5de2b\"], [1.0, \"#fde725\"]], \"type\": \"histogram2dcontour\"}], \"mesh3d\": [{\"colorbar\": {\"outlinewidth\": 10, \"tickcolor\": \"rgb(36,36,36)\", \"ticklen\": 8, \"ticks\": \"outside\", \"tickwidth\": 2}, \"type\": \"mesh3d\"}], \"parcoords\": [{\"line\": {\"colorbar\": {\"outlinewidth\": 10, \"tickcolor\": \"rgb(36,36,36)\", \"ticklen\": 8, \"ticks\": \"outside\", \"tickwidth\": 2}}, \"type\": \"parcoords\"}], \"pie\": [{\"automargin\": true, \"type\": \"pie\"}], \"scatter\": [{\"marker\": {\"colorbar\": {\"outlinewidth\": 10, \"tickcolor\": \"rgb(36,36,36)\", \"ticklen\": 8, \"ticks\": \"outside\", \"tickwidth\": 2}}, \"type\": \"scatter\"}], \"scatter3d\": [{\"line\": {\"colorbar\": {\"outlinewidth\": 10, \"tickcolor\": \"rgb(36,36,36)\", \"ticklen\": 8, \"ticks\": \"outside\", \"tickwidth\": 2}}, \"marker\": {\"colorbar\": {\"outlinewidth\": 10, \"tickcolor\": \"rgb(36,36,36)\", \"ticklen\": 8, \"ticks\": \"outside\", \"tickwidth\": 2}}, \"type\": \"scatter3d\"}], \"scattercarpet\": [{\"marker\": {\"colorbar\": {\"outlinewidth\": 10, \"tickcolor\": \"rgb(36,36,36)\", \"ticklen\": 8, \"ticks\": \"outside\", \"tickwidth\": 2}}, \"type\": \"scattercarpet\"}], \"scattergeo\": [{\"marker\": {\"colorbar\": {\"outlinewidth\": 10, \"tickcolor\": \"rgb(36,36,36)\", \"ticklen\": 8, \"ticks\": \"outside\", \"tickwidth\": 2}}, \"type\": \"scattergeo\"}], \"scattergl\": [{\"marker\": {\"colorbar\": {\"outlinewidth\": 10, \"tickcolor\": \"rgb(36,36,36)\", \"ticklen\": 8, \"ticks\": \"outside\", \"tickwidth\": 2}}, \"type\": \"scattergl\"}], \"scattermapbox\": [{\"marker\": {\"colorbar\": {\"outlinewidth\": 10, \"tickcolor\": \"rgb(36,36,36)\", \"ticklen\": 8, \"ticks\": \"outside\", \"tickwidth\": 2}}, \"type\": \"scattermapbox\"}], \"scatterpolar\": [{\"marker\": {\"colorbar\": {\"outlinewidth\": 10, \"tickcolor\": \"rgb(36,36,36)\", \"ticklen\": 8, \"ticks\": \"outside\", \"tickwidth\": 2}}, \"type\": \"scatterpolar\"}], \"scatterpolargl\": [{\"marker\": {\"colorbar\": {\"outlinewidth\": 10, \"tickcolor\": \"rgb(36,36,36)\", \"ticklen\": 8, \"ticks\": \"outside\", \"tickwidth\": 2}}, \"type\": \"scatterpolargl\"}], \"scatterternary\": [{\"marker\": {\"colorbar\": {\"outlinewidth\": 10, \"tickcolor\": \"rgb(36,36,36)\", \"ticklen\": 8, \"ticks\": \"outside\", \"tickwidth\": 2}}, \"type\": \"scatterternary\"}], \"surface\": [{\"colorbar\": {\"outlinewidth\": 10, \"tickcolor\": \"rgb(36,36,36)\", \"ticklen\": 8, \"ticks\": \"outside\", \"tickwidth\": 2}, \"colorscale\": [[0.0, \"#440154\"], [0.1111111111111111, \"#482878\"], [0.2222222222222222, \"#3e4989\"], [0.3333333333333333, \"#31688e\"], [0.4444444444444444, \"#26828e\"], [0.5555555555555556, \"#1f9e89\"], [0.6666666666666666, \"#35b779\"], [0.7777777777777778, \"#6ece58\"], [0.8888888888888888, \"#b5de2b\"], [1.0, \"#fde725\"]], \"type\": \"surface\"}], \"table\": [{\"cells\": {\"fill\": {\"color\": \"rgb(237,237,237)\"}, \"line\": {\"color\": \"white\"}}, \"header\": {\"fill\": {\"color\": \"rgb(217,217,217)\"}, \"line\": {\"color\": \"white\"}}, \"type\": \"table\"}]}, \"layout\": {\"annotationdefaults\": {\"arrowhead\": 0, \"arrowwidth\": 1}, \"coloraxis\": {\"colorbar\": {\"outlinewidth\": 10, \"tickcolor\": \"rgb(36,36,36)\", \"ticklen\": 8, \"ticks\": \"outside\", \"tickwidth\": 2}}, \"colorscale\": {\"diverging\": [[0.0, \"rgb(103,0,31)\"], [0.1, \"rgb(178,24,43)\"], [0.2, \"rgb(214,96,77)\"], [0.3, \"rgb(244,165,130)\"], [0.4, \"rgb(253,219,199)\"], [0.5, \"rgb(247,247,247)\"], [0.6, \"rgb(209,229,240)\"], [0.7, \"rgb(146,197,222)\"], [0.8, \"rgb(67,147,195)\"], [0.9, \"rgb(33,102,172)\"], [1.0, \"rgb(5,48,97)\"]], \"sequential\": [[0.0, \"#440154\"], [0.1111111111111111, \"#482878\"], [0.2222222222222222, \"#3e4989\"], [0.3333333333333333, \"#31688e\"], [0.4444444444444444, \"#26828e\"], [0.5555555555555556, \"#1f9e89\"], [0.6666666666666666, \"#35b779\"], [0.7777777777777778, \"#6ece58\"], [0.8888888888888888, \"#b5de2b\"], [1.0, \"#fde725\"]], \"sequentialminus\": [[0.0, \"#440154\"], [0.1111111111111111, \"#482878\"], [0.2222222222222222, \"#3e4989\"], [0.3333333333333333, \"#31688e\"], [0.4444444444444444, \"#26828e\"], [0.5555555555555556, \"#1f9e89\"], [0.6666666666666666, \"#35b779\"], [0.7777777777777778, \"#6ece58\"], [0.8888888888888888, \"#b5de2b\"], [1.0, \"#fde725\"]]}, \"colorway\": [\"#1F77B4\", \"#FF7F0E\", \"#2CA02C\", \"#D62728\", \"#9467BD\", \"#8C564B\", \"#E377C2\", \"#7F7F7F\", \"#BCBD22\", \"#17BECF\"], \"font\": {\"color\": \"rgb(36,36,36)\"}, \"geo\": {\"bgcolor\": \"white\", \"lakecolor\": \"white\", \"landcolor\": \"white\", \"showlakes\": true, \"showland\": true, \"subunitcolor\": \"white\"}, \"hoverlabel\": {\"align\": \"left\"}, \"hovermode\": \"closest\", \"mapbox\": {\"style\": \"light\"}, \"paper_bgcolor\": \"white\", \"plot_bgcolor\": \"white\", \"polar\": {\"angularaxis\": {\"gridcolor\": \"rgb(232,232,232)\", \"linecolor\": \"rgb(36,36,36)\", \"showgrid\": false, \"showline\": true, \"ticks\": \"outside\"}, \"bgcolor\": \"white\", \"radialaxis\": {\"gridcolor\": \"rgb(232,232,232)\", \"linecolor\": \"rgb(36,36,36)\", \"showgrid\": false, \"showline\": true, \"ticks\": \"outside\"}}, \"scene\": {\"xaxis\": {\"backgroundcolor\": \"white\", \"gridcolor\": \"rgb(232,232,232)\", \"gridwidth\": 2, \"linecolor\": \"rgb(36,36,36)\", \"showbackground\": true, \"showgrid\": false, \"showline\": true, \"ticks\": \"outside\", \"zeroline\": false, \"zerolinecolor\": \"rgb(36,36,36)\"}, \"yaxis\": {\"backgroundcolor\": \"white\", \"gridcolor\": \"rgb(232,232,232)\", \"gridwidth\": 2, \"linecolor\": \"rgb(36,36,36)\", \"showbackground\": true, \"showgrid\": false, \"showline\": true, \"ticks\": \"outside\", \"zeroline\": false, \"zerolinecolor\": \"rgb(36,36,36)\"}, \"zaxis\": {\"backgroundcolor\": \"white\", \"gridcolor\": \"rgb(232,232,232)\", \"gridwidth\": 2, \"linecolor\": \"rgb(36,36,36)\", \"showbackground\": true, \"showgrid\": false, \"showline\": true, \"ticks\": \"outside\", \"zeroline\": false, \"zerolinecolor\": \"rgb(36,36,36)\"}}, \"shapedefaults\": {\"fillcolor\": \"black\", \"line\": {\"width\": 0}, \"opacity\": 0.3}, \"ternary\": {\"aaxis\": {\"gridcolor\": \"rgb(232,232,232)\", \"linecolor\": \"rgb(36,36,36)\", \"showgrid\": false, \"showline\": true, \"ticks\": \"outside\"}, \"baxis\": {\"gridcolor\": \"rgb(232,232,232)\", \"linecolor\": \"rgb(36,36,36)\", \"showgrid\": false, \"showline\": true, \"ticks\": \"outside\"}, \"bgcolor\": \"white\", \"caxis\": {\"gridcolor\": \"rgb(232,232,232)\", \"linecolor\": \"rgb(36,36,36)\", \"showgrid\": false, \"showline\": true, \"ticks\": \"outside\"}}, \"title\": {\"x\": 0.05}, \"xaxis\": {\"automargin\": true, \"gridcolor\": \"rgb(232,232,232)\", \"linecolor\": \"rgb(36,36,36)\", \"showgrid\": false, \"showline\": true, \"ticks\": \"outside\", \"title\": {\"standoff\": 15}, \"zeroline\": false, \"zerolinecolor\": \"rgb(36,36,36)\"}, \"yaxis\": {\"automargin\": true, \"gridcolor\": \"rgb(232,232,232)\", \"linecolor\": \"rgb(36,36,36)\", \"showgrid\": false, \"showline\": true, \"ticks\": \"outside\", \"title\": {\"standoff\": 15}, \"zeroline\": false, \"zerolinecolor\": \"rgb(36,36,36)\"}}}, \"title\": {\"text\": \"Wizualizacja klastr\\u00f3w\"}, \"width\": 950, \"xaxis\": {\"anchor\": \"y\", \"domain\": [0.0, 1.0], \"title\": {\"text\": \"CustomerID\"}}, \"yaxis\": {\"anchor\": \"x\", \"domain\": [0.0, 1.0], \"title\": {\"text\": \"Retention\"}}},\n",
              "                        {\"responsive\": true}\n",
              "                    ).then(function(){\n",
              "                            \n",
              "var gd = document.getElementById('90a8ca14-6e61-44db-99c5-96505e22a5f6');\n",
              "var x = new MutationObserver(function (mutations, observer) {{\n",
              "        var display = window.getComputedStyle(gd).display;\n",
              "        if (!display || display === 'none') {{\n",
              "            console.log([gd, 'removed!']);\n",
              "            Plotly.purge(gd);\n",
              "            observer.disconnect();\n",
              "        }}\n",
              "}});\n",
              "\n",
              "// Listen for the removal of the full notebook cells\n",
              "var notebookContainer = gd.closest('#notebook-container');\n",
              "if (notebookContainer) {{\n",
              "    x.observe(notebookContainer, {childList: true});\n",
              "}}\n",
              "\n",
              "// Listen for the clearing of the current output cell\n",
              "var outputEl = gd.closest('.output');\n",
              "if (outputEl) {{\n",
              "    x.observe(outputEl, {childList: true});\n",
              "}}\n",
              "\n",
              "                        })\n",
              "                };\n",
              "                \n",
              "            </script>\n",
              "        </div>\n",
              "</body>\n",
              "</html>"
            ]
          },
          "metadata": {
            "tags": []
          }
        }
      ]
    },
    {
      "cell_type": "markdown",
      "metadata": {
        "id": "RfFo4eeX918C"
      },
      "source": [
        "#### Sprzedaż"
      ]
    },
    {
      "cell_type": "code",
      "metadata": {
        "id": "9wXY1-pX9xSD"
      },
      "source": [
        ""
      ],
      "execution_count": null,
      "outputs": []
    }
  ]
}